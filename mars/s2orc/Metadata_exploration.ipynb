{
 "cells": [
  {
   "cell_type": "code",
   "execution_count": 1,
   "id": "b72b6163",
   "metadata": {},
   "outputs": [],
   "source": [
    "import pandas as pd"
   ]
  },
  {
   "cell_type": "code",
   "execution_count": 3,
   "id": "acbc284f",
   "metadata": {},
   "outputs": [],
   "source": [
    "df_metadata=pd.DataFrame()\n",
    "for i in range(0,100):\n",
    "    str= f'metadata/ai/metadata_{i}.jsonl'\n",
    "    md = pd.read_json(path_or_buf=str, lines=True)\n",
    "   # print(i, md.shape)\n",
    "    df_metadata = df_metadata.append(md, ignore_index = True)"
   ]
  },
  {
   "cell_type": "code",
   "execution_count": 4,
   "id": "10c20672",
   "metadata": {},
   "outputs": [
    {
     "data": {
      "text/plain": [
       "(97584, 25)"
      ]
     },
     "execution_count": 4,
     "metadata": {},
     "output_type": "execute_result"
    }
   ],
   "source": [
    "df_metadata.shape"
   ]
  },
  {
   "cell_type": "code",
   "execution_count": 5,
   "id": "8f1e0ae6",
   "metadata": {},
   "outputs": [],
   "source": [
    "df_metadata.rename(columns = {'outbound_citations':'references','has_outbound_citations': 'has_references', 'inbound_citations':'citations', 'has_inbound_citations': 'has_citations'}, inplace = True)"
   ]
  },
  {
   "cell_type": "code",
   "execution_count": 6,
   "id": "5bdc1df1",
   "metadata": {},
   "outputs": [
    {
     "name": "stdout",
     "output_type": "stream",
     "text": [
      "<class 'pandas.core.frame.DataFrame'>\n",
      "RangeIndex: 97584 entries, 0 to 97583\n",
      "Data columns (total 25 columns):\n",
      " #   Column                      Non-Null Count  Dtype  \n",
      "---  ------                      --------------  -----  \n",
      " 0   paper_id                    97584 non-null  int64  \n",
      " 1   title                       97584 non-null  object \n",
      " 2   authors                     97584 non-null  object \n",
      " 3   abstract                    84627 non-null  object \n",
      " 4   year                        94911 non-null  float64\n",
      " 5   arxiv_id                    6538 non-null   object \n",
      " 6   acl_id                      1097 non-null   object \n",
      " 7   pmc_id                      3464 non-null   object \n",
      " 8   pubmed_id                   7583 non-null   float64\n",
      " 9   doi                         69903 non-null  object \n",
      " 10  venue                       62491 non-null  object \n",
      " 11  journal                     66347 non-null  object \n",
      " 12  has_pdf_body_text           57717 non-null  float64\n",
      " 13  mag_id                      93024 non-null  object \n",
      " 14  mag_field_of_study          93713 non-null  object \n",
      " 15  references                  97584 non-null  object \n",
      " 16  citations                   97584 non-null  object \n",
      " 17  has_references              97584 non-null  bool   \n",
      " 18  has_citations               97584 non-null  bool   \n",
      " 19  has_pdf_parse               97584 non-null  bool   \n",
      " 20  has_pdf_parsed_abstract     57717 non-null  float64\n",
      " 21  has_pdf_parsed_body_text    57717 non-null  float64\n",
      " 22  has_pdf_parsed_bib_entries  57717 non-null  float64\n",
      " 23  has_pdf_parsed_ref_entries  57717 non-null  float64\n",
      " 24  s2_url                      97584 non-null  object \n",
      "dtypes: bool(3), float64(7), int64(1), object(14)\n",
      "memory usage: 16.7+ MB\n"
     ]
    }
   ],
   "source": [
    "df_metadata.info()"
   ]
  },
  {
   "cell_type": "code",
   "execution_count": 7,
   "id": "403eb3aa",
   "metadata": {},
   "outputs": [
    {
     "data": {
      "text/plain": [
       "paper_id                          0\n",
       "title                             0\n",
       "authors                           0\n",
       "abstract                      12957\n",
       "year                           2673\n",
       "arxiv_id                      91046\n",
       "acl_id                        96487\n",
       "pmc_id                        94120\n",
       "pubmed_id                     90001\n",
       "doi                           27681\n",
       "venue                         35093\n",
       "journal                       31237\n",
       "has_pdf_body_text             39867\n",
       "mag_id                         4560\n",
       "mag_field_of_study             3871\n",
       "references                        0\n",
       "citations                         0\n",
       "has_references                    0\n",
       "has_citations                     0\n",
       "has_pdf_parse                     0\n",
       "has_pdf_parsed_abstract       39867\n",
       "has_pdf_parsed_body_text      39867\n",
       "has_pdf_parsed_bib_entries    39867\n",
       "has_pdf_parsed_ref_entries    39867\n",
       "s2_url                            0\n",
       "dtype: int64"
      ]
     },
     "execution_count": 7,
     "metadata": {},
     "output_type": "execute_result"
    }
   ],
   "source": [
    "df_metadata.isna().sum()"
   ]
  },
  {
   "cell_type": "code",
   "execution_count": 8,
   "id": "1a9e469d",
   "metadata": {},
   "outputs": [
    {
     "data": {
      "text/plain": [
       "{'abstract': 0.13277791441219872,\n",
       " 'year': 0.02739178553861289,\n",
       " 'arxiv_id': 0.9330013116904411,\n",
       " 'acl_id': 0.988758403016888,\n",
       " 'pmc_id': 0.9645023774389244,\n",
       " 'pubmed_id': 0.922292588949008,\n",
       " 'doi': 0.2836633054599115,\n",
       " 'venue': 0.3596183800623053,\n",
       " 'journal': 0.320103705525496,\n",
       " 'has_pdf_body_text': 0.4085403344810625,\n",
       " 'mag_id': 0.04672897196261682,\n",
       " 'mag_field_of_study': 0.03966838826037055,\n",
       " 'has_pdf_parsed_abstract': 0.4085403344810625,\n",
       " 'has_pdf_parsed_body_text': 0.4085403344810625,\n",
       " 'has_pdf_parsed_bib_entries': 0.4085403344810625,\n",
       " 'has_pdf_parsed_ref_entries': 0.4085403344810625}"
      ]
     },
     "execution_count": 8,
     "metadata": {},
     "output_type": "execute_result"
    }
   ],
   "source": [
    "dic_in=df_metadata.isna().sum()/df_metadata.shape[0]\n",
    "dic_out = {x:y for x,y in dic_in.items() if y!=0}\n",
    "dic_out"
   ]
  },
  {
   "cell_type": "code",
   "execution_count": 9,
   "id": "efb6a74a",
   "metadata": {},
   "outputs": [
    {
     "data": {
      "image/png": "[encoded data removed]",
      "text/plain": [
       "<Figure size 2880x720 with 1 Axes>"
      ]
     },
     "metadata": {
      "needs_background": "light"
     },
     "output_type": "display_data"
    }
   ],
   "source": [
    "import matplotlib.pyplot as plt\n",
    "from matplotlib.pyplot import figure\n",
    "figure(figsize=(40, 10))\n",
    "\n",
    "plt.bar(dic_out.keys(), dic_out.values())\n",
    "plt.show()"
   ]
  },
  {
   "cell_type": "code",
   "execution_count": 10,
   "id": "9ca683a5",
   "metadata": {},
   "outputs": [
    {
     "data": {
      "text/plain": [
       "True     54791\n",
       "False    42793\n",
       "Name: has_references, dtype: int64"
      ]
     },
     "execution_count": 10,
     "metadata": {},
     "output_type": "execute_result"
    }
   ],
   "source": [
    "df_metadata.has_references.value_counts()"
   ]
  },
  {
   "cell_type": "code",
   "execution_count": 11,
   "id": "4cb67951",
   "metadata": {},
   "outputs": [
    {
     "data": {
      "text/plain": [
       "True     51305\n",
       "False    46279\n",
       "Name: has_citations, dtype: int64"
      ]
     },
     "execution_count": 11,
     "metadata": {},
     "output_type": "execute_result"
    }
   ],
   "source": [
    "df_metadata.has_citations.value_counts()"
   ]
  },
  {
   "cell_type": "code",
   "execution_count": 12,
   "id": "2e466dda",
   "metadata": {},
   "outputs": [
    {
     "data": {
      "text/html": [
       "<div>\n",
       "<style scoped>\n",
       "    .dataframe tbody tr th:only-of-type {\n",
       "        vertical-align: middle;\n",
       "    }\n",
       "\n",
       "    .dataframe tbody tr th {\n",
       "        vertical-align: top;\n",
       "    }\n",
       "\n",
       "    .dataframe thead th {\n",
       "        text-align: right;\n",
       "    }\n",
       "</style>\n",
       "<table border=\"1\" class=\"dataframe\">\n",
       "  <thead>\n",
       "    <tr style=\"text-align: right;\">\n",
       "      <th></th>\n",
       "      <th>paper_id</th>\n",
       "      <th>title</th>\n",
       "      <th>authors</th>\n",
       "      <th>abstract</th>\n",
       "      <th>year</th>\n",
       "      <th>arxiv_id</th>\n",
       "      <th>acl_id</th>\n",
       "      <th>pmc_id</th>\n",
       "      <th>pubmed_id</th>\n",
       "      <th>doi</th>\n",
       "      <th>...</th>\n",
       "      <th>references</th>\n",
       "      <th>citations</th>\n",
       "      <th>has_references</th>\n",
       "      <th>has_citations</th>\n",
       "      <th>has_pdf_parse</th>\n",
       "      <th>has_pdf_parsed_abstract</th>\n",
       "      <th>has_pdf_parsed_body_text</th>\n",
       "      <th>has_pdf_parsed_bib_entries</th>\n",
       "      <th>has_pdf_parsed_ref_entries</th>\n",
       "      <th>s2_url</th>\n",
       "    </tr>\n",
       "  </thead>\n",
       "  <tbody>\n",
       "    <tr>\n",
       "      <th>0</th>\n",
       "      <td>18984674</td>\n",
       "      <td>A fast structured regression for large networks</td>\n",
       "      <td>[{'first': 'Fang', 'middle': [], 'last': 'Zhou...</td>\n",
       "      <td>Structured regression has been successfully us...</td>\n",
       "      <td>2016.0</td>\n",
       "      <td>NaN</td>\n",
       "      <td>None</td>\n",
       "      <td>None</td>\n",
       "      <td>NaN</td>\n",
       "      <td>10.1109/BigData.2016.7840594</td>\n",
       "      <td>...</td>\n",
       "      <td>[118695096, 1480192, 1767868, 13045471, 102455...</td>\n",
       "      <td>[8018578, 202540676]</td>\n",
       "      <td>True</td>\n",
       "      <td>True</td>\n",
       "      <td>True</td>\n",
       "      <td>0.0</td>\n",
       "      <td>0.0</td>\n",
       "      <td>1.0</td>\n",
       "      <td>0.0</td>\n",
       "      <td>https://api.semanticscholar.org/CorpusID:18984674</td>\n",
       "    </tr>\n",
       "    <tr>\n",
       "      <th>1</th>\n",
       "      <td>199668943</td>\n",
       "      <td>3D Human Pose Estimation under limited supervi...</td>\n",
       "      <td>[{'first': 'Rahul', 'middle': [], 'last': 'Mit...</td>\n",
       "      <td>Estimating 3D human pose from monocular images...</td>\n",
       "      <td>2019.0</td>\n",
       "      <td>1908.05293</td>\n",
       "      <td>None</td>\n",
       "      <td>None</td>\n",
       "      <td>NaN</td>\n",
       "      <td>None</td>\n",
       "      <td>...</td>\n",
       "      <td>[206592419, 2087262, 84843959, 121923341, 8281...</td>\n",
       "      <td>[209854462]</td>\n",
       "      <td>True</td>\n",
       "      <td>True</td>\n",
       "      <td>True</td>\n",
       "      <td>1.0</td>\n",
       "      <td>1.0</td>\n",
       "      <td>1.0</td>\n",
       "      <td>1.0</td>\n",
       "      <td>https://api.semanticscholar.org/CorpusID:19966...</td>\n",
       "    </tr>\n",
       "    <tr>\n",
       "      <th>2</th>\n",
       "      <td>199669259</td>\n",
       "      <td>Label Propagation Ensemble for Hyperspectral I...</td>\n",
       "      <td>[{'first': 'Youqiang', 'middle': [], 'last': '...</td>\n",
       "      <td>The imbalance between limited labeled pixels a...</td>\n",
       "      <td>2019.0</td>\n",
       "      <td>NaN</td>\n",
       "      <td>None</td>\n",
       "      <td>None</td>\n",
       "      <td>NaN</td>\n",
       "      <td>10.1109/JSTARS.2019.2926123</td>\n",
       "      <td>...</td>\n",
       "      <td>[54451996, 20512632, 46275095, 17894508, 54454...</td>\n",
       "      <td>[]</td>\n",
       "      <td>True</td>\n",
       "      <td>False</td>\n",
       "      <td>True</td>\n",
       "      <td>0.0</td>\n",
       "      <td>0.0</td>\n",
       "      <td>1.0</td>\n",
       "      <td>0.0</td>\n",
       "      <td>https://api.semanticscholar.org/CorpusID:19966...</td>\n",
       "    </tr>\n",
       "    <tr>\n",
       "      <th>3</th>\n",
       "      <td>17786002</td>\n",
       "      <td>FFPred 3: feature-based function prediction fo...</td>\n",
       "      <td>[{'first': 'Domenico', 'middle': [], 'last': '...</td>\n",
       "      <td>Predicting protein function has been a major g...</td>\n",
       "      <td>2016.0</td>\n",
       "      <td>NaN</td>\n",
       "      <td>None</td>\n",
       "      <td>PMC4999993</td>\n",
       "      <td>27561554.0</td>\n",
       "      <td>10.1038/srep31865</td>\n",
       "      <td>...</td>\n",
       "      <td>[5913602, 2682835, 26580409, 1298380, 13621547...</td>\n",
       "      <td>[3813773, 21709767, 3517624, 53712748, 2109381...</td>\n",
       "      <td>True</td>\n",
       "      <td>True</td>\n",
       "      <td>True</td>\n",
       "      <td>1.0</td>\n",
       "      <td>1.0</td>\n",
       "      <td>1.0</td>\n",
       "      <td>1.0</td>\n",
       "      <td>https://api.semanticscholar.org/CorpusID:17786002</td>\n",
       "    </tr>\n",
       "    <tr>\n",
       "      <th>4</th>\n",
       "      <td>124527934</td>\n",
       "      <td>Influence of SVR Parameter on Non-linear Funct...</td>\n",
       "      <td>[{'first': 'Wang', 'middle': [], 'last': 'Xi-l...</td>\n",
       "      <td>The theoretical study and experimental demonst...</td>\n",
       "      <td>2011.0</td>\n",
       "      <td>NaN</td>\n",
       "      <td>None</td>\n",
       "      <td>None</td>\n",
       "      <td>NaN</td>\n",
       "      <td>None</td>\n",
       "      <td>...</td>\n",
       "      <td>[]</td>\n",
       "      <td>[45645372, 83461167, 27871023]</td>\n",
       "      <td>False</td>\n",
       "      <td>True</td>\n",
       "      <td>False</td>\n",
       "      <td>NaN</td>\n",
       "      <td>NaN</td>\n",
       "      <td>NaN</td>\n",
       "      <td>NaN</td>\n",
       "      <td>https://api.semanticscholar.org/CorpusID:12452...</td>\n",
       "    </tr>\n",
       "    <tr>\n",
       "      <th>...</th>\n",
       "      <td>...</td>\n",
       "      <td>...</td>\n",
       "      <td>...</td>\n",
       "      <td>...</td>\n",
       "      <td>...</td>\n",
       "      <td>...</td>\n",
       "      <td>...</td>\n",
       "      <td>...</td>\n",
       "      <td>...</td>\n",
       "      <td>...</td>\n",
       "      <td>...</td>\n",
       "      <td>...</td>\n",
       "      <td>...</td>\n",
       "      <td>...</td>\n",
       "      <td>...</td>\n",
       "      <td>...</td>\n",
       "      <td>...</td>\n",
       "      <td>...</td>\n",
       "      <td>...</td>\n",
       "      <td>...</td>\n",
       "      <td>...</td>\n",
       "    </tr>\n",
       "    <tr>\n",
       "      <th>97579</th>\n",
       "      <td>59337573</td>\n",
       "      <td>Spatiotemporal Representation Learning for Tra...</td>\n",
       "      <td>[{'first': 'Tieyun', 'middle': [], 'last': 'Qi...</td>\n",
       "      <td>The increasing proliferation of location-based...</td>\n",
       "      <td>2019.0</td>\n",
       "      <td>NaN</td>\n",
       "      <td>None</td>\n",
       "      <td>None</td>\n",
       "      <td>NaN</td>\n",
       "      <td>10.1145/3295499</td>\n",
       "      <td>...</td>\n",
       "      <td>[58792962, 9095914, 51609740, 8785978, 9091060...</td>\n",
       "      <td>[211068921, 164212183, 211526208, 210929990, 2...</td>\n",
       "      <td>True</td>\n",
       "      <td>True</td>\n",
       "      <td>True</td>\n",
       "      <td>0.0</td>\n",
       "      <td>0.0</td>\n",
       "      <td>1.0</td>\n",
       "      <td>0.0</td>\n",
       "      <td>https://api.semanticscholar.org/CorpusID:59337573</td>\n",
       "    </tr>\n",
       "    <tr>\n",
       "      <th>97580</th>\n",
       "      <td>13013603</td>\n",
       "      <td>Research on the Algorithm of Pedestrian Recogn...</td>\n",
       "      <td>[{'first': 'Ying', 'middle': [], 'last': 'Yang...</td>\n",
       "      <td>After extracting the candidate region from an ...</td>\n",
       "      <td>2012.0</td>\n",
       "      <td>NaN</td>\n",
       "      <td>None</td>\n",
       "      <td>None</td>\n",
       "      <td>NaN</td>\n",
       "      <td>10.1109/DCABES.2012.108</td>\n",
       "      <td>...</td>\n",
       "      <td>[38288198, 110116406]</td>\n",
       "      <td>[198334693, 14520202]</td>\n",
       "      <td>True</td>\n",
       "      <td>True</td>\n",
       "      <td>True</td>\n",
       "      <td>0.0</td>\n",
       "      <td>0.0</td>\n",
       "      <td>1.0</td>\n",
       "      <td>0.0</td>\n",
       "      <td>https://api.semanticscholar.org/CorpusID:13013603</td>\n",
       "    </tr>\n",
       "    <tr>\n",
       "      <th>97581</th>\n",
       "      <td>45846893</td>\n",
       "      <td>A coefficient comparison of weighted similarit...</td>\n",
       "      <td>[{'first': 'Wasu', 'middle': [], 'last': 'Kudi...</td>\n",
       "      <td>Machine learning techniques are becoming popul...</td>\n",
       "      <td>2016.0</td>\n",
       "      <td>NaN</td>\n",
       "      <td>None</td>\n",
       "      <td>None</td>\n",
       "      <td>NaN</td>\n",
       "      <td>10.1109/KST.2016.7440525</td>\n",
       "      <td>...</td>\n",
       "      <td>[117506064, 46373712, 10464157, 14425461, 2394...</td>\n",
       "      <td>[4884708]</td>\n",
       "      <td>True</td>\n",
       "      <td>True</td>\n",
       "      <td>True</td>\n",
       "      <td>0.0</td>\n",
       "      <td>0.0</td>\n",
       "      <td>1.0</td>\n",
       "      <td>0.0</td>\n",
       "      <td>https://api.semanticscholar.org/CorpusID:45846893</td>\n",
       "    </tr>\n",
       "    <tr>\n",
       "      <th>97582</th>\n",
       "      <td>19939515</td>\n",
       "      <td>The appropriateness of predicate invention as ...</td>\n",
       "      <td>[{'first': 'Irene', 'middle': [], 'last': 'Sta...</td>\n",
       "      <td>The task of predicate invention in Inductive L...</td>\n",
       "      <td>2004.0</td>\n",
       "      <td>NaN</td>\n",
       "      <td>None</td>\n",
       "      <td>None</td>\n",
       "      <td>NaN</td>\n",
       "      <td>10.1007/BF00993476</td>\n",
       "      <td>...</td>\n",
       "      <td>[16136188, 2884276, 18510804, 12395063, 124389...</td>\n",
       "      <td>[]</td>\n",
       "      <td>True</td>\n",
       "      <td>False</td>\n",
       "      <td>True</td>\n",
       "      <td>1.0</td>\n",
       "      <td>1.0</td>\n",
       "      <td>1.0</td>\n",
       "      <td>1.0</td>\n",
       "      <td>https://api.semanticscholar.org/CorpusID:19939515</td>\n",
       "    </tr>\n",
       "    <tr>\n",
       "      <th>97583</th>\n",
       "      <td>126350289</td>\n",
       "      <td>Strip Steel Surface Defects Detection Based on...</td>\n",
       "      <td>[{'first': 'Hou', 'middle': [], 'last': 'Jingz...</td>\n",
       "      <td>None</td>\n",
       "      <td>2016.0</td>\n",
       "      <td>NaN</td>\n",
       "      <td>None</td>\n",
       "      <td>None</td>\n",
       "      <td>NaN</td>\n",
       "      <td>10.1166/jctn.2016.5515</td>\n",
       "      <td>...</td>\n",
       "      <td>[]</td>\n",
       "      <td>[]</td>\n",
       "      <td>False</td>\n",
       "      <td>False</td>\n",
       "      <td>False</td>\n",
       "      <td>NaN</td>\n",
       "      <td>NaN</td>\n",
       "      <td>NaN</td>\n",
       "      <td>NaN</td>\n",
       "      <td>https://api.semanticscholar.org/CorpusID:12635...</td>\n",
       "    </tr>\n",
       "  </tbody>\n",
       "</table>\n",
       "<p>97584 rows × 25 columns</p>\n",
       "</div>"
      ],
      "text/plain": [
       "        paper_id                                              title  \\\n",
       "0       18984674    A fast structured regression for large networks   \n",
       "1      199668943  3D Human Pose Estimation under limited supervi...   \n",
       "2      199669259  Label Propagation Ensemble for Hyperspectral I...   \n",
       "3       17786002  FFPred 3: feature-based function prediction fo...   \n",
       "4      124527934  Influence of SVR Parameter on Non-linear Funct...   \n",
       "...          ...                                                ...   \n",
       "97579   59337573  Spatiotemporal Representation Learning for Tra...   \n",
       "97580   13013603  Research on the Algorithm of Pedestrian Recogn...   \n",
       "97581   45846893  A coefficient comparison of weighted similarit...   \n",
       "97582   19939515  The appropriateness of predicate invention as ...   \n",
       "97583  126350289  Strip Steel Surface Defects Detection Based on...   \n",
       "\n",
       "                                                 authors  \\\n",
       "0      [{'first': 'Fang', 'middle': [], 'last': 'Zhou...   \n",
       "1      [{'first': 'Rahul', 'middle': [], 'last': 'Mit...   \n",
       "2      [{'first': 'Youqiang', 'middle': [], 'last': '...   \n",
       "3      [{'first': 'Domenico', 'middle': [], 'last': '...   \n",
       "4      [{'first': 'Wang', 'middle': [], 'last': 'Xi-l...   \n",
       "...                                                  ...   \n",
       "97579  [{'first': 'Tieyun', 'middle': [], 'last': 'Qi...   \n",
       "97580  [{'first': 'Ying', 'middle': [], 'last': 'Yang...   \n",
       "97581  [{'first': 'Wasu', 'middle': [], 'last': 'Kudi...   \n",
       "97582  [{'first': 'Irene', 'middle': [], 'last': 'Sta...   \n",
       "97583  [{'first': 'Hou', 'middle': [], 'last': 'Jingz...   \n",
       "\n",
       "                                                abstract    year    arxiv_id  \\\n",
       "0      Structured regression has been successfully us...  2016.0         NaN   \n",
       "1      Estimating 3D human pose from monocular images...  2019.0  1908.05293   \n",
       "2      The imbalance between limited labeled pixels a...  2019.0         NaN   \n",
       "3      Predicting protein function has been a major g...  2016.0         NaN   \n",
       "4      The theoretical study and experimental demonst...  2011.0         NaN   \n",
       "...                                                  ...     ...         ...   \n",
       "97579  The increasing proliferation of location-based...  2019.0         NaN   \n",
       "97580  After extracting the candidate region from an ...  2012.0         NaN   \n",
       "97581  Machine learning techniques are becoming popul...  2016.0         NaN   \n",
       "97582  The task of predicate invention in Inductive L...  2004.0         NaN   \n",
       "97583                                               None  2016.0         NaN   \n",
       "\n",
       "      acl_id      pmc_id   pubmed_id                           doi  ...  \\\n",
       "0       None        None         NaN  10.1109/BigData.2016.7840594  ...   \n",
       "1       None        None         NaN                          None  ...   \n",
       "2       None        None         NaN   10.1109/JSTARS.2019.2926123  ...   \n",
       "3       None  PMC4999993  27561554.0             10.1038/srep31865  ...   \n",
       "4       None        None         NaN                          None  ...   \n",
       "...      ...         ...         ...                           ...  ...   \n",
       "97579   None        None         NaN               10.1145/3295499  ...   \n",
       "97580   None        None         NaN       10.1109/DCABES.2012.108  ...   \n",
       "97581   None        None         NaN      10.1109/KST.2016.7440525  ...   \n",
       "97582   None        None         NaN            10.1007/BF00993476  ...   \n",
       "97583   None        None         NaN        10.1166/jctn.2016.5515  ...   \n",
       "\n",
       "                                              references  \\\n",
       "0      [118695096, 1480192, 1767868, 13045471, 102455...   \n",
       "1      [206592419, 2087262, 84843959, 121923341, 8281...   \n",
       "2      [54451996, 20512632, 46275095, 17894508, 54454...   \n",
       "3      [5913602, 2682835, 26580409, 1298380, 13621547...   \n",
       "4                                                     []   \n",
       "...                                                  ...   \n",
       "97579  [58792962, 9095914, 51609740, 8785978, 9091060...   \n",
       "97580                              [38288198, 110116406]   \n",
       "97581  [117506064, 46373712, 10464157, 14425461, 2394...   \n",
       "97582  [16136188, 2884276, 18510804, 12395063, 124389...   \n",
       "97583                                                 []   \n",
       "\n",
       "                                               citations  has_references  \\\n",
       "0                                   [8018578, 202540676]            True   \n",
       "1                                            [209854462]            True   \n",
       "2                                                     []            True   \n",
       "3      [3813773, 21709767, 3517624, 53712748, 2109381...            True   \n",
       "4                         [45645372, 83461167, 27871023]           False   \n",
       "...                                                  ...             ...   \n",
       "97579  [211068921, 164212183, 211526208, 210929990, 2...            True   \n",
       "97580                              [198334693, 14520202]            True   \n",
       "97581                                          [4884708]            True   \n",
       "97582                                                 []            True   \n",
       "97583                                                 []           False   \n",
       "\n",
       "      has_citations has_pdf_parse has_pdf_parsed_abstract  \\\n",
       "0              True          True                     0.0   \n",
       "1              True          True                     1.0   \n",
       "2             False          True                     0.0   \n",
       "3              True          True                     1.0   \n",
       "4              True         False                     NaN   \n",
       "...             ...           ...                     ...   \n",
       "97579          True          True                     0.0   \n",
       "97580          True          True                     0.0   \n",
       "97581          True          True                     0.0   \n",
       "97582         False          True                     1.0   \n",
       "97583         False         False                     NaN   \n",
       "\n",
       "      has_pdf_parsed_body_text  has_pdf_parsed_bib_entries  \\\n",
       "0                          0.0                         1.0   \n",
       "1                          1.0                         1.0   \n",
       "2                          0.0                         1.0   \n",
       "3                          1.0                         1.0   \n",
       "4                          NaN                         NaN   \n",
       "...                        ...                         ...   \n",
       "97579                      0.0                         1.0   \n",
       "97580                      0.0                         1.0   \n",
       "97581                      0.0                         1.0   \n",
       "97582                      1.0                         1.0   \n",
       "97583                      NaN                         NaN   \n",
       "\n",
       "       has_pdf_parsed_ref_entries  \\\n",
       "0                             0.0   \n",
       "1                             1.0   \n",
       "2                             0.0   \n",
       "3                             1.0   \n",
       "4                             NaN   \n",
       "...                           ...   \n",
       "97579                         0.0   \n",
       "97580                         0.0   \n",
       "97581                         0.0   \n",
       "97582                         1.0   \n",
       "97583                         NaN   \n",
       "\n",
       "                                                  s2_url  \n",
       "0      https://api.semanticscholar.org/CorpusID:18984674  \n",
       "1      https://api.semanticscholar.org/CorpusID:19966...  \n",
       "2      https://api.semanticscholar.org/CorpusID:19966...  \n",
       "3      https://api.semanticscholar.org/CorpusID:17786002  \n",
       "4      https://api.semanticscholar.org/CorpusID:12452...  \n",
       "...                                                  ...  \n",
       "97579  https://api.semanticscholar.org/CorpusID:59337573  \n",
       "97580  https://api.semanticscholar.org/CorpusID:13013603  \n",
       "97581  https://api.semanticscholar.org/CorpusID:45846893  \n",
       "97582  https://api.semanticscholar.org/CorpusID:19939515  \n",
       "97583  https://api.semanticscholar.org/CorpusID:12635...  \n",
       "\n",
       "[97584 rows x 25 columns]"
      ]
     },
     "execution_count": 12,
     "metadata": {},
     "output_type": "execute_result"
    }
   ],
   "source": [
    "df_metadata"
   ]
  },
  {
   "cell_type": "code",
   "execution_count": 13,
   "id": "23ea6fdb",
   "metadata": {},
   "outputs": [
    {
     "data": {
      "text/plain": [
       "1025.0"
      ]
     },
     "execution_count": 13,
     "metadata": {},
     "output_type": "execute_result"
    }
   ],
   "source": [
    "df_metadata['year'].min()\n"
   ]
  },
  {
   "cell_type": "code",
   "execution_count": 14,
   "id": "52f6d57c",
   "metadata": {},
   "outputs": [],
   "source": [
    "years=df_metadata['year'].value_counts()\n",
    "#wykresik- ciąć do 2019, jak to zrobili -> jak tabstarkty rozkładają się w czasie"
   ]
  },
  {
   "cell_type": "code",
   "execution_count": 15,
   "id": "b84e96e6",
   "metadata": {
    "scrolled": true
   },
   "outputs": [
    {
     "data": {
      "text/plain": [
       "<AxesSubplot:title={'center':'Liczba artykułów w kolejnych latach'}>"
      ]
     },
     "execution_count": 15,
     "metadata": {},
     "output_type": "execute_result"
    },
    {
     "data": {
      "image/png": "[encoded data removed]",
      "text/plain": [
       "<Figure size 1080x720 with 1 Axes>"
      ]
     },
     "metadata": {
      "needs_background": "light"
     },
     "output_type": "display_data"
    }
   ],
   "source": [
    "years.sort_index().plot(kind='bar', figsize=(15,10), title=\"Liczba artykułów w kolejnych latach\")\n"
   ]
  },
  {
   "cell_type": "markdown",
   "id": "e1a2bd87",
   "metadata": {},
   "source": [
    "## referencje=outbound"
   ]
  },
  {
   "cell_type": "code",
   "execution_count": 16,
   "id": "1b19ba5c",
   "metadata": {},
   "outputs": [],
   "source": [
    "count_references = pd.Series([x for item in df_metadata['references'] for x in item]).value_counts()"
   ]
  },
  {
   "cell_type": "code",
   "execution_count": 18,
   "id": "009fd19f",
   "metadata": {},
   "outputs": [
    {
     "data": {
      "text/html": [
       "<div>\n",
       "<style scoped>\n",
       "    .dataframe tbody tr th:only-of-type {\n",
       "        vertical-align: middle;\n",
       "    }\n",
       "\n",
       "    .dataframe tbody tr th {\n",
       "        vertical-align: top;\n",
       "    }\n",
       "\n",
       "    .dataframe thead th {\n",
       "        text-align: right;\n",
       "    }\n",
       "</style>\n",
       "<table border=\"1\" class=\"dataframe\">\n",
       "  <thead>\n",
       "    <tr style=\"text-align: right;\">\n",
       "      <th></th>\n",
       "      <th>counts</th>\n",
       "      <th>unique_id</th>\n",
       "      <th>exists_in_df_metadata</th>\n",
       "    </tr>\n",
       "    <tr>\n",
       "      <th>unique_id</th>\n",
       "      <th></th>\n",
       "      <th></th>\n",
       "      <th></th>\n",
       "    </tr>\n",
       "  </thead>\n",
       "  <tbody>\n",
       "    <tr>\n",
       "      <th>7138354</th>\n",
       "      <td>4634</td>\n",
       "      <td>7138354</td>\n",
       "      <td>0</td>\n",
       "    </tr>\n",
       "    <tr>\n",
       "      <th>961425</th>\n",
       "      <td>4043</td>\n",
       "      <td>961425</td>\n",
       "      <td>1</td>\n",
       "    </tr>\n",
       "    <tr>\n",
       "      <th>89141</th>\n",
       "      <td>3879</td>\n",
       "      <td>89141</td>\n",
       "      <td>1</td>\n",
       "    </tr>\n",
       "    <tr>\n",
       "      <th>28637672</th>\n",
       "      <td>2962</td>\n",
       "      <td>28637672</td>\n",
       "      <td>0</td>\n",
       "    </tr>\n",
       "    <tr>\n",
       "      <th>1033682</th>\n",
       "      <td>2537</td>\n",
       "      <td>1033682</td>\n",
       "      <td>1</td>\n",
       "    </tr>\n",
       "    <tr>\n",
       "      <th>...</th>\n",
       "      <td>...</td>\n",
       "      <td>...</td>\n",
       "      <td>...</td>\n",
       "    </tr>\n",
       "    <tr>\n",
       "      <th>4556686</th>\n",
       "      <td>1</td>\n",
       "      <td>4556686</td>\n",
       "      <td>0</td>\n",
       "    </tr>\n",
       "    <tr>\n",
       "      <th>611750</th>\n",
       "      <td>1</td>\n",
       "      <td>611750</td>\n",
       "      <td>0</td>\n",
       "    </tr>\n",
       "    <tr>\n",
       "      <th>37901203</th>\n",
       "      <td>1</td>\n",
       "      <td>37901203</td>\n",
       "      <td>0</td>\n",
       "    </tr>\n",
       "    <tr>\n",
       "      <th>2159358</th>\n",
       "      <td>1</td>\n",
       "      <td>2159358</td>\n",
       "      <td>0</td>\n",
       "    </tr>\n",
       "    <tr>\n",
       "      <th>21037880</th>\n",
       "      <td>1</td>\n",
       "      <td>21037880</td>\n",
       "      <td>0</td>\n",
       "    </tr>\n",
       "  </tbody>\n",
       "</table>\n",
       "<p>440721 rows × 3 columns</p>\n",
       "</div>"
      ],
      "text/plain": [
       "           counts  unique_id  exists_in_df_metadata\n",
       "unique_id                                          \n",
       "7138354      4634    7138354                      0\n",
       "961425       4043     961425                      1\n",
       "89141        3879      89141                      1\n",
       "28637672     2962   28637672                      0\n",
       "1033682      2537    1033682                      1\n",
       "...           ...        ...                    ...\n",
       "4556686         1    4556686                      0\n",
       "611750          1     611750                      0\n",
       "37901203        1   37901203                      0\n",
       "2159358         1    2159358                      0\n",
       "21037880        1   21037880                      0\n",
       "\n",
       "[440721 rows x 3 columns]"
      ]
     },
     "execution_count": 18,
     "metadata": {},
     "output_type": "execute_result"
    }
   ],
   "source": [
    "df_references = count_references.rename_axis('unique_id').to_frame('counts')\n",
    "df_references['unique_id'] = df_references.index.astype(int)\n",
    "df_references['exists_in_df_metadata']  = df_references['unique_id'].isin(df_metadata['paper_id']).astype(int)\n",
    "df_references"
   ]
  },
  {
   "cell_type": "code",
   "execution_count": 24,
   "id": "3f5f952c",
   "metadata": {},
   "outputs": [
    {
     "data": {
      "text/plain": [
       "0    417420\n",
       "1     23301\n",
       "Name: exists_in_df_metadata, dtype: int64"
      ]
     },
     "execution_count": 24,
     "metadata": {},
     "output_type": "execute_result"
    }
   ],
   "source": [
    "df_references['exists_in_df_metadata'].value_counts()"
   ]
  },
  {
   "cell_type": "code",
   "execution_count": 25,
   "id": "0236e996",
   "metadata": {},
   "outputs": [
    {
     "data": {
      "text/plain": [
       "0    125555\n",
       "1     11928\n",
       "Name: exists_in_df_metadata, dtype: int64"
      ]
     },
     "execution_count": 25,
     "metadata": {},
     "output_type": "execute_result"
    }
   ],
   "source": [
    "df_references[df_references['counts']>1]['exists_in_df_metadata'].value_counts()"
   ]
  },
  {
   "cell_type": "code",
   "execution_count": 26,
   "id": "9e819acf",
   "metadata": {},
   "outputs": [
    {
     "data": {
      "text/plain": [
       "1081879"
      ]
     },
     "execution_count": 26,
     "metadata": {},
     "output_type": "execute_result"
    }
   ],
   "source": [
    "i=0\n",
    "for item in df_metadata['references']:\n",
    "    for x in item:\n",
    "        i+=1\n",
    "i"
   ]
  },
  {
   "cell_type": "code",
   "execution_count": 26,
   "id": "d83ddf29",
   "metadata": {},
   "outputs": [
    {
     "data": {
      "text/plain": [
       "0.001014510575504181"
      ]
     },
     "execution_count": 26,
     "metadata": {},
     "output_type": "execute_result"
    }
   ],
   "source": [
    "i/97584"
   ]
  },
  {
   "cell_type": "markdown",
   "id": "6688ff37",
   "metadata": {},
   "source": [
    "| Wszystkie artykuły | Liczba referencji wszystkich | Średnia liczba referencji na artykuł | Liczba unikatowych  referencji | Liczba referencji wewnątrz zbioru |\n",
    "|--------------------|------------------------------|--------------------------------------|--------------------------------|-----------------------------------|\n",
    "| 97584              | 1081879                      | 1                                    | 440721                         | 23301                             |"
   ]
  },
  {
   "cell_type": "markdown",
   "id": "7ceb4e91",
   "metadata": {},
   "source": [
    "# Citations"
   ]
  },
  {
   "cell_type": "code",
   "execution_count": 17,
   "id": "5821732b",
   "metadata": {},
   "outputs": [],
   "source": [
    "count_citations = pd.Series([x for item in df_metadata['citations'] for x in item]).value_counts()"
   ]
  },
  {
   "cell_type": "code",
   "execution_count": 21,
   "id": "9fd0acb8",
   "metadata": {},
   "outputs": [
    {
     "data": {
      "text/html": [
       "<div>\n",
       "<style scoped>\n",
       "    .dataframe tbody tr th:only-of-type {\n",
       "        vertical-align: middle;\n",
       "    }\n",
       "\n",
       "    .dataframe tbody tr th {\n",
       "        vertical-align: top;\n",
       "    }\n",
       "\n",
       "    .dataframe thead th {\n",
       "        text-align: right;\n",
       "    }\n",
       "</style>\n",
       "<table border=\"1\" class=\"dataframe\">\n",
       "  <thead>\n",
       "    <tr style=\"text-align: right;\">\n",
       "      <th></th>\n",
       "      <th>counts</th>\n",
       "      <th>unique_id</th>\n",
       "      <th>exists_in_df_metadata</th>\n",
       "    </tr>\n",
       "    <tr>\n",
       "      <th>unique_id</th>\n",
       "      <th></th>\n",
       "      <th></th>\n",
       "      <th></th>\n",
       "    </tr>\n",
       "  </thead>\n",
       "  <tbody>\n",
       "    <tr>\n",
       "      <th>210839653</th>\n",
       "      <td>214</td>\n",
       "      <td>210839653</td>\n",
       "      <td>1</td>\n",
       "    </tr>\n",
       "    <tr>\n",
       "      <th>52305483</th>\n",
       "      <td>77</td>\n",
       "      <td>52305483</td>\n",
       "      <td>1</td>\n",
       "    </tr>\n",
       "    <tr>\n",
       "      <th>155980866</th>\n",
       "      <td>68</td>\n",
       "      <td>155980866</td>\n",
       "      <td>1</td>\n",
       "    </tr>\n",
       "    <tr>\n",
       "      <th>59337706</th>\n",
       "      <td>63</td>\n",
       "      <td>59337706</td>\n",
       "      <td>1</td>\n",
       "    </tr>\n",
       "    <tr>\n",
       "      <th>59234295</th>\n",
       "      <td>63</td>\n",
       "      <td>59234295</td>\n",
       "      <td>1</td>\n",
       "    </tr>\n",
       "    <tr>\n",
       "      <th>...</th>\n",
       "      <td>...</td>\n",
       "      <td>...</td>\n",
       "      <td>...</td>\n",
       "    </tr>\n",
       "    <tr>\n",
       "      <th>15393846</th>\n",
       "      <td>1</td>\n",
       "      <td>15393846</td>\n",
       "      <td>0</td>\n",
       "    </tr>\n",
       "    <tr>\n",
       "      <th>209455905</th>\n",
       "      <td>1</td>\n",
       "      <td>209455905</td>\n",
       "      <td>0</td>\n",
       "    </tr>\n",
       "    <tr>\n",
       "      <th>35853264</th>\n",
       "      <td>1</td>\n",
       "      <td>35853264</td>\n",
       "      <td>0</td>\n",
       "    </tr>\n",
       "    <tr>\n",
       "      <th>8081378</th>\n",
       "      <td>1</td>\n",
       "      <td>8081378</td>\n",
       "      <td>0</td>\n",
       "    </tr>\n",
       "    <tr>\n",
       "      <th>204837423</th>\n",
       "      <td>1</td>\n",
       "      <td>204837423</td>\n",
       "      <td>0</td>\n",
       "    </tr>\n",
       "  </tbody>\n",
       "</table>\n",
       "<p>449048 rows × 3 columns</p>\n",
       "</div>"
      ],
      "text/plain": [
       "           counts  unique_id  exists_in_df_metadata\n",
       "unique_id                                          \n",
       "210839653     214  210839653                      1\n",
       "52305483       77   52305483                      1\n",
       "155980866      68  155980866                      1\n",
       "59337706       63   59337706                      1\n",
       "59234295       63   59234295                      1\n",
       "...           ...        ...                    ...\n",
       "15393846        1   15393846                      0\n",
       "209455905       1  209455905                      0\n",
       "35853264        1   35853264                      0\n",
       "8081378         1    8081378                      0\n",
       "204837423       1  204837423                      0\n",
       "\n",
       "[449048 rows x 3 columns]"
      ]
     },
     "execution_count": 21,
     "metadata": {},
     "output_type": "execute_result"
    }
   ],
   "source": [
    "df_citations = count_citations.rename_axis('unique_id').to_frame('counts')\n",
    "df_citations['unique_id'] = df_citations.index.astype(int)\n",
    "df_citations['exists_in_df_metadata']  = df_citations['unique_id'].isin(df_metadata['paper_id']).astype(int)\n",
    "df_citations"
   ]
  },
  {
   "cell_type": "markdown",
   "id": "4e4c314a",
   "metadata": {},
   "source": [
    "skąd się wzięło 193 czy ten artykół cytował 193 inne artykuły"
   ]
  },
  {
   "cell_type": "code",
   "execution_count": 22,
   "id": "24e8a98e",
   "metadata": {},
   "outputs": [
    {
     "data": {
      "text/plain": [
       "0    408660\n",
       "1     40388\n",
       "Name: exists_in_df_metadata, dtype: int64"
      ]
     },
     "execution_count": 22,
     "metadata": {},
     "output_type": "execute_result"
    }
   ],
   "source": [
    "df_citations['exists_in_df_metadata'].value_counts()"
   ]
  },
  {
   "cell_type": "code",
   "execution_count": 23,
   "id": "13346940",
   "metadata": {},
   "outputs": [
    {
     "data": {
      "text/plain": [
       "1    42\n",
       "0    41\n",
       "Name: exists_in_df_metadata, dtype: int64"
      ]
     },
     "execution_count": 23,
     "metadata": {},
     "output_type": "execute_result"
    }
   ],
   "source": [
    "df_citations[df_citations['counts']>25]['exists_in_df_metadata'].value_counts()\n"
   ]
  },
  {
   "cell_type": "code",
   "execution_count": 25,
   "id": "963f474e",
   "metadata": {},
   "outputs": [
    {
     "data": {
      "text/plain": [
       "1      285409\n",
       "2       82184\n",
       "3       36019\n",
       "4       18401\n",
       "5       10087\n",
       "6        5706\n",
       "7        3670\n",
       "8        2297\n",
       "9        1522\n",
       "10       1041\n",
       "11        723\n",
       "12        525\n",
       "13        417\n",
       "14        245\n",
       "15        172\n",
       "16        149\n",
       "17         90\n",
       "18         82\n",
       "19         56\n",
       "20         48\n",
       "22         34\n",
       "21         30\n",
       "23         25\n",
       "24         17\n",
       "25         16\n",
       "26          9\n",
       "29          9\n",
       "27          9\n",
       "33          6\n",
       "28          5\n",
       "32          5\n",
       "36          4\n",
       "34          4\n",
       "49          4\n",
       "35          3\n",
       "30          3\n",
       "31          2\n",
       "37          2\n",
       "38          2\n",
       "63          2\n",
       "45          2\n",
       "39          2\n",
       "51          1\n",
       "68          1\n",
       "62          1\n",
       "58          1\n",
       "77          1\n",
       "48          1\n",
       "43          1\n",
       "42          1\n",
       "40          1\n",
       "214         1\n",
       "Name: counts, dtype: int64"
      ]
     },
     "execution_count": 25,
     "metadata": {},
     "output_type": "execute_result"
    }
   ],
   "source": [
    "df_citations['counts'].value_counts()"
   ]
  },
  {
   "cell_type": "code",
   "execution_count": 27,
   "id": "be15ec8c",
   "metadata": {},
   "outputs": [
    {
     "data": {
      "text/plain": [
       "823258"
      ]
     },
     "execution_count": 27,
     "metadata": {},
     "output_type": "execute_result"
    }
   ],
   "source": [
    "i=0\n",
    "for item in df_metadata['citations']:\n",
    "    for x in item:\n",
    "        i+=1\n",
    "i"
   ]
  },
  {
   "cell_type": "code",
   "execution_count": null,
   "id": "128d44f3",
   "metadata": {},
   "outputs": [],
   "source": [
    "i/"
   ]
  }
 ],
 "metadata": {
  "kernelspec": {
   "display_name": "Python 3 (ipykernel)",
   "language": "python",
   "name": "python3"
  },
  "language_info": {
   "codemirror_mode": {
    "name": "ipython",
    "version": 3
   },
   "file_extension": ".py",
   "mimetype": "text/x-python",
   "name": "python",
   "nbconvert_exporter": "python",
   "pygments_lexer": "ipython3",
   "version": "3.8.10"
  }
 },
 "nbformat": 4,
 "nbformat_minor": 5
}