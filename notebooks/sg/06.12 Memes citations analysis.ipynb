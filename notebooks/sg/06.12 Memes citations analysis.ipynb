{
 "cells": [
  {
   "cell_type": "code",
   "execution_count": 1,
   "metadata": {},
   "outputs": [],
   "source": [
    "import os\n",
    "\n",
    "os.chdir('../../')"
   ]
  },
  {
   "cell_type": "code",
   "execution_count": 2,
   "metadata": {},
   "outputs": [],
   "source": [
    "import pandas as pd\n",
    "\n",
    "from collections import Counter\n",
    "\n",
    "df_chunks = pd.read_parquet('data/s2orc/chunk_meme_mappings/reduced_300_big_cleaned_mini_all-MiniLM-L6-v2_eps_0.0.parquet')\n",
    "\n",
    "def get_meme_content(meme_id):\n",
    "    return list(df_chunks[df_chunks['meme_id']==meme_id]['chunk'])"
   ]
  },
  {
   "cell_type": "code",
   "execution_count": 3,
   "metadata": {},
   "outputs": [],
   "source": [
    "meme_to_cluster_size = df_chunks.groupby('meme_id').count()['chunk']"
   ]
  },
  {
   "cell_type": "code",
   "execution_count": 4,
   "metadata": {},
   "outputs": [],
   "source": [
    "df = pd.read_parquet('data/s2orc/results/reduced_300_big_cleaned_mini_all-MiniLM-L6-v2_eps_0.0.parquet')"
   ]
  },
  {
   "cell_type": "code",
   "execution_count": 5,
   "metadata": {},
   "outputs": [],
   "source": [
    "all_memes = df['memes'].explode()\n",
    "all_inbound_memes = df['inbound_memes'].explode()\n",
    "all_outbount_memes = df['outbound_memes'].explode()\n",
    "memes_count = Counter(all_memes)\n",
    "inbound_memes_count = Counter(all_inbound_memes)\n",
    "outbound_memes_count = Counter(all_outbount_memes)"
   ]
  },
  {
   "cell_type": "code",
   "execution_count": 6,
   "metadata": {},
   "outputs": [
    {
     "name": "stderr",
     "output_type": "stream",
     "text": [
      "100%|██████████| 1073135/1073135 [00:05<00:00, 206241.59it/s]\n"
     ]
    }
   ],
   "source": [
    "from tqdm import tqdm\n",
    "\n",
    "d = {\"meme_id\":[], \"count\":[],\"inbound_count\":[], \"outbound_count\":[],'cluster_size':[]}\n",
    "for meme_id in tqdm(memes_count):\n",
    "    try:\n",
    "        d['meme_id'].append(int(meme_id))\n",
    "    except ValueError:\n",
    "        continue\n",
    "    d['count'].append(memes_count[meme_id])\n",
    "    d['inbound_count'].append(inbound_memes_count[meme_id])\n",
    "    d['outbound_count'].append(outbound_memes_count[meme_id])\n",
    "    d['cluster_size'].append(meme_to_cluster_size[meme_id])\n",
    "df_memes = pd.DataFrame(d)"
   ]
  },
  {
   "cell_type": "code",
   "execution_count": 7,
   "metadata": {},
   "outputs": [
    {
     "data": {
      "text/html": [
       "<div>\n",
       "<style scoped>\n",
       "    .dataframe tbody tr th:only-of-type {\n",
       "        vertical-align: middle;\n",
       "    }\n",
       "\n",
       "    .dataframe tbody tr th {\n",
       "        vertical-align: top;\n",
       "    }\n",
       "\n",
       "    .dataframe thead th {\n",
       "        text-align: right;\n",
       "    }\n",
       "</style>\n",
       "<table border=\"1\" class=\"dataframe\">\n",
       "  <thead>\n",
       "    <tr style=\"text-align: right;\">\n",
       "      <th></th>\n",
       "      <th>meme_id</th>\n",
       "      <th>count</th>\n",
       "      <th>inbound_count</th>\n",
       "      <th>outbound_count</th>\n",
       "      <th>cluster_size</th>\n",
       "    </tr>\n",
       "  </thead>\n",
       "  <tbody>\n",
       "    <tr>\n",
       "      <th>36</th>\n",
       "      <td>950121</td>\n",
       "      <td>208335</td>\n",
       "      <td>757563</td>\n",
       "      <td>636102</td>\n",
       "      <td>1</td>\n",
       "    </tr>\n",
       "    <tr>\n",
       "      <th>158</th>\n",
       "      <td>948694</td>\n",
       "      <td>84431</td>\n",
       "      <td>283865</td>\n",
       "      <td>247118</td>\n",
       "      <td>1</td>\n",
       "    </tr>\n",
       "    <tr>\n",
       "      <th>16</th>\n",
       "      <td>235449</td>\n",
       "      <td>69884</td>\n",
       "      <td>259153</td>\n",
       "      <td>256262</td>\n",
       "      <td>1</td>\n",
       "    </tr>\n",
       "    <tr>\n",
       "      <th>31</th>\n",
       "      <td>762593</td>\n",
       "      <td>56753</td>\n",
       "      <td>240133</td>\n",
       "      <td>209860</td>\n",
       "      <td>1</td>\n",
       "    </tr>\n",
       "    <tr>\n",
       "      <th>348</th>\n",
       "      <td>1192669</td>\n",
       "      <td>52922</td>\n",
       "      <td>198857</td>\n",
       "      <td>188971</td>\n",
       "      <td>1</td>\n",
       "    </tr>\n",
       "    <tr>\n",
       "      <th>...</th>\n",
       "      <td>...</td>\n",
       "      <td>...</td>\n",
       "      <td>...</td>\n",
       "      <td>...</td>\n",
       "      <td>...</td>\n",
       "    </tr>\n",
       "    <tr>\n",
       "      <th>507025</th>\n",
       "      <td>863843</td>\n",
       "      <td>1</td>\n",
       "      <td>2</td>\n",
       "      <td>5</td>\n",
       "      <td>1</td>\n",
       "    </tr>\n",
       "    <tr>\n",
       "      <th>507026</th>\n",
       "      <td>1150060</td>\n",
       "      <td>1</td>\n",
       "      <td>2</td>\n",
       "      <td>5</td>\n",
       "      <td>1</td>\n",
       "    </tr>\n",
       "    <tr>\n",
       "      <th>507027</th>\n",
       "      <td>273515</td>\n",
       "      <td>1</td>\n",
       "      <td>2</td>\n",
       "      <td>5</td>\n",
       "      <td>1</td>\n",
       "    </tr>\n",
       "    <tr>\n",
       "      <th>507028</th>\n",
       "      <td>142318</td>\n",
       "      <td>1</td>\n",
       "      <td>2</td>\n",
       "      <td>5</td>\n",
       "      <td>1</td>\n",
       "    </tr>\n",
       "    <tr>\n",
       "      <th>1073133</th>\n",
       "      <td>869595</td>\n",
       "      <td>1</td>\n",
       "      <td>3</td>\n",
       "      <td>1</td>\n",
       "      <td>1</td>\n",
       "    </tr>\n",
       "  </tbody>\n",
       "</table>\n",
       "<p>1073134 rows × 5 columns</p>\n",
       "</div>"
      ],
      "text/plain": [
       "         meme_id   count  inbound_count  outbound_count  cluster_size\n",
       "36        950121  208335         757563          636102             1\n",
       "158       948694   84431         283865          247118             1\n",
       "16        235449   69884         259153          256262             1\n",
       "31        762593   56753         240133          209860             1\n",
       "348      1192669   52922         198857          188971             1\n",
       "...          ...     ...            ...             ...           ...\n",
       "507025    863843       1              2               5             1\n",
       "507026   1150060       1              2               5             1\n",
       "507027    273515       1              2               5             1\n",
       "507028    142318       1              2               5             1\n",
       "1073133   869595       1              3               1             1\n",
       "\n",
       "[1073134 rows x 5 columns]"
      ]
     },
     "execution_count": 7,
     "metadata": {},
     "output_type": "execute_result"
    }
   ],
   "source": [
    "df_memes.sort_values(by='count', ascending=False, inplace=True)\n",
    "df_memes"
   ]
  },
  {
   "cell_type": "code",
   "execution_count": 8,
   "metadata": {},
   "outputs": [],
   "source": [
    "outliers = df_memes[df_memes['cluster_size']==1]['meme_id']\n",
    "df_outliers = df_chunks[df_chunks['meme_id'].isin(outliers)]\n",
    "df_outliers_to_remove = df_outliers[df_outliers['chunk'].str.split(' ').str.len()<2]\n",
    "memes_to_remove = df_outliers_to_remove['meme_id']"
   ]
  },
  {
   "cell_type": "code",
   "execution_count": 9,
   "metadata": {},
   "outputs": [
    {
     "name": "stdout",
     "output_type": "stream",
     "text": [
      "With 0 outbound:\n",
      "452371\n",
      "With 0 inbound:\n",
      "295090\n"
     ]
    }
   ],
   "source": [
    "df_memes = df_memes[~df_memes['meme_id'].isin(memes_to_remove)]\n",
    "print(\"With 0 outbound:\")\n",
    "print((df_memes['outbound_count']==0).sum())\n",
    "\n",
    "print(\"With 0 inbound:\")\n",
    "print((df_memes['inbound_count']==0).sum())"
   ]
  },
  {
   "cell_type": "markdown",
   "metadata": {},
   "source": [
    "## Calculating most common pairs cited_meme -> meme"
   ]
  },
  {
   "cell_type": "code",
   "execution_count": 10,
   "metadata": {},
   "outputs": [
    {
     "data": {
      "text/plain": [
       "13125108"
      ]
     },
     "execution_count": 10,
     "metadata": {},
     "output_type": "execute_result"
    }
   ],
   "source": [
    "df2 = df.explode(\"memes\")\n",
    "df2 = df2[['memes', 'inbound_memes']]#, 'institutions', 'countries', 'types', 'is_big_tech']]\n",
    "df2.dropna(subset=['memes'], inplace=True)\n",
    "len(df2)"
   ]
  },
  {
   "cell_type": "code",
   "execution_count": 11,
   "metadata": {},
   "outputs": [
    {
     "data": {
      "text/plain": [
       "4168952"
      ]
     },
     "execution_count": 11,
     "metadata": {},
     "output_type": "execute_result"
    }
   ],
   "source": [
    "df2 = df2[~df2['memes'].isin(memes_to_remove)]\n",
    "df2=df2[df2['inbound_memes'].str.len()!=0]\n",
    "len(df2)"
   ]
  },
  {
   "cell_type": "code",
   "execution_count": 15,
   "metadata": {},
   "outputs": [],
   "source": [
    "df2 = df2[:500000]"
   ]
  },
  {
   "cell_type": "code",
   "execution_count": 16,
   "metadata": {},
   "outputs": [],
   "source": [
    "df3 =df2.explode(\"inbound_memes\")"
   ]
  },
  {
   "cell_type": "code",
   "execution_count": 21,
   "metadata": {},
   "outputs": [
    {
     "data": {
      "text/plain": [
       "memes    inbound_memes\n",
       "561977   950121           13761\n",
       "317206   950121           10152\n",
       "1168193  950121            9723\n",
       "919556   950121            7304\n",
       "48203    950121            6754\n",
       "                          ...  \n",
       "65433    58131                1\n",
       "         58179                1\n",
       "         58507                1\n",
       "         58515                1\n",
       "1306144  1306144              1\n",
       "Length: 77613050, dtype: int64"
      ]
     },
     "execution_count": 21,
     "metadata": {},
     "output_type": "execute_result"
    }
   ],
   "source": [
    "out = df3.value_counts()"
   ]
  },
  {
   "cell_type": "code",
   "execution_count": 28,
   "metadata": {},
   "outputs": [],
   "source": [
    "out.reset_index(name='count').to_parquet(\"memes_edges.parquet\")"
   ]
  },
  {
   "cell_type": "code",
   "execution_count": 13,
   "metadata": {},
   "outputs": [
    {
     "ename": "KeyboardInterrupt",
     "evalue": "",
     "output_type": "error",
     "traceback": [
      "\u001b[0;31m---------------------------------------------------------------------------\u001b[0m",
      "\u001b[0;31mKeyboardInterrupt\u001b[0m                         Traceback (most recent call last)",
      "\u001b[1;32m/Users/stanislaw/repos/AI-strategies-papers-regulations-monitoring/notebooks/sg/06.12 Memes citations analysis.ipynb Cell 13'\u001b[0m in \u001b[0;36m<cell line: 7>\u001b[0;34m()\u001b[0m\n\u001b[1;32m      <a href='vscode-notebook-cell:/Users/stanislaw/repos/AI-strategies-papers-regulations-monitoring/notebooks/sg/06.12%20Memes%20citations%20analysis.ipynb#ch0000046?line=3'>4</a>\u001b[0m     \u001b[39mfor\u001b[39;00m in_meme \u001b[39min\u001b[39;00m row[\u001b[39m'\u001b[39m\u001b[39minbound_memes\u001b[39m\u001b[39m'\u001b[39m]:\n\u001b[1;32m      <a href='vscode-notebook-cell:/Users/stanislaw/repos/AI-strategies-papers-regulations-monitoring/notebooks/sg/06.12%20Memes%20citations%20analysis.ipynb#ch0000046?line=4'>5</a>\u001b[0m         flow_count[(meme, in_meme)] \u001b[39m+\u001b[39m\u001b[39m=\u001b[39m \u001b[39m1\u001b[39m  \n\u001b[0;32m----> <a href='vscode-notebook-cell:/Users/stanislaw/repos/AI-strategies-papers-regulations-monitoring/notebooks/sg/06.12%20Memes%20citations%20analysis.ipynb#ch0000046?line=6'>7</a>\u001b[0m a \u001b[39m=\u001b[39m df2\u001b[39m.\u001b[39;49mapply(process_row, axis\u001b[39m=\u001b[39;49m\u001b[39m1\u001b[39;49m)\n",
      "File \u001b[0;32m~/repos/AI-strategies-papers-regulations-monitoring/.venv/lib/python3.8/site-packages/pandas/core/frame.py:8839\u001b[0m, in \u001b[0;36mDataFrame.apply\u001b[0;34m(self, func, axis, raw, result_type, args, **kwargs)\u001b[0m\n\u001b[1;32m   8828\u001b[0m \u001b[39mfrom\u001b[39;00m \u001b[39mpandas\u001b[39;00m\u001b[39m.\u001b[39;00m\u001b[39mcore\u001b[39;00m\u001b[39m.\u001b[39;00m\u001b[39mapply\u001b[39;00m \u001b[39mimport\u001b[39;00m frame_apply\n\u001b[1;32m   8830\u001b[0m op \u001b[39m=\u001b[39m frame_apply(\n\u001b[1;32m   8831\u001b[0m     \u001b[39mself\u001b[39m,\n\u001b[1;32m   8832\u001b[0m     func\u001b[39m=\u001b[39mfunc,\n\u001b[0;32m   (...)\u001b[0m\n\u001b[1;32m   8837\u001b[0m     kwargs\u001b[39m=\u001b[39mkwargs,\n\u001b[1;32m   8838\u001b[0m )\n\u001b[0;32m-> 8839\u001b[0m \u001b[39mreturn\u001b[39;00m op\u001b[39m.\u001b[39;49mapply()\u001b[39m.\u001b[39m__finalize__(\u001b[39mself\u001b[39m, method\u001b[39m=\u001b[39m\u001b[39m\"\u001b[39m\u001b[39mapply\u001b[39m\u001b[39m\"\u001b[39m)\n",
      "File \u001b[0;32m~/repos/AI-strategies-papers-regulations-monitoring/.venv/lib/python3.8/site-packages/pandas/core/apply.py:727\u001b[0m, in \u001b[0;36mFrameApply.apply\u001b[0;34m(self)\u001b[0m\n\u001b[1;32m    724\u001b[0m \u001b[39melif\u001b[39;00m \u001b[39mself\u001b[39m\u001b[39m.\u001b[39mraw:\n\u001b[1;32m    725\u001b[0m     \u001b[39mreturn\u001b[39;00m \u001b[39mself\u001b[39m\u001b[39m.\u001b[39mapply_raw()\n\u001b[0;32m--> 727\u001b[0m \u001b[39mreturn\u001b[39;00m \u001b[39mself\u001b[39;49m\u001b[39m.\u001b[39;49mapply_standard()\n",
      "File \u001b[0;32m~/repos/AI-strategies-papers-regulations-monitoring/.venv/lib/python3.8/site-packages/pandas/core/apply.py:851\u001b[0m, in \u001b[0;36mFrameApply.apply_standard\u001b[0;34m(self)\u001b[0m\n\u001b[1;32m    850\u001b[0m \u001b[39mdef\u001b[39;00m \u001b[39mapply_standard\u001b[39m(\u001b[39mself\u001b[39m):\n\u001b[0;32m--> 851\u001b[0m     results, res_index \u001b[39m=\u001b[39m \u001b[39mself\u001b[39;49m\u001b[39m.\u001b[39;49mapply_series_generator()\n\u001b[1;32m    853\u001b[0m     \u001b[39m# wrap results\u001b[39;00m\n\u001b[1;32m    854\u001b[0m     \u001b[39mreturn\u001b[39;00m \u001b[39mself\u001b[39m\u001b[39m.\u001b[39mwrap_results(results, res_index)\n",
      "File \u001b[0;32m~/repos/AI-strategies-papers-regulations-monitoring/.venv/lib/python3.8/site-packages/pandas/core/apply.py:867\u001b[0m, in \u001b[0;36mFrameApply.apply_series_generator\u001b[0;34m(self)\u001b[0m\n\u001b[1;32m    864\u001b[0m \u001b[39mwith\u001b[39;00m option_context(\u001b[39m\"\u001b[39m\u001b[39mmode.chained_assignment\u001b[39m\u001b[39m\"\u001b[39m, \u001b[39mNone\u001b[39;00m):\n\u001b[1;32m    865\u001b[0m     \u001b[39mfor\u001b[39;00m i, v \u001b[39min\u001b[39;00m \u001b[39menumerate\u001b[39m(series_gen):\n\u001b[1;32m    866\u001b[0m         \u001b[39m# ignore SettingWithCopy here in case the user mutates\u001b[39;00m\n\u001b[0;32m--> 867\u001b[0m         results[i] \u001b[39m=\u001b[39m \u001b[39mself\u001b[39;49m\u001b[39m.\u001b[39;49mf(v)\n\u001b[1;32m    868\u001b[0m         \u001b[39mif\u001b[39;00m \u001b[39misinstance\u001b[39m(results[i], ABCSeries):\n\u001b[1;32m    869\u001b[0m             \u001b[39m# If we have a view on v, we need to make a copy because\u001b[39;00m\n\u001b[1;32m    870\u001b[0m             \u001b[39m#  series_generator will swap out the underlying data\u001b[39;00m\n\u001b[1;32m    871\u001b[0m             results[i] \u001b[39m=\u001b[39m results[i]\u001b[39m.\u001b[39mcopy(deep\u001b[39m=\u001b[39m\u001b[39mFalse\u001b[39;00m)\n",
      "\u001b[1;32m/Users/stanislaw/repos/AI-strategies-papers-regulations-monitoring/notebooks/sg/06.12 Memes citations analysis.ipynb Cell 13'\u001b[0m in \u001b[0;36mprocess_row\u001b[0;34m(row)\u001b[0m\n\u001b[1;32m      <a href='vscode-notebook-cell:/Users/stanislaw/repos/AI-strategies-papers-regulations-monitoring/notebooks/sg/06.12%20Memes%20citations%20analysis.ipynb#ch0000046?line=2'>3</a>\u001b[0m meme \u001b[39m=\u001b[39m row[\u001b[39m'\u001b[39m\u001b[39mmemes\u001b[39m\u001b[39m'\u001b[39m]\n\u001b[1;32m      <a href='vscode-notebook-cell:/Users/stanislaw/repos/AI-strategies-papers-regulations-monitoring/notebooks/sg/06.12%20Memes%20citations%20analysis.ipynb#ch0000046?line=3'>4</a>\u001b[0m \u001b[39mfor\u001b[39;00m in_meme \u001b[39min\u001b[39;00m row[\u001b[39m'\u001b[39m\u001b[39minbound_memes\u001b[39m\u001b[39m'\u001b[39m]:\n\u001b[0;32m----> <a href='vscode-notebook-cell:/Users/stanislaw/repos/AI-strategies-papers-regulations-monitoring/notebooks/sg/06.12%20Memes%20citations%20analysis.ipynb#ch0000046?line=4'>5</a>\u001b[0m     flow_count[(meme, in_meme)] \u001b[39m+\u001b[39m\u001b[39m=\u001b[39m \u001b[39m1\u001b[39m\n",
      "\u001b[0;31mKeyboardInterrupt\u001b[0m: "
     ]
    }
   ],
   "source": [
    "# flow_count = Counter()\n",
    "# def process_row(row):\n",
    "#     meme = row['memes']\n",
    "#     for in_meme in row['inbound_memes']:\n",
    "#         flow_count[(meme, in_meme)] += 1  \n",
    "\n",
    "# a = df2.apply(process_row, axis=1)"
   ]
  },
  {
   "cell_type": "markdown",
   "metadata": {},
   "source": []
  }
 ],
 "metadata": {
  "kernelspec": {
   "display_name": "Python 3.8.9 ('.venv': poetry)",
   "language": "python",
   "name": "python3"
  },
  "language_info": {
   "codemirror_mode": {
    "name": "ipython",
    "version": 3
   },
   "file_extension": ".py",
   "mimetype": "text/x-python",
   "name": "python",
   "nbconvert_exporter": "python",
   "pygments_lexer": "ipython3",
   "version": "3.8.9"
  },
  "orig_nbformat": 4,
  "vscode": {
   "interpreter": {
    "hash": "3887d37ca77ee49ef2f2537ca92bbe7921610d49c9740853abeb2b31ec16d1a0"
   }
  }
 },
 "nbformat": 4,
 "nbformat_minor": 2
}
