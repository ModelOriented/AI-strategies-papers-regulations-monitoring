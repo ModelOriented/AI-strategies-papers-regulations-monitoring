{
 "cells": [
  {
   "cell_type": "code",
   "execution_count": 1,
   "id": "d15866d3",
   "metadata": {},
   "outputs": [],
   "source": [
    "import os\n",
    "\n",
    "os.chdir(\"../..\")"
   ]
  },
  {
   "cell_type": "code",
   "execution_count": 2,
   "id": "3267231d",
   "metadata": {},
   "outputs": [],
   "source": [
    "from mars.db import collections"
   ]
  },
  {
   "cell_type": "code",
   "execution_count": 12,
   "id": "991f6aa9",
   "metadata": {},
   "outputs": [],
   "source": [
    "from mars.db import db"
   ]
  },
  {
   "cell_type": "code",
   "execution_count": 131,
   "id": "c04955f1",
   "metadata": {},
   "outputs": [],
   "source": [
    "from tqdm import tqdm_notebook as tqdm"
   ]
  },
  {
   "cell_type": "code",
   "execution_count": 44,
   "id": "7edf199b",
   "metadata": {},
   "outputs": [
    {
     "data": {
      "text/plain": [
       "<Index of type fulltext>"
      ]
     },
     "execution_count": 44,
     "metadata": {},
     "output_type": "execute_result"
    }
   ],
   "source": [
    "collections.sentences.ensureFulltextIndex([\"sentence\"])"
   ]
  },
  {
   "cell_type": "code",
   "execution_count": 18,
   "id": "ef7b2544",
   "metadata": {},
   "outputs": [
    {
     "data": {
      "text/plain": [
       "'Sentences'"
      ]
     },
     "execution_count": 18,
     "metadata": {},
     "output_type": "execute_result"
    }
   ],
   "source": [
    "collections.SENTENCES"
   ]
  },
  {
   "cell_type": "code",
   "execution_count": 6,
   "id": "3bd32f68",
   "metadata": {},
   "outputs": [],
   "source": [
    "import pandas as pd"
   ]
  },
  {
   "cell_type": "code",
   "execution_count": 154,
   "id": "91b7c36e",
   "metadata": {},
   "outputs": [
    {
     "name": "stderr",
     "output_type": "stream",
     "text": [
      "/home/stanislaw/repos/AI-stretegies-papers-regulations-monitoring/.venv/lib/python3.7/site-packages/IPython/core/interactiveshell.py:3444: DtypeWarning: Columns (6) have mixed types.Specify dtype option on import or set low_memory=False.\n",
      "  exec(code_obj, self.user_global_ns, self.user_ns)\n"
     ]
    }
   ],
   "source": [
    "df_papers = pd.read_csv(\"data/s2orc/ai_papers_meta.csv\")\n",
    "titles = df_papers.title"
   ]
  },
  {
   "cell_type": "code",
   "execution_count": 68,
   "id": "cba7d7ce",
   "metadata": {},
   "outputs": [],
   "source": [
    "def search_for(text):\n",
    "    q = db.database.AQLQuery(\n",
    "    f\"\"\"FOR doc in FULLTEXT({collections.SENTENCES}, \"sentence\", \"{text}\") RETURN doc\"\"\"\n",
    "    )\n",
    "    return q\n",
    "\n",
    "\n",
    "def get_all_citations(text):\n",
    "    q = search_for(text)\n",
    "    docs_citing = list(set([d.source_doc_id for d in q]))\n",
    "    return docs_citing"
   ]
  },
  {
   "cell_type": "code",
   "execution_count": 60,
   "id": "759fa2fe",
   "metadata": {},
   "outputs": [
    {
     "data": {
      "text/plain": [
       "557681"
      ]
     },
     "execution_count": 60,
     "metadata": {},
     "output_type": "execute_result"
    }
   ],
   "source": [
    "len(titles)"
   ]
  },
  {
   "cell_type": "code",
   "execution_count": 62,
   "id": "8a2ed133",
   "metadata": {},
   "outputs": [],
   "source": [
    "titles_sample = titles[:1000]"
   ]
  },
  {
   "cell_type": "code",
   "execution_count": 70,
   "id": "1c710d9d",
   "metadata": {},
   "outputs": [
    {
     "name": "stderr",
     "output_type": "stream",
     "text": [
      "100%|██████████████████████████████████████████████████████████████████████████████████████| 1000/1000 [04:05<00:00,  4.08it/s]\n"
     ]
    }
   ],
   "source": [
    "citations = dict()\n",
    "exceptions = dict()\n",
    "for title in tqdm(titles_sample):\n",
    "    try:\n",
    "        citations[title]=get_all_citations(title)\n",
    "    except Exception as e:\n",
    "        exceptions[title]=e"
   ]
  },
  {
   "cell_type": "code",
   "execution_count": 75,
   "id": "572c18e4",
   "metadata": {},
   "outputs": [
    {
     "name": "stdout",
     "output_type": "stream",
     "text": [
      "Intelligent Systems in Education\n",
      "When to Use Machine Learning\n"
     ]
    }
   ],
   "source": [
    "for c in citations:\n",
    "    if len(citations[c])!=0:\n",
    "        print(c)"
   ]
  },
  {
   "cell_type": "code",
   "execution_count": 73,
   "id": "ac16cf97",
   "metadata": {},
   "outputs": [
    {
     "data": {
      "text/plain": [
       "[]"
      ]
     },
     "execution_count": 73,
     "metadata": {},
     "output_type": "execute_result"
    }
   ],
   "source": [
    "citations[c]"
   ]
  },
  {
   "cell_type": "code",
   "execution_count": 78,
   "id": "5384dc93",
   "metadata": {},
   "outputs": [
    {
     "data": {
      "text/plain": [
       "['Documents/265537', 'Documents/259745']"
      ]
     },
     "execution_count": 78,
     "metadata": {},
     "output_type": "execute_result"
    }
   ],
   "source": [
    "citations[\"When to Use Machine Learning\"]"
   ]
  },
  {
   "cell_type": "code",
   "execution_count": 81,
   "id": "9aa915b5",
   "metadata": {},
   "outputs": [
    {
     "data": {
      "text/plain": [
       "150"
      ]
     },
     "execution_count": 81,
     "metadata": {},
     "output_type": "execute_result"
    }
   ],
   "source": [
    "len(exceptions)"
   ]
  },
  {
   "cell_type": "code",
   "execution_count": 83,
   "id": "71373d11",
   "metadata": {},
   "outputs": [],
   "source": [
    "from mars.db import new_api"
   ]
  },
  {
   "cell_type": "code",
   "execution_count": 87,
   "id": "4d7c0cc2",
   "metadata": {},
   "outputs": [
    {
     "data": {
      "text/plain": [
       "{'global_id': 'hF7C38D81E838/32881541',\n",
       " 'id': '32881541',\n",
       " 'name': 'sentences_view',\n",
       " 'type': 'arangosearch',\n",
       " 'cleanup_interval_step': 2,\n",
       " 'commit_interval_msec': 1000,\n",
       " 'consolidation_interval_msec': 1000,\n",
       " 'consolidation_policy': {'type': 'tier',\n",
       "  'segments_min': 1,\n",
       "  'segments_max': 10,\n",
       "  'segments_bytes_max': 5368709120,\n",
       "  'segments_bytes_floor': 2097152,\n",
       "  'min_score': 0},\n",
       " 'primary_sort': [],\n",
       " 'primary_sort_compression': 'lz4',\n",
       " 'stored_values': [],\n",
       " 'writebuffer_idle': 64,\n",
       " 'writebuffer_active': 0,\n",
       " 'writebuffer_max_size': 33554432,\n",
       " 'links': {'Sentences': {'analyzers': ['identity'],\n",
       "   'fields': {'sentence': {'analyzers': ['text_en']}},\n",
       "   'include_all_fields': False,\n",
       "   'track_list_positions': False,\n",
       "   'store_values': 'none'}}}"
      ]
     },
     "execution_count": 87,
     "metadata": {},
     "output_type": "execute_result"
    }
   ],
   "source": [
    "new_api.database.create_arangosearch_view(\n",
    "    \"sentences_view\",\n",
    "    properties={\n",
    "        \"links\": {\"Sentences\": {\"fields\": {\"sentence\": {\"analyzers\": [\"text_en\"]}}}}\n",
    "    },\n",
    ")"
   ]
  },
  {
   "cell_type": "code",
   "execution_count": 114,
   "id": "c06305e7",
   "metadata": {},
   "outputs": [],
   "source": [
    "#text= \"European Union\"\n",
    "def search_for(text):\n",
    "    query = f\"\"\"FOR doc in sentences_view SEARCH ANALYZER(PHRASE(doc.sentence, \"{text}\"), \"text_en\")\n",
    "    RETURN doc\"\"\"\n",
    "    q = db.database.AQLQuery(query, rawResults=True)\n",
    "    return [{'sentence':d['sentence'],'doc_id':d['source_doc_id'], 'search_query':text} for d in q]"
   ]
  },
  {
   "cell_type": "code",
   "execution_count": 123,
   "id": "ecd639f4",
   "metadata": {},
   "outputs": [],
   "source": [
    "def search_for_titles(titles):\n",
    "    all_results = []\n",
    "    for title in tqdm(titles):\n",
    "        try:\n",
    "            results = search_for(title)\n",
    "            all_results = all_results+results\n",
    "        except Exception as e:\n",
    "            print(e)\n",
    "    return all_results"
   ]
  },
  {
   "cell_type": "code",
   "execution_count": 121,
   "id": "b9158518",
   "metadata": {},
   "outputs": [
    {
     "data": {
      "text/html": [
       "<div>\n",
       "<style scoped>\n",
       "    .dataframe tbody tr th:only-of-type {\n",
       "        vertical-align: middle;\n",
       "    }\n",
       "\n",
       "    .dataframe tbody tr th {\n",
       "        vertical-align: top;\n",
       "    }\n",
       "\n",
       "    .dataframe thead th {\n",
       "        text-align: right;\n",
       "    }\n",
       "</style>\n",
       "<table border=\"1\" class=\"dataframe\">\n",
       "  <thead>\n",
       "    <tr style=\"text-align: right;\">\n",
       "      <th></th>\n",
       "    </tr>\n",
       "  </thead>\n",
       "  <tbody>\n",
       "  </tbody>\n",
       "</table>\n",
       "</div>"
      ],
      "text/plain": [
       "Empty DataFrame\n",
       "Columns: []\n",
       "Index: []"
      ]
     },
     "execution_count": 121,
     "metadata": {},
     "output_type": "execute_result"
    }
   ],
   "source": [
    "pd.DataFrame(all_results)"
   ]
  },
  {
   "cell_type": "code",
   "execution_count": 130,
   "id": "ef9abaa5",
   "metadata": {},
   "outputs": [
    {
     "name": "stderr",
     "output_type": "stream",
     "text": [
      " 16%|█████████████▎                                                                       | 1568/10000 [00:22<02:01, 69.47it/s]"
     ]
    },
    {
     "name": "stdout",
     "output_type": "stream",
     "text": [
      "Error in:\n",
      "1: FOR doc in sentences_view SEARCH ANALYZER(PHRASE(doc.sentence, \"Research of \"blind\" spot in LVQ network\"), \"text_en\")\n",
      "2:     RETURN doc.\n",
      "->AQL: syntax error, unexpected identifier, expecting ) near 'blind\" spot in LVQ network\"), \"t...' at position 1:78 (while parsing). Errors: {'code': 400, 'error': True, 'errorMessage': 'AQL: syntax error, unexpected identifier, expecting ) near \\'blind\" spot in LVQ network\"), \"t...\\' at position 1:78 (while parsing)', 'errorNum': 1501}\n"
     ]
    },
    {
     "name": "stderr",
     "output_type": "stream",
     "text": [
      " 16%|█████████████▌                                                                       | 1600/10000 [00:22<02:00, 69.48it/s]"
     ]
    },
    {
     "name": "stdout",
     "output_type": "stream",
     "text": [
      "Error in:\n",
      "1: FOR doc in sentences_view SEARCH ANALYZER(PHRASE(doc.sentence, \"An Experiment on Game Facet Combination\\\"), \"text_en\")\n",
      "2:     RETURN doc.\n",
      "->AQL: syntax error, unexpected identifier, expecting ) near 'text_en\")\n",
      "    RETURN doc' at position 1:110 (while parsing). Errors: {'code': 400, 'error': True, 'errorMessage': 'AQL: syntax error, unexpected identifier, expecting ) near \\'text_en\")\\n    RETURN doc\\' at position 1:110 (while parsing)', 'errorNum': 1501}\n"
     ]
    },
    {
     "name": "stderr",
     "output_type": "stream",
     "text": [
      " 18%|███████████████▌                                                                     | 1829/10000 [00:26<01:57, 69.74it/s]"
     ]
    },
    {
     "name": "stdout",
     "output_type": "stream",
     "text": [
      "Error in:\n",
      "1: FOR doc in sentences_view SEARCH ANALYZER(PHRASE(doc.sentence, \"\"Fuzzy\" versus \"nonfuzzy\" in combining classifiers designed by Boosting\"), \"text_en\")\n",
      "2:     RETURN doc.\n",
      "->AQL: syntax error, unexpected identifier, expecting ) near 'Fuzzy\" versus \"nonfuzzy\" in comb...' at position 1:66 (while parsing). Errors: {'code': 400, 'error': True, 'errorMessage': 'AQL: syntax error, unexpected identifier, expecting ) near \\'Fuzzy\" versus \"nonfuzzy\" in comb...\\' at position 1:66 (while parsing)', 'errorNum': 1501}\n"
     ]
    },
    {
     "name": "stderr",
     "output_type": "stream",
     "text": [
      " 35%|█████████████████████████████▋                                                       | 3491/10000 [00:50<01:35, 68.27it/s]"
     ]
    },
    {
     "name": "stdout",
     "output_type": "stream",
     "text": [
      "Error in:\n",
      "1: FOR doc in sentences_view SEARCH ANALYZER(PHRASE(doc.sentence, \"Dtckp \" OTK \" Ugiogpvcvkqp \" Wukpi \" vjg \" Okzvwtg \" qh \" \" HEO \" cpf \" TDH \" Pgwtcn \" Pgvyqtm \"\"), \"text_en\")\n",
      "2:     RETURN doc.\n",
      "->AQL: syntax error, unexpected identifier, expecting ) near 'OTK \" Ugiogpvcvkqp \" Wukpi \" vjg...' at position 1:73 (while parsing). Errors: {'code': 400, 'error': True, 'errorMessage': 'AQL: syntax error, unexpected identifier, expecting ) near \\'OTK \" Ugiogpvcvkqp \" Wukpi \" vjg...\\' at position 1:73 (while parsing)', 'errorNum': 1501}\n"
     ]
    },
    {
     "name": "stderr",
     "output_type": "stream",
     "text": [
      " 41%|███████████████████████████████████                                                  | 4126/10000 [01:00<01:24, 69.75it/s]"
     ]
    },
    {
     "name": "stdout",
     "output_type": "stream",
     "text": [
      "Error in:\n",
      "1: FOR doc in sentences_view SEARCH ANALYZER(PHRASE(doc.sentence, \"Extracting fuzzy rules from \"mental\" images generated by a modified WISARD perceptron\"), \"text_en\")\n",
      "2:     RETURN doc.\n",
      "->AQL: syntax error, unexpected identifier, expecting ) near 'mental\" images generated by a mo...' at position 1:94 (while parsing). Errors: {'code': 400, 'error': True, 'errorMessage': 'AQL: syntax error, unexpected identifier, expecting ) near \\'mental\" images generated by a mo...\\' at position 1:94 (while parsing)', 'errorNum': 1501}\n"
     ]
    },
    {
     "name": "stderr",
     "output_type": "stream",
     "text": [
      " 44%|█████████████████████████████████████▍                                               | 4408/10000 [01:04<01:17, 71.90it/s]"
     ]
    },
    {
     "name": "stdout",
     "output_type": "stream",
     "text": [
      "Error in:\n",
      "1: FOR doc in sentences_view SEARCH ANALYZER(PHRASE(doc.sentence, \"A simple \"possibilistic\" clustering neural network\"), \"text_en\")\n",
      "2:     RETURN doc.\n",
      "->AQL: syntax error, unexpected identifier, expecting ) near 'possibilistic\" clustering neural...' at position 1:75 (while parsing). Errors: {'code': 400, 'error': True, 'errorMessage': 'AQL: syntax error, unexpected identifier, expecting ) near \\'possibilistic\" clustering neural...\\' at position 1:75 (while parsing)', 'errorNum': 1501}\n"
     ]
    },
    {
     "name": "stderr",
     "output_type": "stream",
     "text": [
      " 55%|██████████████████████████████████████████████▊                                      | 5506/10000 [01:20<01:05, 69.01it/s]"
     ]
    },
    {
     "name": "stdout",
     "output_type": "stream",
     "text": [
      "Error in:\n",
      "1: FOR doc in sentences_view SEARCH ANALYZER(PHRASE(doc.sentence, \"Supplementary material from \"Inferring locomotor behaviours in Miocene New World monkeys using finite-element analysis, geometric morphometrics and machine-learning classification techniques applied to talar morphology\"\"), \"text_en\")\n",
      "2:     RETURN doc.\n",
      "->AQL: syntax error, unexpected identifier, expecting ) near 'Inferring locomotor behaviours i...' at position 1:94 (while parsing). Errors: {'code': 400, 'error': True, 'errorMessage': \"AQL: syntax error, unexpected identifier, expecting ) near 'Inferring locomotor behaviours i...' at position 1:94 (while parsing)\", 'errorNum': 1501}\n"
     ]
    },
    {
     "name": "stderr",
     "output_type": "stream",
     "text": [
      " 56%|███████████████████████████████████████████████▌                                     | 5596/10000 [01:22<01:04, 68.73it/s]"
     ]
    },
    {
     "name": "stdout",
     "output_type": "stream",
     "text": [
      "Error in:\n",
      "1: FOR doc in sentences_view SEARCH ANALYZER(PHRASE(doc.sentence, \"\"What happens if...\"Learning to Predict the Effect of Forces in Images\"), \"text_en\")\n",
      "2:     RETURN doc.\n",
      "->AQL: syntax error, unexpected identifier, expecting ) near 'What happens if...\"Learning to P...' at position 1:66 (while parsing). Errors: {'code': 400, 'error': True, 'errorMessage': 'AQL: syntax error, unexpected identifier, expecting ) near \\'What happens if...\"Learning to P...\\' at position 1:66 (while parsing)', 'errorNum': 1501}\n"
     ]
    },
    {
     "name": "stderr",
     "output_type": "stream",
     "text": [
      " 56%|███████████████████████████████████████████████▊                                     | 5632/10000 [01:22<01:03, 68.39it/s]"
     ]
    },
    {
     "name": "stdout",
     "output_type": "stream",
     "text": [
      "Error in:\n",
      "1: FOR doc in sentences_view SEARCH ANALYZER(PHRASE(doc.sentence, \"and half are \"positive\" or \"with signal\" (Note, that\"), \"text_en\")\n",
      "2:     RETURN doc.\n",
      "->AQL: syntax error, unexpected identifier, expecting ) near 'positive\" or \"with signal\" (Note...' at position 1:79 (while parsing). Errors: {'code': 400, 'error': True, 'errorMessage': 'AQL: syntax error, unexpected identifier, expecting ) near \\'positive\" or \"with signal\" (Note...\\' at position 1:79 (while parsing)', 'errorNum': 1501}\n"
     ]
    },
    {
     "name": "stderr",
     "output_type": "stream",
     "text": [
      " 65%|███████████████████████████████████████████████████████▎                             | 6512/10000 [01:35<00:50, 69.39it/s]"
     ]
    },
    {
     "name": "stdout",
     "output_type": "stream",
     "text": [
      "Error in:\n",
      "1: FOR doc in sentences_view SEARCH ANALYZER(PHRASE(doc.sentence, \"Notice of RetractionAnalysis of concept speculation in \"Knowledge Management\"\"), \"text_en\")\n",
      "2:     RETURN doc.\n",
      "->AQL: syntax error, unexpected identifier, expecting ) near 'Knowledge Management\"\"), \"text_e...' at position 1:121 (while parsing). Errors: {'code': 400, 'error': True, 'errorMessage': 'AQL: syntax error, unexpected identifier, expecting ) near \\'Knowledge Management\"\"), \"text_e...\\' at position 1:121 (while parsing)', 'errorNum': 1501}\n"
     ]
    },
    {
     "name": "stderr",
     "output_type": "stream",
     "text": [
      " 66%|████████████████████████████████████████████████████████▏                            | 6609/10000 [01:36<00:49, 68.62it/s]"
     ]
    },
    {
     "name": "stdout",
     "output_type": "stream",
     "text": [
      "Error in:\n",
      "1: FOR doc in sentences_view SEARCH ANALYZER(PHRASE(doc.sentence, \"An Empirical Research: \"Wikipedia Vandalism Detection using VandalSense 2.0\" - Notebook for PAN at CLEF 2011\"), \"text_en\")\n",
      "2:     RETURN doc.\n",
      "->AQL: syntax error, unexpected identifier, expecting ) near 'Wikipedia Vandalism Detection us...' at position 1:89 (while parsing). Errors: {'code': 400, 'error': True, 'errorMessage': \"AQL: syntax error, unexpected identifier, expecting ) near 'Wikipedia Vandalism Detection us...' at position 1:89 (while parsing)\", 'errorNum': 1501}\n"
     ]
    },
    {
     "name": "stderr",
     "output_type": "stream",
     "text": [
      " 68%|█████████████████████████████████████████████████████████▍                           | 6760/10000 [01:39<00:50, 64.51it/s]"
     ]
    },
    {
     "name": "stdout",
     "output_type": "stream",
     "text": [
      "Error in:\n",
      "1: FOR doc in sentences_view SEARCH ANALYZER(PHRASE(doc.sentence, \"An introduction to case-based reasoning\" AI Expert\"), \"text_en\")\n",
      "2:     RETURN doc.\n",
      "->AQL: syntax error, unexpected identifier, expecting ) near 'AI Expert\"), \"text_en\")\n",
      "    RETU...' at position 1:106 (while parsing). Errors: {'code': 400, 'error': True, 'errorMessage': 'AQL: syntax error, unexpected identifier, expecting ) near \\'AI Expert\"), \"text_en\")\\n    RETU...\\' at position 1:106 (while parsing)', 'errorNum': 1501}\n"
     ]
    },
    {
     "name": "stderr",
     "output_type": "stream",
     "text": [
      " 73%|█████████████████████████████████████████████████████████████▉                       | 7282/10000 [01:46<00:38, 70.89it/s]"
     ]
    },
    {
     "name": "stdout",
     "output_type": "stream",
     "text": [
      "Error in:\n",
      "1: FOR doc in sentences_view SEARCH ANALYZER(PHRASE(doc.sentence, \"\"Unvoiced speech recognition using EMG - mime speech recognition\"\"), \"text_en\")\n",
      "2:     RETURN doc.\n",
      "->AQL: syntax error, unexpected identifier, expecting ) near 'Unvoiced speech recognition usin...' at position 1:66 (while parsing). Errors: {'code': 400, 'error': True, 'errorMessage': \"AQL: syntax error, unexpected identifier, expecting ) near 'Unvoiced speech recognition usin...' at position 1:66 (while parsing)\", 'errorNum': 1501}\n"
     ]
    },
    {
     "name": "stderr",
     "output_type": "stream",
     "text": [
      " 74%|██████████████████████████████████████████████████████████████▉                      | 7411/10000 [01:48<00:37, 69.10it/s]"
     ]
    },
    {
     "name": "stdout",
     "output_type": "stream",
     "text": [
      "Error in:\n",
      "1: FOR doc in sentences_view SEARCH ANALYZER(PHRASE(doc.sentence, \"Identifying \"best bet\" web search results by mining past user behavior\"), \"text_en\")\n",
      "2:     RETURN doc.\n",
      "->AQL: syntax error, unexpected identifier, expecting ) near 'best bet\" web search results by ...' at position 1:78 (while parsing). Errors: {'code': 400, 'error': True, 'errorMessage': 'AQL: syntax error, unexpected identifier, expecting ) near \\'best bet\" web search results by ...\\' at position 1:78 (while parsing)', 'errorNum': 1501}\n"
     ]
    },
    {
     "name": "stderr",
     "output_type": "stream",
     "text": [
      "100%|████████████████████████████████████████████████████████████████████████████████████| 10000/10000 [02:26<00:00, 68.27it/s]\n"
     ]
    }
   ],
   "source": [
    "r = search_for_titles(titles[:10000])"
   ]
  },
  {
   "cell_type": "code",
   "execution_count": 135,
   "id": "dd8a5559",
   "metadata": {},
   "outputs": [],
   "source": [
    "d = pd.DataFrame(r)"
   ]
  },
  {
   "cell_type": "code",
   "execution_count": 139,
   "id": "c3133eb6",
   "metadata": {},
   "outputs": [
    {
     "data": {
      "text/plain": [
       "45"
      ]
     },
     "execution_count": 139,
     "metadata": {},
     "output_type": "execute_result"
    }
   ],
   "source": [
    "len(d.doc_id.unique())"
   ]
  },
  {
   "cell_type": "code",
   "execution_count": 140,
   "id": "d3c64f6d",
   "metadata": {},
   "outputs": [
    {
     "name": "stderr",
     "output_type": "stream",
     "text": [
      "/home/stanislaw/repos/AI-stretegies-papers-regulations-monitoring/.venv/lib/python3.7/site-packages/ipykernel_launcher.py:3: TqdmDeprecationWarning: This function will be removed in tqdm==5.0.0\n",
      "Please use `tqdm.notebook.tqdm` instead of `tqdm.tqdm_notebook`\n",
      "  This is separate from the ipykernel package so we can avoid doing imports until\n"
     ]
    },
    {
     "data": {
      "application/vnd.jupyter.widget-view+json": {
       "model_id": "0f3bf39d4066476fb5b7806af8ced7d1",
       "version_major": 2,
       "version_minor": 0
      },
      "text/plain": [
       "  0%|          | 0/100000 [00:00<?, ?it/s]"
      ]
     },
     "metadata": {},
     "output_type": "display_data"
    },
    {
     "name": "stdout",
     "output_type": "stream",
     "text": [
      "Error in:\n",
      "1: FOR doc in sentences_view SEARCH ANALYZER(PHRASE(doc.sentence, \"Research of \"blind\" spot in LVQ network\"), \"text_en\")\n",
      "2:     RETURN doc.\n",
      "->AQL: syntax error, unexpected identifier, expecting ) near 'blind\" spot in LVQ network\"), \"t...' at position 1:78 (while parsing). Errors: {'code': 400, 'error': True, 'errorMessage': 'AQL: syntax error, unexpected identifier, expecting ) near \\'blind\" spot in LVQ network\"), \"t...\\' at position 1:78 (while parsing)', 'errorNum': 1501}\n",
      "Error in:\n",
      "1: FOR doc in sentences_view SEARCH ANALYZER(PHRASE(doc.sentence, \"An Experiment on Game Facet Combination\\\"), \"text_en\")\n",
      "2:     RETURN doc.\n",
      "->AQL: syntax error, unexpected identifier, expecting ) near 'text_en\")\n",
      "    RETURN doc' at position 1:110 (while parsing). Errors: {'code': 400, 'error': True, 'errorMessage': 'AQL: syntax error, unexpected identifier, expecting ) near \\'text_en\")\\n    RETURN doc\\' at position 1:110 (while parsing)', 'errorNum': 1501}\n",
      "Error in:\n",
      "1: FOR doc in sentences_view SEARCH ANALYZER(PHRASE(doc.sentence, \"\"Fuzzy\" versus \"nonfuzzy\" in combining classifiers designed by Boosting\"), \"text_en\")\n",
      "2:     RETURN doc.\n",
      "->AQL: syntax error, unexpected identifier, expecting ) near 'Fuzzy\" versus \"nonfuzzy\" in comb...' at position 1:66 (while parsing). Errors: {'code': 400, 'error': True, 'errorMessage': 'AQL: syntax error, unexpected identifier, expecting ) near \\'Fuzzy\" versus \"nonfuzzy\" in comb...\\' at position 1:66 (while parsing)', 'errorNum': 1501}\n",
      "Error in:\n",
      "1: FOR doc in sentences_view SEARCH ANALYZER(PHRASE(doc.sentence, \"Dtckp \" OTK \" Ugiogpvcvkqp \" Wukpi \" vjg \" Okzvwtg \" qh \" \" HEO \" cpf \" TDH \" Pgwtcn \" Pgvyqtm \"\"), \"text_en\")\n",
      "2:     RETURN doc.\n",
      "->AQL: syntax error, unexpected identifier, expecting ) near 'OTK \" Ugiogpvcvkqp \" Wukpi \" vjg...' at position 1:73 (while parsing). Errors: {'code': 400, 'error': True, 'errorMessage': 'AQL: syntax error, unexpected identifier, expecting ) near \\'OTK \" Ugiogpvcvkqp \" Wukpi \" vjg...\\' at position 1:73 (while parsing)', 'errorNum': 1501}\n",
      "Error in:\n",
      "1: FOR doc in sentences_view SEARCH ANALYZER(PHRASE(doc.sentence, \"Extracting fuzzy rules from \"mental\" images generated by a modified WISARD perceptron\"), \"text_en\")\n",
      "2:     RETURN doc.\n",
      "->AQL: syntax error, unexpected identifier, expecting ) near 'mental\" images generated by a mo...' at position 1:94 (while parsing). Errors: {'code': 400, 'error': True, 'errorMessage': 'AQL: syntax error, unexpected identifier, expecting ) near \\'mental\" images generated by a mo...\\' at position 1:94 (while parsing)', 'errorNum': 1501}\n",
      "Error in:\n",
      "1: FOR doc in sentences_view SEARCH ANALYZER(PHRASE(doc.sentence, \"A simple \"possibilistic\" clustering neural network\"), \"text_en\")\n",
      "2:     RETURN doc.\n",
      "->AQL: syntax error, unexpected identifier, expecting ) near 'possibilistic\" clustering neural...' at position 1:75 (while parsing). Errors: {'code': 400, 'error': True, 'errorMessage': 'AQL: syntax error, unexpected identifier, expecting ) near \\'possibilistic\" clustering neural...\\' at position 1:75 (while parsing)', 'errorNum': 1501}\n",
      "Error in:\n",
      "1: FOR doc in sentences_view SEARCH ANALYZER(PHRASE(doc.sentence, \"Supplementary material from \"Inferring locomotor behaviours in Miocene New World monkeys using finite-element analysis, geometric morphometrics and machine-learning classification techniques applied to talar morphology\"\"), \"text_en\")\n",
      "2:     RETURN doc.\n",
      "->AQL: syntax error, unexpected identifier, expecting ) near 'Inferring locomotor behaviours i...' at position 1:94 (while parsing). Errors: {'code': 400, 'error': True, 'errorMessage': \"AQL: syntax error, unexpected identifier, expecting ) near 'Inferring locomotor behaviours i...' at position 1:94 (while parsing)\", 'errorNum': 1501}\n",
      "Error in:\n",
      "1: FOR doc in sentences_view SEARCH ANALYZER(PHRASE(doc.sentence, \"\"What happens if...\"Learning to Predict the Effect of Forces in Images\"), \"text_en\")\n",
      "2:     RETURN doc.\n",
      "->AQL: syntax error, unexpected identifier, expecting ) near 'What happens if...\"Learning to P...' at position 1:66 (while parsing). Errors: {'code': 400, 'error': True, 'errorMessage': 'AQL: syntax error, unexpected identifier, expecting ) near \\'What happens if...\"Learning to P...\\' at position 1:66 (while parsing)', 'errorNum': 1501}\n",
      "Error in:\n",
      "1: FOR doc in sentences_view SEARCH ANALYZER(PHRASE(doc.sentence, \"and half are \"positive\" or \"with signal\" (Note, that\"), \"text_en\")\n",
      "2:     RETURN doc.\n",
      "->AQL: syntax error, unexpected identifier, expecting ) near 'positive\" or \"with signal\" (Note...' at position 1:79 (while parsing). Errors: {'code': 400, 'error': True, 'errorMessage': 'AQL: syntax error, unexpected identifier, expecting ) near \\'positive\" or \"with signal\" (Note...\\' at position 1:79 (while parsing)', 'errorNum': 1501}\n",
      "Error in:\n",
      "1: FOR doc in sentences_view SEARCH ANALYZER(PHRASE(doc.sentence, \"Notice of RetractionAnalysis of concept speculation in \"Knowledge Management\"\"), \"text_en\")\n",
      "2:     RETURN doc.\n",
      "->AQL: syntax error, unexpected identifier, expecting ) near 'Knowledge Management\"\"), \"text_e...' at position 1:121 (while parsing). Errors: {'code': 400, 'error': True, 'errorMessage': 'AQL: syntax error, unexpected identifier, expecting ) near \\'Knowledge Management\"\"), \"text_e...\\' at position 1:121 (while parsing)', 'errorNum': 1501}\n",
      "Error in:\n",
      "1: FOR doc in sentences_view SEARCH ANALYZER(PHRASE(doc.sentence, \"An Empirical Research: \"Wikipedia Vandalism Detection using VandalSense 2.0\" - Notebook for PAN at CLEF 2011\"), \"text_en\")\n",
      "2:     RETURN doc.\n",
      "->AQL: syntax error, unexpected identifier, expecting ) near 'Wikipedia Vandalism Detection us...' at position 1:89 (while parsing). Errors: {'code': 400, 'error': True, 'errorMessage': \"AQL: syntax error, unexpected identifier, expecting ) near 'Wikipedia Vandalism Detection us...' at position 1:89 (while parsing)\", 'errorNum': 1501}\n",
      "Error in:\n",
      "1: FOR doc in sentences_view SEARCH ANALYZER(PHRASE(doc.sentence, \"An introduction to case-based reasoning\" AI Expert\"), \"text_en\")\n",
      "2:     RETURN doc.\n",
      "->AQL: syntax error, unexpected identifier, expecting ) near 'AI Expert\"), \"text_en\")\n",
      "    RETU...' at position 1:106 (while parsing). Errors: {'code': 400, 'error': True, 'errorMessage': 'AQL: syntax error, unexpected identifier, expecting ) near \\'AI Expert\"), \"text_en\")\\n    RETU...\\' at position 1:106 (while parsing)', 'errorNum': 1501}\n",
      "Error in:\n",
      "1: FOR doc in sentences_view SEARCH ANALYZER(PHRASE(doc.sentence, \"\"Unvoiced speech recognition using EMG - mime speech recognition\"\"), \"text_en\")\n",
      "2:     RETURN doc.\n",
      "->AQL: syntax error, unexpected identifier, expecting ) near 'Unvoiced speech recognition usin...' at position 1:66 (while parsing). Errors: {'code': 400, 'error': True, 'errorMessage': \"AQL: syntax error, unexpected identifier, expecting ) near 'Unvoiced speech recognition usin...' at position 1:66 (while parsing)\", 'errorNum': 1501}\n",
      "Error in:\n",
      "1: FOR doc in sentences_view SEARCH ANALYZER(PHRASE(doc.sentence, \"Identifying \"best bet\" web search results by mining past user behavior\"), \"text_en\")\n",
      "2:     RETURN doc.\n",
      "->AQL: syntax error, unexpected identifier, expecting ) near 'best bet\" web search results by ...' at position 1:78 (while parsing). Errors: {'code': 400, 'error': True, 'errorMessage': 'AQL: syntax error, unexpected identifier, expecting ) near \\'best bet\" web search results by ...\\' at position 1:78 (while parsing)', 'errorNum': 1501}\n",
      "Error in:\n",
      "1: FOR doc in sentences_view SEARCH ANALYZER(PHRASE(doc.sentence, \"\"Field Reviews\": A new style of review article for Artificial Intelligence\"), \"text_en\")\n",
      "2:     RETURN doc.\n",
      "->AQL: syntax error, unexpected identifier, expecting ) near 'Field Reviews\": A new style of r...' at position 1:66 (while parsing). Errors: {'code': 400, 'error': True, 'errorMessage': 'AQL: syntax error, unexpected identifier, expecting ) near \\'Field Reviews\": A new style of r...\\' at position 1:66 (while parsing)', 'errorNum': 1501}\n",
      "Error in:\n",
      "1: FOR doc in sentences_view SEARCH ANALYZER(PHRASE(doc.sentence, \"Author manuscript, published in \"LREC'12, Istanbul: Turkey (2012)\" A French Fairy Tale Corpus syntactically and semantically annotated\"), \"text_en\")\n",
      "2:     RETURN doc.\n",
      "->AQL: syntax error, unexpected identifier, expecting ) near 'LREC'12, Istanbul: Turkey (2012)...' at position 1:98 (while parsing). Errors: {'code': 400, 'error': True, 'errorMessage': \"AQL: syntax error, unexpected identifier, expecting ) near 'LREC'12, Istanbul: Turkey (2012)...' at position 1:98 (while parsing)\", 'errorNum': 1501}\n"
     ]
    },
    {
     "name": "stdout",
     "output_type": "stream",
     "text": [
      "Error in:\n",
      "1: FOR doc in sentences_view SEARCH ANALYZER(PHRASE(doc.sentence, \"A Contrastive Analysis of the Semantic Meaning on Synonymous Classifiers \"Ceng\" and \"Chong\"\"), \"text_en\")\n",
      "2:     RETURN doc.\n",
      "->AQL: syntax error, unexpected identifier, expecting ) near 'Ceng\" and \"Chong\"\"), \"text_en\")\n",
      "...' at position 1:139 (while parsing). Errors: {'code': 400, 'error': True, 'errorMessage': 'AQL: syntax error, unexpected identifier, expecting ) near \\'Ceng\" and \"Chong\"\"), \"text_en\")\\n...\\' at position 1:139 (while parsing)', 'errorNum': 1501}\n",
      "Error in:\n",
      "1: FOR doc in sentences_view SEARCH ANALYZER(PHRASE(doc.sentence, \"The \"feature CMAC\": a neural-network-based vision system for robotic control\"), \"text_en\")\n",
      "2:     RETURN doc.\n",
      "->AQL: syntax error, unexpected identifier, expecting ) near 'feature CMAC\": a neural-network-...' at position 1:70 (while parsing). Errors: {'code': 400, 'error': True, 'errorMessage': 'AQL: syntax error, unexpected identifier, expecting ) near \\'feature CMAC\": a neural-network-...\\' at position 1:70 (while parsing)', 'errorNum': 1501}\n",
      "Error in:\n",
      "1: FOR doc in sentences_view SEARCH ANALYZER(PHRASE(doc.sentence, \"VISUAL INTERFACES TO COMPUTERS: A SYSTEMS-ORIENTED FIRST COURSE IN RELIABLE CONTROL VIA IMAGERY (\"VISUAL INTERFACES\")\"), \"text_en\")\n",
      "2:     RETURN doc.\n",
      "->AQL: syntax error, unexpected identifier, expecting ) near 'VISUAL INTERFACES\")\"), \"text_en\"...' at position 1:163 (while parsing). Errors: {'code': 400, 'error': True, 'errorMessage': 'AQL: syntax error, unexpected identifier, expecting ) near \\'VISUAL INTERFACES\")\"), \"text_en\"...\\' at position 1:163 (while parsing)', 'errorNum': 1501}\n",
      "Error in:\n",
      "1: FOR doc in sentences_view SEARCH ANALYZER(PHRASE(doc.sentence, \"\"Smart\" design space sampling to predict Pareto-optimal solutions\"), \"text_en\")\n",
      "2:     RETURN doc.\n",
      "->AQL: syntax error, unexpected identifier, expecting ) near 'Smart\" design space sampling to ...' at position 1:66 (while parsing). Errors: {'code': 400, 'error': True, 'errorMessage': 'AQL: syntax error, unexpected identifier, expecting ) near \\'Smart\" design space sampling to ...\\' at position 1:66 (while parsing)', 'errorNum': 1501}\n",
      "Error in:\n",
      "1: FOR doc in sentences_view SEARCH ANALYZER(PHRASE(doc.sentence, \"\"Visual ophthalmologist\" an automated system for classification of retinal damage\"), \"text_en\")\n",
      "2:     RETURN doc.\n",
      "->AQL: syntax error, unexpected identifier, expecting ) near 'Visual ophthalmologist\" an autom...' at position 1:66 (while parsing). Errors: {'code': 400, 'error': True, 'errorMessage': 'AQL: syntax error, unexpected identifier, expecting ) near \\'Visual ophthalmologist\" an autom...\\' at position 1:66 (while parsing)', 'errorNum': 1501}\n",
      "Error in:\n",
      "1: FOR doc in sentences_view SEARCH ANALYZER(PHRASE(doc.sentence, \"Simulation of Large Spiking Neural Networks on Distributed Architectures, The \"DAMNED\" Simulator\"), \"text_en\")\n",
      "2:     RETURN doc.\n",
      "->AQL: syntax error, unexpected identifier, expecting ) near 'DAMNED\" Simulator\"), \"text_en\")\n",
      "...' at position 1:144 (while parsing). Errors: {'code': 400, 'error': True, 'errorMessage': 'AQL: syntax error, unexpected identifier, expecting ) near \\'DAMNED\" Simulator\"), \"text_en\")\\n...\\' at position 1:144 (while parsing)', 'errorNum': 1501}\n",
      "Error in:\n",
      "1: FOR doc in sentences_view SEARCH ANALYZER(PHRASE(doc.sentence, \"Design and application of maize precise planting decision system based on \"3S\"\"), \"text_en\")\n",
      "2:     RETURN doc.\n",
      "->AQL: syntax error, unexpected integer number, expecting ) near '3S\"\"), \"text_en\")\n",
      "    RETURN doc...' at position 1:140 (while parsing). Errors: {'code': 400, 'error': True, 'errorMessage': 'AQL: syntax error, unexpected integer number, expecting ) near \\'3S\"\"), \"text_en\")\\n    RETURN doc...\\' at position 1:140 (while parsing)', 'errorNum': 1501}\n",
      "Error in:\n",
      "1: FOR doc in sentences_view SEARCH ANALYZER(PHRASE(doc.sentence, \"The process of study to\"Machine Study\" --Illustrate in brief the general process in science study\"), \"text_en\")\n",
      "2:     RETURN doc.\n",
      "->AQL: syntax error, unexpected identifier, expecting ) near 'Machine Study\" --Illustrate in b...' at position 1:89 (while parsing). Errors: {'code': 400, 'error': True, 'errorMessage': 'AQL: syntax error, unexpected identifier, expecting ) near \\'Machine Study\" --Illustrate in b...\\' at position 1:89 (while parsing)', 'errorNum': 1501}\n",
      "Error in:\n",
      "1: FOR doc in sentences_view SEARCH ANALYZER(PHRASE(doc.sentence, \"A Fair Comparison Should Be Based on the Same Protocol--Comments on \"Trainable Convolution Filters and Their Application to Face Recognition\"\"), \"text_en\")\n",
      "2:     RETURN doc.\n",
      "->AQL: syntax error, unexpected identifier, expecting ) near 'Trainable Convolution Filters an...' at position 1:134 (while parsing). Errors: {'code': 400, 'error': True, 'errorMessage': \"AQL: syntax error, unexpected identifier, expecting ) near 'Trainable Convolution Filters an...' at position 1:134 (while parsing)\", 'errorNum': 1501}\n",
      "Error in:\n",
      "1: FOR doc in sentences_view SEARCH ANALYZER(PHRASE(doc.sentence, \"\"I ain't tellin' white folks nuthin\": A quantitative exploration of the race-related problem of candour in the WPA slave narratives\"), \"text_en\")\n",
      "2:     RETURN doc.\n",
      "->AQL: syntax error, unexpected identifier, expecting ) near 'I ain't tellin' white folks nuth...' at position 1:66 (while parsing). Errors: {'code': 400, 'error': True, 'errorMessage': \"AQL: syntax error, unexpected identifier, expecting ) near 'I ain't tellin' white folks nuth...' at position 1:66 (while parsing)\", 'errorNum': 1501}\n",
      "Error in:\n",
      "1: FOR doc in sentences_view SEARCH ANALYZER(PHRASE(doc.sentence, \"\"The Leicester City Fairytale?\": Utilizing New Soccer Analytics Tools to Compare Performance in the 15/16 & 16/17 EPL Seasons\"), \"text_en\")\n",
      "2:     RETURN doc.\n",
      "->AQL: syntax error, unexpected identifier, expecting ) near 'The Leicester City Fairytale?\": ...' at position 1:66 (while parsing). Errors: {'code': 400, 'error': True, 'errorMessage': 'AQL: syntax error, unexpected identifier, expecting ) near \\'The Leicester City Fairytale?\": ...\\' at position 1:66 (while parsing)', 'errorNum': 1501}\n",
      "Error in:\n",
      "1: FOR doc in sentences_view SEARCH ANALYZER(PHRASE(doc.sentence, \"Comments on \"Noise injection into inputs in back propagation learning\"\"), \"text_en\")\n",
      "2:     RETURN doc.\n",
      "->AQL: syntax error, unexpected identifier, expecting ) near 'Noise injection into inputs in b...' at position 1:78 (while parsing). Errors: {'code': 400, 'error': True, 'errorMessage': \"AQL: syntax error, unexpected identifier, expecting ) near 'Noise injection into inputs in b...' at position 1:78 (while parsing)\", 'errorNum': 1501}\n",
      "Error in:\n",
      "1: FOR doc in sentences_view SEARCH ANALYZER(PHRASE(doc.sentence, \"IMPACT OF \"ASCENDING SEQUENCE \" AI (AUDITORY PRIMARY CORTEX) CELLS ON STOP CONSONANT PERCEPTION.\"), \"text_en\")\n",
      "2:     RETURN doc.\n",
      "->AQL: syntax error, unexpected identifier, expecting ) near 'ASCENDING SEQUENCE \" AI (AUDITOR...' at position 1:76 (while parsing). Errors: {'code': 400, 'error': True, 'errorMessage': 'AQL: syntax error, unexpected identifier, expecting ) near \\'ASCENDING SEQUENCE \" AI (AUDITOR...\\' at position 1:76 (while parsing)', 'errorNum': 1501}\n",
      "Error in:\n",
      "1: FOR doc in sentences_view SEARCH ANALYZER(PHRASE(doc.sentence, \"An exploratory study on \"cross-inference method\" for supporting idea generation process of industrial designers\"), \"text_en\")\n",
      "2:     RETURN doc.\n",
      "->AQL: syntax error, unexpected identifier, expecting ) near 'cross-inference method\" for supp...' at position 1:90 (while parsing). Errors: {'code': 400, 'error': True, 'errorMessage': 'AQL: syntax error, unexpected identifier, expecting ) near \\'cross-inference method\" for supp...\\' at position 1:90 (while parsing)', 'errorNum': 1501}\n",
      "Error in:\n",
      "1: FOR doc in sentences_view SEARCH ANALYZER(PHRASE(doc.sentence, \"Real-Time Identification of a Robot Manipulator Using a \"Neural Network\" Approach\"), \"text_en\")\n",
      "2:     RETURN doc.\n",
      "->AQL: syntax error, unexpected identifier, expecting ) near 'Neural Network\" Approach\"), \"tex...' at position 1:122 (while parsing). Errors: {'code': 400, 'error': True, 'errorMessage': 'AQL: syntax error, unexpected identifier, expecting ) near \\'Neural Network\" Approach\"), \"tex...\\' at position 1:122 (while parsing)', 'errorNum': 1501}\n"
     ]
    },
    {
     "name": "stdout",
     "output_type": "stream",
     "text": [
      "Error in:\n",
      "1: FOR doc in sentences_view SEARCH ANALYZER(PHRASE(doc.sentence, \"Technocultural Pluralism: A \"Clash of Civilizations\" in Technology?\"), \"text_en\")\n",
      "2:     RETURN doc.\n",
      "->AQL: syntax error, unexpected identifier, expecting ) near 'Clash of Civilizations\" in Techn...' at position 1:94 (while parsing). Errors: {'code': 400, 'error': True, 'errorMessage': 'AQL: syntax error, unexpected identifier, expecting ) near \\'Clash of Civilizations\" in Techn...\\' at position 1:94 (while parsing)', 'errorNum': 1501}\n",
      "Error in:\n",
      "1: FOR doc in sentences_view SEARCH ANALYZER(PHRASE(doc.sentence, \"\"Those look similar!\" issues in automating gesture design advice\"), \"text_en\")\n",
      "2:     RETURN doc.\n",
      "->AQL: syntax error, unexpected identifier, expecting ) near 'Those look similar!\" issues in a...' at position 1:66 (while parsing). Errors: {'code': 400, 'error': True, 'errorMessage': 'AQL: syntax error, unexpected identifier, expecting ) near \\'Those look similar!\" issues in a...\\' at position 1:66 (while parsing)', 'errorNum': 1501}\n",
      "Error in:\n",
      "1: FOR doc in sentences_view SEARCH ANALYZER(PHRASE(doc.sentence, \"Extracting \"Documents\" from Web Archives\"), \"text_en\")\n",
      "2:     RETURN doc.\n",
      "->AQL: syntax error, unexpected identifier, expecting ) near 'Documents\" from Web Archives\"), ...' at position 1:77 (while parsing). Errors: {'code': 400, 'error': True, 'errorMessage': 'AQL: syntax error, unexpected identifier, expecting ) near \\'Documents\" from Web Archives\"), ...\\' at position 1:77 (while parsing)', 'errorNum': 1501}\n",
      "Error in:\n",
      "1: FOR doc in sentences_view SEARCH ANALYZER(PHRASE(doc.sentence, \"Market-Based Control for Quality of Services in Network Applications(Special Issue:\"Doctorial Theses on Artificial Intelligence\")\"), \"text_en\")\n",
      "2:     RETURN doc.\n",
      "->AQL: syntax error, unexpected identifier, expecting ) near 'Doctorial Theses on Artificial I...' at position 1:149 (while parsing). Errors: {'code': 400, 'error': True, 'errorMessage': \"AQL: syntax error, unexpected identifier, expecting ) near 'Doctorial Theses on Artificial I...' at position 1:149 (while parsing)\", 'errorNum': 1501}\n",
      "Error in:\n",
      "1: FOR doc in sentences_view SEARCH ANALYZER(PHRASE(doc.sentence, \"Research and Practice of \"Internet + Teaching\" Mode for Cyberkids\"), \"text_en\")\n",
      "2:     RETURN doc.\n",
      "->AQL: syntax error, unexpected identifier, expecting ) near 'Internet + Teaching\" Mode for Cy...' at position 1:91 (while parsing). Errors: {'code': 400, 'error': True, 'errorMessage': 'AQL: syntax error, unexpected identifier, expecting ) near \\'Internet + Teaching\" Mode for Cy...\\' at position 1:91 (while parsing)', 'errorNum': 1501}\n",
      "Error in:\n",
      "1: FOR doc in sentences_view SEARCH ANALYZER(PHRASE(doc.sentence, \"Hierarchy and History in Simon's \"Architecture of Complexity\"\"), \"text_en\")\n",
      "2:     RETURN doc.\n",
      "->AQL: syntax error, unexpected identifier, expecting ) near 'Architecture of Complexity\"\"), \"...' at position 1:99 (while parsing). Errors: {'code': 400, 'error': True, 'errorMessage': 'AQL: syntax error, unexpected identifier, expecting ) near \\'Architecture of Complexity\"\"), \"...\\' at position 1:99 (while parsing)', 'errorNum': 1501}\n",
      "Error in:\n",
      "1: FOR doc in sentences_view SEARCH ANALYZER(PHRASE(doc.sentence, \"Book Review: \"Artificial Neural Network for Speech and Vision\", by Richard J. Mammone\"), \"text_en\")\n",
      "2:     RETURN doc.\n",
      "->AQL: syntax error, unexpected identifier, expecting ) near 'Artificial Neural Network for Sp...' at position 1:79 (while parsing). Errors: {'code': 400, 'error': True, 'errorMessage': \"AQL: syntax error, unexpected identifier, expecting ) near 'Artificial Neural Network for Sp...' at position 1:79 (while parsing)\", 'errorNum': 1501}\n",
      "Error in:\n",
      "1: FOR doc in sentences_view SEARCH ANALYZER(PHRASE(doc.sentence, \"Research data supporting \"Energy Landscapes for a Machine Learning Application to Series Data\"\"), \"text_en\")\n",
      "2:     RETURN doc.\n",
      "->AQL: syntax error, unexpected identifier, expecting ) near 'Energy Landscapes for a Machine ...' at position 1:91 (while parsing). Errors: {'code': 400, 'error': True, 'errorMessage': \"AQL: syntax error, unexpected identifier, expecting ) near 'Energy Landscapes for a Machine ...' at position 1:91 (while parsing)\", 'errorNum': 1501}\n",
      "Error in:\n",
      "1: FOR doc in sentences_view SEARCH ANALYZER(PHRASE(doc.sentence, \"Simulating the Information Processing Associated with Human Consciousness in a Bilateral Neural Network: \"Nuclear\" and \"Fringe\" Awareness.\"), \"text_en\")\n",
      "2:     RETURN doc.\n",
      "->AQL: syntax error, unexpected identifier, expecting ) near 'Nuclear\" and \"Fringe\" Awareness....' at position 1:171 (while parsing). Errors: {'code': 400, 'error': True, 'errorMessage': 'AQL: syntax error, unexpected identifier, expecting ) near \\'Nuclear\" and \"Fringe\" Awareness....\\' at position 1:171 (while parsing)', 'errorNum': 1501}\n",
      "Error in:\n",
      "1: FOR doc in sentences_view SEARCH ANALYZER(PHRASE(doc.sentence, \"Comments on \"Robustifying nonlinear systems using high-order neural network controllers\"\"), \"text_en\")\n",
      "2:     RETURN doc.\n",
      "->AQL: syntax error, unexpected identifier, expecting ) near 'Robustifying nonlinear systems u...' at position 1:78 (while parsing). Errors: {'code': 400, 'error': True, 'errorMessage': \"AQL: syntax error, unexpected identifier, expecting ) near 'Robustifying nonlinear systems u...' at position 1:78 (while parsing)\", 'errorNum': 1501}\n",
      "Error in:\n",
      "1: FOR doc in sentences_view SEARCH ANALYZER(PHRASE(doc.sentence, \"Disambiguating \"DE\" for Chinese-English Machine Translation\"), \"text_en\")\n",
      "2:     RETURN doc.\n",
      "->AQL: syntax error, unexpected identifier, expecting ) near 'DE\" for Chinese-English Machine ...' at position 1:81 (while parsing). Errors: {'code': 400, 'error': True, 'errorMessage': 'AQL: syntax error, unexpected identifier, expecting ) near \\'DE\" for Chinese-English Machine ...\\' at position 1:81 (while parsing)', 'errorNum': 1501}\n",
      "Error in:\n",
      "1: FOR doc in sentences_view SEARCH ANALYZER(PHRASE(doc.sentence, \"Author response for \"Performance enhancement of the artificial neural network–based reinforcement learning for wind turbine yaw control\"\"), \"text_en\")\n",
      "2:     RETURN doc.\n",
      "->AQL: syntax error, unexpected identifier, expecting ) near 'Performance enhancement of the a...' at position 1:86 (while parsing). Errors: {'code': 400, 'error': True, 'errorMessage': \"AQL: syntax error, unexpected identifier, expecting ) near 'Performance enhancement of the a...' at position 1:86 (while parsing)\", 'errorNum': 1501}\n",
      "Error in:\n",
      "1: FOR doc in sentences_view SEARCH ANALYZER(PHRASE(doc.sentence, \"Fuzzy control based on \"true and false\" philosophy for mechatronics systems\"), \"text_en\")\n",
      "2:     RETURN doc.\n",
      "->AQL: syntax error, unexpected true, expecting ) near 'true and false\" philosophy for m...' at position 1:89 (while parsing). Errors: {'code': 400, 'error': True, 'errorMessage': 'AQL: syntax error, unexpected true, expecting ) near \\'true and false\" philosophy for m...\\' at position 1:89 (while parsing)', 'errorNum': 1501}\n",
      "Error in:\n",
      "1: FOR doc in sentences_view SEARCH ANALYZER(PHRASE(doc.sentence, \"Review of \"Principles of Artificial Intelligence by Nils J. Nilsson\", Tioga Publishing Co.\"), \"text_en\")\n",
      "2:     RETURN doc.\n",
      "->AQL: syntax error, unexpected identifier, expecting ) near 'Principles of Artificial Intelli...' at position 1:76 (while parsing). Errors: {'code': 400, 'error': True, 'errorMessage': \"AQL: syntax error, unexpected identifier, expecting ) near 'Principles of Artificial Intelli...' at position 1:76 (while parsing)\", 'errorNum': 1501}\n",
      "Error in:\n",
      "1: FOR doc in sentences_view SEARCH ANALYZER(PHRASE(doc.sentence, \"A development of interactive game \"Ting Ting\" using real and virtual objects\"), \"text_en\")\n",
      "2:     RETURN doc.\n",
      "->AQL: syntax error, unexpected identifier, expecting ) near 'Ting Ting\" using real and virtua...' at position 1:100 (while parsing). Errors: {'code': 400, 'error': True, 'errorMessage': 'AQL: syntax error, unexpected identifier, expecting ) near \\'Ting Ting\" using real and virtua...\\' at position 1:100 (while parsing)', 'errorNum': 1501}\n",
      "Error in:\n",
      "1: FOR doc in sentences_view SEARCH ANALYZER(PHRASE(doc.sentence, \"A \"Go/No' Perceptron Stock Classification Model\"), \"text_en\")\n",
      "2:     RETURN doc.\n",
      "->AQL: syntax error, unexpected identifier, expecting ) near 'Go/No' Perceptron Stock Classifi...' at position 1:68 (while parsing). Errors: {'code': 400, 'error': True, 'errorMessage': \"AQL: syntax error, unexpected identifier, expecting ) near 'Go/No' Perceptron Stock Classifi...' at position 1:68 (while parsing)\", 'errorNum': 1501}\n"
     ]
    },
    {
     "name": "stdout",
     "output_type": "stream",
     "text": [
      "Error in:\n",
      "1: FOR doc in sentences_view SEARCH ANALYZER(PHRASE(doc.sentence, \"Sampling the\"Inverse Set\"of a Neuron: An Approach to Understanding Neural Nets\"), \"text_en\")\n",
      "2:     RETURN doc.\n",
      "->AQL: syntax error, unexpected identifier, expecting ) near 'Inverse Set\"of a Neuron: An Appr...' at position 1:78 (while parsing). Errors: {'code': 400, 'error': True, 'errorMessage': 'AQL: syntax error, unexpected identifier, expecting ) near \\'Inverse Set\"of a Neuron: An Appr...\\' at position 1:78 (while parsing)', 'errorNum': 1501}\n",
      "Error in:\n",
      "1: FOR doc in sentences_view SEARCH ANALYZER(PHRASE(doc.sentence, \"\"I loan because...\": understanding motivations for pro-social lending\"), \"text_en\")\n",
      "2:     RETURN doc.\n",
      "->AQL: syntax error, unexpected identifier, expecting ) near 'I loan because...\": understandin...' at position 1:66 (while parsing). Errors: {'code': 400, 'error': True, 'errorMessage': 'AQL: syntax error, unexpected identifier, expecting ) near \\'I loan because...\": understandin...\\' at position 1:66 (while parsing)', 'errorNum': 1501}\n",
      "Error in:\n",
      "1: FOR doc in sentences_view SEARCH ANALYZER(PHRASE(doc.sentence, \"Determining optical flow\" Artificial Intelligence 17\"), \"text_en\")\n",
      "2:     RETURN doc.\n",
      "->AQL: syntax error, unexpected identifier, expecting ) near 'Artificial Intelligence 17\"), \"t...' at position 1:91 (while parsing). Errors: {'code': 400, 'error': True, 'errorMessage': 'AQL: syntax error, unexpected identifier, expecting ) near \\'Artificial Intelligence 17\"), \"t...\\' at position 1:91 (while parsing)', 'errorNum': 1501}\n",
      "Error in:\n",
      "1: FOR doc in sentences_view SEARCH ANALYZER(PHRASE(doc.sentence, \"Book Review: \"Machine Learning: A Theoretical Approach\"\"), \"text_en\")\n",
      "2:     RETURN doc.\n",
      "->AQL: syntax error, unexpected identifier, expecting ) near 'Machine Learning: A Theoretical ...' at position 1:79 (while parsing). Errors: {'code': 400, 'error': True, 'errorMessage': \"AQL: syntax error, unexpected identifier, expecting ) near 'Machine Learning: A Theoretical ...' at position 1:79 (while parsing)\", 'errorNum': 1501}\n",
      "Error in:\n",
      "1: FOR doc in sentences_view SEARCH ANALYZER(PHRASE(doc.sentence, \"Uniform Learning in a Deep Neural Network via\"Oddball\"Stochastic Gradient Descent\"), \"text_en\")\n",
      "2:     RETURN doc.\n",
      "->AQL: syntax error, unexpected identifier, expecting ) near 'Oddball\"Stochastic Gradient Desc...' at position 1:111 (while parsing). Errors: {'code': 400, 'error': True, 'errorMessage': 'AQL: syntax error, unexpected identifier, expecting ) near \\'Oddball\"Stochastic Gradient Desc...\\' at position 1:111 (while parsing)', 'errorNum': 1501}\n",
      "Error in:\n",
      "1: FOR doc in sentences_view SEARCH ANALYZER(PHRASE(doc.sentence, \"\"Honorary Canadian\" heals a broken space station.\"), \"text_en\")\n",
      "2:     RETURN doc.\n",
      "->AQL: syntax error, unexpected identifier, expecting ) near 'Honorary Canadian\" heals a broke...' at position 1:66 (while parsing). Errors: {'code': 400, 'error': True, 'errorMessage': 'AQL: syntax error, unexpected identifier, expecting ) near \\'Honorary Canadian\" heals a broke...\\' at position 1:66 (while parsing)', 'errorNum': 1501}\n",
      "Error in:\n",
      "1: FOR doc in sentences_view SEARCH ANALYZER(PHRASE(doc.sentence, \"Corrigendum to \"A review on computer vision based defect detection and condition assessment of concrete and asphalt civil infrastructure\" [Advanced Engineering Informatics 29(2) (2015) 196-210]\"), \"text_en\")\n",
      "2:     RETURN doc.\n",
      "->AQL: syntax error, unexpected identifier, expecting ) near 'A review on computer vision base...' at position 1:81 (while parsing). Errors: {'code': 400, 'error': True, 'errorMessage': \"AQL: syntax error, unexpected identifier, expecting ) near 'A review on computer vision base...' at position 1:81 (while parsing)\", 'errorNum': 1501}\n",
      "Error in:\n",
      "1: FOR doc in sentences_view SEARCH ANALYZER(PHRASE(doc.sentence, \"Author manuscript, published in \"Artificial Evolution (2011)\" Learn-and-Optimize: a Parameter Tuning Framework for Evolutionary AI Planning\"), \"text_en\")\n",
      "2:     RETURN doc.\n",
      "->AQL: syntax error, unexpected identifier, expecting ) near 'Artificial Evolution (2011)\" Lea...' at position 1:98 (while parsing). Errors: {'code': 400, 'error': True, 'errorMessage': 'AQL: syntax error, unexpected identifier, expecting ) near \\'Artificial Evolution (2011)\" Lea...\\' at position 1:98 (while parsing)', 'errorNum': 1501}\n",
      "Error in:\n",
      "1: FOR doc in sentences_view SEARCH ANALYZER(PHRASE(doc.sentence, \"\"Making the News\": Identifying Noteworthy Events in News Articles\"), \"text_en\")\n",
      "2:     RETURN doc.\n",
      "->AQL: syntax error, unexpected identifier, expecting ) near 'Making the News\": Identifying No...' at position 1:66 (while parsing). Errors: {'code': 400, 'error': True, 'errorMessage': 'AQL: syntax error, unexpected identifier, expecting ) near \\'Making the News\": Identifying No...\\' at position 1:66 (while parsing)', 'errorNum': 1501}\n",
      "Error in:\n",
      "1: FOR doc in sentences_view SEARCH ANALYZER(PHRASE(doc.sentence, \"Using \"The Machine Stops\" for Teaching Ethics in Artificial Intelligence and Computer Science\"), \"text_en\")\n",
      "2:     RETURN doc.\n",
      "->AQL: syntax error, unexpected identifier, expecting ) near 'The Machine Stops\" for Teaching ...' at position 1:72 (while parsing). Errors: {'code': 400, 'error': True, 'errorMessage': 'AQL: syntax error, unexpected identifier, expecting ) near \\'The Machine Stops\" for Teaching ...\\' at position 1:72 (while parsing)', 'errorNum': 1501}\n",
      "Error in:\n",
      "1: FOR doc in sentences_view SEARCH ANALYZER(PHRASE(doc.sentence, \"The use of soft computing approaches \"FL\" models for medical prognosis \"NPC\"\"), \"text_en\")\n",
      "2:     RETURN doc.\n",
      "->AQL: syntax error, unexpected identifier, expecting ) near 'FL\" models for medical prognosis...' at position 1:103 (while parsing). Errors: {'code': 400, 'error': True, 'errorMessage': 'AQL: syntax error, unexpected identifier, expecting ) near \\'FL\" models for medical prognosis...\\' at position 1:103 (while parsing)', 'errorNum': 1501}\n",
      "Error in:\n",
      "1: FOR doc in sentences_view SEARCH ANALYZER(PHRASE(doc.sentence, \"On the\"steerability\"of generative adversarial networks\"), \"text_en\")\n",
      "2:     RETURN doc.\n",
      "->AQL: syntax error, unexpected identifier, expecting ) near 'steerability\"of generative adver...' at position 1:72 (while parsing). Errors: {'code': 400, 'error': True, 'errorMessage': 'AQL: syntax error, unexpected identifier, expecting ) near \\'steerability\"of generative adver...\\' at position 1:72 (while parsing)', 'errorNum': 1501}\n",
      "Error in:\n",
      "1: FOR doc in sentences_view SEARCH ANALYZER(PHRASE(doc.sentence, \"\"Fuzzy\" and AI\"), \"text_en\")\n",
      "2:     RETURN doc.\n",
      "->AQL: syntax error, unexpected identifier, expecting ) near 'Fuzzy\" and AI\"), \"text_en\")\n",
      "    ...' at position 1:66 (while parsing). Errors: {'code': 400, 'error': True, 'errorMessage': 'AQL: syntax error, unexpected identifier, expecting ) near \\'Fuzzy\" and AI\"), \"text_en\")\\n    ...\\' at position 1:66 (while parsing)', 'errorNum': 1501}\n",
      "Error in:\n",
      "1: FOR doc in sentences_view SEARCH ANALYZER(PHRASE(doc.sentence, \"When can \"big data\" be \"in-memory\"?\"), \"text_en\")\n",
      "2:     RETURN doc.\n",
      "->AQL: syntax error, unexpected identifier, expecting ) near 'big data\" be \"in-memory\"?\"), \"te...' at position 1:75 (while parsing). Errors: {'code': 400, 'error': True, 'errorMessage': 'AQL: syntax error, unexpected identifier, expecting ) near \\'big data\" be \"in-memory\"?\"), \"te...\\' at position 1:75 (while parsing)', 'errorNum': 1501}\n",
      "Error in:\n",
      "1: FOR doc in sentences_view SEARCH ANALYZER(PHRASE(doc.sentence, \"What Gets Echoed? Understanding the\"Pointers\"in Explanations of Persuasive Arguments\"), \"text_en\")\n",
      "2:     RETURN doc.\n",
      "->AQL: syntax error, unexpected identifier, expecting ) near 'Pointers\"in Explanations of Pers...' at position 1:101 (while parsing). Errors: {'code': 400, 'error': True, 'errorMessage': 'AQL: syntax error, unexpected identifier, expecting ) near \\'Pointers\"in Explanations of Pers...\\' at position 1:101 (while parsing)', 'errorNum': 1501}\n",
      "Error in:\n",
      "1: FOR doc in sentences_view SEARCH ANALYZER(PHRASE(doc.sentence, \"Wavelet feature extractors and evidence neural networks for the detection of \"blackholes\" in backscatter ionograms\"), \"text_en\")\n",
      "2:     RETURN doc.\n",
      "->AQL: syntax error, unexpected identifier, expecting ) near 'blackholes\" in backscatter ionog...' at position 1:143 (while parsing). Errors: {'code': 400, 'error': True, 'errorMessage': 'AQL: syntax error, unexpected identifier, expecting ) near \\'blackholes\" in backscatter ionog...\\' at position 1:143 (while parsing)', 'errorNum': 1501}\n"
     ]
    },
    {
     "name": "stdout",
     "output_type": "stream",
     "text": [
      "Error in:\n",
      "1: FOR doc in sentences_view SEARCH ANALYZER(PHRASE(doc.sentence, \"Review of \"Artificial intelligence in medicine\" by Peter Szolovits. Westview Press 1982.\"), \"text_en\")\n",
      "2:     RETURN doc.\n",
      "->AQL: syntax error, unexpected identifier, expecting ) near 'Artificial intelligence in medic...' at position 1:76 (while parsing). Errors: {'code': 400, 'error': True, 'errorMessage': \"AQL: syntax error, unexpected identifier, expecting ) near 'Artificial intelligence in medic...' at position 1:76 (while parsing)\", 'errorNum': 1501}\n",
      "Error in:\n",
      "1: FOR doc in sentences_view SEARCH ANALYZER(PHRASE(doc.sentence, \"Preface of the \"workshop on Numerical and Symbolic Computation in Computer Vision and Data Management WNSCCVDM 2015\"\"), \"text_en\")\n",
      "2:     RETURN doc.\n",
      "->AQL: syntax error, unexpected identifier, expecting ) near 'workshop on Numerical and Symbol...' at position 1:81 (while parsing). Errors: {'code': 400, 'error': True, 'errorMessage': \"AQL: syntax error, unexpected identifier, expecting ) near 'workshop on Numerical and Symbol...' at position 1:81 (while parsing)\", 'errorNum': 1501}\n",
      "Error in:\n",
      "1: FOR doc in sentences_view SEARCH ANALYZER(PHRASE(doc.sentence, \"\"Hello? Who Am I Talking to?\" A Shallow CNN Approach for Human vs. Bot Speech Classification\"), \"text_en\")\n",
      "2:     RETURN doc.\n",
      "->AQL: syntax error, unexpected identifier, expecting ) near 'Hello? Who Am I Talking to?\" A S...' at position 1:66 (while parsing). Errors: {'code': 400, 'error': True, 'errorMessage': 'AQL: syntax error, unexpected identifier, expecting ) near \\'Hello? Who Am I Talking to?\" A S...\\' at position 1:66 (while parsing)', 'errorNum': 1501}\n",
      "Error in:\n",
      "1: FOR doc in sentences_view SEARCH ANALYZER(PHRASE(doc.sentence, \"Priority of scientific and technological development \"The transition to advanced digital, intelligent manufacturing technologies, robotic systems, new materials and methods of design, the creation of systems for processing large amounts of data, machine learning and artificial intelligence\". Opening\"), \"text_en\")\n",
      "2:     RETURN doc.\n",
      "->AQL: syntax error, unexpected identifier, expecting ) near 'The transition to advanced digit...' at position 1:119 (while parsing). Errors: {'code': 400, 'error': True, 'errorMessage': \"AQL: syntax error, unexpected identifier, expecting ) near 'The transition to advanced digit...' at position 1:119 (while parsing)\", 'errorNum': 1501}\n",
      "Error in:\n",
      "1: FOR doc in sentences_view SEARCH ANALYZER(PHRASE(doc.sentence, \"\"Optical Artificial Intelligence Processors\"\"), \"text_en\")\n",
      "2:     RETURN doc.\n",
      "->AQL: syntax error, unexpected identifier, expecting ) near 'Optical Artificial Intelligence ...' at position 1:66 (while parsing). Errors: {'code': 400, 'error': True, 'errorMessage': \"AQL: syntax error, unexpected identifier, expecting ) near 'Optical Artificial Intelligence ...' at position 1:66 (while parsing)\", 'errorNum': 1501}\n",
      "Error in:\n",
      "1: FOR doc in sentences_view SEARCH ANALYZER(PHRASE(doc.sentence, \"More AI in less processor time: \"egocentric\" AI\"), \"text_en\")\n",
      "2:     RETURN doc.\n",
      "->AQL: syntax error, unexpected identifier, expecting ) near 'egocentric\" AI\"), \"text_en\")\n",
      "   ...' at position 1:98 (while parsing). Errors: {'code': 400, 'error': True, 'errorMessage': 'AQL: syntax error, unexpected identifier, expecting ) near \\'egocentric\" AI\"), \"text_en\")\\n   ...\\' at position 1:98 (while parsing)', 'errorNum': 1501}\n",
      "Error in:\n",
      "1: FOR doc in sentences_view SEARCH ANALYZER(PHRASE(doc.sentence, \"1 Comment on \"Recurrent Neural Networks: a Constructive Algorithm, and its Properties\"\"), \"text_en\")\n",
      "2:     RETURN doc.\n",
      "->AQL: syntax error, unexpected identifier, expecting ) near 'Recurrent Neural Networks: a Con...' at position 1:79 (while parsing). Errors: {'code': 400, 'error': True, 'errorMessage': \"AQL: syntax error, unexpected identifier, expecting ) near 'Recurrent Neural Networks: a Con...' at position 1:79 (while parsing)\", 'errorNum': 1501}\n",
      "Error in:\n",
      "1: FOR doc in sentences_view SEARCH ANALYZER(PHRASE(doc.sentence, \"Combinatoria léxica, polisemia y polisemia regular en una base de conocimiento léxico conceptual : el caso de \"Redes diccionario combinatorio del español contemporáneo\" y functional grammar knowledge base\"), \"text_en\")\n",
      "2:     RETURN doc.\n",
      "->AQL: syntax error, unexpected identifier, expecting ) near 'Redes diccionario combinatorio d...' at position 1:178 (while parsing). Errors: {'code': 400, 'error': True, 'errorMessage': \"AQL: syntax error, unexpected identifier, expecting ) near 'Redes diccionario combinatorio d...' at position 1:178 (while parsing)\", 'errorNum': 1501}\n",
      "Error in:\n",
      "1: FOR doc in sentences_view SEARCH ANALYZER(PHRASE(doc.sentence, \"\"Happy and Assured that life will be easy 10years from now.\": Perceptions of Artificial Intelligence in 8 Countries\"), \"text_en\")\n",
      "2:     RETURN doc.\n",
      "->AQL: syntax error, unexpected identifier, expecting ) near 'Happy and Assured that life will...' at position 1:66 (while parsing). Errors: {'code': 400, 'error': True, 'errorMessage': \"AQL: syntax error, unexpected identifier, expecting ) near 'Happy and Assured that life will...' at position 1:66 (while parsing)\", 'errorNum': 1501}\n",
      "Error in:\n",
      "1: FOR doc in sentences_view SEARCH ANALYZER(PHRASE(doc.sentence, \"Comments on \"Dynamical Optimal Training for Interval Type-2 Fuzzy Neural Network (T2FNN)\"), \"text_en\")\n",
      "2:     RETURN doc.\n",
      "->AQL: syntax error, unexpected identifier, expecting ) near 'Dynamical Optimal Training for I...' at position 1:78 (while parsing). Errors: {'code': 400, 'error': True, 'errorMessage': \"AQL: syntax error, unexpected identifier, expecting ) near 'Dynamical Optimal Training for I...' at position 1:78 (while parsing)\", 'errorNum': 1501}\n",
      "Error in:\n",
      "1: FOR doc in sentences_view SEARCH ANALYZER(PHRASE(doc.sentence, \"Evolving Artificial Neural Networks using the \"Baldwin Effect\"\"), \"text_en\")\n",
      "2:     RETURN doc.\n",
      "->AQL: syntax error, unexpected identifier, expecting ) near 'Baldwin Effect\"\"), \"text_en\")\n",
      "  ...' at position 1:112 (while parsing). Errors: {'code': 400, 'error': True, 'errorMessage': 'AQL: syntax error, unexpected identifier, expecting ) near \\'Baldwin Effect\"\"), \"text_en\")\\n  ...\\' at position 1:112 (while parsing)', 'errorNum': 1501}\n",
      "Error in:\n",
      "1: FOR doc in sentences_view SEARCH ANALYZER(PHRASE(doc.sentence, \"\"PAGANE \" – A CLASSIFICATION MACHINE LEARNING SYSTEM BASED ON THE MULTIDIMENSIONAL NUMBERED INFORMATION SPACES *\"), \"text_en\")\n",
      "2:     RETURN doc.\n",
      "->AQL: syntax error, unexpected identifier, expecting ) near 'PAGANE \" – A CLASSIFICATION MA...' at position 1:66 (while parsing). Errors: {'code': 400, 'error': True, 'errorMessage': 'AQL: syntax error, unexpected identifier, expecting ) near \\'PAGANE \" – A CLASSIFICATION MA...\\' at position 1:66 (while parsing)', 'errorNum': 1501}\n",
      "Error in:\n",
      "1: FOR doc in sentences_view SEARCH ANALYZER(PHRASE(doc.sentence, \"From \"tactical discussion\" in collaboration game to \"behaviors\": A classification approach in stages\"), \"text_en\")\n",
      "2:     RETURN doc.\n",
      "->AQL: syntax error, unexpected identifier, expecting ) near 'tactical discussion\" in collabor...' at position 1:71 (while parsing). Errors: {'code': 400, 'error': True, 'errorMessage': 'AQL: syntax error, unexpected identifier, expecting ) near \\'tactical discussion\" in collabor...\\' at position 1:71 (while parsing)', 'errorNum': 1501}\n",
      "Error in:\n",
      "1: FOR doc in sentences_view SEARCH ANALYZER(PHRASE(doc.sentence, \"Author manuscript, published in \"Artificial Evolution (2011)\" A Rigorous Runtime Analysis for Quasi-Random Restarts and Decreasing Stepsize\"), \"text_en\")\n",
      "2:     RETURN doc.\n",
      "->AQL: syntax error, unexpected identifier, expecting ) near 'Artificial Evolution (2011)\" A R...' at position 1:98 (while parsing). Errors: {'code': 400, 'error': True, 'errorMessage': 'AQL: syntax error, unexpected identifier, expecting ) near \\'Artificial Evolution (2011)\" A R...\\' at position 1:98 (while parsing)', 'errorNum': 1501}\n",
      "Error in:\n",
      "1: FOR doc in sentences_view SEARCH ANALYZER(PHRASE(doc.sentence, \"Book Review of \"Scale-Space Methods for Computer Vision\" by Tony Lindenberg\"), \"text_en\")\n",
      "2:     RETURN doc.\n",
      "->AQL: syntax error, unexpected identifier, expecting ) near 'Scale-Space Methods for Computer...' at position 1:81 (while parsing). Errors: {'code': 400, 'error': True, 'errorMessage': \"AQL: syntax error, unexpected identifier, expecting ) near 'Scale-Space Methods for Computer...' at position 1:81 (while parsing)\", 'errorNum': 1501}\n",
      "Error in:\n",
      "1: FOR doc in sentences_view SEARCH ANALYZER(PHRASE(doc.sentence, \"Closure to Discussion of \"Two New Methods for Very Fast Fault Type Detection by Means of Parameter Fitting and Artificial Neural Networks\"\"), \"text_en\")\n",
      "2:     RETURN doc.\n",
      "->AQL: syntax error, unexpected identifier, expecting ) near 'Two New Methods for Very Fast Fa...' at position 1:91 (while parsing). Errors: {'code': 400, 'error': True, 'errorMessage': \"AQL: syntax error, unexpected identifier, expecting ) near 'Two New Methods for Very Fast Fa...' at position 1:91 (while parsing)\", 'errorNum': 1501}\n"
     ]
    },
    {
     "name": "stdout",
     "output_type": "stream",
     "text": [
      "Error in:\n",
      "1: FOR doc in sentences_view SEARCH ANALYZER(PHRASE(doc.sentence, \"\"You Can't Just Turn the Crank\": Machine Learning for Fighting Abuse on the Consumer Web\"), \"text_en\")\n",
      "2:     RETURN doc.\n",
      "->AQL: syntax error, unexpected identifier, expecting ) near 'You Can't Just Turn the Crank\": ...' at position 1:66 (while parsing). Errors: {'code': 400, 'error': True, 'errorMessage': 'AQL: syntax error, unexpected identifier, expecting ) near \\'You Can\\'t Just Turn the Crank\": ...\\' at position 1:66 (while parsing)', 'errorNum': 1501}\n",
      "Error in:\n",
      "1: FOR doc in sentences_view SEARCH ANALYZER(PHRASE(doc.sentence, \"Author manuscript, published in \" (2010)\" Perceiving and rendering users in a 3D interaction\"), \"text_en\")\n",
      "2:     RETURN doc.\n",
      "->AQL: syntax error, unexpected (, expecting ) near '(2010)\" Perceiving and rendering...' at position 1:99 (while parsing). Errors: {'code': 400, 'error': True, 'errorMessage': 'AQL: syntax error, unexpected (, expecting ) near \\'(2010)\" Perceiving and rendering...\\' at position 1:99 (while parsing)', 'errorNum': 1501}\n",
      "Error in:\n",
      "1: FOR doc in sentences_view SEARCH ANALYZER(PHRASE(doc.sentence, \"Research data supporting \"Designing a machine learning potential for molecular simulation of liquid alkanes\"\"), \"text_en\")\n",
      "2:     RETURN doc.\n",
      "->AQL: syntax error, unexpected identifier, expecting ) near 'Designing a machine learning pot...' at position 1:91 (while parsing). Errors: {'code': 400, 'error': True, 'errorMessage': \"AQL: syntax error, unexpected identifier, expecting ) near 'Designing a machine learning pot...' at position 1:91 (while parsing)\", 'errorNum': 1501}\n",
      "Error in:\n",
      "1: FOR doc in sentences_view SEARCH ANALYZER(PHRASE(doc.sentence, \"Software development in chemistry 4 : proceedings of the 4th Workshop \"Computers in Chemistry,\" Hochfilzen, Tyrol, November 22-24, 1989\"), \"text_en\")\n",
      "2:     RETURN doc.\n",
      "->AQL: syntax error, unexpected identifier, expecting ) near 'Computers in Chemistry,\" Hochfil...' at position 1:136 (while parsing). Errors: {'code': 400, 'error': True, 'errorMessage': 'AQL: syntax error, unexpected identifier, expecting ) near \\'Computers in Chemistry,\" Hochfil...\\' at position 1:136 (while parsing)', 'errorNum': 1501}\n",
      "Error in:\n",
      "1: FOR doc in sentences_view SEARCH ANALYZER(PHRASE(doc.sentence, \"\"WaterTouch\": an aquatic interactive multimedia sensory table based on total internal reflection in water\"), \"text_en\")\n",
      "2:     RETURN doc.\n",
      "->AQL: syntax error, unexpected identifier, expecting ) near 'WaterTouch\": an aquatic interact...' at position 1:66 (while parsing). Errors: {'code': 400, 'error': True, 'errorMessage': 'AQL: syntax error, unexpected identifier, expecting ) near \\'WaterTouch\": an aquatic interact...\\' at position 1:66 (while parsing)', 'errorNum': 1501}\n",
      "Error in:\n",
      "1: FOR doc in sentences_view SEARCH ANALYZER(PHRASE(doc.sentence, \"\"Units of Meaning\" in Medical Documents: Natural Language Processing Perspective\"), \"text_en\")\n",
      "2:     RETURN doc.\n",
      "->AQL: syntax error, unexpected identifier, expecting ) near 'Units of Meaning\" in Medical Doc...' at position 1:66 (while parsing). Errors: {'code': 400, 'error': True, 'errorMessage': 'AQL: syntax error, unexpected identifier, expecting ) near \\'Units of Meaning\" in Medical Doc...\\' at position 1:66 (while parsing)', 'errorNum': 1501}\n",
      "Error in:\n",
      "1: FOR doc in sentences_view SEARCH ANALYZER(PHRASE(doc.sentence, \"\" Arnie P.\" - A Robot Golfing System Using Binocular And A Heuristic Feedback Mechanism.*\"), \"text_en\")\n",
      "2:     RETURN doc.\n",
      "->AQL: syntax error, unexpected identifier, expecting ) near 'Arnie P.\" - A Robot Golfing Syst...' at position 1:67 (while parsing). Errors: {'code': 400, 'error': True, 'errorMessage': 'AQL: syntax error, unexpected identifier, expecting ) near \\'Arnie P.\" - A Robot Golfing Syst...\\' at position 1:67 (while parsing)', 'errorNum': 1501}\n",
      "Error in:\n",
      "1: FOR doc in sentences_view SEARCH ANALYZER(PHRASE(doc.sentence, \"E.: \"3D Shape Description of the Bicipital Groove: Correlation to Pathology\"), \"text_en\")\n",
      "2:     RETURN doc.\n",
      "->AQL: syntax error, unexpected integer number, expecting ) near '3D Shape Description of the Bici...' at position 1:70 (while parsing). Errors: {'code': 400, 'error': True, 'errorMessage': \"AQL: syntax error, unexpected integer number, expecting ) near '3D Shape Description of the Bici...' at position 1:70 (while parsing)\", 'errorNum': 1501}\n",
      "Error in:\n",
      "1: FOR doc in sentences_view SEARCH ANALYZER(PHRASE(doc.sentence, \"(Belgium), Leuven: Belgium (2006)\" Intelligent CALL: The magnitude of the task\"), \"text_en\")\n",
      "2:     RETURN doc.\n",
      "->AQL: syntax error, unexpected identifier, expecting ) near 'Intelligent CALL: The magnitude ...' at position 1:100 (while parsing). Errors: {'code': 400, 'error': True, 'errorMessage': \"AQL: syntax error, unexpected identifier, expecting ) near 'Intelligent CALL: The magnitude ...' at position 1:100 (while parsing)\", 'errorNum': 1501}\n",
      "Error in:\n",
      "1: FOR doc in sentences_view SEARCH ANALYZER(PHRASE(doc.sentence, \"Review of \"Coputational Semantics: An Introduction to Artificial Intelligence and Natural Language Comprhension by Eugue Charniak and Yorick Wilks, Eds.\" North-Holland, Amer. Elsevier.\"), \"text_en\")\n",
      "2:     RETURN doc.\n",
      "->AQL: syntax error, unexpected identifier, expecting ) near 'Coputational Semantics: An Intro...' at position 1:76 (while parsing). Errors: {'code': 400, 'error': True, 'errorMessage': \"AQL: syntax error, unexpected identifier, expecting ) near 'Coputational Semantics: An Intro...' at position 1:76 (while parsing)\", 'errorNum': 1501}\n",
      "Error in:\n",
      "1: FOR doc in sentences_view SEARCH ANALYZER(PHRASE(doc.sentence, \"Deep 3D Pan via adaptive\"t-shaped\"convolutions with global and local adaptive dilations\"), \"text_en\")\n",
      "2:     RETURN doc.\n",
      "->AQL: syntax error, unexpected identifier, expecting ) near 't-shaped\"convolutions with globa...' at position 1:90 (while parsing). Errors: {'code': 400, 'error': True, 'errorMessage': 'AQL: syntax error, unexpected identifier, expecting ) near \\'t-shaped\"convolutions with globa...\\' at position 1:90 (while parsing)', 'errorNum': 1501}\n",
      "Error in:\n",
      "1: FOR doc in sentences_view SEARCH ANALYZER(PHRASE(doc.sentence, \"Detecting \"0-Day\" Vulnerability: An Empirical Study of Secret Security Patch in OSS\"), \"text_en\")\n",
      "2:     RETURN doc.\n",
      "->AQL: syntax error, unexpected integer number, expecting ) near '0-Day\" Vulnerability: An Empiric...' at position 1:76 (while parsing). Errors: {'code': 400, 'error': True, 'errorMessage': 'AQL: syntax error, unexpected integer number, expecting ) near \\'0-Day\" Vulnerability: An Empiric...\\' at position 1:76 (while parsing)', 'errorNum': 1501}\n",
      "Error in:\n",
      "1: FOR doc in sentences_view SEARCH ANALYZER(PHRASE(doc.sentence, \"Author's reply: Comments on \"The unreasonable effectiveness of neural network approximation.\"\"), \"text_en\")\n",
      "2:     RETURN doc.\n",
      "->AQL: syntax error, unexpected identifier, expecting ) near 'The unreasonable effectiveness o...' at position 1:94 (while parsing). Errors: {'code': 400, 'error': True, 'errorMessage': \"AQL: syntax error, unexpected identifier, expecting ) near 'The unreasonable effectiveness o...' at position 1:94 (while parsing)\", 'errorNum': 1501}\n",
      "Error in:\n",
      "1: FOR doc in sentences_view SEARCH ANALYZER(PHRASE(doc.sentence, \"Multi-path Region-Based Convolutional Neural Network for Accurate Detection of Unconstrained \"Hard Faces\"\"), \"text_en\")\n",
      "2:     RETURN doc.\n",
      "->AQL: syntax error, unexpected identifier, expecting ) near 'Hard Faces\"\"), \"text_en\")\n",
      "    RE...' at position 1:159 (while parsing). Errors: {'code': 400, 'error': True, 'errorMessage': 'AQL: syntax error, unexpected identifier, expecting ) near \\'Hard Faces\"\"), \"text_en\")\\n    RE...\\' at position 1:159 (while parsing)', 'errorNum': 1501}\n",
      "Error in:\n",
      "1: FOR doc in sentences_view SEARCH ANALYZER(PHRASE(doc.sentence, \"Symbolic Machine Learning: A Different Answer to the Problem of the Acquisition of Lexical Knowledge from Corpora, in \"TripleC (Cognition, Communication, Co-operation), special issue: selected papers from\"), \"text_en\")\n",
      "2:     RETURN doc.\n",
      "->AQL: syntax error, unexpected identifier, expecting ) near 'TripleC (Cognition, Communicatio...' at position 1:184 (while parsing). Errors: {'code': 400, 'error': True, 'errorMessage': \"AQL: syntax error, unexpected identifier, expecting ) near 'TripleC (Cognition, Communicatio...' at position 1:184 (while parsing)\", 'errorNum': 1501}\n"
     ]
    },
    {
     "name": "stdout",
     "output_type": "stream",
     "text": [
      "Error in:\n",
      "1: FOR doc in sentences_view SEARCH ANALYZER(PHRASE(doc.sentence, \"Are Robots Present? From Motor Simulation to \"Being There\"\"), \"text_en\")\n",
      "2:     RETURN doc.\n",
      "->AQL: syntax error, unexpected identifier, expecting ) near 'Being There\"\"), \"text_en\")\n",
      "    R...' at position 1:111 (while parsing). Errors: {'code': 400, 'error': True, 'errorMessage': 'AQL: syntax error, unexpected identifier, expecting ) near \\'Being There\"\"), \"text_en\")\\n    R...\\' at position 1:111 (while parsing)', 'errorNum': 1501}\n",
      "Error in:\n",
      "1: FOR doc in sentences_view SEARCH ANALYZER(PHRASE(doc.sentence, \"\"Visual Object Recognition using Image Mining Approach” A Review\"), \"text_en\")\n",
      "2:     RETURN doc.\n",
      "->AQL: syntax error, unexpected identifier, expecting ) near 'Visual Object Recognition using ...' at position 1:66 (while parsing). Errors: {'code': 400, 'error': True, 'errorMessage': \"AQL: syntax error, unexpected identifier, expecting ) near 'Visual Object Recognition using ...' at position 1:66 (while parsing)\", 'errorNum': 1501}\n",
      "Error in:\n",
      "1: FOR doc in sentences_view SEARCH ANALYZER(PHRASE(doc.sentence, \"Constitutional Law and Artificial Intelligence: The Potential Legal Recognition of Computers as \"Persons\"\"), \"text_en\")\n",
      "2:     RETURN doc.\n",
      "->AQL: syntax error, unexpected identifier, expecting ) near 'Persons\"\"), \"text_en\")\n",
      "    RETUR...' at position 1:162 (while parsing). Errors: {'code': 400, 'error': True, 'errorMessage': 'AQL: syntax error, unexpected identifier, expecting ) near \\'Persons\"\"), \"text_en\")\\n    RETUR...\\' at position 1:162 (while parsing)', 'errorNum': 1501}\n",
      "Error in:\n",
      "1: FOR doc in sentences_view SEARCH ANALYZER(PHRASE(doc.sentence, \"Classification with noisy labels : \"Multiple Account\" cheating detection in Open Online Courses\"), \"text_en\")\n",
      "2:     RETURN doc.\n",
      "->AQL: syntax error, unexpected identifier, expecting ) near 'Multiple Account\" cheating detec...' at position 1:101 (while parsing). Errors: {'code': 400, 'error': True, 'errorMessage': 'AQL: syntax error, unexpected identifier, expecting ) near \\'Multiple Account\" cheating detec...\\' at position 1:101 (while parsing)', 'errorNum': 1501}\n",
      "Error in:\n",
      "1: FOR doc in sentences_view SEARCH ANALYZER(PHRASE(doc.sentence, \"ViMPIOS, a \"Truly\" Portable MPI-IO Implementation\"), \"text_en\")\n",
      "2:     RETURN doc.\n",
      "->AQL: syntax error, unexpected identifier, expecting ) near 'Truly\" Portable MPI-IO Implement...' at position 1:77 (while parsing). Errors: {'code': 400, 'error': True, 'errorMessage': 'AQL: syntax error, unexpected identifier, expecting ) near \\'Truly\" Portable MPI-IO Implement...\\' at position 1:77 (while parsing)', 'errorNum': 1501}\n",
      "Error in:\n",
      "1: FOR doc in sentences_view SEARCH ANALYZER(PHRASE(doc.sentence, \"\"Kn0w Thy Doma1n Name\": Unbiased Phishing Detection Using Domain Name Based Features\"), \"text_en\")\n",
      "2:     RETURN doc.\n",
      "->AQL: syntax error, unexpected identifier, expecting ) near 'Kn0w Thy Doma1n Name\": Unbiased ...' at position 1:66 (while parsing). Errors: {'code': 400, 'error': True, 'errorMessage': 'AQL: syntax error, unexpected identifier, expecting ) near \\'Kn0w Thy Doma1n Name\": Unbiased ...\\' at position 1:66 (while parsing)', 'errorNum': 1501}\n",
      "Error in:\n",
      "1: FOR doc in sentences_view SEARCH ANALYZER(PHRASE(doc.sentence, \"A Study of Question Effectiveness Using Reddit\"Ask Me Anything\"Threads\"), \"text_en\")\n",
      "2:     RETURN doc.\n",
      "->AQL: syntax error, unexpected identifier, expecting ) near 'Ask Me Anything\"Threads\"), \"text...' at position 1:112 (while parsing). Errors: {'code': 400, 'error': True, 'errorMessage': 'AQL: syntax error, unexpected identifier, expecting ) near \\'Ask Me Anything\"Threads\"), \"text...\\' at position 1:112 (while parsing)', 'errorNum': 1501}\n",
      "Error in:\n",
      "1: FOR doc in sentences_view SEARCH ANALYZER(PHRASE(doc.sentence, \"Book Review: \"Biometric and Intelligent Decision Making Support\"\"), \"text_en\")\n",
      "2:     RETURN doc.\n",
      "->AQL: syntax error, unexpected identifier, expecting ) near 'Biometric and Intelligent Decisi...' at position 1:79 (while parsing). Errors: {'code': 400, 'error': True, 'errorMessage': \"AQL: syntax error, unexpected identifier, expecting ) near 'Biometric and Intelligent Decisi...' at position 1:79 (while parsing)\", 'errorNum': 1501}\n",
      "Error in:\n",
      "1: FOR doc in sentences_view SEARCH ANALYZER(PHRASE(doc.sentence, \"The Recognition Technology of the Speech for Digitals \"0\"～\"9\" Based on the RBF Neural Network\"), \"text_en\")\n",
      "2:     RETURN doc.\n",
      "->AQL: syntax error, unexpected integer number, expecting ) near '0\"～\"9\" Based on the RBF Neural...' at position 1:120 (while parsing). Errors: {'code': 400, 'error': True, 'errorMessage': 'AQL: syntax error, unexpected integer number, expecting ) near \\'0\"～\"9\" Based on the RBF Neural...\\' at position 1:120 (while parsing)', 'errorNum': 1501}\n",
      "Error in:\n",
      "1: FOR doc in sentences_view SEARCH ANALYZER(PHRASE(doc.sentence, \"Comment on\"All-optical machine learning using diffractive deep neural networks\"\"), \"text_en\")\n",
      "2:     RETURN doc.\n",
      "->AQL: syntax error, unexpected - operator near '-optical machine learning using ...' at position 1:79 (while parsing). Errors: {'code': 400, 'error': True, 'errorMessage': \"AQL: syntax error, unexpected - operator near '-optical machine learning using ...' at position 1:79 (while parsing)\", 'errorNum': 1501}\n",
      "Error in:\n",
      "1: FOR doc in sentences_view SEARCH ANALYZER(PHRASE(doc.sentence, \"Application of \"Artificial Intelligence and Big Data\" in Sports Rehabilitation for Chinese Judicial Administrative Drug Addicts\"), \"text_en\")\n",
      "2:     RETURN doc.\n",
      "->AQL: syntax error, unexpected identifier, expecting ) near 'Artificial Intelligence and Big ...' at position 1:81 (while parsing). Errors: {'code': 400, 'error': True, 'errorMessage': \"AQL: syntax error, unexpected identifier, expecting ) near 'Artificial Intelligence and Big ...' at position 1:81 (while parsing)\", 'errorNum': 1501}\n",
      "Error in:\n",
      "1: FOR doc in sentences_view SEARCH ANALYZER(PHRASE(doc.sentence, \"Building \"The Plotter\": an aesthetic exploration with drawing robots\"), \"text_en\")\n",
      "2:     RETURN doc.\n",
      "->AQL: syntax error, unexpected identifier, expecting ) near 'The Plotter\": an aesthetic explo...' at position 1:75 (while parsing). Errors: {'code': 400, 'error': True, 'errorMessage': 'AQL: syntax error, unexpected identifier, expecting ) near \\'The Plotter\": an aesthetic explo...\\' at position 1:75 (while parsing)', 'errorNum': 1501}\n",
      "Error in:\n",
      "1: FOR doc in sentences_view SEARCH ANALYZER(PHRASE(doc.sentence, \"What is\"Intelligent\"in Intelligent User Interfaces? A Meta-Analysis of 25 Years of IUI\"), \"text_en\")\n",
      "2:     RETURN doc.\n",
      "->AQL: syntax error, unexpected identifier, expecting ) near 'Intelligent\"in Intelligent User ...' at position 1:73 (while parsing). Errors: {'code': 400, 'error': True, 'errorMessage': 'AQL: syntax error, unexpected identifier, expecting ) near \\'Intelligent\"in Intelligent User ...\\' at position 1:73 (while parsing)', 'errorNum': 1501}\n",
      "Error in:\n",
      "1: FOR doc in sentences_view SEARCH ANALYZER(PHRASE(doc.sentence, \"Understanding the Roles of the \"Two QSARs\"\"), \"text_en\")\n",
      "2:     RETURN doc.\n",
      "->AQL: syntax error, unexpected identifier, expecting ) near 'Two QSARs\"\"), \"text_en\")\n",
      "    RET...' at position 1:97 (while parsing). Errors: {'code': 400, 'error': True, 'errorMessage': 'AQL: syntax error, unexpected identifier, expecting ) near \\'Two QSARs\"\"), \"text_en\")\\n    RET...\\' at position 1:97 (while parsing)', 'errorNum': 1501}\n",
      "Error in:\n",
      "1: FOR doc in sentences_view SEARCH ANALYZER(PHRASE(doc.sentence, \"Searching for \"Signatures\" in Anomalous Human-Machine Interaction Data: A Neural Network Approach*\"), \"text_en\")\n",
      "2:     RETURN doc.\n",
      "->AQL: syntax error, unexpected identifier, expecting ) near 'Signatures\" in Anomalous Human-M...' at position 1:80 (while parsing). Errors: {'code': 400, 'error': True, 'errorMessage': 'AQL: syntax error, unexpected identifier, expecting ) near \\'Signatures\" in Anomalous Human-M...\\' at position 1:80 (while parsing)', 'errorNum': 1501}\n",
      "Error in:\n",
      "1: FOR doc in sentences_view SEARCH ANALYZER(PHRASE(doc.sentence, \"Proceedings of the 6th International Workshop \"What can FCA do for Artificial Intelligence\"? co-located with International Joint Conference on Artificial Intelligence and European Conference on Artificial Intelligence (IJCAI/ECAI 2018), Stockholm, Sweden, July 13, 2018\"), \"text_en\")\n",
      "2:     RETURN doc.\n",
      "->AQL: syntax error, unexpected identifier, expecting ) near 'What can FCA do for Artificial I...' at position 1:112 (while parsing). Errors: {'code': 400, 'error': True, 'errorMessage': \"AQL: syntax error, unexpected identifier, expecting ) near 'What can FCA do for Artificial I...' at position 1:112 (while parsing)\", 'errorNum': 1501}\n"
     ]
    },
    {
     "name": "stdout",
     "output_type": "stream",
     "text": [
      "Error in:\n",
      "1: FOR doc in sentences_view SEARCH ANALYZER(PHRASE(doc.sentence, \"Comments on \"Data truncation artifact reduction in MR imaging using a multilayer neural network\"\"), \"text_en\")\n",
      "2:     RETURN doc.\n",
      "->AQL: syntax error, unexpected identifier, expecting ) near 'Data truncation artifact reducti...' at position 1:78 (while parsing). Errors: {'code': 400, 'error': True, 'errorMessage': \"AQL: syntax error, unexpected identifier, expecting ) near 'Data truncation artifact reducti...' at position 1:78 (while parsing)\", 'errorNum': 1501}\n",
      "Error in:\n",
      "1: FOR doc in sentences_view SEARCH ANALYZER(PHRASE(doc.sentence, \"Editor's Note: SCIENTIFIC \"AGENDA\" OF DATA SCIENCE\"), \"text_en\")\n",
      "2:     RETURN doc.\n",
      "->AQL: syntax error, unexpected identifier, expecting ) near 'AGENDA\" OF DATA SCIENCE\"), \"text...' at position 1:92 (while parsing). Errors: {'code': 400, 'error': True, 'errorMessage': 'AQL: syntax error, unexpected identifier, expecting ) near \\'AGENDA\" OF DATA SCIENCE\"), \"text...\\' at position 1:92 (while parsing)', 'errorNum': 1501}\n",
      "Error in:\n",
      "1: FOR doc in sentences_view SEARCH ANALYZER(PHRASE(doc.sentence, \"\"Is this an example image?\"-- Predicting the Relative Abstractness Level of Image and Text\"), \"text_en\")\n",
      "2:     RETURN doc.\n",
      "->AQL: syntax error, unexpected identifier, expecting ) near 'Is this an example image?\"-- Pre...' at position 1:66 (while parsing). Errors: {'code': 400, 'error': True, 'errorMessage': 'AQL: syntax error, unexpected identifier, expecting ) near \\'Is this an example image?\"-- Pre...\\' at position 1:66 (while parsing)', 'errorNum': 1501}\n",
      "Error in:\n",
      "1: FOR doc in sentences_view SEARCH ANALYZER(PHRASE(doc.sentence, \"Data Analytics Using Ontologies of Management Theories: Towards Implementing \"From Theory to Practice\" (Application Paper)\"), \"text_en\")\n",
      "2:     RETURN doc.\n",
      "->AQL: syntax error, unexpected identifier, expecting ) near 'From Theory to Practice\" (Applic...' at position 1:143 (while parsing). Errors: {'code': 400, 'error': True, 'errorMessage': 'AQL: syntax error, unexpected identifier, expecting ) near \\'From Theory to Practice\" (Applic...\\' at position 1:143 (while parsing)', 'errorNum': 1501}\n",
      "Error in:\n",
      "1: FOR doc in sentences_view SEARCH ANALYZER(PHRASE(doc.sentence, \"\"All roads lead to Rome\": optimistic recovery for distributed iterative data processing\"), \"text_en\")\n",
      "2:     RETURN doc.\n",
      "->AQL: syntax error, unexpected identifier near 'roads lead to Rome\": optimistic ...' at position 1:70 (while parsing). Errors: {'code': 400, 'error': True, 'errorMessage': 'AQL: syntax error, unexpected identifier near \\'roads lead to Rome\": optimistic ...\\' at position 1:70 (while parsing)', 'errorNum': 1501}\n",
      "Error in:\n",
      "1: FOR doc in sentences_view SEARCH ANALYZER(PHRASE(doc.sentence, \"Medidas bibliométricas de la categoría \"computer science, artificial intelligence\" del Journal Citation Reports Scie Edition\"), \"text_en\")\n",
      "2:     RETURN doc.\n",
      "->AQL: syntax error, unexpected identifier, expecting ) near 'computer science, artificial int...' at position 1:107 (while parsing). Errors: {'code': 400, 'error': True, 'errorMessage': \"AQL: syntax error, unexpected identifier, expecting ) near 'computer science, artificial int...' at position 1:107 (while parsing)\", 'errorNum': 1501}\n",
      "Error in:\n",
      "1: FOR doc in sentences_view SEARCH ANALYZER(PHRASE(doc.sentence, \"An\"outside the box\"solution for imbalanced data classification\"), \"text_en\")\n",
      "2:     RETURN doc.\n",
      "->AQL: syntax error, unexpected identifier, expecting ) near 'outside the box\"solution for imb...' at position 1:68 (while parsing). Errors: {'code': 400, 'error': True, 'errorMessage': 'AQL: syntax error, unexpected identifier, expecting ) near \\'outside the box\"solution for imb...\\' at position 1:68 (while parsing)', 'errorNum': 1501}\n",
      "Error in:\n",
      "1: FOR doc in sentences_view SEARCH ANALYZER(PHRASE(doc.sentence, \"Universal capture: image-based facial animation for \"The Matrix Reloaded\"\"), \"text_en\")\n",
      "2:     RETURN doc.\n",
      "->AQL: syntax error, unexpected identifier, expecting ) near 'The Matrix Reloaded\"\"), \"text_en...' at position 1:118 (while parsing). Errors: {'code': 400, 'error': True, 'errorMessage': 'AQL: syntax error, unexpected identifier, expecting ) near \\'The Matrix Reloaded\"\"), \"text_en...\\' at position 1:118 (while parsing)', 'errorNum': 1501}\n",
      "Error in:\n",
      "1: FOR doc in sentences_view SEARCH ANALYZER(PHRASE(doc.sentence, \"Image-based Face Detection and Recognition:\"State of the Art\"\"), \"text_en\")\n",
      "2:     RETURN doc.\n",
      "->AQL: syntax error, unexpected identifier, expecting ) near 'State of the Art\"\"), \"text_en\")\n",
      "...' at position 1:109 (while parsing). Errors: {'code': 400, 'error': True, 'errorMessage': 'AQL: syntax error, unexpected identifier, expecting ) near \\'State of the Art\"\"), \"text_en\")\\n...\\' at position 1:109 (while parsing)', 'errorNum': 1501}\n",
      "Error in:\n",
      "1: FOR doc in sentences_view SEARCH ANALYZER(PHRASE(doc.sentence, \"Toward a Solution for \"Genetic Algorithm\"-\"Support Vector Machine\" Combination to Have a Reliable P300-based BCI\"), \"text_en\")\n",
      "2:     RETURN doc.\n",
      "->AQL: syntax error, unexpected identifier, expecting ) near 'Genetic Algorithm\"-\"Support Vect...' at position 1:88 (while parsing). Errors: {'code': 400, 'error': True, 'errorMessage': 'AQL: syntax error, unexpected identifier, expecting ) near \\'Genetic Algorithm\"-\"Support Vect...\\' at position 1:88 (while parsing)', 'errorNum': 1501}\n",
      "Error in:\n",
      "1: FOR doc in sentences_view SEARCH ANALYZER(PHRASE(doc.sentence, \"Embracing \"Web 3.0\"\"), \"text_en\")\n",
      "2:     RETURN doc.\n",
      "->AQL: syntax error, unexpected identifier, expecting ) near 'Web 3.0\"\"), \"text_en\")\n",
      "    RETUR...' at position 1:76 (while parsing). Errors: {'code': 400, 'error': True, 'errorMessage': 'AQL: syntax error, unexpected identifier, expecting ) near \\'Web 3.0\"\"), \"text_en\")\\n    RETUR...\\' at position 1:76 (while parsing)', 'errorNum': 1501}\n",
      "Error in:\n",
      "1: FOR doc in sentences_view SEARCH ANALYZER(PHRASE(doc.sentence, \"On Agent-Based Software Engineering\" Artificial Intelligence\"), \"text_en\")\n",
      "2:     RETURN doc.\n",
      "->AQL: syntax error, unexpected identifier, expecting ) near 'Artificial Intelligence\"), \"text...' at position 1:102 (while parsing). Errors: {'code': 400, 'error': True, 'errorMessage': 'AQL: syntax error, unexpected identifier, expecting ) near \\'Artificial Intelligence\"), \"text...\\' at position 1:102 (while parsing)', 'errorNum': 1501}\n",
      "Error in:\n",
      "1: FOR doc in sentences_view SEARCH ANALYZER(PHRASE(doc.sentence, \"IV Workshop of the AI*IA Working Group on \"Artificial Intelligence & E-Learning\"\"), \"text_en\")\n",
      "2:     RETURN doc.\n",
      "->AQL: syntax error, unexpected identifier, expecting ) near 'Artificial Intelligence & E-Lear...' at position 1:108 (while parsing). Errors: {'code': 400, 'error': True, 'errorMessage': \"AQL: syntax error, unexpected identifier, expecting ) near 'Artificial Intelligence & E-Lear...' at position 1:108 (while parsing)\", 'errorNum': 1501}\n",
      "Error in:\n",
      "1: FOR doc in sentences_view SEARCH ANALYZER(PHRASE(doc.sentence, \"On Representing Governed Prepositions And Handling \"Incorrect\" And Novel Prepositions\"), \"text_en\")\n",
      "2:     RETURN doc.\n",
      "->AQL: syntax error, unexpected identifier, expecting ) near 'Incorrect\" And Novel Preposition...' at position 1:117 (while parsing). Errors: {'code': 400, 'error': True, 'errorMessage': 'AQL: syntax error, unexpected identifier, expecting ) near \\'Incorrect\" And Novel Preposition...\\' at position 1:117 (while parsing)', 'errorNum': 1501}\n",
      "Error in:\n",
      "1: FOR doc in sentences_view SEARCH ANALYZER(PHRASE(doc.sentence, \"Keeping it \"organized and logical\": after-action review for AI (AAR/AI)\"), \"text_en\")\n",
      "2:     RETURN doc.\n",
      "->AQL: syntax error, unexpected identifier, expecting ) near 'organized and logical\": after-ac...' at position 1:77 (while parsing). Errors: {'code': 400, 'error': True, 'errorMessage': 'AQL: syntax error, unexpected identifier, expecting ) near \\'organized and logical\": after-ac...\\' at position 1:77 (while parsing)', 'errorNum': 1501}\n",
      "Error in:\n",
      "1: FOR doc in sentences_view SEARCH ANALYZER(PHRASE(doc.sentence, \"The Technology Processing of \"4 Care\" Home Care Application Based on Artificial Intelligence\"), \"text_en\")\n",
      "2:     RETURN doc.\n",
      "->AQL: syntax error, unexpected integer number, expecting ) near '4 Care\" Home Care Application Ba...' at position 1:95 (while parsing). Errors: {'code': 400, 'error': True, 'errorMessage': 'AQL: syntax error, unexpected integer number, expecting ) near \\'4 Care\" Home Care Application Ba...\\' at position 1:95 (while parsing)', 'errorNum': 1501}\n"
     ]
    },
    {
     "name": "stdout",
     "output_type": "stream",
     "text": [
      "Error in:\n",
      "1: FOR doc in sentences_view SEARCH ANALYZER(PHRASE(doc.sentence, \"Classifier Measure Word Refrain of \"AXA\" and Its Subjectivity in Yuexi's Gan Dialect in Anhui Province\"), \"text_en\")\n",
      "2:     RETURN doc.\n",
      "->AQL: syntax error, unexpected identifier, expecting ) near 'AXA\" and Its Subjectivity in Yue...' at position 1:101 (while parsing). Errors: {'code': 400, 'error': True, 'errorMessage': 'AQL: syntax error, unexpected identifier, expecting ) near \\'AXA\" and Its Subjectivity in Yue...\\' at position 1:101 (while parsing)', 'errorNum': 1501}\n",
      "Error in:\n",
      "1: FOR doc in sentences_view SEARCH ANALYZER(PHRASE(doc.sentence, \"Foreword to the Special Issue on \"GeoVision: Computer Vision for Geospatial Applications\"\"), \"text_en\")\n",
      "2:     RETURN doc.\n",
      "->AQL: syntax error, unexpected identifier, expecting ) near 'GeoVision: Computer Vision for G...' at position 1:99 (while parsing). Errors: {'code': 400, 'error': True, 'errorMessage': \"AQL: syntax error, unexpected identifier, expecting ) near 'GeoVision: Computer Vision for G...' at position 1:99 (while parsing)\", 'errorNum': 1501}\n",
      "Error in:\n",
      "1: FOR doc in sentences_view SEARCH ANALYZER(PHRASE(doc.sentence, \"A cognitive investigation of \"one classifier for multiple objects\" in both Chinese and English\"), \"text_en\")\n",
      "2:     RETURN doc.\n",
      "->AQL: syntax error, unexpected identifier, expecting ) near 'one classifier for multiple obje...' at position 1:95 (while parsing). Errors: {'code': 400, 'error': True, 'errorMessage': \"AQL: syntax error, unexpected identifier, expecting ) near 'one classifier for multiple obje...' at position 1:95 (while parsing)\", 'errorNum': 1501}\n",
      "Error in:\n",
      "1: FOR doc in sentences_view SEARCH ANALYZER(PHRASE(doc.sentence, \"Unusual effects of \"artificial dreams\" encountered during learning in neural network\"), \"text_en\")\n",
      "2:     RETURN doc.\n",
      "->AQL: syntax error, unexpected identifier, expecting ) near 'artificial dreams\" encountered d...' at position 1:85 (while parsing). Errors: {'code': 400, 'error': True, 'errorMessage': 'AQL: syntax error, unexpected identifier, expecting ) near \\'artificial dreams\" encountered d...\\' at position 1:85 (while parsing)', 'errorNum': 1501}\n",
      "Error in:\n",
      "1: FOR doc in sentences_view SEARCH ANALYZER(PHRASE(doc.sentence, \"Discriminative wavelet shape descriptors for invariant recognition of 2-D patterns\". Pattern Recognition\"), \"text_en\")\n",
      "2:     RETURN doc.\n",
      "->AQL: syntax error, unexpected '.', expecting ) near '. Pattern Recognition\"), \"text_e...' at position 1:148 (while parsing). Errors: {'code': 400, 'error': True, 'errorMessage': 'AQL: syntax error, unexpected \\'.\\', expecting ) near \\'. Pattern Recognition\"), \"text_e...\\' at position 1:148 (while parsing)', 'errorNum': 1501}\n",
      "Error in:\n",
      "1: FOR doc in sentences_view SEARCH ANALYZER(PHRASE(doc.sentence, \"Application of the Technology of Cluster in Kohonen Fuzzy Neural Network and Data Fusion for Forest Fire Prevention in \"3S\"), \"text_en\")\n",
      "2:     RETURN doc.\n",
      "->AQL: syntax error, unexpected integer number, expecting ) near '3S\"), \"text_en\")\n",
      "    RETURN doc' at position 1:185 (while parsing). Errors: {'code': 400, 'error': True, 'errorMessage': 'AQL: syntax error, unexpected integer number, expecting ) near \\'3S\"), \"text_en\")\\n    RETURN doc\\' at position 1:185 (while parsing)', 'errorNum': 1501}\n",
      "Error in:\n",
      "1: FOR doc in sentences_view SEARCH ANALYZER(PHRASE(doc.sentence, \"\"Li\" the Suffix in YuJiang Dialect\"), \"text_en\")\n",
      "2:     RETURN doc.\n",
      "->AQL: syntax error, unexpected identifier, expecting ) near 'Li\" the Suffix in YuJiang Dialec...' at position 1:66 (while parsing). Errors: {'code': 400, 'error': True, 'errorMessage': 'AQL: syntax error, unexpected identifier, expecting ) near \\'Li\" the Suffix in YuJiang Dialec...\\' at position 1:66 (while parsing)', 'errorNum': 1501}\n",
      "Error in:\n",
      "1: FOR doc in sentences_view SEARCH ANALYZER(PHRASE(doc.sentence, \"Expert System and its application on the Automatic Test Paper Review of\"Basic Computer Course\"\"), \"text_en\")\n",
      "2:     RETURN doc.\n",
      "->AQL: syntax error, unexpected identifier, expecting ) near 'Basic Computer Course\"\"), \"text_...' at position 1:137 (while parsing). Errors: {'code': 400, 'error': True, 'errorMessage': 'AQL: syntax error, unexpected identifier, expecting ) near \\'Basic Computer Course\"\"), \"text_...\\' at position 1:137 (while parsing)', 'errorNum': 1501}\n",
      "Error in:\n",
      "1: FOR doc in sentences_view SEARCH ANALYZER(PHRASE(doc.sentence, \"Research on the Application of Mind Map in \"Artificial Intelligence\" Teaching\"), \"text_en\")\n",
      "2:     RETURN doc.\n",
      "->AQL: syntax error, unexpected identifier, expecting ) near 'Artificial Intelligence\" Teachin...' at position 1:109 (while parsing). Errors: {'code': 400, 'error': True, 'errorMessage': 'AQL: syntax error, unexpected identifier, expecting ) near \\'Artificial Intelligence\" Teachin...\\' at position 1:109 (while parsing)', 'errorNum': 1501}\n",
      "Error in:\n",
      "1: FOR doc in sentences_view SEARCH ANALYZER(PHRASE(doc.sentence, \"Comments on \"Pole-Zero Modeling and Classification of Phonocardiograms\"\"), \"text_en\")\n",
      "2:     RETURN doc.\n",
      "->AQL: syntax error, unexpected identifier, expecting ) near 'Pole-Zero Modeling and Classific...' at position 1:78 (while parsing). Errors: {'code': 400, 'error': True, 'errorMessage': \"AQL: syntax error, unexpected identifier, expecting ) near 'Pole-Zero Modeling and Classific...' at position 1:78 (while parsing)\", 'errorNum': 1501}\n",
      "Error in:\n",
      "1: FOR doc in sentences_view SEARCH ANALYZER(PHRASE(doc.sentence, \"Computer Vision in \"Seeing Human\" General Introduction and Survey\"), \"text_en\")\n",
      "2:     RETURN doc.\n",
      "->AQL: syntax error, unexpected identifier, expecting ) near 'Seeing Human\" General Introducti...' at position 1:85 (while parsing). Errors: {'code': 400, 'error': True, 'errorMessage': 'AQL: syntax error, unexpected identifier, expecting ) near \\'Seeing Human\" General Introducti...\\' at position 1:85 (while parsing)', 'errorNum': 1501}\n",
      "Error in:\n",
      "1: FOR doc in sentences_view SEARCH ANALYZER(PHRASE(doc.sentence, \"Dataset for \"Optimising Resource Management for Embedded Machine Learning\"\"), \"text_en\")\n",
      "2:     RETURN doc.\n",
      "->AQL: syntax error, unexpected identifier, expecting ) near 'Optimising Resource Management f...' at position 1:78 (while parsing). Errors: {'code': 400, 'error': True, 'errorMessage': \"AQL: syntax error, unexpected identifier, expecting ) near 'Optimising Resource Management f...' at position 1:78 (while parsing)\", 'errorNum': 1501}\n",
      "Error in:\n",
      "1: FOR doc in sentences_view SEARCH ANALYZER(PHRASE(doc.sentence, \"Choosing a heuristic for the \"fault tree to binary decision diagram\" conversion, using neural networks\"), \"text_en\")\n",
      "2:     RETURN doc.\n",
      "->AQL: syntax error, unexpected identifier, expecting ) near 'fault tree to binary decision di...' at position 1:95 (while parsing). Errors: {'code': 400, 'error': True, 'errorMessage': \"AQL: syntax error, unexpected identifier, expecting ) near 'fault tree to binary decision di...' at position 1:95 (while parsing)\", 'errorNum': 1501}\n",
      "Error in:\n",
      "1: FOR doc in sentences_view SEARCH ANALYZER(PHRASE(doc.sentence, \"Intelligenztechnologie \"Artificial Intelligence\" Methoden - Eine Chance für den Industriepraktiker?\"), \"text_en\")\n",
      "2:     RETURN doc.\n",
      "->AQL: syntax error, unexpected identifier, expecting ) near 'Artificial Intelligence\" Methode...' at position 1:89 (while parsing). Errors: {'code': 400, 'error': True, 'errorMessage': 'AQL: syntax error, unexpected identifier, expecting ) near \\'Artificial Intelligence\" Methode...\\' at position 1:89 (while parsing)', 'errorNum': 1501}\n",
      "Error in:\n",
      "1: FOR doc in sentences_view SEARCH ANALYZER(PHRASE(doc.sentence, \"The Fix 1x03 \"Let's Fix Artificial Intelligence\"\"), \"text_en\")\n",
      "2:     RETURN doc.\n",
      "->AQL: syntax error, unexpected LET declaration, expecting ) near 'Let's Fix Artificial Intelligenc...' at position 1:79 (while parsing). Errors: {'code': 400, 'error': True, 'errorMessage': \"AQL: syntax error, unexpected LET declaration, expecting ) near 'Let's Fix Artificial Intelligenc...' at position 1:79 (while parsing)\", 'errorNum': 1501}\n",
      "Error in:\n",
      "1: FOR doc in sentences_view SEARCH ANALYZER(PHRASE(doc.sentence, \"An Inductive Approach to Documenting the \"Core\" and Evolution of the IS Field\"), \"text_en\")\n",
      "2:     RETURN doc.\n",
      "->AQL: syntax error, unexpected identifier, expecting ) near 'Core\" and Evolution of the IS Fi...' at position 1:107 (while parsing). Errors: {'code': 400, 'error': True, 'errorMessage': 'AQL: syntax error, unexpected identifier, expecting ) near \\'Core\" and Evolution of the IS Fi...\\' at position 1:107 (while parsing)', 'errorNum': 1501}\n"
     ]
    },
    {
     "name": "stdout",
     "output_type": "stream",
     "text": [
      "Error in:\n",
      "1: FOR doc in sentences_view SEARCH ANALYZER(PHRASE(doc.sentence, \"Computational Thinking, Inferential Thinking and \"Big Data\"\"), \"text_en\")\n",
      "2:     RETURN doc.\n",
      "->AQL: syntax error, unexpected identifier, expecting ) near 'Big Data\"\"), \"text_en\")\n",
      "    RETU...' at position 1:115 (while parsing). Errors: {'code': 400, 'error': True, 'errorMessage': 'AQL: syntax error, unexpected identifier, expecting ) near \\'Big Data\"\"), \"text_en\")\\n    RETU...\\' at position 1:115 (while parsing)', 'errorNum': 1501}\n",
      "Error in:\n",
      "1: FOR doc in sentences_view SEARCH ANALYZER(PHRASE(doc.sentence, \"Industrial Communication \" A Three Step Rocket\"), \"text_en\")\n",
      "2:     RETURN doc.\n",
      "->AQL: syntax error, unexpected identifier, expecting ) near 'A Three Step Rocket\"), \"text_en\"...' at position 1:92 (while parsing). Errors: {'code': 400, 'error': True, 'errorMessage': 'AQL: syntax error, unexpected identifier, expecting ) near \\'A Three Step Rocket\"), \"text_en\"...\\' at position 1:92 (while parsing)', 'errorNum': 1501}\n",
      "Error in:\n",
      "1: FOR doc in sentences_view SEARCH ANALYZER(PHRASE(doc.sentence, \"The \"Independent Components\" of Scenes are Edge Filters\"), \"text_en\")\n",
      "2:     RETURN doc.\n",
      "->AQL: syntax error, unexpected identifier, expecting ) near 'Independent Components\" of Scene...' at position 1:70 (while parsing). Errors: {'code': 400, 'error': True, 'errorMessage': 'AQL: syntax error, unexpected identifier, expecting ) near \\'Independent Components\" of Scene...\\' at position 1:70 (while parsing)', 'errorNum': 1501}\n",
      "Error in:\n",
      "1: FOR doc in sentences_view SEARCH ANALYZER(PHRASE(doc.sentence, \"IA Problem and \"Art of Intentionlity Architecture\"\"), \"text_en\")\n",
      "2:     RETURN doc.\n",
      "->AQL: syntax error, unexpected identifier, expecting ) near 'Art of Intentionlity Architectur...' at position 1:81 (while parsing). Errors: {'code': 400, 'error': True, 'errorMessage': \"AQL: syntax error, unexpected identifier, expecting ) near 'Art of Intentionlity Architectur...' at position 1:81 (while parsing)\", 'errorNum': 1501}\n",
      "Error in:\n",
      "1: FOR doc in sentences_view SEARCH ANALYZER(PHRASE(doc.sentence, \"A Preliminary Note for\" Bushido AI Programming\"\"), \"text_en\")\n",
      "2:     RETURN doc.\n",
      "->AQL: syntax error, unexpected identifier, expecting ) near 'Bushido AI Programming\"\"), \"text...' at position 1:89 (while parsing). Errors: {'code': 400, 'error': True, 'errorMessage': 'AQL: syntax error, unexpected identifier, expecting ) near \\'Bushido AI Programming\"\"), \"text...\\' at position 1:89 (while parsing)', 'errorNum': 1501}\n",
      "Error in:\n",
      "1: FOR doc in sentences_view SEARCH ANALYZER(PHRASE(doc.sentence, \"\"Chitty-Chitty-Chat Bot\": Deep Learning for Conversational AI.\"), \"text_en\")\n",
      "2:     RETURN doc.\n",
      "->AQL: syntax error, unexpected identifier, expecting ) near 'Chitty-Chitty-Chat Bot\": Deep Le...' at position 1:66 (while parsing). Errors: {'code': 400, 'error': True, 'errorMessage': 'AQL: syntax error, unexpected identifier, expecting ) near \\'Chitty-Chitty-Chat Bot\": Deep Le...\\' at position 1:66 (while parsing)', 'errorNum': 1501}\n",
      "Error in:\n",
      "1: FOR doc in sentences_view SEARCH ANALYZER(PHRASE(doc.sentence, \"Comparison Between an HVS Inspired Linear Filter and the Bilateral Filter in Performing \"Vision at a Glance\" through Smoothing with Edge Preservation\"), \"text_en\")\n",
      "2:     RETURN doc.\n",
      "->AQL: syntax error, unexpected identifier, expecting ) near 'Vision at a Glance\" through Smoo...' at position 1:154 (while parsing). Errors: {'code': 400, 'error': True, 'errorMessage': 'AQL: syntax error, unexpected identifier, expecting ) near \\'Vision at a Glance\" through Smoo...\\' at position 1:154 (while parsing)', 'errorNum': 1501}\n",
      "Error in:\n",
      "1: FOR doc in sentences_view SEARCH ANALYZER(PHRASE(doc.sentence, \"\"Making you happy makes me happy\"- Measuring Individual Mood with Smartwatches\"), \"text_en\")\n",
      "2:     RETURN doc.\n",
      "->AQL: syntax error, unexpected identifier, expecting ) near 'Making you happy makes me happy\"...' at position 1:66 (while parsing). Errors: {'code': 400, 'error': True, 'errorMessage': 'AQL: syntax error, unexpected identifier, expecting ) near \\'Making you happy makes me happy\"...\\' at position 1:66 (while parsing)', 'errorNum': 1501}\n",
      "Error in:\n",
      "1: FOR doc in sentences_view SEARCH ANALYZER(PHRASE(doc.sentence, \"Bagging predictors\" Machine Learning\"), \"text_en\")\n",
      "2:     RETURN doc.\n",
      "->AQL: syntax error, unexpected identifier, expecting ) near 'Machine Learning\"), \"text_en\")\n",
      " ...' at position 1:85 (while parsing). Errors: {'code': 400, 'error': True, 'errorMessage': 'AQL: syntax error, unexpected identifier, expecting ) near \\'Machine Learning\"), \"text_en\")\\n ...\\' at position 1:85 (while parsing)', 'errorNum': 1501}\n",
      "Error in:\n",
      "1: FOR doc in sentences_view SEARCH ANALYZER(PHRASE(doc.sentence, \"Lexical Hard Wiring of Kind-denoting Expression of Nouns and \"the Nouns of Class\"\"), \"text_en\")\n",
      "2:     RETURN doc.\n",
      "->AQL: syntax error, unexpected identifier, expecting ) near 'the Nouns of Class\"\"), \"text_en\"...' at position 1:127 (while parsing). Errors: {'code': 400, 'error': True, 'errorMessage': 'AQL: syntax error, unexpected identifier, expecting ) near \\'the Nouns of Class\"\"), \"text_en\"...\\' at position 1:127 (while parsing)', 'errorNum': 1501}\n",
      "Error in:\n",
      "1: FOR doc in sentences_view SEARCH ANALYZER(PHRASE(doc.sentence, \"Commentary on Turing's \"Computing Machinery and Intelligence\"\"), \"text_en\")\n",
      "2:     RETURN doc.\n",
      "->AQL: syntax error, unexpected identifier, expecting ) near 'Computing Machinery and Intellig...' at position 1:89 (while parsing). Errors: {'code': 400, 'error': True, 'errorMessage': \"AQL: syntax error, unexpected identifier, expecting ) near 'Computing Machinery and Intellig...' at position 1:89 (while parsing)\", 'errorNum': 1501}\n",
      "Error in:\n",
      "1: FOR doc in sentences_view SEARCH ANALYZER(PHRASE(doc.sentence, \"\"I've taken a first CS class and liked it! What's next?\" Exploring the Multiplicity of CS2 Paths for Majors and Non-Majors\"), \"text_en\")\n",
      "2:     RETURN doc.\n",
      "->AQL: syntax error, unexpected identifier, expecting ) near 'I've taken a first CS class and ...' at position 1:66 (while parsing). Errors: {'code': 400, 'error': True, 'errorMessage': \"AQL: syntax error, unexpected identifier, expecting ) near 'I've taken a first CS class and ...' at position 1:66 (while parsing)\", 'errorNum': 1501}\n",
      "Error in:\n",
      "1: FOR doc in sentences_view SEARCH ANALYZER(PHRASE(doc.sentence, \"Negative Sentence and \"F-V-M\" Analysis\"), \"text_en\")\n",
      "2:     RETURN doc.\n",
      "->AQL: syntax error, unexpected identifier, expecting ) near 'F-V-M\" Analysis\"), \"text_en\")\n",
      "  ...' at position 1:88 (while parsing). Errors: {'code': 400, 'error': True, 'errorMessage': 'AQL: syntax error, unexpected identifier, expecting ) near \\'F-V-M\" Analysis\"), \"text_en\")\\n  ...\\' at position 1:88 (while parsing)', 'errorNum': 1501}\n",
      "Error in:\n",
      "1: FOR doc in sentences_view SEARCH ANALYZER(PHRASE(doc.sentence, \"Performance Characterization of State-Of-The-Art Deep Learning Workloads on an IBM \"Minsky\" Platform\"), \"text_en\")\n",
      "2:     RETURN doc.\n",
      "->AQL: syntax error, unexpected identifier, expecting ) near 'Minsky\" Platform\"), \"text_en\")\n",
      " ...' at position 1:149 (while parsing). Errors: {'code': 400, 'error': True, 'errorMessage': 'AQL: syntax error, unexpected identifier, expecting ) near \\'Minsky\" Platform\"), \"text_en\")\\n ...\\' at position 1:149 (while parsing)', 'errorNum': 1501}\n",
      "Error in:\n",
      "1: FOR doc in sentences_view SEARCH ANALYZER(PHRASE(doc.sentence, \"\"Optical Pattern Recognition And Ai Algorithms And Architectures For Atr And Computer Vision\"\"), \"text_en\")\n",
      "2:     RETURN doc.\n",
      "->AQL: syntax error, unexpected identifier, expecting ) near 'Optical Pattern Recognition And ...' at position 1:66 (while parsing). Errors: {'code': 400, 'error': True, 'errorMessage': \"AQL: syntax error, unexpected identifier, expecting ) near 'Optical Pattern Recognition And ...' at position 1:66 (while parsing)\", 'errorNum': 1501}\n",
      "Error in:\n",
      "1: FOR doc in sentences_view SEARCH ANALYZER(PHRASE(doc.sentence, \"Conditional distribution learning with neural networks and its application to channel equalization,\" to appear\"), \"text_en\")\n",
      "2:     RETURN doc.\n",
      "->AQL: syntax error, unexpected identifier, expecting ) near 'to appear\"), \"text_en\")\n",
      "    RETU...' at position 1:166 (while parsing). Errors: {'code': 400, 'error': True, 'errorMessage': 'AQL: syntax error, unexpected identifier, expecting ) near \\'to appear\"), \"text_en\")\\n    RETU...\\' at position 1:166 (while parsing)', 'errorNum': 1501}\n"
     ]
    },
    {
     "name": "stdout",
     "output_type": "stream",
     "text": [
      "Error in:\n",
      "1: FOR doc in sentences_view SEARCH ANALYZER(PHRASE(doc.sentence, \"Towards recognizing \"cool\": can end users help computer vision recognize subjective attributes of objects in images?\"), \"text_en\")\n",
      "2:     RETURN doc.\n",
      "->AQL: syntax error, unexpected identifier, expecting ) near 'cool\": can end users help comput...' at position 1:86 (while parsing). Errors: {'code': 400, 'error': True, 'errorMessage': 'AQL: syntax error, unexpected identifier, expecting ) near \\'cool\": can end users help comput...\\' at position 1:86 (while parsing)', 'errorNum': 1501}\n",
      "Error in:\n",
      "1: FOR doc in sentences_view SEARCH ANALYZER(PHRASE(doc.sentence, \"Supporting physicians in taking decisions in clinical guidelines: the GLARE \"what if\" facility.\"), \"text_en\")\n",
      "2:     RETURN doc.\n",
      "->AQL: syntax error, unexpected identifier, expecting ) near 'what if\" facility.\"), \"text_en\")...' at position 1:142 (while parsing). Errors: {'code': 400, 'error': True, 'errorMessage': 'AQL: syntax error, unexpected identifier, expecting ) near \\'what if\" facility.\"), \"text_en\")...\\' at position 1:142 (while parsing)', 'errorNum': 1501}\n",
      "Error in:\n",
      "1: FOR doc in sentences_view SEARCH ANALYZER(PHRASE(doc.sentence, \"Author manuscript, published in \"MLDM- 9th International Conference on Machine Learning and Data Mining- 2013 (2013)\" Decremental Learning of Evolving Fuzzy Inference Systems Application to Handwritten Gestures Recognition\"), \"text_en\")\n",
      "2:     RETURN doc.\n",
      "->AQL: syntax error, unexpected identifier, expecting ) near 'MLDM- 9th International Conferen...' at position 1:98 (while parsing). Errors: {'code': 400, 'error': True, 'errorMessage': \"AQL: syntax error, unexpected identifier, expecting ) near 'MLDM- 9th International Conferen...' at position 1:98 (while parsing)\", 'errorNum': 1501}\n",
      "Error in:\n",
      "1: FOR doc in sentences_view SEARCH ANALYZER(PHRASE(doc.sentence, \"A Tentative Study in Teaching Reform of \"Artificial Intelligence\"\"), \"text_en\")\n",
      "2:     RETURN doc.\n",
      "->AQL: syntax error, unexpected identifier, expecting ) near 'Artificial Intelligence\"\"), \"tex...' at position 1:106 (while parsing). Errors: {'code': 400, 'error': True, 'errorMessage': 'AQL: syntax error, unexpected identifier, expecting ) near \\'Artificial Intelligence\"\"), \"tex...\\' at position 1:106 (while parsing)', 'errorNum': 1501}\n",
      "Error in:\n",
      "1: FOR doc in sentences_view SEARCH ANALYZER(PHRASE(doc.sentence, \"Towards an \"Ethics by Design\" Methodology for AI Research Projects\"), \"text_en\")\n",
      "2:     RETURN doc.\n",
      "->AQL: syntax error, unexpected identifier, expecting ) near 'Ethics by Design\" Methodology fo...' at position 1:77 (while parsing). Errors: {'code': 400, 'error': True, 'errorMessage': 'AQL: syntax error, unexpected identifier, expecting ) near \\'Ethics by Design\" Methodology fo...\\' at position 1:77 (while parsing)', 'errorNum': 1501}\n",
      "Error in:\n",
      "1: FOR doc in sentences_view SEARCH ANALYZER(PHRASE(doc.sentence, \"Knowledge Expression of \"Verbot\" Intelligence Chatting System Based on XML\"), \"text_en\")\n",
      "2:     RETURN doc.\n",
      "->AQL: syntax error, unexpected identifier, expecting ) near 'Verbot\" Intelligence Chatting Sy...' at position 1:90 (while parsing). Errors: {'code': 400, 'error': True, 'errorMessage': 'AQL: syntax error, unexpected identifier, expecting ) near \\'Verbot\" Intelligence Chatting Sy...\\' at position 1:90 (while parsing)', 'errorNum': 1501}\n",
      "Error in:\n",
      "1: FOR doc in sentences_view SEARCH ANALYZER(PHRASE(doc.sentence, \"H.761 Support of a New concept Element and a New \"recognition\" Node-Event to Enable Deep Learning-based Analyses for Media-Nodes\"), \"text_en\")\n",
      "2:     RETURN doc.\n",
      "->AQL: syntax error, unexpected identifier, expecting ) near 'recognition\" Node-Event to Enabl...' at position 1:115 (while parsing). Errors: {'code': 400, 'error': True, 'errorMessage': 'AQL: syntax error, unexpected identifier, expecting ) near \\'recognition\" Node-Event to Enabl...\\' at position 1:115 (while parsing)', 'errorNum': 1501}\n",
      "Error in:\n",
      "1: FOR doc in sentences_view SEARCH ANALYZER(PHRASE(doc.sentence, \"Riordan.\"Integration of Traditional Imaging, Expert Systems, and Neural Network Techniques for Enhanced Recognition of Handwritten Information\"), \"text_en\")\n",
      "2:     RETURN doc.\n",
      "->AQL: syntax error, unexpected identifier, expecting ) near 'Integration of Traditional Imagi...' at position 1:74 (while parsing). Errors: {'code': 400, 'error': True, 'errorMessage': \"AQL: syntax error, unexpected identifier, expecting ) near 'Integration of Traditional Imagi...' at position 1:74 (while parsing)\", 'errorNum': 1501}\n",
      "Error in:\n",
      "1: FOR doc in sentences_view SEARCH ANALYZER(PHRASE(doc.sentence, \"Study Program \"Robotics and Autonomous Systems\" at the University of Lübeck\"), \"text_en\")\n",
      "2:     RETURN doc.\n",
      "->AQL: syntax error, unexpected identifier, expecting ) near 'Robotics and Autonomous Systems\"...' at position 1:80 (while parsing). Errors: {'code': 400, 'error': True, 'errorMessage': 'AQL: syntax error, unexpected identifier, expecting ) near \\'Robotics and Autonomous Systems\"...\\' at position 1:80 (while parsing)', 'errorNum': 1501}\n",
      "Error in:\n",
      "1: FOR doc in sentences_view SEARCH ANALYZER(PHRASE(doc.sentence, \"Modern Machine Learning Technologies, Workshop Proceedings of the 8th International Conference on \"Mathematics. Information Technologies. Education\", MoMLeT&DS-2019, Shatsk, Ukraine, June 2-4, 2019\"), \"text_en\")\n",
      "2:     RETURN doc.\n",
      "->AQL: syntax error, unexpected identifier, expecting ) near 'Mathematics. Information Technol...' at position 1:164 (while parsing). Errors: {'code': 400, 'error': True, 'errorMessage': \"AQL: syntax error, unexpected identifier, expecting ) near 'Mathematics. Information Technol...' at position 1:164 (while parsing)\", 'errorNum': 1501}\n",
      "Error in:\n",
      "1: FOR doc in sentences_view SEARCH ANALYZER(PHRASE(doc.sentence, \"Towards\"AlphaChem\": Chemical Synthesis Planning with Tree Search and Deep Neural Network Policies\"), \"text_en\")\n",
      "2:     RETURN doc.\n",
      "->AQL: syntax error, unexpected identifier, expecting ) near 'AlphaChem\": Chemical Synthesis P...' at position 1:73 (while parsing). Errors: {'code': 400, 'error': True, 'errorMessage': 'AQL: syntax error, unexpected identifier, expecting ) near \\'AlphaChem\": Chemical Synthesis P...\\' at position 1:73 (while parsing)', 'errorNum': 1501}\n",
      "Error in:\n",
      "1: FOR doc in sentences_view SEARCH ANALYZER(PHRASE(doc.sentence, \"SKKD No. 800/UN25.5.1/TU.3/2018 \":Seniment analysis system for movie review in Bahasa lndonesia using naive bayes classifier method\"\"), \"text_en\")\n",
      "2:     RETURN doc.\n",
      "->AQL: syntax error, unexpected :, expecting ) near ':Seniment analysis system for mo...' at position 1:98 (while parsing). Errors: {'code': 400, 'error': True, 'errorMessage': \"AQL: syntax error, unexpected :, expecting ) near ':Seniment analysis system for mo...' at position 1:98 (while parsing)\", 'errorNum': 1501}\n",
      "Error in:\n",
      "1: FOR doc in sentences_view SEARCH ANALYZER(PHRASE(doc.sentence, \"This paper was presented at a colloquium entitled \"Images of Science: Science of Images, \" organized by Albert V.\"), \"text_en\")\n",
      "2:     RETURN doc.\n",
      "->AQL: syntax error, unexpected identifier, expecting ) near 'Images of Science: Science of Im...' at position 1:116 (while parsing). Errors: {'code': 400, 'error': True, 'errorMessage': \"AQL: syntax error, unexpected identifier, expecting ) near 'Images of Science: Science of Im...' at position 1:116 (while parsing)\", 'errorNum': 1501}\n",
      "Error in:\n",
      "1: FOR doc in sentences_view SEARCH ANALYZER(PHRASE(doc.sentence, \"Spatial Language Processing for Assistive Robots with \"Deep\" Chunking and Semantic Grammars\"), \"text_en\")\n",
      "2:     RETURN doc.\n",
      "->AQL: syntax error, unexpected identifier, expecting ) near 'Deep\" Chunking and Semantic Gram...' at position 1:120 (while parsing). Errors: {'code': 400, 'error': True, 'errorMessage': 'AQL: syntax error, unexpected identifier, expecting ) near \\'Deep\" Chunking and Semantic Gram...\\' at position 1:120 (while parsing)', 'errorNum': 1501}\n",
      "Error in:\n",
      "1: FOR doc in sentences_view SEARCH ANALYZER(PHRASE(doc.sentence, \"A Topological \"Reading\" Lesson: Classification of MNIST using TDA\"), \"text_en\")\n",
      "2:     RETURN doc.\n",
      "->AQL: syntax error, unexpected identifier, expecting ) near 'Reading\" Lesson: Classification ...' at position 1:80 (while parsing). Errors: {'code': 400, 'error': True, 'errorMessage': 'AQL: syntax error, unexpected identifier, expecting ) near \\'Reading\" Lesson: Classification ...\\' at position 1:80 (while parsing)', 'errorNum': 1501}\n"
     ]
    },
    {
     "name": "stdout",
     "output_type": "stream",
     "text": [
      "Error in:\n",
      "1: FOR doc in sentences_view SEARCH ANALYZER(PHRASE(doc.sentence, \"Avoiding Implementation Pitfalls of\"Matrix Capsules with EM Routing\"by Hinton et al\"), \"text_en\")\n",
      "2:     RETURN doc.\n",
      "->AQL: syntax error, unexpected identifier, expecting ) near 'Matrix Capsules with EM Routing\"...' at position 1:101 (while parsing). Errors: {'code': 400, 'error': True, 'errorMessage': 'AQL: syntax error, unexpected identifier, expecting ) near \\'Matrix Capsules with EM Routing\"...\\' at position 1:101 (while parsing)', 'errorNum': 1501}\n",
      "Error in:\n",
      "1: FOR doc in sentences_view SEARCH ANALYZER(PHRASE(doc.sentence, \"A Truth Maintenance System\" Artificial Intelligence 12\"), \"text_en\")\n",
      "2:     RETURN doc.\n",
      "->AQL: syntax error, unexpected identifier, expecting ) near 'Artificial Intelligence 12\"), \"t...' at position 1:93 (while parsing). Errors: {'code': 400, 'error': True, 'errorMessage': 'AQL: syntax error, unexpected identifier, expecting ) near \\'Artificial Intelligence 12\"), \"t...\\' at position 1:93 (while parsing)', 'errorNum': 1501}\n",
      "Error in:\n",
      "1: FOR doc in sentences_view SEARCH ANALYZER(PHRASE(doc.sentence, \"Photogrammetric surface reconstruction from oblique and nadir looking aerial images in the extreme environment of the Himalayan area \"Sabche Cirque\"\"), \"text_en\")\n",
      "2:     RETURN doc.\n",
      "->AQL: syntax error, unexpected identifier, expecting ) near 'Sabche Cirque\"\"), \"text_en\")\n",
      "   ...' at position 1:199 (while parsing). Errors: {'code': 400, 'error': True, 'errorMessage': 'AQL: syntax error, unexpected identifier, expecting ) near \\'Sabche Cirque\"\"), \"text_en\")\\n   ...\\' at position 1:199 (while parsing)', 'errorNum': 1501}\n",
      "Error in:\n",
      "1: FOR doc in sentences_view SEARCH ANALYZER(PHRASE(doc.sentence, \"Corrections to \"Results on nonrecursive digital filters with nonequidistant taps\"\"), \"text_en\")\n",
      "2:     RETURN doc.\n",
      "->AQL: syntax error, unexpected identifier, expecting ) near 'Results on nonrecursive digital ...' at position 1:81 (while parsing). Errors: {'code': 400, 'error': True, 'errorMessage': \"AQL: syntax error, unexpected identifier, expecting ) near 'Results on nonrecursive digital ...' at position 1:81 (while parsing)\", 'errorNum': 1501}\n",
      "Error in:\n",
      "1: FOR doc in sentences_view SEARCH ANALYZER(PHRASE(doc.sentence, \"Analysis, Design and Implementation of Human Fingerprint Patterns System \"Towards Age & Gender Determination, Ridge Thickness To Valley Thickness Ratio (RTVTR) & Ridge Count On Gender Detection\"), \"text_en\")\n",
      "2:     RETURN doc.\n",
      "->AQL: syntax error, unexpected identifier, expecting ) near 'Towards Age & Gender Determinati...' at position 1:139 (while parsing). Errors: {'code': 400, 'error': True, 'errorMessage': \"AQL: syntax error, unexpected identifier, expecting ) near 'Towards Age & Gender Determinati...' at position 1:139 (while parsing)\", 'errorNum': 1501}\n",
      "Error in:\n",
      "1: FOR doc in sentences_view SEARCH ANALYZER(PHRASE(doc.sentence, \"Complementing machine learning classifiers via dynamic symbolic execution: \"human vs. bot generated\" tweets\"), \"text_en\")\n",
      "2:     RETURN doc.\n",
      "->AQL: syntax error, unexpected identifier, expecting ) near 'human vs. bot generated\" tweets\"...' at position 1:141 (while parsing). Errors: {'code': 400, 'error': True, 'errorMessage': 'AQL: syntax error, unexpected identifier, expecting ) near \\'human vs. bot generated\" tweets\"...\\' at position 1:141 (while parsing)', 'errorNum': 1501}\n",
      "Error in:\n",
      "1: FOR doc in sentences_view SEARCH ANALYZER(PHRASE(doc.sentence, \"« Gesture verbs ». Cognitive-visual mechanism of \"classifier verbs\" in Norwegian Sign Language\"), \"text_en\")\n",
      "2:     RETURN doc.\n",
      "->AQL: syntax error, unexpected identifier, expecting ) near 'classifier verbs\" in Norwegian S...' at position 1:117 (while parsing). Errors: {'code': 400, 'error': True, 'errorMessage': 'AQL: syntax error, unexpected identifier, expecting ) near \\'classifier verbs\" in Norwegian S...\\' at position 1:117 (while parsing)', 'errorNum': 1501}\n",
      "Error in:\n",
      "1: FOR doc in sentences_view SEARCH ANALYZER(PHRASE(doc.sentence, \"Designing a \"Cognizant Interface\" between the user and the simulation software\"), \"text_en\")\n",
      "2:     RETURN doc.\n",
      "->AQL: syntax error, unexpected identifier, expecting ) near 'Cognizant Interface\" between the...' at position 1:78 (while parsing). Errors: {'code': 400, 'error': True, 'errorMessage': 'AQL: syntax error, unexpected identifier, expecting ) near \\'Cognizant Interface\" between the...\\' at position 1:78 (while parsing)', 'errorNum': 1501}\n",
      "Error in:\n",
      "1: FOR doc in sentences_view SEARCH ANALYZER(PHRASE(doc.sentence, \"Commentary: Has pathology gone to the \"birds\" because we have just been \"winging\" it?\"), \"text_en\")\n",
      "2:     RETURN doc.\n",
      "->AQL: syntax error, unexpected identifier, expecting ) near 'birds\" because we have just been...' at position 1:104 (while parsing). Errors: {'code': 400, 'error': True, 'errorMessage': 'AQL: syntax error, unexpected identifier, expecting ) near \\'birds\" because we have just been...\\' at position 1:104 (while parsing)', 'errorNum': 1501}\n",
      "Error in:\n",
      "1: FOR doc in sentences_view SEARCH ANALYZER(PHRASE(doc.sentence, \"Proceedings of the 5th International Workshop \"What can FCA do for Artificial Intelligence\"? co-located with the European Conference on Artificial Intelligence, FCA4AI@ECAI 2016, The Hague, the Netherlands, August 30, 2016\"), \"text_en\")\n",
      "2:     RETURN doc.\n",
      "->AQL: syntax error, unexpected identifier, expecting ) near 'What can FCA do for Artificial I...' at position 1:112 (while parsing). Errors: {'code': 400, 'error': True, 'errorMessage': \"AQL: syntax error, unexpected identifier, expecting ) near 'What can FCA do for Artificial I...' at position 1:112 (while parsing)\", 'errorNum': 1501}\n",
      "Error in:\n",
      "1: FOR doc in sentences_view SEARCH ANALYZER(PHRASE(doc.sentence, \"Space experiment \"Convergence\": retrieving of atmospheric water vapor profile using of artificial neural networks\"), \"text_en\")\n",
      "2:     RETURN doc.\n",
      "->AQL: syntax error, unexpected identifier, expecting ) near 'Convergence\": retrieving of atmo...' at position 1:83 (while parsing). Errors: {'code': 400, 'error': True, 'errorMessage': 'AQL: syntax error, unexpected identifier, expecting ) near \\'Convergence\": retrieving of atmo...\\' at position 1:83 (while parsing)', 'errorNum': 1501}\n",
      "Error in:\n",
      "1: FOR doc in sentences_view SEARCH ANALYZER(PHRASE(doc.sentence, \"Image Based Detection of 3D Scene Change (Special Issue on \"2012 Korea-Japan Joint Workshop on Frontiers of Computer Vision (FCV2012)\")\"), \"text_en\")\n",
      "2:     RETURN doc.\n",
      "->AQL: syntax error, unexpected integer number, expecting ) near '2012 Korea-Japan Joint Workshop ...' at position 1:125 (while parsing). Errors: {'code': 400, 'error': True, 'errorMessage': \"AQL: syntax error, unexpected integer number, expecting ) near '2012 Korea-Japan Joint Workshop ...' at position 1:125 (while parsing)\", 'errorNum': 1501}\n",
      "Error in:\n",
      "1: FOR doc in sentences_view SEARCH ANALYZER(PHRASE(doc.sentence, \"Food Sales Prediction: \"If Only It Knew What We Know\"\"), \"text_en\")\n",
      "2:     RETURN doc.\n",
      "->AQL: syntax error, unexpected identifier, expecting ) near 'If Only It Knew What We Know\"\"),...' at position 1:89 (while parsing). Errors: {'code': 400, 'error': True, 'errorMessage': 'AQL: syntax error, unexpected identifier, expecting ) near \\'If Only It Knew What We Know\"\"),...\\' at position 1:89 (while parsing)', 'errorNum': 1501}\n",
      "Error in:\n",
      "1: FOR doc in sentences_view SEARCH ANALYZER(PHRASE(doc.sentence, \"On the Origin and Semantic Feature of the Classifier \"Xiang\" and its Teaching in TCFL\"), \"text_en\")\n",
      "2:     RETURN doc.\n",
      "->AQL: syntax error, unexpected identifier, expecting ) near 'Xiang\" and its Teaching in TCFL\"...' at position 1:119 (while parsing). Errors: {'code': 400, 'error': True, 'errorMessage': 'AQL: syntax error, unexpected identifier, expecting ) near \\'Xiang\" and its Teaching in TCFL\"...\\' at position 1:119 (while parsing)', 'errorNum': 1501}\n",
      "Error in:\n",
      "1: FOR doc in sentences_view SEARCH ANALYZER(PHRASE(doc.sentence, \"Obituary for Evangelia Micheli-Tzanakou (\"Litsa\") [In Memoriam]\"), \"text_en\")\n",
      "2:     RETURN doc.\n",
      "->AQL: syntax error, unexpected identifier, expecting ) near 'Litsa\") [In Memoriam]\"), \"text_e...' at position 1:107 (while parsing). Errors: {'code': 400, 'error': True, 'errorMessage': 'AQL: syntax error, unexpected identifier, expecting ) near \\'Litsa\") [In Memoriam]\"), \"text_e...\\' at position 1:107 (while parsing)', 'errorNum': 1501}\n"
     ]
    },
    {
     "name": "stdout",
     "output_type": "stream",
     "text": [
      "Error in:\n",
      "1: FOR doc in sentences_view SEARCH ANALYZER(PHRASE(doc.sentence, \"Learning of first-Order Formulas and Inductive Logic Programming ( \"Recent Dvelopments in the Theory and Applications of Machine Learning\")\"), \"text_en\")\n",
      "2:     RETURN doc.\n",
      "->AQL: syntax error, unexpected identifier, expecting ) near 'Recent Dvelopments in the Theory...' at position 1:133 (while parsing). Errors: {'code': 400, 'error': True, 'errorMessage': \"AQL: syntax error, unexpected identifier, expecting ) near 'Recent Dvelopments in the Theory...' at position 1:133 (while parsing)\", 'errorNum': 1501}\n",
      "Error in:\n",
      "1: FOR doc in sentences_view SEARCH ANALYZER(PHRASE(doc.sentence, \"CHASE Algorithm: \"Ease of Driving\" Classification\"), \"text_en\")\n",
      "2:     RETURN doc.\n",
      "->AQL: syntax error, unexpected identifier, expecting ) near 'Ease of Driving\" Classification\"...' at position 1:83 (while parsing). Errors: {'code': 400, 'error': True, 'errorMessage': 'AQL: syntax error, unexpected identifier, expecting ) near \\'Ease of Driving\" Classification\"...\\' at position 1:83 (while parsing)', 'errorNum': 1501}\n",
      "Error in:\n",
      "1: FOR doc in sentences_view SEARCH ANALYZER(PHRASE(doc.sentence, \"Measuring issue salience: Using supervised machine learning to generate data from free responses to the \\most important problem\"question\"), \"text_en\")\n",
      "2:     RETURN doc.\n",
      "->AQL: syntax error, unexpected identifier, expecting ) near 'question\"), \"text_en\")\n",
      "    RETUR...' at position 1:193 (while parsing). Errors: {'code': 400, 'error': True, 'errorMessage': 'AQL: syntax error, unexpected identifier, expecting ) near \\'question\"), \"text_en\")\\n    RETUR...\\' at position 1:193 (while parsing)', 'errorNum': 1501}\n",
      "Error in:\n",
      "1: FOR doc in sentences_view SEARCH ANALYZER(PHRASE(doc.sentence, \"New methodology of neural network reconstruction for \"in vitro\" culture on MultiElectrode Array (MEA)\"), \"text_en\")\n",
      "2:     RETURN doc.\n",
      "->AQL: syntax error, unexpected quoted string, expecting ) near '\"), \"text_en\")\n",
      "    RETURN doc' at position 1:166 (while parsing). Errors: {'code': 400, 'error': True, 'errorMessage': 'AQL: syntax error, unexpected quoted string, expecting ) near \\'\"), \"text_en\")\\n    RETURN doc\\' at position 1:166 (while parsing)', 'errorNum': 1501}\n",
      "Error in:\n",
      "1: FOR doc in sentences_view SEARCH ANALYZER(PHRASE(doc.sentence, \"Special Issue \"Fuzzy/Neural Network Applications to Dynamics and Control of Mechanical Systems\". A Study on Optimum Design Using Fuzzy Numbers as Design Variables. 2nd Report, Development of Simple Fuzzy Number Operation and Its Application.\"), \"text_en\")\n",
      "2:     RETURN doc.\n",
      "->AQL: syntax error, unexpected identifier, expecting ) near 'Fuzzy/Neural Network Application...' at position 1:80 (while parsing). Errors: {'code': 400, 'error': True, 'errorMessage': \"AQL: syntax error, unexpected identifier, expecting ) near 'Fuzzy/Neural Network Application...' at position 1:80 (while parsing)\", 'errorNum': 1501}\n"
     ]
    }
   ],
   "source": [
    "r2 = search_for_titles(titles[:100000])"
   ]
  },
  {
   "cell_type": "code",
   "execution_count": 141,
   "id": "41e3c923",
   "metadata": {},
   "outputs": [],
   "source": [
    "df=pd.DataFrame(r2)"
   ]
  },
  {
   "cell_type": "code",
   "execution_count": 146,
   "id": "48dc9f4f",
   "metadata": {},
   "outputs": [
    {
     "data": {
      "text/plain": [
       "0        Documents/261496\n",
       "1        Documents/261111\n",
       "4        Documents/262690\n",
       "5        Documents/274783\n",
       "6        Documents/266113\n",
       "               ...       \n",
       "12691      Documents/1440\n",
       "13369    Documents/372070\n",
       "13383    Documents/260262\n",
       "13402    Documents/367147\n",
       "13407    Documents/346819\n",
       "Name: doc_id, Length: 1066, dtype: object"
      ]
     },
     "execution_count": 146,
     "metadata": {},
     "output_type": "execute_result"
    }
   ],
   "source": [
    "df.doc_id.drop_duplicates()"
   ]
  },
  {
   "cell_type": "code",
   "execution_count": 151,
   "id": "a60689db",
   "metadata": {},
   "outputs": [
    {
     "data": {
      "text/plain": [
       "0                                           Data Science\n",
       "94                   Explainable artificial intelligence\n",
       "99               Implantable Cardioverter Defibrillators\n",
       "100                       Natural language understanding\n",
       "103                         Convolutional Neural Network\n",
       "                              ...                       \n",
       "14745                 Computer Vision & Image Processing\n",
       "14746                        Machine Learning Approaches\n",
       "14750    Artificial Intelligence and Cognitive Sciences.\n",
       "14751                                  TABLE OF CONTENTS\n",
       "15612            Applications Of Artificial Intelligence\n",
       "Name: search_query, Length: 128, dtype: object"
      ]
     },
     "execution_count": 151,
     "metadata": {},
     "output_type": "execute_result"
    }
   ],
   "source": [
    "df['search_query'].drop_duplicates()"
   ]
  },
  {
   "cell_type": "code",
   "execution_count": 153,
   "id": "c9d7be37",
   "metadata": {},
   "outputs": [
    {
     "data": {
      "text/plain": [
       "sentence                        The Court of Justice has playe...\n",
       "doc_id                                           Documents/277033\n",
       "search_query              Implantable Cardioverter Defibrillators\n",
       "Name: 99, dtype: object"
      ]
     },
     "execution_count": 153,
     "metadata": {},
     "output_type": "execute_result"
    }
   ],
   "source": [
    "df.loc[99]"
   ]
  },
  {
   "cell_type": "code",
   "execution_count": 157,
   "id": "a08fe5e3",
   "metadata": {},
   "outputs": [
    {
     "data": {
      "text/html": [
       "<div>\n",
       "<style scoped>\n",
       "    .dataframe tbody tr th:only-of-type {\n",
       "        vertical-align: middle;\n",
       "    }\n",
       "\n",
       "    .dataframe tbody tr th {\n",
       "        vertical-align: top;\n",
       "    }\n",
       "\n",
       "    .dataframe thead th {\n",
       "        text-align: right;\n",
       "    }\n",
       "</style>\n",
       "<table border=\"1\" class=\"dataframe\">\n",
       "  <thead>\n",
       "    <tr style=\"text-align: right;\">\n",
       "      <th></th>\n",
       "      <th>Unnamed: 0</th>\n",
       "      <th>paper_id</th>\n",
       "      <th>title</th>\n",
       "      <th>authors</th>\n",
       "      <th>abstract</th>\n",
       "      <th>year</th>\n",
       "      <th>arxiv_id</th>\n",
       "      <th>acl_id</th>\n",
       "      <th>pmc_id</th>\n",
       "      <th>pubmed_id</th>\n",
       "      <th>...</th>\n",
       "      <th>outbound_citations</th>\n",
       "      <th>inbound_citations</th>\n",
       "      <th>has_outbound_citations</th>\n",
       "      <th>has_inbound_citations</th>\n",
       "      <th>has_pdf_parse</th>\n",
       "      <th>has_pdf_parsed_abstract</th>\n",
       "      <th>has_pdf_parsed_body_text</th>\n",
       "      <th>has_pdf_parsed_bib_entries</th>\n",
       "      <th>has_pdf_parsed_ref_entries</th>\n",
       "      <th>s2_url</th>\n",
       "    </tr>\n",
       "  </thead>\n",
       "  <tbody>\n",
       "    <tr>\n",
       "      <th>3798</th>\n",
       "      <td>84786</td>\n",
       "      <td>26379047</td>\n",
       "      <td>Implantable Cardioverter Defibrillators</td>\n",
       "      <td>[{'first': 'Behzad', 'middle': [], 'last': 'Gh...</td>\n",
       "      <td>In recently years, Artificial Neural Networks ...</td>\n",
       "      <td>2009.0</td>\n",
       "      <td>NaN</td>\n",
       "      <td>NaN</td>\n",
       "      <td>NaN</td>\n",
       "      <td>19172139.0</td>\n",
       "      <td>...</td>\n",
       "      <td>['956146', '7982079', '6751805', '44343108']</td>\n",
       "      <td>[]</td>\n",
       "      <td>True</td>\n",
       "      <td>False</td>\n",
       "      <td>True</td>\n",
       "      <td>0.0</td>\n",
       "      <td>1.0</td>\n",
       "      <td>1.0</td>\n",
       "      <td>1.0</td>\n",
       "      <td>https://api.semanticscholar.org/CorpusID:26379047</td>\n",
       "    </tr>\n",
       "  </tbody>\n",
       "</table>\n",
       "<p>1 rows × 26 columns</p>\n",
       "</div>"
      ],
      "text/plain": [
       "      Unnamed: 0  paper_id                                    title  \\\n",
       "3798       84786  26379047  Implantable Cardioverter Defibrillators   \n",
       "\n",
       "                                                authors  \\\n",
       "3798  [{'first': 'Behzad', 'middle': [], 'last': 'Gh...   \n",
       "\n",
       "                                               abstract    year arxiv_id  \\\n",
       "3798  In recently years, Artificial Neural Networks ...  2009.0      NaN   \n",
       "\n",
       "     acl_id pmc_id   pubmed_id  ...  \\\n",
       "3798    NaN    NaN  19172139.0  ...   \n",
       "\n",
       "                                outbound_citations inbound_citations  \\\n",
       "3798  ['956146', '7982079', '6751805', '44343108']                []   \n",
       "\n",
       "     has_outbound_citations  has_inbound_citations has_pdf_parse  \\\n",
       "3798                   True                  False          True   \n",
       "\n",
       "     has_pdf_parsed_abstract has_pdf_parsed_body_text  \\\n",
       "3798                     0.0                      1.0   \n",
       "\n",
       "     has_pdf_parsed_bib_entries  has_pdf_parsed_ref_entries  \\\n",
       "3798                        1.0                         1.0   \n",
       "\n",
       "                                                 s2_url  \n",
       "3798  https://api.semanticscholar.org/CorpusID:26379047  \n",
       "\n",
       "[1 rows x 26 columns]"
      ]
     },
     "execution_count": 157,
     "metadata": {},
     "output_type": "execute_result"
    }
   ],
   "source": [
    "df_papers[df_papers['title']=='Implantable Cardioverter Defibrillators']"
   ]
  },
  {
   "cell_type": "code",
   "execution_count": null,
   "id": "05e41ea4",
   "metadata": {},
   "outputs": [],
   "source": []
  }
 ],
 "metadata": {
  "kernelspec": {
   "display_name": "Python 3 (ipykernel)",
   "language": "python",
   "name": "python3"
  },
  "language_info": {
   "codemirror_mode": {
    "name": "ipython",
    "version": 3
   },
   "file_extension": ".py",
   "mimetype": "text/x-python",
   "name": "python",
   "nbconvert_exporter": "python",
   "pygments_lexer": "ipython3",
   "version": "3.7.1"
  }
 },
 "nbformat": 4,
 "nbformat_minor": 5
}
