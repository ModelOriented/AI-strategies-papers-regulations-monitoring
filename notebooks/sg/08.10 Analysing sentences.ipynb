{
 "cells": [
  {
   "cell_type": "code",
   "execution_count": 1,
   "id": "d89d8580",
   "metadata": {},
   "outputs": [],
   "source": [
    "from mars import db"
   ]
  },
  {
   "cell_type": "code",
   "execution_count": null,
   "id": "8c75e861",
   "metadata": {},
   "outputs": [],
   "source": [
    "db.db."
   ]
  }
 ],
 "metadata": {
  "kernelspec": {
   "display_name": "Python 3 (ipykernel)",
   "language": "python",
   "name": "python3"
  },
  "language_info": {
   "codemirror_mode": {
    "name": "ipython",
    "version": 3
   },
   "file_extension": ".py",
   "mimetype": "text/x-python",
   "name": "python",
   "nbconvert_exporter": "python",
   "pygments_lexer": "ipython3",
   "version": "3.7.1"
  }
 },
 "nbformat": 4,
 "nbformat_minor": 5
}
