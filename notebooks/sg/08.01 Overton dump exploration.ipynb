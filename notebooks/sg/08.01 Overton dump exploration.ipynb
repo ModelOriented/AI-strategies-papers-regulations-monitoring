{
 "cells": [
  {
   "cell_type": "code",
   "execution_count": 1,
   "metadata": {},
   "outputs": [],
   "source": [
    "import os\n",
    "\n",
    "os.chdir('../..')"
   ]
  },
  {
   "cell_type": "code",
   "execution_count": 2,
   "metadata": {},
   "outputs": [],
   "source": [
    "import pandas as pd\n",
    "from glob import glob\n",
    "\n",
    "dfs = []\n",
    "for name in glob('data/overton/warsaw/*.json'):\n",
    "    dfs.append(pd.read_json(name, lines=True))"
   ]
  },
  {
   "cell_type": "code",
   "execution_count": 3,
   "metadata": {},
   "outputs": [],
   "source": [
    "df = pd.concat(dfs)\n",
    "\n",
    "df=df.reset_index(drop=True)"
   ]
  },
  {
   "cell_type": "code",
   "execution_count": 4,
   "metadata": {},
   "outputs": [],
   "source": [
    "df['published_on']=pd.to_datetime(df.published_on)\n",
    "df['entities'] = df['entities'].apply(lambda x: [str(a) for a in x])\n",
    "df['topics'] = df['entities'].apply(lambda x: [str(a) for a in x])\n",
    "df.to_parquet('data/overton/AI+ML/dump.parquet')"
   ]
  },
  {
   "cell_type": "code",
   "execution_count": 73,
   "metadata": {},
   "outputs": [
    {
     "data": {
      "text/plain": [
       "pyarrow.Table\n",
       "snippet: string\n",
       "policy_document_series: string\n",
       "overton_policy_document_series: string\n",
       "pdf_document_id: string\n",
       "policy_source_type: list<item: string>\n",
       "  child 0, item: string\n",
       "source_tags: list<item: string>\n",
       "  child 0, item: string\n",
       "pdf_url: string\n",
       "language: string\n",
       "title: string\n",
       "translated_title: string\n",
       "pdf_title: string\n",
       "sdgcategories: list<item: string>\n",
       "  child 0, item: string\n",
       "policy_source_id: string\n",
       "policy_document_id: string\n",
       "published_on: date32[day]\n",
       "classifications: list<item: string>\n",
       "  child 0, item: string\n",
       "entities: list<item: string>\n",
       "  child 0, item: string\n",
       "policy_document_url: string\n",
       "policy_source_region: list<item: string>\n",
       "  child 0, item: string\n",
       "pdf_thumbnail: string\n",
       "policy_source_country: list<item: string>\n",
       "  child 0, item: string\n",
       "policy_document_ids_cited: list<item: string>\n",
       "  child 0, item: string\n",
       "authors: list<item: string>\n",
       "  child 0, item: string\n",
       "policy_source_title: string\n",
       "policy_source_url: string\n",
       "dois_cited: list<item: string>\n",
       "  child 0, item: string\n",
       "overton_document_url: string\n",
       "policy_source_country_iso_codes: list<item: string>\n",
       "  child 0, item: string\n",
       "ref_contexts: list<item: string>\n",
       "  child 0, item: string\n",
       "----\n",
       "snippet: [[\"\",\"\",\"\",\"The CDEI has published a Snapshot briefing paper looking at the uses and potential implications of facial recognition technology’s deployment in the UK.\",\"Ministry of Defence (MOD) Freedom of Information (FOI) responses released during the week commencing 25 May 2020.\",...,\"\",\"The projectThe Centre for Public Policy Research (CPPR) is conducting a 10-month long project on US – India Relations: Change, Continuity and Transformation. This project is supported by the US Consulate General, Chennai, Public Affairs Section, and aims to study […]\",\"Download the Report Over the past 10 years, the U.S. government has slowly reoriented its foreign and security policy from the fight against global terrorism toward strategic competition with Russia and China. This reorientation has been accompanied by a new examination of how strategic competition will impact the integrity and future stability of the U.S. economy and financial system. One of the most important elements of strategic competition is sub-threshold warfare (also called asymmetric, hybrid, or gray zone warfare), wherein strategic competitors seek to shape the geostrategic environment in their favor, from information operations to economic warfare—which includes such tools as illicit finance and strategic corruption. Strategic competitors present a clear economic and financial threat to the United States when they operate in the emerging financial gray zone, in which malign actors can take advantage of the U.S. financial system to further their aims and disarm the country internally. The U.S. ...\",\"Artificial intelligence (AI) has the potential to improve K-12 education in the United States. For students, AI can provide them a personalized learning [...]\",\"IDA Ideas host Rhett Moeller spoke to Miriam M. Roday and Sarah A. Daly, researchers in the IDA Systems and Analyses Center, about their opinion piece, “Information Operations: An Understudied Facet of Russian Influence in Africa,” published on the website Foreign Policy News. The coauthors discuss Russian disinformation campaigns being spread via mass media and social media in Africa. These campaigns criticize U.S. and French security assistance efforts and praise Russia’s ability to serve as a mediator and counter-terrorism partner, thereby undermining U.S. influence with allies and partners in Africa. Listen to the podcast Related ContentForeign Policy News article:Information operations: An understudied facet of Russian influence in Africa\n",
       "Authors: Miriam Roday and Sarah Daly\"]]\n",
       "policy_document_series: [[\"None\",\"None\",\"None\",\"Research and Statistics\",\"Transparency and FOI requests\",...,\"Note\",\"Policy Briefs\",\"Report\",\"Public Policy Institute\",\"None\"]]\n",
       "overton_policy_document_series: [[\"Publication\",\"Publication\",\"Publication\",\"Publication\",\"Publication\",...,\"Publication\",\"Publication\",\"Publication\",\"Publication\",\"Publication\"]]\n",
       "pdf_document_id: [[\"fao-84a8a8151cd434955877eea35b1e0998-84a8a8151cd434955877eea35b1e0998\",\"finnishgovernment-0c59aa13f0a37434f46098db265da7d3-b0709de3151bfab173d5b55dbc3f6dc6\",\"finnishgovernment-9ff37e945a99d4f334933ec4d5f67cc1-7866dcf65cc404e8845495536f65daf4\",\"govuk-62ca1847deec1171d1695bc013bfe2ab-84f1457f2689480fe3030b2194777074\",\"govuk-7f07b0c47a23f2b77b0a6493a75c7138-3897dcabf2cf16308a44e53402414493\",...,\"counciloftheeuropeanunion-6d86ce4d86d6dc5d7d3c8daa5ce26858-6d86ce4d86d6dc5d7d3c8daa5ce26858\",\"cpprindia-0a163b95d46c59ab6d7e92a13df7b673-543211ea9099a887ebf98e8b903fc196\",\"csis-c560345730dedb0101f37dc6b38c607d-1a587e9a6b0780126f84fca5ef4e2d6f\",\"datainnovation-e069c7e74eff923ccc81a285c62b50c7-12193baae3505019d2ee6756b6667f27\",\"defenseanalysis-6ace28b01cf33186bc5850d96d00b2aa-ef81baf035c1c76694622ee0a05f1f8b\"]]\n",
       "policy_source_type: [[[\"igo\"],[\"government\"],...,[\"think tank\"],[\"think tank\"]]]\n",
       "source_tags: [[[],[],...,[],[]]]\n",
       "pdf_url: [[\"http://www.fao.org/3/ca8503en/CA8503EN.pdf\",\"http://julkaisut.valtioneuvosto.fi/bitstream/handle/10024/162265/VM_2020_45.pdf?sequence=1&isAllowed=y\",\"http://julkaisut.valtioneuvosto.fi/bitstream/handle/10024/162268/VNK_2020_8_Voluntary_National_Review_Finland.pdf?sequence=1&isAllowed=y\",\"https://assets.publishing.service.gov.uk/government/uploads/system/uploads/attachment_data/file/887866/Facial_Recognition_Technology.pdf\",\"https://assets.publishing.service.gov.uk/government/uploads/system/uploads/attachment_data/file/888242/Information_regarding-_automation__wearables__VR__AR__drones__tablets_and_apps___2020_04246.pdf\",...,\"https://data.consilium.europa.eu/doc/document/ST-8325-2022-INIT/en/pdf\",\"https://www.cppr.in/wp-content/uploads/2022/04/Transformational-Technologies-and-US-India-Science-and-Technology-Cooperation.pdf\",\"https://csis-website-prod.s3.amazonaws.com/s3fs-public/publication/220425_Conley_Gray_Zone.pdf?jXJyc7_NdlTp0YLDQexq65KqXLeG1DTZ\",\"https://www2.datainnovation.org/2022-ai-education.pdf\",\"https://www.ida.org/-/media/feature/publications/i/id/ida-ideas-russian-disinformation-campaigns-in-africa/ns-d-33081-russian-information-operations-in-africa.ashx\"]]\n",
       "language: [[\"eng\",\"eng\",\"eng\",\"eng\",\"eng\",...,\"eng\",\"eng\",\"eng\",\"eng\",\"eng\"]]\n",
       "title: [[\"Resilience stories from Africa\",\"Valto: Digital Security in the Public Sector\",\"Valto: Voluntary National Review 2020 FINLAND: Report on the Implementation of the 2030 Agenda for Sustainable Development\",\"CDEI publishes briefing paper on facial recognition technology\",\"FOI responses released by MOD: week commencing 25 May 2020\",...,\"COMMISSION STAFF WORKING DOCUMENT European Financial Stability and Integration Review (EFSIR)\",\"Transformational Technologies and U.S. India Science and Technology Cooperation (CPPR)\",\"Strategic Competition in the Financial Gray Zone\",\"How AI Can Improve K-12 Education in the United States\",\"IDA Ideas (Podcast Transcript) – How Russian Disinformation Campaigns in Africa Are Influencing Public Opinion About the United States\"]]\n",
       "translated_title: [[\"\",\"\",\"\",\"\",\"\",...,\"\",\"\",\"\",\"\",\"\"]]\n",
       "..."
      ]
     },
     "execution_count": 73,
     "metadata": {},
     "output_type": "execute_result"
    }
   ],
   "source": [
    "schema = pyarrow.schema([\n",
    "    ('snippet',pa.string()),\n",
    "    ('policy_document_series',pa.string()),\n",
    "    ('overton_policy_document_series',pa.string()),\n",
    "    ('pdf_document_id',pa.string()),\n",
    "    ('policy_source_type',pa.list_(pa.string())),\n",
    "    ('source_tags',pa.list_(pa.string())),\n",
    "    ('pdf_url',pa.string()),\n",
    "    ('language',pa.string()),\n",
    "    ('title',pa.string()),\n",
    "    ('translated_title',pa.string()),\n",
    "    ('pdf_title',pa.string()),\n",
    "    ('sdgcategories',pa.list_(pa.string())),\n",
    "    ('policy_source_id',pa.string()),\n",
    "    ('policy_document_id',pa.string()),\n",
    "    ('published_on',pa.date32()),\n",
    "    ('classifications',pa.list_(pa.string())),\n",
    "    ('entities',pa.list_(pa.string())),\n",
    "    ('policy_document_url',pa.string()),\n",
    "    ('policy_source_region',pa.list_(pa.string())),\n",
    "    ('pdf_thumbnail',pa.string()),\n",
    "    ('policy_source_country',pa.list_(pa.string())),\n",
    "    ('policy_document_ids_cited',pa.list_(pa.string())),\n",
    "    ('authors',pa.list_(pa.string())),\n",
    "    ('policy_source_title',pa.string()),\n",
    "    ('policy_source_url',pa.string()),\n",
    "    ('dois_cited',pa.list_(pa.string())),\n",
    "    ('overton_document_url',pa.string()),\n",
    "    ('policy_source_country_iso_codes',pa.list_(pa.string())),\n",
    "    ('ref_contexts',pa.list_(pa.string())),\n",
    "])\n",
    "\n",
    "\n",
    "pa.Table.from_pandas(df, schema=schema)"
   ]
  }
 ],
 "metadata": {
  "kernelspec": {
   "display_name": "Python 3.8.9 ('.venv': poetry)",
   "language": "python",
   "name": "python3"
  },
  "language_info": {
   "codemirror_mode": {
    "name": "ipython",
    "version": 3
   },
   "file_extension": ".py",
   "mimetype": "text/x-python",
   "name": "python",
   "nbconvert_exporter": "python",
   "pygments_lexer": "ipython3",
   "version": "3.8.9"
  },
  "orig_nbformat": 4,
  "vscode": {
   "interpreter": {
    "hash": "3887d37ca77ee49ef2f2537ca92bbe7921610d49c9740853abeb2b31ec16d1a0"
   }
  }
 },
 "nbformat": 4,
 "nbformat_minor": 2
}
