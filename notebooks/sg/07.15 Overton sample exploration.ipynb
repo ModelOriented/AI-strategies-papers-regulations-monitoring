{
 "cells": [
  {
   "cell_type": "code",
   "execution_count": 1,
   "metadata": {},
   "outputs": [],
   "source": [
    "import os\n",
    "\n",
    "\n",
    "os.chdir('../..')"
   ]
  },
  {
   "cell_type": "code",
   "execution_count": 43,
   "metadata": {},
   "outputs": [],
   "source": [
    "import pandas as pd\n",
    "import spacy\n"
   ]
  },
  {
   "cell_type": "code",
   "execution_count": 3,
   "metadata": {},
   "outputs": [],
   "source": [
    "df = pd.read_parquet('data/overton/sample.parquet')"
   ]
  },
  {
   "cell_type": "code",
   "execution_count": 42,
   "metadata": {},
   "outputs": [
    {
     "data": {
      "text/plain": [
       "Index(['Title', 'Thumbnail', 'Snippet', 'Published', 'URL', 'PDF URL',\n",
       "       'Source ID', 'Source Name', 'Source Country', 'Source Type',\n",
       "       'Policy Document ID', 'Policy Document Type', 'Policy Document Authors',\n",
       "       'Your Tags', 'Top Topics', 'Citations',\n",
       "       'Citations (Including Same Source)', 'Name', 'Text', 'n_paragraphs',\n",
       "       'n_words', 'is_eu', 'full_text'],\n",
       "      dtype='object')"
      ]
     },
     "execution_count": 42,
     "metadata": {},
     "output_type": "execute_result"
    }
   ],
   "source": [
    "df.columns"
   ]
  },
  {
   "cell_type": "code",
   "execution_count": 19,
   "metadata": {},
   "outputs": [],
   "source": [
    "df['is_eu'] = df['Source Country']=='EU'\n",
    "df['Text'] = df['Text'].fillna(\"\")"
   ]
  },
  {
   "cell_type": "code",
   "execution_count": 39,
   "metadata": {},
   "outputs": [
    {
     "data": {
      "text/plain": [
       "0                   France\n",
       "1                   France\n",
       "2                       EU\n",
       "3                Lithuania\n",
       "4                      USA\n",
       "5                      IGO\n",
       "6                      IGO\n",
       "7                   France\n",
       "8                   France\n",
       "9                       EU\n",
       "10                     IGO\n",
       "11                 Finland\n",
       "12                     IGO\n",
       "13                     USA\n",
       "14                     IGO\n",
       "15                  France\n",
       "16                      EU\n",
       "17                      EU\n",
       "18    United Arab Emirates\n",
       "19                      EU\n",
       "20                      EU\n",
       "21                      EU\n",
       "22                  France\n",
       "23                 Nigeria\n",
       "24                  France\n",
       "25                  France\n",
       "26                      EU\n",
       "27                      EU\n",
       "28                      UK\n",
       "29                      EU\n",
       "30                  Greece\n",
       "31                      EU\n",
       "32                  France\n",
       "33                      EU\n",
       "34                  France\n",
       "35                  France\n",
       "36                 Ireland\n",
       "37                  France\n",
       "38                      UK\n",
       "Name: Source Country, dtype: object"
      ]
     },
     "execution_count": 39,
     "metadata": {},
     "output_type": "execute_result"
    }
   ],
   "source": [
    "df['Source Country']"
   ]
  },
  {
   "cell_type": "code",
   "execution_count": 21,
   "metadata": {},
   "outputs": [],
   "source": [
    "df['full_text'] = df['Text'].apply(lambda t: ' '.join(t))"
   ]
  },
  {
   "cell_type": "code",
   "execution_count": 26,
   "metadata": {},
   "outputs": [],
   "source": [
    "import scattertext as st"
   ]
  },
  {
   "cell_type": "code",
   "execution_count": 33,
   "metadata": {},
   "outputs": [],
   "source": [
    "df_small = df[df['full_text'].str.len()<=1000000]"
   ]
  },
  {
   "cell_type": "code",
   "execution_count": 47,
   "metadata": {},
   "outputs": [
    {
     "ename": "ValueError",
     "evalue": "[E030] Sentence boundaries unset. You can add the 'sentencizer' component to the pipeline with: `nlp.add_pipe('sentencizer')`. Alternatively, add the dependency parser or sentence recognizer, or set sentence boundaries by setting `doc[i].is_sent_start`.",
     "output_type": "error",
     "traceback": [
      "\u001b[0;31m---------------------------------------------------------------------------\u001b[0m",
      "\u001b[0;31mValueError\u001b[0m                                Traceback (most recent call last)",
      "\u001b[1;32m/Users/stanislaw/repos/AI-strategies-papers-regulations-monitoring/notebooks/sg/07.15 Overton sample exploration.ipynb Cell 10'\u001b[0m in \u001b[0;36m<cell line: 5>\u001b[0;34m()\u001b[0m\n\u001b[1;32m      <a href='vscode-notebook-cell:/Users/stanislaw/repos/AI-strategies-papers-regulations-monitoring/notebooks/sg/07.15%20Overton%20sample%20exploration.ipynb#ch0000007?line=0'>1</a>\u001b[0m \u001b[39mfrom\u001b[39;00m \u001b[39mscattertext\u001b[39;00m \u001b[39mimport\u001b[39;00m SampleCorpora, PhraseMachinePhrases, dense_rank, RankDifference, AssociationCompactor, produce_scattertext_explorer\n\u001b[1;32m      <a href='vscode-notebook-cell:/Users/stanislaw/repos/AI-strategies-papers-regulations-monitoring/notebooks/sg/07.15%20Overton%20sample%20exploration.ipynb#ch0000007?line=3'>4</a>\u001b[0m corpus \u001b[39m=\u001b[39m st\u001b[39m.\u001b[39mCorpusFromPandas(df_small, category_col\u001b[39m=\u001b[39m\u001b[39m'\u001b[39m\u001b[39mSource Country\u001b[39m\u001b[39m'\u001b[39m, text_col\u001b[39m=\u001b[39m\u001b[39m'\u001b[39m\u001b[39mfull_text\u001b[39m\u001b[39m'\u001b[39m, nlp\u001b[39m=\u001b[39mspacy\u001b[39m.\u001b[39mload(\u001b[39m'\u001b[39m\u001b[39men_core_web_sm\u001b[39m\u001b[39m'\u001b[39m, disable\u001b[39m=\u001b[39m[\u001b[39m\"\u001b[39m\u001b[39mparser\u001b[39m\u001b[39m\"\u001b[39m, \u001b[39m\"\u001b[39m\u001b[39mner\u001b[39m\u001b[39m\"\u001b[39m]), feats_from_spacy_doc\u001b[39m=\u001b[39mPhraseMachinePhrases())\n\u001b[0;32m----> <a href='vscode-notebook-cell:/Users/stanislaw/repos/AI-strategies-papers-regulations-monitoring/notebooks/sg/07.15%20Overton%20sample%20exploration.ipynb#ch0000007?line=4'>5</a>\u001b[0m corpus \u001b[39m=\u001b[39m corpus\u001b[39m.\u001b[39;49mbuild()\u001b[39m.\u001b[39mget_unigram_corpus()\u001b[39m.\u001b[39mcompact(st\u001b[39m.\u001b[39mAssociationCompactor(\u001b[39m2000\u001b[39m))\n\u001b[1;32m      <a href='vscode-notebook-cell:/Users/stanislaw/repos/AI-strategies-papers-regulations-monitoring/notebooks/sg/07.15%20Overton%20sample%20exploration.ipynb#ch0000007?line=6'>7</a>\u001b[0m html \u001b[39m=\u001b[39m st\u001b[39m.\u001b[39mproduce_scattertext_explorer(\n\u001b[1;32m      <a href='vscode-notebook-cell:/Users/stanislaw/repos/AI-strategies-papers-regulations-monitoring/notebooks/sg/07.15%20Overton%20sample%20exploration.ipynb#ch0000007?line=7'>8</a>\u001b[0m     corpus,\n\u001b[1;32m      <a href='vscode-notebook-cell:/Users/stanislaw/repos/AI-strategies-papers-regulations-monitoring/notebooks/sg/07.15%20Overton%20sample%20exploration.ipynb#ch0000007?line=8'>9</a>\u001b[0m     category\u001b[39m=\u001b[39m\u001b[39m'\u001b[39m\u001b[39mEU\u001b[39m\u001b[39m'\u001b[39m,\n\u001b[0;32m   (...)\u001b[0m\n\u001b[1;32m     <a href='vscode-notebook-cell:/Users/stanislaw/repos/AI-strategies-papers-regulations-monitoring/notebooks/sg/07.15%20Overton%20sample%20exploration.ipynb#ch0000007?line=13'>14</a>\u001b[0m     transform\u001b[39m=\u001b[39mst\u001b[39m.\u001b[39mScalers\u001b[39m.\u001b[39mdense_rank\n\u001b[1;32m     <a href='vscode-notebook-cell:/Users/stanislaw/repos/AI-strategies-papers-regulations-monitoring/notebooks/sg/07.15%20Overton%20sample%20exploration.ipynb#ch0000007?line=14'>15</a>\u001b[0m )\n\u001b[1;32m     <a href='vscode-notebook-cell:/Users/stanislaw/repos/AI-strategies-papers-regulations-monitoring/notebooks/sg/07.15%20Overton%20sample%20exploration.ipynb#ch0000007?line=15'>16</a>\u001b[0m \u001b[39mopen\u001b[39m(\u001b[39m'\u001b[39m\u001b[39m./scattertext_eu.html\u001b[39m\u001b[39m'\u001b[39m, \u001b[39m'\u001b[39m\u001b[39mw\u001b[39m\u001b[39m'\u001b[39m)\u001b[39m.\u001b[39mwrite(html)\n",
      "File \u001b[0;32m~/repos/AI-strategies-papers-regulations-monitoring/.venv/lib/python3.8/site-packages/scattertext/TermDocMatrixFromPandas.py:156\u001b[0m, in \u001b[0;36mTermDocMatrixFromPandas.build\u001b[0;34m(self)\u001b[0m\n\u001b[1;32m    147\u001b[0m parse_pipeline \u001b[39m=\u001b[39m ParsePipelineFactory(\u001b[39mself\u001b[39m\u001b[39m.\u001b[39mget_nlp(),\n\u001b[1;32m    148\u001b[0m                                       X_factory,\n\u001b[1;32m    149\u001b[0m                                       mX_factory,\n\u001b[0;32m   (...)\u001b[0m\n\u001b[1;32m    153\u001b[0m                                       y,\n\u001b[1;32m    154\u001b[0m                                       \u001b[39mself\u001b[39m)\n\u001b[1;32m    155\u001b[0m df \u001b[39m=\u001b[39m \u001b[39mself\u001b[39m\u001b[39m.\u001b[39m_clean_and_filter_nulls_and_empties_from_dataframe()\n\u001b[0;32m--> 156\u001b[0m tdm \u001b[39m=\u001b[39m \u001b[39mself\u001b[39;49m\u001b[39m.\u001b[39;49m_apply_pipeline_and_get_build_instance(X_factory,\n\u001b[1;32m    157\u001b[0m                                                   mX_factory,\n\u001b[1;32m    158\u001b[0m                                                   category_idx_store,\n\u001b[1;32m    159\u001b[0m                                                   df,\n\u001b[1;32m    160\u001b[0m                                                   parse_pipeline,\n\u001b[1;32m    161\u001b[0m                                                   term_idx_store,\n\u001b[1;32m    162\u001b[0m                                                   metadata_idx_store,\n\u001b[1;32m    163\u001b[0m                                                   y)\n\u001b[1;32m    164\u001b[0m \u001b[39mreturn\u001b[39;00m tdm\n",
      "File \u001b[0;32m~/repos/AI-strategies-papers-regulations-monitoring/.venv/lib/python3.8/site-packages/scattertext/CorpusFromPandas.py:57\u001b[0m, in \u001b[0;36mCorpusFromPandas._apply_pipeline_and_get_build_instance\u001b[0;34m(self, X_factory, mX_factory, category_idx_store, df, parse_pipeline, term_idx_store, metadata_idx_store, y)\u001b[0m\n\u001b[1;32m     32\u001b[0m \u001b[39mdef\u001b[39;00m \u001b[39m_apply_pipeline_and_get_build_instance\u001b[39m(\u001b[39mself\u001b[39m,\n\u001b[1;32m     33\u001b[0m                                            X_factory,\n\u001b[1;32m     34\u001b[0m                                            mX_factory,\n\u001b[0;32m   (...)\u001b[0m\n\u001b[1;32m     39\u001b[0m                                            metadata_idx_store,\n\u001b[1;32m     40\u001b[0m                                            y):\n\u001b[1;32m     41\u001b[0m \t\u001b[39m'''\u001b[39;00m\n\u001b[1;32m     42\u001b[0m \u001b[39m\tParameters\u001b[39;00m\n\u001b[1;32m     43\u001b[0m \u001b[39m\t----------\u001b[39;00m\n\u001b[0;32m   (...)\u001b[0m\n\u001b[1;32m     55\u001b[0m \u001b[39m\tCorpusDF\u001b[39;00m\n\u001b[1;32m     56\u001b[0m \u001b[39m\t'''\u001b[39;00m\n\u001b[0;32m---> 57\u001b[0m \tdf\u001b[39m.\u001b[39;49mapply(parse_pipeline\u001b[39m.\u001b[39;49mparse, axis\u001b[39m=\u001b[39;49m\u001b[39m1\u001b[39;49m)\n\u001b[1;32m     58\u001b[0m \ty \u001b[39m=\u001b[39m np\u001b[39m.\u001b[39marray(y)\n\u001b[1;32m     59\u001b[0m \tX, mX \u001b[39m=\u001b[39m build_sparse_matrices(y, X_factory, mX_factory)\n",
      "File \u001b[0;32m~/repos/AI-strategies-papers-regulations-monitoring/.venv/lib/python3.8/site-packages/pandas/core/frame.py:8845\u001b[0m, in \u001b[0;36mDataFrame.apply\u001b[0;34m(self, func, axis, raw, result_type, args, **kwargs)\u001b[0m\n\u001b[1;32m   8834\u001b[0m \u001b[39mfrom\u001b[39;00m \u001b[39mpandas\u001b[39;00m\u001b[39m.\u001b[39;00m\u001b[39mcore\u001b[39;00m\u001b[39m.\u001b[39;00m\u001b[39mapply\u001b[39;00m \u001b[39mimport\u001b[39;00m frame_apply\n\u001b[1;32m   8836\u001b[0m op \u001b[39m=\u001b[39m frame_apply(\n\u001b[1;32m   8837\u001b[0m     \u001b[39mself\u001b[39m,\n\u001b[1;32m   8838\u001b[0m     func\u001b[39m=\u001b[39mfunc,\n\u001b[0;32m   (...)\u001b[0m\n\u001b[1;32m   8843\u001b[0m     kwargs\u001b[39m=\u001b[39mkwargs,\n\u001b[1;32m   8844\u001b[0m )\n\u001b[0;32m-> 8845\u001b[0m \u001b[39mreturn\u001b[39;00m op\u001b[39m.\u001b[39;49mapply()\u001b[39m.\u001b[39m__finalize__(\u001b[39mself\u001b[39m, method\u001b[39m=\u001b[39m\u001b[39m\"\u001b[39m\u001b[39mapply\u001b[39m\u001b[39m\"\u001b[39m)\n",
      "File \u001b[0;32m~/repos/AI-strategies-papers-regulations-monitoring/.venv/lib/python3.8/site-packages/pandas/core/apply.py:733\u001b[0m, in \u001b[0;36mFrameApply.apply\u001b[0;34m(self)\u001b[0m\n\u001b[1;32m    730\u001b[0m \u001b[39melif\u001b[39;00m \u001b[39mself\u001b[39m\u001b[39m.\u001b[39mraw:\n\u001b[1;32m    731\u001b[0m     \u001b[39mreturn\u001b[39;00m \u001b[39mself\u001b[39m\u001b[39m.\u001b[39mapply_raw()\n\u001b[0;32m--> 733\u001b[0m \u001b[39mreturn\u001b[39;00m \u001b[39mself\u001b[39;49m\u001b[39m.\u001b[39;49mapply_standard()\n",
      "File \u001b[0;32m~/repos/AI-strategies-papers-regulations-monitoring/.venv/lib/python3.8/site-packages/pandas/core/apply.py:857\u001b[0m, in \u001b[0;36mFrameApply.apply_standard\u001b[0;34m(self)\u001b[0m\n\u001b[1;32m    856\u001b[0m \u001b[39mdef\u001b[39;00m \u001b[39mapply_standard\u001b[39m(\u001b[39mself\u001b[39m):\n\u001b[0;32m--> 857\u001b[0m     results, res_index \u001b[39m=\u001b[39m \u001b[39mself\u001b[39;49m\u001b[39m.\u001b[39;49mapply_series_generator()\n\u001b[1;32m    859\u001b[0m     \u001b[39m# wrap results\u001b[39;00m\n\u001b[1;32m    860\u001b[0m     \u001b[39mreturn\u001b[39;00m \u001b[39mself\u001b[39m\u001b[39m.\u001b[39mwrap_results(results, res_index)\n",
      "File \u001b[0;32m~/repos/AI-strategies-papers-regulations-monitoring/.venv/lib/python3.8/site-packages/pandas/core/apply.py:873\u001b[0m, in \u001b[0;36mFrameApply.apply_series_generator\u001b[0;34m(self)\u001b[0m\n\u001b[1;32m    870\u001b[0m \u001b[39mwith\u001b[39;00m option_context(\u001b[39m\"\u001b[39m\u001b[39mmode.chained_assignment\u001b[39m\u001b[39m\"\u001b[39m, \u001b[39mNone\u001b[39;00m):\n\u001b[1;32m    871\u001b[0m     \u001b[39mfor\u001b[39;00m i, v \u001b[39min\u001b[39;00m \u001b[39menumerate\u001b[39m(series_gen):\n\u001b[1;32m    872\u001b[0m         \u001b[39m# ignore SettingWithCopy here in case the user mutates\u001b[39;00m\n\u001b[0;32m--> 873\u001b[0m         results[i] \u001b[39m=\u001b[39m \u001b[39mself\u001b[39;49m\u001b[39m.\u001b[39;49mf(v)\n\u001b[1;32m    874\u001b[0m         \u001b[39mif\u001b[39;00m \u001b[39misinstance\u001b[39m(results[i], ABCSeries):\n\u001b[1;32m    875\u001b[0m             \u001b[39m# If we have a view on v, we need to make a copy because\u001b[39;00m\n\u001b[1;32m    876\u001b[0m             \u001b[39m#  series_generator will swap out the underlying data\u001b[39;00m\n\u001b[1;32m    877\u001b[0m             results[i] \u001b[39m=\u001b[39m results[i]\u001b[39m.\u001b[39mcopy(deep\u001b[39m=\u001b[39m\u001b[39mFalse\u001b[39;00m)\n",
      "File \u001b[0;32m~/repos/AI-strategies-papers-regulations-monitoring/.venv/lib/python3.8/site-packages/scattertext/TermDocMatrixFromPandas.py:35\u001b[0m, in \u001b[0;36mParsePipelineFactoryWithoutCategories.parse\u001b[0;34m(self, row)\u001b[0m\n\u001b[1;32m     33\u001b[0m \u001b[39mif\u001b[39;00m \u001b[39mself\u001b[39m\u001b[39m.\u001b[39m_verbose \u001b[39mand\u001b[39;00m row\u001b[39m.\u001b[39mname \u001b[39m%\u001b[39m \u001b[39m100\u001b[39m:\n\u001b[1;32m     34\u001b[0m     \u001b[39mprint\u001b[39m(row\u001b[39m.\u001b[39mname)\n\u001b[0;32m---> 35\u001b[0m \u001b[39mself\u001b[39;49m\u001b[39m.\u001b[39;49m_register_document(parsed_text, row)\n",
      "File \u001b[0;32m~/repos/AI-strategies-papers-regulations-monitoring/.venv/lib/python3.8/site-packages/scattertext/TermDocMatrixFromPandas.py:76\u001b[0m, in \u001b[0;36mParsePipelineFactory._register_document\u001b[0;34m(self, parsed_text, row)\u001b[0m\n\u001b[1;32m     75\u001b[0m \u001b[39mdef\u001b[39;00m \u001b[39m_register_document\u001b[39m(\u001b[39mself\u001b[39m, parsed_text, row):\n\u001b[0;32m---> 76\u001b[0m     \u001b[39mself\u001b[39;49m\u001b[39m.\u001b[39;49m_register_doc_and_category(X_factory\u001b[39m=\u001b[39;49m\u001b[39mself\u001b[39;49m\u001b[39m.\u001b[39;49mX_factory,\n\u001b[1;32m     77\u001b[0m                                     mX_factory\u001b[39m=\u001b[39;49m\u001b[39mself\u001b[39;49m\u001b[39m.\u001b[39;49mmX_factory,\n\u001b[1;32m     78\u001b[0m                                     category\u001b[39m=\u001b[39;49mrow[\u001b[39mself\u001b[39;49m\u001b[39m.\u001b[39;49m_category_col],\n\u001b[1;32m     79\u001b[0m                                     category_idx_store\u001b[39m=\u001b[39;49m\u001b[39mself\u001b[39;49m\u001b[39m.\u001b[39;49mcategory_idx_store,\n\u001b[1;32m     80\u001b[0m                                     document_index\u001b[39m=\u001b[39;49mrow\u001b[39m.\u001b[39;49mname,\n\u001b[1;32m     81\u001b[0m                                     parsed_text\u001b[39m=\u001b[39;49mparsed_text,\n\u001b[1;32m     82\u001b[0m                                     term_idx_store\u001b[39m=\u001b[39;49m\u001b[39mself\u001b[39;49m\u001b[39m.\u001b[39;49mterm_idx_store,\n\u001b[1;32m     83\u001b[0m                                     metadata_idx_store\u001b[39m=\u001b[39;49m\u001b[39mself\u001b[39;49m\u001b[39m.\u001b[39;49mmetadata_idx_store,\n\u001b[1;32m     84\u001b[0m                                     y\u001b[39m=\u001b[39;49m\u001b[39mself\u001b[39;49m\u001b[39m.\u001b[39;49my)\n",
      "File \u001b[0;32m~/repos/AI-strategies-papers-regulations-monitoring/.venv/lib/python3.8/site-packages/scattertext/TermDocMatrixFactory.py:246\u001b[0m, in \u001b[0;36mTermDocMatrixFactory._register_doc_and_category\u001b[0;34m(self, X_factory, mX_factory, category, category_idx_store, document_index, parsed_text, term_idx_store, metadata_idx_store, y)\u001b[0m\n\u001b[1;32m    236\u001b[0m \u001b[39mdef\u001b[39;00m \u001b[39m_register_doc_and_category\u001b[39m(\u001b[39mself\u001b[39m,\n\u001b[1;32m    237\u001b[0m                                X_factory,\n\u001b[1;32m    238\u001b[0m                                mX_factory,\n\u001b[0;32m   (...)\u001b[0m\n\u001b[1;32m    244\u001b[0m                                metadata_idx_store,\n\u001b[1;32m    245\u001b[0m                                y):\n\u001b[0;32m--> 246\u001b[0m     \u001b[39mself\u001b[39;49m\u001b[39m.\u001b[39;49m_register_doc(X_factory, mX_factory, document_index,\n\u001b[1;32m    247\u001b[0m                        parsed_text, term_idx_store, metadata_idx_store)\n\u001b[1;32m    248\u001b[0m     \u001b[39mself\u001b[39m\u001b[39m.\u001b[39m_register_category(category, category_idx_store, y)\n",
      "File \u001b[0;32m~/repos/AI-strategies-papers-regulations-monitoring/.venv/lib/python3.8/site-packages/scattertext/TermDocMatrixFactory.py:252\u001b[0m, in \u001b[0;36mTermDocMatrixFactory._register_doc\u001b[0;34m(self, X_factory, mX_factory, document_index, parsed_text, term_idx_store, metadata_idx_store)\u001b[0m\n\u001b[1;32m    250\u001b[0m \u001b[39mdef\u001b[39;00m \u001b[39m_register_doc\u001b[39m(\u001b[39mself\u001b[39m, X_factory, mX_factory, document_index,\n\u001b[1;32m    251\u001b[0m                   parsed_text, term_idx_store, metadata_idx_store):\n\u001b[0;32m--> 252\u001b[0m     \u001b[39mfor\u001b[39;00m term, count \u001b[39min\u001b[39;00m \u001b[39mself\u001b[39;49m\u001b[39m.\u001b[39;49m_feats_from_spacy_doc\u001b[39m.\u001b[39;49mget_feats(parsed_text)\u001b[39m.\u001b[39mitems():\n\u001b[1;32m    253\u001b[0m         term_idx \u001b[39m=\u001b[39m term_idx_store\u001b[39m.\u001b[39mgetidx(term)\n\u001b[1;32m    254\u001b[0m         X_factory[document_index, term_idx] \u001b[39m=\u001b[39m count\n",
      "File \u001b[0;32m~/repos/AI-strategies-papers-regulations-monitoring/.venv/lib/python3.8/site-packages/scattertext/features/PhraseMachinePhrases.py:23\u001b[0m, in \u001b[0;36mPhraseMachinePhrases.get_feats\u001b[0;34m(self, doc)\u001b[0m\n\u001b[1;32m     13\u001b[0m \u001b[39m'''\u001b[39;00m\n\u001b[1;32m     14\u001b[0m \u001b[39mParameters\u001b[39;00m\n\u001b[1;32m     15\u001b[0m \u001b[39m----------\u001b[39;00m\n\u001b[0;32m   (...)\u001b[0m\n\u001b[1;32m     20\u001b[0m \u001b[39mCounter noun chunk -> count\u001b[39;00m\n\u001b[1;32m     21\u001b[0m \u001b[39m'''\u001b[39;00m\n\u001b[1;32m     22\u001b[0m ngram_counter \u001b[39m=\u001b[39m Counter()\n\u001b[0;32m---> 23\u001b[0m \u001b[39mfor\u001b[39;00m sent \u001b[39min\u001b[39;00m doc\u001b[39m.\u001b[39msents:\n\u001b[1;32m     24\u001b[0m \tngram_counter \u001b[39m+\u001b[39m\u001b[39m=\u001b[39m _phrase_counts(sent)\n\u001b[1;32m     25\u001b[0m \u001b[39mreturn\u001b[39;00m ngram_counter\n",
      "File \u001b[0;32m~/repos/AI-strategies-papers-regulations-monitoring/.venv/lib/python3.8/site-packages/spacy/tokens/doc.pyx:890\u001b[0m, in \u001b[0;36msents\u001b[0;34m()\u001b[0m\n",
      "\u001b[0;31mValueError\u001b[0m: [E030] Sentence boundaries unset. You can add the 'sentencizer' component to the pipeline with: `nlp.add_pipe('sentencizer')`. Alternatively, add the dependency parser or sentence recognizer, or set sentence boundaries by setting `doc[i].is_sent_start`."
     ]
    }
   ],
   "source": [
    "from scattertext import SampleCorpora, PhraseMachinePhrases, dense_rank, RankDifference, AssociationCompactor, produce_scattertext_explorer\n",
    "\n",
    "\n",
    "corpus = st.CorpusFromPandas(df_small, category_col='Source Country', text_col='full_text', nlp=spacy.load('en_core_web_sm', disable=[\"ner\"]), feats_from_spacy_doc=PhraseMachinePhrases())\n",
    "corpus = corpus.build().get_unigram_corpus().compact(st.AssociationCompactor(2000))\n",
    "\n",
    "html = st.produce_scattertext_explorer(\n",
    "    corpus,\n",
    "    category='EU',\n",
    "    category_name=\"EU\",\n",
    "    not_category_name=\"Not EU\",\n",
    "    minimum_term_frequency=0, pmi_threshold_coefficient=0,\n",
    "    width_in_pixels=1000,\n",
    "    transform=st.Scalers.dense_rank\n",
    ")\n",
    "open('./scattertext_eu.html', 'w').write(html)"
   ]
  },
  {
   "cell_type": "code",
   "execution_count": null,
   "metadata": {},
   "outputs": [],
   "source": []
  }
 ],
 "metadata": {
  "kernelspec": {
   "display_name": "Python 3.8.9 ('.venv': poetry)",
   "language": "python",
   "name": "python3"
  },
  "language_info": {
   "codemirror_mode": {
    "name": "ipython",
    "version": 3
   },
   "file_extension": ".py",
   "mimetype": "text/x-python",
   "name": "python",
   "nbconvert_exporter": "python",
   "pygments_lexer": "ipython3",
   "version": "3.8.9"
  },
  "orig_nbformat": 4,
  "vscode": {
   "interpreter": {
    "hash": "3887d37ca77ee49ef2f2537ca92bbe7921610d49c9740853abeb2b31ec16d1a0"
   }
  }
 },
 "nbformat": 4,
 "nbformat_minor": 2
}
