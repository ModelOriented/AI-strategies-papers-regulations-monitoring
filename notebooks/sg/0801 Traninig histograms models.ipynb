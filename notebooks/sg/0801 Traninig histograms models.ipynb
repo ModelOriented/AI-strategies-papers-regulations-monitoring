{
 "cells": [
  {
   "cell_type": "code",
   "execution_count": 1,
   "id": "c7cc1693",
   "metadata": {},
   "outputs": [],
   "source": [
    "import os\n",
    "\n",
    "os.chdir(\"../..\")"
   ]
  },
  {
   "cell_type": "code",
   "execution_count": 2,
   "id": "7570dd14",
   "metadata": {},
   "outputs": [
    {
     "name": "stderr",
     "output_type": "stream",
     "text": [
      "2021-10-21 17:25:22.140027: W tensorflow/stream_executor/platform/default/dso_loader.cc:64] Could not load dynamic library 'libcudart.so.11.0'; dlerror: libcudart.so.11.0: cannot open shared object file: No such file or directory\n",
      "2021-10-21 17:25:22.140067: I tensorflow/stream_executor/cuda/cudart_stub.cc:29] Ignore above cudart dlerror if you do not have a GPU set up on your machine.\n",
      "2021-10-21 17:25:25.131480: W tensorflow/stream_executor/platform/default/dso_loader.cc:64] Could not load dynamic library 'libcuda.so.1'; dlerror: libcuda.so.1: cannot open shared object file: No such file or directory\n",
      "2021-10-21 17:25:25.131544: W tensorflow/stream_executor/cuda/cuda_driver.cc:269] failed call to cuInit: UNKNOWN ERROR (303)\n",
      "2021-10-21 17:25:25.131564: I tensorflow/stream_executor/cuda/cuda_diagnostics.cc:156] kernel driver does not appear to be running on this host (DESKTOP-8E43FDR): /proc/driver/nvidia/version does not exist\n",
      "2021-10-21 17:25:25.131817: I tensorflow/core/platform/cpu_feature_guard.cc:142] This TensorFlow binary is optimized with oneAPI Deep Neural Network Library (oneDNN) to use the following CPU instructions in performance-critical operations:  AVX2 FMA\n",
      "To enable them in other operations, rebuild TensorFlow with the appropriate compiler flags.\n",
      "2021-10-21 17:25:27.196071: I tensorflow/compiler/mlir/mlir_graph_optimization_pass.cc:185] None of the MLIR Optimization Passes are enabled (registered 2)\n"
     ]
    }
   ],
   "source": [
    "%load_ext autoreload\n",
    "%autoreload 2\n",
    "\n",
    "from mars.models_training import data_loading, datasets\n",
    "# from mars.models_training.notebook_helpers import evaluate\n",
    "\n",
    "import pandas as pd\n",
    "import os\n",
    "from sklearn.model_selection import train_test_split\n",
    "import numpy as np\n",
    "from mars.models_training import document_level_similarity_search"
   ]
  },
  {
   "cell_type": "code",
   "execution_count": 3,
   "id": "2baa7cc3",
   "metadata": {
    "scrolled": true
   },
   "outputs": [
    {
     "name": "stderr",
     "output_type": "stream",
     "text": [
      "0it [00:00, ?it/s]\n"
     ]
    }
   ],
   "source": [
    "X, y = data_loading.load_document_level_issues_dataset(datasets.DocumentLevelDataset.ethics_ai_ethics, \"laser\")"
   ]
  },
  {
   "cell_type": "code",
   "execution_count": 10,
   "id": "aaf3068c",
   "metadata": {},
   "outputs": [
    {
     "data": {
      "text/plain": [
       "array([], dtype=float64)"
      ]
     },
     "execution_count": 10,
     "metadata": {},
     "output_type": "execute_result"
    }
   ],
   "source": [
    "X"
   ]
  },
  {
   "cell_type": "code",
   "execution_count": 7,
   "id": "e13ff23f",
   "metadata": {},
   "outputs": [
    {
     "data": {
      "text/plain": [
       "['Transparency',\n",
       " 'Justice, fairness, and equity',\n",
       " 'Non-maleficence',\n",
       " 'Responsibility and accountability',\n",
       " 'Privacy',\n",
       " 'Beneficence',\n",
       " 'Freedom and autonomy',\n",
       " 'Trust',\n",
       " 'Sustainability',\n",
       " 'Dignity',\n",
       " 'Solidarity']"
      ]
     },
     "execution_count": 7,
     "metadata": {},
     "output_type": "execute_result"
    }
   ],
   "source": [
    "datasets.targets[datasets.DocumentLevelDataset.jobin2019]"
   ]
  },
  {
   "cell_type": "code",
   "execution_count": 8,
   "id": "0e8b6e8d",
   "metadata": {},
   "outputs": [
    {
     "data": {
      "text/html": [
       "<div>\n",
       "<style scoped>\n",
       "    .dataframe tbody tr th:only-of-type {\n",
       "        vertical-align: middle;\n",
       "    }\n",
       "\n",
       "    .dataframe tbody tr th {\n",
       "        vertical-align: top;\n",
       "    }\n",
       "\n",
       "    .dataframe thead th {\n",
       "        text-align: right;\n",
       "    }\n",
       "</style>\n",
       "<table border=\"1\" class=\"dataframe\">\n",
       "  <thead>\n",
       "    <tr style=\"text-align: right;\">\n",
       "      <th></th>\n",
       "      <th>Transparency</th>\n",
       "      <th>Justice, fairness, and equity</th>\n",
       "      <th>Non-maleficence</th>\n",
       "      <th>Responsibility and accountability</th>\n",
       "      <th>Privacy</th>\n",
       "      <th>Beneficence</th>\n",
       "      <th>Freedom and autonomy</th>\n",
       "      <th>Trust</th>\n",
       "      <th>Sustainability</th>\n",
       "      <th>Dignity</th>\n",
       "      <th>Solidarity</th>\n",
       "    </tr>\n",
       "    <tr>\n",
       "      <th>link</th>\n",
       "      <th></th>\n",
       "      <th></th>\n",
       "      <th></th>\n",
       "      <th></th>\n",
       "      <th></th>\n",
       "      <th></th>\n",
       "      <th></th>\n",
       "      <th></th>\n",
       "      <th></th>\n",
       "      <th></th>\n",
       "      <th></th>\n",
       "    </tr>\n",
       "  </thead>\n",
       "  <tbody>\n",
       "    <tr>\n",
       "      <th>https://www.semanticscholar.org/paper/a4d513cfc9d4902ef1a80198582f29b8ba46ac28</th>\n",
       "      <td>0</td>\n",
       "      <td>0</td>\n",
       "      <td>1</td>\n",
       "      <td>0</td>\n",
       "      <td>0</td>\n",
       "      <td>0</td>\n",
       "      <td>0</td>\n",
       "      <td>0</td>\n",
       "      <td>0</td>\n",
       "      <td>0</td>\n",
       "      <td>0</td>\n",
       "    </tr>\n",
       "    <tr>\n",
       "      <th>https://www.telekom.com/en/company/digital-responsibility/details/artificial-intelligence-ai-guideline-524366</th>\n",
       "      <td>1</td>\n",
       "      <td>1</td>\n",
       "      <td>1</td>\n",
       "      <td>1</td>\n",
       "      <td>1</td>\n",
       "      <td>1</td>\n",
       "      <td>0</td>\n",
       "      <td>1</td>\n",
       "      <td>0</td>\n",
       "      <td>0</td>\n",
       "      <td>0</td>\n",
       "    </tr>\n",
       "    <tr>\n",
       "      <th>https://www.ibm.com/blogs/think/2017/01/ibm-cognitive-principles/</th>\n",
       "      <td>1</td>\n",
       "      <td>0</td>\n",
       "      <td>0</td>\n",
       "      <td>0</td>\n",
       "      <td>0</td>\n",
       "      <td>0</td>\n",
       "      <td>0</td>\n",
       "      <td>1</td>\n",
       "      <td>0</td>\n",
       "      <td>0</td>\n",
       "      <td>0</td>\n",
       "    </tr>\n",
       "    <tr>\n",
       "      <th>https://www.gov.uk/government/publications/code-of-conduct-for-data-driven-health-and-care-technology/initial-code-of-conduct-for-data-driven-health-and-care-technology</th>\n",
       "      <td>1</td>\n",
       "      <td>1</td>\n",
       "      <td>1</td>\n",
       "      <td>0</td>\n",
       "      <td>1</td>\n",
       "      <td>0</td>\n",
       "      <td>0</td>\n",
       "      <td>0</td>\n",
       "      <td>0</td>\n",
       "      <td>0</td>\n",
       "      <td>0</td>\n",
       "    </tr>\n",
       "    <tr>\n",
       "      <th>http://www.fatml.org/resources/principles-for-accountable-algorithms</th>\n",
       "      <td>1</td>\n",
       "      <td>0</td>\n",
       "      <td>0</td>\n",
       "      <td>1</td>\n",
       "      <td>0</td>\n",
       "      <td>0</td>\n",
       "      <td>0</td>\n",
       "      <td>0</td>\n",
       "      <td>0</td>\n",
       "      <td>0</td>\n",
       "      <td>0</td>\n",
       "    </tr>\n",
       "    <tr>\n",
       "      <th>...</th>\n",
       "      <td>...</td>\n",
       "      <td>...</td>\n",
       "      <td>...</td>\n",
       "      <td>...</td>\n",
       "      <td>...</td>\n",
       "      <td>...</td>\n",
       "      <td>...</td>\n",
       "      <td>...</td>\n",
       "      <td>...</td>\n",
       "      <td>...</td>\n",
       "      <td>...</td>\n",
       "    </tr>\n",
       "    <tr>\n",
       "      <th>https://www.semanticscholar.org/paper/48eb44ee257b870de06a65d6f292ef6c7ad2e867</th>\n",
       "      <td>0</td>\n",
       "      <td>0</td>\n",
       "      <td>1</td>\n",
       "      <td>0</td>\n",
       "      <td>0</td>\n",
       "      <td>0</td>\n",
       "      <td>0</td>\n",
       "      <td>0</td>\n",
       "      <td>0</td>\n",
       "      <td>1</td>\n",
       "      <td>0</td>\n",
       "    </tr>\n",
       "    <tr>\n",
       "      <th>https://blog.openai.com/openai-charter/</th>\n",
       "      <td>0</td>\n",
       "      <td>0</td>\n",
       "      <td>1</td>\n",
       "      <td>0</td>\n",
       "      <td>0</td>\n",
       "      <td>1</td>\n",
       "      <td>0</td>\n",
       "      <td>0</td>\n",
       "      <td>0</td>\n",
       "      <td>0</td>\n",
       "      <td>0</td>\n",
       "    </tr>\n",
       "    <tr>\n",
       "      <th>https://www.agid.gov.it/it/agenzia/stampa-e-comunicazione/notizie/2018/03/21/lintelligenza-artificiale-al-servizio-del-cittadino-sfide-opportunita</th>\n",
       "      <td>0</td>\n",
       "      <td>0</td>\n",
       "      <td>0</td>\n",
       "      <td>1</td>\n",
       "      <td>0</td>\n",
       "      <td>0</td>\n",
       "      <td>0</td>\n",
       "      <td>0</td>\n",
       "      <td>0</td>\n",
       "      <td>0</td>\n",
       "      <td>0</td>\n",
       "    </tr>\n",
       "    <tr>\n",
       "      <th>https://womenleadinginai.org/report2019</th>\n",
       "      <td>0</td>\n",
       "      <td>0</td>\n",
       "      <td>0</td>\n",
       "      <td>0</td>\n",
       "      <td>1</td>\n",
       "      <td>0</td>\n",
       "      <td>0</td>\n",
       "      <td>1</td>\n",
       "      <td>0</td>\n",
       "      <td>0</td>\n",
       "      <td>0</td>\n",
       "    </tr>\n",
       "    <tr>\n",
       "      <th>https://www.privacyinternational.org/report/1752/privacy-and-freedom-expression-age-artificial-intelligence</th>\n",
       "      <td>0</td>\n",
       "      <td>0</td>\n",
       "      <td>0</td>\n",
       "      <td>0</td>\n",
       "      <td>1</td>\n",
       "      <td>0</td>\n",
       "      <td>1</td>\n",
       "      <td>0</td>\n",
       "      <td>0</td>\n",
       "      <td>0</td>\n",
       "      <td>0</td>\n",
       "    </tr>\n",
       "  </tbody>\n",
       "</table>\n",
       "<p>84 rows × 11 columns</p>\n",
       "</div>"
      ],
      "text/plain": [
       "                                                    Transparency  \\\n",
       "link                                                               \n",
       "https://www.semanticscholar.org/paper/a4d513cfc...             0   \n",
       "https://www.telekom.com/en/company/digital-resp...             1   \n",
       "https://www.ibm.com/blogs/think/2017/01/ibm-cog...             1   \n",
       "https://www.gov.uk/government/publications/code...             1   \n",
       "http://www.fatml.org/resources/principles-for-a...             1   \n",
       "...                                                          ...   \n",
       "https://www.semanticscholar.org/paper/48eb44ee2...             0   \n",
       "https://blog.openai.com/openai-charter/                        0   \n",
       "https://www.agid.gov.it/it/agenzia/stampa-e-com...             0   \n",
       "https://womenleadinginai.org/report2019                        0   \n",
       "https://www.privacyinternational.org/report/175...             0   \n",
       "\n",
       "                                                    Justice, fairness, and equity  \\\n",
       "link                                                                                \n",
       "https://www.semanticscholar.org/paper/a4d513cfc...                              0   \n",
       "https://www.telekom.com/en/company/digital-resp...                              1   \n",
       "https://www.ibm.com/blogs/think/2017/01/ibm-cog...                              0   \n",
       "https://www.gov.uk/government/publications/code...                              1   \n",
       "http://www.fatml.org/resources/principles-for-a...                              0   \n",
       "...                                                                           ...   \n",
       "https://www.semanticscholar.org/paper/48eb44ee2...                              0   \n",
       "https://blog.openai.com/openai-charter/                                         0   \n",
       "https://www.agid.gov.it/it/agenzia/stampa-e-com...                              0   \n",
       "https://womenleadinginai.org/report2019                                         0   \n",
       "https://www.privacyinternational.org/report/175...                              0   \n",
       "\n",
       "                                                    Non-maleficence  \\\n",
       "link                                                                  \n",
       "https://www.semanticscholar.org/paper/a4d513cfc...                1   \n",
       "https://www.telekom.com/en/company/digital-resp...                1   \n",
       "https://www.ibm.com/blogs/think/2017/01/ibm-cog...                0   \n",
       "https://www.gov.uk/government/publications/code...                1   \n",
       "http://www.fatml.org/resources/principles-for-a...                0   \n",
       "...                                                             ...   \n",
       "https://www.semanticscholar.org/paper/48eb44ee2...                1   \n",
       "https://blog.openai.com/openai-charter/                           1   \n",
       "https://www.agid.gov.it/it/agenzia/stampa-e-com...                0   \n",
       "https://womenleadinginai.org/report2019                           0   \n",
       "https://www.privacyinternational.org/report/175...                0   \n",
       "\n",
       "                                                    Responsibility and accountability  \\\n",
       "link                                                                                    \n",
       "https://www.semanticscholar.org/paper/a4d513cfc...                                  0   \n",
       "https://www.telekom.com/en/company/digital-resp...                                  1   \n",
       "https://www.ibm.com/blogs/think/2017/01/ibm-cog...                                  0   \n",
       "https://www.gov.uk/government/publications/code...                                  0   \n",
       "http://www.fatml.org/resources/principles-for-a...                                  1   \n",
       "...                                                                               ...   \n",
       "https://www.semanticscholar.org/paper/48eb44ee2...                                  0   \n",
       "https://blog.openai.com/openai-charter/                                             0   \n",
       "https://www.agid.gov.it/it/agenzia/stampa-e-com...                                  1   \n",
       "https://womenleadinginai.org/report2019                                             0   \n",
       "https://www.privacyinternational.org/report/175...                                  0   \n",
       "\n",
       "                                                    Privacy  Beneficence  \\\n",
       "link                                                                       \n",
       "https://www.semanticscholar.org/paper/a4d513cfc...        0            0   \n",
       "https://www.telekom.com/en/company/digital-resp...        1            1   \n",
       "https://www.ibm.com/blogs/think/2017/01/ibm-cog...        0            0   \n",
       "https://www.gov.uk/government/publications/code...        1            0   \n",
       "http://www.fatml.org/resources/principles-for-a...        0            0   \n",
       "...                                                     ...          ...   \n",
       "https://www.semanticscholar.org/paper/48eb44ee2...        0            0   \n",
       "https://blog.openai.com/openai-charter/                   0            1   \n",
       "https://www.agid.gov.it/it/agenzia/stampa-e-com...        0            0   \n",
       "https://womenleadinginai.org/report2019                   1            0   \n",
       "https://www.privacyinternational.org/report/175...        1            0   \n",
       "\n",
       "                                                    Freedom and autonomy  \\\n",
       "link                                                                       \n",
       "https://www.semanticscholar.org/paper/a4d513cfc...                     0   \n",
       "https://www.telekom.com/en/company/digital-resp...                     0   \n",
       "https://www.ibm.com/blogs/think/2017/01/ibm-cog...                     0   \n",
       "https://www.gov.uk/government/publications/code...                     0   \n",
       "http://www.fatml.org/resources/principles-for-a...                     0   \n",
       "...                                                                  ...   \n",
       "https://www.semanticscholar.org/paper/48eb44ee2...                     0   \n",
       "https://blog.openai.com/openai-charter/                                0   \n",
       "https://www.agid.gov.it/it/agenzia/stampa-e-com...                     0   \n",
       "https://womenleadinginai.org/report2019                                0   \n",
       "https://www.privacyinternational.org/report/175...                     1   \n",
       "\n",
       "                                                    Trust  Sustainability  \\\n",
       "link                                                                        \n",
       "https://www.semanticscholar.org/paper/a4d513cfc...      0               0   \n",
       "https://www.telekom.com/en/company/digital-resp...      1               0   \n",
       "https://www.ibm.com/blogs/think/2017/01/ibm-cog...      1               0   \n",
       "https://www.gov.uk/government/publications/code...      0               0   \n",
       "http://www.fatml.org/resources/principles-for-a...      0               0   \n",
       "...                                                   ...             ...   \n",
       "https://www.semanticscholar.org/paper/48eb44ee2...      0               0   \n",
       "https://blog.openai.com/openai-charter/                 0               0   \n",
       "https://www.agid.gov.it/it/agenzia/stampa-e-com...      0               0   \n",
       "https://womenleadinginai.org/report2019                 1               0   \n",
       "https://www.privacyinternational.org/report/175...      0               0   \n",
       "\n",
       "                                                    Dignity  Solidarity  \n",
       "link                                                                     \n",
       "https://www.semanticscholar.org/paper/a4d513cfc...        0           0  \n",
       "https://www.telekom.com/en/company/digital-resp...        0           0  \n",
       "https://www.ibm.com/blogs/think/2017/01/ibm-cog...        0           0  \n",
       "https://www.gov.uk/government/publications/code...        0           0  \n",
       "http://www.fatml.org/resources/principles-for-a...        0           0  \n",
       "...                                                     ...         ...  \n",
       "https://www.semanticscholar.org/paper/48eb44ee2...        1           0  \n",
       "https://blog.openai.com/openai-charter/                   0           0  \n",
       "https://www.agid.gov.it/it/agenzia/stampa-e-com...        0           0  \n",
       "https://womenleadinginai.org/report2019                   0           0  \n",
       "https://www.privacyinternational.org/report/175...        0           0  \n",
       "\n",
       "[84 rows x 11 columns]"
      ]
     },
     "execution_count": 8,
     "metadata": {},
     "output_type": "execute_result"
    }
   ],
   "source": [
    "datasets.labels[datasets.DocumentLevelDataset.jobin2019]"
   ]
  },
  {
   "cell_type": "code",
   "execution_count": 10,
   "id": "fbdcb9c1",
   "metadata": {},
   "outputs": [],
   "source": [
    "datasets.labels[datasets.DocumentLevelDataset.ethics_ai_ethics].T.to_csv(\"jobin.csv\")"
   ]
  },
  {
   "cell_type": "code",
   "execution_count": 8,
   "id": "99865ca5",
   "metadata": {},
   "outputs": [],
   "source": [
    "df_labels = pd.read_csv('data/labels_hagendorffEthicsAIEthics2020.csv', index_col=0)"
   ]
  },
  {
   "cell_type": "code",
   "execution_count": 10,
   "id": "88308d1c",
   "metadata": {},
   "outputs": [],
   "source": [
    "X_train, X_test, y_train, y_test = train_test_split(X, y)"
   ]
  },
  {
   "cell_type": "markdown",
   "id": "d7843c5a",
   "metadata": {},
   "source": [
    "### Baseline"
   ]
  },
  {
   "cell_type": "code",
   "execution_count": 11,
   "id": "07e2cacd",
   "metadata": {},
   "outputs": [],
   "source": [
    "X_max = list(map(max, X_test))"
   ]
  },
  {
   "cell_type": "code",
   "execution_count": 14,
   "id": "98e54518",
   "metadata": {},
   "outputs": [
    {
     "data": {
      "text/plain": [
       "83"
      ]
     },
     "execution_count": 14,
     "metadata": {},
     "output_type": "execute_result"
    }
   ],
   "source": [
    "len(X_max)"
   ]
  },
  {
   "cell_type": "code",
   "execution_count": 18,
   "id": "18b0f1d1",
   "metadata": {},
   "outputs": [
    {
     "data": {
      "text/plain": [
       "(330,)"
      ]
     },
     "execution_count": 18,
     "metadata": {},
     "output_type": "execute_result"
    }
   ],
   "source": [
    "X.shape"
   ]
  },
  {
   "cell_type": "code",
   "execution_count": 12,
   "id": "852ba90c",
   "metadata": {
    "scrolled": true
   },
   "outputs": [
    {
     "ename": "NameError",
     "evalue": "name 'evaluate' is not defined",
     "output_type": "error",
     "traceback": [
      "\u001b[0;31m---------------------------------------------------------------------------\u001b[0m",
      "\u001b[0;31mNameError\u001b[0m                                 Traceback (most recent call last)",
      "\u001b[0;32m/tmp/ipykernel_3983/370597280.py\u001b[0m in \u001b[0;36m<module>\u001b[0;34m\u001b[0m\n\u001b[0;32m----> 1\u001b[0;31m \u001b[0mevaluate\u001b[0m\u001b[0;34m(\u001b[0m\u001b[0mX_max\u001b[0m\u001b[0;34m,\u001b[0m \u001b[0my_test\u001b[0m\u001b[0;34m)\u001b[0m\u001b[0;34m\u001b[0m\u001b[0;34m\u001b[0m\u001b[0m\n\u001b[0m",
      "\u001b[0;31mNameError\u001b[0m: name 'evaluate' is not defined"
     ]
    }
   ],
   "source": [
    "evaluate(X_max, y_test)"
   ]
  },
  {
   "cell_type": "code",
   "execution_count": null,
   "id": "a33a642f",
   "metadata": {},
   "outputs": [],
   "source": [
    "def bucketize(scores, bins):\n",
    "    return np.stack([np.histogram(x, range=(-1, 1), bins=bins)[0] for x in scores])"
   ]
  },
  {
   "cell_type": "code",
   "execution_count": null,
   "id": "73f4382d",
   "metadata": {},
   "outputs": [],
   "source": [
    "from sklearn.feature_selection import RFE,RFECV"
   ]
  },
  {
   "cell_type": "code",
   "execution_count": null,
   "id": "0778c4c7",
   "metadata": {},
   "outputs": [],
   "source": [
    "buckets_num = 250\n",
    "\n",
    "model = document_level_similarity_search.model\n",
    "model.fit(X_train, y_train)"
   ]
  },
  {
   "cell_type": "code",
   "execution_count": null,
   "id": "353b38a8",
   "metadata": {},
   "outputs": [],
   "source": [
    "model = document_level_similarity_search.model\n",
    "model.fit(X_train, y_train)\n",
    "y_pred = model.predict_proba(X_train)[:, 1]\n",
    "evaluate(y_pred, y_train)"
   ]
  },
  {
   "cell_type": "code",
   "execution_count": null,
   "id": "93e586b0",
   "metadata": {},
   "outputs": [],
   "source": [
    "model2 = document_level_similarity_search.model_with_normalization\n",
    "model2.fit(X_train, y_train)\n",
    "y_pred = model2.predict_proba(X_train)[:, 1]\n",
    "evaluate(y_pred, y_train)"
   ]
  },
  {
   "cell_type": "code",
   "execution_count": null,
   "id": "49bc5c81",
   "metadata": {},
   "outputs": [],
   "source": [
    "buckets_num = 250\n",
    "\n",
    "model3 =  document_level_similarity_search.model_with_normalization_rfe\n",
    "model3.set_params(bucketize__kw_args = {'bins': buckets_num})\n",
    "model3.fit(X_train, y_train)\n",
    "y_pred = model3.predict_proba(X_train)[:, 1]\n",
    "evaluate(y_pred, y_train)"
   ]
  },
  {
   "cell_type": "code",
   "execution_count": null,
   "id": "5252b851",
   "metadata": {},
   "outputs": [],
   "source": [
    "param_grid = {\n",
    "    \"rfe__n_features_to_select\": list(range(10,101,5)),\n",
    "    \"bucketize__kw_args\":[{\"bins\":int(n)} for n in np.linspace(50,400,num=40)]\n",
    "}"
   ]
  },
  {
   "cell_type": "code",
   "execution_count": null,
   "id": "ad24cbf4",
   "metadata": {},
   "outputs": [],
   "source": [
    "from sklearn.model_selection import GridSearchCV, RandomizedSearchCV\n",
    "\n",
    "\n",
    "cv = RandomizedSearchCV(model3, param_grid, scoring=\"roc_auc\",n_jobs=-1, verbose=1, n_iter=150)"
   ]
  },
  {
   "cell_type": "code",
   "execution_count": null,
   "id": "ca035927",
   "metadata": {},
   "outputs": [],
   "source": [
    "cv.fit(X_train, y_train)"
   ]
  },
  {
   "cell_type": "code",
   "execution_count": null,
   "id": "7122e0ac",
   "metadata": {},
   "outputs": [],
   "source": [
    "best_model = cv.best_estimator_\n",
    "cv.best_score_, cv.best_params_"
   ]
  },
  {
   "cell_type": "code",
   "execution_count": null,
   "id": "e4a8b2a6",
   "metadata": {},
   "outputs": [],
   "source": [
    "y_pred = best_model.predict_proba(X_train)[:, 1]\n",
    "evaluate(y_pred, y_train)"
   ]
  },
  {
   "cell_type": "code",
   "execution_count": null,
   "id": "ae0e8951",
   "metadata": {},
   "outputs": [],
   "source": [
    "y_pred = best_model.predict_proba(X_test)[:, 1]\n",
    "evaluate(y_pred, y_test)"
   ]
  },
  {
   "cell_type": "code",
   "execution_count": null,
   "id": "d7be30e0",
   "metadata": {},
   "outputs": [],
   "source": [
    "import pickle\n",
    "\n",
    "pickle.dump(best_model, open(\"models/ethics_ai_ethics_laser_model.pkl\", \"wb\"))"
   ]
  },
  {
   "cell_type": "code",
   "execution_count": null,
   "id": "38edfc3f",
   "metadata": {},
   "outputs": [],
   "source": [
    "import pickle\n",
    "\n",
    "model = pickle.load(open('models/ethics_ai_ethics_laser_model.pkl', 'rb'))"
   ]
  },
  {
   "cell_type": "code",
   "execution_count": null,
   "id": "d8756df8",
   "metadata": {},
   "outputs": [],
   "source": [
    "model"
   ]
  },
  {
   "cell_type": "code",
   "execution_count": null,
   "id": "d262b0b1",
   "metadata": {},
   "outputs": [],
   "source": []
  }
 ],
 "metadata": {
  "interpreter": {
   "hash": "a6d65d3dc58c25f87397708fe653140229baa2516a1032dc239d759adb8fa645"
  },
  "kernelspec": {
   "display_name": "Python 3 (ipykernel)",
   "language": "python",
   "name": "python3"
  },
  "language_info": {
   "codemirror_mode": {
    "name": "ipython",
    "version": 3
   },
   "file_extension": ".py",
   "mimetype": "text/x-python",
   "name": "python",
   "nbconvert_exporter": "python",
   "pygments_lexer": "ipython3",
   "version": "3.8.10"
  }
 },
 "nbformat": 4,
 "nbformat_minor": 5
}
