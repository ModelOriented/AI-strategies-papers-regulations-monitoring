{
 "cells": [
  {
   "cell_type": "code",
   "execution_count": 1,
   "id": "e11f5663",
   "metadata": {},
   "outputs": [
    {
     "name": "stderr",
     "output_type": "stream",
     "text": [
      "2021-07-30 19:19:36.968492: W tensorflow/stream_executor/platform/default/dso_loader.cc:64] Could not load dynamic library 'libcudart.so.11.0'; dlerror: libcudart.so.11.0: cannot open shared object file: No such file or directory\n",
      "2021-07-30 19:19:36.968647: I tensorflow/stream_executor/cuda/cudart_stub.cc:29] Ignore above cudart dlerror if you do not have a GPU set up on your machine.\n",
      "/home/sgizinski/repos/AI-strategies-papers-regulations-monitoring/.venv/lib/python3.7/site-packages/pandas/compat/__init__.py:124: UserWarning: Could not import the lzma module. Your installed Python is incomplete. Attempting to use lzma compression will result in a RuntimeError.\n",
      "  warnings.warn(msg)\n"
     ]
    },
    {
     "name": "stdout",
     "output_type": "stream",
     "text": [
      "2021-07-30 19:19:40.850176: W tensorflow/stream_executor/platform/default/dso_loader.cc:64] Could not load dynamic library 'libcudart.so.11.0'; dlerror: libcudart.so.11.0: cannot open shared object file: No such file or directory\n",
      "2021-07-30 19:19:40.850233: I tensorflow/stream_executor/cuda/cudart_stub.cc:29] Ignore above cudart dlerror if you do not have a GPU set up on your machine.\n",
      "Collecting en-core-web-sm==3.1.0\n",
      "  Downloading https://github.com/explosion/spacy-models/releases/download/en_core_web_sm-3.1.0/en_core_web_sm-3.1.0-py3-none-any.whl (13.6 MB)\n",
      "\u001b[K     |████████████████████████████████| 13.6 MB 1.4 MB/s eta 0:00:01\n",
      "\u001b[?25hRequirement already satisfied: spacy<3.2.0,>=3.1.0 in /home/sgizinski/repos/AI-strategies-papers-regulations-monitoring/.venv/lib/python3.7/site-packages (from en-core-web-sm==3.1.0) (3.1.1)\n",
      "Requirement already satisfied: typing-extensions<4.0.0.0,>=3.7.4 in /home/sgizinski/repos/AI-strategies-papers-regulations-monitoring/.venv/lib/python3.7/site-packages (from spacy<3.2.0,>=3.1.0->en-core-web-sm==3.1.0) (3.7.4.3)\n",
      "Requirement already satisfied: numpy>=1.15.0 in /home/sgizinski/repos/AI-strategies-papers-regulations-monitoring/.venv/lib/python3.7/site-packages (from spacy<3.2.0,>=3.1.0->en-core-web-sm==3.1.0) (1.19.5)\n",
      "Requirement already satisfied: spacy-legacy<3.1.0,>=3.0.7 in /home/sgizinski/repos/AI-strategies-papers-regulations-monitoring/.venv/lib/python3.7/site-packages (from spacy<3.2.0,>=3.1.0->en-core-web-sm==3.1.0) (3.0.8)\n",
      "Requirement already satisfied: preshed<3.1.0,>=3.0.2 in /home/sgizinski/repos/AI-strategies-papers-regulations-monitoring/.venv/lib/python3.7/site-packages (from spacy<3.2.0,>=3.1.0->en-core-web-sm==3.1.0) (3.0.5)\n",
      "Requirement already satisfied: pathy>=0.3.5 in /home/sgizinski/repos/AI-strategies-papers-regulations-monitoring/.venv/lib/python3.7/site-packages (from spacy<3.2.0,>=3.1.0->en-core-web-sm==3.1.0) (0.6.0)\n",
      "Requirement already satisfied: murmurhash<1.1.0,>=0.28.0 in /home/sgizinski/repos/AI-strategies-papers-regulations-monitoring/.venv/lib/python3.7/site-packages (from spacy<3.2.0,>=3.1.0->en-core-web-sm==3.1.0) (1.0.5)\n",
      "Requirement already satisfied: jinja2 in /home/sgizinski/repos/AI-strategies-papers-regulations-monitoring/.venv/lib/python3.7/site-packages (from spacy<3.2.0,>=3.1.0->en-core-web-sm==3.1.0) (3.0.1)\n",
      "Requirement already satisfied: catalogue<2.1.0,>=2.0.4 in /home/sgizinski/repos/AI-strategies-papers-regulations-monitoring/.venv/lib/python3.7/site-packages (from spacy<3.2.0,>=3.1.0->en-core-web-sm==3.1.0) (2.0.4)\n",
      "Requirement already satisfied: blis<0.8.0,>=0.4.0 in /home/sgizinski/repos/AI-strategies-papers-regulations-monitoring/.venv/lib/python3.7/site-packages (from spacy<3.2.0,>=3.1.0->en-core-web-sm==3.1.0) (0.7.4)\n",
      "Requirement already satisfied: cymem<2.1.0,>=2.0.2 in /home/sgizinski/repos/AI-strategies-papers-regulations-monitoring/.venv/lib/python3.7/site-packages (from spacy<3.2.0,>=3.1.0->en-core-web-sm==3.1.0) (2.0.5)\n",
      "Requirement already satisfied: thinc<8.1.0,>=8.0.8 in /home/sgizinski/repos/AI-strategies-papers-regulations-monitoring/.venv/lib/python3.7/site-packages (from spacy<3.2.0,>=3.1.0->en-core-web-sm==3.1.0) (8.0.8)\n",
      "Requirement already satisfied: typer<0.4.0,>=0.3.0 in /home/sgizinski/repos/AI-strategies-papers-regulations-monitoring/.venv/lib/python3.7/site-packages (from spacy<3.2.0,>=3.1.0->en-core-web-sm==3.1.0) (0.3.2)\n",
      "Requirement already satisfied: wasabi<1.1.0,>=0.8.1 in /home/sgizinski/repos/AI-strategies-papers-regulations-monitoring/.venv/lib/python3.7/site-packages (from spacy<3.2.0,>=3.1.0->en-core-web-sm==3.1.0) (0.8.2)\n",
      "Requirement already satisfied: packaging>=20.0 in /home/sgizinski/repos/AI-strategies-papers-regulations-monitoring/.venv/lib/python3.7/site-packages (from spacy<3.2.0,>=3.1.0->en-core-web-sm==3.1.0) (21.0)\n",
      "Requirement already satisfied: requests<3.0.0,>=2.13.0 in /home/sgizinski/repos/AI-strategies-papers-regulations-monitoring/.venv/lib/python3.7/site-packages (from spacy<3.2.0,>=3.1.0->en-core-web-sm==3.1.0) (2.26.0)\n",
      "Requirement already satisfied: setuptools in /home/sgizinski/repos/AI-strategies-papers-regulations-monitoring/.venv/lib/python3.7/site-packages (from spacy<3.2.0,>=3.1.0->en-core-web-sm==3.1.0) (57.1.0)\n",
      "Requirement already satisfied: tqdm<5.0.0,>=4.38.0 in /home/sgizinski/repos/AI-strategies-papers-regulations-monitoring/.venv/lib/python3.7/site-packages (from spacy<3.2.0,>=3.1.0->en-core-web-sm==3.1.0) (4.61.2)\n",
      "Requirement already satisfied: srsly<3.0.0,>=2.4.1 in /home/sgizinski/repos/AI-strategies-papers-regulations-monitoring/.venv/lib/python3.7/site-packages (from spacy<3.2.0,>=3.1.0->en-core-web-sm==3.1.0) (2.4.1)\n",
      "Requirement already satisfied: pydantic!=1.8,!=1.8.1,<1.9.0,>=1.7.4 in /home/sgizinski/repos/AI-strategies-papers-regulations-monitoring/.venv/lib/python3.7/site-packages (from spacy<3.2.0,>=3.1.0->en-core-web-sm==3.1.0) (1.8.2)\n",
      "Requirement already satisfied: zipp>=0.5 in /home/sgizinski/repos/AI-strategies-papers-regulations-monitoring/.venv/lib/python3.7/site-packages (from catalogue<2.1.0,>=2.0.4->spacy<3.2.0,>=3.1.0->en-core-web-sm==3.1.0) (3.5.0)\n",
      "Requirement already satisfied: pyparsing>=2.0.2 in /home/sgizinski/repos/AI-strategies-papers-regulations-monitoring/.venv/lib/python3.7/site-packages (from packaging>=20.0->spacy<3.2.0,>=3.1.0->en-core-web-sm==3.1.0) (2.4.7)\n",
      "Requirement already satisfied: smart-open<6.0.0,>=5.0.0 in /home/sgizinski/repos/AI-strategies-papers-regulations-monitoring/.venv/lib/python3.7/site-packages (from pathy>=0.3.5->spacy<3.2.0,>=3.1.0->en-core-web-sm==3.1.0) (5.1.0)\n",
      "Requirement already satisfied: idna<4,>=2.5 in /home/sgizinski/repos/AI-strategies-papers-regulations-monitoring/.venv/lib/python3.7/site-packages (from requests<3.0.0,>=2.13.0->spacy<3.2.0,>=3.1.0->en-core-web-sm==3.1.0) (3.2)\n",
      "Requirement already satisfied: charset-normalizer~=2.0.0 in /home/sgizinski/repos/AI-strategies-papers-regulations-monitoring/.venv/lib/python3.7/site-packages (from requests<3.0.0,>=2.13.0->spacy<3.2.0,>=3.1.0->en-core-web-sm==3.1.0) (2.0.3)\n",
      "Requirement already satisfied: urllib3<1.27,>=1.21.1 in /home/sgizinski/repos/AI-strategies-papers-regulations-monitoring/.venv/lib/python3.7/site-packages (from requests<3.0.0,>=2.13.0->spacy<3.2.0,>=3.1.0->en-core-web-sm==3.1.0) (1.26.6)\n",
      "Requirement already satisfied: certifi>=2017.4.17 in /home/sgizinski/repos/AI-strategies-papers-regulations-monitoring/.venv/lib/python3.7/site-packages (from requests<3.0.0,>=2.13.0->spacy<3.2.0,>=3.1.0->en-core-web-sm==3.1.0) (2021.5.30)\n",
      "Requirement already satisfied: click<7.2.0,>=7.1.1 in /home/sgizinski/repos/AI-strategies-papers-regulations-monitoring/.venv/lib/python3.7/site-packages (from typer<0.4.0,>=0.3.0->spacy<3.2.0,>=3.1.0->en-core-web-sm==3.1.0) (7.1.2)\n",
      "Requirement already satisfied: MarkupSafe>=2.0 in /home/sgizinski/repos/AI-strategies-papers-regulations-monitoring/.venv/lib/python3.7/site-packages (from jinja2->spacy<3.2.0,>=3.1.0->en-core-web-sm==3.1.0) (2.0.1)\n",
      "\u001b[38;5;2m✔ Download and installation successful\u001b[0m\n",
      "You can now load the package via spacy.load('en_core_web_sm')\n"
     ]
    }
   ],
   "source": [
    "import tensorflow_hub as hub\n",
    "import tensorflow as tf\n",
    "import tensorflow_text as text  # Needed for loading universal-sentence-encoder-cmlm/multilingual-preprocess\n",
    "import numpy as np\n",
    "\n",
    "!python -m spacy download en_core_web_sm"
   ]
  },
  {
   "cell_type": "code",
   "execution_count": 2,
   "id": "d115bb6c",
   "metadata": {},
   "outputs": [],
   "source": [
    "def normalization(embeds):\n",
    "  norms = np.linalg.norm(embeds, 2, axis=1, keepdims=True)\n",
    "  return embeds/norms\n"
   ]
  },
  {
   "cell_type": "code",
   "execution_count": 3,
   "id": "1898aeb3",
   "metadata": {},
   "outputs": [
    {
     "name": "stderr",
     "output_type": "stream",
     "text": [
      "2021-07-30 19:19:56.629476: W tensorflow/stream_executor/platform/default/dso_loader.cc:64] Could not load dynamic library 'libcuda.so.1'; dlerror: libcuda.so.1: cannot open shared object file: No such file or directory\n",
      "2021-07-30 19:19:56.629546: W tensorflow/stream_executor/cuda/cuda_driver.cc:326] failed call to cuInit: UNKNOWN ERROR (303)\n",
      "2021-07-30 19:19:56.629566: I tensorflow/stream_executor/cuda/cuda_diagnostics.cc:156] kernel driver does not appear to be running on this host (DESKTOP-8E43FDR): /proc/driver/nvidia/version does not exist\n",
      "2021-07-30 19:19:56.629977: I tensorflow/core/platform/cpu_feature_guard.cc:142] This TensorFlow binary is optimized with oneAPI Deep Neural Network Library (oneDNN) to use the following CPU instructions in performance-critical operations:  AVX2 FMA\n",
      "To enable them in other operations, rebuild TensorFlow with the appropriate compiler flags.\n",
      "2021-07-30 19:19:59.383151: I tensorflow/compiler/mlir/mlir_graph_optimization_pass.cc:176] None of the MLIR Optimization Passes are enabled (registered 2)\n",
      "2021-07-30 19:19:59.383836: I tensorflow/core/platform/profile_utils/cpu_utils.cc:114] CPU Frequency: 2591995000 Hz\n"
     ]
    }
   ],
   "source": [
    "preprocessor = hub.KerasLayer(\n",
    "    \"https://tfhub.dev/google/universal-sentence-encoder-cmlm/multilingual-preprocess/2\")\n",
    "encoder = hub.KerasLayer(\"https://tfhub.dev/google/LaBSE/2\")\n"
   ]
  },
  {
   "cell_type": "code",
   "execution_count": 4,
   "id": "f506e7fa",
   "metadata": {},
   "outputs": [],
   "source": [
    "def embedd_sents(sents):\n",
    "    return normalization(encoder(preprocessor(tf.constant(sents)))[\"default\"])"
   ]
  },
  {
   "cell_type": "code",
   "execution_count": 5,
   "id": "d84b19bb",
   "metadata": {},
   "outputs": [],
   "source": [
    "from mars import db"
   ]
  },
  {
   "cell_type": "code",
   "execution_count": 6,
   "id": "22cbe5b2",
   "metadata": {},
   "outputs": [],
   "source": [
    "import spacy\n",
    "\n",
    "en = spacy.load('en_core_web_sm')"
   ]
  },
  {
   "cell_type": "code",
   "execution_count": 7,
   "id": "b7ecf5e1",
   "metadata": {},
   "outputs": [],
   "source": [
    "# db.contents.fetch\n",
    "\n",
    "processed_texts= db.get_collection_or_create(db.db, \"ProcessedTexts\")\n",
    "for cont in db.contents.exportDocs():\n",
    "    text = cont['content']\n",
    "    sents = [str(s) for s in list(en(text).sents)]\n",
    "    doc = processed_texts.createDocument()\n",
    "    doc['textId']=cont['_id']\n",
    "    doc['sentences']=sents\n",
    "    doc.save()\n",
    "\n",
    "# sents = list(en(texts[0]).sents)"
   ]
  },
  {
   "cell_type": "markdown",
   "id": "4e8d353c",
   "metadata": {},
   "source": [
    "# Putting embeddings in DB"
   ]
  },
  {
   "cell_type": "code",
   "execution_count": 14,
   "id": "077d9435",
   "metadata": {},
   "outputs": [
    {
     "ename": "SyntaxError",
     "evalue": "invalid syntax (2906820417.py, line 1)",
     "output_type": "error",
     "traceback": [
      "\u001b[0;36m  File \u001b[0;32m\"/tmp/ipykernel_19858/2906820417.py\"\u001b[0;36m, line \u001b[0;32m1\u001b[0m\n\u001b[0;31m    for doc in tqdm(processed_texts.fetchAll())\u001b[0m\n\u001b[0m                                               ^\u001b[0m\n\u001b[0;31mSyntaxError\u001b[0m\u001b[0;31m:\u001b[0m invalid syntax\n"
     ]
    }
   ],
   "source": [
    "for doc in tqdm(processed_texts.fetchAll()):\n",
    "    doc['sentencesEmbeddings'] = embedd_sents(doc.sentences)\n",
    "    doc.save()"
   ]
  },
  {
   "cell_type": "code",
   "execution_count": null,
   "id": "4e0384ea",
   "metadata": {},
   "outputs": [
    {
     "name": "stderr",
     "output_type": "stream",
     "text": [
      "2021-07-30 19:30:51.132274: W tensorflow/core/framework/cpu_allocator_impl.cc:80] Allocation of 2262171648 exceeds 10% of free system memory.\n",
      "2021-07-30 19:30:51.286340: W tensorflow/core/framework/cpu_allocator_impl.cc:80] Allocation of 2262171648 exceeds 10% of free system memory.\n",
      "2021-07-30 19:30:51.481874: W tensorflow/core/framework/cpu_allocator_impl.cc:80] Allocation of 2262171648 exceeds 10% of free system memory.\n",
      "2021-07-30 19:30:52.946649: W tensorflow/core/framework/cpu_allocator_impl.cc:80] Allocation of 2262171648 exceeds 10% of free system memory.\n",
      "2021-07-30 19:30:53.470323: W tensorflow/core/framework/cpu_allocator_impl.cc:80] Allocation of 2262171648 exceeds 10% of free system memory.\n"
     ]
    }
   ],
   "source": [
    "embedd_sents(doc.sentences)"
   ]
  },
  {
   "cell_type": "markdown",
   "id": "3736fb77",
   "metadata": {},
   "source": [
    "### Save similarities to DB"
   ]
  },
  {
   "cell_type": "code",
   "execution_count": null,
   "id": "7ad80f9a",
   "metadata": {},
   "outputs": [],
   "source": [
    "targets = ['privacy protection',\n",
    "'fairness',\n",
    "'transparency, openness']\n",
    "e_tergets = embedd_sents(targets)\n",
    "\n",
    "\n",
    "\n",
    "for doc in tqdm(processed_texts.fetchAll()):\n",
    "    search_scores=dict()\n",
    "    results = np.matmul(e_tergets, np.transpose(e_sents))\n",
    "\n",
    "    for result, target in zip(results, targets):\n",
    "        search_scores[target] = list(result)\n",
    "        \n",
    "    doc['searchSimilarityScores']=search_scores\n",
    "    doc.save()"
   ]
  },
  {
   "cell_type": "code",
   "execution_count": 6,
   "id": "b488eb25",
   "metadata": {},
   "outputs": [],
   "source": [
    "import numpy as np\n",
    "\n",
    "def get_top_n_indexes(l, n):\n",
    "    top_n_idx = np.argsort(l)[-n:]\n",
    "    return top_n_idx"
   ]
  },
  {
   "cell_type": "code",
   "execution_count": 4,
   "id": "5d0caaa0",
   "metadata": {},
   "outputs": [],
   "source": [
    "\n",
    "# top_2_values = [a[i] for i in top_2_idx]\n"
   ]
  },
  {
   "cell_type": "code",
   "execution_count": 5,
   "id": "b84aa347",
   "metadata": {},
   "outputs": [
    {
     "data": {
      "text/plain": [
       "array([0, 2])"
      ]
     },
     "execution_count": 5,
     "metadata": {},
     "output_type": "execute_result"
    }
   ],
   "source": [
    "top_2_idx"
   ]
  },
  {
   "cell_type": "markdown",
   "id": "95ac5661",
   "metadata": {},
   "source": [
    "### Saving top N sentences"
   ]
  },
  {
   "cell_type": "code",
   "execution_count": 38,
   "id": "98bdc694",
   "metadata": {},
   "outputs": [],
   "source": [
    "for doc in tqdm(processed_texts.fetchAll()):\n",
    "    topnsents = dict()\n",
    "    for target, similarities in doc['searchSimilarityScores'].items():\n",
    "        idxs = get_top_n_indexes(similarities, 10)\n",
    "        topn = np.array(doc['sentences'])[idxs]\n",
    "        topnsents[target] = topn\n",
    "    doc['topNSents'] = topnsents\n",
    "    doc.save()"
   ]
  },
  {
   "cell_type": "code",
   "execution_count": 64,
   "id": "5921cee4",
   "metadata": {},
   "outputs": [],
   "source": [
    "def print_best_sents(e_targets, e_sents, sents, targets):\n",
    "    r = np.matmul(e_tergets, np.transpose(e_sents))\n",
    "    for j, (i, target) in enumerate(zip(list(np.argmax(r, axis=1)), targets)):\n",
    "        print(target)\n",
    "        print(\"SCORE:\", r[j][i])\n",
    "        print(\"BEST HIT:\")\n",
    "        print(sents[i])\n",
    "        print('-'*30)"
   ]
  },
  {
   "cell_type": "code",
   "execution_count": 65,
   "id": "08714d2d",
   "metadata": {},
   "outputs": [
    {
     "name": "stdout",
     "output_type": "stream",
     "text": [
      "privacy protection\n",
      "SCORE: 0.28070253\n",
      "BEST HIT:\n",
      "\n",
      "    5\n",
      "    Social and Societal Influences of AI\n",
      "\n",
      "    AI advances will touch people and society in numerous ways, including potential influences on privacy, democracy, criminal justice, and human rights.\n",
      "------------------------------\n",
      "fairness\n",
      "SCORE: 0.25957346\n",
      "BEST HIT:\n",
      "Address such areas as fairness and inclusivity, explanation and transparency, security and privacy, values and ethics, collaboration between people and AI systems, interoperability of systems, and of the trustworthiness, reliability, containment, safety, and robustness of the technology.\n",
      "------------------------------\n",
      "transparency, openness\n",
      "SCORE: 0.32075033\n",
      "BEST HIT:\n",
      "\n",
      "\n",
      "    Researchers, officials, and the public should be sensitive to these possibilities and we should seek to develop methods that detect and correct those errors and biases, not replicate them.\n",
      "------------------------------\n"
     ]
    }
   ],
   "source": [
    "print_best_sents(e_tergets, e_sents, sents, targets)"
   ]
  },
  {
   "cell_type": "code",
   "execution_count": null,
   "id": "37c161a6",
   "metadata": {},
   "outputs": [],
   "source": []
  }
 ],
 "metadata": {
  "kernelspec": {
   "display_name": "Python 3 (ipykernel)",
   "language": "python",
   "name": "python3"
  },
  "language_info": {
   "codemirror_mode": {
    "name": "ipython",
    "version": 3
   },
   "file_extension": ".py",
   "mimetype": "text/x-python",
   "name": "python",
   "nbconvert_exporter": "python",
   "pygments_lexer": "ipython3",
   "version": "3.7.1"
  }
 },
 "nbformat": 4,
 "nbformat_minor": 5
}
