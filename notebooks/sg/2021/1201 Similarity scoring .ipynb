{
 "cells": [
  {
   "cell_type": "code",
   "execution_count": 1,
   "id": "10cbcaf0",
   "metadata": {},
   "outputs": [],
   "source": [
    "import os\n",
    "\n",
    "os.chdir(\"../..\")"
   ]
  },
  {
   "cell_type": "code",
   "execution_count": 2,
   "id": "b4f9c51f",
   "metadata": {},
   "outputs": [
    {
     "name": "stderr",
     "output_type": "stream",
     "text": [
      "2021-12-01 18:13:27.177580: W tensorflow/stream_executor/platform/default/dso_loader.cc:64] Could not load dynamic library 'libcudart.so.11.0'; dlerror: libcudart.so.11.0: cannot open shared object file: No such file or directory\n",
      "2021-12-01 18:13:27.177623: I tensorflow/stream_executor/cuda/cudart_stub.cc:29] Ignore above cudart dlerror if you do not have a GPU set up on your machine.\n",
      "2021-12-01 18:13:30.658081: W tensorflow/stream_executor/platform/default/dso_loader.cc:64] Could not load dynamic library 'libcuda.so.1'; dlerror: libcuda.so.1: cannot open shared object file: No such file or directory\n",
      "2021-12-01 18:13:30.658134: W tensorflow/stream_executor/cuda/cuda_driver.cc:269] failed call to cuInit: UNKNOWN ERROR (303)\n",
      "2021-12-01 18:13:30.658154: I tensorflow/stream_executor/cuda/cuda_diagnostics.cc:156] kernel driver does not appear to be running on this host (DESKTOP-8E43FDR): /proc/driver/nvidia/version does not exist\n",
      "2021-12-01 18:13:30.658349: I tensorflow/core/platform/cpu_feature_guard.cc:151] This TensorFlow binary is optimized with oneAPI Deep Neural Network Library (oneDNN) to use the following CPU instructions in performance-critical operations:  AVX2 FMA\n",
      "To enable them in other operations, rebuild TensorFlow with the appropriate compiler flags.\n",
      "2021-12-01 18:13:40.003399: W tensorflow/core/framework/cpu_allocator_impl.cc:82] Allocation of 1539542016 exceeds 10% of free system memory.\n"
     ]
    }
   ],
   "source": [
    "%load_ext autoreload\n",
    "%autoreload 2\n",
    "\n",
    "from mars import db\n",
    "from mars.models_training import datasets\n",
    "from mars.db import db_fields, collections\n",
    "from mars import similarity_calculation\n",
    "from mars.sentence_embeddings import score_embeddings_for_documents, embedd_sentences"
   ]
  },
  {
   "cell_type": "code",
   "execution_count": 3,
   "id": "d69963b3",
   "metadata": {},
   "outputs": [],
   "source": [
    "DOC_ID = \"Documents/1728\""
   ]
  },
  {
   "cell_type": "code",
   "execution_count": 4,
   "id": "42fede16",
   "metadata": {},
   "outputs": [],
   "source": [
    "target_sents = datasets.targets[datasets.DocumentLevelDataset.jobin2019]"
   ]
  },
  {
   "cell_type": "code",
   "execution_count": 5,
   "id": "f4653fc7",
   "metadata": {},
   "outputs": [
    {
     "data": {
      "text/plain": [
       "['Transparency',\n",
       " 'Justice, fairness, and equity',\n",
       " 'Non-maleficence',\n",
       " 'Responsibility and accountability',\n",
       " 'Privacy',\n",
       " 'Beneficence',\n",
       " 'Freedom and autonomy',\n",
       " 'Trust',\n",
       " 'Sustainability',\n",
       " 'Dignity',\n",
       " 'Solidarity']"
      ]
     },
     "execution_count": 5,
     "metadata": {},
     "output_type": "execute_result"
    }
   ],
   "source": [
    "target_sents"
   ]
  },
  {
   "cell_type": "code",
   "execution_count": null,
   "id": "833816ed",
   "metadata": {},
   "outputs": [],
   "source": [
    "similarity_calculation.infer_issues_for_documents(1728, 1728, db_fields.EmbeddingType.LABSE, target_sents)"
   ]
  },
  {
   "cell_type": "code",
   "execution_count": 13,
   "id": "e59ad988",
   "metadata": {},
   "outputs": [],
   "source": [
    "sents = [d for d in collections.sentences.fetchByExample({db_fields.DOC_ID:DOC_ID}, 1000)]"
   ]
  },
  {
   "cell_type": "code",
   "execution_count": 14,
   "id": "b151af52",
   "metadata": {},
   "outputs": [],
   "source": [
    "d = []\n",
    "for sent in sents:\n",
    "    issues = sent['issues']['labse'].getStore()\n",
    "    issues['sentence']=sent[db_fields.SENTENCE]\n",
    "    issues['sentenceNumber']=sent[db_fields.SENTENCE_NUMBER]\n",
    "    issues['paragraphNumber']=sent[db_fields.SEQUENCE_NUMBER]\n",
    "    d.append(issues)\n",
    "import pandas as pd\n",
    "\n",
    "\n",
    "df = pd.DataFrame(d).set_index(['paragraphNumber', 'sentenceNumber'])"
   ]
  },
  {
   "cell_type": "code",
   "execution_count": 27,
   "id": "a140a492",
   "metadata": {},
   "outputs": [],
   "source": [
    "df_melt= df.set_index('sentence').melt()"
   ]
  },
  {
   "cell_type": "code",
   "execution_count": 28,
   "id": "40d5e5b6",
   "metadata": {},
   "outputs": [
    {
     "data": {
      "text/html": [
       "<div>\n",
       "<style scoped>\n",
       "    .dataframe tbody tr th:only-of-type {\n",
       "        vertical-align: middle;\n",
       "    }\n",
       "\n",
       "    .dataframe tbody tr th {\n",
       "        vertical-align: top;\n",
       "    }\n",
       "\n",
       "    .dataframe thead th {\n",
       "        text-align: right;\n",
       "    }\n",
       "</style>\n",
       "<table border=\"1\" class=\"dataframe\">\n",
       "  <thead>\n",
       "    <tr style=\"text-align: right;\">\n",
       "      <th></th>\n",
       "      <th>variable</th>\n",
       "      <th>value</th>\n",
       "    </tr>\n",
       "  </thead>\n",
       "  <tbody>\n",
       "    <tr>\n",
       "      <th>0</th>\n",
       "      <td>Transparency</td>\n",
       "      <td>0.023070</td>\n",
       "    </tr>\n",
       "    <tr>\n",
       "      <th>1</th>\n",
       "      <td>Transparency</td>\n",
       "      <td>0.042661</td>\n",
       "    </tr>\n",
       "    <tr>\n",
       "      <th>2</th>\n",
       "      <td>Transparency</td>\n",
       "      <td>0.053751</td>\n",
       "    </tr>\n",
       "    <tr>\n",
       "      <th>3</th>\n",
       "      <td>Transparency</td>\n",
       "      <td>0.320218</td>\n",
       "    </tr>\n",
       "    <tr>\n",
       "      <th>4</th>\n",
       "      <td>Transparency</td>\n",
       "      <td>0.049213</td>\n",
       "    </tr>\n",
       "  </tbody>\n",
       "</table>\n",
       "</div>"
      ],
      "text/plain": [
       "       variable     value\n",
       "0  Transparency  0.023070\n",
       "1  Transparency  0.042661\n",
       "2  Transparency  0.053751\n",
       "3  Transparency  0.320218\n",
       "4  Transparency  0.049213"
      ]
     },
     "execution_count": 28,
     "metadata": {},
     "output_type": "execute_result"
    }
   ],
   "source": [
    "df_melt.head()"
   ]
  },
  {
   "cell_type": "code",
   "execution_count": 39,
   "id": "2bfdcc36",
   "metadata": {},
   "outputs": [
    {
     "name": "stderr",
     "output_type": "stream",
     "text": [
      "/home/sgizinski/repos/AI-strategies-papers-regulations-monitoring/.venv/lib/python3.8/site-packages/plotnine/stats/stat_bin.py:95: PlotnineWarning: 'stat_bin()' using 'bins = 38'. Pick better value with 'binwidth'.\n"
     ]
    },
    {
     "data": {
      "image/png": "[encoded data removed]",
      "text/plain": [
       "<Figure size 1000x500 with 11 Axes>"
      ]
     },
     "metadata": {},
     "output_type": "display_data"
    },
    {
     "data": {
      "text/plain": [
       "<ggplot: (8731019115855)>"
      ]
     },
     "execution_count": 39,
     "metadata": {},
     "output_type": "execute_result"
    }
   ],
   "source": [
    "import plotly.express as px\n",
    "from plotnine import ggplot, geom_point, aes, stat_smooth, facet_wrap,geom_histogram, facet_grid\n",
    "import plotnine\n",
    "plotnine.options.figure_size=(10,5)\n",
    "(ggplot(df_melt, aes('value'))\n",
    " + geom_histogram()\n",
    " + facet_wrap('~variable', ncol=3))"
   ]
  },
  {
   "cell_type": "code",
   "execution_count": null,
   "id": "6a289c3d",
   "metadata": {},
   "outputs": [],
   "source": [
    "for target in target_sents:\n",
    "    px.histogram(df[target]).show()"
   ]
  },
  {
   "cell_type": "code",
   "execution_count": 47,
   "id": "4a3fc42b",
   "metadata": {},
   "outputs": [
    {
     "name": "stdout",
     "output_type": "stream",
     "text": [
      "'Transparency' top sentence: '    Transparency        '\n",
      "Score: 0.7382491827255323\n",
      "'Justice, fairness, and equity' top sentence: '    Diversity, non-discrimination and fairness        '\n",
      "Score: 0.7417867757961945\n",
      "'Freedom and autonomy' top sentence: '    Diversity, non-discrimination and fairness        '\n",
      "Score: 0.5215069694371237\n",
      "'Trust' top sentence: ' Referral '\n",
      "Score: 0.5077001381037993\n",
      "'Sustainability' top sentence: '    Accountability        '\n",
      "Score: 0.5069328493284877\n"
     ]
    }
   ],
   "source": [
    "maxes = df[target_sents].max()\n",
    "for issue, value in maxes.items():\n",
    "    if value>.5:\n",
    "        print(f\"'{issue}'\", 'top sentence:',\"'\",df[df[issue]==value]['sentence'].iloc[0],\"'\")\n",
    "        print(\"Score:\", value)"
   ]
  },
  {
   "cell_type": "code",
   "execution_count": 42,
   "id": "5056ffdb",
   "metadata": {},
   "outputs": [],
   "source": [
    "def moving_average(x, w):\n",
    "    return np.convolve(x, np.ones(w), 'same') / w"
   ]
  },
  {
   "cell_type": "code",
   "execution_count": 43,
   "id": "8517bc70",
   "metadata": {},
   "outputs": [],
   "source": [
    "import numpy as np\n",
    "\n",
    "ISSUE = 'Responsibility and accountability'\n",
    "data = df[[ISSUE, 'sentence']].reset_index(drop=True).copy()\n",
    "data[ISSUE]=moving_average(data[ISSUE],5)"
   ]
  },
  {
   "cell_type": "code",
   "execution_count": 46,
   "id": "083b050e",
   "metadata": {},
   "outputs": [],
   "source": [
    "px.line(data, y=ISSUE, hover_data=['sentence'], template='ggplot2').write_html(\"reponsibility_in_sentences.html\")"
   ]
  }
 ],
 "metadata": {
  "kernelspec": {
   "display_name": "Python 3 (ipykernel)",
   "language": "python",
   "name": "python3"
  },
  "language_info": {
   "codemirror_mode": {
    "name": "ipython",
    "version": 3
   },
   "file_extension": ".py",
   "mimetype": "text/x-python",
   "name": "python",
   "nbconvert_exporter": "python",
   "pygments_lexer": "ipython3",
   "version": "3.8.10"
  }
 },
 "nbformat": 4,
 "nbformat_minor": 5
}
