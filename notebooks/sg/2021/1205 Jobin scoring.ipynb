{
 "cells": [
  {
   "cell_type": "code",
   "execution_count": 1,
   "id": "360e8f0f",
   "metadata": {},
   "outputs": [],
   "source": [
    "from mars.db import collections\n",
    "from mars.db import db_fields, fetch_batches_until_empty\n",
    "# from mars.sentences_splitting import split_to_sentences_sentences\n",
    "\n",
    "from mars.parser import parse_documents\n",
    "from mars.segmentation.segmentation import segment_and_upload\n",
    "from mars import config"
   ]
  },
  {
   "cell_type": "code",
   "execution_count": 4,
   "id": "27311084",
   "metadata": {},
   "outputs": [],
   "source": [
    "docs = collections.document_sources.fetchByExample(\n",
    "    {\"dataset\": \"DocumentLevelDataset.jobin2019\"}, 1000\n",
    ")"
   ]
  },
  {
   "cell_type": "code",
   "execution_count": 5,
   "id": "450f7232",
   "metadata": {},
   "outputs": [],
   "source": [
    "for doc in docs:\n",
    "    ...\n",
    "doc['_key']"
   ]
  },
  {
   "cell_type": "code",
   "execution_count": 7,
   "id": "04c1d7c5",
   "metadata": {},
   "outputs": [
    {
     "data": {
      "text/plain": [
       "ArangoDoc '_id: Documents/32568617, _key: 32568617, _rev: _dXo9inO---': <store: {'url': 'https://www.article19.org/wp-content/uploads/2018/04/Privacy-and-Freedom-of-Expression-In-the-Age-of-Artificial-Intelligence-1.pdf', 'file_type': 'html', 'filename': '8fc7e0ae-b912-4e6e-a49e-ce9bff7505bf.html', 'source_website': 'manually_added', 'user': 'jakwisn', 'name': None, 'jobs': [], 'dataset': 'DocumentLevelDataset.jobin2019'}>"
      ]
     },
     "execution_count": 7,
     "metadata": {},
     "output_type": "execute_result"
    }
   ],
   "source": [
    "doc"
   ]
  },
  {
   "cell_type": "code",
   "execution_count": 7,
   "id": "1b482286",
   "metadata": {},
   "outputs": [
    {
     "name": "stderr",
     "output_type": "stream",
     "text": [
      "12/08/2021 05:07:18 Segment documents from 32568617 to 32568617\n",
      "12/08/2021 05:07:47 Already segmented documents: 0 / 1\n",
      "12/08/2021 05:07:47 Waiting for segmentation documents: 1 / 1\n",
      "12/08/2021 05:07:47 Segmenting Documents/32568617 (0.0%)\n",
      "/home/sgizinski/repos/AI-strategies-papers-regulations-monitoring/mars/segmentation/html_segmantation.py:35: GuessedAtParserWarning: No parser was explicitly specified, so I'm using the best available HTML parser for this system (\"lxml\"). This usually isn't a problem, but if you run this code on another system, or in a different virtual environment, it may use a different parser and behave differently.\n",
      "\n",
      "The code that caused this warning is on line 35 of the file /home/sgizinski/repos/AI-strategies-papers-regulations-monitoring/mars/segmentation/html_segmantation.py. To get rid of this warning, pass the additional argument 'features=\"lxml\"' to the BeautifulSoup constructor.\n",
      "\n",
      "  soup = BeautifulSoup(top_node)\n",
      "\n",
      "12/08/2021 05:07:49 Parse time: 1s | Save time: 0s\n"
     ]
    }
   ],
   "source": [
    "key = int(doc['_key'])\n",
    "segment_and_upload(key,key)"
   ]
  },
  {
   "cell_type": "code",
   "execution_count": 23,
   "id": "da9f4c9c",
   "metadata": {},
   "outputs": [
    {
     "name": "stdout",
     "output_type": "stream",
     "text": [
      "---\n",
      "Privacy and Freedom of Expression in the Age of Artificial Intelligence\n",
      "---\n",
      "1/29\n",
      "---\n",
      "Privacy and Freedom of Expression \n",
      "---\n",
      "In the Age of Artificial Intelligence\n",
      "---\n",
      "April 2018\n"
     ]
    }
   ],
   "source": [
    "d = collections.segmented_texts.fetchByExample({'source_doc_id':'Documents/32568617'},1000)\n",
    "for s in d:\n",
    "    print(\"---\")\n",
    "    print(s.content)"
   ]
  },
  {
   "cell_type": "code",
   "execution_count": 20,
   "id": "fce3bec5",
   "metadata": {},
   "outputs": [
    {
     "data": {
      "text/plain": [
       "0"
      ]
     },
     "execution_count": 20,
     "metadata": {},
     "output_type": "execute_result"
    }
   ],
   "source": [
    "len(d)"
   ]
  },
  {
   "cell_type": "code",
   "execution_count": 14,
   "id": "d08b175b",
   "metadata": {},
   "outputs": [
    {
     "name": "stdout",
     "output_type": "stream",
     "text": [
      "Privacy and Freedom of Expression in the Age of Artificial Intelligence\n",
      "1/29\n",
      "Privacy and Freedom of Expression \n",
      "In the Age of Artificial Intelligence\n",
      "April 2018\n"
     ]
    }
   ],
   "source": [
    "for a in d:\n",
    "    print(a.content)"
   ]
  },
  {
   "cell_type": "code",
   "execution_count": 11,
   "id": "d4aa7b98",
   "metadata": {},
   "outputs": [
    {
     "data": {
      "text/plain": [
       "0"
      ]
     },
     "execution_count": 11,
     "metadata": {},
     "output_type": "execute_result"
    }
   ],
   "source": [
    "len(collections.sentences.fetchByExample({db_fields.DOC_ID:doc['_id']},1000))"
   ]
  },
  {
   "cell_type": "code",
   "execution_count": 10,
   "id": "06fe7ec8",
   "metadata": {
    "scrolled": true
   },
   "outputs": [
    {
     "name": "stdout",
     "output_type": "stream",
     "text": [
      "===\n",
      "Unable to establish connection, perhaps arango is not running.\n",
      "===\n"
     ]
    },
    {
     "ename": "KeyboardInterrupt",
     "evalue": "",
     "output_type": "error",
     "traceback": [
      "\u001b[0;31m---------------------------------------------------------------------------\u001b[0m",
      "\u001b[0;31mKeyboardInterrupt\u001b[0m                         Traceback (most recent call last)",
      "\u001b[0;32m/tmp/ipykernel_1754/1476375434.py\u001b[0m in \u001b[0;36m<module>\u001b[0;34m\u001b[0m\n\u001b[0;32m----> 1\u001b[0;31m \u001b[0msent_docs\u001b[0m \u001b[0;34m=\u001b[0m \u001b[0;34m[\u001b[0m\u001b[0md\u001b[0m \u001b[0;32mfor\u001b[0m \u001b[0md\u001b[0m \u001b[0;32min\u001b[0m \u001b[0mcollections\u001b[0m\u001b[0;34m.\u001b[0m\u001b[0msentences\u001b[0m\u001b[0;34m.\u001b[0m\u001b[0mfetchByExample\u001b[0m\u001b[0;34m(\u001b[0m\u001b[0;34m{\u001b[0m\u001b[0mdb_fields\u001b[0m\u001b[0;34m.\u001b[0m\u001b[0mDOC_ID\u001b[0m\u001b[0;34m:\u001b[0m\u001b[0mdoc\u001b[0m\u001b[0;34m[\u001b[0m\u001b[0;34m'_id'\u001b[0m\u001b[0;34m]\u001b[0m\u001b[0;34m}\u001b[0m\u001b[0;34m,\u001b[0m\u001b[0;36m1000\u001b[0m\u001b[0;34m)\u001b[0m\u001b[0;34m]\u001b[0m\u001b[0;34m\u001b[0m\u001b[0;34m\u001b[0m\u001b[0m\n\u001b[0m",
      "\u001b[0;32m~/repos/AI-strategies-papers-regulations-monitoring/.venv/lib/python3.8/site-packages/pyArango/collection.py\u001b[0m in \u001b[0;36mfetchByExample\u001b[0;34m(self, exampleDict, batchSize, rawResults, **queryArgs)\u001b[0m\n\u001b[1;32m    720\u001b[0m     \u001b[0;32mdef\u001b[0m \u001b[0mfetchByExample\u001b[0m\u001b[0;34m(\u001b[0m\u001b[0mself\u001b[0m\u001b[0;34m,\u001b[0m \u001b[0mexampleDict\u001b[0m\u001b[0;34m,\u001b[0m \u001b[0mbatchSize\u001b[0m\u001b[0;34m,\u001b[0m \u001b[0mrawResults\u001b[0m \u001b[0;34m=\u001b[0m \u001b[0;32mFalse\u001b[0m\u001b[0;34m,\u001b[0m \u001b[0;34m**\u001b[0m\u001b[0mqueryArgs\u001b[0m\u001b[0;34m)\u001b[0m\u001b[0;34m:\u001b[0m\u001b[0;34m\u001b[0m\u001b[0;34m\u001b[0m\u001b[0m\n\u001b[1;32m    721\u001b[0m         \u001b[0;34m\"\"\"exampleDict should be something like {'age' : 28}\"\"\"\u001b[0m\u001b[0;34m\u001b[0m\u001b[0;34m\u001b[0m\u001b[0m\n\u001b[0;32m--> 722\u001b[0;31m         \u001b[0;32mreturn\u001b[0m \u001b[0mself\u001b[0m\u001b[0;34m.\u001b[0m\u001b[0msimpleQuery\u001b[0m\u001b[0;34m(\u001b[0m\u001b[0;34m'by-example'\u001b[0m\u001b[0;34m,\u001b[0m \u001b[0mrawResults\u001b[0m\u001b[0;34m,\u001b[0m \u001b[0mexample\u001b[0m \u001b[0;34m=\u001b[0m \u001b[0mexampleDict\u001b[0m\u001b[0;34m,\u001b[0m \u001b[0mbatchSize\u001b[0m \u001b[0;34m=\u001b[0m \u001b[0mbatchSize\u001b[0m\u001b[0;34m,\u001b[0m \u001b[0;34m**\u001b[0m\u001b[0mqueryArgs\u001b[0m\u001b[0;34m)\u001b[0m\u001b[0;34m\u001b[0m\u001b[0;34m\u001b[0m\u001b[0m\n\u001b[0m\u001b[1;32m    723\u001b[0m \u001b[0;34m\u001b[0m\u001b[0m\n\u001b[1;32m    724\u001b[0m     \u001b[0;32mdef\u001b[0m \u001b[0mfetchFirstExample\u001b[0m\u001b[0;34m(\u001b[0m\u001b[0mself\u001b[0m\u001b[0;34m,\u001b[0m \u001b[0mexampleDict\u001b[0m\u001b[0;34m,\u001b[0m \u001b[0mrawResults\u001b[0m \u001b[0;34m=\u001b[0m \u001b[0;32mFalse\u001b[0m\u001b[0;34m)\u001b[0m\u001b[0;34m:\u001b[0m\u001b[0;34m\u001b[0m\u001b[0;34m\u001b[0m\u001b[0m\n",
      "\u001b[0;32m~/repos/AI-strategies-papers-regulations-monitoring/.venv/lib/python3.8/site-packages/pyArango/collection.py\u001b[0m in \u001b[0;36msimpleQuery\u001b[0;34m(self, queryType, rawResults, **queryArgs)\u001b[0m\n\u001b[1;32m    737\u001b[0m         \u001b[0mIf\u001b[0m \u001b[0mrawResults\u001b[0m\u001b[0;34m,\u001b[0m \u001b[0mthe\u001b[0m \u001b[0mquery\u001b[0m \u001b[0mwill\u001b[0m \u001b[0;32mreturn\u001b[0m \u001b[0mdictionaries\u001b[0m \u001b[0minstead\u001b[0m \u001b[0mof\u001b[0m \u001b[0mDocument\u001b[0m \u001b[0mobjetcs\u001b[0m\u001b[0;34m.\u001b[0m\u001b[0;34m\u001b[0m\u001b[0;34m\u001b[0m\u001b[0m\n\u001b[1;32m    738\u001b[0m         \"\"\"\n\u001b[0;32m--> 739\u001b[0;31m         \u001b[0;32mreturn\u001b[0m \u001b[0mSimpleQuery\u001b[0m\u001b[0;34m(\u001b[0m\u001b[0mself\u001b[0m\u001b[0;34m,\u001b[0m \u001b[0mqueryType\u001b[0m\u001b[0;34m,\u001b[0m \u001b[0mrawResults\u001b[0m\u001b[0;34m,\u001b[0m \u001b[0;34m**\u001b[0m\u001b[0mqueryArgs\u001b[0m\u001b[0;34m)\u001b[0m\u001b[0;34m\u001b[0m\u001b[0;34m\u001b[0m\u001b[0m\n\u001b[0m\u001b[1;32m    740\u001b[0m \u001b[0;34m\u001b[0m\u001b[0m\n\u001b[1;32m    741\u001b[0m     \u001b[0;32mdef\u001b[0m \u001b[0maction\u001b[0m\u001b[0;34m(\u001b[0m\u001b[0mself\u001b[0m\u001b[0;34m,\u001b[0m \u001b[0mmethod\u001b[0m\u001b[0;34m,\u001b[0m \u001b[0maction\u001b[0m\u001b[0;34m,\u001b[0m \u001b[0;34m**\u001b[0m\u001b[0mparams\u001b[0m\u001b[0;34m)\u001b[0m\u001b[0;34m:\u001b[0m\u001b[0;34m\u001b[0m\u001b[0;34m\u001b[0m\u001b[0m\n",
      "\u001b[0;32m~/repos/AI-strategies-papers-regulations-monitoring/.venv/lib/python3.8/site-packages/pyArango/query.py\u001b[0m in \u001b[0;36m__init__\u001b[0;34m(self, collection, queryType, rawResults, json_encoder, **queryArgs)\u001b[0m\n\u001b[1;32m    236\u001b[0m         \u001b[0mpayload\u001b[0m \u001b[0;34m=\u001b[0m \u001b[0mjson\u001b[0m\u001b[0;34m.\u001b[0m\u001b[0mdumps\u001b[0m\u001b[0;34m(\u001b[0m\u001b[0mpayload\u001b[0m\u001b[0;34m,\u001b[0m \u001b[0mcls\u001b[0m\u001b[0;34m=\u001b[0m\u001b[0mjson_encoder\u001b[0m\u001b[0;34m,\u001b[0m \u001b[0mdefault\u001b[0m\u001b[0;34m=\u001b[0m\u001b[0mstr\u001b[0m\u001b[0;34m)\u001b[0m\u001b[0;34m\u001b[0m\u001b[0;34m\u001b[0m\u001b[0m\n\u001b[1;32m    237\u001b[0m         \u001b[0mURL\u001b[0m \u001b[0;34m=\u001b[0m \u001b[0;34m\"%s/simple/%s\"\u001b[0m \u001b[0;34m%\u001b[0m \u001b[0;34m(\u001b[0m\u001b[0mcollection\u001b[0m\u001b[0;34m.\u001b[0m\u001b[0mdatabase\u001b[0m\u001b[0;34m.\u001b[0m\u001b[0mgetURL\u001b[0m\u001b[0;34m(\u001b[0m\u001b[0;34m)\u001b[0m\u001b[0;34m,\u001b[0m \u001b[0mqueryType\u001b[0m\u001b[0;34m)\u001b[0m\u001b[0;34m\u001b[0m\u001b[0;34m\u001b[0m\u001b[0m\n\u001b[0;32m--> 238\u001b[0;31m         \u001b[0mrequest\u001b[0m \u001b[0;34m=\u001b[0m \u001b[0mself\u001b[0m\u001b[0;34m.\u001b[0m\u001b[0mconnection\u001b[0m\u001b[0;34m.\u001b[0m\u001b[0msession\u001b[0m\u001b[0;34m.\u001b[0m\u001b[0mput\u001b[0m\u001b[0;34m(\u001b[0m\u001b[0mURL\u001b[0m\u001b[0;34m,\u001b[0m \u001b[0mdata\u001b[0m\u001b[0;34m=\u001b[0m\u001b[0mpayload\u001b[0m\u001b[0;34m)\u001b[0m\u001b[0;34m\u001b[0m\u001b[0;34m\u001b[0m\u001b[0m\n\u001b[0m\u001b[1;32m    239\u001b[0m \u001b[0;34m\u001b[0m\u001b[0m\n\u001b[1;32m    240\u001b[0m         \u001b[0mQuery\u001b[0m\u001b[0;34m.\u001b[0m\u001b[0m__init__\u001b[0m\u001b[0;34m(\u001b[0m\u001b[0mself\u001b[0m\u001b[0;34m,\u001b[0m \u001b[0mrequest\u001b[0m\u001b[0;34m,\u001b[0m \u001b[0mcollection\u001b[0m\u001b[0;34m.\u001b[0m\u001b[0mdatabase\u001b[0m\u001b[0;34m,\u001b[0m \u001b[0mrawResults\u001b[0m\u001b[0;34m)\u001b[0m\u001b[0;34m\u001b[0m\u001b[0;34m\u001b[0m\u001b[0m\n",
      "\u001b[0;32m~/repos/AI-strategies-papers-regulations-monitoring/.venv/lib/python3.8/site-packages/pyArango/connection.py\u001b[0m in \u001b[0;36m__call__\u001b[0;34m(self, *args, **kwargs)\u001b[0m\n\u001b[1;32m     54\u001b[0m                 \u001b[0mretry\u001b[0m \u001b[0;34m=\u001b[0m \u001b[0;36m0\u001b[0m\u001b[0;34m\u001b[0m\u001b[0;34m\u001b[0m\u001b[0m\n\u001b[1;32m     55\u001b[0m                 \u001b[0;32mwhile\u001b[0m \u001b[0mstatus_code\u001b[0m \u001b[0;34m==\u001b[0m \u001b[0;36m1200\u001b[0m \u001b[0;32mand\u001b[0m \u001b[0mretry\u001b[0m \u001b[0;34m<\u001b[0m \u001b[0mself\u001b[0m\u001b[0;34m.\u001b[0m\u001b[0mmax_conflict_retries\u001b[0m \u001b[0;34m:\u001b[0m\u001b[0;34m\u001b[0m\u001b[0;34m\u001b[0m\u001b[0m\n\u001b[0;32m---> 56\u001b[0;31m                     \u001b[0mret\u001b[0m \u001b[0;34m=\u001b[0m \u001b[0mself\u001b[0m\u001b[0;34m.\u001b[0m\u001b[0mfct\u001b[0m\u001b[0;34m(\u001b[0m\u001b[0;34m*\u001b[0m\u001b[0margs\u001b[0m\u001b[0;34m,\u001b[0m \u001b[0;34m**\u001b[0m\u001b[0mkwargs\u001b[0m\u001b[0;34m)\u001b[0m\u001b[0;34m\u001b[0m\u001b[0;34m\u001b[0m\u001b[0m\n\u001b[0m\u001b[1;32m     57\u001b[0m                     \u001b[0mstatus_code\u001b[0m \u001b[0;34m=\u001b[0m \u001b[0mret\u001b[0m\u001b[0;34m.\u001b[0m\u001b[0mstatus_code\u001b[0m\u001b[0;34m\u001b[0m\u001b[0;34m\u001b[0m\u001b[0m\n\u001b[1;32m     58\u001b[0m                     \u001b[0mretry\u001b[0m \u001b[0;34m+=\u001b[0m \u001b[0;36m1\u001b[0m\u001b[0;34m\u001b[0m\u001b[0;34m\u001b[0m\u001b[0m\n",
      "\u001b[0;32m~/repos/AI-strategies-papers-regulations-monitoring/.venv/lib/python3.8/site-packages/requests/sessions.py\u001b[0m in \u001b[0;36mput\u001b[0;34m(self, url, data, **kwargs)\u001b[0m\n\u001b[1;32m    600\u001b[0m         \"\"\"\n\u001b[1;32m    601\u001b[0m \u001b[0;34m\u001b[0m\u001b[0m\n\u001b[0;32m--> 602\u001b[0;31m         \u001b[0;32mreturn\u001b[0m \u001b[0mself\u001b[0m\u001b[0;34m.\u001b[0m\u001b[0mrequest\u001b[0m\u001b[0;34m(\u001b[0m\u001b[0;34m'PUT'\u001b[0m\u001b[0;34m,\u001b[0m \u001b[0murl\u001b[0m\u001b[0;34m,\u001b[0m \u001b[0mdata\u001b[0m\u001b[0;34m=\u001b[0m\u001b[0mdata\u001b[0m\u001b[0;34m,\u001b[0m \u001b[0;34m**\u001b[0m\u001b[0mkwargs\u001b[0m\u001b[0;34m)\u001b[0m\u001b[0;34m\u001b[0m\u001b[0;34m\u001b[0m\u001b[0m\n\u001b[0m\u001b[1;32m    603\u001b[0m \u001b[0;34m\u001b[0m\u001b[0m\n\u001b[1;32m    604\u001b[0m     \u001b[0;32mdef\u001b[0m \u001b[0mpatch\u001b[0m\u001b[0;34m(\u001b[0m\u001b[0mself\u001b[0m\u001b[0;34m,\u001b[0m \u001b[0murl\u001b[0m\u001b[0;34m,\u001b[0m \u001b[0mdata\u001b[0m\u001b[0;34m=\u001b[0m\u001b[0;32mNone\u001b[0m\u001b[0;34m,\u001b[0m \u001b[0;34m**\u001b[0m\u001b[0mkwargs\u001b[0m\u001b[0;34m)\u001b[0m\u001b[0;34m:\u001b[0m\u001b[0;34m\u001b[0m\u001b[0;34m\u001b[0m\u001b[0m\n",
      "\u001b[0;32m~/repos/AI-strategies-papers-regulations-monitoring/.venv/lib/python3.8/site-packages/requests/sessions.py\u001b[0m in \u001b[0;36mrequest\u001b[0;34m(self, method, url, params, data, headers, cookies, files, auth, timeout, allow_redirects, proxies, hooks, stream, verify, cert, json)\u001b[0m\n\u001b[1;32m    540\u001b[0m         }\n\u001b[1;32m    541\u001b[0m         \u001b[0msend_kwargs\u001b[0m\u001b[0;34m.\u001b[0m\u001b[0mupdate\u001b[0m\u001b[0;34m(\u001b[0m\u001b[0msettings\u001b[0m\u001b[0;34m)\u001b[0m\u001b[0;34m\u001b[0m\u001b[0;34m\u001b[0m\u001b[0m\n\u001b[0;32m--> 542\u001b[0;31m         \u001b[0mresp\u001b[0m \u001b[0;34m=\u001b[0m \u001b[0mself\u001b[0m\u001b[0;34m.\u001b[0m\u001b[0msend\u001b[0m\u001b[0;34m(\u001b[0m\u001b[0mprep\u001b[0m\u001b[0;34m,\u001b[0m \u001b[0;34m**\u001b[0m\u001b[0msend_kwargs\u001b[0m\u001b[0;34m)\u001b[0m\u001b[0;34m\u001b[0m\u001b[0;34m\u001b[0m\u001b[0m\n\u001b[0m\u001b[1;32m    543\u001b[0m \u001b[0;34m\u001b[0m\u001b[0m\n\u001b[1;32m    544\u001b[0m         \u001b[0;32mreturn\u001b[0m \u001b[0mresp\u001b[0m\u001b[0;34m\u001b[0m\u001b[0;34m\u001b[0m\u001b[0m\n",
      "\u001b[0;32m~/repos/AI-strategies-papers-regulations-monitoring/.venv/lib/python3.8/site-packages/requests/sessions.py\u001b[0m in \u001b[0;36msend\u001b[0;34m(self, request, **kwargs)\u001b[0m\n\u001b[1;32m    653\u001b[0m \u001b[0;34m\u001b[0m\u001b[0m\n\u001b[1;32m    654\u001b[0m         \u001b[0;31m# Send the request\u001b[0m\u001b[0;34m\u001b[0m\u001b[0;34m\u001b[0m\u001b[0;34m\u001b[0m\u001b[0m\n\u001b[0;32m--> 655\u001b[0;31m         \u001b[0mr\u001b[0m \u001b[0;34m=\u001b[0m \u001b[0madapter\u001b[0m\u001b[0;34m.\u001b[0m\u001b[0msend\u001b[0m\u001b[0;34m(\u001b[0m\u001b[0mrequest\u001b[0m\u001b[0;34m,\u001b[0m \u001b[0;34m**\u001b[0m\u001b[0mkwargs\u001b[0m\u001b[0;34m)\u001b[0m\u001b[0;34m\u001b[0m\u001b[0;34m\u001b[0m\u001b[0m\n\u001b[0m\u001b[1;32m    656\u001b[0m \u001b[0;34m\u001b[0m\u001b[0m\n\u001b[1;32m    657\u001b[0m         \u001b[0;31m# Total elapsed time of the request (approximately)\u001b[0m\u001b[0;34m\u001b[0m\u001b[0;34m\u001b[0m\u001b[0;34m\u001b[0m\u001b[0m\n",
      "\u001b[0;32m~/repos/AI-strategies-papers-regulations-monitoring/.venv/lib/python3.8/site-packages/requests/adapters.py\u001b[0m in \u001b[0;36msend\u001b[0;34m(self, request, stream, timeout, verify, cert, proxies)\u001b[0m\n\u001b[1;32m    437\u001b[0m         \u001b[0;32mtry\u001b[0m\u001b[0;34m:\u001b[0m\u001b[0;34m\u001b[0m\u001b[0;34m\u001b[0m\u001b[0m\n\u001b[1;32m    438\u001b[0m             \u001b[0;32mif\u001b[0m \u001b[0;32mnot\u001b[0m \u001b[0mchunked\u001b[0m\u001b[0;34m:\u001b[0m\u001b[0;34m\u001b[0m\u001b[0;34m\u001b[0m\u001b[0m\n\u001b[0;32m--> 439\u001b[0;31m                 resp = conn.urlopen(\n\u001b[0m\u001b[1;32m    440\u001b[0m                     \u001b[0mmethod\u001b[0m\u001b[0;34m=\u001b[0m\u001b[0mrequest\u001b[0m\u001b[0;34m.\u001b[0m\u001b[0mmethod\u001b[0m\u001b[0;34m,\u001b[0m\u001b[0;34m\u001b[0m\u001b[0;34m\u001b[0m\u001b[0m\n\u001b[1;32m    441\u001b[0m                     \u001b[0murl\u001b[0m\u001b[0;34m=\u001b[0m\u001b[0murl\u001b[0m\u001b[0;34m,\u001b[0m\u001b[0;34m\u001b[0m\u001b[0;34m\u001b[0m\u001b[0m\n",
      "\u001b[0;32m~/repos/AI-strategies-papers-regulations-monitoring/.venv/lib/python3.8/site-packages/urllib3/connectionpool.py\u001b[0m in \u001b[0;36murlopen\u001b[0;34m(self, method, url, body, headers, retries, redirect, assert_same_host, timeout, pool_timeout, release_conn, chunked, body_pos, **response_kw)\u001b[0m\n\u001b[1;32m    697\u001b[0m \u001b[0;34m\u001b[0m\u001b[0m\n\u001b[1;32m    698\u001b[0m             \u001b[0;31m# Make the request on the httplib connection object.\u001b[0m\u001b[0;34m\u001b[0m\u001b[0;34m\u001b[0m\u001b[0;34m\u001b[0m\u001b[0m\n\u001b[0;32m--> 699\u001b[0;31m             httplib_response = self._make_request(\n\u001b[0m\u001b[1;32m    700\u001b[0m                 \u001b[0mconn\u001b[0m\u001b[0;34m,\u001b[0m\u001b[0;34m\u001b[0m\u001b[0;34m\u001b[0m\u001b[0m\n\u001b[1;32m    701\u001b[0m                 \u001b[0mmethod\u001b[0m\u001b[0;34m,\u001b[0m\u001b[0;34m\u001b[0m\u001b[0;34m\u001b[0m\u001b[0m\n",
      "\u001b[0;32m~/repos/AI-strategies-papers-regulations-monitoring/.venv/lib/python3.8/site-packages/urllib3/connectionpool.py\u001b[0m in \u001b[0;36m_make_request\u001b[0;34m(self, conn, method, url, timeout, chunked, **httplib_request_kw)\u001b[0m\n\u001b[1;32m    443\u001b[0m                     \u001b[0;31m# Python 3 (including for exceptions like SystemExit).\u001b[0m\u001b[0;34m\u001b[0m\u001b[0;34m\u001b[0m\u001b[0;34m\u001b[0m\u001b[0m\n\u001b[1;32m    444\u001b[0m                     \u001b[0;31m# Otherwise it looks like a bug in the code.\u001b[0m\u001b[0;34m\u001b[0m\u001b[0;34m\u001b[0m\u001b[0;34m\u001b[0m\u001b[0m\n\u001b[0;32m--> 445\u001b[0;31m                     \u001b[0msix\u001b[0m\u001b[0;34m.\u001b[0m\u001b[0mraise_from\u001b[0m\u001b[0;34m(\u001b[0m\u001b[0me\u001b[0m\u001b[0;34m,\u001b[0m \u001b[0;32mNone\u001b[0m\u001b[0;34m)\u001b[0m\u001b[0;34m\u001b[0m\u001b[0;34m\u001b[0m\u001b[0m\n\u001b[0m\u001b[1;32m    446\u001b[0m         \u001b[0;32mexcept\u001b[0m \u001b[0;34m(\u001b[0m\u001b[0mSocketTimeout\u001b[0m\u001b[0;34m,\u001b[0m \u001b[0mBaseSSLError\u001b[0m\u001b[0;34m,\u001b[0m \u001b[0mSocketError\u001b[0m\u001b[0;34m)\u001b[0m \u001b[0;32mas\u001b[0m \u001b[0me\u001b[0m\u001b[0;34m:\u001b[0m\u001b[0;34m\u001b[0m\u001b[0;34m\u001b[0m\u001b[0m\n\u001b[1;32m    447\u001b[0m             \u001b[0mself\u001b[0m\u001b[0;34m.\u001b[0m\u001b[0m_raise_timeout\u001b[0m\u001b[0;34m(\u001b[0m\u001b[0merr\u001b[0m\u001b[0;34m=\u001b[0m\u001b[0me\u001b[0m\u001b[0;34m,\u001b[0m \u001b[0murl\u001b[0m\u001b[0;34m=\u001b[0m\u001b[0murl\u001b[0m\u001b[0;34m,\u001b[0m \u001b[0mtimeout_value\u001b[0m\u001b[0;34m=\u001b[0m\u001b[0mread_timeout\u001b[0m\u001b[0;34m)\u001b[0m\u001b[0;34m\u001b[0m\u001b[0;34m\u001b[0m\u001b[0m\n",
      "\u001b[0;32m~/repos/AI-strategies-papers-regulations-monitoring/.venv/lib/python3.8/site-packages/urllib3/packages/six.py\u001b[0m in \u001b[0;36mraise_from\u001b[0;34m(value, from_value)\u001b[0m\n",
      "\u001b[0;32m~/repos/AI-strategies-papers-regulations-monitoring/.venv/lib/python3.8/site-packages/urllib3/connectionpool.py\u001b[0m in \u001b[0;36m_make_request\u001b[0;34m(self, conn, method, url, timeout, chunked, **httplib_request_kw)\u001b[0m\n\u001b[1;32m    438\u001b[0m                 \u001b[0;31m# Python 3\u001b[0m\u001b[0;34m\u001b[0m\u001b[0;34m\u001b[0m\u001b[0;34m\u001b[0m\u001b[0m\n\u001b[1;32m    439\u001b[0m                 \u001b[0;32mtry\u001b[0m\u001b[0;34m:\u001b[0m\u001b[0;34m\u001b[0m\u001b[0;34m\u001b[0m\u001b[0m\n\u001b[0;32m--> 440\u001b[0;31m                     \u001b[0mhttplib_response\u001b[0m \u001b[0;34m=\u001b[0m \u001b[0mconn\u001b[0m\u001b[0;34m.\u001b[0m\u001b[0mgetresponse\u001b[0m\u001b[0;34m(\u001b[0m\u001b[0;34m)\u001b[0m\u001b[0;34m\u001b[0m\u001b[0;34m\u001b[0m\u001b[0m\n\u001b[0m\u001b[1;32m    441\u001b[0m                 \u001b[0;32mexcept\u001b[0m \u001b[0mBaseException\u001b[0m \u001b[0;32mas\u001b[0m \u001b[0me\u001b[0m\u001b[0;34m:\u001b[0m\u001b[0;34m\u001b[0m\u001b[0;34m\u001b[0m\u001b[0m\n\u001b[1;32m    442\u001b[0m                     \u001b[0;31m# Remove the TypeError from the exception chain in\u001b[0m\u001b[0;34m\u001b[0m\u001b[0;34m\u001b[0m\u001b[0;34m\u001b[0m\u001b[0m\n",
      "\u001b[0;32m/usr/lib/python3.8/http/client.py\u001b[0m in \u001b[0;36mgetresponse\u001b[0;34m(self)\u001b[0m\n\u001b[1;32m   1342\u001b[0m         \u001b[0;32mtry\u001b[0m\u001b[0;34m:\u001b[0m\u001b[0;34m\u001b[0m\u001b[0;34m\u001b[0m\u001b[0m\n\u001b[1;32m   1343\u001b[0m             \u001b[0;32mtry\u001b[0m\u001b[0;34m:\u001b[0m\u001b[0;34m\u001b[0m\u001b[0;34m\u001b[0m\u001b[0m\n\u001b[0;32m-> 1344\u001b[0;31m                 \u001b[0mresponse\u001b[0m\u001b[0;34m.\u001b[0m\u001b[0mbegin\u001b[0m\u001b[0;34m(\u001b[0m\u001b[0;34m)\u001b[0m\u001b[0;34m\u001b[0m\u001b[0;34m\u001b[0m\u001b[0m\n\u001b[0m\u001b[1;32m   1345\u001b[0m             \u001b[0;32mexcept\u001b[0m \u001b[0mConnectionError\u001b[0m\u001b[0;34m:\u001b[0m\u001b[0;34m\u001b[0m\u001b[0;34m\u001b[0m\u001b[0m\n\u001b[1;32m   1346\u001b[0m                 \u001b[0mself\u001b[0m\u001b[0;34m.\u001b[0m\u001b[0mclose\u001b[0m\u001b[0;34m(\u001b[0m\u001b[0;34m)\u001b[0m\u001b[0;34m\u001b[0m\u001b[0;34m\u001b[0m\u001b[0m\n",
      "\u001b[0;32m/usr/lib/python3.8/http/client.py\u001b[0m in \u001b[0;36mbegin\u001b[0;34m(self)\u001b[0m\n\u001b[1;32m    305\u001b[0m         \u001b[0;31m# read until we get a non-100 response\u001b[0m\u001b[0;34m\u001b[0m\u001b[0;34m\u001b[0m\u001b[0;34m\u001b[0m\u001b[0m\n\u001b[1;32m    306\u001b[0m         \u001b[0;32mwhile\u001b[0m \u001b[0;32mTrue\u001b[0m\u001b[0;34m:\u001b[0m\u001b[0;34m\u001b[0m\u001b[0;34m\u001b[0m\u001b[0m\n\u001b[0;32m--> 307\u001b[0;31m             \u001b[0mversion\u001b[0m\u001b[0;34m,\u001b[0m \u001b[0mstatus\u001b[0m\u001b[0;34m,\u001b[0m \u001b[0mreason\u001b[0m \u001b[0;34m=\u001b[0m \u001b[0mself\u001b[0m\u001b[0;34m.\u001b[0m\u001b[0m_read_status\u001b[0m\u001b[0;34m(\u001b[0m\u001b[0;34m)\u001b[0m\u001b[0;34m\u001b[0m\u001b[0;34m\u001b[0m\u001b[0m\n\u001b[0m\u001b[1;32m    308\u001b[0m             \u001b[0;32mif\u001b[0m \u001b[0mstatus\u001b[0m \u001b[0;34m!=\u001b[0m \u001b[0mCONTINUE\u001b[0m\u001b[0;34m:\u001b[0m\u001b[0;34m\u001b[0m\u001b[0;34m\u001b[0m\u001b[0m\n\u001b[1;32m    309\u001b[0m                 \u001b[0;32mbreak\u001b[0m\u001b[0;34m\u001b[0m\u001b[0;34m\u001b[0m\u001b[0m\n",
      "\u001b[0;32m/usr/lib/python3.8/http/client.py\u001b[0m in \u001b[0;36m_read_status\u001b[0;34m(self)\u001b[0m\n\u001b[1;32m    266\u001b[0m \u001b[0;34m\u001b[0m\u001b[0m\n\u001b[1;32m    267\u001b[0m     \u001b[0;32mdef\u001b[0m \u001b[0m_read_status\u001b[0m\u001b[0;34m(\u001b[0m\u001b[0mself\u001b[0m\u001b[0;34m)\u001b[0m\u001b[0;34m:\u001b[0m\u001b[0;34m\u001b[0m\u001b[0;34m\u001b[0m\u001b[0m\n\u001b[0;32m--> 268\u001b[0;31m         \u001b[0mline\u001b[0m \u001b[0;34m=\u001b[0m \u001b[0mstr\u001b[0m\u001b[0;34m(\u001b[0m\u001b[0mself\u001b[0m\u001b[0;34m.\u001b[0m\u001b[0mfp\u001b[0m\u001b[0;34m.\u001b[0m\u001b[0mreadline\u001b[0m\u001b[0;34m(\u001b[0m\u001b[0m_MAXLINE\u001b[0m \u001b[0;34m+\u001b[0m \u001b[0;36m1\u001b[0m\u001b[0;34m)\u001b[0m\u001b[0;34m,\u001b[0m \u001b[0;34m\"iso-8859-1\"\u001b[0m\u001b[0;34m)\u001b[0m\u001b[0;34m\u001b[0m\u001b[0;34m\u001b[0m\u001b[0m\n\u001b[0m\u001b[1;32m    269\u001b[0m         \u001b[0;32mif\u001b[0m \u001b[0mlen\u001b[0m\u001b[0;34m(\u001b[0m\u001b[0mline\u001b[0m\u001b[0;34m)\u001b[0m \u001b[0;34m>\u001b[0m \u001b[0m_MAXLINE\u001b[0m\u001b[0;34m:\u001b[0m\u001b[0;34m\u001b[0m\u001b[0;34m\u001b[0m\u001b[0m\n\u001b[1;32m    270\u001b[0m             \u001b[0;32mraise\u001b[0m \u001b[0mLineTooLong\u001b[0m\u001b[0;34m(\u001b[0m\u001b[0;34m\"status line\"\u001b[0m\u001b[0;34m)\u001b[0m\u001b[0;34m\u001b[0m\u001b[0;34m\u001b[0m\u001b[0m\n",
      "\u001b[0;32m/usr/lib/python3.8/socket.py\u001b[0m in \u001b[0;36mreadinto\u001b[0;34m(self, b)\u001b[0m\n\u001b[1;32m    667\u001b[0m         \u001b[0;32mwhile\u001b[0m \u001b[0;32mTrue\u001b[0m\u001b[0;34m:\u001b[0m\u001b[0;34m\u001b[0m\u001b[0;34m\u001b[0m\u001b[0m\n\u001b[1;32m    668\u001b[0m             \u001b[0;32mtry\u001b[0m\u001b[0;34m:\u001b[0m\u001b[0;34m\u001b[0m\u001b[0;34m\u001b[0m\u001b[0m\n\u001b[0;32m--> 669\u001b[0;31m                 \u001b[0;32mreturn\u001b[0m \u001b[0mself\u001b[0m\u001b[0;34m.\u001b[0m\u001b[0m_sock\u001b[0m\u001b[0;34m.\u001b[0m\u001b[0mrecv_into\u001b[0m\u001b[0;34m(\u001b[0m\u001b[0mb\u001b[0m\u001b[0;34m)\u001b[0m\u001b[0;34m\u001b[0m\u001b[0;34m\u001b[0m\u001b[0m\n\u001b[0m\u001b[1;32m    670\u001b[0m             \u001b[0;32mexcept\u001b[0m \u001b[0mtimeout\u001b[0m\u001b[0;34m:\u001b[0m\u001b[0;34m\u001b[0m\u001b[0;34m\u001b[0m\u001b[0m\n\u001b[1;32m    671\u001b[0m                 \u001b[0mself\u001b[0m\u001b[0;34m.\u001b[0m\u001b[0m_timeout_occurred\u001b[0m \u001b[0;34m=\u001b[0m \u001b[0;32mTrue\u001b[0m\u001b[0;34m\u001b[0m\u001b[0;34m\u001b[0m\u001b[0m\n",
      "\u001b[0;31mKeyboardInterrupt\u001b[0m: "
     ]
    }
   ],
   "source": [
    "sent_docs = [d for d in collections.sentences.fetchByExample({db_fields.DOC_ID:doc['_id']},1000)]"
   ]
  },
  {
   "cell_type": "code",
   "execution_count": 10,
   "id": "5127347d",
   "metadata": {},
   "outputs": [
    {
     "data": {
      "text/plain": [
       "'Documents/26774830'"
      ]
     },
     "execution_count": 10,
     "metadata": {},
     "output_type": "execute_result"
    }
   ],
   "source": [
    "doc['_id']"
   ]
  },
  {
   "cell_type": "code",
   "execution_count": 15,
   "id": "f3e4d8e1",
   "metadata": {},
   "outputs": [],
   "source": [
    "sent_docs = collections.sentences.fetchByExample({db_fields.DOC_ID:doc['_id']},1000)"
   ]
  },
  {
   "cell_type": "code",
   "execution_count": 17,
   "id": "e0152ce1",
   "metadata": {},
   "outputs": [
    {
     "data": {
      "text/plain": [
       "0"
      ]
     },
     "execution_count": 17,
     "metadata": {},
     "output_type": "execute_result"
    }
   ],
   "source": [
    "len(sent_docs)"
   ]
  },
  {
   "cell_type": "code",
   "execution_count": 13,
   "id": "9694bc2d",
   "metadata": {},
   "outputs": [
    {
     "data": {
      "text/plain": [
       "<Index of type persistent>"
      ]
     },
     "execution_count": 13,
     "metadata": {},
     "output_type": "execute_result"
    }
   ],
   "source": [
    "collections.sentences.ensurePersistentIndex(['source_doc_id','sequence_number','sentence_number'],unique=True)\n",
    "collections.sentences.ensurePersistentIndex(['source_doc_id'])"
   ]
  },
  {
   "cell_type": "code",
   "execution_count": 14,
   "id": "7f8e977a",
   "metadata": {},
   "outputs": [
    {
     "data": {
      "text/plain": [
       "<Index of type persistent>"
      ]
     },
     "execution_count": 14,
     "metadata": {},
     "output_type": "execute_result"
    }
   ],
   "source": []
  },
  {
   "cell_type": "markdown",
   "id": "0d3027bc",
   "metadata": {},
   "source": [
    "# Migrate to new structure"
   ]
  },
  {
   "cell_type": "code",
   "execution_count": 11,
   "id": "4c4cc367",
   "metadata": {},
   "outputs": [
    {
     "data": {
      "text/plain": [
       "<itertools.takewhile at 0x7fa89629b300>"
      ]
     },
     "execution_count": 11,
     "metadata": {},
     "output_type": "execute_result"
    }
   ],
   "source": [
    "for i, batch in enumerate(\n",
    "    fetch_batches_until_empty(\n",
    "        \"\"\"FOR x in Sentences FILTER not IS_ARRAY(x.embedding) LIMIT 10 RETURN x \"\"\"\n",
    "    )\n",
    "):\n",
    "    print(\"processing batch:\", i)\n",
    "    for a in batch:\n",
    "        emb = a[db_fields.EMBEDDING]\n",
    "        a[db_fields.EMBEDDING] = dict()\n",
    "        a[db_fields.EMBEDDING][db_fields.EmbeddingType.LABSE] = emb\n",
    "        to_save.append(a)\n",
    "    collections.sentences.bulkSave(to_save, onDuplicate=\"update\")"
   ]
  },
  {
   "cell_type": "code",
   "execution_count": 22,
   "id": "603cb696",
   "metadata": {},
   "outputs": [
    {
     "name": "stdout",
     "output_type": "stream",
     "text": [
      "processing batch: 0\n",
      "processing batch: 1\n",
      "processing batch: 2\n",
      "processing batch: 3\n",
      "processing batch: 4\n",
      "processing batch: 5\n",
      "processing batch: 6\n",
      "processing batch: 7\n",
      "processing batch: 8\n",
      "processing batch: 9\n",
      "processing batch: 10\n",
      "processing batch: 11\n",
      "processing batch: 12\n",
      "processing batch: 13\n",
      "processing batch: 14\n",
      "processing batch: 15\n",
      "processing batch: 16\n",
      "processing batch: 17\n",
      "processing batch: 18\n",
      "processing batch: 19\n",
      "processing batch: 20\n",
      "processing batch: 21\n",
      "processing batch: 22\n",
      "processing batch: 23\n",
      "processing batch: 24\n",
      "processing batch: 25\n",
      "processing batch: 26\n",
      "processing batch: 27\n",
      "processing batch: 28\n",
      "processing batch: 29\n",
      "processing batch: 30\n",
      "processing batch: 31\n",
      "processing batch: 32\n",
      "processing batch: 33\n",
      "processing batch: 34\n",
      "processing batch: 35\n",
      "processing batch: 36\n",
      "processing batch: 37\n",
      "processing batch: 38\n",
      "processing batch: 39\n",
      "processing batch: 40\n",
      "processing batch: 41\n",
      "processing batch: 42\n",
      "processing batch: 43\n",
      "processing batch: 44\n",
      "processing batch: 45\n",
      "processing batch: 46\n",
      "processing batch: 47\n",
      "processing batch: 48\n",
      "processing batch: 49\n",
      "processing batch: 50\n",
      "processing batch: 51\n",
      "processing batch: 52\n",
      "processing batch: 53\n",
      "processing batch: 54\n",
      "processing batch: 55\n",
      "processing batch: 56\n",
      "processing batch: 57\n",
      "processing batch: 58\n",
      "processing batch: 59\n",
      "processing batch: 60\n",
      "processing batch: 61\n",
      "processing batch: 62\n",
      "processing batch: 63\n",
      "processing batch: 64\n",
      "processing batch: 65\n",
      "processing batch: 66\n",
      "processing batch: 67\n",
      "processing batch: 68\n",
      "processing batch: 69\n",
      "processing batch: 70\n",
      "processing batch: 71\n",
      "processing batch: 72\n",
      "processing batch: 73\n",
      "processing batch: 74\n",
      "processing batch: 75\n",
      "processing batch: 76\n",
      "processing batch: 77\n",
      "processing batch: 78\n",
      "processing batch: 79\n",
      "processing batch: 80\n",
      "processing batch: 81\n",
      "processing batch: 82\n",
      "processing batch: 83\n",
      "processing batch: 84\n",
      "processing batch: 85\n",
      "processing batch: 86\n",
      "processing batch: 87\n",
      "processing batch: 88\n",
      "processing batch: 89\n",
      "processing batch: 90\n",
      "processing batch: 91\n",
      "processing batch: 92\n",
      "processing batch: 93\n",
      "processing batch: 94\n",
      "processing batch: 95\n",
      "processing batch: 96\n",
      "processing batch: 97\n",
      "processing batch: 98\n",
      "processing batch: 99\n",
      "processing batch: 100\n",
      "processing batch: 101\n",
      "processing batch: 102\n",
      "processing batch: 103\n",
      "processing batch: 104\n",
      "processing batch: 105\n",
      "processing batch: 106\n",
      "processing batch: 107\n",
      "processing batch: 108\n",
      "===\n",
      "Unable to establish connection, perhaps arango is not running.\n",
      "===\n"
     ]
    },
    {
     "ename": "KeyboardInterrupt",
     "evalue": "",
     "output_type": "error",
     "traceback": [
      "\u001b[0;31m---------------------------------------------------------------------------\u001b[0m",
      "\u001b[0;31mIndexError\u001b[0m                                Traceback (most recent call last)",
      "\u001b[0;32m~/repos/AI-strategies-papers-regulations-monitoring/.venv/lib/python3.8/site-packages/pyArango/query.py\u001b[0m in \u001b[0;36m__next__\u001b[0;34m(self)\u001b[0m\n\u001b[1;32m    120\u001b[0m         \u001b[0;32mtry\u001b[0m\u001b[0;34m:\u001b[0m\u001b[0;34m\u001b[0m\u001b[0;34m\u001b[0m\u001b[0m\n\u001b[0;32m--> 121\u001b[0;31m             \u001b[0mv\u001b[0m \u001b[0;34m=\u001b[0m \u001b[0mself\u001b[0m\u001b[0;34m[\u001b[0m\u001b[0mself\u001b[0m\u001b[0;34m.\u001b[0m\u001b[0mcurrI\u001b[0m\u001b[0;34m]\u001b[0m\u001b[0;34m\u001b[0m\u001b[0;34m\u001b[0m\u001b[0m\n\u001b[0m\u001b[1;32m    122\u001b[0m         \u001b[0;32mexcept\u001b[0m \u001b[0mIndexError\u001b[0m\u001b[0;34m:\u001b[0m\u001b[0;34m\u001b[0m\u001b[0;34m\u001b[0m\u001b[0m\n",
      "\u001b[0;32m~/repos/AI-strategies-papers-regulations-monitoring/.venv/lib/python3.8/site-packages/pyArango/query.py\u001b[0m in \u001b[0;36m__getitem__\u001b[0;34m(self, i)\u001b[0m\n\u001b[1;32m    136\u001b[0m         \u001b[0;34m\"returns a ith result of the query. Raises IndexError if we reached the end of the current batch.\"\u001b[0m\u001b[0;34m\u001b[0m\u001b[0;34m\u001b[0m\u001b[0m\n\u001b[0;32m--> 137\u001b[0;31m         \u001b[0;32mif\u001b[0m \u001b[0;32mnot\u001b[0m \u001b[0mself\u001b[0m\u001b[0;34m.\u001b[0m\u001b[0mrawResults\u001b[0m \u001b[0;32mand\u001b[0m \u001b[0;34m(\u001b[0m\u001b[0;32mnot\u001b[0m \u001b[0misinstance\u001b[0m\u001b[0;34m(\u001b[0m\u001b[0mself\u001b[0m\u001b[0;34m.\u001b[0m\u001b[0mresult\u001b[0m\u001b[0;34m[\u001b[0m\u001b[0mi\u001b[0m\u001b[0;34m]\u001b[0m\u001b[0;34m,\u001b[0m \u001b[0;34m(\u001b[0m\u001b[0mEdge\u001b[0m\u001b[0;34m,\u001b[0m \u001b[0mDocument\u001b[0m\u001b[0;34m)\u001b[0m\u001b[0;34m)\u001b[0m\u001b[0;34m)\u001b[0m\u001b[0;34m:\u001b[0m\u001b[0;34m\u001b[0m\u001b[0;34m\u001b[0m\u001b[0m\n\u001b[0m\u001b[1;32m    138\u001b[0m             \u001b[0mself\u001b[0m\u001b[0;34m.\u001b[0m\u001b[0m_developDoc\u001b[0m\u001b[0;34m(\u001b[0m\u001b[0mi\u001b[0m\u001b[0;34m)\u001b[0m\u001b[0;34m\u001b[0m\u001b[0;34m\u001b[0m\u001b[0m\n",
      "\u001b[0;31mIndexError\u001b[0m: list index out of range",
      "\nDuring handling of the above exception, another exception occurred:\n",
      "\u001b[0;31mKeyboardInterrupt\u001b[0m                         Traceback (most recent call last)",
      "\u001b[0;32m/tmp/ipykernel_2755/418139135.py\u001b[0m in \u001b[0;36m<module>\u001b[0;34m\u001b[0m\n\u001b[0;32m----> 1\u001b[0;31m for i, batch in enumerate(\n\u001b[0m\u001b[1;32m      2\u001b[0m     fetch_batches_until_empty(\n\u001b[1;32m      3\u001b[0m         \u001b[0;34m\"\"\"FOR x in Sentences FILTER IS_ARRAY(x.embedding) LIMIT 1000 RETURN x \"\"\"\u001b[0m\u001b[0;34m\u001b[0m\u001b[0;34m\u001b[0m\u001b[0m\n\u001b[1;32m      4\u001b[0m     )\n\u001b[1;32m      5\u001b[0m ):\n",
      "\u001b[0;32m~/repos/AI-strategies-papers-regulations-monitoring/mars/db/db.py\u001b[0m in \u001b[0;36m<genexpr>\u001b[0;34m(.0)\u001b[0m\n\u001b[1;32m    110\u001b[0m     \u001b[0mtodo_docs\u001b[0m \u001b[0;34m=\u001b[0m \u001b[0mdatabase\u001b[0m\u001b[0;34m.\u001b[0m\u001b[0mAQLQuery\u001b[0m\u001b[0;34m(\u001b[0m\u001b[0mall_docs_between_keys\u001b[0m\u001b[0;34m,\u001b[0m \u001b[0;36m10000\u001b[0m\u001b[0;34m,\u001b[0m \u001b[0mrawResults\u001b[0m\u001b[0;34m=\u001b[0m\u001b[0;32mTrue\u001b[0m\u001b[0;34m)\u001b[0m\u001b[0;34m\u001b[0m\u001b[0;34m\u001b[0m\u001b[0m\n\u001b[1;32m    111\u001b[0m     \u001b[0;32mreturn\u001b[0m \u001b[0mtodo_docs\u001b[0m\u001b[0;34m\u001b[0m\u001b[0;34m\u001b[0m\u001b[0m\n",
      "\u001b[0;32m~/repos/AI-strategies-papers-regulations-monitoring/.venv/lib/python3.8/site-packages/pyArango/query.py\u001b[0m in \u001b[0;36m__next__\u001b[0;34m(self)\u001b[0m\n\u001b[1;32m    121\u001b[0m             \u001b[0mv\u001b[0m \u001b[0;34m=\u001b[0m \u001b[0mself\u001b[0m\u001b[0;34m[\u001b[0m\u001b[0mself\u001b[0m\u001b[0;34m.\u001b[0m\u001b[0mcurrI\u001b[0m\u001b[0;34m]\u001b[0m\u001b[0;34m\u001b[0m\u001b[0;34m\u001b[0m\u001b[0m\n\u001b[1;32m    122\u001b[0m         \u001b[0;32mexcept\u001b[0m \u001b[0mIndexError\u001b[0m\u001b[0;34m:\u001b[0m\u001b[0;34m\u001b[0m\u001b[0;34m\u001b[0m\u001b[0m\n\u001b[0;32m--> 123\u001b[0;31m             \u001b[0mself\u001b[0m\u001b[0;34m.\u001b[0m\u001b[0mnextBatch\u001b[0m\u001b[0;34m(\u001b[0m\u001b[0;34m)\u001b[0m\u001b[0;34m\u001b[0m\u001b[0;34m\u001b[0m\u001b[0m\n\u001b[0m\u001b[1;32m    124\u001b[0m         \u001b[0mv\u001b[0m \u001b[0;34m=\u001b[0m \u001b[0mself\u001b[0m\u001b[0;34m[\u001b[0m\u001b[0mself\u001b[0m\u001b[0;34m.\u001b[0m\u001b[0mcurrI\u001b[0m\u001b[0;34m]\u001b[0m\u001b[0;34m\u001b[0m\u001b[0;34m\u001b[0m\u001b[0m\n\u001b[1;32m    125\u001b[0m         \u001b[0mself\u001b[0m\u001b[0;34m.\u001b[0m\u001b[0mcurrI\u001b[0m \u001b[0;34m+=\u001b[0m \u001b[0;36m1\u001b[0m\u001b[0;34m\u001b[0m\u001b[0;34m\u001b[0m\u001b[0m\n",
      "\u001b[0;32m~/repos/AI-strategies-papers-regulations-monitoring/.venv/lib/python3.8/site-packages/pyArango/query.py\u001b[0m in \u001b[0;36mnextBatch\u001b[0;34m(self)\u001b[0m\n\u001b[1;32m    110\u001b[0m             )\n\u001b[1;32m    111\u001b[0m \u001b[0;34m\u001b[0m\u001b[0m\n\u001b[0;32m--> 112\u001b[0;31m         \u001b[0mself\u001b[0m\u001b[0;34m.\u001b[0m\u001b[0mresponse\u001b[0m \u001b[0;34m=\u001b[0m \u001b[0mnext\u001b[0m\u001b[0;34m(\u001b[0m\u001b[0mself\u001b[0m\u001b[0;34m.\u001b[0m\u001b[0mcursor\u001b[0m\u001b[0;34m)\u001b[0m\u001b[0;34m\u001b[0m\u001b[0;34m\u001b[0m\u001b[0m\n\u001b[0m\u001b[1;32m    113\u001b[0m \u001b[0;34m\u001b[0m\u001b[0m\n\u001b[1;32m    114\u001b[0m     \u001b[0;32mdef\u001b[0m \u001b[0mdelete\u001b[0m\u001b[0;34m(\u001b[0m\u001b[0mself\u001b[0m\u001b[0;34m)\u001b[0m\u001b[0;34m:\u001b[0m\u001b[0;34m\u001b[0m\u001b[0;34m\u001b[0m\u001b[0m\n",
      "\u001b[0;32m~/repos/AI-strategies-papers-regulations-monitoring/.venv/lib/python3.8/site-packages/pyArango/query.py\u001b[0m in \u001b[0;36m__next__\u001b[0;34m(self)\u001b[0m\n\u001b[1;32m     30\u001b[0m     \u001b[0;32mdef\u001b[0m \u001b[0m__next__\u001b[0m\u001b[0;34m(\u001b[0m\u001b[0mself\u001b[0m\u001b[0;34m)\u001b[0m\u001b[0;34m:\u001b[0m\u001b[0;34m\u001b[0m\u001b[0;34m\u001b[0m\u001b[0m\n\u001b[1;32m     31\u001b[0m         \u001b[0;34m\"returns the next batch\"\u001b[0m\u001b[0;34m\u001b[0m\u001b[0;34m\u001b[0m\u001b[0m\n\u001b[0;32m---> 32\u001b[0;31m         \u001b[0mr\u001b[0m \u001b[0;34m=\u001b[0m \u001b[0mself\u001b[0m\u001b[0;34m.\u001b[0m\u001b[0mconnection\u001b[0m\u001b[0;34m.\u001b[0m\u001b[0msession\u001b[0m\u001b[0;34m.\u001b[0m\u001b[0mput\u001b[0m\u001b[0;34m(\u001b[0m\u001b[0mself\u001b[0m\u001b[0;34m.\u001b[0m\u001b[0mgetURL\u001b[0m\u001b[0;34m(\u001b[0m\u001b[0;34m)\u001b[0m\u001b[0;34m)\u001b[0m\u001b[0;34m\u001b[0m\u001b[0;34m\u001b[0m\u001b[0m\n\u001b[0m\u001b[1;32m     33\u001b[0m         \u001b[0mdata\u001b[0m \u001b[0;34m=\u001b[0m \u001b[0mr\u001b[0m\u001b[0;34m.\u001b[0m\u001b[0mjson\u001b[0m\u001b[0;34m(\u001b[0m\u001b[0;34m)\u001b[0m\u001b[0;34m\u001b[0m\u001b[0;34m\u001b[0m\u001b[0m\n\u001b[1;32m     34\u001b[0m         \u001b[0;32mif\u001b[0m \u001b[0mr\u001b[0m\u001b[0;34m.\u001b[0m\u001b[0mstatus_code\u001b[0m \u001b[0;32min\u001b[0m \u001b[0;34m[\u001b[0m\u001b[0;36m400\u001b[0m\u001b[0;34m,\u001b[0m \u001b[0;36m404\u001b[0m\u001b[0;34m]\u001b[0m\u001b[0;34m:\u001b[0m\u001b[0;34m\u001b[0m\u001b[0;34m\u001b[0m\u001b[0m\n",
      "\u001b[0;32m~/repos/AI-strategies-papers-regulations-monitoring/.venv/lib/python3.8/site-packages/pyArango/connection.py\u001b[0m in \u001b[0;36m__call__\u001b[0;34m(self, *args, **kwargs)\u001b[0m\n\u001b[1;32m     54\u001b[0m                 \u001b[0mretry\u001b[0m \u001b[0;34m=\u001b[0m \u001b[0;36m0\u001b[0m\u001b[0;34m\u001b[0m\u001b[0;34m\u001b[0m\u001b[0m\n\u001b[1;32m     55\u001b[0m                 \u001b[0;32mwhile\u001b[0m \u001b[0mstatus_code\u001b[0m \u001b[0;34m==\u001b[0m \u001b[0;36m1200\u001b[0m \u001b[0;32mand\u001b[0m \u001b[0mretry\u001b[0m \u001b[0;34m<\u001b[0m \u001b[0mself\u001b[0m\u001b[0;34m.\u001b[0m\u001b[0mmax_conflict_retries\u001b[0m \u001b[0;34m:\u001b[0m\u001b[0;34m\u001b[0m\u001b[0;34m\u001b[0m\u001b[0m\n\u001b[0;32m---> 56\u001b[0;31m                     \u001b[0mret\u001b[0m \u001b[0;34m=\u001b[0m \u001b[0mself\u001b[0m\u001b[0;34m.\u001b[0m\u001b[0mfct\u001b[0m\u001b[0;34m(\u001b[0m\u001b[0;34m*\u001b[0m\u001b[0margs\u001b[0m\u001b[0;34m,\u001b[0m \u001b[0;34m**\u001b[0m\u001b[0mkwargs\u001b[0m\u001b[0;34m)\u001b[0m\u001b[0;34m\u001b[0m\u001b[0;34m\u001b[0m\u001b[0m\n\u001b[0m\u001b[1;32m     57\u001b[0m                     \u001b[0mstatus_code\u001b[0m \u001b[0;34m=\u001b[0m \u001b[0mret\u001b[0m\u001b[0;34m.\u001b[0m\u001b[0mstatus_code\u001b[0m\u001b[0;34m\u001b[0m\u001b[0;34m\u001b[0m\u001b[0m\n\u001b[1;32m     58\u001b[0m                     \u001b[0mretry\u001b[0m \u001b[0;34m+=\u001b[0m \u001b[0;36m1\u001b[0m\u001b[0;34m\u001b[0m\u001b[0;34m\u001b[0m\u001b[0m\n",
      "\u001b[0;32m~/repos/AI-strategies-papers-regulations-monitoring/.venv/lib/python3.8/site-packages/requests/sessions.py\u001b[0m in \u001b[0;36mput\u001b[0;34m(self, url, data, **kwargs)\u001b[0m\n\u001b[1;32m    600\u001b[0m         \"\"\"\n\u001b[1;32m    601\u001b[0m \u001b[0;34m\u001b[0m\u001b[0m\n\u001b[0;32m--> 602\u001b[0;31m         \u001b[0;32mreturn\u001b[0m \u001b[0mself\u001b[0m\u001b[0;34m.\u001b[0m\u001b[0mrequest\u001b[0m\u001b[0;34m(\u001b[0m\u001b[0;34m'PUT'\u001b[0m\u001b[0;34m,\u001b[0m \u001b[0murl\u001b[0m\u001b[0;34m,\u001b[0m \u001b[0mdata\u001b[0m\u001b[0;34m=\u001b[0m\u001b[0mdata\u001b[0m\u001b[0;34m,\u001b[0m \u001b[0;34m**\u001b[0m\u001b[0mkwargs\u001b[0m\u001b[0;34m)\u001b[0m\u001b[0;34m\u001b[0m\u001b[0;34m\u001b[0m\u001b[0m\n\u001b[0m\u001b[1;32m    603\u001b[0m \u001b[0;34m\u001b[0m\u001b[0m\n\u001b[1;32m    604\u001b[0m     \u001b[0;32mdef\u001b[0m \u001b[0mpatch\u001b[0m\u001b[0;34m(\u001b[0m\u001b[0mself\u001b[0m\u001b[0;34m,\u001b[0m \u001b[0murl\u001b[0m\u001b[0;34m,\u001b[0m \u001b[0mdata\u001b[0m\u001b[0;34m=\u001b[0m\u001b[0;32mNone\u001b[0m\u001b[0;34m,\u001b[0m \u001b[0;34m**\u001b[0m\u001b[0mkwargs\u001b[0m\u001b[0;34m)\u001b[0m\u001b[0;34m:\u001b[0m\u001b[0;34m\u001b[0m\u001b[0;34m\u001b[0m\u001b[0m\n",
      "\u001b[0;32m~/repos/AI-strategies-papers-regulations-monitoring/.venv/lib/python3.8/site-packages/requests/sessions.py\u001b[0m in \u001b[0;36mrequest\u001b[0;34m(self, method, url, params, data, headers, cookies, files, auth, timeout, allow_redirects, proxies, hooks, stream, verify, cert, json)\u001b[0m\n\u001b[1;32m    540\u001b[0m         }\n\u001b[1;32m    541\u001b[0m         \u001b[0msend_kwargs\u001b[0m\u001b[0;34m.\u001b[0m\u001b[0mupdate\u001b[0m\u001b[0;34m(\u001b[0m\u001b[0msettings\u001b[0m\u001b[0;34m)\u001b[0m\u001b[0;34m\u001b[0m\u001b[0;34m\u001b[0m\u001b[0m\n\u001b[0;32m--> 542\u001b[0;31m         \u001b[0mresp\u001b[0m \u001b[0;34m=\u001b[0m \u001b[0mself\u001b[0m\u001b[0;34m.\u001b[0m\u001b[0msend\u001b[0m\u001b[0;34m(\u001b[0m\u001b[0mprep\u001b[0m\u001b[0;34m,\u001b[0m \u001b[0;34m**\u001b[0m\u001b[0msend_kwargs\u001b[0m\u001b[0;34m)\u001b[0m\u001b[0;34m\u001b[0m\u001b[0;34m\u001b[0m\u001b[0m\n\u001b[0m\u001b[1;32m    543\u001b[0m \u001b[0;34m\u001b[0m\u001b[0m\n\u001b[1;32m    544\u001b[0m         \u001b[0;32mreturn\u001b[0m \u001b[0mresp\u001b[0m\u001b[0;34m\u001b[0m\u001b[0;34m\u001b[0m\u001b[0m\n",
      "\u001b[0;32m~/repos/AI-strategies-papers-regulations-monitoring/.venv/lib/python3.8/site-packages/requests/sessions.py\u001b[0m in \u001b[0;36msend\u001b[0;34m(self, request, **kwargs)\u001b[0m\n\u001b[1;32m    695\u001b[0m \u001b[0;34m\u001b[0m\u001b[0m\n\u001b[1;32m    696\u001b[0m         \u001b[0;32mif\u001b[0m \u001b[0;32mnot\u001b[0m \u001b[0mstream\u001b[0m\u001b[0;34m:\u001b[0m\u001b[0;34m\u001b[0m\u001b[0;34m\u001b[0m\u001b[0m\n\u001b[0;32m--> 697\u001b[0;31m             \u001b[0mr\u001b[0m\u001b[0;34m.\u001b[0m\u001b[0mcontent\u001b[0m\u001b[0;34m\u001b[0m\u001b[0;34m\u001b[0m\u001b[0m\n\u001b[0m\u001b[1;32m    698\u001b[0m \u001b[0;34m\u001b[0m\u001b[0m\n\u001b[1;32m    699\u001b[0m         \u001b[0;32mreturn\u001b[0m \u001b[0mr\u001b[0m\u001b[0;34m\u001b[0m\u001b[0;34m\u001b[0m\u001b[0m\n",
      "\u001b[0;32m~/repos/AI-strategies-papers-regulations-monitoring/.venv/lib/python3.8/site-packages/requests/models.py\u001b[0m in \u001b[0;36mcontent\u001b[0;34m(self)\u001b[0m\n\u001b[1;32m    834\u001b[0m                 \u001b[0mself\u001b[0m\u001b[0;34m.\u001b[0m\u001b[0m_content\u001b[0m \u001b[0;34m=\u001b[0m \u001b[0;32mNone\u001b[0m\u001b[0;34m\u001b[0m\u001b[0;34m\u001b[0m\u001b[0m\n\u001b[1;32m    835\u001b[0m             \u001b[0;32melse\u001b[0m\u001b[0;34m:\u001b[0m\u001b[0;34m\u001b[0m\u001b[0;34m\u001b[0m\u001b[0m\n\u001b[0;32m--> 836\u001b[0;31m                 \u001b[0mself\u001b[0m\u001b[0;34m.\u001b[0m\u001b[0m_content\u001b[0m \u001b[0;34m=\u001b[0m \u001b[0;34mb''\u001b[0m\u001b[0;34m.\u001b[0m\u001b[0mjoin\u001b[0m\u001b[0;34m(\u001b[0m\u001b[0mself\u001b[0m\u001b[0;34m.\u001b[0m\u001b[0miter_content\u001b[0m\u001b[0;34m(\u001b[0m\u001b[0mCONTENT_CHUNK_SIZE\u001b[0m\u001b[0;34m)\u001b[0m\u001b[0;34m)\u001b[0m \u001b[0;32mor\u001b[0m \u001b[0;34mb''\u001b[0m\u001b[0;34m\u001b[0m\u001b[0;34m\u001b[0m\u001b[0m\n\u001b[0m\u001b[1;32m    837\u001b[0m \u001b[0;34m\u001b[0m\u001b[0m\n\u001b[1;32m    838\u001b[0m         \u001b[0mself\u001b[0m\u001b[0;34m.\u001b[0m\u001b[0m_content_consumed\u001b[0m \u001b[0;34m=\u001b[0m \u001b[0;32mTrue\u001b[0m\u001b[0;34m\u001b[0m\u001b[0;34m\u001b[0m\u001b[0m\n",
      "\u001b[0;32m~/repos/AI-strategies-papers-regulations-monitoring/.venv/lib/python3.8/site-packages/requests/models.py\u001b[0m in \u001b[0;36mgenerate\u001b[0;34m()\u001b[0m\n\u001b[1;32m    756\u001b[0m             \u001b[0;32mif\u001b[0m \u001b[0mhasattr\u001b[0m\u001b[0;34m(\u001b[0m\u001b[0mself\u001b[0m\u001b[0;34m.\u001b[0m\u001b[0mraw\u001b[0m\u001b[0;34m,\u001b[0m \u001b[0;34m'stream'\u001b[0m\u001b[0;34m)\u001b[0m\u001b[0;34m:\u001b[0m\u001b[0;34m\u001b[0m\u001b[0;34m\u001b[0m\u001b[0m\n\u001b[1;32m    757\u001b[0m                 \u001b[0;32mtry\u001b[0m\u001b[0;34m:\u001b[0m\u001b[0;34m\u001b[0m\u001b[0;34m\u001b[0m\u001b[0m\n\u001b[0;32m--> 758\u001b[0;31m                     \u001b[0;32mfor\u001b[0m \u001b[0mchunk\u001b[0m \u001b[0;32min\u001b[0m \u001b[0mself\u001b[0m\u001b[0;34m.\u001b[0m\u001b[0mraw\u001b[0m\u001b[0;34m.\u001b[0m\u001b[0mstream\u001b[0m\u001b[0;34m(\u001b[0m\u001b[0mchunk_size\u001b[0m\u001b[0;34m,\u001b[0m \u001b[0mdecode_content\u001b[0m\u001b[0;34m=\u001b[0m\u001b[0;32mTrue\u001b[0m\u001b[0;34m)\u001b[0m\u001b[0;34m:\u001b[0m\u001b[0;34m\u001b[0m\u001b[0;34m\u001b[0m\u001b[0m\n\u001b[0m\u001b[1;32m    759\u001b[0m                         \u001b[0;32myield\u001b[0m \u001b[0mchunk\u001b[0m\u001b[0;34m\u001b[0m\u001b[0;34m\u001b[0m\u001b[0m\n\u001b[1;32m    760\u001b[0m                 \u001b[0;32mexcept\u001b[0m \u001b[0mProtocolError\u001b[0m \u001b[0;32mas\u001b[0m \u001b[0me\u001b[0m\u001b[0;34m:\u001b[0m\u001b[0;34m\u001b[0m\u001b[0;34m\u001b[0m\u001b[0m\n",
      "\u001b[0;32m~/repos/AI-strategies-papers-regulations-monitoring/.venv/lib/python3.8/site-packages/urllib3/response.py\u001b[0m in \u001b[0;36mstream\u001b[0;34m(self, amt, decode_content)\u001b[0m\n\u001b[1;32m    574\u001b[0m         \u001b[0;32melse\u001b[0m\u001b[0;34m:\u001b[0m\u001b[0;34m\u001b[0m\u001b[0;34m\u001b[0m\u001b[0m\n\u001b[1;32m    575\u001b[0m             \u001b[0;32mwhile\u001b[0m \u001b[0;32mnot\u001b[0m \u001b[0mis_fp_closed\u001b[0m\u001b[0;34m(\u001b[0m\u001b[0mself\u001b[0m\u001b[0;34m.\u001b[0m\u001b[0m_fp\u001b[0m\u001b[0;34m)\u001b[0m\u001b[0;34m:\u001b[0m\u001b[0;34m\u001b[0m\u001b[0;34m\u001b[0m\u001b[0m\n\u001b[0;32m--> 576\u001b[0;31m                 \u001b[0mdata\u001b[0m \u001b[0;34m=\u001b[0m \u001b[0mself\u001b[0m\u001b[0;34m.\u001b[0m\u001b[0mread\u001b[0m\u001b[0;34m(\u001b[0m\u001b[0mamt\u001b[0m\u001b[0;34m=\u001b[0m\u001b[0mamt\u001b[0m\u001b[0;34m,\u001b[0m \u001b[0mdecode_content\u001b[0m\u001b[0;34m=\u001b[0m\u001b[0mdecode_content\u001b[0m\u001b[0;34m)\u001b[0m\u001b[0;34m\u001b[0m\u001b[0;34m\u001b[0m\u001b[0m\n\u001b[0m\u001b[1;32m    577\u001b[0m \u001b[0;34m\u001b[0m\u001b[0m\n\u001b[1;32m    578\u001b[0m                 \u001b[0;32mif\u001b[0m \u001b[0mdata\u001b[0m\u001b[0;34m:\u001b[0m\u001b[0;34m\u001b[0m\u001b[0;34m\u001b[0m\u001b[0m\n",
      "\u001b[0;32m~/repos/AI-strategies-papers-regulations-monitoring/.venv/lib/python3.8/site-packages/urllib3/response.py\u001b[0m in \u001b[0;36mread\u001b[0;34m(self, amt, decode_content, cache_content)\u001b[0m\n\u001b[1;32m    517\u001b[0m             \u001b[0;32melse\u001b[0m\u001b[0;34m:\u001b[0m\u001b[0;34m\u001b[0m\u001b[0;34m\u001b[0m\u001b[0m\n\u001b[1;32m    518\u001b[0m                 \u001b[0mcache_content\u001b[0m \u001b[0;34m=\u001b[0m \u001b[0;32mFalse\u001b[0m\u001b[0;34m\u001b[0m\u001b[0;34m\u001b[0m\u001b[0m\n\u001b[0;32m--> 519\u001b[0;31m                 \u001b[0mdata\u001b[0m \u001b[0;34m=\u001b[0m \u001b[0mself\u001b[0m\u001b[0;34m.\u001b[0m\u001b[0m_fp\u001b[0m\u001b[0;34m.\u001b[0m\u001b[0mread\u001b[0m\u001b[0;34m(\u001b[0m\u001b[0mamt\u001b[0m\u001b[0;34m)\u001b[0m \u001b[0;32mif\u001b[0m \u001b[0;32mnot\u001b[0m \u001b[0mfp_closed\u001b[0m \u001b[0;32melse\u001b[0m \u001b[0;34mb\"\"\u001b[0m\u001b[0;34m\u001b[0m\u001b[0;34m\u001b[0m\u001b[0m\n\u001b[0m\u001b[1;32m    520\u001b[0m                 if (\n\u001b[1;32m    521\u001b[0m                     \u001b[0mamt\u001b[0m \u001b[0;34m!=\u001b[0m \u001b[0;36m0\u001b[0m \u001b[0;32mand\u001b[0m \u001b[0;32mnot\u001b[0m \u001b[0mdata\u001b[0m\u001b[0;34m\u001b[0m\u001b[0;34m\u001b[0m\u001b[0m\n",
      "\u001b[0;32m/usr/lib/python3.8/http/client.py\u001b[0m in \u001b[0;36mread\u001b[0;34m(self, amt)\u001b[0m\n\u001b[1;32m    453\u001b[0m             \u001b[0;31m# Amount is given, implement using readinto\u001b[0m\u001b[0;34m\u001b[0m\u001b[0;34m\u001b[0m\u001b[0;34m\u001b[0m\u001b[0m\n\u001b[1;32m    454\u001b[0m             \u001b[0mb\u001b[0m \u001b[0;34m=\u001b[0m \u001b[0mbytearray\u001b[0m\u001b[0;34m(\u001b[0m\u001b[0mamt\u001b[0m\u001b[0;34m)\u001b[0m\u001b[0;34m\u001b[0m\u001b[0;34m\u001b[0m\u001b[0m\n\u001b[0;32m--> 455\u001b[0;31m             \u001b[0mn\u001b[0m \u001b[0;34m=\u001b[0m \u001b[0mself\u001b[0m\u001b[0;34m.\u001b[0m\u001b[0mreadinto\u001b[0m\u001b[0;34m(\u001b[0m\u001b[0mb\u001b[0m\u001b[0;34m)\u001b[0m\u001b[0;34m\u001b[0m\u001b[0;34m\u001b[0m\u001b[0m\n\u001b[0m\u001b[1;32m    456\u001b[0m             \u001b[0;32mreturn\u001b[0m \u001b[0mmemoryview\u001b[0m\u001b[0;34m(\u001b[0m\u001b[0mb\u001b[0m\u001b[0;34m)\u001b[0m\u001b[0;34m[\u001b[0m\u001b[0;34m:\u001b[0m\u001b[0mn\u001b[0m\u001b[0;34m]\u001b[0m\u001b[0;34m.\u001b[0m\u001b[0mtobytes\u001b[0m\u001b[0;34m(\u001b[0m\u001b[0;34m)\u001b[0m\u001b[0;34m\u001b[0m\u001b[0;34m\u001b[0m\u001b[0m\n\u001b[1;32m    457\u001b[0m         \u001b[0;32melse\u001b[0m\u001b[0;34m:\u001b[0m\u001b[0;34m\u001b[0m\u001b[0;34m\u001b[0m\u001b[0m\n",
      "\u001b[0;32m/usr/lib/python3.8/http/client.py\u001b[0m in \u001b[0;36mreadinto\u001b[0;34m(self, b)\u001b[0m\n\u001b[1;32m    497\u001b[0m         \u001b[0;31m# connection, and the user is reading more bytes than will be provided\u001b[0m\u001b[0;34m\u001b[0m\u001b[0;34m\u001b[0m\u001b[0;34m\u001b[0m\u001b[0m\n\u001b[1;32m    498\u001b[0m         \u001b[0;31m# (for example, reading in 1k chunks)\u001b[0m\u001b[0;34m\u001b[0m\u001b[0;34m\u001b[0m\u001b[0;34m\u001b[0m\u001b[0m\n\u001b[0;32m--> 499\u001b[0;31m         \u001b[0mn\u001b[0m \u001b[0;34m=\u001b[0m \u001b[0mself\u001b[0m\u001b[0;34m.\u001b[0m\u001b[0mfp\u001b[0m\u001b[0;34m.\u001b[0m\u001b[0mreadinto\u001b[0m\u001b[0;34m(\u001b[0m\u001b[0mb\u001b[0m\u001b[0;34m)\u001b[0m\u001b[0;34m\u001b[0m\u001b[0;34m\u001b[0m\u001b[0m\n\u001b[0m\u001b[1;32m    500\u001b[0m         \u001b[0;32mif\u001b[0m \u001b[0;32mnot\u001b[0m \u001b[0mn\u001b[0m \u001b[0;32mand\u001b[0m \u001b[0mb\u001b[0m\u001b[0;34m:\u001b[0m\u001b[0;34m\u001b[0m\u001b[0;34m\u001b[0m\u001b[0m\n\u001b[1;32m    501\u001b[0m             \u001b[0;31m# Ideally, we would raise IncompleteRead if the content-length\u001b[0m\u001b[0;34m\u001b[0m\u001b[0;34m\u001b[0m\u001b[0;34m\u001b[0m\u001b[0m\n",
      "\u001b[0;32m/usr/lib/python3.8/socket.py\u001b[0m in \u001b[0;36mreadinto\u001b[0;34m(self, b)\u001b[0m\n\u001b[1;32m    667\u001b[0m         \u001b[0;32mwhile\u001b[0m \u001b[0;32mTrue\u001b[0m\u001b[0;34m:\u001b[0m\u001b[0;34m\u001b[0m\u001b[0;34m\u001b[0m\u001b[0m\n\u001b[1;32m    668\u001b[0m             \u001b[0;32mtry\u001b[0m\u001b[0;34m:\u001b[0m\u001b[0;34m\u001b[0m\u001b[0;34m\u001b[0m\u001b[0m\n\u001b[0;32m--> 669\u001b[0;31m                 \u001b[0;32mreturn\u001b[0m \u001b[0mself\u001b[0m\u001b[0;34m.\u001b[0m\u001b[0m_sock\u001b[0m\u001b[0;34m.\u001b[0m\u001b[0mrecv_into\u001b[0m\u001b[0;34m(\u001b[0m\u001b[0mb\u001b[0m\u001b[0;34m)\u001b[0m\u001b[0;34m\u001b[0m\u001b[0;34m\u001b[0m\u001b[0m\n\u001b[0m\u001b[1;32m    670\u001b[0m             \u001b[0;32mexcept\u001b[0m \u001b[0mtimeout\u001b[0m\u001b[0;34m:\u001b[0m\u001b[0;34m\u001b[0m\u001b[0;34m\u001b[0m\u001b[0m\n\u001b[1;32m    671\u001b[0m                 \u001b[0mself\u001b[0m\u001b[0;34m.\u001b[0m\u001b[0m_timeout_occurred\u001b[0m \u001b[0;34m=\u001b[0m \u001b[0;32mTrue\u001b[0m\u001b[0;34m\u001b[0m\u001b[0;34m\u001b[0m\u001b[0m\n",
      "\u001b[0;31mKeyboardInterrupt\u001b[0m: "
     ]
    }
   ],
   "source": [
    "for i, batch in enumerate(\n",
    "    fetch_batches_until_empty(\n",
    "        \"\"\"FOR x in Sentences FILTER IS_ARRAY(x.embedding) LIMIT 1000 RETURN x \"\"\"\n",
    "    )\n",
    "):\n",
    "    print(\"processing batch:\", i)\n",
    "    to_save=[]\n",
    "    for a in batch:\n",
    "        emb = a[db_fields.EMBEDDING]\n",
    "        a[db_fields.EMBEDDING] = dict()\n",
    "        a[db_fields.EMBEDDING][db_fields.EmbeddingType.LABSE] = emb\n",
    "        to_save.append(a)\n",
    "    collections.sentences.bulkSave(to_save, onDuplicate=\"update\")"
   ]
  },
  {
   "cell_type": "code",
   "execution_count": 16,
   "id": "b883fed4",
   "metadata": {},
   "outputs": [
    {
     "data": {
      "text/plain": [
       "ArangoDoc '_id: Sentences/18549982, _key: 18549982, _rev: _dJ4tfiS---': <store: {'embedding': ['0.036199465', '-0.018653592', '0.05235075', '0.009604546', '0.06969898', '0.046939425', '-0.02927087', '0.019418977', '-0.00017126776', '-0.014687742', '0.04624988', '-0.027533641', '0.064110056', '0.0025424773', '0.013881902', '-0.08221822', '0.03419351', '0.038236335', '0.019841185', '0.017139452', '0.006993081', '0.0020378262', '0.013722185', '0.009196143', '-0.03146953', '-0.025850048', '-0.04201935', '-0.06952162', '0.020262875', '-0.052432932', '-0.06429708', '-0.008869282', '0.048512552', '0.0112873465', '-0.0597143', '-0.025724897', '-0.0065024663', '0.014398951', '-0.08008629', '-0.018840007', '-0.02831749', '0.049758203', '-0.019606791', '-0.04002189', '-0.041223098', '0.04035436', '0.016163109', '-0.0029556525', '0.016940083', '0.08025375', '0.065412484', '-0.04809125', '-0.030743117', '0.024526512', '0.006988894', '0.012589923', '-0.0070291287', '-0.008746413', '-0.04212336', '-0.00076267374', '-0.0063260067', '-0.00085749326', '-0.033457812', '-0.039452963', '-0.039404344', '0.00870205', '0.015804922', '0.0041777184', '-0.037024453', '-0.02156436', '0.011526359', '-0.045197293', '0.032246917', '0.0016870745', '-0.025650686', '-0.05410246', '0.036297526', '0.0010871026', '-0.071831785', '-0.03845088', '0.0008222737', '0.03822762', '-0.017479792', '-0.016609507', '-0.043148637', '-0.0068489593', '0.037301026', '0.056700595', '0.024139807', '-0.029109176', '-0.032530162', '-0.05177038', '-0.060702592', '-0.020522792', '-0.034295317', '-0.010211729', '-0.016750481', '0.011394951', '0.04246647', '0.004664338', '-0.008289529', '0.033334862', '-0.0061760484', '0.060205147', '0.012029481', '0.024896117', '-0.011816163', '0.0019125124', '0.058133345', '0.024728693', '0.016244406', '-0.025717396', '-0.058368016', '-0.044146143', '-0.0043124026', '0.00064306107', '-0.019693261', '0.03969239', '-0.008026627', '0.024904776', '0.030645965', '-0.0030836945', '-0.051506564', '-0.035415486', '0.02075046', '0.023359615', '0.0070120525', '-0.066222906', '0.022463538', '-0.001418151', '-0.020363647', '0.03185401', '-0.014958714', '0.033321984', '0.036234636', '0.04673021', '-0.04901279', '-0.03091229', '-0.04421475', '-0.049828254', '-0.00045733873', '-0.027103556', '-0.033775207', '-0.07255465', '-0.022347022', '-0.011768264', '0.017126027', '-0.017229896', '-0.03842083', '-0.05624286', '0.035042904', '-0.017378788', '0.009485743', '-0.04629584', '-0.03192962', '0.02403538', '-0.03873661', '-0.036300294', '-0.032706354', '-0.059544172', '-0.031472348', '0.028646244', '-0.012523671', '0.03618251', '-0.021044698', '0.017122602', '-0.019685555', '-0.04626059', '-0.0069283433', '0.025024425', '-0.054274105', '0.0023773331', '0.013644031', '-0.018844252', '0.024111083', '-0.036625084', '0.00416727', '0.016162736', '-0.03926082', '0.03877584', '-0.033756077', '0.021462146', '0.057632092', '-0.01293145', '0.037544392', '0.044083737', '0.040377796', '-0.06091591', '-0.017725406', '0.0033872023', '-0.02347356', '-0.0064106844', '-0.039266888', '-0.07164338', '0.01599329', '-0.028358737', '-0.039908152', '-0.063455105', '0.020848608', '0.002243936', '-0.048023272', '-0.06223549', '0.016784687', '0.032500442', '0.05274459', '0.0012042228', '0.015437503', '0.0068298', '-0.03868636', '-0.043425653', '0.044365954', '-0.00010652778', '0.006278474', '0.004406721', '0.056322385', '0.03503603', '-0.10526095', '-0.00896954', '0.0008999772', '-0.050867546', '0.008674317', '-0.067629196', '0.017186953', '-0.048040338', '-0.004733217', '0.015174855', '-0.007908213', '-0.043836247', '0.05337823', '-0.08478826', '-0.048550006', '0.04789342', '0.029837165', '-0.063456856', '0.018787842', '0.010050017', '-0.0112329', '-0.038520165', '-0.012608549', '-0.013491081', '-0.016691469', '0.017640354', '-0.07633939', '0.011535678', '0.026595902', '0.009851416', '0.050067138', '0.0019204678', '-0.022913773', '0.024812594', '0.044075895', '-0.003685741', '0.025832886', '-0.014127126', '0.017081682', '-0.080110386', '-0.026230846', '0.050090127', '0.009514852', '-0.0049807876', '0.032725275', '-0.07153305', '-0.012159817', '0.028390996', '0.010098546', '-0.032284677', '-0.017697949', '0.053527262', '0.008709555', '0.03744733', '-0.046585593', '0.024602188', '0.004342734', '0.054175843', '0.015905943', '-0.07376106', '0.03871926', '0.040335037', '-0.010705181', '0.011059255', '-0.020711226', '0.027559731', '0.004997218', '0.023408715', '0.046340667', '0.020894272', '-0.008469246', '-0.011007198', '0.0361644', '-0.05383361', '-0.057280403', '0.031981986', '0.0052516907', '-0.0598573', '0.007312604', '-0.010327399', '-0.024562556', '0.013919464', '-0.029254455', '-0.04029318', '0.018043369', '-0.015863877', '0.01970338', '0.047854356', '-0.025689464', '-0.056117777', '-0.04804287', '-0.0037417298', '0.0133314105', '-0.020182064', '-0.03572893', '0.03403968', '0.0049344175', '0.0012726514', '0.07873529', '-0.04957871', '-0.0026176334', '-0.06962296', '0.0360888', '0.0121326', '0.061382577', '0.018236363', '-0.0074734828', '-0.0652089', '-0.0074634315', '0.042915713', '0.018095708', '-0.09252033', '-0.019723482', '-0.056984127', '0.020413285', '0.006240255', '0.0027425543', '-0.0965891', '-0.004789316', '0.042769447', '-0.024309589', '0.017924411', '-0.005639769', '0.040214602', '0.055088524', '-0.051166456', '-0.009934371', '-0.017114365', '-0.035939634', '-0.064295545', '0.0068703475', '-0.06350847', '0.05123621', '-0.040715095', '-0.020137684', '-0.015412641', '0.04289648', '-0.027810872', '0.007834517', '-0.04809189', '-0.01005137', '-0.0077936035', '0.022250867', '-0.055784184', '0.028809465', '0.05760421', '0.016526017', '0.035673626', '-0.0021125975', '0.00014755687', '-0.04197971', '0.051120494', '0.019327061', '-0.041835215', '-0.037880786', '0.00925621', '0.03865041', '0.057209883', '0.033306874', '0.02222932', '0.038344827', '0.0010100063', '-0.014449774', '0.0025270218', '-0.029349187', '-0.06669685', '0.020923289', '-0.002849109', '0.012241042', '-0.0049134586', '0.015223223', '-0.022245646', '0.07225113', '0.047881283', '0.00089132774', '-0.022587847', '0.022477115', '0.037375957', '-0.03134764', '-0.03591472', '-0.025987549', '0.028418902', '-0.061250933', '-0.03183497', '0.006214633', '0.01983374', '0.071202025', '0.022629777', '0.046320606', '-0.018559186', '-0.011406242', '-0.07679544', '-0.045212995', '-0.030581584', '-0.042481747', '0.038070124', '-0.023061154', '-0.024441047', '-0.02187743', '0.04263762', '0.0025151095', '-0.067224905', '-0.06560097', '-0.0065155285', '0.018310137', '-0.007898918', '-0.015580045', '-0.012804847', '0.01759467', '-0.028255297', '-0.005757588', '-0.037205044', '-0.022755725', '0.0012835562', '-0.024101976', '0.008415699', '0.0393981', '-0.0284747', '-0.024878806', '0.016571991', '-0.058787446', '-0.0030056953', '-0.05536856', '-0.039852086', '-0.034905087', '-0.033562284', '-0.05136458', '-0.004079114', '0.034336016', '-0.06474767', '-0.0054697134', '0.042393442', '-0.03846877', '-0.03648697', '-0.027009416', '-0.027038252', '-0.060101345', '0.05578121', '0.019879607', '0.019908074', '-0.0046737115', '0.0029297115', '0.07304088', '-0.013601552', '-0.026088618', '0.015265398', '0.012057687', '0.039927065', '0.020216674', '0.034087215', '0.050561536', '0.027702065', '0.025082126', '-0.05537646', '-0.0371861', '0.025990676', '0.053486314', '-0.004958397', '0.03926769', '-0.03354863', '-0.08009337', '0.014673843', '-0.0038564892', '0.020808758', '-0.006106112', '0.0071806395', '0.05366008', '0.031677593', '0.03484835', '0.026960153', '-0.0441426', '-0.065550156', '-0.013631368', '0.02066331', '-0.0094481055', '0.03017166', '0.05305292', '-0.022377228', '0.018008966', '0.016515257', '-0.04214538', '-0.00044252755', '0.009865992', '0.007084305', '0.07959511', '0.046899136', '0.006267225', '-0.017835746', '0.011015185', '-0.0005658815', '-0.0144971', '-0.030340472', '0.008255715', '-0.042597685', '-0.006507875', '-0.024449253', '0.013283807', '0.050711334', '0.010654497', '0.044840287', '0.05618183', '-0.03546457', '0.031266138', '-0.04728848', '0.054559074', '-0.089826934', '-0.030528385', '-0.036705904', '0.013836517', '0.010117196', '0.056398496', '-0.019532058', '0.019394964', '-0.05907108', '0.013974954', '-0.043068185', '-0.058941264', '-0.019680118', '-0.004923237', '-0.015173716', '0.05044607', '-0.019463211', '-0.015384262', '-0.056589358', '-0.0077358107', '0.023087773', '-0.049767252', '-0.0057309456', '-0.0509052', '-0.025108535', '-0.0134631535', '0.0054316064', '-0.08313368', '0.030052876', '-0.047530595', '0.04015518', '0.011606659', '-0.0020658167', '0.012692876', '0.029832954', '0.059270784', '-0.035341732', '-0.010662611', '0.019274376', '-0.05644179', '0.02267529', '0.013878865', '-0.07182444', '-0.03732439', '-0.035287768', '-0.033294357', '0.022552028', '-0.023052117', '0.0034705936', '-0.054360528', '-0.018218663', '-0.0003600407', '0.030828044', '0.026267165', '0.0070273182', '0.027667731', '-0.0467428', '-0.019084644', '0.008226561', '-0.051072627', '0.056810103', '0.0141621325', '0.037633784', '-0.016749768', '-0.019729221', '-0.04024125', '-0.035351258', '-0.00061152474', '-0.043666206', '0.06858114', '-0.0009483769', '0.0009782695', '-0.03010776', '-0.012302537', '-0.06327077', '0.0035710575', '0.037717357', '-0.0009168856', '0.0453635', '-0.026983341', '0.012933016', '0.00068618666', '0.0005155395', '-0.04294836', '0.059324387', '-0.0016439472', '0.04225459', '0.028457573', '-0.00025546216', '-0.016493334', '0.045670055', '0.00026564876', '0.018466443', '0.016200189', '0.03825975', '-0.012343144', '0.021402078', '-0.03172938', '0.06715303', '-0.053290613', '-0.01349852', '-0.030821709', '-0.040454328', '-0.0053771883', '0.014181214', '0.011412137', '0.04864397', '-0.047734324', '0.048225075', '-0.016869554', '-0.036416736', '-0.012831279', '-0.023075882', '-0.06074248', '-0.04248225', '0.04700441', '0.053851306', '-0.066873394', '-0.014369271', '-0.028530693', '-0.01662941', '0.048301995', '0.031106304', '0.04187147', '0.02436785', '0.06043956', '0.013892556', '0.030656055', '0.03349246', '0.051762283', '-0.04387878', '-0.03367331', '0.041887093', '0.0058077956', '0.053734876', '0.03199439', '-0.032898765', '0.023442935', '-0.050811067', '-0.017288325', '0.009446543', '0.003966637', '-0.043865427', '-0.08065389', '-0.055009656', '-0.035343304', '0.007127351', '-0.067675866', '0.013806733', '0.013959659', '-0.07246428', '-0.009124669', '-0.04076839', '0.056569632', '-0.0038768784', '0.03350967', '-0.07241904', '-0.021988489', '-0.0491744', '0.019881146', '0.02880874', '-0.017821519', '0.04996242', '-0.00057949696', '-0.04179516', '-0.021495381', '0.0053476873', '0.034194183', '0.021144466', '0.04999878', '-0.07976874', '-0.053878553', '0.019936163', '-0.053224508', '-0.034232434', '-0.06919064', '0.06681204', '0.027415479', '-0.018594392', '-0.019650947', '-0.0054834657', '-0.019090265', '-0.033119272', '-0.026369527', '-0.030451164', '-0.05436113', '-0.014902054', '-0.032192912', '-0.021908429', '-0.0697093', '0.05071177', '-0.032677896', '0.011255857', '-0.05718309', '0.0675902', '0.0105415', '-0.0139497705', '-0.049915247', '-0.0022922398', '0.009284285', '-0.03831317', '0.019905487', '-0.021055864', '-0.019303255', '-0.017425375', '-0.0211077', '-0.00078290084', '-0.031425737', '0.034803294', '0.011647605', '0.03509608', '0.015025756', '-0.009955393', '-0.028469935', '-0.010062457', '-0.055851016', '0.0045102937', '0.0011364431', '-0.027140992', '-0.0045763934', '0.0074494546', '-0.0422166', '0.064185105', '0.053094354', '-0.030819636', '0.0015104971', '0.03585772', '-0.005100866', '-0.04318185', '-0.003544914', '0.06274635', '0.034073286', '-0.041376345', '0.04363501', '0.0015812684', '0.037865818', '0.019195948', '-0.02888712', '-0.01173027', '0.0024291289', '-0.0019139432', '-0.015858948', '-0.007570589', '0.049107242', '-0.008954698', '0.08324171', '0.012178199'], 'html_tag': 'p', 'is_header': False, 'sentence': 'Any weakening of encryption could potentially be abused by malicious third parties.', 'sentence_number': 1, 'sequence_number': 60, 'source_doc_id': 'Documents/466', 'source_segment_id': 'SegmentedTexts/3436'}>"
      ]
     },
     "execution_count": 16,
     "metadata": {},
     "output_type": "execute_result"
    }
   ],
   "source": [
    "a[0]"
   ]
  },
  {
   "cell_type": "code",
   "execution_count": null,
   "id": "7ca37179",
   "metadata": {},
   "outputs": [],
   "source": []
  }
 ],
 "metadata": {
  "kernelspec": {
   "display_name": "Python 3 (ipykernel)",
   "language": "python",
   "name": "python3"
  },
  "language_info": {
   "codemirror_mode": {
    "name": "ipython",
    "version": 3
   },
   "file_extension": ".py",
   "mimetype": "text/x-python",
   "name": "python",
   "nbconvert_exporter": "python",
   "pygments_lexer": "ipython3",
   "version": "3.8.10"
  }
 },
 "nbformat": 4,
 "nbformat_minor": 5
}
