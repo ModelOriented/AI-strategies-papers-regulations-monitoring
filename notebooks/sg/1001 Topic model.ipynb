{
 "cells": [
  {
   "cell_type": "code",
   "execution_count": 1,
   "source": [
    "import os\n",
    "\n",
    "os.chdir(\"../..\")"
   ],
   "outputs": [],
   "metadata": {}
  },
  {
   "cell_type": "code",
   "execution_count": 2,
   "source": [
    "from mars.db import collections\n",
    "from mars.db.db_fields import LANGUAGE, CONTENT\n",
    "from typing import List\n",
    "from tqdm import tqdm\n",
    "import tomotopy as tp"
   ],
   "outputs": [],
   "metadata": {}
  },
  {
   "cell_type": "code",
   "execution_count": 3,
   "source": [
    "import spacy\n",
    "\n",
    "nlp = spacy.load(\"en_core_web_sm\")\n",
    "\n",
    "nlp.disable_pipe(\"parser\")\n",
    "nlp.disable_pipe(\"ner\")\n",
    "\n",
    "\n",
    "def preprocess_text(text:str, user_data=None)->List[str]:\n",
    "    doc = nlp(text)\n",
    "    return [t.lemma_.lower() for t in doc if not t.is_stop if t.is_alpha]"
   ],
   "outputs": [
    {
     "output_type": "stream",
     "name": "stderr",
     "text": [
      "2021-10-01 17:54:04.107020: W tensorflow/stream_executor/platform/default/dso_loader.cc:64] Could not load dynamic library 'libcudart.so.11.0'; dlerror: libcudart.so.11.0: cannot open shared object file: No such file or directory\n",
      "2021-10-01 17:54:04.107170: I tensorflow/stream_executor/cuda/cudart_stub.cc:29] Ignore above cudart dlerror if you do not have a GPU set up on your machine.\n"
     ]
    }
   ],
   "metadata": {}
  },
  {
   "cell_type": "code",
   "execution_count": 4,
   "source": [
    "query = collections.segmented_texts.fetchByExample({LANGUAGE:\"en\"}, batchSize=1000)\n",
    "\n",
    "texts = [doc[CONTENT] for doc in query]\n",
    "\n",
    "corpus = tp.utils.Corpus(tokenizer = preprocess_text)\n",
    "corpus.process(texts)\n",
    "print(\"Starting model training...\")\n",
    "model = tp.CTModel(k=15, corpus=corpus)\n",
    "model.train(10)\n",
    "print(\"Model trained\")\n",
    "print(model.summary())"
   ],
   "outputs": [],
   "metadata": {}
  },
  {
   "cell_type": "code",
   "execution_count": null,
   "source": [
    "model.summary()"
   ],
   "outputs": [
    {
     "output_type": "error",
     "ename": "Error",
     "evalue": "Kernel is dead",
     "traceback": [
      "Error: Kernel is dead",
      "at g._sendKernelShellControl (/home/sgizinski/.vscode-server/extensions/ms-toolsai.jupyter-2021.8.2041215044/out/client/extension.js:52:1006195)",
      "at g.sendShellMessage (/home/sgizinski/.vscode-server/extensions/ms-toolsai.jupyter-2021.8.2041215044/out/client/extension.js:52:1005964)",
      "at g.requestExecute (/home/sgizinski/.vscode-server/extensions/ms-toolsai.jupyter-2021.8.2041215044/out/client/extension.js:52:1008506)",
      "at d.requestExecute (/home/sgizinski/.vscode-server/extensions/ms-toolsai.jupyter-2021.8.2041215044/out/client/extension.js:37:325680)",
      "at w.requestExecute (/home/sgizinski/.vscode-server/extensions/ms-toolsai.jupyter-2021.8.2041215044/out/client/extension.js:32:18027)",
      "at w.executeCodeCell (/home/sgizinski/.vscode-server/extensions/ms-toolsai.jupyter-2021.8.2041215044/out/client/extension.js:52:301076)",
      "at w.execute (/home/sgizinski/.vscode-server/extensions/ms-toolsai.jupyter-2021.8.2041215044/out/client/extension.js:52:300703)",
      "at w.start (/home/sgizinski/.vscode-server/extensions/ms-toolsai.jupyter-2021.8.2041215044/out/client/extension.js:52:296367)",
      "at runMicrotasks (<anonymous>)",
      "at processTicksAndRejections (internal/process/task_queues.js:93:5)",
      "at t.CellExecutionQueue.executeQueuedCells (/home/sgizinski/.vscode-server/extensions/ms-toolsai.jupyter-2021.8.2041215044/out/client/extension.js:52:311160)",
      "at t.CellExecutionQueue.start (/home/sgizinski/.vscode-server/extensions/ms-toolsai.jupyter-2021.8.2041215044/out/client/extension.js:52:310700)"
     ]
    }
   ],
   "metadata": {}
  },
  {
   "cell_type": "code",
   "execution_count": null,
   "source": [
    "extractor = tp.label.PMIExtractor(min_cf=10, min_df=5, max_len=5, max_cand=10000, normalized=True)\n",
    "cands = extractor.extract(model)\n",
    "\n",
    "labeler = tp.label.FoRelevance(model, cands, min_df=5, smoothing=1e-2, mu=0.25)\n",
    "for k in range(model.k):\n",
    "    print(\"== Topic #{} ==\".format(k))\n",
    "    print(\"Labels:\", ', '.join(label for label, score in labeler.get_topic_labels(k, top_n=5)))\n",
    "    for word, prob in model.get_topic_words(k, top_n=10):\n",
    "        print(word, prob, sep='\\t')\n",
    "    print()\n"
   ],
   "outputs": [],
   "metadata": {}
  }
 ],
 "metadata": {
  "orig_nbformat": 4,
  "language_info": {
   "name": "python",
   "version": "3.8.10",
   "mimetype": "text/x-python",
   "codemirror_mode": {
    "name": "ipython",
    "version": 3
   },
   "pygments_lexer": "ipython3",
   "nbconvert_exporter": "python",
   "file_extension": ".py"
  },
  "kernelspec": {
   "name": "python3",
   "display_name": "Python 3.8.10 64-bit ('.venv': poetry)"
  },
  "interpreter": {
   "hash": "3d72576ac13b89fb09600bb6b4285e0f9ef003d397285e7a1334d2309113cab6"
  }
 },
 "nbformat": 4,
 "nbformat_minor": 2
}