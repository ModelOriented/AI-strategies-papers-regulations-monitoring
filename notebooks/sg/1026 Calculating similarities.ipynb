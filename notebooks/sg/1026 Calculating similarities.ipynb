{
 "cells": [
  {
   "cell_type": "code",
   "execution_count": 3,
   "id": "16b24f96",
   "metadata": {},
   "outputs": [],
   "source": [
    "from mars.db import collections\n",
    "from mars.sentence_embeddings import embedd_sentences, EmbeddingType"
   ]
  },
  {
   "cell_type": "code",
   "execution_count": 4,
   "id": "c36252e4",
   "metadata": {},
   "outputs": [
    {
     "name": "stdout",
     "output_type": "stream",
     "text": [
      "CPU times: user 40 µs, sys: 0 ns, total: 40 µs\n",
      "Wall time: 44.1 µs\n"
     ]
    }
   ],
   "source": [
    "%%time\n",
    "\n",
    "from typing import Iterator\n",
    "\n",
    "EMBEDDING = \"embedding\"\n",
    "\n",
    "\n",
    "def fetch_batches_until_empty(\n",
    "    collection, filter: dict, batch_size=1000\n",
    ") -> Iterator[list]:\n",
    "    \"\"\"Fetch collection in batches. Stop fetching when there is no fields after filtering\"\"\"\n",
    "    finished=False\n",
    "    while not finished:\n",
    "        print(\"Fetching next batch...\")\n",
    "        results = [\n",
    "            d\n",
    "            for d in collection.fetchByExample(\n",
    "                filter, batch_size, limit=batch_size\n",
    "            )\n",
    "        ]\n",
    "        print(\"Fetched!\")\n",
    "\n",
    "        if len(results) != 0:\n",
    "            yield results\n",
    "        else:\n",
    "            finished = True\n",
    "            print(\"Finished\")\n",
    "\n",
    "def fetch_in_batches(collection, batch_size=100):\n",
    "    skip=0\n",
    "    finished=False\n",
    "    while not finished:\n",
    "        print(\"Fetching next batch...\")\n",
    "        results = [d for d in collection.fetchAll(limit=batch_size, skip=skip)]\n",
    "        print(\"Fetched!\")\n",
    "        if len(results) != 0:\n",
    "            yield results\n",
    "        else:\n",
    "            finished = True"
   ]
  },
  {
   "cell_type": "code",
   "execution_count": null,
   "id": "b8a797b7",
   "metadata": {},
   "outputs": [
    {
     "name": "stdout",
     "output_type": "stream",
     "text": [
      "Fetching next batch...\n",
      "Fetched!\n"
     ]
    },
    {
     "name": "stderr",
     "output_type": "stream",
     "text": [
      "2021-10-27 02:11:53.601121: W tensorflow/core/framework/cpu_allocator_impl.cc:80] Allocation of 3932160000 exceeds 10% of free system memory.\n",
      "2021-10-27 02:11:58.265466: W tensorflow/core/framework/cpu_allocator_impl.cc:80] Allocation of 3932160000 exceeds 10% of free system memory.\n",
      "2021-10-27 02:12:12.774280: W tensorflow/core/framework/cpu_allocator_impl.cc:80] Allocation of 7864320000 exceeds 10% of free system memory.\n",
      "2021-10-27 02:12:32.832580: W tensorflow/core/framework/cpu_allocator_impl.cc:80] Allocation of 7864320000 exceeds 10% of free system memory.\n",
      "2021-10-27 02:13:19.095794: W tensorflow/core/framework/cpu_allocator_impl.cc:80] Allocation of 3932160000 exceeds 10% of free system memory.\n"
     ]
    }
   ],
   "source": [
    "%%time\n",
    "for sents_docs in fetch_batches_until_empty(collections.sentences, {EMBEDDING: None}, 5000):\n",
    "    sents = [sent_doc[\"sentence\"] for sent_doc in sents_docs]\n",
    "    embeddings = embedd_sentences(sents, EmbeddingType.LABSE)\n",
    "\n",
    "    for embedding, sent_doc in zip(embeddings, sents_docs):\n",
    "        sent_doc[EMBEDDING] = list(embedding.numpy())\n",
    "        sent_doc.patch()\n",
    "    break"
   ]
  },
  {
   "cell_type": "code",
   "execution_count": null,
   "id": "00e1badf",
   "metadata": {},
   "outputs": [
    {
     "name": "stdout",
     "output_type": "stream",
     "text": [
      "Fetching next batch...\n",
      "Fetched!\n"
     ]
    },
    {
     "name": "stderr",
     "output_type": "stream",
     "text": [
      "2021-10-27 02:03:28.515598: W tensorflow/core/framework/cpu_allocator_impl.cc:80] Allocation of 3932160000 exceeds 10% of free system memory.\n",
      "2021-10-27 02:03:28.860435: W tensorflow/core/framework/cpu_allocator_impl.cc:80] Allocation of 3932160000 exceeds 10% of free system memory.\n",
      "2021-10-27 02:03:29.374074: W tensorflow/core/framework/cpu_allocator_impl.cc:80] Allocation of 3932160000 exceeds 10% of free system memory.\n",
      "2021-10-27 02:03:31.069541: W tensorflow/core/framework/cpu_allocator_impl.cc:80] Allocation of 3932160000 exceeds 10% of free system memory.\n",
      "2021-10-27 02:03:32.026142: W tensorflow/core/framework/cpu_allocator_impl.cc:80] Allocation of 3932160000 exceeds 10% of free system memory.\n"
     ]
    }
   ],
   "source": [
    "%%time\n",
    "\n",
    "for sents_docs in fetch_in_batches(collections.sentences, 10000):\n",
    "    sents = [sent_doc[\"sentence\"] for sent_doc in sents_docs]\n",
    "    embeddings = embedd_sentences(sents, EmbeddingType.LABSE)\n",
    "\n",
    "    for embedding, sent_doc in zip(embeddings, sents_docs):\n",
    "        sent_doc[EMBEDDING] = list(embedding.numpy())\n",
    "        sent_doc.patch()\n",
    "    break"
   ]
  }
 ],
 "metadata": {
  "kernelspec": {
   "display_name": "Python 3 (ipykernel)",
   "language": "python",
   "name": "python3"
  },
  "language_info": {
   "codemirror_mode": {
    "name": "ipython",
    "version": 3
   },
   "file_extension": ".py",
   "mimetype": "text/x-python",
   "name": "python",
   "nbconvert_exporter": "python",
   "pygments_lexer": "ipython3",
   "version": "3.8.10"
  }
 },
 "nbformat": 4,
 "nbformat_minor": 5
}
