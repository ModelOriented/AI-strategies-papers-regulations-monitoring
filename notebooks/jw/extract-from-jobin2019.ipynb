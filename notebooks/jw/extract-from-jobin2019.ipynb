{
 "cells": [
  {
   "cell_type": "code",
   "execution_count": 90,
   "metadata": {
    "pycharm": {
     "is_executing": true
    }
   },
   "outputs": [],
   "source": [
    "import pdfminer\n",
    "import numpy as np\n",
    "import pdfminer.converter\n",
    "import pdfminer.layout\n",
    "import pdfminer.pdfinterp\n",
    "import pdfminer.pdfpage\n",
    "import re\n",
    "from mars.utils import extract_text_from_pdf"
   ]
  },
  {
   "cell_type": "code",
   "execution_count": 91,
   "metadata": {},
   "outputs": [],
   "source": [
    "file_name = 'C:\\\\Users\\jakwi\\Downloads\\\\1906.11668.pdf'"
   ]
  },
  {
   "cell_type": "code",
   "execution_count": 108,
   "metadata": {},
   "outputs": [],
   "source": [
    "def get_longest(text_list): \n",
    "    lengths = [] \n",
    "    for text in text_list: \n",
    "        lengths.append(len(text))\n",
    "    lengths = np.array(lengths)\n",
    "    return text_list[int(np.argmax(lengths))]\n",
    "\n",
    "def extract_citations_from_jobin2019(filename):\n",
    "    \"\"\"Extracts citation numbers from jobin2019 - preprint version\"\"\"\n",
    "    \n",
    "    # get text\n",
    "    separated_text = extract_text_from_pdf(file_name)['separated_text']\n",
    "    \n",
    "    # getting the longest - the proper text on page\n",
    "    text_on_pages = [get_longest(st) for st in separated_text]\n",
    "    text_on_pages = np.array(text_on_pages)\n",
    "        \n",
    "    # split words like buckets\n",
    "    # everything above justice fairness and equity is Transparency \n",
    "    # later it is excluded from text and everything above Non-maleficience is Justice, fairness, and equity, etc.\n",
    "    split_words = [\n",
    "    'Transparency',\n",
    "    'Justice, fairness, and equity', \n",
    "    'Non-maleficence', \n",
    "    'Responsibility and accountability', \n",
    "    'Privacy',\n",
    "    'Beneficence',\n",
    "    'Freedom and autonomy',\n",
    "    'Trust',\n",
    "    'Sustainability',\n",
    "    'Dignity',\n",
    "    'Solidarity',\n",
    "    'Discussion'] # stopword - last one will be excluded \n",
    "    \n",
    "    threads = dict.fromkeys(split_words)\n",
    "    \n",
    "    # clean\n",
    "    for i, text in enumerate(text_on_pages): \n",
    "        text = text.replace('\\n', '')\n",
    "        text = text.replace('(cf. Table 2)', '')\n",
    "        text = text.replace('1.5', '')\n",
    "\n",
    "\n",
    "        text_on_pages[i] = text\n",
    "        \n",
    "    relevant_text = ' '.join(text_on_pages[7:13])\n",
    "\n",
    "    for i in range(len(list(threads.keys()))-1):\n",
    "        earlier_thread = list(threads.keys())[i]\n",
    "        split_thread = list(threads.keys())[i + 1] \n",
    "        splitted = relevant_text.split(split_thread, 1)           \n",
    "        threads[earlier_thread] = splitted[0]\n",
    "\n",
    "        relevant_text = splitted[1]\n",
    "        \n",
    "        # pop empty one\n",
    "        threads.pop('Discussion')\n",
    "        \n",
    "        all_citations = []\n",
    "        for key, text in threads.items(): \n",
    "            citations = np.array(re.findall(r'\\d+', text))\n",
    "            additional_citations = re.findall(r'\\d+[–]\\d+', text)\n",
    "            for ac in additional_citations: \n",
    "                range_ = re.findall(r'\\d+', ac)\n",
    "                lower, higher = int(range_[0]), int(range_[1])\n",
    "                between = np.arange(lower+1, higher)\n",
    "                citations = np.append(citations, between)\n",
    "            all_citations.append(citations)\n",
    "\n",
    "        for i, ac in enumerate(all_citations): \n",
    "            ac = np.unique(ac)\n",
    "            all_citations[i] = ac\n",
    "        \n",
    "        return all_citations"
   ]
  },
  {
   "cell_type": "code",
   "execution_count": 109,
   "metadata": {},
   "outputs": [
    {
     "name": "stdout",
     "output_type": "stream",
     "text": [
      "justification, domain of application, and mode of achievement. References to transparency comprise efforts to increase explainability, interpretability or other acts of communication and disclosure . Principal domains of application include data use23–26, human-AI interaction23,27–35, automated decisions26,36–46, and the purpose of data use or application of AI systems24,27,47–51. Primarily, transparency is presented as a way to minimize harm and improve  AI36–38,44,45,49,52–55, legal reasons37,45,46,49,50,52  or  to  foster  trust23,24,29,33,36,37,48,51,52,56–58.  A  few  sources  also  link transparency to dialogue, participation, and the principles of democracy30,41,49,50,52,59.  To achieve greater transparency, many sources suggest increased disclosure of information by  those  developing  or  deploying  AI  systems36,51,60,61,  although  specifications  regarding what should be communicated vary greatly: use of AI45, source code31,52,62, data use35,47,50,58, evidence  base  for  AI  use57,  limitations25,33,47,51,58,60,63,  laws62,64,  responsibility  for  AI40, investments in AI44,65 and possible impact66. The provision of explanations ‘in non-technical terms’26  or and auditability28,39,44,45,50,59,61,62,67,68 are mainly proposed by data protection offices and NPOs, it  is  mostly  the  private  sector  that  suggests  technical  solutions27,30,52,59,69,70.  Alternative measures focus on oversight45,47,48,55,62, interaction and mediation with stakeholders and the public24,32,36,51,61,71 and the facilitation of whistleblowing36,60.  \n"
     ]
    },
    {
     "ename": "TypeError",
     "evalue": "expected string or bytes-like object",
     "output_type": "error",
     "traceback": [
      "\u001B[1;31m---------------------------------------------------------------------------\u001B[0m",
      "\u001B[1;31mTypeError\u001B[0m                                 Traceback (most recent call last)",
      "\u001B[1;32m~\\AppData\\Local\\Temp/ipykernel_14320/289801717.py\u001B[0m in \u001B[0;36m<module>\u001B[1;34m\u001B[0m\n\u001B[1;32m----> 1\u001B[1;33m \u001B[0mcitations\u001B[0m \u001B[1;33m=\u001B[0m \u001B[0mextract_citations_from_jobin2019\u001B[0m\u001B[1;33m(\u001B[0m\u001B[0mfile_name\u001B[0m\u001B[1;33m)\u001B[0m\u001B[1;33m\u001B[0m\u001B[1;33m\u001B[0m\u001B[0m\n\u001B[0m",
      "\u001B[1;32m~\\AppData\\Local\\Temp/ipykernel_14320/1718557578.py\u001B[0m in \u001B[0;36mextract_citations_from_jobin2019\u001B[1;34m(filename)\u001B[0m\n\u001B[0;32m     59\u001B[0m         \u001B[0mall_citations\u001B[0m \u001B[1;33m=\u001B[0m \u001B[1;33m[\u001B[0m\u001B[1;33m]\u001B[0m\u001B[1;33m\u001B[0m\u001B[1;33m\u001B[0m\u001B[0m\n\u001B[0;32m     60\u001B[0m         \u001B[1;32mfor\u001B[0m \u001B[0mkey\u001B[0m\u001B[1;33m,\u001B[0m \u001B[0mtext\u001B[0m \u001B[1;32min\u001B[0m \u001B[0mthreads\u001B[0m\u001B[1;33m.\u001B[0m\u001B[0mitems\u001B[0m\u001B[1;33m(\u001B[0m\u001B[1;33m)\u001B[0m\u001B[1;33m:\u001B[0m\u001B[1;33m\u001B[0m\u001B[1;33m\u001B[0m\u001B[0m\n\u001B[1;32m---> 61\u001B[1;33m             \u001B[0mcitations\u001B[0m \u001B[1;33m=\u001B[0m \u001B[0mnp\u001B[0m\u001B[1;33m.\u001B[0m\u001B[0marray\u001B[0m\u001B[1;33m(\u001B[0m\u001B[0mre\u001B[0m\u001B[1;33m.\u001B[0m\u001B[0mfindall\u001B[0m\u001B[1;33m(\u001B[0m\u001B[1;34mr'\\d+'\u001B[0m\u001B[1;33m,\u001B[0m \u001B[0mtext\u001B[0m\u001B[1;33m)\u001B[0m\u001B[1;33m)\u001B[0m\u001B[1;33m\u001B[0m\u001B[1;33m\u001B[0m\u001B[0m\n\u001B[0m\u001B[0;32m     62\u001B[0m             \u001B[0madditional_citations\u001B[0m \u001B[1;33m=\u001B[0m \u001B[0mre\u001B[0m\u001B[1;33m.\u001B[0m\u001B[0mfindall\u001B[0m\u001B[1;33m(\u001B[0m\u001B[1;34mr'\\d+[–]\\d+'\u001B[0m\u001B[1;33m,\u001B[0m \u001B[0mtext\u001B[0m\u001B[1;33m)\u001B[0m\u001B[1;33m\u001B[0m\u001B[1;33m\u001B[0m\u001B[0m\n\u001B[0;32m     63\u001B[0m             \u001B[1;32mfor\u001B[0m \u001B[0mac\u001B[0m \u001B[1;32min\u001B[0m \u001B[0madditional_citations\u001B[0m\u001B[1;33m:\u001B[0m\u001B[1;33m\u001B[0m\u001B[1;33m\u001B[0m\u001B[0m\n",
      "\u001B[1;32m~\\AppData\\Local\\Programs\\Python\\Python37\\lib\\re.py\u001B[0m in \u001B[0;36mfindall\u001B[1;34m(pattern, string, flags)\u001B[0m\n\u001B[0;32m    223\u001B[0m \u001B[1;33m\u001B[0m\u001B[0m\n\u001B[0;32m    224\u001B[0m     Empty matches are included in the result.\"\"\"\n\u001B[1;32m--> 225\u001B[1;33m     \u001B[1;32mreturn\u001B[0m \u001B[0m_compile\u001B[0m\u001B[1;33m(\u001B[0m\u001B[0mpattern\u001B[0m\u001B[1;33m,\u001B[0m \u001B[0mflags\u001B[0m\u001B[1;33m)\u001B[0m\u001B[1;33m.\u001B[0m\u001B[0mfindall\u001B[0m\u001B[1;33m(\u001B[0m\u001B[0mstring\u001B[0m\u001B[1;33m)\u001B[0m\u001B[1;33m\u001B[0m\u001B[1;33m\u001B[0m\u001B[0m\n\u001B[0m\u001B[0;32m    226\u001B[0m \u001B[1;33m\u001B[0m\u001B[0m\n\u001B[0;32m    227\u001B[0m \u001B[1;32mdef\u001B[0m \u001B[0mfinditer\u001B[0m\u001B[1;33m(\u001B[0m\u001B[0mpattern\u001B[0m\u001B[1;33m,\u001B[0m \u001B[0mstring\u001B[0m\u001B[1;33m,\u001B[0m \u001B[0mflags\u001B[0m\u001B[1;33m=\u001B[0m\u001B[1;36m0\u001B[0m\u001B[1;33m)\u001B[0m\u001B[1;33m:\u001B[0m\u001B[1;33m\u001B[0m\u001B[1;33m\u001B[0m\u001B[0m\n",
      "\u001B[1;31mTypeError\u001B[0m: expected string or bytes-like object"
     ]
    }
   ],
   "source": [
    "citations = extract_citations_from_jobin2019(file_name)"
   ]
  },
  {
   "cell_type": "code",
   "execution_count": 103,
   "metadata": {},
   "outputs": [],
   "source": []
  },
  {
   "cell_type": "code",
   "execution_count": 104,
   "metadata": {},
   "outputs": [
    {
     "data": {
      "text/plain": [
       "[array(['23', '24', '25', '26', '27', '28', '29', '30', '31', '32', '33',\n",
       "        '34', '35', '36', '37', '38', '39', '40', '41', '42', '43', '44',\n",
       "        '45', '46', '47', '48', '49', '50', '51', '52', '53', '54', '55',\n",
       "        '56', '57', '58', '59', '60', '61', '62', '63', '64', '65', '66',\n",
       "        '67', '68', '69', '70', '71'], dtype='<U11'),\n",
       " array(['23', '25', '27', '28', '29', '31', '33', '35', '36', '37', '38',\n",
       "        '39', '41', '42', '43', '44', '45', '46', '47', '48', '50', '51',\n",
       "        '52', '54', '55', '56', '57', '58', '59', '60', '62', '63', '65',\n",
       "        '66', '67', '68', '69', '70', '72', '73', '74', '75', '76', '77',\n",
       "        '78', '79', '80', '81', '82', '83', '84', '85', '86', '87', '88',\n",
       "        '89', '90', '91', '92', '93', '94', '95'], dtype='<U11'),\n",
       " array(['100', '101', '102', '23', '25', '27', '30', '31', '32', '33',\n",
       "        '34', '35', '36', '37', '38', '39', '40', '44', '47', '48', '50',\n",
       "        '51', '53', '54', '55', '56', '57', '58', '60', '62', '63', '64',\n",
       "        '68', '69', '72', '73', '74', '78', '79', '8', '80', '81', '82',\n",
       "        '85', '89', '90', '92', '94', '95', '96', '97', '98', '99'],\n",
       "       dtype='<U11'),\n",
       " array(['103', '23', '26', '31', '32', '35', '36', '37', '40', '42', '43',\n",
       "        '44', '47', '49', '51', '52', '55', '58', '59', '60', '69', '70',\n",
       "        '73', '74', '78', '83', '92', '96'], dtype='<U3'),\n",
       " array(['104', '105', '23', '25', '27', '28', '32', '35', '36', '37', '38',\n",
       "        '44', '47', '52', '53', '58', '60', '64', '66', '71', '74', '75',\n",
       "        '79', '80', '81', '83', '88', '89', '92', '98', '99'], dtype='<U3'),\n",
       " array(['100', '102', '23', '27', '34', '36', '37', '38', '44', '48', '49',\n",
       "        '52', '53', '58', '59', '60', '65', '66', '72', '76', '82', '83',\n",
       "        '84', '86', '87', '90', '99'], dtype='<U3'),\n",
       " array(['105', '28', '30', '31', '33', '36', '38', '44', '52', '55', '58',\n",
       "        '62', '67', '69', '72', '73', '74', '77', '79', '80', '81', '82',\n",
       "        '90', '92', '96', '99'], dtype='<U3'),\n",
       " array(['104', '23', '24', '30', '33', '36', '37', '43', '50', '51', '52',\n",
       "        '56', '57', '58', '60', '63', '64', '66', '74', '80', '81', '91',\n",
       "        '97', '99'], dtype='<U3'),\n",
       " array(['31', '33', '37', '38', '43', '44', '46', '48', '65', '66', '76',\n",
       "        '90'], dtype='<U2'),\n",
       " array(['101', '31', '33', '36', '37', '38', '69', '80', '82', '92', '96'],\n",
       "       dtype='<U3'),\n",
       " array(['104', '33', '37', '38', '49', '84'], dtype='<U3')]"
      ]
     },
     "execution_count": 104,
     "metadata": {},
     "output_type": "execute_result"
    }
   ],
   "source": []
  }
 ],
 "metadata": {
  "kernelspec": {
   "display_name": "Python 3 (ipykernel)",
   "language": "python",
   "name": "python3"
  },
  "language_info": {
   "codemirror_mode": {
    "name": "ipython",
    "version": 3
   },
   "file_extension": ".py",
   "mimetype": "text/x-python",
   "name": "python",
   "nbconvert_exporter": "python",
   "pygments_lexer": "ipython3",
   "version": "3.7.9"
  }
 },
 "nbformat": 4,
 "nbformat_minor": 1
}