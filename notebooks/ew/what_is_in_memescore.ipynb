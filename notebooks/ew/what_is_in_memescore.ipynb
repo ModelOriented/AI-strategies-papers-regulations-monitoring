{
 "cells": [
  {
   "cell_type": "code",
   "execution_count": 42,
   "metadata": {
    "collapsed": true,
    "pycharm": {
     "name": "#%%\n"
    }
   },
   "outputs": [],
   "source": [
    "import pandas as pd"
   ]
  },
  {
   "cell_type": "code",
   "execution_count": 43,
   "outputs": [],
   "source": [
    "df = pd.read_parquet('/home/emilia/PycharmProjects/AI-strategies-papers-regulations-monitoring2/data/s2orc/results/meme_score.parquet')"
   ],
   "metadata": {
    "collapsed": false,
    "pycharm": {
     "name": "#%%\n"
    }
   }
  },
  {
   "cell_type": "code",
   "execution_count": 44,
   "outputs": [
    {
     "data": {
      "text/plain": "   meme_id     meme_score  meme_score_BT\n0        0       0.000000       0.000000\n1        1       0.000000       0.000000\n2        2       0.000000       0.000000\n3        3  287143.872124  784105.513713\n4        4   83708.871995  544084.649182",
      "text/html": "<div>\n<style scoped>\n    .dataframe tbody tr th:only-of-type {\n        vertical-align: middle;\n    }\n\n    .dataframe tbody tr th {\n        vertical-align: top;\n    }\n\n    .dataframe thead th {\n        text-align: right;\n    }\n</style>\n<table border=\"1\" class=\"dataframe\">\n  <thead>\n    <tr style=\"text-align: right;\">\n      <th></th>\n      <th>meme_id</th>\n      <th>meme_score</th>\n      <th>meme_score_BT</th>\n    </tr>\n  </thead>\n  <tbody>\n    <tr>\n      <th>0</th>\n      <td>0</td>\n      <td>0.000000</td>\n      <td>0.000000</td>\n    </tr>\n    <tr>\n      <th>1</th>\n      <td>1</td>\n      <td>0.000000</td>\n      <td>0.000000</td>\n    </tr>\n    <tr>\n      <th>2</th>\n      <td>2</td>\n      <td>0.000000</td>\n      <td>0.000000</td>\n    </tr>\n    <tr>\n      <th>3</th>\n      <td>3</td>\n      <td>287143.872124</td>\n      <td>784105.513713</td>\n    </tr>\n    <tr>\n      <th>4</th>\n      <td>4</td>\n      <td>83708.871995</td>\n      <td>544084.649182</td>\n    </tr>\n  </tbody>\n</table>\n</div>"
     },
     "execution_count": 44,
     "metadata": {},
     "output_type": "execute_result"
    }
   ],
   "source": [
    "df.head()"
   ],
   "metadata": {
    "collapsed": false,
    "pycharm": {
     "name": "#%%\n"
    }
   }
  },
  {
   "cell_type": "code",
   "execution_count": 45,
   "outputs": [],
   "source": [
    "df_big_tech = df[df['meme_score_BT'] > 0].sort_values(by='meme_score_BT', ascending=False)"
   ],
   "metadata": {
    "collapsed": false,
    "pycharm": {
     "name": "#%%\n"
    }
   }
  },
  {
   "cell_type": "code",
   "execution_count": 46,
   "outputs": [],
   "source": [
    "df_big_tech['diff'] = df['meme_score_BT'] - df['meme_score']"
   ],
   "metadata": {
    "collapsed": false,
    "pycharm": {
     "name": "#%%\n"
    }
   }
  },
  {
   "cell_type": "code",
   "execution_count": 47,
   "outputs": [
    {
     "data": {
      "text/plain": "        meme_id    meme_score  meme_score_BT          diff\n898653  1090360  6.132010e+09   1.073090e+10  4.598892e+09\n392558   464241  3.577010e+09   3.902190e+09  3.251798e+08\n656394   790598  1.233397e+05   1.788253e+06  1.664914e+06\n395948   468400  3.219132e+05   1.609437e+06  1.287524e+06\n473550   564351  8.320494e+04   1.340746e+06  1.257541e+06\n...         ...           ...            ...           ...\n884275  1072538  3.312364e+05   6.725245e+04 -2.639840e+05\n14639     14647  2.933573e+05   2.604448e+04 -2.673128e+05\n49737     49783  5.475311e+05   2.243521e+05 -3.231790e+05\n81682     81750  5.670309e+05   1.890087e+05 -3.780221e+05\n303         303  5.941380e+05   1.186984e+05 -4.754395e+05\n\n[4831 rows x 4 columns]",
      "text/html": "<div>\n<style scoped>\n    .dataframe tbody tr th:only-of-type {\n        vertical-align: middle;\n    }\n\n    .dataframe tbody tr th {\n        vertical-align: top;\n    }\n\n    .dataframe thead th {\n        text-align: right;\n    }\n</style>\n<table border=\"1\" class=\"dataframe\">\n  <thead>\n    <tr style=\"text-align: right;\">\n      <th></th>\n      <th>meme_id</th>\n      <th>meme_score</th>\n      <th>meme_score_BT</th>\n      <th>diff</th>\n    </tr>\n  </thead>\n  <tbody>\n    <tr>\n      <th>898653</th>\n      <td>1090360</td>\n      <td>6.132010e+09</td>\n      <td>1.073090e+10</td>\n      <td>4.598892e+09</td>\n    </tr>\n    <tr>\n      <th>392558</th>\n      <td>464241</td>\n      <td>3.577010e+09</td>\n      <td>3.902190e+09</td>\n      <td>3.251798e+08</td>\n    </tr>\n    <tr>\n      <th>656394</th>\n      <td>790598</td>\n      <td>1.233397e+05</td>\n      <td>1.788253e+06</td>\n      <td>1.664914e+06</td>\n    </tr>\n    <tr>\n      <th>395948</th>\n      <td>468400</td>\n      <td>3.219132e+05</td>\n      <td>1.609437e+06</td>\n      <td>1.287524e+06</td>\n    </tr>\n    <tr>\n      <th>473550</th>\n      <td>564351</td>\n      <td>8.320494e+04</td>\n      <td>1.340746e+06</td>\n      <td>1.257541e+06</td>\n    </tr>\n    <tr>\n      <th>...</th>\n      <td>...</td>\n      <td>...</td>\n      <td>...</td>\n      <td>...</td>\n    </tr>\n    <tr>\n      <th>884275</th>\n      <td>1072538</td>\n      <td>3.312364e+05</td>\n      <td>6.725245e+04</td>\n      <td>-2.639840e+05</td>\n    </tr>\n    <tr>\n      <th>14639</th>\n      <td>14647</td>\n      <td>2.933573e+05</td>\n      <td>2.604448e+04</td>\n      <td>-2.673128e+05</td>\n    </tr>\n    <tr>\n      <th>49737</th>\n      <td>49783</td>\n      <td>5.475311e+05</td>\n      <td>2.243521e+05</td>\n      <td>-3.231790e+05</td>\n    </tr>\n    <tr>\n      <th>81682</th>\n      <td>81750</td>\n      <td>5.670309e+05</td>\n      <td>1.890087e+05</td>\n      <td>-3.780221e+05</td>\n    </tr>\n    <tr>\n      <th>303</th>\n      <td>303</td>\n      <td>5.941380e+05</td>\n      <td>1.186984e+05</td>\n      <td>-4.754395e+05</td>\n    </tr>\n  </tbody>\n</table>\n<p>4831 rows × 4 columns</p>\n</div>"
     },
     "execution_count": 47,
     "metadata": {},
     "output_type": "execute_result"
    }
   ],
   "source": [
    "df_big_tech.sort_values(by='diff', ascending=False)"
   ],
   "metadata": {
    "collapsed": false,
    "pycharm": {
     "name": "#%%\n"
    }
   }
  },
  {
   "cell_type": "code",
   "execution_count": 48,
   "outputs": [
    {
     "data": {
      "text/plain": "4831"
     },
     "execution_count": 48,
     "metadata": {},
     "output_type": "execute_result"
    }
   ],
   "source": [
    "len(df_big_tech)"
   ],
   "metadata": {
    "collapsed": false,
    "pycharm": {
     "name": "#%%\n"
    }
   }
  },
  {
   "cell_type": "code",
   "execution_count": 49,
   "outputs": [],
   "source": [
    "names = pd.read_parquet('/home/emilia/PycharmProjects/AI-strategies-papers-regulations-monitoring2/data/s2orc/clusterings/clusters_names/reduced_300_big_cleaned_mini_all-MiniLM-L6-v2_eps_0.0.parquet')"
   ],
   "metadata": {
    "collapsed": false,
    "pycharm": {
     "name": "#%%\n"
    }
   }
  },
  {
   "cell_type": "code",
   "execution_count": 50,
   "outputs": [
    {
     "data": {
      "text/plain": "   meme_id              most_common             best_tfidf\n0        0            mercer kernel         mercer_ljupˇco\n1        1                  hedging          hedging_aﬀect\n2        2  nas parallel benchmarks  benchmarks_openmpbase\n3        3             saliency map       saliency_salient\n4        4              remediation    remediation_remedia",
      "text/html": "<div>\n<style scoped>\n    .dataframe tbody tr th:only-of-type {\n        vertical-align: middle;\n    }\n\n    .dataframe tbody tr th {\n        vertical-align: top;\n    }\n\n    .dataframe thead th {\n        text-align: right;\n    }\n</style>\n<table border=\"1\" class=\"dataframe\">\n  <thead>\n    <tr style=\"text-align: right;\">\n      <th></th>\n      <th>meme_id</th>\n      <th>most_common</th>\n      <th>best_tfidf</th>\n    </tr>\n  </thead>\n  <tbody>\n    <tr>\n      <th>0</th>\n      <td>0</td>\n      <td>mercer kernel</td>\n      <td>mercer_ljupˇco</td>\n    </tr>\n    <tr>\n      <th>1</th>\n      <td>1</td>\n      <td>hedging</td>\n      <td>hedging_aﬀect</td>\n    </tr>\n    <tr>\n      <th>2</th>\n      <td>2</td>\n      <td>nas parallel benchmarks</td>\n      <td>benchmarks_openmpbase</td>\n    </tr>\n    <tr>\n      <th>3</th>\n      <td>3</td>\n      <td>saliency map</td>\n      <td>saliency_salient</td>\n    </tr>\n    <tr>\n      <th>4</th>\n      <td>4</td>\n      <td>remediation</td>\n      <td>remediation_remedia</td>\n    </tr>\n  </tbody>\n</table>\n</div>"
     },
     "execution_count": 50,
     "metadata": {},
     "output_type": "execute_result"
    }
   ],
   "source": [
    "names.head()"
   ],
   "metadata": {
    "collapsed": false,
    "pycharm": {
     "name": "#%%\n"
    }
   }
  },
  {
   "cell_type": "code",
   "execution_count": 51,
   "outputs": [],
   "source": [
    "dff = df_big_tech.merge(names, left_on='meme_id', right_on='meme_id')"
   ],
   "metadata": {
    "collapsed": false,
    "pycharm": {
     "name": "#%%\n"
    }
   }
  },
  {
   "cell_type": "code",
   "execution_count": 39,
   "outputs": [
    {
     "data": {
      "text/plain": "   meme_id    meme_score  meme_score_BT          diff  \\\n0    38243  4.863358e+09   7.294551e+09  2.431193e+09   \n1   124450  1.042144e+09   7.294331e+09  6.252187e+09   \n2   719571  1.042144e+09   7.294331e+09  6.252187e+09   \n3  1090360  2.918038e+09   4.863331e+09  1.945294e+09   \n4  1047675  3.647539e+09   3.647448e+09 -9.118391e+04   \n\n                           most_common            best_tfidf  \n0                                  lea            lea_leabra  \n1                    uncompressed case     uncompressed_case  \n2         repeat read only data access           read_repeat  \n3                        partial field         partial_field  \n4  imbalanced sentiment classification  imbalanced_sentiment  ",
      "text/html": "<div>\n<style scoped>\n    .dataframe tbody tr th:only-of-type {\n        vertical-align: middle;\n    }\n\n    .dataframe tbody tr th {\n        vertical-align: top;\n    }\n\n    .dataframe thead th {\n        text-align: right;\n    }\n</style>\n<table border=\"1\" class=\"dataframe\">\n  <thead>\n    <tr style=\"text-align: right;\">\n      <th></th>\n      <th>meme_id</th>\n      <th>meme_score</th>\n      <th>meme_score_BT</th>\n      <th>diff</th>\n      <th>most_common</th>\n      <th>best_tfidf</th>\n    </tr>\n  </thead>\n  <tbody>\n    <tr>\n      <th>0</th>\n      <td>38243</td>\n      <td>4.863358e+09</td>\n      <td>7.294551e+09</td>\n      <td>2.431193e+09</td>\n      <td>lea</td>\n      <td>lea_leabra</td>\n    </tr>\n    <tr>\n      <th>1</th>\n      <td>124450</td>\n      <td>1.042144e+09</td>\n      <td>7.294331e+09</td>\n      <td>6.252187e+09</td>\n      <td>uncompressed case</td>\n      <td>uncompressed_case</td>\n    </tr>\n    <tr>\n      <th>2</th>\n      <td>719571</td>\n      <td>1.042144e+09</td>\n      <td>7.294331e+09</td>\n      <td>6.252187e+09</td>\n      <td>repeat read only data access</td>\n      <td>read_repeat</td>\n    </tr>\n    <tr>\n      <th>3</th>\n      <td>1090360</td>\n      <td>2.918038e+09</td>\n      <td>4.863331e+09</td>\n      <td>1.945294e+09</td>\n      <td>partial field</td>\n      <td>partial_field</td>\n    </tr>\n    <tr>\n      <th>4</th>\n      <td>1047675</td>\n      <td>3.647539e+09</td>\n      <td>3.647448e+09</td>\n      <td>-9.118391e+04</td>\n      <td>imbalanced sentiment classification</td>\n      <td>imbalanced_sentiment</td>\n    </tr>\n  </tbody>\n</table>\n</div>"
     },
     "execution_count": 39,
     "metadata": {},
     "output_type": "execute_result"
    }
   ],
   "source": [
    "dff.head()"
   ],
   "metadata": {
    "collapsed": false,
    "pycharm": {
     "name": "#%%\n"
    }
   }
  },
  {
   "cell_type": "code",
   "execution_count": 52,
   "outputs": [
    {
     "data": {
      "text/plain": "      meme_id    meme_score  meme_score_BT          diff  \\\n0     1090360  6.132010e+09   1.073090e+10  4.598892e+09   \n43     464241  3.577010e+09   3.902190e+09  3.251798e+08   \n115    790598  1.233397e+05   1.788253e+06  1.664914e+06   \n123    468400  3.219132e+05   1.609437e+06  1.287524e+06   \n144    564351  8.320494e+04   1.340746e+06  1.257541e+06   \n...       ...           ...            ...           ...   \n3202  1072538  3.312364e+05   6.725245e+04 -2.639840e+05   \n4201    14647  2.933573e+05   2.604448e+04 -2.673128e+05   \n1536    49783  5.475311e+05   2.243521e+05 -3.231790e+05   \n1751    81750  5.670309e+05   1.890087e+05 -3.780221e+05   \n2419      303  5.941380e+05   1.186984e+05 -4.754395e+05   \n\n                 most_common          best_tfidf  \n0              partial field       partial_field  \n43             runtime waste       waste_runtime  \n115       design opportunity  opportunity_design  \n123             domain owner        owner_domain  \n144   high energy efficiency   energy_efficiency  \n...                      ...                 ...  \n3202                      ad                  ad  \n4201        speed limit sign          signs_sign  \n1536             spike train   spikeprop_spiking  \n1751        distribute graph          pregel_dgc  \n2419                epilepsy    epilepsy_seizure  \n\n[4831 rows x 6 columns]",
      "text/html": "<div>\n<style scoped>\n    .dataframe tbody tr th:only-of-type {\n        vertical-align: middle;\n    }\n\n    .dataframe tbody tr th {\n        vertical-align: top;\n    }\n\n    .dataframe thead th {\n        text-align: right;\n    }\n</style>\n<table border=\"1\" class=\"dataframe\">\n  <thead>\n    <tr style=\"text-align: right;\">\n      <th></th>\n      <th>meme_id</th>\n      <th>meme_score</th>\n      <th>meme_score_BT</th>\n      <th>diff</th>\n      <th>most_common</th>\n      <th>best_tfidf</th>\n    </tr>\n  </thead>\n  <tbody>\n    <tr>\n      <th>0</th>\n      <td>1090360</td>\n      <td>6.132010e+09</td>\n      <td>1.073090e+10</td>\n      <td>4.598892e+09</td>\n      <td>partial field</td>\n      <td>partial_field</td>\n    </tr>\n    <tr>\n      <th>43</th>\n      <td>464241</td>\n      <td>3.577010e+09</td>\n      <td>3.902190e+09</td>\n      <td>3.251798e+08</td>\n      <td>runtime waste</td>\n      <td>waste_runtime</td>\n    </tr>\n    <tr>\n      <th>115</th>\n      <td>790598</td>\n      <td>1.233397e+05</td>\n      <td>1.788253e+06</td>\n      <td>1.664914e+06</td>\n      <td>design opportunity</td>\n      <td>opportunity_design</td>\n    </tr>\n    <tr>\n      <th>123</th>\n      <td>468400</td>\n      <td>3.219132e+05</td>\n      <td>1.609437e+06</td>\n      <td>1.287524e+06</td>\n      <td>domain owner</td>\n      <td>owner_domain</td>\n    </tr>\n    <tr>\n      <th>144</th>\n      <td>564351</td>\n      <td>8.320494e+04</td>\n      <td>1.340746e+06</td>\n      <td>1.257541e+06</td>\n      <td>high energy efficiency</td>\n      <td>energy_efficiency</td>\n    </tr>\n    <tr>\n      <th>...</th>\n      <td>...</td>\n      <td>...</td>\n      <td>...</td>\n      <td>...</td>\n      <td>...</td>\n      <td>...</td>\n    </tr>\n    <tr>\n      <th>3202</th>\n      <td>1072538</td>\n      <td>3.312364e+05</td>\n      <td>6.725245e+04</td>\n      <td>-2.639840e+05</td>\n      <td>ad</td>\n      <td>ad</td>\n    </tr>\n    <tr>\n      <th>4201</th>\n      <td>14647</td>\n      <td>2.933573e+05</td>\n      <td>2.604448e+04</td>\n      <td>-2.673128e+05</td>\n      <td>speed limit sign</td>\n      <td>signs_sign</td>\n    </tr>\n    <tr>\n      <th>1536</th>\n      <td>49783</td>\n      <td>5.475311e+05</td>\n      <td>2.243521e+05</td>\n      <td>-3.231790e+05</td>\n      <td>spike train</td>\n      <td>spikeprop_spiking</td>\n    </tr>\n    <tr>\n      <th>1751</th>\n      <td>81750</td>\n      <td>5.670309e+05</td>\n      <td>1.890087e+05</td>\n      <td>-3.780221e+05</td>\n      <td>distribute graph</td>\n      <td>pregel_dgc</td>\n    </tr>\n    <tr>\n      <th>2419</th>\n      <td>303</td>\n      <td>5.941380e+05</td>\n      <td>1.186984e+05</td>\n      <td>-4.754395e+05</td>\n      <td>epilepsy</td>\n      <td>epilepsy_seizure</td>\n    </tr>\n  </tbody>\n</table>\n<p>4831 rows × 6 columns</p>\n</div>"
     },
     "execution_count": 52,
     "metadata": {},
     "output_type": "execute_result"
    }
   ],
   "source": [
    "dff.sort_values(by='diff', ascending=False)"
   ],
   "metadata": {
    "collapsed": false,
    "pycharm": {
     "name": "#%%\n"
    }
   }
  },
  {
   "cell_type": "code",
   "execution_count": 53,
   "outputs": [],
   "source": [
    "df_company = pd.read_parquet('/home/emilia/PycharmProjects/AI-strategies-papers-regulations-monitoring2/data/s2orc/results/meme_score_company.parquet')"
   ],
   "metadata": {
    "collapsed": false,
    "pycharm": {
     "name": "#%%\n"
    }
   }
  },
  {
   "cell_type": "code",
   "execution_count": 55,
   "outputs": [
    {
     "data": {
      "text/plain": "   meme_id     meme_score   meme_score_C\n0        0       0.000000       0.000000\n1        1       0.000000       0.000000\n2        2       0.000000       0.000000\n3        3  287143.872124  702066.780366\n4        4   83708.871995  544084.649182",
      "text/html": "<div>\n<style scoped>\n    .dataframe tbody tr th:only-of-type {\n        vertical-align: middle;\n    }\n\n    .dataframe tbody tr th {\n        vertical-align: top;\n    }\n\n    .dataframe thead th {\n        text-align: right;\n    }\n</style>\n<table border=\"1\" class=\"dataframe\">\n  <thead>\n    <tr style=\"text-align: right;\">\n      <th></th>\n      <th>meme_id</th>\n      <th>meme_score</th>\n      <th>meme_score_C</th>\n    </tr>\n  </thead>\n  <tbody>\n    <tr>\n      <th>0</th>\n      <td>0</td>\n      <td>0.000000</td>\n      <td>0.000000</td>\n    </tr>\n    <tr>\n      <th>1</th>\n      <td>1</td>\n      <td>0.000000</td>\n      <td>0.000000</td>\n    </tr>\n    <tr>\n      <th>2</th>\n      <td>2</td>\n      <td>0.000000</td>\n      <td>0.000000</td>\n    </tr>\n    <tr>\n      <th>3</th>\n      <td>3</td>\n      <td>287143.872124</td>\n      <td>702066.780366</td>\n    </tr>\n    <tr>\n      <th>4</th>\n      <td>4</td>\n      <td>83708.871995</td>\n      <td>544084.649182</td>\n    </tr>\n  </tbody>\n</table>\n</div>"
     },
     "execution_count": 55,
     "metadata": {},
     "output_type": "execute_result"
    }
   ],
   "source": [
    "df_company.head()"
   ],
   "metadata": {
    "collapsed": false,
    "pycharm": {
     "name": "#%%\n"
    }
   }
  },
  {
   "cell_type": "code",
   "execution_count": 56,
   "outputs": [],
   "source": [
    "df_company = df_company[df_company['meme_score_C'] > 0].sort_values(by='meme_score_C', ascending=False)"
   ],
   "metadata": {
    "collapsed": false,
    "pycharm": {
     "name": "#%%\n"
    }
   }
  },
  {
   "cell_type": "code",
   "execution_count": 58,
   "outputs": [],
   "source": [
    "df_company['diff'] = df_company['meme_score_C'] - df_company['meme_score']"
   ],
   "metadata": {
    "collapsed": false,
    "pycharm": {
     "name": "#%%\n"
    }
   }
  },
  {
   "cell_type": "code",
   "execution_count": 59,
   "outputs": [],
   "source": [
    "dff_company = df_company.merge(names, left_on='meme_id', right_on='meme_id')"
   ],
   "metadata": {
    "collapsed": false,
    "pycharm": {
     "name": "#%%\n"
    }
   }
  },
  {
   "cell_type": "code",
   "execution_count": 60,
   "outputs": [
    {
     "data": {
      "text/plain": "      meme_id    meme_score  meme_score_C          diff  \\\n0     1090360  6.132010e+09  1.073090e+10  4.598892e+09   \n1      651656  1.073016e+10  1.073016e+10  0.000000e+00   \n2      577676  1.073016e+10  1.073016e+10  0.000000e+00   \n3     1265584  1.073016e+10  1.073016e+10  0.000000e+00   \n4     1146734  1.073016e+10  1.073016e+10  0.000000e+00   \n...       ...           ...           ...           ...   \n6708  1218374  1.771932e+02  1.777930e+02  5.998231e-01   \n6709    74906  1.674884e+02  1.675657e+02  7.732613e-02   \n6710    81535  1.665526e+02  1.666802e+02  1.275874e-01   \n6711   553444  3.325095e+02  1.664842e+02 -1.660253e+02   \n6712    29292  1.170330e+02  1.171717e+02  1.387095e-01   \n\n                      most_common             best_tfidf  \n0                   partial field          partial_field  \n1                    secret value           secret_value  \n2           intel sgx instruction              sgx_intel  \n3                  navc prototype         navc_prototype  \n4     only about k research topic            about_topic  \n...                           ...                    ...  \n6708     deep feedforward network       feedforward_deep  \n6709                    videogame          videogame_egy  \n6710  exploratory factor analysis  factorsmodel_analyses  \n6711           monte carlo method            carlo_monte  \n6712              test error rate           expected_win  \n\n[6713 rows x 6 columns]",
      "text/html": "<div>\n<style scoped>\n    .dataframe tbody tr th:only-of-type {\n        vertical-align: middle;\n    }\n\n    .dataframe tbody tr th {\n        vertical-align: top;\n    }\n\n    .dataframe thead th {\n        text-align: right;\n    }\n</style>\n<table border=\"1\" class=\"dataframe\">\n  <thead>\n    <tr style=\"text-align: right;\">\n      <th></th>\n      <th>meme_id</th>\n      <th>meme_score</th>\n      <th>meme_score_C</th>\n      <th>diff</th>\n      <th>most_common</th>\n      <th>best_tfidf</th>\n    </tr>\n  </thead>\n  <tbody>\n    <tr>\n      <th>0</th>\n      <td>1090360</td>\n      <td>6.132010e+09</td>\n      <td>1.073090e+10</td>\n      <td>4.598892e+09</td>\n      <td>partial field</td>\n      <td>partial_field</td>\n    </tr>\n    <tr>\n      <th>1</th>\n      <td>651656</td>\n      <td>1.073016e+10</td>\n      <td>1.073016e+10</td>\n      <td>0.000000e+00</td>\n      <td>secret value</td>\n      <td>secret_value</td>\n    </tr>\n    <tr>\n      <th>2</th>\n      <td>577676</td>\n      <td>1.073016e+10</td>\n      <td>1.073016e+10</td>\n      <td>0.000000e+00</td>\n      <td>intel sgx instruction</td>\n      <td>sgx_intel</td>\n    </tr>\n    <tr>\n      <th>3</th>\n      <td>1265584</td>\n      <td>1.073016e+10</td>\n      <td>1.073016e+10</td>\n      <td>0.000000e+00</td>\n      <td>navc prototype</td>\n      <td>navc_prototype</td>\n    </tr>\n    <tr>\n      <th>4</th>\n      <td>1146734</td>\n      <td>1.073016e+10</td>\n      <td>1.073016e+10</td>\n      <td>0.000000e+00</td>\n      <td>only about k research topic</td>\n      <td>about_topic</td>\n    </tr>\n    <tr>\n      <th>...</th>\n      <td>...</td>\n      <td>...</td>\n      <td>...</td>\n      <td>...</td>\n      <td>...</td>\n      <td>...</td>\n    </tr>\n    <tr>\n      <th>6708</th>\n      <td>1218374</td>\n      <td>1.771932e+02</td>\n      <td>1.777930e+02</td>\n      <td>5.998231e-01</td>\n      <td>deep feedforward network</td>\n      <td>feedforward_deep</td>\n    </tr>\n    <tr>\n      <th>6709</th>\n      <td>74906</td>\n      <td>1.674884e+02</td>\n      <td>1.675657e+02</td>\n      <td>7.732613e-02</td>\n      <td>videogame</td>\n      <td>videogame_egy</td>\n    </tr>\n    <tr>\n      <th>6710</th>\n      <td>81535</td>\n      <td>1.665526e+02</td>\n      <td>1.666802e+02</td>\n      <td>1.275874e-01</td>\n      <td>exploratory factor analysis</td>\n      <td>factorsmodel_analyses</td>\n    </tr>\n    <tr>\n      <th>6711</th>\n      <td>553444</td>\n      <td>3.325095e+02</td>\n      <td>1.664842e+02</td>\n      <td>-1.660253e+02</td>\n      <td>monte carlo method</td>\n      <td>carlo_monte</td>\n    </tr>\n    <tr>\n      <th>6712</th>\n      <td>29292</td>\n      <td>1.170330e+02</td>\n      <td>1.171717e+02</td>\n      <td>1.387095e-01</td>\n      <td>test error rate</td>\n      <td>expected_win</td>\n    </tr>\n  </tbody>\n</table>\n<p>6713 rows × 6 columns</p>\n</div>"
     },
     "execution_count": 60,
     "metadata": {},
     "output_type": "execute_result"
    }
   ],
   "source": [
    "dff_company"
   ],
   "metadata": {
    "collapsed": false,
    "pycharm": {
     "name": "#%%\n"
    }
   }
  },
  {
   "cell_type": "code",
   "execution_count": 61,
   "outputs": [],
   "source": [
    "df_academia = pd.read_parquet('/home/emilia/PycharmProjects/AI-strategies-papers-regulations-monitoring2/data/s2orc/results/meme_score_academia.parquet')"
   ],
   "metadata": {
    "collapsed": false,
    "pycharm": {
     "name": "#%%\n"
    }
   }
  },
  {
   "cell_type": "code",
   "execution_count": 64,
   "outputs": [],
   "source": [
    "df_academia = df_academia[df_academia['meme_score_A'] > 0].sort_values(by='meme_score_A', ascending=False)\n",
    "df_academia['diff'] = df_academia['meme_score_A'] - df_academia['meme_score']\n",
    "dff_academia = df_academia.merge(names, left_on='meme_id', right_on='meme_id')"
   ],
   "metadata": {
    "collapsed": false,
    "pycharm": {
     "name": "#%%\n"
    }
   }
  },
  {
   "cell_type": "code",
   "execution_count": 65,
   "outputs": [
    {
     "data": {
      "text/plain": "       meme_id    meme_score  meme_score_A      diff  \\\n0       303242  2.146137e+10  2.146137e+10  0.000000   \n1      1293134  2.146137e+10  2.146137e+10  0.000000   \n2       524070  2.146137e+10  2.146137e+10  0.000000   \n3       704783  2.146137e+10  2.146137e+10  0.000000   \n4       712882  2.146137e+10  2.146137e+10  0.000000   \n...        ...           ...           ...       ...   \n33508    26389  3.322631e+02  3.324162e+02  0.153140   \n33509  1218374  1.771932e+02  1.772204e+02  0.027177   \n33510    74906  1.674884e+02  1.674884e+02  0.000000   \n33511    81535  1.665526e+02  1.665526e+02  0.000000   \n33512    34331  1.614554e+02  1.615280e+02  0.072575   \n\n                            most_common             best_tfidf  \n0                   suitable stage plan          plan_suitable  \n1              gradual machine learning        gradual_machine  \n2                multiple starting plan          starting_plan  \n3                        whole knee cdi               cdi_knee  \n4      real world manufacturing process    manufacturing_world  \n...                                 ...                    ...  \n33508                        simple one  simplerleasier_simply  \n33509          deep feedforward network       feedforward_deep  \n33510                         videogame          videogame_egy  \n33511       exploratory factor analysis  factorsmodel_analyses  \n33512            supplementary material       miu_supplemental  \n\n[33513 rows x 6 columns]",
      "text/html": "<div>\n<style scoped>\n    .dataframe tbody tr th:only-of-type {\n        vertical-align: middle;\n    }\n\n    .dataframe tbody tr th {\n        vertical-align: top;\n    }\n\n    .dataframe thead th {\n        text-align: right;\n    }\n</style>\n<table border=\"1\" class=\"dataframe\">\n  <thead>\n    <tr style=\"text-align: right;\">\n      <th></th>\n      <th>meme_id</th>\n      <th>meme_score</th>\n      <th>meme_score_A</th>\n      <th>diff</th>\n      <th>most_common</th>\n      <th>best_tfidf</th>\n    </tr>\n  </thead>\n  <tbody>\n    <tr>\n      <th>0</th>\n      <td>303242</td>\n      <td>2.146137e+10</td>\n      <td>2.146137e+10</td>\n      <td>0.000000</td>\n      <td>suitable stage plan</td>\n      <td>plan_suitable</td>\n    </tr>\n    <tr>\n      <th>1</th>\n      <td>1293134</td>\n      <td>2.146137e+10</td>\n      <td>2.146137e+10</td>\n      <td>0.000000</td>\n      <td>gradual machine learning</td>\n      <td>gradual_machine</td>\n    </tr>\n    <tr>\n      <th>2</th>\n      <td>524070</td>\n      <td>2.146137e+10</td>\n      <td>2.146137e+10</td>\n      <td>0.000000</td>\n      <td>multiple starting plan</td>\n      <td>starting_plan</td>\n    </tr>\n    <tr>\n      <th>3</th>\n      <td>704783</td>\n      <td>2.146137e+10</td>\n      <td>2.146137e+10</td>\n      <td>0.000000</td>\n      <td>whole knee cdi</td>\n      <td>cdi_knee</td>\n    </tr>\n    <tr>\n      <th>4</th>\n      <td>712882</td>\n      <td>2.146137e+10</td>\n      <td>2.146137e+10</td>\n      <td>0.000000</td>\n      <td>real world manufacturing process</td>\n      <td>manufacturing_world</td>\n    </tr>\n    <tr>\n      <th>...</th>\n      <td>...</td>\n      <td>...</td>\n      <td>...</td>\n      <td>...</td>\n      <td>...</td>\n      <td>...</td>\n    </tr>\n    <tr>\n      <th>33508</th>\n      <td>26389</td>\n      <td>3.322631e+02</td>\n      <td>3.324162e+02</td>\n      <td>0.153140</td>\n      <td>simple one</td>\n      <td>simplerleasier_simply</td>\n    </tr>\n    <tr>\n      <th>33509</th>\n      <td>1218374</td>\n      <td>1.771932e+02</td>\n      <td>1.772204e+02</td>\n      <td>0.027177</td>\n      <td>deep feedforward network</td>\n      <td>feedforward_deep</td>\n    </tr>\n    <tr>\n      <th>33510</th>\n      <td>74906</td>\n      <td>1.674884e+02</td>\n      <td>1.674884e+02</td>\n      <td>0.000000</td>\n      <td>videogame</td>\n      <td>videogame_egy</td>\n    </tr>\n    <tr>\n      <th>33511</th>\n      <td>81535</td>\n      <td>1.665526e+02</td>\n      <td>1.665526e+02</td>\n      <td>0.000000</td>\n      <td>exploratory factor analysis</td>\n      <td>factorsmodel_analyses</td>\n    </tr>\n    <tr>\n      <th>33512</th>\n      <td>34331</td>\n      <td>1.614554e+02</td>\n      <td>1.615280e+02</td>\n      <td>0.072575</td>\n      <td>supplementary material</td>\n      <td>miu_supplemental</td>\n    </tr>\n  </tbody>\n</table>\n<p>33513 rows × 6 columns</p>\n</div>"
     },
     "execution_count": 65,
     "metadata": {},
     "output_type": "execute_result"
    }
   ],
   "source": [
    "dff_academia"
   ],
   "metadata": {
    "collapsed": false,
    "pycharm": {
     "name": "#%%\n"
    }
   }
  }
 ],
 "metadata": {
  "kernelspec": {
   "display_name": "Python 3",
   "language": "python",
   "name": "python3"
  },
  "language_info": {
   "codemirror_mode": {
    "name": "ipython",
    "version": 2
   },
   "file_extension": ".py",
   "mimetype": "text/x-python",
   "name": "python",
   "nbconvert_exporter": "python",
   "pygments_lexer": "ipython2",
   "version": "2.7.6"
  }
 },
 "nbformat": 4,
 "nbformat_minor": 0
}