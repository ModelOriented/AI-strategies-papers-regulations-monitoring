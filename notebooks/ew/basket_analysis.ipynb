{
 "cells": [
  {
   "cell_type": "code",
   "execution_count": 1,
   "metadata": {
    "collapsed": true
   },
   "outputs": [],
   "source": [
    "import pandas as pd"
   ]
  },
  {
   "cell_type": "code",
   "execution_count": 2,
   "outputs": [],
   "source": [
    "df = pd.read_parquet('C:\\\\Users\\\\ewisnios\\\\PycharmProjects\\AI-strategies-papers-regulations-monitoring\\\\data\\\\s2orc\\\\results\\\\reduced_300_big_cleaned_mini_all-MiniLM-L6-v2_eps_0.0.parquet')"
   ],
   "metadata": {
    "collapsed": false,
    "pycharm": {
     "name": "#%%\n"
    }
   }
  },
  {
   "cell_type": "code",
   "execution_count": 3,
   "outputs": [
    {
     "data": {
      "text/plain": "            paper_id                                 outbound_citations  \\\npaper_id                                                                  \n199668001  199668001  [106476531, 67083539, 36731616, 34616216, 1096...   \n2879234      2879234  [206592419, 215721, 10111903, 1003907, 3198903...   \n17786914    17786914  [9530137, 398770, 207168299, 14832074, 1799800...   \n17432300    17432300  [371064, 3246932, 8991475, 36725681, 32031694,...   \n8392651      8392651  [214797870, 58458964, 17936051, 12869238, 5121...   \n\n                                           inbound_citations institutions  \\\npaper_id                                                                    \n199668001                                                 []           []   \n2879234    [11015941, 52160763, 199488257, 23874112, 4241...           []   \n17786914                                         [198931159]           []   \n17432300   [15983137, 7625356, 15404413, 199472639, 47640...           []   \n8392651    [49339994, 9108558, 55589961, 14721032, 532882...           []   \n\n          countries types unique_institutions  is_big_tech  \\\npaper_id                                                     \n199668001        []    []                  []            0   \n2879234          []    []                  []            0   \n17786914         []    []                  []            0   \n17432300         []    []                  []            0   \n8392651          []    []                  []            0   \n\n                                         noun_chunks_cleaned  \\\npaper_id                                                       \n199668001  [road construction project, territory, republi...   \n2879234    [convolutional neural net, cnn, remarkable per...   \n17786914   [excellent result, benchmark, acoustic modelin...   \n17432300   [east asian character, rich hierarchical struc...   \n8392651    [need, machine learning task, voluminous amoun...   \n\n                                                       memes  \\\npaper_id                                                       \n199668001  [74122, 401477, 39102, 822403, 19915, 72390, 1...   \n2879234    [317538, 721943, 87513, 57245, 88646, 1104378,...   \n17786914   [85799, 847169, 408638, 807688, 468375, 721825...   \n17432300   [47986, 61426, 459967, 38221, 60, 993870, 4599...   \n8392651    [1054108, 494658, 1117650, 904852, 357748, 102...   \n\n                                               inbound_memes  \\\npaper_id                                                       \n199668001                                                 []   \n2879234    [950121, 374025, 1192669, 4621, 1078165, 42907...   \n17786914   [1287806, 813152, 822785, 383103, 4078, 975413...   \n17432300   [59821, 48664, 798424, 240647, 1071811, 104140...   \n8392651    [813152, 317206, 1267854, 82022, 538831, 95012...   \n\n                                              outbound_memes  \npaper_id                                                      \n199668001  [62935, 609581, 74112, 429329, 649627, 993160,...  \n2879234    [429329, 861004, 80778, 40654, 35780, 124558, ...  \n17786914   [77844, 801152, 72529, 22834, 1068213, 76970, ...  \n17432300   [561977, 50103, 17834, 899009, 14070, 960919, ...  \n8392651    [555834, 835839, 593427, 53545, 51366, 593427,...  ",
      "text/html": "<div>\n<style scoped>\n    .dataframe tbody tr th:only-of-type {\n        vertical-align: middle;\n    }\n\n    .dataframe tbody tr th {\n        vertical-align: top;\n    }\n\n    .dataframe thead th {\n        text-align: right;\n    }\n</style>\n<table border=\"1\" class=\"dataframe\">\n  <thead>\n    <tr style=\"text-align: right;\">\n      <th></th>\n      <th>paper_id</th>\n      <th>outbound_citations</th>\n      <th>inbound_citations</th>\n      <th>institutions</th>\n      <th>countries</th>\n      <th>types</th>\n      <th>unique_institutions</th>\n      <th>is_big_tech</th>\n      <th>noun_chunks_cleaned</th>\n      <th>memes</th>\n      <th>inbound_memes</th>\n      <th>outbound_memes</th>\n    </tr>\n    <tr>\n      <th>paper_id</th>\n      <th></th>\n      <th></th>\n      <th></th>\n      <th></th>\n      <th></th>\n      <th></th>\n      <th></th>\n      <th></th>\n      <th></th>\n      <th></th>\n      <th></th>\n      <th></th>\n    </tr>\n  </thead>\n  <tbody>\n    <tr>\n      <th>199668001</th>\n      <td>199668001</td>\n      <td>[106476531, 67083539, 36731616, 34616216, 1096...</td>\n      <td>[]</td>\n      <td>[]</td>\n      <td>[]</td>\n      <td>[]</td>\n      <td>[]</td>\n      <td>0</td>\n      <td>[road construction project, territory, republi...</td>\n      <td>[74122, 401477, 39102, 822403, 19915, 72390, 1...</td>\n      <td>[]</td>\n      <td>[62935, 609581, 74112, 429329, 649627, 993160,...</td>\n    </tr>\n    <tr>\n      <th>2879234</th>\n      <td>2879234</td>\n      <td>[206592419, 215721, 10111903, 1003907, 3198903...</td>\n      <td>[11015941, 52160763, 199488257, 23874112, 4241...</td>\n      <td>[]</td>\n      <td>[]</td>\n      <td>[]</td>\n      <td>[]</td>\n      <td>0</td>\n      <td>[convolutional neural net, cnn, remarkable per...</td>\n      <td>[317538, 721943, 87513, 57245, 88646, 1104378,...</td>\n      <td>[950121, 374025, 1192669, 4621, 1078165, 42907...</td>\n      <td>[429329, 861004, 80778, 40654, 35780, 124558, ...</td>\n    </tr>\n    <tr>\n      <th>17786914</th>\n      <td>17786914</td>\n      <td>[9530137, 398770, 207168299, 14832074, 1799800...</td>\n      <td>[198931159]</td>\n      <td>[]</td>\n      <td>[]</td>\n      <td>[]</td>\n      <td>[]</td>\n      <td>0</td>\n      <td>[excellent result, benchmark, acoustic modelin...</td>\n      <td>[85799, 847169, 408638, 807688, 468375, 721825...</td>\n      <td>[1287806, 813152, 822785, 383103, 4078, 975413...</td>\n      <td>[77844, 801152, 72529, 22834, 1068213, 76970, ...</td>\n    </tr>\n    <tr>\n      <th>17432300</th>\n      <td>17432300</td>\n      <td>[371064, 3246932, 8991475, 36725681, 32031694,...</td>\n      <td>[15983137, 7625356, 15404413, 199472639, 47640...</td>\n      <td>[]</td>\n      <td>[]</td>\n      <td>[]</td>\n      <td>[]</td>\n      <td>0</td>\n      <td>[east asian character, rich hierarchical struc...</td>\n      <td>[47986, 61426, 459967, 38221, 60, 993870, 4599...</td>\n      <td>[59821, 48664, 798424, 240647, 1071811, 104140...</td>\n      <td>[561977, 50103, 17834, 899009, 14070, 960919, ...</td>\n    </tr>\n    <tr>\n      <th>8392651</th>\n      <td>8392651</td>\n      <td>[214797870, 58458964, 17936051, 12869238, 5121...</td>\n      <td>[49339994, 9108558, 55589961, 14721032, 532882...</td>\n      <td>[]</td>\n      <td>[]</td>\n      <td>[]</td>\n      <td>[]</td>\n      <td>0</td>\n      <td>[need, machine learning task, voluminous amoun...</td>\n      <td>[1054108, 494658, 1117650, 904852, 357748, 102...</td>\n      <td>[813152, 317206, 1267854, 82022, 538831, 95012...</td>\n      <td>[555834, 835839, 593427, 53545, 51366, 593427,...</td>\n    </tr>\n  </tbody>\n</table>\n</div>"
     },
     "execution_count": 3,
     "metadata": {},
     "output_type": "execute_result"
    }
   ],
   "source": [
    "df.head()"
   ],
   "metadata": {
    "collapsed": false,
    "pycharm": {
     "name": "#%%\n"
    }
   }
  },
  {
   "cell_type": "code",
   "execution_count": 3,
   "outputs": [],
   "source": [
    "is_academia = []\n",
    "is_company = []\n",
    "for index, paper in df.iterrows():\n",
    "    if len(paper['types']) == 0:\n",
    "        is_academia.append(0)\n",
    "        is_company.append(0)\n",
    "    else:\n",
    "        paper_types = set()\n",
    "        for author in paper['types']:\n",
    "            for aff in author:\n",
    "                paper_types.add(aff)\n",
    "        if 'company' in paper_types:\n",
    "            is_company.append(1)\n",
    "        else:\n",
    "            is_company.append(0)\n",
    "        if 'education' in paper_types or 'facility' in paper_types or 'government' in paper_types:\n",
    "            is_academia.append(1)\n",
    "        else:\n",
    "            is_academia.append(0)"
   ],
   "metadata": {
    "collapsed": false,
    "pycharm": {
     "name": "#%%\n"
    }
   }
  },
  {
   "cell_type": "code",
   "execution_count": 4,
   "outputs": [],
   "source": [
    "df['is_academia'] = is_academia\n",
    "df['is_company'] = is_company"
   ],
   "metadata": {
    "collapsed": false,
    "pycharm": {
     "name": "#%%\n"
    }
   }
  },
  {
   "cell_type": "code",
   "execution_count": 12,
   "outputs": [
    {
     "data": {
      "text/plain": "            paper_id                                 outbound_citations  \\\npaper_id                                                                  \n199668001  199668001  [106476531, 67083539, 36731616, 34616216, 1096...   \n2879234      2879234  [206592419, 215721, 10111903, 1003907, 3198903...   \n17786914    17786914  [9530137, 398770, 207168299, 14832074, 1799800...   \n17432300    17432300  [371064, 3246932, 8991475, 36725681, 32031694,...   \n8392651      8392651  [214797870, 58458964, 17936051, 12869238, 5121...   \n\n                                           inbound_citations institutions  \\\npaper_id                                                                    \n199668001                                                 []           []   \n2879234    [11015941, 52160763, 199488257, 23874112, 4241...           []   \n17786914                                         [198931159]           []   \n17432300   [15983137, 7625356, 15404413, 199472639, 47640...           []   \n8392651    [49339994, 9108558, 55589961, 14721032, 532882...           []   \n\n          countries types unique_institutions  is_big_tech  \\\npaper_id                                                     \n199668001        []    []                  []            0   \n2879234          []    []                  []            0   \n17786914         []    []                  []            0   \n17432300         []    []                  []            0   \n8392651          []    []                  []            0   \n\n                                         noun_chunks_cleaned  \\\npaper_id                                                       \n199668001  [road construction project, territory, republi...   \n2879234    [convolutional neural net, cnn, remarkable per...   \n17786914   [excellent result, benchmark, acoustic modelin...   \n17432300   [east asian character, rich hierarchical struc...   \n8392651    [need, machine learning task, voluminous amoun...   \n\n                                                       memes  \\\npaper_id                                                       \n199668001  [74122, 401477, 39102, 822403, 19915, 72390, 1...   \n2879234    [317538, 721943, 87513, 57245, 88646, 1104378,...   \n17786914   [85799, 847169, 408638, 807688, 468375, 721825...   \n17432300   [47986, 61426, 459967, 38221, 60, 993870, 4599...   \n8392651    [1054108, 494658, 1117650, 904852, 357748, 102...   \n\n                                               inbound_memes  \\\npaper_id                                                       \n199668001                                                 []   \n2879234    [950121, 374025, 1192669, 4621, 1078165, 42907...   \n17786914   [1287806, 813152, 822785, 383103, 4078, 975413...   \n17432300   [59821, 48664, 798424, 240647, 1071811, 104140...   \n8392651    [813152, 317206, 1267854, 82022, 538831, 95012...   \n\n                                              outbound_memes  is_academia  \\\npaper_id                                                                    \n199668001  [62935, 609581, 74112, 429329, 649627, 993160,...            0   \n2879234    [429329, 861004, 80778, 40654, 35780, 124558, ...            0   \n17786914   [77844, 801152, 72529, 22834, 1068213, 76970, ...            0   \n17432300   [561977, 50103, 17834, 899009, 14070, 960919, ...            0   \n8392651    [555834, 835839, 593427, 53545, 51366, 593427,...            0   \n\n           is_company  \npaper_id               \n199668001           0  \n2879234             0  \n17786914            0  \n17432300            0  \n8392651             0  ",
      "text/html": "<div>\n<style scoped>\n    .dataframe tbody tr th:only-of-type {\n        vertical-align: middle;\n    }\n\n    .dataframe tbody tr th {\n        vertical-align: top;\n    }\n\n    .dataframe thead th {\n        text-align: right;\n    }\n</style>\n<table border=\"1\" class=\"dataframe\">\n  <thead>\n    <tr style=\"text-align: right;\">\n      <th></th>\n      <th>paper_id</th>\n      <th>outbound_citations</th>\n      <th>inbound_citations</th>\n      <th>institutions</th>\n      <th>countries</th>\n      <th>types</th>\n      <th>unique_institutions</th>\n      <th>is_big_tech</th>\n      <th>noun_chunks_cleaned</th>\n      <th>memes</th>\n      <th>inbound_memes</th>\n      <th>outbound_memes</th>\n      <th>is_academia</th>\n      <th>is_company</th>\n    </tr>\n    <tr>\n      <th>paper_id</th>\n      <th></th>\n      <th></th>\n      <th></th>\n      <th></th>\n      <th></th>\n      <th></th>\n      <th></th>\n      <th></th>\n      <th></th>\n      <th></th>\n      <th></th>\n      <th></th>\n      <th></th>\n      <th></th>\n    </tr>\n  </thead>\n  <tbody>\n    <tr>\n      <th>199668001</th>\n      <td>199668001</td>\n      <td>[106476531, 67083539, 36731616, 34616216, 1096...</td>\n      <td>[]</td>\n      <td>[]</td>\n      <td>[]</td>\n      <td>[]</td>\n      <td>[]</td>\n      <td>0</td>\n      <td>[road construction project, territory, republi...</td>\n      <td>[74122, 401477, 39102, 822403, 19915, 72390, 1...</td>\n      <td>[]</td>\n      <td>[62935, 609581, 74112, 429329, 649627, 993160,...</td>\n      <td>0</td>\n      <td>0</td>\n    </tr>\n    <tr>\n      <th>2879234</th>\n      <td>2879234</td>\n      <td>[206592419, 215721, 10111903, 1003907, 3198903...</td>\n      <td>[11015941, 52160763, 199488257, 23874112, 4241...</td>\n      <td>[]</td>\n      <td>[]</td>\n      <td>[]</td>\n      <td>[]</td>\n      <td>0</td>\n      <td>[convolutional neural net, cnn, remarkable per...</td>\n      <td>[317538, 721943, 87513, 57245, 88646, 1104378,...</td>\n      <td>[950121, 374025, 1192669, 4621, 1078165, 42907...</td>\n      <td>[429329, 861004, 80778, 40654, 35780, 124558, ...</td>\n      <td>0</td>\n      <td>0</td>\n    </tr>\n    <tr>\n      <th>17786914</th>\n      <td>17786914</td>\n      <td>[9530137, 398770, 207168299, 14832074, 1799800...</td>\n      <td>[198931159]</td>\n      <td>[]</td>\n      <td>[]</td>\n      <td>[]</td>\n      <td>[]</td>\n      <td>0</td>\n      <td>[excellent result, benchmark, acoustic modelin...</td>\n      <td>[85799, 847169, 408638, 807688, 468375, 721825...</td>\n      <td>[1287806, 813152, 822785, 383103, 4078, 975413...</td>\n      <td>[77844, 801152, 72529, 22834, 1068213, 76970, ...</td>\n      <td>0</td>\n      <td>0</td>\n    </tr>\n    <tr>\n      <th>17432300</th>\n      <td>17432300</td>\n      <td>[371064, 3246932, 8991475, 36725681, 32031694,...</td>\n      <td>[15983137, 7625356, 15404413, 199472639, 47640...</td>\n      <td>[]</td>\n      <td>[]</td>\n      <td>[]</td>\n      <td>[]</td>\n      <td>0</td>\n      <td>[east asian character, rich hierarchical struc...</td>\n      <td>[47986, 61426, 459967, 38221, 60, 993870, 4599...</td>\n      <td>[59821, 48664, 798424, 240647, 1071811, 104140...</td>\n      <td>[561977, 50103, 17834, 899009, 14070, 960919, ...</td>\n      <td>0</td>\n      <td>0</td>\n    </tr>\n    <tr>\n      <th>8392651</th>\n      <td>8392651</td>\n      <td>[214797870, 58458964, 17936051, 12869238, 5121...</td>\n      <td>[49339994, 9108558, 55589961, 14721032, 532882...</td>\n      <td>[]</td>\n      <td>[]</td>\n      <td>[]</td>\n      <td>[]</td>\n      <td>0</td>\n      <td>[need, machine learning task, voluminous amoun...</td>\n      <td>[1054108, 494658, 1117650, 904852, 357748, 102...</td>\n      <td>[813152, 317206, 1267854, 82022, 538831, 95012...</td>\n      <td>[555834, 835839, 593427, 53545, 51366, 593427,...</td>\n      <td>0</td>\n      <td>0</td>\n    </tr>\n  </tbody>\n</table>\n</div>"
     },
     "execution_count": 12,
     "metadata": {},
     "output_type": "execute_result"
    }
   ],
   "source": [
    "df.head()"
   ],
   "metadata": {
    "collapsed": false,
    "pycharm": {
     "name": "#%%\n"
    }
   }
  },
  {
   "cell_type": "code",
   "execution_count": 5,
   "outputs": [],
   "source": [
    "FAANG = {'Adobe Systems': [], 'Alibaba Group': [], 'Amazon': [], 'Facebook': [], 'Google': [], 'Huawei Technologies': [], 'IBM': [], 'Intel': [], 'Microsoft': [], 'Nvidia': [], 'Samsung': [], 'Siemens': [], 'Tencent': [], 'Yahoo': []}\n",
    "for index, paper in df.iterrows():\n",
    "    for key in FAANG.keys():\n",
    "        if key in paper['unique_institutions']:\n",
    "            FAANG[key].append(1)\n",
    "        else:\n",
    "            FAANG[key].append(0)"
   ],
   "metadata": {
    "collapsed": false,
    "pycharm": {
     "name": "#%%\n"
    }
   }
  },
  {
   "cell_type": "code",
   "execution_count": 6,
   "outputs": [],
   "source": [
    "for key in FAANG.keys():\n",
    "    df[key] = FAANG[key]"
   ],
   "metadata": {
    "collapsed": false,
    "pycharm": {
     "name": "#%%\n"
    }
   }
  },
  {
   "cell_type": "code",
   "execution_count": 17,
   "outputs": [
    {
     "data": {
      "text/plain": "            paper_id                                 outbound_citations  \\\npaper_id                                                                  \n199668001  199668001  [106476531, 67083539, 36731616, 34616216, 1096...   \n2879234      2879234  [206592419, 215721, 10111903, 1003907, 3198903...   \n17786914    17786914  [9530137, 398770, 207168299, 14832074, 1799800...   \n17432300    17432300  [371064, 3246932, 8991475, 36725681, 32031694,...   \n8392651      8392651  [214797870, 58458964, 17936051, 12869238, 5121...   \n\n                                           inbound_citations institutions  \\\npaper_id                                                                    \n199668001                                                 []           []   \n2879234    [11015941, 52160763, 199488257, 23874112, 4241...           []   \n17786914                                         [198931159]           []   \n17432300   [15983137, 7625356, 15404413, 199472639, 47640...           []   \n8392651    [49339994, 9108558, 55589961, 14721032, 532882...           []   \n\n          countries types unique_institutions  is_big_tech  \\\npaper_id                                                     \n199668001        []    []                  []            0   \n2879234          []    []                  []            0   \n17786914         []    []                  []            0   \n17432300         []    []                  []            0   \n8392651          []    []                  []            0   \n\n                                         noun_chunks_cleaned  \\\npaper_id                                                       \n199668001  [road construction project, territory, republi...   \n2879234    [convolutional neural net, cnn, remarkable per...   \n17786914   [excellent result, benchmark, acoustic modelin...   \n17432300   [east asian character, rich hierarchical struc...   \n8392651    [need, machine learning task, voluminous amoun...   \n\n                                                       memes  ... Google  \\\npaper_id                                                      ...          \n199668001  [74122, 401477, 39102, 822403, 19915, 72390, 1...  ...      0   \n2879234    [317538, 721943, 87513, 57245, 88646, 1104378,...  ...      0   \n17786914   [85799, 847169, 408638, 807688, 468375, 721825...  ...      0   \n17432300   [47986, 61426, 459967, 38221, 60, 993870, 4599...  ...      0   \n8392651    [1054108, 494658, 1117650, 904852, 357748, 102...  ...      0   \n\n          Huawei Technologies  IBM  Intel  Microsoft  Nvidia  Samsung  \\\npaper_id                                                                \n199668001                   0    0      0          0       0        0   \n2879234                     0    0      0          0       0        0   \n17786914                    0    0      0          0       0        0   \n17432300                    0    0      0          0       0        0   \n8392651                     0    0      0          0       0        0   \n\n           Siemens  Tencent  Yahoo  \npaper_id                            \n199668001        0        0      0  \n2879234          0        0      0  \n17786914         0        0      0  \n17432300         0        0      0  \n8392651          0        0      0  \n\n[5 rows x 28 columns]",
      "text/html": "<div>\n<style scoped>\n    .dataframe tbody tr th:only-of-type {\n        vertical-align: middle;\n    }\n\n    .dataframe tbody tr th {\n        vertical-align: top;\n    }\n\n    .dataframe thead th {\n        text-align: right;\n    }\n</style>\n<table border=\"1\" class=\"dataframe\">\n  <thead>\n    <tr style=\"text-align: right;\">\n      <th></th>\n      <th>paper_id</th>\n      <th>outbound_citations</th>\n      <th>inbound_citations</th>\n      <th>institutions</th>\n      <th>countries</th>\n      <th>types</th>\n      <th>unique_institutions</th>\n      <th>is_big_tech</th>\n      <th>noun_chunks_cleaned</th>\n      <th>memes</th>\n      <th>...</th>\n      <th>Google</th>\n      <th>Huawei Technologies</th>\n      <th>IBM</th>\n      <th>Intel</th>\n      <th>Microsoft</th>\n      <th>Nvidia</th>\n      <th>Samsung</th>\n      <th>Siemens</th>\n      <th>Tencent</th>\n      <th>Yahoo</th>\n    </tr>\n    <tr>\n      <th>paper_id</th>\n      <th></th>\n      <th></th>\n      <th></th>\n      <th></th>\n      <th></th>\n      <th></th>\n      <th></th>\n      <th></th>\n      <th></th>\n      <th></th>\n      <th></th>\n      <th></th>\n      <th></th>\n      <th></th>\n      <th></th>\n      <th></th>\n      <th></th>\n      <th></th>\n      <th></th>\n      <th></th>\n      <th></th>\n    </tr>\n  </thead>\n  <tbody>\n    <tr>\n      <th>199668001</th>\n      <td>199668001</td>\n      <td>[106476531, 67083539, 36731616, 34616216, 1096...</td>\n      <td>[]</td>\n      <td>[]</td>\n      <td>[]</td>\n      <td>[]</td>\n      <td>[]</td>\n      <td>0</td>\n      <td>[road construction project, territory, republi...</td>\n      <td>[74122, 401477, 39102, 822403, 19915, 72390, 1...</td>\n      <td>...</td>\n      <td>0</td>\n      <td>0</td>\n      <td>0</td>\n      <td>0</td>\n      <td>0</td>\n      <td>0</td>\n      <td>0</td>\n      <td>0</td>\n      <td>0</td>\n      <td>0</td>\n    </tr>\n    <tr>\n      <th>2879234</th>\n      <td>2879234</td>\n      <td>[206592419, 215721, 10111903, 1003907, 3198903...</td>\n      <td>[11015941, 52160763, 199488257, 23874112, 4241...</td>\n      <td>[]</td>\n      <td>[]</td>\n      <td>[]</td>\n      <td>[]</td>\n      <td>0</td>\n      <td>[convolutional neural net, cnn, remarkable per...</td>\n      <td>[317538, 721943, 87513, 57245, 88646, 1104378,...</td>\n      <td>...</td>\n      <td>0</td>\n      <td>0</td>\n      <td>0</td>\n      <td>0</td>\n      <td>0</td>\n      <td>0</td>\n      <td>0</td>\n      <td>0</td>\n      <td>0</td>\n      <td>0</td>\n    </tr>\n    <tr>\n      <th>17786914</th>\n      <td>17786914</td>\n      <td>[9530137, 398770, 207168299, 14832074, 1799800...</td>\n      <td>[198931159]</td>\n      <td>[]</td>\n      <td>[]</td>\n      <td>[]</td>\n      <td>[]</td>\n      <td>0</td>\n      <td>[excellent result, benchmark, acoustic modelin...</td>\n      <td>[85799, 847169, 408638, 807688, 468375, 721825...</td>\n      <td>...</td>\n      <td>0</td>\n      <td>0</td>\n      <td>0</td>\n      <td>0</td>\n      <td>0</td>\n      <td>0</td>\n      <td>0</td>\n      <td>0</td>\n      <td>0</td>\n      <td>0</td>\n    </tr>\n    <tr>\n      <th>17432300</th>\n      <td>17432300</td>\n      <td>[371064, 3246932, 8991475, 36725681, 32031694,...</td>\n      <td>[15983137, 7625356, 15404413, 199472639, 47640...</td>\n      <td>[]</td>\n      <td>[]</td>\n      <td>[]</td>\n      <td>[]</td>\n      <td>0</td>\n      <td>[east asian character, rich hierarchical struc...</td>\n      <td>[47986, 61426, 459967, 38221, 60, 993870, 4599...</td>\n      <td>...</td>\n      <td>0</td>\n      <td>0</td>\n      <td>0</td>\n      <td>0</td>\n      <td>0</td>\n      <td>0</td>\n      <td>0</td>\n      <td>0</td>\n      <td>0</td>\n      <td>0</td>\n    </tr>\n    <tr>\n      <th>8392651</th>\n      <td>8392651</td>\n      <td>[214797870, 58458964, 17936051, 12869238, 5121...</td>\n      <td>[49339994, 9108558, 55589961, 14721032, 532882...</td>\n      <td>[]</td>\n      <td>[]</td>\n      <td>[]</td>\n      <td>[]</td>\n      <td>0</td>\n      <td>[need, machine learning task, voluminous amoun...</td>\n      <td>[1054108, 494658, 1117650, 904852, 357748, 102...</td>\n      <td>...</td>\n      <td>0</td>\n      <td>0</td>\n      <td>0</td>\n      <td>0</td>\n      <td>0</td>\n      <td>0</td>\n      <td>0</td>\n      <td>0</td>\n      <td>0</td>\n      <td>0</td>\n    </tr>\n  </tbody>\n</table>\n<p>5 rows × 28 columns</p>\n</div>"
     },
     "execution_count": 17,
     "metadata": {},
     "output_type": "execute_result"
    }
   ],
   "source": [
    "df.head()"
   ],
   "metadata": {
    "collapsed": false,
    "pycharm": {
     "name": "#%%\n"
    }
   }
  },
  {
   "cell_type": "code",
   "execution_count": 7,
   "outputs": [],
   "source": [
    "baskets_outbound_all = []\n",
    "for index, paper in df.iterrows():\n",
    "    baskets_outbound = []\n",
    "    for meme in paper['memes']:\n",
    "        baskets_outbound.append(str(meme))\n",
    "    for meme in paper['outbound_memes']:\n",
    "        baskets_outbound.append('o_'+str(meme))\n",
    "    if paper['is_big_tech'] == 1:\n",
    "        baskets_outbound.append('bigtech')\n",
    "        for key in FAANG.keys():\n",
    "            if key in paper['unique_institutions']:\n",
    "                baskets_outbound.append(key)\n",
    "    if paper['is_academia'] == 1:\n",
    "        baskets_outbound.append('academia')\n",
    "    if paper['is_company'] == 1:\n",
    "        baskets_outbound.append('company')\n",
    "    baskets_outbound_all.append(baskets_outbound)"
   ],
   "metadata": {
    "collapsed": false,
    "pycharm": {
     "name": "#%%\n"
    }
   }
  },
  {
   "cell_type": "code",
   "execution_count": 8,
   "outputs": [],
   "source": [
    "df['baskets_outbound'] = baskets_outbound_all"
   ],
   "metadata": {
    "collapsed": false,
    "pycharm": {
     "name": "#%%\n"
    }
   }
  },
  {
   "cell_type": "code",
   "execution_count": 22,
   "outputs": [
    {
     "data": {
      "text/plain": "            paper_id                                 outbound_citations  \\\npaper_id                                                                  \n199668001  199668001  [106476531, 67083539, 36731616, 34616216, 1096...   \n2879234      2879234  [206592419, 215721, 10111903, 1003907, 3198903...   \n17786914    17786914  [9530137, 398770, 207168299, 14832074, 1799800...   \n17432300    17432300  [371064, 3246932, 8991475, 36725681, 32031694,...   \n8392651      8392651  [214797870, 58458964, 17936051, 12869238, 5121...   \n\n                                           inbound_citations institutions  \\\npaper_id                                                                    \n199668001                                                 []           []   \n2879234    [11015941, 52160763, 199488257, 23874112, 4241...           []   \n17786914                                         [198931159]           []   \n17432300   [15983137, 7625356, 15404413, 199472639, 47640...           []   \n8392651    [49339994, 9108558, 55589961, 14721032, 532882...           []   \n\n          countries types unique_institutions  is_big_tech  \\\npaper_id                                                     \n199668001        []    []                  []            0   \n2879234          []    []                  []            0   \n17786914         []    []                  []            0   \n17432300         []    []                  []            0   \n8392651          []    []                  []            0   \n\n                                         noun_chunks_cleaned  \\\npaper_id                                                       \n199668001  [road construction project, territory, republi...   \n2879234    [convolutional neural net, cnn, remarkable per...   \n17786914   [excellent result, benchmark, acoustic modelin...   \n17432300   [east asian character, rich hierarchical struc...   \n8392651    [need, machine learning task, voluminous amoun...   \n\n                                                       memes  ...  \\\npaper_id                                                      ...   \n199668001  [74122, 401477, 39102, 822403, 19915, 72390, 1...  ...   \n2879234    [317538, 721943, 87513, 57245, 88646, 1104378,...  ...   \n17786914   [85799, 847169, 408638, 807688, 468375, 721825...  ...   \n17432300   [47986, 61426, 459967, 38221, 60, 993870, 4599...  ...   \n8392651    [1054108, 494658, 1117650, 904852, 357748, 102...  ...   \n\n          Huawei Technologies IBM  Intel  Microsoft  Nvidia  Samsung  Siemens  \\\npaper_id                                                                        \n199668001                   0   0      0          0       0        0        0   \n2879234                     0   0      0          0       0        0        0   \n17786914                    0   0      0          0       0        0        0   \n17432300                    0   0      0          0       0        0        0   \n8392651                     0   0      0          0       0        0        0   \n\n           Tencent  Yahoo                                   baskets_outbound  \npaper_id                                                                      \n199668001        0      0  [74122, 401477, 39102, 822403, 19915, 72390, 1...  \n2879234          0      0  [317538, 721943, 87513, 57245, 88646, 1104378,...  \n17786914         0      0  [85799, 847169, 408638, 807688, 468375, 721825...  \n17432300         0      0  [47986, 61426, 459967, 38221, 60, 993870, 4599...  \n8392651          0      0  [1054108, 494658, 1117650, 904852, 357748, 102...  \n\n[5 rows x 29 columns]",
      "text/html": "<div>\n<style scoped>\n    .dataframe tbody tr th:only-of-type {\n        vertical-align: middle;\n    }\n\n    .dataframe tbody tr th {\n        vertical-align: top;\n    }\n\n    .dataframe thead th {\n        text-align: right;\n    }\n</style>\n<table border=\"1\" class=\"dataframe\">\n  <thead>\n    <tr style=\"text-align: right;\">\n      <th></th>\n      <th>paper_id</th>\n      <th>outbound_citations</th>\n      <th>inbound_citations</th>\n      <th>institutions</th>\n      <th>countries</th>\n      <th>types</th>\n      <th>unique_institutions</th>\n      <th>is_big_tech</th>\n      <th>noun_chunks_cleaned</th>\n      <th>memes</th>\n      <th>...</th>\n      <th>Huawei Technologies</th>\n      <th>IBM</th>\n      <th>Intel</th>\n      <th>Microsoft</th>\n      <th>Nvidia</th>\n      <th>Samsung</th>\n      <th>Siemens</th>\n      <th>Tencent</th>\n      <th>Yahoo</th>\n      <th>baskets_outbound</th>\n    </tr>\n    <tr>\n      <th>paper_id</th>\n      <th></th>\n      <th></th>\n      <th></th>\n      <th></th>\n      <th></th>\n      <th></th>\n      <th></th>\n      <th></th>\n      <th></th>\n      <th></th>\n      <th></th>\n      <th></th>\n      <th></th>\n      <th></th>\n      <th></th>\n      <th></th>\n      <th></th>\n      <th></th>\n      <th></th>\n      <th></th>\n      <th></th>\n    </tr>\n  </thead>\n  <tbody>\n    <tr>\n      <th>199668001</th>\n      <td>199668001</td>\n      <td>[106476531, 67083539, 36731616, 34616216, 1096...</td>\n      <td>[]</td>\n      <td>[]</td>\n      <td>[]</td>\n      <td>[]</td>\n      <td>[]</td>\n      <td>0</td>\n      <td>[road construction project, territory, republi...</td>\n      <td>[74122, 401477, 39102, 822403, 19915, 72390, 1...</td>\n      <td>...</td>\n      <td>0</td>\n      <td>0</td>\n      <td>0</td>\n      <td>0</td>\n      <td>0</td>\n      <td>0</td>\n      <td>0</td>\n      <td>0</td>\n      <td>0</td>\n      <td>[74122, 401477, 39102, 822403, 19915, 72390, 1...</td>\n    </tr>\n    <tr>\n      <th>2879234</th>\n      <td>2879234</td>\n      <td>[206592419, 215721, 10111903, 1003907, 3198903...</td>\n      <td>[11015941, 52160763, 199488257, 23874112, 4241...</td>\n      <td>[]</td>\n      <td>[]</td>\n      <td>[]</td>\n      <td>[]</td>\n      <td>0</td>\n      <td>[convolutional neural net, cnn, remarkable per...</td>\n      <td>[317538, 721943, 87513, 57245, 88646, 1104378,...</td>\n      <td>...</td>\n      <td>0</td>\n      <td>0</td>\n      <td>0</td>\n      <td>0</td>\n      <td>0</td>\n      <td>0</td>\n      <td>0</td>\n      <td>0</td>\n      <td>0</td>\n      <td>[317538, 721943, 87513, 57245, 88646, 1104378,...</td>\n    </tr>\n    <tr>\n      <th>17786914</th>\n      <td>17786914</td>\n      <td>[9530137, 398770, 207168299, 14832074, 1799800...</td>\n      <td>[198931159]</td>\n      <td>[]</td>\n      <td>[]</td>\n      <td>[]</td>\n      <td>[]</td>\n      <td>0</td>\n      <td>[excellent result, benchmark, acoustic modelin...</td>\n      <td>[85799, 847169, 408638, 807688, 468375, 721825...</td>\n      <td>...</td>\n      <td>0</td>\n      <td>0</td>\n      <td>0</td>\n      <td>0</td>\n      <td>0</td>\n      <td>0</td>\n      <td>0</td>\n      <td>0</td>\n      <td>0</td>\n      <td>[85799, 847169, 408638, 807688, 468375, 721825...</td>\n    </tr>\n    <tr>\n      <th>17432300</th>\n      <td>17432300</td>\n      <td>[371064, 3246932, 8991475, 36725681, 32031694,...</td>\n      <td>[15983137, 7625356, 15404413, 199472639, 47640...</td>\n      <td>[]</td>\n      <td>[]</td>\n      <td>[]</td>\n      <td>[]</td>\n      <td>0</td>\n      <td>[east asian character, rich hierarchical struc...</td>\n      <td>[47986, 61426, 459967, 38221, 60, 993870, 4599...</td>\n      <td>...</td>\n      <td>0</td>\n      <td>0</td>\n      <td>0</td>\n      <td>0</td>\n      <td>0</td>\n      <td>0</td>\n      <td>0</td>\n      <td>0</td>\n      <td>0</td>\n      <td>[47986, 61426, 459967, 38221, 60, 993870, 4599...</td>\n    </tr>\n    <tr>\n      <th>8392651</th>\n      <td>8392651</td>\n      <td>[214797870, 58458964, 17936051, 12869238, 5121...</td>\n      <td>[49339994, 9108558, 55589961, 14721032, 532882...</td>\n      <td>[]</td>\n      <td>[]</td>\n      <td>[]</td>\n      <td>[]</td>\n      <td>0</td>\n      <td>[need, machine learning task, voluminous amoun...</td>\n      <td>[1054108, 494658, 1117650, 904852, 357748, 102...</td>\n      <td>...</td>\n      <td>0</td>\n      <td>0</td>\n      <td>0</td>\n      <td>0</td>\n      <td>0</td>\n      <td>0</td>\n      <td>0</td>\n      <td>0</td>\n      <td>0</td>\n      <td>[1054108, 494658, 1117650, 904852, 357748, 102...</td>\n    </tr>\n  </tbody>\n</table>\n<p>5 rows × 29 columns</p>\n</div>"
     },
     "execution_count": 22,
     "metadata": {},
     "output_type": "execute_result"
    }
   ],
   "source": [
    "df.head()"
   ],
   "metadata": {
    "collapsed": false,
    "pycharm": {
     "name": "#%%\n"
    }
   }
  },
  {
   "cell_type": "code",
   "execution_count": 9,
   "outputs": [],
   "source": [
    "from mlxtend.preprocessing import TransactionEncoder\n",
    "from mlxtend.frequent_patterns import apriori\n",
    "from mlxtend.frequent_patterns import association_rules"
   ],
   "metadata": {
    "collapsed": false,
    "pycharm": {
     "name": "#%%\n"
    }
   }
  },
  {
   "cell_type": "code",
   "execution_count": 18,
   "outputs": [],
   "source": [
    "transactions = df['baskets_outbound']"
   ],
   "metadata": {
    "collapsed": false,
    "pycharm": {
     "name": "#%%\n"
    }
   }
  },
  {
   "cell_type": "code",
   "execution_count": 16,
   "outputs": [],
   "source": [
    "df = df[df['institutions'].map(lambda d: len(d)) > 0]"
   ],
   "metadata": {
    "collapsed": false,
    "pycharm": {
     "name": "#%%\n"
    }
   }
  },
  {
   "cell_type": "code",
   "execution_count": 20,
   "outputs": [],
   "source": [
    "te = TransactionEncoder()\n",
    "te_ary = te.fit(transactions).transform(transactions)\n",
    "transactions_df = pd.DataFrame(te_ary, columns=te.columns_)"
   ],
   "metadata": {
    "collapsed": false,
    "pycharm": {
     "name": "#%%\n"
    }
   }
  },
  {
   "cell_type": "code",
   "execution_count": null,
   "outputs": [],
   "source": [
    "transactions_df.to_parquet('outbound_baskets.parquet')"
   ],
   "metadata": {
    "collapsed": false,
    "pycharm": {
     "name": "#%%\n",
     "is_executing": true
    }
   }
  }
 ],
 "metadata": {
  "kernelspec": {
   "display_name": "Python 3",
   "language": "python",
   "name": "python3"
  },
  "language_info": {
   "codemirror_mode": {
    "name": "ipython",
    "version": 2
   },
   "file_extension": ".py",
   "mimetype": "text/x-python",
   "name": "python",
   "nbconvert_exporter": "python",
   "pygments_lexer": "ipython2",
   "version": "2.7.6"
  }
 },
 "nbformat": 4,
 "nbformat_minor": 0
}