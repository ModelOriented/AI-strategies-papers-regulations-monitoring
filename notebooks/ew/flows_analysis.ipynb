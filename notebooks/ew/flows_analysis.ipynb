{
 "cells": [
  {
   "cell_type": "code",
   "execution_count": 15,
   "metadata": {
    "collapsed": true
   },
   "outputs": [],
   "source": [
    "import pandas as pd\n",
    "import plotly.express as px"
   ]
  },
  {
   "cell_type": "code",
   "execution_count": 2,
   "outputs": [],
   "source": [
    "df = pd.read_parquet('C:\\\\Users\\\\ewisnios\\\\PycharmProjects\\\\AI-strategies-papers-regulations-monitoring\\\\data\\\\s2orc\\\\memes_edges.parquet')"
   ],
   "metadata": {
    "collapsed": false,
    "pycharm": {
     "name": "#%%\n"
    }
   }
  },
  {
   "cell_type": "code",
   "execution_count": 3,
   "outputs": [
    {
     "data": {
      "text/plain": "     memes  inbound_memes   count\n0        3              3  133920\n1   561977         950121  124537\n2    48203         950121   90387\n3   317206         950121   89415\n4  1168193         950121   82195",
      "text/html": "<div>\n<style scoped>\n    .dataframe tbody tr th:only-of-type {\n        vertical-align: middle;\n    }\n\n    .dataframe tbody tr th {\n        vertical-align: top;\n    }\n\n    .dataframe thead th {\n        text-align: right;\n    }\n</style>\n<table border=\"1\" class=\"dataframe\">\n  <thead>\n    <tr style=\"text-align: right;\">\n      <th></th>\n      <th>memes</th>\n      <th>inbound_memes</th>\n      <th>count</th>\n    </tr>\n  </thead>\n  <tbody>\n    <tr>\n      <th>0</th>\n      <td>3</td>\n      <td>3</td>\n      <td>133920</td>\n    </tr>\n    <tr>\n      <th>1</th>\n      <td>561977</td>\n      <td>950121</td>\n      <td>124537</td>\n    </tr>\n    <tr>\n      <th>2</th>\n      <td>48203</td>\n      <td>950121</td>\n      <td>90387</td>\n    </tr>\n    <tr>\n      <th>3</th>\n      <td>317206</td>\n      <td>950121</td>\n      <td>89415</td>\n    </tr>\n    <tr>\n      <th>4</th>\n      <td>1168193</td>\n      <td>950121</td>\n      <td>82195</td>\n    </tr>\n  </tbody>\n</table>\n</div>"
     },
     "execution_count": 3,
     "metadata": {},
     "output_type": "execute_result"
    }
   ],
   "source": [
    "df.head()"
   ],
   "metadata": {
    "collapsed": false,
    "pycharm": {
     "name": "#%%\n"
    }
   }
  },
  {
   "cell_type": "code",
   "execution_count": 6,
   "outputs": [],
   "source": [
    "df = df.sort_values(by='count', ascending=False)"
   ],
   "metadata": {
    "collapsed": false,
    "pycharm": {
     "name": "#%%\n"
    }
   }
  },
  {
   "cell_type": "code",
   "execution_count": 27,
   "outputs": [
    {
     "data": {
      "text/plain": "     memes  inbound_memes   count\n0        3              3  133920\n1   561977         950121  124537\n2    48203         950121   90387\n3   317206         950121   89415\n4  1168193         950121   82195",
      "text/html": "<div>\n<style scoped>\n    .dataframe tbody tr th:only-of-type {\n        vertical-align: middle;\n    }\n\n    .dataframe tbody tr th {\n        vertical-align: top;\n    }\n\n    .dataframe thead th {\n        text-align: right;\n    }\n</style>\n<table border=\"1\" class=\"dataframe\">\n  <thead>\n    <tr style=\"text-align: right;\">\n      <th></th>\n      <th>memes</th>\n      <th>inbound_memes</th>\n      <th>count</th>\n    </tr>\n  </thead>\n  <tbody>\n    <tr>\n      <th>0</th>\n      <td>3</td>\n      <td>3</td>\n      <td>133920</td>\n    </tr>\n    <tr>\n      <th>1</th>\n      <td>561977</td>\n      <td>950121</td>\n      <td>124537</td>\n    </tr>\n    <tr>\n      <th>2</th>\n      <td>48203</td>\n      <td>950121</td>\n      <td>90387</td>\n    </tr>\n    <tr>\n      <th>3</th>\n      <td>317206</td>\n      <td>950121</td>\n      <td>89415</td>\n    </tr>\n    <tr>\n      <th>4</th>\n      <td>1168193</td>\n      <td>950121</td>\n      <td>82195</td>\n    </tr>\n  </tbody>\n</table>\n</div>"
     },
     "execution_count": 27,
     "metadata": {},
     "output_type": "execute_result"
    }
   ],
   "source": [
    "top_30_flows = df.head(30)\n",
    "top_30_flows.head()"
   ],
   "metadata": {
    "collapsed": false,
    "pycharm": {
     "name": "#%%\n"
    }
   }
  },
  {
   "cell_type": "code",
   "execution_count": 18,
   "outputs": [],
   "source": [
    "df_chunks = pd.read_parquet('C:\\\\Users\\\\ewisnios\\\\PycharmProjects\\\\AI-strategies-papers-regulations-monitoring\\\\data\\\\s2orc\\\\chunk_meme_mappings\\\\reduced_300_big_cleaned_mini_all-MiniLM-L6-v2_eps_0.0.parquet')"
   ],
   "metadata": {
    "collapsed": false,
    "pycharm": {
     "name": "#%%\n"
    }
   }
  },
  {
   "cell_type": "code",
   "execution_count": 19,
   "outputs": [
    {
     "data": {
      "text/plain": "                            chunk  meme_id\n0                                    90157\n1      correspond textual comment    90158\n2      both aesthetic sensibility    36590\n3  new amino acid encoding scheme    88493\n4           actual task execution    54040",
      "text/html": "<div>\n<style scoped>\n    .dataframe tbody tr th:only-of-type {\n        vertical-align: middle;\n    }\n\n    .dataframe tbody tr th {\n        vertical-align: top;\n    }\n\n    .dataframe thead th {\n        text-align: right;\n    }\n</style>\n<table border=\"1\" class=\"dataframe\">\n  <thead>\n    <tr style=\"text-align: right;\">\n      <th></th>\n      <th>chunk</th>\n      <th>meme_id</th>\n    </tr>\n  </thead>\n  <tbody>\n    <tr>\n      <th>0</th>\n      <td></td>\n      <td>90157</td>\n    </tr>\n    <tr>\n      <th>1</th>\n      <td>correspond textual comment</td>\n      <td>90158</td>\n    </tr>\n    <tr>\n      <th>2</th>\n      <td>both aesthetic sensibility</td>\n      <td>36590</td>\n    </tr>\n    <tr>\n      <th>3</th>\n      <td>new amino acid encoding scheme</td>\n      <td>88493</td>\n    </tr>\n    <tr>\n      <th>4</th>\n      <td>actual task execution</td>\n      <td>54040</td>\n    </tr>\n  </tbody>\n</table>\n</div>"
     },
     "execution_count": 19,
     "metadata": {},
     "output_type": "execute_result"
    }
   ],
   "source": [
    "df_chunks.head()"
   ],
   "metadata": {
    "collapsed": false,
    "pycharm": {
     "name": "#%%\n"
    }
   }
  },
  {
   "cell_type": "code",
   "execution_count": 29,
   "outputs": [
    {
     "name": "stderr",
     "output_type": "stream",
     "text": [
      "C:\\Users\\ewisnios\\AppData\\Local\\Temp\\ipykernel_54504\\2050788198.py:1: SettingWithCopyWarning: \n",
      "A value is trying to be set on a copy of a slice from a DataFrame.\n",
      "Try using .loc[row_indexer,col_indexer] = value instead\n",
      "\n",
      "See the caveats in the documentation: https://pandas.pydata.org/pandas-docs/stable/user_guide/indexing.html#returning-a-view-versus-a-copy\n",
      "  top_30_flows['memes'] = top_30_flows['memes'].replace(df_chunks.set_index('meme_id')['chunk'])\n"
     ]
    }
   ],
   "source": [
    "top_30_flows['memes'] = top_30_flows['memes'].replace(df_chunks.set_index('meme_id')['chunk'])"
   ],
   "metadata": {
    "collapsed": false,
    "pycharm": {
     "name": "#%%\n"
    }
   }
  },
  {
   "cell_type": "code",
   "execution_count": 30,
   "outputs": [
    {
     "name": "stderr",
     "output_type": "stream",
     "text": [
      "C:\\Users\\ewisnios\\AppData\\Local\\Temp\\ipykernel_54504\\1735077734.py:1: SettingWithCopyWarning: \n",
      "A value is trying to be set on a copy of a slice from a DataFrame.\n",
      "Try using .loc[row_indexer,col_indexer] = value instead\n",
      "\n",
      "See the caveats in the documentation: https://pandas.pydata.org/pandas-docs/stable/user_guide/indexing.html#returning-a-view-versus-a-copy\n",
      "  top_30_flows['inbound_memes'] = top_30_flows['inbound_memes'].replace(df_chunks.set_index('meme_id')['chunk'])\n"
     ]
    }
   ],
   "source": [
    "top_30_flows['inbound_memes'] = top_30_flows['inbound_memes'].replace(df_chunks.set_index('meme_id')['chunk'])"
   ],
   "metadata": {
    "collapsed": false,
    "pycharm": {
     "name": "#%%\n"
    }
   }
  },
  {
   "cell_type": "code",
   "execution_count": 31,
   "outputs": [
    {
     "data": {
      "text/plain": "                                 memes  \\\n0   improved saliency detection method   \n1                       neural network   \n2                          the working   \n3                     machine learning   \n4                  experimental result   \n5                        deep learning   \n6                      computer vision   \n7                       propose method   \n8          practical epilepsy solution   \n9                       neural network   \n10                      neural network   \n11                      neural network   \n12                      neural network   \n13        convolutional neural network   \n14                           begin end   \n15                      neural network   \n16                         the working   \n17                         the working   \n18                    machine learning   \n19         hundred to thousand element   \n20                          kernel elm   \n21                         the working   \n22                       deep learning   \n23                    machine learning   \n24                         the working   \n25                 deep neural network   \n26                 adversarial example   \n27                    machine learning   \n28          comparatively large amount   \n29                     computer vision   \n\n                             inbound_memes   count  \n0       improved saliency detection method  133920  \n1                                    paper  124537  \n2                                    paper   90387  \n3                                    paper   89415  \n4                                    paper   82195  \n5                                    paper   67652  \n6                                    paper   67340  \n7                                    paper   66495  \n8              practical epilepsy solution   61267  \n9                           neural network   55154  \n10                                  result   49878  \n11                                  method   46605  \n12                                   model   46511  \n13                                   paper   42953  \n14                                   paper   42027  \n15                             performance   41098  \n16                                     art   40725  \n17                                  method   39840  \n18                                  result   39195  \n19                                   paper   37536  \n20                              kernel elm   37316  \n21                                   model   37081  \n22                           deep learning   36823  \n23                                  method   36143  \n24                                  result   35700  \n25                                   paper   35054  \n26  particular so call adversarial example   34953  \n27                                   datum   34845  \n28                                   paper   34619  \n29                                   image   34523  ",
      "text/html": "<div>\n<style scoped>\n    .dataframe tbody tr th:only-of-type {\n        vertical-align: middle;\n    }\n\n    .dataframe tbody tr th {\n        vertical-align: top;\n    }\n\n    .dataframe thead th {\n        text-align: right;\n    }\n</style>\n<table border=\"1\" class=\"dataframe\">\n  <thead>\n    <tr style=\"text-align: right;\">\n      <th></th>\n      <th>memes</th>\n      <th>inbound_memes</th>\n      <th>count</th>\n    </tr>\n  </thead>\n  <tbody>\n    <tr>\n      <th>0</th>\n      <td>improved saliency detection method</td>\n      <td>improved saliency detection method</td>\n      <td>133920</td>\n    </tr>\n    <tr>\n      <th>1</th>\n      <td>neural network</td>\n      <td>paper</td>\n      <td>124537</td>\n    </tr>\n    <tr>\n      <th>2</th>\n      <td>the working</td>\n      <td>paper</td>\n      <td>90387</td>\n    </tr>\n    <tr>\n      <th>3</th>\n      <td>machine learning</td>\n      <td>paper</td>\n      <td>89415</td>\n    </tr>\n    <tr>\n      <th>4</th>\n      <td>experimental result</td>\n      <td>paper</td>\n      <td>82195</td>\n    </tr>\n    <tr>\n      <th>5</th>\n      <td>deep learning</td>\n      <td>paper</td>\n      <td>67652</td>\n    </tr>\n    <tr>\n      <th>6</th>\n      <td>computer vision</td>\n      <td>paper</td>\n      <td>67340</td>\n    </tr>\n    <tr>\n      <th>7</th>\n      <td>propose method</td>\n      <td>paper</td>\n      <td>66495</td>\n    </tr>\n    <tr>\n      <th>8</th>\n      <td>practical epilepsy solution</td>\n      <td>practical epilepsy solution</td>\n      <td>61267</td>\n    </tr>\n    <tr>\n      <th>9</th>\n      <td>neural network</td>\n      <td>neural network</td>\n      <td>55154</td>\n    </tr>\n    <tr>\n      <th>10</th>\n      <td>neural network</td>\n      <td>result</td>\n      <td>49878</td>\n    </tr>\n    <tr>\n      <th>11</th>\n      <td>neural network</td>\n      <td>method</td>\n      <td>46605</td>\n    </tr>\n    <tr>\n      <th>12</th>\n      <td>neural network</td>\n      <td>model</td>\n      <td>46511</td>\n    </tr>\n    <tr>\n      <th>13</th>\n      <td>convolutional neural network</td>\n      <td>paper</td>\n      <td>42953</td>\n    </tr>\n    <tr>\n      <th>14</th>\n      <td>begin end</td>\n      <td>paper</td>\n      <td>42027</td>\n    </tr>\n    <tr>\n      <th>15</th>\n      <td>neural network</td>\n      <td>performance</td>\n      <td>41098</td>\n    </tr>\n    <tr>\n      <th>16</th>\n      <td>the working</td>\n      <td>art</td>\n      <td>40725</td>\n    </tr>\n    <tr>\n      <th>17</th>\n      <td>the working</td>\n      <td>method</td>\n      <td>39840</td>\n    </tr>\n    <tr>\n      <th>18</th>\n      <td>machine learning</td>\n      <td>result</td>\n      <td>39195</td>\n    </tr>\n    <tr>\n      <th>19</th>\n      <td>hundred to thousand element</td>\n      <td>paper</td>\n      <td>37536</td>\n    </tr>\n    <tr>\n      <th>20</th>\n      <td>kernel elm</td>\n      <td>kernel elm</td>\n      <td>37316</td>\n    </tr>\n    <tr>\n      <th>21</th>\n      <td>the working</td>\n      <td>model</td>\n      <td>37081</td>\n    </tr>\n    <tr>\n      <th>22</th>\n      <td>deep learning</td>\n      <td>deep learning</td>\n      <td>36823</td>\n    </tr>\n    <tr>\n      <th>23</th>\n      <td>machine learning</td>\n      <td>method</td>\n      <td>36143</td>\n    </tr>\n    <tr>\n      <th>24</th>\n      <td>the working</td>\n      <td>result</td>\n      <td>35700</td>\n    </tr>\n    <tr>\n      <th>25</th>\n      <td>deep neural network</td>\n      <td>paper</td>\n      <td>35054</td>\n    </tr>\n    <tr>\n      <th>26</th>\n      <td>adversarial example</td>\n      <td>particular so call adversarial example</td>\n      <td>34953</td>\n    </tr>\n    <tr>\n      <th>27</th>\n      <td>machine learning</td>\n      <td>datum</td>\n      <td>34845</td>\n    </tr>\n    <tr>\n      <th>28</th>\n      <td>comparatively large amount</td>\n      <td>paper</td>\n      <td>34619</td>\n    </tr>\n    <tr>\n      <th>29</th>\n      <td>computer vision</td>\n      <td>image</td>\n      <td>34523</td>\n    </tr>\n  </tbody>\n</table>\n</div>"
     },
     "execution_count": 31,
     "metadata": {},
     "output_type": "execute_result"
    }
   ],
   "source": [
    "top_30_flows"
   ],
   "metadata": {
    "collapsed": false,
    "pycharm": {
     "name": "#%%\n"
    }
   }
  }
 ],
 "metadata": {
  "kernelspec": {
   "display_name": "Python 3",
   "language": "python",
   "name": "python3"
  },
  "language_info": {
   "codemirror_mode": {
    "name": "ipython",
    "version": 2
   },
   "file_extension": ".py",
   "mimetype": "text/x-python",
   "name": "python",
   "nbconvert_exporter": "python",
   "pygments_lexer": "ipython2",
   "version": "2.7.6"
  }
 },
 "nbformat": 4,
 "nbformat_minor": 0
}