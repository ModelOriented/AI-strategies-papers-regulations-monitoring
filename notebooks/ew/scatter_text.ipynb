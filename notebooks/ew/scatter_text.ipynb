{
 "cells": [
  {
   "cell_type": "code",
   "execution_count": 77,
   "outputs": [],
   "source": [
    "import pandas as pd\n",
    "import numpy as np\n",
    "import plotly.express as px\n",
    "import os"
   ],
   "metadata": {
    "collapsed": false,
    "pycharm": {
     "name": "#%%\n"
    }
   }
  },
  {
   "cell_type": "code",
   "execution_count": 76,
   "outputs": [],
   "source": [
    "FILENAME = 'reduced_300_big_cleaned_phrase-bert_eps_0.2_min_clust_size_3.parquet'"
   ],
   "metadata": {
    "collapsed": false,
    "pycharm": {
     "name": "#%%\n"
    }
   }
  },
  {
   "cell_type": "code",
   "execution_count": null,
   "outputs": [],
   "source": [
    "df = pd.read_parquet(os.path.join(os.path.join('data', 's2orc', 'meme_score'), FILENAME))"
   ],
   "metadata": {
    "collapsed": false,
    "pycharm": {
     "name": "#%%\n"
    }
   }
  },
  {
   "cell_type": "code",
   "execution_count": 4,
   "outputs": [],
   "source": [
    "names = pd.read_parquet(os.path.join(os.path.join('data', 's2orc', 'clusterings', 'clusters_names'), FILENAME))"
   ],
   "metadata": {
    "collapsed": false,
    "pycharm": {
     "name": "#%%\n"
    }
   }
  },
  {
   "cell_type": "code",
   "execution_count": 7,
   "outputs": [],
   "source": [
    "df = df.merge(names, how='left', on='meme_id')"
   ],
   "metadata": {
    "collapsed": false,
    "pycharm": {
     "name": "#%%\n"
    }
   }
  },
  {
   "cell_type": "code",
   "execution_count": 9,
   "outputs": [],
   "source": [
    "df = df[df['meme_score_A'] > 0]\n",
    "df = df[df['meme_score_BT'] > 0]\n",
    "df = df[df['meme_score_vanilla'] > 0]\n",
    "\n",
    "df['meme_score_vanilla_log'] = df['meme_score_vanilla'].apply(np.log)\n",
    "\n",
    "df['div'] = df['sticking_factor_BT'] / df['sticking_factor_A']\n",
    "df['log_div'] = df['div'].apply(np.log)\n",
    "df['freq_sticking_factor_BT'] = df['sticking_factor_BT'] * df['frequency_bt']\n",
    "df['freq_sticking_factor_A'] = df['sticking_factor_A'] * df['frequency_a']"
   ],
   "metadata": {
    "collapsed": false,
    "pycharm": {
     "name": "#%%\n"
    }
   }
  },
  {
   "cell_type": "code",
   "execution_count": 11,
   "outputs": [],
   "source": [
    "CLUSTERS = ['large search space', 'several public dataset', 'comparative analysis', 'package', 'sensitive datum', 'detection time', 'image classification task', 'confidentiality', 'vr application', 'large annotate dataset', 'model dialog', 'large model parameter quantity', 'antisemitism', 'eligibility', 'low search complexity', 'face identification problem', 'hate speech', 'privacy', 'ethical issue', 'dialogue state tracking', 'recommender system', 'GAN', 'ai ethics', 'chatbot', \"privacy\", \"fairness\",\"accountability\", \"transparency\", \"safety\", \"cybersecurity\", \"security\", \"sustainability\", \"oversight\", \"solidarity\", \"interpretability\", \"policy\", \"regulation\", \"responsibility\"]"
   ],
   "metadata": {
    "collapsed": false,
    "pycharm": {
     "name": "#%%\n"
    }
   }
  },
  {
   "cell_type": "code",
   "execution_count": 111,
   "outputs": [],
   "source": [
    "chosen_clusters = df[df['most_common'].isin(CLUSTERS)]"
   ],
   "metadata": {
    "collapsed": false,
    "pycharm": {
     "name": "#%%\n"
    }
   }
  },
  {
   "cell_type": "code",
   "execution_count": 88,
   "outputs": [
    {
     "data": {
      "application/vnd.plotly.v1+json": {
       "data": [
        {
         "hovertemplate": "meme_score_BT=%{x}<br>meme_score_A=%{y}<br>most_common=%{text}<extra></extra>",
         "legendgroup": "",
         "marker": {
          "color": "#636efa",
          "symbol": "circle"
         },
         "mode": "markers+text",
         "name": "",
         "orientation": "v",
         "showlegend": false,
         "text": [
          "large search space",
          "sensitive datum",
          "transparency",
          "ethical issue",
          "fairness",
          "vr application",
          "privacy",
          "several public dataset",
          "package",
          "chatbot",
          "confidentiality",
          "hate speech",
          "detection time",
          "recommender system",
          "image classification task",
          "comparative analysis"
         ],
         "x": [
          405.26184238589707,
          325046.95634316513,
          9486.2975940276,
          211203.03545202088,
          258549.7984519875,
          323710.5811163604,
          287572.10364220385,
          2758.791286016127,
          322129.54115169315,
          83346.4215216575,
          326153.85156850977,
          517000.033872648,
          130712.9537855788,
          122542.82380033082,
          161041.68733267466,
          322124.3393837474
         ],
         "xaxis": "x",
         "y": [
          13348.802433811808,
          7473.082468613243,
          24901.596032048656,
          83081.2034244371,
          199608.47291870604,
          16187.066673390234,
          153228.77761323878,
          10673.359663596846,
          7212.571201942574,
          114833.0287446706,
          14285.528271307825,
          199868.5695079048,
          4244.006437805097,
          85881.92519321913,
          6804.9137747244395,
          8121.591468347412
         ],
         "yaxis": "y",
         "type": "scatter",
         "textposition": "top center"
        }
       ],
       "layout": {
        "template": {
         "data": {
          "bar": [
           {
            "error_x": {
             "color": "#2a3f5f"
            },
            "error_y": {
             "color": "#2a3f5f"
            },
            "marker": {
             "line": {
              "color": "#E5ECF6",
              "width": 0.5
             },
             "pattern": {
              "fillmode": "overlay",
              "size": 10,
              "solidity": 0.2
             }
            },
            "type": "bar"
           }
          ],
          "barpolar": [
           {
            "marker": {
             "line": {
              "color": "#E5ECF6",
              "width": 0.5
             },
             "pattern": {
              "fillmode": "overlay",
              "size": 10,
              "solidity": 0.2
             }
            },
            "type": "barpolar"
           }
          ],
          "carpet": [
           {
            "aaxis": {
             "endlinecolor": "#2a3f5f",
             "gridcolor": "white",
             "linecolor": "white",
             "minorgridcolor": "white",
             "startlinecolor": "#2a3f5f"
            },
            "baxis": {
             "endlinecolor": "#2a3f5f",
             "gridcolor": "white",
             "linecolor": "white",
             "minorgridcolor": "white",
             "startlinecolor": "#2a3f5f"
            },
            "type": "carpet"
           }
          ],
          "choropleth": [
           {
            "colorbar": {
             "outlinewidth": 0,
             "ticks": ""
            },
            "type": "choropleth"
           }
          ],
          "contour": [
           {
            "colorbar": {
             "outlinewidth": 0,
             "ticks": ""
            },
            "colorscale": [
             [
              0.0,
              "#0d0887"
             ],
             [
              0.1111111111111111,
              "#46039f"
             ],
             [
              0.2222222222222222,
              "#7201a8"
             ],
             [
              0.3333333333333333,
              "#9c179e"
             ],
             [
              0.4444444444444444,
              "#bd3786"
             ],
             [
              0.5555555555555556,
              "#d8576b"
             ],
             [
              0.6666666666666666,
              "#ed7953"
             ],
             [
              0.7777777777777778,
              "#fb9f3a"
             ],
             [
              0.8888888888888888,
              "#fdca26"
             ],
             [
              1.0,
              "#f0f921"
             ]
            ],
            "type": "contour"
           }
          ],
          "contourcarpet": [
           {
            "colorbar": {
             "outlinewidth": 0,
             "ticks": ""
            },
            "type": "contourcarpet"
           }
          ],
          "heatmap": [
           {
            "colorbar": {
             "outlinewidth": 0,
             "ticks": ""
            },
            "colorscale": [
             [
              0.0,
              "#0d0887"
             ],
             [
              0.1111111111111111,
              "#46039f"
             ],
             [
              0.2222222222222222,
              "#7201a8"
             ],
             [
              0.3333333333333333,
              "#9c179e"
             ],
             [
              0.4444444444444444,
              "#bd3786"
             ],
             [
              0.5555555555555556,
              "#d8576b"
             ],
             [
              0.6666666666666666,
              "#ed7953"
             ],
             [
              0.7777777777777778,
              "#fb9f3a"
             ],
             [
              0.8888888888888888,
              "#fdca26"
             ],
             [
              1.0,
              "#f0f921"
             ]
            ],
            "type": "heatmap"
           }
          ],
          "heatmapgl": [
           {
            "colorbar": {
             "outlinewidth": 0,
             "ticks": ""
            },
            "colorscale": [
             [
              0.0,
              "#0d0887"
             ],
             [
              0.1111111111111111,
              "#46039f"
             ],
             [
              0.2222222222222222,
              "#7201a8"
             ],
             [
              0.3333333333333333,
              "#9c179e"
             ],
             [
              0.4444444444444444,
              "#bd3786"
             ],
             [
              0.5555555555555556,
              "#d8576b"
             ],
             [
              0.6666666666666666,
              "#ed7953"
             ],
             [
              0.7777777777777778,
              "#fb9f3a"
             ],
             [
              0.8888888888888888,
              "#fdca26"
             ],
             [
              1.0,
              "#f0f921"
             ]
            ],
            "type": "heatmapgl"
           }
          ],
          "histogram": [
           {
            "marker": {
             "pattern": {
              "fillmode": "overlay",
              "size": 10,
              "solidity": 0.2
             }
            },
            "type": "histogram"
           }
          ],
          "histogram2d": [
           {
            "colorbar": {
             "outlinewidth": 0,
             "ticks": ""
            },
            "colorscale": [
             [
              0.0,
              "#0d0887"
             ],
             [
              0.1111111111111111,
              "#46039f"
             ],
             [
              0.2222222222222222,
              "#7201a8"
             ],
             [
              0.3333333333333333,
              "#9c179e"
             ],
             [
              0.4444444444444444,
              "#bd3786"
             ],
             [
              0.5555555555555556,
              "#d8576b"
             ],
             [
              0.6666666666666666,
              "#ed7953"
             ],
             [
              0.7777777777777778,
              "#fb9f3a"
             ],
             [
              0.8888888888888888,
              "#fdca26"
             ],
             [
              1.0,
              "#f0f921"
             ]
            ],
            "type": "histogram2d"
           }
          ],
          "histogram2dcontour": [
           {
            "colorbar": {
             "outlinewidth": 0,
             "ticks": ""
            },
            "colorscale": [
             [
              0.0,
              "#0d0887"
             ],
             [
              0.1111111111111111,
              "#46039f"
             ],
             [
              0.2222222222222222,
              "#7201a8"
             ],
             [
              0.3333333333333333,
              "#9c179e"
             ],
             [
              0.4444444444444444,
              "#bd3786"
             ],
             [
              0.5555555555555556,
              "#d8576b"
             ],
             [
              0.6666666666666666,
              "#ed7953"
             ],
             [
              0.7777777777777778,
              "#fb9f3a"
             ],
             [
              0.8888888888888888,
              "#fdca26"
             ],
             [
              1.0,
              "#f0f921"
             ]
            ],
            "type": "histogram2dcontour"
           }
          ],
          "mesh3d": [
           {
            "colorbar": {
             "outlinewidth": 0,
             "ticks": ""
            },
            "type": "mesh3d"
           }
          ],
          "parcoords": [
           {
            "line": {
             "colorbar": {
              "outlinewidth": 0,
              "ticks": ""
             }
            },
            "type": "parcoords"
           }
          ],
          "pie": [
           {
            "automargin": true,
            "type": "pie"
           }
          ],
          "scatter": [
           {
            "marker": {
             "colorbar": {
              "outlinewidth": 0,
              "ticks": ""
             }
            },
            "type": "scatter"
           }
          ],
          "scatter3d": [
           {
            "line": {
             "colorbar": {
              "outlinewidth": 0,
              "ticks": ""
             }
            },
            "marker": {
             "colorbar": {
              "outlinewidth": 0,
              "ticks": ""
             }
            },
            "type": "scatter3d"
           }
          ],
          "scattercarpet": [
           {
            "marker": {
             "colorbar": {
              "outlinewidth": 0,
              "ticks": ""
             }
            },
            "type": "scattercarpet"
           }
          ],
          "scattergeo": [
           {
            "marker": {
             "colorbar": {
              "outlinewidth": 0,
              "ticks": ""
             }
            },
            "type": "scattergeo"
           }
          ],
          "scattergl": [
           {
            "marker": {
             "colorbar": {
              "outlinewidth": 0,
              "ticks": ""
             }
            },
            "type": "scattergl"
           }
          ],
          "scattermapbox": [
           {
            "marker": {
             "colorbar": {
              "outlinewidth": 0,
              "ticks": ""
             }
            },
            "type": "scattermapbox"
           }
          ],
          "scatterpolar": [
           {
            "marker": {
             "colorbar": {
              "outlinewidth": 0,
              "ticks": ""
             }
            },
            "type": "scatterpolar"
           }
          ],
          "scatterpolargl": [
           {
            "marker": {
             "colorbar": {
              "outlinewidth": 0,
              "ticks": ""
             }
            },
            "type": "scatterpolargl"
           }
          ],
          "scatterternary": [
           {
            "marker": {
             "colorbar": {
              "outlinewidth": 0,
              "ticks": ""
             }
            },
            "type": "scatterternary"
           }
          ],
          "surface": [
           {
            "colorbar": {
             "outlinewidth": 0,
             "ticks": ""
            },
            "colorscale": [
             [
              0.0,
              "#0d0887"
             ],
             [
              0.1111111111111111,
              "#46039f"
             ],
             [
              0.2222222222222222,
              "#7201a8"
             ],
             [
              0.3333333333333333,
              "#9c179e"
             ],
             [
              0.4444444444444444,
              "#bd3786"
             ],
             [
              0.5555555555555556,
              "#d8576b"
             ],
             [
              0.6666666666666666,
              "#ed7953"
             ],
             [
              0.7777777777777778,
              "#fb9f3a"
             ],
             [
              0.8888888888888888,
              "#fdca26"
             ],
             [
              1.0,
              "#f0f921"
             ]
            ],
            "type": "surface"
           }
          ],
          "table": [
           {
            "cells": {
             "fill": {
              "color": "#EBF0F8"
             },
             "line": {
              "color": "white"
             }
            },
            "header": {
             "fill": {
              "color": "#C8D4E3"
             },
             "line": {
              "color": "white"
             }
            },
            "type": "table"
           }
          ]
         },
         "layout": {
          "annotationdefaults": {
           "arrowcolor": "#2a3f5f",
           "arrowhead": 0,
           "arrowwidth": 1
          },
          "autotypenumbers": "strict",
          "coloraxis": {
           "colorbar": {
            "outlinewidth": 0,
            "ticks": ""
           }
          },
          "colorscale": {
           "diverging": [
            [
             0,
             "#8e0152"
            ],
            [
             0.1,
             "#c51b7d"
            ],
            [
             0.2,
             "#de77ae"
            ],
            [
             0.3,
             "#f1b6da"
            ],
            [
             0.4,
             "#fde0ef"
            ],
            [
             0.5,
             "#f7f7f7"
            ],
            [
             0.6,
             "#e6f5d0"
            ],
            [
             0.7,
             "#b8e186"
            ],
            [
             0.8,
             "#7fbc41"
            ],
            [
             0.9,
             "#4d9221"
            ],
            [
             1,
             "#276419"
            ]
           ],
           "sequential": [
            [
             0.0,
             "#0d0887"
            ],
            [
             0.1111111111111111,
             "#46039f"
            ],
            [
             0.2222222222222222,
             "#7201a8"
            ],
            [
             0.3333333333333333,
             "#9c179e"
            ],
            [
             0.4444444444444444,
             "#bd3786"
            ],
            [
             0.5555555555555556,
             "#d8576b"
            ],
            [
             0.6666666666666666,
             "#ed7953"
            ],
            [
             0.7777777777777778,
             "#fb9f3a"
            ],
            [
             0.8888888888888888,
             "#fdca26"
            ],
            [
             1.0,
             "#f0f921"
            ]
           ],
           "sequentialminus": [
            [
             0.0,
             "#0d0887"
            ],
            [
             0.1111111111111111,
             "#46039f"
            ],
            [
             0.2222222222222222,
             "#7201a8"
            ],
            [
             0.3333333333333333,
             "#9c179e"
            ],
            [
             0.4444444444444444,
             "#bd3786"
            ],
            [
             0.5555555555555556,
             "#d8576b"
            ],
            [
             0.6666666666666666,
             "#ed7953"
            ],
            [
             0.7777777777777778,
             "#fb9f3a"
            ],
            [
             0.8888888888888888,
             "#fdca26"
            ],
            [
             1.0,
             "#f0f921"
            ]
           ]
          },
          "colorway": [
           "#636efa",
           "#EF553B",
           "#00cc96",
           "#ab63fa",
           "#FFA15A",
           "#19d3f3",
           "#FF6692",
           "#B6E880",
           "#FF97FF",
           "#FECB52"
          ],
          "font": {
           "color": "#2a3f5f"
          },
          "geo": {
           "bgcolor": "white",
           "lakecolor": "white",
           "landcolor": "#E5ECF6",
           "showlakes": true,
           "showland": true,
           "subunitcolor": "white"
          },
          "hoverlabel": {
           "align": "left"
          },
          "hovermode": "closest",
          "mapbox": {
           "style": "light"
          },
          "paper_bgcolor": "white",
          "plot_bgcolor": "#E5ECF6",
          "polar": {
           "angularaxis": {
            "gridcolor": "white",
            "linecolor": "white",
            "ticks": ""
           },
           "bgcolor": "#E5ECF6",
           "radialaxis": {
            "gridcolor": "white",
            "linecolor": "white",
            "ticks": ""
           }
          },
          "scene": {
           "xaxis": {
            "backgroundcolor": "#E5ECF6",
            "gridcolor": "white",
            "gridwidth": 2,
            "linecolor": "white",
            "showbackground": true,
            "ticks": "",
            "zerolinecolor": "white"
           },
           "yaxis": {
            "backgroundcolor": "#E5ECF6",
            "gridcolor": "white",
            "gridwidth": 2,
            "linecolor": "white",
            "showbackground": true,
            "ticks": "",
            "zerolinecolor": "white"
           },
           "zaxis": {
            "backgroundcolor": "#E5ECF6",
            "gridcolor": "white",
            "gridwidth": 2,
            "linecolor": "white",
            "showbackground": true,
            "ticks": "",
            "zerolinecolor": "white"
           }
          },
          "shapedefaults": {
           "line": {
            "color": "#2a3f5f"
           }
          },
          "ternary": {
           "aaxis": {
            "gridcolor": "white",
            "linecolor": "white",
            "ticks": ""
           },
           "baxis": {
            "gridcolor": "white",
            "linecolor": "white",
            "ticks": ""
           },
           "bgcolor": "#E5ECF6",
           "caxis": {
            "gridcolor": "white",
            "linecolor": "white",
            "ticks": ""
           }
          },
          "title": {
           "x": 0.05
          },
          "xaxis": {
           "automargin": true,
           "gridcolor": "white",
           "linecolor": "white",
           "ticks": "",
           "title": {
            "standoff": 15
           },
           "zerolinecolor": "white",
           "zerolinewidth": 2
          },
          "yaxis": {
           "automargin": true,
           "gridcolor": "white",
           "linecolor": "white",
           "ticks": "",
           "title": {
            "standoff": 15
           },
           "zerolinecolor": "white",
           "zerolinewidth": 2
          }
         }
        },
        "xaxis": {
         "anchor": "y",
         "domain": [
          0.0,
          1.0
         ],
         "title": {
          "text": "meme_score_BT"
         }
        },
        "yaxis": {
         "anchor": "x",
         "domain": [
          0.0,
          1.0
         ],
         "title": {
          "text": "meme_score_A"
         }
        },
        "legend": {
         "tracegroupgap": 0
        },
        "margin": {
         "t": 60
        }
       },
       "config": {
        "plotlyServerURL": "https://plot.ly"
       }
      },
      "text/html": "<div>                            <div id=\"ec770fcb-8b56-45b4-88e4-8a36db9675e2\" class=\"plotly-graph-div\" style=\"height:525px; width:100%;\"></div>            <script type=\"text/javascript\">                require([\"plotly\"], function(Plotly) {                    window.PLOTLYENV=window.PLOTLYENV || {};                                    if (document.getElementById(\"ec770fcb-8b56-45b4-88e4-8a36db9675e2\")) {                    Plotly.newPlot(                        \"ec770fcb-8b56-45b4-88e4-8a36db9675e2\",                        [{\"hovertemplate\":\"meme_score_BT=%{x}<br>meme_score_A=%{y}<br>most_common=%{text}<extra></extra>\",\"legendgroup\":\"\",\"marker\":{\"color\":\"#636efa\",\"symbol\":\"circle\"},\"mode\":\"markers+text\",\"name\":\"\",\"orientation\":\"v\",\"showlegend\":false,\"text\":[\"large search space\",\"sensitive datum\",\"transparency\",\"ethical issue\",\"fairness\",\"vr application\",\"privacy\",\"several public dataset\",\"package\",\"chatbot\",\"confidentiality\",\"hate speech\",\"detection time\",\"recommender system\",\"image classification task\",\"comparative analysis\"],\"x\":[405.26184238589707,325046.95634316513,9486.2975940276,211203.03545202088,258549.7984519875,323710.5811163604,287572.10364220385,2758.791286016127,322129.54115169315,83346.4215216575,326153.85156850977,517000.033872648,130712.9537855788,122542.82380033082,161041.68733267466,322124.3393837474],\"xaxis\":\"x\",\"y\":[13348.802433811808,7473.082468613243,24901.596032048656,83081.2034244371,199608.47291870604,16187.066673390234,153228.77761323878,10673.359663596846,7212.571201942574,114833.0287446706,14285.528271307825,199868.5695079048,4244.006437805097,85881.92519321913,6804.9137747244395,8121.591468347412],\"yaxis\":\"y\",\"type\":\"scatter\",\"textposition\":\"top center\"}],                        {\"template\":{\"data\":{\"bar\":[{\"error_x\":{\"color\":\"#2a3f5f\"},\"error_y\":{\"color\":\"#2a3f5f\"},\"marker\":{\"line\":{\"color\":\"#E5ECF6\",\"width\":0.5},\"pattern\":{\"fillmode\":\"overlay\",\"size\":10,\"solidity\":0.2}},\"type\":\"bar\"}],\"barpolar\":[{\"marker\":{\"line\":{\"color\":\"#E5ECF6\",\"width\":0.5},\"pattern\":{\"fillmode\":\"overlay\",\"size\":10,\"solidity\":0.2}},\"type\":\"barpolar\"}],\"carpet\":[{\"aaxis\":{\"endlinecolor\":\"#2a3f5f\",\"gridcolor\":\"white\",\"linecolor\":\"white\",\"minorgridcolor\":\"white\",\"startlinecolor\":\"#2a3f5f\"},\"baxis\":{\"endlinecolor\":\"#2a3f5f\",\"gridcolor\":\"white\",\"linecolor\":\"white\",\"minorgridcolor\":\"white\",\"startlinecolor\":\"#2a3f5f\"},\"type\":\"carpet\"}],\"choropleth\":[{\"colorbar\":{\"outlinewidth\":0,\"ticks\":\"\"},\"type\":\"choropleth\"}],\"contour\":[{\"colorbar\":{\"outlinewidth\":0,\"ticks\":\"\"},\"colorscale\":[[0.0,\"#0d0887\"],[0.1111111111111111,\"#46039f\"],[0.2222222222222222,\"#7201a8\"],[0.3333333333333333,\"#9c179e\"],[0.4444444444444444,\"#bd3786\"],[0.5555555555555556,\"#d8576b\"],[0.6666666666666666,\"#ed7953\"],[0.7777777777777778,\"#fb9f3a\"],[0.8888888888888888,\"#fdca26\"],[1.0,\"#f0f921\"]],\"type\":\"contour\"}],\"contourcarpet\":[{\"colorbar\":{\"outlinewidth\":0,\"ticks\":\"\"},\"type\":\"contourcarpet\"}],\"heatmap\":[{\"colorbar\":{\"outlinewidth\":0,\"ticks\":\"\"},\"colorscale\":[[0.0,\"#0d0887\"],[0.1111111111111111,\"#46039f\"],[0.2222222222222222,\"#7201a8\"],[0.3333333333333333,\"#9c179e\"],[0.4444444444444444,\"#bd3786\"],[0.5555555555555556,\"#d8576b\"],[0.6666666666666666,\"#ed7953\"],[0.7777777777777778,\"#fb9f3a\"],[0.8888888888888888,\"#fdca26\"],[1.0,\"#f0f921\"]],\"type\":\"heatmap\"}],\"heatmapgl\":[{\"colorbar\":{\"outlinewidth\":0,\"ticks\":\"\"},\"colorscale\":[[0.0,\"#0d0887\"],[0.1111111111111111,\"#46039f\"],[0.2222222222222222,\"#7201a8\"],[0.3333333333333333,\"#9c179e\"],[0.4444444444444444,\"#bd3786\"],[0.5555555555555556,\"#d8576b\"],[0.6666666666666666,\"#ed7953\"],[0.7777777777777778,\"#fb9f3a\"],[0.8888888888888888,\"#fdca26\"],[1.0,\"#f0f921\"]],\"type\":\"heatmapgl\"}],\"histogram\":[{\"marker\":{\"pattern\":{\"fillmode\":\"overlay\",\"size\":10,\"solidity\":0.2}},\"type\":\"histogram\"}],\"histogram2d\":[{\"colorbar\":{\"outlinewidth\":0,\"ticks\":\"\"},\"colorscale\":[[0.0,\"#0d0887\"],[0.1111111111111111,\"#46039f\"],[0.2222222222222222,\"#7201a8\"],[0.3333333333333333,\"#9c179e\"],[0.4444444444444444,\"#bd3786\"],[0.5555555555555556,\"#d8576b\"],[0.6666666666666666,\"#ed7953\"],[0.7777777777777778,\"#fb9f3a\"],[0.8888888888888888,\"#fdca26\"],[1.0,\"#f0f921\"]],\"type\":\"histogram2d\"}],\"histogram2dcontour\":[{\"colorbar\":{\"outlinewidth\":0,\"ticks\":\"\"},\"colorscale\":[[0.0,\"#0d0887\"],[0.1111111111111111,\"#46039f\"],[0.2222222222222222,\"#7201a8\"],[0.3333333333333333,\"#9c179e\"],[0.4444444444444444,\"#bd3786\"],[0.5555555555555556,\"#d8576b\"],[0.6666666666666666,\"#ed7953\"],[0.7777777777777778,\"#fb9f3a\"],[0.8888888888888888,\"#fdca26\"],[1.0,\"#f0f921\"]],\"type\":\"histogram2dcontour\"}],\"mesh3d\":[{\"colorbar\":{\"outlinewidth\":0,\"ticks\":\"\"},\"type\":\"mesh3d\"}],\"parcoords\":[{\"line\":{\"colorbar\":{\"outlinewidth\":0,\"ticks\":\"\"}},\"type\":\"parcoords\"}],\"pie\":[{\"automargin\":true,\"type\":\"pie\"}],\"scatter\":[{\"marker\":{\"colorbar\":{\"outlinewidth\":0,\"ticks\":\"\"}},\"type\":\"scatter\"}],\"scatter3d\":[{\"line\":{\"colorbar\":{\"outlinewidth\":0,\"ticks\":\"\"}},\"marker\":{\"colorbar\":{\"outlinewidth\":0,\"ticks\":\"\"}},\"type\":\"scatter3d\"}],\"scattercarpet\":[{\"marker\":{\"colorbar\":{\"outlinewidth\":0,\"ticks\":\"\"}},\"type\":\"scattercarpet\"}],\"scattergeo\":[{\"marker\":{\"colorbar\":{\"outlinewidth\":0,\"ticks\":\"\"}},\"type\":\"scattergeo\"}],\"scattergl\":[{\"marker\":{\"colorbar\":{\"outlinewidth\":0,\"ticks\":\"\"}},\"type\":\"scattergl\"}],\"scattermapbox\":[{\"marker\":{\"colorbar\":{\"outlinewidth\":0,\"ticks\":\"\"}},\"type\":\"scattermapbox\"}],\"scatterpolar\":[{\"marker\":{\"colorbar\":{\"outlinewidth\":0,\"ticks\":\"\"}},\"type\":\"scatterpolar\"}],\"scatterpolargl\":[{\"marker\":{\"colorbar\":{\"outlinewidth\":0,\"ticks\":\"\"}},\"type\":\"scatterpolargl\"}],\"scatterternary\":[{\"marker\":{\"colorbar\":{\"outlinewidth\":0,\"ticks\":\"\"}},\"type\":\"scatterternary\"}],\"surface\":[{\"colorbar\":{\"outlinewidth\":0,\"ticks\":\"\"},\"colorscale\":[[0.0,\"#0d0887\"],[0.1111111111111111,\"#46039f\"],[0.2222222222222222,\"#7201a8\"],[0.3333333333333333,\"#9c179e\"],[0.4444444444444444,\"#bd3786\"],[0.5555555555555556,\"#d8576b\"],[0.6666666666666666,\"#ed7953\"],[0.7777777777777778,\"#fb9f3a\"],[0.8888888888888888,\"#fdca26\"],[1.0,\"#f0f921\"]],\"type\":\"surface\"}],\"table\":[{\"cells\":{\"fill\":{\"color\":\"#EBF0F8\"},\"line\":{\"color\":\"white\"}},\"header\":{\"fill\":{\"color\":\"#C8D4E3\"},\"line\":{\"color\":\"white\"}},\"type\":\"table\"}]},\"layout\":{\"annotationdefaults\":{\"arrowcolor\":\"#2a3f5f\",\"arrowhead\":0,\"arrowwidth\":1},\"autotypenumbers\":\"strict\",\"coloraxis\":{\"colorbar\":{\"outlinewidth\":0,\"ticks\":\"\"}},\"colorscale\":{\"diverging\":[[0,\"#8e0152\"],[0.1,\"#c51b7d\"],[0.2,\"#de77ae\"],[0.3,\"#f1b6da\"],[0.4,\"#fde0ef\"],[0.5,\"#f7f7f7\"],[0.6,\"#e6f5d0\"],[0.7,\"#b8e186\"],[0.8,\"#7fbc41\"],[0.9,\"#4d9221\"],[1,\"#276419\"]],\"sequential\":[[0.0,\"#0d0887\"],[0.1111111111111111,\"#46039f\"],[0.2222222222222222,\"#7201a8\"],[0.3333333333333333,\"#9c179e\"],[0.4444444444444444,\"#bd3786\"],[0.5555555555555556,\"#d8576b\"],[0.6666666666666666,\"#ed7953\"],[0.7777777777777778,\"#fb9f3a\"],[0.8888888888888888,\"#fdca26\"],[1.0,\"#f0f921\"]],\"sequentialminus\":[[0.0,\"#0d0887\"],[0.1111111111111111,\"#46039f\"],[0.2222222222222222,\"#7201a8\"],[0.3333333333333333,\"#9c179e\"],[0.4444444444444444,\"#bd3786\"],[0.5555555555555556,\"#d8576b\"],[0.6666666666666666,\"#ed7953\"],[0.7777777777777778,\"#fb9f3a\"],[0.8888888888888888,\"#fdca26\"],[1.0,\"#f0f921\"]]},\"colorway\":[\"#636efa\",\"#EF553B\",\"#00cc96\",\"#ab63fa\",\"#FFA15A\",\"#19d3f3\",\"#FF6692\",\"#B6E880\",\"#FF97FF\",\"#FECB52\"],\"font\":{\"color\":\"#2a3f5f\"},\"geo\":{\"bgcolor\":\"white\",\"lakecolor\":\"white\",\"landcolor\":\"#E5ECF6\",\"showlakes\":true,\"showland\":true,\"subunitcolor\":\"white\"},\"hoverlabel\":{\"align\":\"left\"},\"hovermode\":\"closest\",\"mapbox\":{\"style\":\"light\"},\"paper_bgcolor\":\"white\",\"plot_bgcolor\":\"#E5ECF6\",\"polar\":{\"angularaxis\":{\"gridcolor\":\"white\",\"linecolor\":\"white\",\"ticks\":\"\"},\"bgcolor\":\"#E5ECF6\",\"radialaxis\":{\"gridcolor\":\"white\",\"linecolor\":\"white\",\"ticks\":\"\"}},\"scene\":{\"xaxis\":{\"backgroundcolor\":\"#E5ECF6\",\"gridcolor\":\"white\",\"gridwidth\":2,\"linecolor\":\"white\",\"showbackground\":true,\"ticks\":\"\",\"zerolinecolor\":\"white\"},\"yaxis\":{\"backgroundcolor\":\"#E5ECF6\",\"gridcolor\":\"white\",\"gridwidth\":2,\"linecolor\":\"white\",\"showbackground\":true,\"ticks\":\"\",\"zerolinecolor\":\"white\"},\"zaxis\":{\"backgroundcolor\":\"#E5ECF6\",\"gridcolor\":\"white\",\"gridwidth\":2,\"linecolor\":\"white\",\"showbackground\":true,\"ticks\":\"\",\"zerolinecolor\":\"white\"}},\"shapedefaults\":{\"line\":{\"color\":\"#2a3f5f\"}},\"ternary\":{\"aaxis\":{\"gridcolor\":\"white\",\"linecolor\":\"white\",\"ticks\":\"\"},\"baxis\":{\"gridcolor\":\"white\",\"linecolor\":\"white\",\"ticks\":\"\"},\"bgcolor\":\"#E5ECF6\",\"caxis\":{\"gridcolor\":\"white\",\"linecolor\":\"white\",\"ticks\":\"\"}},\"title\":{\"x\":0.05},\"xaxis\":{\"automargin\":true,\"gridcolor\":\"white\",\"linecolor\":\"white\",\"ticks\":\"\",\"title\":{\"standoff\":15},\"zerolinecolor\":\"white\",\"zerolinewidth\":2},\"yaxis\":{\"automargin\":true,\"gridcolor\":\"white\",\"linecolor\":\"white\",\"ticks\":\"\",\"title\":{\"standoff\":15},\"zerolinecolor\":\"white\",\"zerolinewidth\":2}}},\"xaxis\":{\"anchor\":\"y\",\"domain\":[0.0,1.0],\"title\":{\"text\":\"meme_score_BT\"}},\"yaxis\":{\"anchor\":\"x\",\"domain\":[0.0,1.0],\"title\":{\"text\":\"meme_score_A\"}},\"legend\":{\"tracegroupgap\":0},\"margin\":{\"t\":60}},                        {\"responsive\": true}                    ).then(function(){\n                            \nvar gd = document.getElementById('ec770fcb-8b56-45b4-88e4-8a36db9675e2');\nvar x = new MutationObserver(function (mutations, observer) {{\n        var display = window.getComputedStyle(gd).display;\n        if (!display || display === 'none') {{\n            console.log([gd, 'removed!']);\n            Plotly.purge(gd);\n            observer.disconnect();\n        }}\n}});\n\n// Listen for the removal of the full notebook cells\nvar notebookContainer = gd.closest('#notebook-container');\nif (notebookContainer) {{\n    x.observe(notebookContainer, {childList: true});\n}}\n\n// Listen for the clearing of the current output cell\nvar outputEl = gd.closest('.output');\nif (outputEl) {{\n    x.observe(outputEl, {childList: true});\n}}\n\n                        })                };                });            </script>        </div>"
     },
     "metadata": {},
     "output_type": "display_data"
    }
   ],
   "source": [
    "fig = px.scatter(chosen_clusters, x=\"meme_score_BT\", y=\"meme_score_A\", text=\"most_common\")\n",
    "fig.update_traces(textposition='top center')\n",
    "fig.show()"
   ],
   "metadata": {
    "collapsed": false,
    "pycharm": {
     "name": "#%%\n"
    }
   }
  },
  {
   "cell_type": "code",
   "execution_count": 89,
   "outputs": [
    {
     "data": {
      "application/vnd.plotly.v1+json": {
       "data": [
        {
         "hovertemplate": "meme_score_vanilla_log=%{x}<br>log_div=%{y}<br>most_common=%{text}<extra></extra>",
         "legendgroup": "",
         "marker": {
          "color": "#636efa",
          "symbol": "circle"
         },
         "mode": "markers+text",
         "name": "",
         "orientation": "v",
         "showlegend": false,
         "text": [
          "large search space",
          "sensitive datum",
          "transparency",
          "ethical issue",
          "fairness",
          "vr application",
          "privacy",
          "several public dataset",
          "package",
          "chatbot",
          "confidentiality",
          "hate speech",
          "detection time",
          "recommender system",
          "image classification task",
          "comparative analysis"
         ],
         "x": [
          6.8957386770370865,
          9.377638013168697,
          10.129005549562986,
          11.312010188150905,
          12.220760837164033,
          10.336325103356767,
          11.996269168299731,
          8.95556343644187,
          9.156447780428566,
          11.57898592853378,
          9.552509298021661,
          12.205415277050376,
          9.353029592913963,
          11.349979417916446,
          8.811414011940686,
          9.271391086502277
         ],
         "xaxis": "x",
         "y": [
          -3.49464857186289,
          3.772662092518932,
          -0.965083500206411,
          0.9330014401031888,
          0.2587305068409484,
          2.9956372785411576,
          0.6295415409761828,
          -1.3529582418616286,
          3.7991282625508465,
          -0.3204734742192317,
          3.1281221915264776,
          0.9503829419578825,
          3.4274959888799814,
          0.35548716093187077,
          3.1640182938482684,
          3.680411489555092
         ],
         "yaxis": "y",
         "type": "scatter"
        }
       ],
       "layout": {
        "template": {
         "data": {
          "bar": [
           {
            "error_x": {
             "color": "#2a3f5f"
            },
            "error_y": {
             "color": "#2a3f5f"
            },
            "marker": {
             "line": {
              "color": "#E5ECF6",
              "width": 0.5
             },
             "pattern": {
              "fillmode": "overlay",
              "size": 10,
              "solidity": 0.2
             }
            },
            "type": "bar"
           }
          ],
          "barpolar": [
           {
            "marker": {
             "line": {
              "color": "#E5ECF6",
              "width": 0.5
             },
             "pattern": {
              "fillmode": "overlay",
              "size": 10,
              "solidity": 0.2
             }
            },
            "type": "barpolar"
           }
          ],
          "carpet": [
           {
            "aaxis": {
             "endlinecolor": "#2a3f5f",
             "gridcolor": "white",
             "linecolor": "white",
             "minorgridcolor": "white",
             "startlinecolor": "#2a3f5f"
            },
            "baxis": {
             "endlinecolor": "#2a3f5f",
             "gridcolor": "white",
             "linecolor": "white",
             "minorgridcolor": "white",
             "startlinecolor": "#2a3f5f"
            },
            "type": "carpet"
           }
          ],
          "choropleth": [
           {
            "colorbar": {
             "outlinewidth": 0,
             "ticks": ""
            },
            "type": "choropleth"
           }
          ],
          "contour": [
           {
            "colorbar": {
             "outlinewidth": 0,
             "ticks": ""
            },
            "colorscale": [
             [
              0.0,
              "#0d0887"
             ],
             [
              0.1111111111111111,
              "#46039f"
             ],
             [
              0.2222222222222222,
              "#7201a8"
             ],
             [
              0.3333333333333333,
              "#9c179e"
             ],
             [
              0.4444444444444444,
              "#bd3786"
             ],
             [
              0.5555555555555556,
              "#d8576b"
             ],
             [
              0.6666666666666666,
              "#ed7953"
             ],
             [
              0.7777777777777778,
              "#fb9f3a"
             ],
             [
              0.8888888888888888,
              "#fdca26"
             ],
             [
              1.0,
              "#f0f921"
             ]
            ],
            "type": "contour"
           }
          ],
          "contourcarpet": [
           {
            "colorbar": {
             "outlinewidth": 0,
             "ticks": ""
            },
            "type": "contourcarpet"
           }
          ],
          "heatmap": [
           {
            "colorbar": {
             "outlinewidth": 0,
             "ticks": ""
            },
            "colorscale": [
             [
              0.0,
              "#0d0887"
             ],
             [
              0.1111111111111111,
              "#46039f"
             ],
             [
              0.2222222222222222,
              "#7201a8"
             ],
             [
              0.3333333333333333,
              "#9c179e"
             ],
             [
              0.4444444444444444,
              "#bd3786"
             ],
             [
              0.5555555555555556,
              "#d8576b"
             ],
             [
              0.6666666666666666,
              "#ed7953"
             ],
             [
              0.7777777777777778,
              "#fb9f3a"
             ],
             [
              0.8888888888888888,
              "#fdca26"
             ],
             [
              1.0,
              "#f0f921"
             ]
            ],
            "type": "heatmap"
           }
          ],
          "heatmapgl": [
           {
            "colorbar": {
             "outlinewidth": 0,
             "ticks": ""
            },
            "colorscale": [
             [
              0.0,
              "#0d0887"
             ],
             [
              0.1111111111111111,
              "#46039f"
             ],
             [
              0.2222222222222222,
              "#7201a8"
             ],
             [
              0.3333333333333333,
              "#9c179e"
             ],
             [
              0.4444444444444444,
              "#bd3786"
             ],
             [
              0.5555555555555556,
              "#d8576b"
             ],
             [
              0.6666666666666666,
              "#ed7953"
             ],
             [
              0.7777777777777778,
              "#fb9f3a"
             ],
             [
              0.8888888888888888,
              "#fdca26"
             ],
             [
              1.0,
              "#f0f921"
             ]
            ],
            "type": "heatmapgl"
           }
          ],
          "histogram": [
           {
            "marker": {
             "pattern": {
              "fillmode": "overlay",
              "size": 10,
              "solidity": 0.2
             }
            },
            "type": "histogram"
           }
          ],
          "histogram2d": [
           {
            "colorbar": {
             "outlinewidth": 0,
             "ticks": ""
            },
            "colorscale": [
             [
              0.0,
              "#0d0887"
             ],
             [
              0.1111111111111111,
              "#46039f"
             ],
             [
              0.2222222222222222,
              "#7201a8"
             ],
             [
              0.3333333333333333,
              "#9c179e"
             ],
             [
              0.4444444444444444,
              "#bd3786"
             ],
             [
              0.5555555555555556,
              "#d8576b"
             ],
             [
              0.6666666666666666,
              "#ed7953"
             ],
             [
              0.7777777777777778,
              "#fb9f3a"
             ],
             [
              0.8888888888888888,
              "#fdca26"
             ],
             [
              1.0,
              "#f0f921"
             ]
            ],
            "type": "histogram2d"
           }
          ],
          "histogram2dcontour": [
           {
            "colorbar": {
             "outlinewidth": 0,
             "ticks": ""
            },
            "colorscale": [
             [
              0.0,
              "#0d0887"
             ],
             [
              0.1111111111111111,
              "#46039f"
             ],
             [
              0.2222222222222222,
              "#7201a8"
             ],
             [
              0.3333333333333333,
              "#9c179e"
             ],
             [
              0.4444444444444444,
              "#bd3786"
             ],
             [
              0.5555555555555556,
              "#d8576b"
             ],
             [
              0.6666666666666666,
              "#ed7953"
             ],
             [
              0.7777777777777778,
              "#fb9f3a"
             ],
             [
              0.8888888888888888,
              "#fdca26"
             ],
             [
              1.0,
              "#f0f921"
             ]
            ],
            "type": "histogram2dcontour"
           }
          ],
          "mesh3d": [
           {
            "colorbar": {
             "outlinewidth": 0,
             "ticks": ""
            },
            "type": "mesh3d"
           }
          ],
          "parcoords": [
           {
            "line": {
             "colorbar": {
              "outlinewidth": 0,
              "ticks": ""
             }
            },
            "type": "parcoords"
           }
          ],
          "pie": [
           {
            "automargin": true,
            "type": "pie"
           }
          ],
          "scatter": [
           {
            "marker": {
             "colorbar": {
              "outlinewidth": 0,
              "ticks": ""
             }
            },
            "type": "scatter"
           }
          ],
          "scatter3d": [
           {
            "line": {
             "colorbar": {
              "outlinewidth": 0,
              "ticks": ""
             }
            },
            "marker": {
             "colorbar": {
              "outlinewidth": 0,
              "ticks": ""
             }
            },
            "type": "scatter3d"
           }
          ],
          "scattercarpet": [
           {
            "marker": {
             "colorbar": {
              "outlinewidth": 0,
              "ticks": ""
             }
            },
            "type": "scattercarpet"
           }
          ],
          "scattergeo": [
           {
            "marker": {
             "colorbar": {
              "outlinewidth": 0,
              "ticks": ""
             }
            },
            "type": "scattergeo"
           }
          ],
          "scattergl": [
           {
            "marker": {
             "colorbar": {
              "outlinewidth": 0,
              "ticks": ""
             }
            },
            "type": "scattergl"
           }
          ],
          "scattermapbox": [
           {
            "marker": {
             "colorbar": {
              "outlinewidth": 0,
              "ticks": ""
             }
            },
            "type": "scattermapbox"
           }
          ],
          "scatterpolar": [
           {
            "marker": {
             "colorbar": {
              "outlinewidth": 0,
              "ticks": ""
             }
            },
            "type": "scatterpolar"
           }
          ],
          "scatterpolargl": [
           {
            "marker": {
             "colorbar": {
              "outlinewidth": 0,
              "ticks": ""
             }
            },
            "type": "scatterpolargl"
           }
          ],
          "scatterternary": [
           {
            "marker": {
             "colorbar": {
              "outlinewidth": 0,
              "ticks": ""
             }
            },
            "type": "scatterternary"
           }
          ],
          "surface": [
           {
            "colorbar": {
             "outlinewidth": 0,
             "ticks": ""
            },
            "colorscale": [
             [
              0.0,
              "#0d0887"
             ],
             [
              0.1111111111111111,
              "#46039f"
             ],
             [
              0.2222222222222222,
              "#7201a8"
             ],
             [
              0.3333333333333333,
              "#9c179e"
             ],
             [
              0.4444444444444444,
              "#bd3786"
             ],
             [
              0.5555555555555556,
              "#d8576b"
             ],
             [
              0.6666666666666666,
              "#ed7953"
             ],
             [
              0.7777777777777778,
              "#fb9f3a"
             ],
             [
              0.8888888888888888,
              "#fdca26"
             ],
             [
              1.0,
              "#f0f921"
             ]
            ],
            "type": "surface"
           }
          ],
          "table": [
           {
            "cells": {
             "fill": {
              "color": "#EBF0F8"
             },
             "line": {
              "color": "white"
             }
            },
            "header": {
             "fill": {
              "color": "#C8D4E3"
             },
             "line": {
              "color": "white"
             }
            },
            "type": "table"
           }
          ]
         },
         "layout": {
          "annotationdefaults": {
           "arrowcolor": "#2a3f5f",
           "arrowhead": 0,
           "arrowwidth": 1
          },
          "autotypenumbers": "strict",
          "coloraxis": {
           "colorbar": {
            "outlinewidth": 0,
            "ticks": ""
           }
          },
          "colorscale": {
           "diverging": [
            [
             0,
             "#8e0152"
            ],
            [
             0.1,
             "#c51b7d"
            ],
            [
             0.2,
             "#de77ae"
            ],
            [
             0.3,
             "#f1b6da"
            ],
            [
             0.4,
             "#fde0ef"
            ],
            [
             0.5,
             "#f7f7f7"
            ],
            [
             0.6,
             "#e6f5d0"
            ],
            [
             0.7,
             "#b8e186"
            ],
            [
             0.8,
             "#7fbc41"
            ],
            [
             0.9,
             "#4d9221"
            ],
            [
             1,
             "#276419"
            ]
           ],
           "sequential": [
            [
             0.0,
             "#0d0887"
            ],
            [
             0.1111111111111111,
             "#46039f"
            ],
            [
             0.2222222222222222,
             "#7201a8"
            ],
            [
             0.3333333333333333,
             "#9c179e"
            ],
            [
             0.4444444444444444,
             "#bd3786"
            ],
            [
             0.5555555555555556,
             "#d8576b"
            ],
            [
             0.6666666666666666,
             "#ed7953"
            ],
            [
             0.7777777777777778,
             "#fb9f3a"
            ],
            [
             0.8888888888888888,
             "#fdca26"
            ],
            [
             1.0,
             "#f0f921"
            ]
           ],
           "sequentialminus": [
            [
             0.0,
             "#0d0887"
            ],
            [
             0.1111111111111111,
             "#46039f"
            ],
            [
             0.2222222222222222,
             "#7201a8"
            ],
            [
             0.3333333333333333,
             "#9c179e"
            ],
            [
             0.4444444444444444,
             "#bd3786"
            ],
            [
             0.5555555555555556,
             "#d8576b"
            ],
            [
             0.6666666666666666,
             "#ed7953"
            ],
            [
             0.7777777777777778,
             "#fb9f3a"
            ],
            [
             0.8888888888888888,
             "#fdca26"
            ],
            [
             1.0,
             "#f0f921"
            ]
           ]
          },
          "colorway": [
           "#636efa",
           "#EF553B",
           "#00cc96",
           "#ab63fa",
           "#FFA15A",
           "#19d3f3",
           "#FF6692",
           "#B6E880",
           "#FF97FF",
           "#FECB52"
          ],
          "font": {
           "color": "#2a3f5f"
          },
          "geo": {
           "bgcolor": "white",
           "lakecolor": "white",
           "landcolor": "#E5ECF6",
           "showlakes": true,
           "showland": true,
           "subunitcolor": "white"
          },
          "hoverlabel": {
           "align": "left"
          },
          "hovermode": "closest",
          "mapbox": {
           "style": "light"
          },
          "paper_bgcolor": "white",
          "plot_bgcolor": "#E5ECF6",
          "polar": {
           "angularaxis": {
            "gridcolor": "white",
            "linecolor": "white",
            "ticks": ""
           },
           "bgcolor": "#E5ECF6",
           "radialaxis": {
            "gridcolor": "white",
            "linecolor": "white",
            "ticks": ""
           }
          },
          "scene": {
           "xaxis": {
            "backgroundcolor": "#E5ECF6",
            "gridcolor": "white",
            "gridwidth": 2,
            "linecolor": "white",
            "showbackground": true,
            "ticks": "",
            "zerolinecolor": "white"
           },
           "yaxis": {
            "backgroundcolor": "#E5ECF6",
            "gridcolor": "white",
            "gridwidth": 2,
            "linecolor": "white",
            "showbackground": true,
            "ticks": "",
            "zerolinecolor": "white"
           },
           "zaxis": {
            "backgroundcolor": "#E5ECF6",
            "gridcolor": "white",
            "gridwidth": 2,
            "linecolor": "white",
            "showbackground": true,
            "ticks": "",
            "zerolinecolor": "white"
           }
          },
          "shapedefaults": {
           "line": {
            "color": "#2a3f5f"
           }
          },
          "ternary": {
           "aaxis": {
            "gridcolor": "white",
            "linecolor": "white",
            "ticks": ""
           },
           "baxis": {
            "gridcolor": "white",
            "linecolor": "white",
            "ticks": ""
           },
           "bgcolor": "#E5ECF6",
           "caxis": {
            "gridcolor": "white",
            "linecolor": "white",
            "ticks": ""
           }
          },
          "title": {
           "x": 0.05
          },
          "xaxis": {
           "automargin": true,
           "gridcolor": "white",
           "linecolor": "white",
           "ticks": "",
           "title": {
            "standoff": 15
           },
           "zerolinecolor": "white",
           "zerolinewidth": 2
          },
          "yaxis": {
           "automargin": true,
           "gridcolor": "white",
           "linecolor": "white",
           "ticks": "",
           "title": {
            "standoff": 15
           },
           "zerolinecolor": "white",
           "zerolinewidth": 2
          }
         }
        },
        "xaxis": {
         "anchor": "y",
         "domain": [
          0.0,
          1.0
         ],
         "title": {
          "text": "meme_score_vanilla_log"
         }
        },
        "yaxis": {
         "anchor": "x",
         "domain": [
          0.0,
          1.0
         ],
         "title": {
          "text": "log_div"
         }
        },
        "legend": {
         "tracegroupgap": 0
        },
        "margin": {
         "t": 60
        }
       },
       "config": {
        "plotlyServerURL": "https://plot.ly"
       }
      },
      "text/html": "<div>                            <div id=\"f836c257-1b50-4c23-94dd-23daec08c0d4\" class=\"plotly-graph-div\" style=\"height:525px; width:100%;\"></div>            <script type=\"text/javascript\">                require([\"plotly\"], function(Plotly) {                    window.PLOTLYENV=window.PLOTLYENV || {};                                    if (document.getElementById(\"f836c257-1b50-4c23-94dd-23daec08c0d4\")) {                    Plotly.newPlot(                        \"f836c257-1b50-4c23-94dd-23daec08c0d4\",                        [{\"hovertemplate\":\"meme_score_vanilla_log=%{x}<br>log_div=%{y}<br>most_common=%{text}<extra></extra>\",\"legendgroup\":\"\",\"marker\":{\"color\":\"#636efa\",\"symbol\":\"circle\"},\"mode\":\"markers+text\",\"name\":\"\",\"orientation\":\"v\",\"showlegend\":false,\"text\":[\"large search space\",\"sensitive datum\",\"transparency\",\"ethical issue\",\"fairness\",\"vr application\",\"privacy\",\"several public dataset\",\"package\",\"chatbot\",\"confidentiality\",\"hate speech\",\"detection time\",\"recommender system\",\"image classification task\",\"comparative analysis\"],\"x\":[6.8957386770370865,9.377638013168697,10.129005549562986,11.312010188150905,12.220760837164033,10.336325103356767,11.996269168299731,8.95556343644187,9.156447780428566,11.57898592853378,9.552509298021661,12.205415277050376,9.353029592913963,11.349979417916446,8.811414011940686,9.271391086502277],\"xaxis\":\"x\",\"y\":[-3.49464857186289,3.772662092518932,-0.965083500206411,0.9330014401031888,0.2587305068409484,2.9956372785411576,0.6295415409761828,-1.3529582418616286,3.7991282625508465,-0.3204734742192317,3.1281221915264776,0.9503829419578825,3.4274959888799814,0.35548716093187077,3.1640182938482684,3.680411489555092],\"yaxis\":\"y\",\"type\":\"scatter\"}],                        {\"template\":{\"data\":{\"bar\":[{\"error_x\":{\"color\":\"#2a3f5f\"},\"error_y\":{\"color\":\"#2a3f5f\"},\"marker\":{\"line\":{\"color\":\"#E5ECF6\",\"width\":0.5},\"pattern\":{\"fillmode\":\"overlay\",\"size\":10,\"solidity\":0.2}},\"type\":\"bar\"}],\"barpolar\":[{\"marker\":{\"line\":{\"color\":\"#E5ECF6\",\"width\":0.5},\"pattern\":{\"fillmode\":\"overlay\",\"size\":10,\"solidity\":0.2}},\"type\":\"barpolar\"}],\"carpet\":[{\"aaxis\":{\"endlinecolor\":\"#2a3f5f\",\"gridcolor\":\"white\",\"linecolor\":\"white\",\"minorgridcolor\":\"white\",\"startlinecolor\":\"#2a3f5f\"},\"baxis\":{\"endlinecolor\":\"#2a3f5f\",\"gridcolor\":\"white\",\"linecolor\":\"white\",\"minorgridcolor\":\"white\",\"startlinecolor\":\"#2a3f5f\"},\"type\":\"carpet\"}],\"choropleth\":[{\"colorbar\":{\"outlinewidth\":0,\"ticks\":\"\"},\"type\":\"choropleth\"}],\"contour\":[{\"colorbar\":{\"outlinewidth\":0,\"ticks\":\"\"},\"colorscale\":[[0.0,\"#0d0887\"],[0.1111111111111111,\"#46039f\"],[0.2222222222222222,\"#7201a8\"],[0.3333333333333333,\"#9c179e\"],[0.4444444444444444,\"#bd3786\"],[0.5555555555555556,\"#d8576b\"],[0.6666666666666666,\"#ed7953\"],[0.7777777777777778,\"#fb9f3a\"],[0.8888888888888888,\"#fdca26\"],[1.0,\"#f0f921\"]],\"type\":\"contour\"}],\"contourcarpet\":[{\"colorbar\":{\"outlinewidth\":0,\"ticks\":\"\"},\"type\":\"contourcarpet\"}],\"heatmap\":[{\"colorbar\":{\"outlinewidth\":0,\"ticks\":\"\"},\"colorscale\":[[0.0,\"#0d0887\"],[0.1111111111111111,\"#46039f\"],[0.2222222222222222,\"#7201a8\"],[0.3333333333333333,\"#9c179e\"],[0.4444444444444444,\"#bd3786\"],[0.5555555555555556,\"#d8576b\"],[0.6666666666666666,\"#ed7953\"],[0.7777777777777778,\"#fb9f3a\"],[0.8888888888888888,\"#fdca26\"],[1.0,\"#f0f921\"]],\"type\":\"heatmap\"}],\"heatmapgl\":[{\"colorbar\":{\"outlinewidth\":0,\"ticks\":\"\"},\"colorscale\":[[0.0,\"#0d0887\"],[0.1111111111111111,\"#46039f\"],[0.2222222222222222,\"#7201a8\"],[0.3333333333333333,\"#9c179e\"],[0.4444444444444444,\"#bd3786\"],[0.5555555555555556,\"#d8576b\"],[0.6666666666666666,\"#ed7953\"],[0.7777777777777778,\"#fb9f3a\"],[0.8888888888888888,\"#fdca26\"],[1.0,\"#f0f921\"]],\"type\":\"heatmapgl\"}],\"histogram\":[{\"marker\":{\"pattern\":{\"fillmode\":\"overlay\",\"size\":10,\"solidity\":0.2}},\"type\":\"histogram\"}],\"histogram2d\":[{\"colorbar\":{\"outlinewidth\":0,\"ticks\":\"\"},\"colorscale\":[[0.0,\"#0d0887\"],[0.1111111111111111,\"#46039f\"],[0.2222222222222222,\"#7201a8\"],[0.3333333333333333,\"#9c179e\"],[0.4444444444444444,\"#bd3786\"],[0.5555555555555556,\"#d8576b\"],[0.6666666666666666,\"#ed7953\"],[0.7777777777777778,\"#fb9f3a\"],[0.8888888888888888,\"#fdca26\"],[1.0,\"#f0f921\"]],\"type\":\"histogram2d\"}],\"histogram2dcontour\":[{\"colorbar\":{\"outlinewidth\":0,\"ticks\":\"\"},\"colorscale\":[[0.0,\"#0d0887\"],[0.1111111111111111,\"#46039f\"],[0.2222222222222222,\"#7201a8\"],[0.3333333333333333,\"#9c179e\"],[0.4444444444444444,\"#bd3786\"],[0.5555555555555556,\"#d8576b\"],[0.6666666666666666,\"#ed7953\"],[0.7777777777777778,\"#fb9f3a\"],[0.8888888888888888,\"#fdca26\"],[1.0,\"#f0f921\"]],\"type\":\"histogram2dcontour\"}],\"mesh3d\":[{\"colorbar\":{\"outlinewidth\":0,\"ticks\":\"\"},\"type\":\"mesh3d\"}],\"parcoords\":[{\"line\":{\"colorbar\":{\"outlinewidth\":0,\"ticks\":\"\"}},\"type\":\"parcoords\"}],\"pie\":[{\"automargin\":true,\"type\":\"pie\"}],\"scatter\":[{\"marker\":{\"colorbar\":{\"outlinewidth\":0,\"ticks\":\"\"}},\"type\":\"scatter\"}],\"scatter3d\":[{\"line\":{\"colorbar\":{\"outlinewidth\":0,\"ticks\":\"\"}},\"marker\":{\"colorbar\":{\"outlinewidth\":0,\"ticks\":\"\"}},\"type\":\"scatter3d\"}],\"scattercarpet\":[{\"marker\":{\"colorbar\":{\"outlinewidth\":0,\"ticks\":\"\"}},\"type\":\"scattercarpet\"}],\"scattergeo\":[{\"marker\":{\"colorbar\":{\"outlinewidth\":0,\"ticks\":\"\"}},\"type\":\"scattergeo\"}],\"scattergl\":[{\"marker\":{\"colorbar\":{\"outlinewidth\":0,\"ticks\":\"\"}},\"type\":\"scattergl\"}],\"scattermapbox\":[{\"marker\":{\"colorbar\":{\"outlinewidth\":0,\"ticks\":\"\"}},\"type\":\"scattermapbox\"}],\"scatterpolar\":[{\"marker\":{\"colorbar\":{\"outlinewidth\":0,\"ticks\":\"\"}},\"type\":\"scatterpolar\"}],\"scatterpolargl\":[{\"marker\":{\"colorbar\":{\"outlinewidth\":0,\"ticks\":\"\"}},\"type\":\"scatterpolargl\"}],\"scatterternary\":[{\"marker\":{\"colorbar\":{\"outlinewidth\":0,\"ticks\":\"\"}},\"type\":\"scatterternary\"}],\"surface\":[{\"colorbar\":{\"outlinewidth\":0,\"ticks\":\"\"},\"colorscale\":[[0.0,\"#0d0887\"],[0.1111111111111111,\"#46039f\"],[0.2222222222222222,\"#7201a8\"],[0.3333333333333333,\"#9c179e\"],[0.4444444444444444,\"#bd3786\"],[0.5555555555555556,\"#d8576b\"],[0.6666666666666666,\"#ed7953\"],[0.7777777777777778,\"#fb9f3a\"],[0.8888888888888888,\"#fdca26\"],[1.0,\"#f0f921\"]],\"type\":\"surface\"}],\"table\":[{\"cells\":{\"fill\":{\"color\":\"#EBF0F8\"},\"line\":{\"color\":\"white\"}},\"header\":{\"fill\":{\"color\":\"#C8D4E3\"},\"line\":{\"color\":\"white\"}},\"type\":\"table\"}]},\"layout\":{\"annotationdefaults\":{\"arrowcolor\":\"#2a3f5f\",\"arrowhead\":0,\"arrowwidth\":1},\"autotypenumbers\":\"strict\",\"coloraxis\":{\"colorbar\":{\"outlinewidth\":0,\"ticks\":\"\"}},\"colorscale\":{\"diverging\":[[0,\"#8e0152\"],[0.1,\"#c51b7d\"],[0.2,\"#de77ae\"],[0.3,\"#f1b6da\"],[0.4,\"#fde0ef\"],[0.5,\"#f7f7f7\"],[0.6,\"#e6f5d0\"],[0.7,\"#b8e186\"],[0.8,\"#7fbc41\"],[0.9,\"#4d9221\"],[1,\"#276419\"]],\"sequential\":[[0.0,\"#0d0887\"],[0.1111111111111111,\"#46039f\"],[0.2222222222222222,\"#7201a8\"],[0.3333333333333333,\"#9c179e\"],[0.4444444444444444,\"#bd3786\"],[0.5555555555555556,\"#d8576b\"],[0.6666666666666666,\"#ed7953\"],[0.7777777777777778,\"#fb9f3a\"],[0.8888888888888888,\"#fdca26\"],[1.0,\"#f0f921\"]],\"sequentialminus\":[[0.0,\"#0d0887\"],[0.1111111111111111,\"#46039f\"],[0.2222222222222222,\"#7201a8\"],[0.3333333333333333,\"#9c179e\"],[0.4444444444444444,\"#bd3786\"],[0.5555555555555556,\"#d8576b\"],[0.6666666666666666,\"#ed7953\"],[0.7777777777777778,\"#fb9f3a\"],[0.8888888888888888,\"#fdca26\"],[1.0,\"#f0f921\"]]},\"colorway\":[\"#636efa\",\"#EF553B\",\"#00cc96\",\"#ab63fa\",\"#FFA15A\",\"#19d3f3\",\"#FF6692\",\"#B6E880\",\"#FF97FF\",\"#FECB52\"],\"font\":{\"color\":\"#2a3f5f\"},\"geo\":{\"bgcolor\":\"white\",\"lakecolor\":\"white\",\"landcolor\":\"#E5ECF6\",\"showlakes\":true,\"showland\":true,\"subunitcolor\":\"white\"},\"hoverlabel\":{\"align\":\"left\"},\"hovermode\":\"closest\",\"mapbox\":{\"style\":\"light\"},\"paper_bgcolor\":\"white\",\"plot_bgcolor\":\"#E5ECF6\",\"polar\":{\"angularaxis\":{\"gridcolor\":\"white\",\"linecolor\":\"white\",\"ticks\":\"\"},\"bgcolor\":\"#E5ECF6\",\"radialaxis\":{\"gridcolor\":\"white\",\"linecolor\":\"white\",\"ticks\":\"\"}},\"scene\":{\"xaxis\":{\"backgroundcolor\":\"#E5ECF6\",\"gridcolor\":\"white\",\"gridwidth\":2,\"linecolor\":\"white\",\"showbackground\":true,\"ticks\":\"\",\"zerolinecolor\":\"white\"},\"yaxis\":{\"backgroundcolor\":\"#E5ECF6\",\"gridcolor\":\"white\",\"gridwidth\":2,\"linecolor\":\"white\",\"showbackground\":true,\"ticks\":\"\",\"zerolinecolor\":\"white\"},\"zaxis\":{\"backgroundcolor\":\"#E5ECF6\",\"gridcolor\":\"white\",\"gridwidth\":2,\"linecolor\":\"white\",\"showbackground\":true,\"ticks\":\"\",\"zerolinecolor\":\"white\"}},\"shapedefaults\":{\"line\":{\"color\":\"#2a3f5f\"}},\"ternary\":{\"aaxis\":{\"gridcolor\":\"white\",\"linecolor\":\"white\",\"ticks\":\"\"},\"baxis\":{\"gridcolor\":\"white\",\"linecolor\":\"white\",\"ticks\":\"\"},\"bgcolor\":\"#E5ECF6\",\"caxis\":{\"gridcolor\":\"white\",\"linecolor\":\"white\",\"ticks\":\"\"}},\"title\":{\"x\":0.05},\"xaxis\":{\"automargin\":true,\"gridcolor\":\"white\",\"linecolor\":\"white\",\"ticks\":\"\",\"title\":{\"standoff\":15},\"zerolinecolor\":\"white\",\"zerolinewidth\":2},\"yaxis\":{\"automargin\":true,\"gridcolor\":\"white\",\"linecolor\":\"white\",\"ticks\":\"\",\"title\":{\"standoff\":15},\"zerolinecolor\":\"white\",\"zerolinewidth\":2}}},\"xaxis\":{\"anchor\":\"y\",\"domain\":[0.0,1.0],\"title\":{\"text\":\"meme_score_vanilla_log\"}},\"yaxis\":{\"anchor\":\"x\",\"domain\":[0.0,1.0],\"title\":{\"text\":\"log_div\"}},\"legend\":{\"tracegroupgap\":0},\"margin\":{\"t\":60}},                        {\"responsive\": true}                    ).then(function(){\n                            \nvar gd = document.getElementById('f836c257-1b50-4c23-94dd-23daec08c0d4');\nvar x = new MutationObserver(function (mutations, observer) {{\n        var display = window.getComputedStyle(gd).display;\n        if (!display || display === 'none') {{\n            console.log([gd, 'removed!']);\n            Plotly.purge(gd);\n            observer.disconnect();\n        }}\n}});\n\n// Listen for the removal of the full notebook cells\nvar notebookContainer = gd.closest('#notebook-container');\nif (notebookContainer) {{\n    x.observe(notebookContainer, {childList: true});\n}}\n\n// Listen for the clearing of the current output cell\nvar outputEl = gd.closest('.output');\nif (outputEl) {{\n    x.observe(outputEl, {childList: true});\n}}\n\n                        })                };                });            </script>        </div>"
     },
     "metadata": {},
     "output_type": "display_data"
    }
   ],
   "source": [
    "fig = px.scatter(chosen_clusters, y='log_div', x='meme_score_vanilla_log',text=\"most_common\")\n",
    "fig.show()"
   ],
   "metadata": {
    "collapsed": false,
    "pycharm": {
     "name": "#%%\n"
    }
   }
  },
  {
   "cell_type": "code",
   "execution_count": 94,
   "outputs": [],
   "source": [
    "ai_act = pd.read_csv('C:\\\\Users\\\\ewisnios\\\\PycharmProjects\\\\AI-strategies-papers-regulations-monitoring\\\\data\\\\s2orc\\\\chunks_from_ai_act1_phrase_bert.csv', index_col=0)"
   ],
   "metadata": {
    "collapsed": false,
    "pycharm": {
     "name": "#%%\n"
    }
   }
  },
  {
   "cell_type": "code",
   "execution_count": 97,
   "outputs": [],
   "source": [
    "chosen_clusters_ai_act = df[df['meme_id'].isin(ai_act['meme_id'])]"
   ],
   "metadata": {
    "collapsed": false,
    "pycharm": {
     "name": "#%%\n"
    }
   }
  },
  {
   "cell_type": "code",
   "execution_count": 116,
   "outputs": [],
   "source": [
    "STOP_CLUSTERS = ['machine learning', 'paper', 'color', 'chapter']"
   ],
   "metadata": {
    "collapsed": false,
    "pycharm": {
     "name": "#%%\n"
    }
   }
  },
  {
   "cell_type": "code",
   "execution_count": 117,
   "outputs": [],
   "source": [
    "chosen_clusters_ai_act = chosen_clusters_ai_act[~chosen_clusters_ai_act['most_common'].isin(STOP_CLUSTERS)]"
   ],
   "metadata": {
    "collapsed": false,
    "pycharm": {
     "name": "#%%\n"
    }
   }
  },
  {
   "cell_type": "code",
   "execution_count": 112,
   "outputs": [
    {
     "data": {
      "text/plain": "        meme_id  meme_score_vanilla  sticking_factor_vanilla  \\\n12657     12702        14513.282363                 0.044523   \n22958     23028        17523.802485                 0.053922   \n25149     25224        65758.717757                 0.197531   \n29650     29741        22333.943746                 0.068198   \n33209     33312         8839.894841                 0.027542   \n34659     34767        30708.556056                 0.092944   \n36897     37009        97197.131177                 0.280608   \n37592     37706        42697.852772                 0.129136   \n38446     38561         4944.135565                 0.015476   \n38599     38714        82874.582251                 0.224849   \n40134     40254        14135.245043                 0.043478   \n40504     40625         5132.673086                 0.015873   \n41312     41434        50472.636067                 0.152080   \n41558     41680        12830.995179                 0.039764   \n41864     41988        54105.342216                 0.162896   \n41998     42122        53845.553728                 0.162459   \n44441     44569         6401.691416                 0.020000   \n54673     54875        25415.869023                 0.078014   \n212470   251999        15588.014984                 0.048471   \n\n        sparking_factor_vanilla  frequency  meme_score_BT  sticking_factor_BT  \\\n12657                  0.007482       2439   14080.902025            0.043197   \n22958                  0.012604       4096    7676.853894            0.023622   \n25149                  0.001141        380  166447.798623            0.499988   \n29650                  0.009585       3139   19847.586345            0.060606   \n33209                  0.011456       3677   17973.533078            0.056000   \n34659                  0.010618       3508   33886.873655            0.102564   \n36897                  0.011005       3812   53289.265236            0.153846   \n37592                  0.012391       4097   73475.077853            0.222220   \n38446                  0.009707       3101    3589.515733            0.011236   \n38599                  0.008663       3193  151976.543501            0.412331   \n40134                  0.000483        157    7067.617400            0.021739   \n40504                  0.010041       3247    1975.009337            0.006108   \n41312                  0.033882      11245  102117.515565            0.307692   \n41558                  0.006155       1986    1466.707584            0.004545   \n41864                  0.029156       9684   55216.188491            0.166240   \n41998                  0.011058       3665   92927.366102            0.280374   \n44441                  0.002368        758   32008.158338            0.099999   \n54673                  0.001581        515   27148.562200            0.083333   \n212470                 0.019263       6195   20822.730068            0.064748   \n\n        sparking_factor_BT  frequency_bt  meme_score_A  sticking_factor_A  \\\n12657             0.007482          34.0  14685.634137           0.045052   \n22958             0.012604          38.0  18179.773643           0.055940   \n25149             0.001141           3.0  62141.982143           0.186666   \n29650             0.009585          24.0  22894.167995           0.069909   \n33209             0.011456          20.0   9130.044541           0.028446   \n34659             0.010618          42.0  30538.893572           0.092431   \n36897             0.011005           8.0  94996.242728           0.274254   \n37592             0.012391          20.0  43102.493440           0.130360   \n38446             0.009707          32.0   5642.763322           0.017663   \n38599             0.008663          97.0  79708.884743           0.216260   \n40134             0.000483           2.0  14135.245043           0.043478   \n40504             0.010041          37.0   4976.742037           0.015391   \n41312             0.033882          28.0  49302.736661           0.148555   \n41558             0.006155           8.0  18009.808752           0.055814   \n41864             0.029156          42.0  54514.554609           0.164128   \n41998             0.011058          23.0  54616.723331           0.164786   \n44441             0.002368           5.0   7501.981269           0.023437   \n54673             0.001581           1.0  25276.436411           0.077586   \n212470            0.019263          51.0  14537.613890           0.045205   \n\n        sparking_factor_A  frequency_a     most_common  \\\n12657            0.007482        423.0          access   \n22958            0.012604        785.0         content   \n25149            0.001141         77.0          patent   \n29650            0.009585        745.0          recall   \n33209            0.011456        634.0            part   \n34659            0.010618        661.0       execution   \n36897            0.011005        743.0     fingerprint   \n37592            0.012391        823.0        activity   \n38446            0.009707        575.0         chapter   \n38599            0.008663        857.0  recommendation   \n40134            0.000483         45.0       authority   \n40504            0.010041        619.0         product   \n41312            0.033882       2209.0  identification   \n41558            0.006155        322.0          course   \n41864            0.029156       1634.0           color   \n41998            0.011058        614.0             law   \n44441            0.002368        112.0      accordance   \n54673            0.001581        105.0           union   \n212470           0.019263        956.0            view   \n\n                            best_tfidf  meme_score_vanilla_log       div  \\\n12657                access_legitimate                9.582820  0.958822   \n22958                   content_solely                9.771315  0.422274   \n25149                 patent_trademark               11.093748  2.678508   \n29650                  recall_remember               10.013863  0.866928   \n33209                    entirety_part                9.087030  1.968614   \n34659              execution_executing               10.332297  1.109630   \n36897            fingerprint_palmprint               11.484496  0.560962   \n37592              activities_activity               10.661904  1.704660   \n38446                 chapter_chapters                8.505957  0.636127   \n38599   recommendation_recommendations               11.325084  1.906645   \n40134              authority_pertinent                9.556427  0.500000   \n40504                       product_by                8.543382  0.396848   \n41312       identification_identifying               10.829187  2.071234   \n41558                       course_due                9.459619  0.081439   \n41864                     color_colour               10.898688  1.012871   \n41998                     legal_lawyer               10.893875  1.701445   \n44441     accordance_comprehensiveness                8.764318  4.266627   \n54673                   union_probably               10.143129  1.074066   \n212470                            view                9.654258  1.432335   \n\n         log_div  freq_sticking_factor_BT  freq_sticking_factor_A  \n12657  -0.042050                 1.468682               19.056867  \n22958  -0.862100                 0.897638               43.912916  \n25149   0.985260                 1.499963               14.373314  \n29650  -0.142800                 1.454541               52.082063  \n33209   0.677330                 1.119999               18.035010  \n34659   0.104027                 4.307690               61.096793  \n36897  -0.578102                 1.230767              203.770503  \n37592   0.533365                 4.444395              107.286440  \n38446  -0.452357                 0.359550               10.156249  \n38599   0.645345                39.996139              185.334949  \n40134  -0.693148                 0.043478                1.956519  \n40504  -0.924202                 0.225989                9.526900  \n41312   0.728145                 8.615376              328.157794  \n41558  -2.507896                 0.036364               17.972089  \n41864   0.012788                 6.982095              268.185062  \n41998   0.531478                 6.448592              101.178318  \n44441   1.450824                 0.499995                2.624998  \n54673   0.071451                 0.083333                8.146545  \n212470  0.359306                 3.302157               43.215636  ",
      "text/html": "<div>\n<style scoped>\n    .dataframe tbody tr th:only-of-type {\n        vertical-align: middle;\n    }\n\n    .dataframe tbody tr th {\n        vertical-align: top;\n    }\n\n    .dataframe thead th {\n        text-align: right;\n    }\n</style>\n<table border=\"1\" class=\"dataframe\">\n  <thead>\n    <tr style=\"text-align: right;\">\n      <th></th>\n      <th>meme_id</th>\n      <th>meme_score_vanilla</th>\n      <th>sticking_factor_vanilla</th>\n      <th>sparking_factor_vanilla</th>\n      <th>frequency</th>\n      <th>meme_score_BT</th>\n      <th>sticking_factor_BT</th>\n      <th>sparking_factor_BT</th>\n      <th>frequency_bt</th>\n      <th>meme_score_A</th>\n      <th>sticking_factor_A</th>\n      <th>sparking_factor_A</th>\n      <th>frequency_a</th>\n      <th>most_common</th>\n      <th>best_tfidf</th>\n      <th>meme_score_vanilla_log</th>\n      <th>div</th>\n      <th>log_div</th>\n      <th>freq_sticking_factor_BT</th>\n      <th>freq_sticking_factor_A</th>\n    </tr>\n  </thead>\n  <tbody>\n    <tr>\n      <th>12657</th>\n      <td>12702</td>\n      <td>14513.282363</td>\n      <td>0.044523</td>\n      <td>0.007482</td>\n      <td>2439</td>\n      <td>14080.902025</td>\n      <td>0.043197</td>\n      <td>0.007482</td>\n      <td>34.0</td>\n      <td>14685.634137</td>\n      <td>0.045052</td>\n      <td>0.007482</td>\n      <td>423.0</td>\n      <td>access</td>\n      <td>access_legitimate</td>\n      <td>9.582820</td>\n      <td>0.958822</td>\n      <td>-0.042050</td>\n      <td>1.468682</td>\n      <td>19.056867</td>\n    </tr>\n    <tr>\n      <th>22958</th>\n      <td>23028</td>\n      <td>17523.802485</td>\n      <td>0.053922</td>\n      <td>0.012604</td>\n      <td>4096</td>\n      <td>7676.853894</td>\n      <td>0.023622</td>\n      <td>0.012604</td>\n      <td>38.0</td>\n      <td>18179.773643</td>\n      <td>0.055940</td>\n      <td>0.012604</td>\n      <td>785.0</td>\n      <td>content</td>\n      <td>content_solely</td>\n      <td>9.771315</td>\n      <td>0.422274</td>\n      <td>-0.862100</td>\n      <td>0.897638</td>\n      <td>43.912916</td>\n    </tr>\n    <tr>\n      <th>25149</th>\n      <td>25224</td>\n      <td>65758.717757</td>\n      <td>0.197531</td>\n      <td>0.001141</td>\n      <td>380</td>\n      <td>166447.798623</td>\n      <td>0.499988</td>\n      <td>0.001141</td>\n      <td>3.0</td>\n      <td>62141.982143</td>\n      <td>0.186666</td>\n      <td>0.001141</td>\n      <td>77.0</td>\n      <td>patent</td>\n      <td>patent_trademark</td>\n      <td>11.093748</td>\n      <td>2.678508</td>\n      <td>0.985260</td>\n      <td>1.499963</td>\n      <td>14.373314</td>\n    </tr>\n    <tr>\n      <th>29650</th>\n      <td>29741</td>\n      <td>22333.943746</td>\n      <td>0.068198</td>\n      <td>0.009585</td>\n      <td>3139</td>\n      <td>19847.586345</td>\n      <td>0.060606</td>\n      <td>0.009585</td>\n      <td>24.0</td>\n      <td>22894.167995</td>\n      <td>0.069909</td>\n      <td>0.009585</td>\n      <td>745.0</td>\n      <td>recall</td>\n      <td>recall_remember</td>\n      <td>10.013863</td>\n      <td>0.866928</td>\n      <td>-0.142800</td>\n      <td>1.454541</td>\n      <td>52.082063</td>\n    </tr>\n    <tr>\n      <th>33209</th>\n      <td>33312</td>\n      <td>8839.894841</td>\n      <td>0.027542</td>\n      <td>0.011456</td>\n      <td>3677</td>\n      <td>17973.533078</td>\n      <td>0.056000</td>\n      <td>0.011456</td>\n      <td>20.0</td>\n      <td>9130.044541</td>\n      <td>0.028446</td>\n      <td>0.011456</td>\n      <td>634.0</td>\n      <td>part</td>\n      <td>entirety_part</td>\n      <td>9.087030</td>\n      <td>1.968614</td>\n      <td>0.677330</td>\n      <td>1.119999</td>\n      <td>18.035010</td>\n    </tr>\n    <tr>\n      <th>34659</th>\n      <td>34767</td>\n      <td>30708.556056</td>\n      <td>0.092944</td>\n      <td>0.010618</td>\n      <td>3508</td>\n      <td>33886.873655</td>\n      <td>0.102564</td>\n      <td>0.010618</td>\n      <td>42.0</td>\n      <td>30538.893572</td>\n      <td>0.092431</td>\n      <td>0.010618</td>\n      <td>661.0</td>\n      <td>execution</td>\n      <td>execution_executing</td>\n      <td>10.332297</td>\n      <td>1.109630</td>\n      <td>0.104027</td>\n      <td>4.307690</td>\n      <td>61.096793</td>\n    </tr>\n    <tr>\n      <th>36897</th>\n      <td>37009</td>\n      <td>97197.131177</td>\n      <td>0.280608</td>\n      <td>0.011005</td>\n      <td>3812</td>\n      <td>53289.265236</td>\n      <td>0.153846</td>\n      <td>0.011005</td>\n      <td>8.0</td>\n      <td>94996.242728</td>\n      <td>0.274254</td>\n      <td>0.011005</td>\n      <td>743.0</td>\n      <td>fingerprint</td>\n      <td>fingerprint_palmprint</td>\n      <td>11.484496</td>\n      <td>0.560962</td>\n      <td>-0.578102</td>\n      <td>1.230767</td>\n      <td>203.770503</td>\n    </tr>\n    <tr>\n      <th>37592</th>\n      <td>37706</td>\n      <td>42697.852772</td>\n      <td>0.129136</td>\n      <td>0.012391</td>\n      <td>4097</td>\n      <td>73475.077853</td>\n      <td>0.222220</td>\n      <td>0.012391</td>\n      <td>20.0</td>\n      <td>43102.493440</td>\n      <td>0.130360</td>\n      <td>0.012391</td>\n      <td>823.0</td>\n      <td>activity</td>\n      <td>activities_activity</td>\n      <td>10.661904</td>\n      <td>1.704660</td>\n      <td>0.533365</td>\n      <td>4.444395</td>\n      <td>107.286440</td>\n    </tr>\n    <tr>\n      <th>38446</th>\n      <td>38561</td>\n      <td>4944.135565</td>\n      <td>0.015476</td>\n      <td>0.009707</td>\n      <td>3101</td>\n      <td>3589.515733</td>\n      <td>0.011236</td>\n      <td>0.009707</td>\n      <td>32.0</td>\n      <td>5642.763322</td>\n      <td>0.017663</td>\n      <td>0.009707</td>\n      <td>575.0</td>\n      <td>chapter</td>\n      <td>chapter_chapters</td>\n      <td>8.505957</td>\n      <td>0.636127</td>\n      <td>-0.452357</td>\n      <td>0.359550</td>\n      <td>10.156249</td>\n    </tr>\n    <tr>\n      <th>38599</th>\n      <td>38714</td>\n      <td>82874.582251</td>\n      <td>0.224849</td>\n      <td>0.008663</td>\n      <td>3193</td>\n      <td>151976.543501</td>\n      <td>0.412331</td>\n      <td>0.008663</td>\n      <td>97.0</td>\n      <td>79708.884743</td>\n      <td>0.216260</td>\n      <td>0.008663</td>\n      <td>857.0</td>\n      <td>recommendation</td>\n      <td>recommendation_recommendations</td>\n      <td>11.325084</td>\n      <td>1.906645</td>\n      <td>0.645345</td>\n      <td>39.996139</td>\n      <td>185.334949</td>\n    </tr>\n    <tr>\n      <th>40134</th>\n      <td>40254</td>\n      <td>14135.245043</td>\n      <td>0.043478</td>\n      <td>0.000483</td>\n      <td>157</td>\n      <td>7067.617400</td>\n      <td>0.021739</td>\n      <td>0.000483</td>\n      <td>2.0</td>\n      <td>14135.245043</td>\n      <td>0.043478</td>\n      <td>0.000483</td>\n      <td>45.0</td>\n      <td>authority</td>\n      <td>authority_pertinent</td>\n      <td>9.556427</td>\n      <td>0.500000</td>\n      <td>-0.693148</td>\n      <td>0.043478</td>\n      <td>1.956519</td>\n    </tr>\n    <tr>\n      <th>40504</th>\n      <td>40625</td>\n      <td>5132.673086</td>\n      <td>0.015873</td>\n      <td>0.010041</td>\n      <td>3247</td>\n      <td>1975.009337</td>\n      <td>0.006108</td>\n      <td>0.010041</td>\n      <td>37.0</td>\n      <td>4976.742037</td>\n      <td>0.015391</td>\n      <td>0.010041</td>\n      <td>619.0</td>\n      <td>product</td>\n      <td>product_by</td>\n      <td>8.543382</td>\n      <td>0.396848</td>\n      <td>-0.924202</td>\n      <td>0.225989</td>\n      <td>9.526900</td>\n    </tr>\n    <tr>\n      <th>41312</th>\n      <td>41434</td>\n      <td>50472.636067</td>\n      <td>0.152080</td>\n      <td>0.033882</td>\n      <td>11245</td>\n      <td>102117.515565</td>\n      <td>0.307692</td>\n      <td>0.033882</td>\n      <td>28.0</td>\n      <td>49302.736661</td>\n      <td>0.148555</td>\n      <td>0.033882</td>\n      <td>2209.0</td>\n      <td>identification</td>\n      <td>identification_identifying</td>\n      <td>10.829187</td>\n      <td>2.071234</td>\n      <td>0.728145</td>\n      <td>8.615376</td>\n      <td>328.157794</td>\n    </tr>\n    <tr>\n      <th>41558</th>\n      <td>41680</td>\n      <td>12830.995179</td>\n      <td>0.039764</td>\n      <td>0.006155</td>\n      <td>1986</td>\n      <td>1466.707584</td>\n      <td>0.004545</td>\n      <td>0.006155</td>\n      <td>8.0</td>\n      <td>18009.808752</td>\n      <td>0.055814</td>\n      <td>0.006155</td>\n      <td>322.0</td>\n      <td>course</td>\n      <td>course_due</td>\n      <td>9.459619</td>\n      <td>0.081439</td>\n      <td>-2.507896</td>\n      <td>0.036364</td>\n      <td>17.972089</td>\n    </tr>\n    <tr>\n      <th>41864</th>\n      <td>41988</td>\n      <td>54105.342216</td>\n      <td>0.162896</td>\n      <td>0.029156</td>\n      <td>9684</td>\n      <td>55216.188491</td>\n      <td>0.166240</td>\n      <td>0.029156</td>\n      <td>42.0</td>\n      <td>54514.554609</td>\n      <td>0.164128</td>\n      <td>0.029156</td>\n      <td>1634.0</td>\n      <td>color</td>\n      <td>color_colour</td>\n      <td>10.898688</td>\n      <td>1.012871</td>\n      <td>0.012788</td>\n      <td>6.982095</td>\n      <td>268.185062</td>\n    </tr>\n    <tr>\n      <th>41998</th>\n      <td>42122</td>\n      <td>53845.553728</td>\n      <td>0.162459</td>\n      <td>0.011058</td>\n      <td>3665</td>\n      <td>92927.366102</td>\n      <td>0.280374</td>\n      <td>0.011058</td>\n      <td>23.0</td>\n      <td>54616.723331</td>\n      <td>0.164786</td>\n      <td>0.011058</td>\n      <td>614.0</td>\n      <td>law</td>\n      <td>legal_lawyer</td>\n      <td>10.893875</td>\n      <td>1.701445</td>\n      <td>0.531478</td>\n      <td>6.448592</td>\n      <td>101.178318</td>\n    </tr>\n    <tr>\n      <th>44441</th>\n      <td>44569</td>\n      <td>6401.691416</td>\n      <td>0.020000</td>\n      <td>0.002368</td>\n      <td>758</td>\n      <td>32008.158338</td>\n      <td>0.099999</td>\n      <td>0.002368</td>\n      <td>5.0</td>\n      <td>7501.981269</td>\n      <td>0.023437</td>\n      <td>0.002368</td>\n      <td>112.0</td>\n      <td>accordance</td>\n      <td>accordance_comprehensiveness</td>\n      <td>8.764318</td>\n      <td>4.266627</td>\n      <td>1.450824</td>\n      <td>0.499995</td>\n      <td>2.624998</td>\n    </tr>\n    <tr>\n      <th>54673</th>\n      <td>54875</td>\n      <td>25415.869023</td>\n      <td>0.078014</td>\n      <td>0.001581</td>\n      <td>515</td>\n      <td>27148.562200</td>\n      <td>0.083333</td>\n      <td>0.001581</td>\n      <td>1.0</td>\n      <td>25276.436411</td>\n      <td>0.077586</td>\n      <td>0.001581</td>\n      <td>105.0</td>\n      <td>union</td>\n      <td>union_probably</td>\n      <td>10.143129</td>\n      <td>1.074066</td>\n      <td>0.071451</td>\n      <td>0.083333</td>\n      <td>8.146545</td>\n    </tr>\n    <tr>\n      <th>212470</th>\n      <td>251999</td>\n      <td>15588.014984</td>\n      <td>0.048471</td>\n      <td>0.019263</td>\n      <td>6195</td>\n      <td>20822.730068</td>\n      <td>0.064748</td>\n      <td>0.019263</td>\n      <td>51.0</td>\n      <td>14537.613890</td>\n      <td>0.045205</td>\n      <td>0.019263</td>\n      <td>956.0</td>\n      <td>view</td>\n      <td>view</td>\n      <td>9.654258</td>\n      <td>1.432335</td>\n      <td>0.359306</td>\n      <td>3.302157</td>\n      <td>43.215636</td>\n    </tr>\n  </tbody>\n</table>\n</div>"
     },
     "execution_count": 112,
     "metadata": {},
     "output_type": "execute_result"
    }
   ],
   "source": [
    "chosen_clusters_ai_act"
   ],
   "metadata": {
    "collapsed": false,
    "pycharm": {
     "name": "#%%\n"
    }
   }
  },
  {
   "cell_type": "code",
   "execution_count": 118,
   "outputs": [
    {
     "data": {
      "application/vnd.plotly.v1+json": {
       "data": [
        {
         "hovertemplate": "meme_score_BT=%{x}<br>meme_score_A=%{y}<br>most_common=%{text}<extra></extra>",
         "legendgroup": "",
         "marker": {
          "color": "#636efa",
          "symbol": "circle"
         },
         "mode": "markers+text",
         "name": "",
         "orientation": "v",
         "showlegend": false,
         "text": [
          "access",
          "content",
          "patent",
          "recall",
          "part",
          "execution",
          "fingerprint",
          "activity",
          "recommendation",
          "authority",
          "product",
          "identification",
          "course",
          "law",
          "accordance",
          "union",
          "view"
         ],
         "x": [
          14080.902025392308,
          7676.853894199973,
          166447.79862317737,
          19847.586344973544,
          17973.533077808075,
          33886.87365532029,
          53289.2652359585,
          73475.07785264992,
          151976.54350134596,
          7067.617400237339,
          1975.0093373482782,
          102117.5155653928,
          1466.707584117599,
          92927.36610194168,
          32008.15833792942,
          27148.562199970074,
          20822.73006779175
         ],
         "xaxis": "x",
         "y": [
          14685.634136831206,
          18179.77364293444,
          62141.98214279717,
          22894.167994795014,
          9130.044541008878,
          30538.893572034758,
          94996.24272793114,
          43102.493440441576,
          79708.88474253773,
          14135.245043383602,
          4976.742037237134,
          49302.736661264265,
          18009.80875176337,
          54616.72333084682,
          7501.981268650446,
          25276.436410854367,
          14537.613889741035
         ],
         "yaxis": "y",
         "type": "scatter",
         "textposition": "top center"
        }
       ],
       "layout": {
        "template": {
         "data": {
          "bar": [
           {
            "error_x": {
             "color": "#2a3f5f"
            },
            "error_y": {
             "color": "#2a3f5f"
            },
            "marker": {
             "line": {
              "color": "#E5ECF6",
              "width": 0.5
             },
             "pattern": {
              "fillmode": "overlay",
              "size": 10,
              "solidity": 0.2
             }
            },
            "type": "bar"
           }
          ],
          "barpolar": [
           {
            "marker": {
             "line": {
              "color": "#E5ECF6",
              "width": 0.5
             },
             "pattern": {
              "fillmode": "overlay",
              "size": 10,
              "solidity": 0.2
             }
            },
            "type": "barpolar"
           }
          ],
          "carpet": [
           {
            "aaxis": {
             "endlinecolor": "#2a3f5f",
             "gridcolor": "white",
             "linecolor": "white",
             "minorgridcolor": "white",
             "startlinecolor": "#2a3f5f"
            },
            "baxis": {
             "endlinecolor": "#2a3f5f",
             "gridcolor": "white",
             "linecolor": "white",
             "minorgridcolor": "white",
             "startlinecolor": "#2a3f5f"
            },
            "type": "carpet"
           }
          ],
          "choropleth": [
           {
            "colorbar": {
             "outlinewidth": 0,
             "ticks": ""
            },
            "type": "choropleth"
           }
          ],
          "contour": [
           {
            "colorbar": {
             "outlinewidth": 0,
             "ticks": ""
            },
            "colorscale": [
             [
              0.0,
              "#0d0887"
             ],
             [
              0.1111111111111111,
              "#46039f"
             ],
             [
              0.2222222222222222,
              "#7201a8"
             ],
             [
              0.3333333333333333,
              "#9c179e"
             ],
             [
              0.4444444444444444,
              "#bd3786"
             ],
             [
              0.5555555555555556,
              "#d8576b"
             ],
             [
              0.6666666666666666,
              "#ed7953"
             ],
             [
              0.7777777777777778,
              "#fb9f3a"
             ],
             [
              0.8888888888888888,
              "#fdca26"
             ],
             [
              1.0,
              "#f0f921"
             ]
            ],
            "type": "contour"
           }
          ],
          "contourcarpet": [
           {
            "colorbar": {
             "outlinewidth": 0,
             "ticks": ""
            },
            "type": "contourcarpet"
           }
          ],
          "heatmap": [
           {
            "colorbar": {
             "outlinewidth": 0,
             "ticks": ""
            },
            "colorscale": [
             [
              0.0,
              "#0d0887"
             ],
             [
              0.1111111111111111,
              "#46039f"
             ],
             [
              0.2222222222222222,
              "#7201a8"
             ],
             [
              0.3333333333333333,
              "#9c179e"
             ],
             [
              0.4444444444444444,
              "#bd3786"
             ],
             [
              0.5555555555555556,
              "#d8576b"
             ],
             [
              0.6666666666666666,
              "#ed7953"
             ],
             [
              0.7777777777777778,
              "#fb9f3a"
             ],
             [
              0.8888888888888888,
              "#fdca26"
             ],
             [
              1.0,
              "#f0f921"
             ]
            ],
            "type": "heatmap"
           }
          ],
          "heatmapgl": [
           {
            "colorbar": {
             "outlinewidth": 0,
             "ticks": ""
            },
            "colorscale": [
             [
              0.0,
              "#0d0887"
             ],
             [
              0.1111111111111111,
              "#46039f"
             ],
             [
              0.2222222222222222,
              "#7201a8"
             ],
             [
              0.3333333333333333,
              "#9c179e"
             ],
             [
              0.4444444444444444,
              "#bd3786"
             ],
             [
              0.5555555555555556,
              "#d8576b"
             ],
             [
              0.6666666666666666,
              "#ed7953"
             ],
             [
              0.7777777777777778,
              "#fb9f3a"
             ],
             [
              0.8888888888888888,
              "#fdca26"
             ],
             [
              1.0,
              "#f0f921"
             ]
            ],
            "type": "heatmapgl"
           }
          ],
          "histogram": [
           {
            "marker": {
             "pattern": {
              "fillmode": "overlay",
              "size": 10,
              "solidity": 0.2
             }
            },
            "type": "histogram"
           }
          ],
          "histogram2d": [
           {
            "colorbar": {
             "outlinewidth": 0,
             "ticks": ""
            },
            "colorscale": [
             [
              0.0,
              "#0d0887"
             ],
             [
              0.1111111111111111,
              "#46039f"
             ],
             [
              0.2222222222222222,
              "#7201a8"
             ],
             [
              0.3333333333333333,
              "#9c179e"
             ],
             [
              0.4444444444444444,
              "#bd3786"
             ],
             [
              0.5555555555555556,
              "#d8576b"
             ],
             [
              0.6666666666666666,
              "#ed7953"
             ],
             [
              0.7777777777777778,
              "#fb9f3a"
             ],
             [
              0.8888888888888888,
              "#fdca26"
             ],
             [
              1.0,
              "#f0f921"
             ]
            ],
            "type": "histogram2d"
           }
          ],
          "histogram2dcontour": [
           {
            "colorbar": {
             "outlinewidth": 0,
             "ticks": ""
            },
            "colorscale": [
             [
              0.0,
              "#0d0887"
             ],
             [
              0.1111111111111111,
              "#46039f"
             ],
             [
              0.2222222222222222,
              "#7201a8"
             ],
             [
              0.3333333333333333,
              "#9c179e"
             ],
             [
              0.4444444444444444,
              "#bd3786"
             ],
             [
              0.5555555555555556,
              "#d8576b"
             ],
             [
              0.6666666666666666,
              "#ed7953"
             ],
             [
              0.7777777777777778,
              "#fb9f3a"
             ],
             [
              0.8888888888888888,
              "#fdca26"
             ],
             [
              1.0,
              "#f0f921"
             ]
            ],
            "type": "histogram2dcontour"
           }
          ],
          "mesh3d": [
           {
            "colorbar": {
             "outlinewidth": 0,
             "ticks": ""
            },
            "type": "mesh3d"
           }
          ],
          "parcoords": [
           {
            "line": {
             "colorbar": {
              "outlinewidth": 0,
              "ticks": ""
             }
            },
            "type": "parcoords"
           }
          ],
          "pie": [
           {
            "automargin": true,
            "type": "pie"
           }
          ],
          "scatter": [
           {
            "marker": {
             "colorbar": {
              "outlinewidth": 0,
              "ticks": ""
             }
            },
            "type": "scatter"
           }
          ],
          "scatter3d": [
           {
            "line": {
             "colorbar": {
              "outlinewidth": 0,
              "ticks": ""
             }
            },
            "marker": {
             "colorbar": {
              "outlinewidth": 0,
              "ticks": ""
             }
            },
            "type": "scatter3d"
           }
          ],
          "scattercarpet": [
           {
            "marker": {
             "colorbar": {
              "outlinewidth": 0,
              "ticks": ""
             }
            },
            "type": "scattercarpet"
           }
          ],
          "scattergeo": [
           {
            "marker": {
             "colorbar": {
              "outlinewidth": 0,
              "ticks": ""
             }
            },
            "type": "scattergeo"
           }
          ],
          "scattergl": [
           {
            "marker": {
             "colorbar": {
              "outlinewidth": 0,
              "ticks": ""
             }
            },
            "type": "scattergl"
           }
          ],
          "scattermapbox": [
           {
            "marker": {
             "colorbar": {
              "outlinewidth": 0,
              "ticks": ""
             }
            },
            "type": "scattermapbox"
           }
          ],
          "scatterpolar": [
           {
            "marker": {
             "colorbar": {
              "outlinewidth": 0,
              "ticks": ""
             }
            },
            "type": "scatterpolar"
           }
          ],
          "scatterpolargl": [
           {
            "marker": {
             "colorbar": {
              "outlinewidth": 0,
              "ticks": ""
             }
            },
            "type": "scatterpolargl"
           }
          ],
          "scatterternary": [
           {
            "marker": {
             "colorbar": {
              "outlinewidth": 0,
              "ticks": ""
             }
            },
            "type": "scatterternary"
           }
          ],
          "surface": [
           {
            "colorbar": {
             "outlinewidth": 0,
             "ticks": ""
            },
            "colorscale": [
             [
              0.0,
              "#0d0887"
             ],
             [
              0.1111111111111111,
              "#46039f"
             ],
             [
              0.2222222222222222,
              "#7201a8"
             ],
             [
              0.3333333333333333,
              "#9c179e"
             ],
             [
              0.4444444444444444,
              "#bd3786"
             ],
             [
              0.5555555555555556,
              "#d8576b"
             ],
             [
              0.6666666666666666,
              "#ed7953"
             ],
             [
              0.7777777777777778,
              "#fb9f3a"
             ],
             [
              0.8888888888888888,
              "#fdca26"
             ],
             [
              1.0,
              "#f0f921"
             ]
            ],
            "type": "surface"
           }
          ],
          "table": [
           {
            "cells": {
             "fill": {
              "color": "#EBF0F8"
             },
             "line": {
              "color": "white"
             }
            },
            "header": {
             "fill": {
              "color": "#C8D4E3"
             },
             "line": {
              "color": "white"
             }
            },
            "type": "table"
           }
          ]
         },
         "layout": {
          "annotationdefaults": {
           "arrowcolor": "#2a3f5f",
           "arrowhead": 0,
           "arrowwidth": 1
          },
          "autotypenumbers": "strict",
          "coloraxis": {
           "colorbar": {
            "outlinewidth": 0,
            "ticks": ""
           }
          },
          "colorscale": {
           "diverging": [
            [
             0,
             "#8e0152"
            ],
            [
             0.1,
             "#c51b7d"
            ],
            [
             0.2,
             "#de77ae"
            ],
            [
             0.3,
             "#f1b6da"
            ],
            [
             0.4,
             "#fde0ef"
            ],
            [
             0.5,
             "#f7f7f7"
            ],
            [
             0.6,
             "#e6f5d0"
            ],
            [
             0.7,
             "#b8e186"
            ],
            [
             0.8,
             "#7fbc41"
            ],
            [
             0.9,
             "#4d9221"
            ],
            [
             1,
             "#276419"
            ]
           ],
           "sequential": [
            [
             0.0,
             "#0d0887"
            ],
            [
             0.1111111111111111,
             "#46039f"
            ],
            [
             0.2222222222222222,
             "#7201a8"
            ],
            [
             0.3333333333333333,
             "#9c179e"
            ],
            [
             0.4444444444444444,
             "#bd3786"
            ],
            [
             0.5555555555555556,
             "#d8576b"
            ],
            [
             0.6666666666666666,
             "#ed7953"
            ],
            [
             0.7777777777777778,
             "#fb9f3a"
            ],
            [
             0.8888888888888888,
             "#fdca26"
            ],
            [
             1.0,
             "#f0f921"
            ]
           ],
           "sequentialminus": [
            [
             0.0,
             "#0d0887"
            ],
            [
             0.1111111111111111,
             "#46039f"
            ],
            [
             0.2222222222222222,
             "#7201a8"
            ],
            [
             0.3333333333333333,
             "#9c179e"
            ],
            [
             0.4444444444444444,
             "#bd3786"
            ],
            [
             0.5555555555555556,
             "#d8576b"
            ],
            [
             0.6666666666666666,
             "#ed7953"
            ],
            [
             0.7777777777777778,
             "#fb9f3a"
            ],
            [
             0.8888888888888888,
             "#fdca26"
            ],
            [
             1.0,
             "#f0f921"
            ]
           ]
          },
          "colorway": [
           "#636efa",
           "#EF553B",
           "#00cc96",
           "#ab63fa",
           "#FFA15A",
           "#19d3f3",
           "#FF6692",
           "#B6E880",
           "#FF97FF",
           "#FECB52"
          ],
          "font": {
           "color": "#2a3f5f"
          },
          "geo": {
           "bgcolor": "white",
           "lakecolor": "white",
           "landcolor": "#E5ECF6",
           "showlakes": true,
           "showland": true,
           "subunitcolor": "white"
          },
          "hoverlabel": {
           "align": "left"
          },
          "hovermode": "closest",
          "mapbox": {
           "style": "light"
          },
          "paper_bgcolor": "white",
          "plot_bgcolor": "#E5ECF6",
          "polar": {
           "angularaxis": {
            "gridcolor": "white",
            "linecolor": "white",
            "ticks": ""
           },
           "bgcolor": "#E5ECF6",
           "radialaxis": {
            "gridcolor": "white",
            "linecolor": "white",
            "ticks": ""
           }
          },
          "scene": {
           "xaxis": {
            "backgroundcolor": "#E5ECF6",
            "gridcolor": "white",
            "gridwidth": 2,
            "linecolor": "white",
            "showbackground": true,
            "ticks": "",
            "zerolinecolor": "white"
           },
           "yaxis": {
            "backgroundcolor": "#E5ECF6",
            "gridcolor": "white",
            "gridwidth": 2,
            "linecolor": "white",
            "showbackground": true,
            "ticks": "",
            "zerolinecolor": "white"
           },
           "zaxis": {
            "backgroundcolor": "#E5ECF6",
            "gridcolor": "white",
            "gridwidth": 2,
            "linecolor": "white",
            "showbackground": true,
            "ticks": "",
            "zerolinecolor": "white"
           }
          },
          "shapedefaults": {
           "line": {
            "color": "#2a3f5f"
           }
          },
          "ternary": {
           "aaxis": {
            "gridcolor": "white",
            "linecolor": "white",
            "ticks": ""
           },
           "baxis": {
            "gridcolor": "white",
            "linecolor": "white",
            "ticks": ""
           },
           "bgcolor": "#E5ECF6",
           "caxis": {
            "gridcolor": "white",
            "linecolor": "white",
            "ticks": ""
           }
          },
          "title": {
           "x": 0.05
          },
          "xaxis": {
           "automargin": true,
           "gridcolor": "white",
           "linecolor": "white",
           "ticks": "",
           "title": {
            "standoff": 15
           },
           "zerolinecolor": "white",
           "zerolinewidth": 2
          },
          "yaxis": {
           "automargin": true,
           "gridcolor": "white",
           "linecolor": "white",
           "ticks": "",
           "title": {
            "standoff": 15
           },
           "zerolinecolor": "white",
           "zerolinewidth": 2
          }
         }
        },
        "xaxis": {
         "anchor": "y",
         "domain": [
          0.0,
          1.0
         ],
         "title": {
          "text": "meme_score_BT"
         }
        },
        "yaxis": {
         "anchor": "x",
         "domain": [
          0.0,
          1.0
         ],
         "title": {
          "text": "meme_score_A"
         }
        },
        "legend": {
         "tracegroupgap": 0
        },
        "margin": {
         "t": 60
        }
       },
       "config": {
        "plotlyServerURL": "https://plot.ly"
       }
      },
      "text/html": "<div>                            <div id=\"fe09f19c-8b34-455a-956d-dffd5f18520a\" class=\"plotly-graph-div\" style=\"height:525px; width:100%;\"></div>            <script type=\"text/javascript\">                require([\"plotly\"], function(Plotly) {                    window.PLOTLYENV=window.PLOTLYENV || {};                                    if (document.getElementById(\"fe09f19c-8b34-455a-956d-dffd5f18520a\")) {                    Plotly.newPlot(                        \"fe09f19c-8b34-455a-956d-dffd5f18520a\",                        [{\"hovertemplate\":\"meme_score_BT=%{x}<br>meme_score_A=%{y}<br>most_common=%{text}<extra></extra>\",\"legendgroup\":\"\",\"marker\":{\"color\":\"#636efa\",\"symbol\":\"circle\"},\"mode\":\"markers+text\",\"name\":\"\",\"orientation\":\"v\",\"showlegend\":false,\"text\":[\"access\",\"content\",\"patent\",\"recall\",\"part\",\"execution\",\"fingerprint\",\"activity\",\"recommendation\",\"authority\",\"product\",\"identification\",\"course\",\"law\",\"accordance\",\"union\",\"view\"],\"x\":[14080.902025392308,7676.853894199973,166447.79862317737,19847.586344973544,17973.533077808075,33886.87365532029,53289.2652359585,73475.07785264992,151976.54350134596,7067.617400237339,1975.0093373482782,102117.5155653928,1466.707584117599,92927.36610194168,32008.15833792942,27148.562199970074,20822.73006779175],\"xaxis\":\"x\",\"y\":[14685.634136831206,18179.77364293444,62141.98214279717,22894.167994795014,9130.044541008878,30538.893572034758,94996.24272793114,43102.493440441576,79708.88474253773,14135.245043383602,4976.742037237134,49302.736661264265,18009.80875176337,54616.72333084682,7501.981268650446,25276.436410854367,14537.613889741035],\"yaxis\":\"y\",\"type\":\"scatter\",\"textposition\":\"top center\"}],                        {\"template\":{\"data\":{\"bar\":[{\"error_x\":{\"color\":\"#2a3f5f\"},\"error_y\":{\"color\":\"#2a3f5f\"},\"marker\":{\"line\":{\"color\":\"#E5ECF6\",\"width\":0.5},\"pattern\":{\"fillmode\":\"overlay\",\"size\":10,\"solidity\":0.2}},\"type\":\"bar\"}],\"barpolar\":[{\"marker\":{\"line\":{\"color\":\"#E5ECF6\",\"width\":0.5},\"pattern\":{\"fillmode\":\"overlay\",\"size\":10,\"solidity\":0.2}},\"type\":\"barpolar\"}],\"carpet\":[{\"aaxis\":{\"endlinecolor\":\"#2a3f5f\",\"gridcolor\":\"white\",\"linecolor\":\"white\",\"minorgridcolor\":\"white\",\"startlinecolor\":\"#2a3f5f\"},\"baxis\":{\"endlinecolor\":\"#2a3f5f\",\"gridcolor\":\"white\",\"linecolor\":\"white\",\"minorgridcolor\":\"white\",\"startlinecolor\":\"#2a3f5f\"},\"type\":\"carpet\"}],\"choropleth\":[{\"colorbar\":{\"outlinewidth\":0,\"ticks\":\"\"},\"type\":\"choropleth\"}],\"contour\":[{\"colorbar\":{\"outlinewidth\":0,\"ticks\":\"\"},\"colorscale\":[[0.0,\"#0d0887\"],[0.1111111111111111,\"#46039f\"],[0.2222222222222222,\"#7201a8\"],[0.3333333333333333,\"#9c179e\"],[0.4444444444444444,\"#bd3786\"],[0.5555555555555556,\"#d8576b\"],[0.6666666666666666,\"#ed7953\"],[0.7777777777777778,\"#fb9f3a\"],[0.8888888888888888,\"#fdca26\"],[1.0,\"#f0f921\"]],\"type\":\"contour\"}],\"contourcarpet\":[{\"colorbar\":{\"outlinewidth\":0,\"ticks\":\"\"},\"type\":\"contourcarpet\"}],\"heatmap\":[{\"colorbar\":{\"outlinewidth\":0,\"ticks\":\"\"},\"colorscale\":[[0.0,\"#0d0887\"],[0.1111111111111111,\"#46039f\"],[0.2222222222222222,\"#7201a8\"],[0.3333333333333333,\"#9c179e\"],[0.4444444444444444,\"#bd3786\"],[0.5555555555555556,\"#d8576b\"],[0.6666666666666666,\"#ed7953\"],[0.7777777777777778,\"#fb9f3a\"],[0.8888888888888888,\"#fdca26\"],[1.0,\"#f0f921\"]],\"type\":\"heatmap\"}],\"heatmapgl\":[{\"colorbar\":{\"outlinewidth\":0,\"ticks\":\"\"},\"colorscale\":[[0.0,\"#0d0887\"],[0.1111111111111111,\"#46039f\"],[0.2222222222222222,\"#7201a8\"],[0.3333333333333333,\"#9c179e\"],[0.4444444444444444,\"#bd3786\"],[0.5555555555555556,\"#d8576b\"],[0.6666666666666666,\"#ed7953\"],[0.7777777777777778,\"#fb9f3a\"],[0.8888888888888888,\"#fdca26\"],[1.0,\"#f0f921\"]],\"type\":\"heatmapgl\"}],\"histogram\":[{\"marker\":{\"pattern\":{\"fillmode\":\"overlay\",\"size\":10,\"solidity\":0.2}},\"type\":\"histogram\"}],\"histogram2d\":[{\"colorbar\":{\"outlinewidth\":0,\"ticks\":\"\"},\"colorscale\":[[0.0,\"#0d0887\"],[0.1111111111111111,\"#46039f\"],[0.2222222222222222,\"#7201a8\"],[0.3333333333333333,\"#9c179e\"],[0.4444444444444444,\"#bd3786\"],[0.5555555555555556,\"#d8576b\"],[0.6666666666666666,\"#ed7953\"],[0.7777777777777778,\"#fb9f3a\"],[0.8888888888888888,\"#fdca26\"],[1.0,\"#f0f921\"]],\"type\":\"histogram2d\"}],\"histogram2dcontour\":[{\"colorbar\":{\"outlinewidth\":0,\"ticks\":\"\"},\"colorscale\":[[0.0,\"#0d0887\"],[0.1111111111111111,\"#46039f\"],[0.2222222222222222,\"#7201a8\"],[0.3333333333333333,\"#9c179e\"],[0.4444444444444444,\"#bd3786\"],[0.5555555555555556,\"#d8576b\"],[0.6666666666666666,\"#ed7953\"],[0.7777777777777778,\"#fb9f3a\"],[0.8888888888888888,\"#fdca26\"],[1.0,\"#f0f921\"]],\"type\":\"histogram2dcontour\"}],\"mesh3d\":[{\"colorbar\":{\"outlinewidth\":0,\"ticks\":\"\"},\"type\":\"mesh3d\"}],\"parcoords\":[{\"line\":{\"colorbar\":{\"outlinewidth\":0,\"ticks\":\"\"}},\"type\":\"parcoords\"}],\"pie\":[{\"automargin\":true,\"type\":\"pie\"}],\"scatter\":[{\"marker\":{\"colorbar\":{\"outlinewidth\":0,\"ticks\":\"\"}},\"type\":\"scatter\"}],\"scatter3d\":[{\"line\":{\"colorbar\":{\"outlinewidth\":0,\"ticks\":\"\"}},\"marker\":{\"colorbar\":{\"outlinewidth\":0,\"ticks\":\"\"}},\"type\":\"scatter3d\"}],\"scattercarpet\":[{\"marker\":{\"colorbar\":{\"outlinewidth\":0,\"ticks\":\"\"}},\"type\":\"scattercarpet\"}],\"scattergeo\":[{\"marker\":{\"colorbar\":{\"outlinewidth\":0,\"ticks\":\"\"}},\"type\":\"scattergeo\"}],\"scattergl\":[{\"marker\":{\"colorbar\":{\"outlinewidth\":0,\"ticks\":\"\"}},\"type\":\"scattergl\"}],\"scattermapbox\":[{\"marker\":{\"colorbar\":{\"outlinewidth\":0,\"ticks\":\"\"}},\"type\":\"scattermapbox\"}],\"scatterpolar\":[{\"marker\":{\"colorbar\":{\"outlinewidth\":0,\"ticks\":\"\"}},\"type\":\"scatterpolar\"}],\"scatterpolargl\":[{\"marker\":{\"colorbar\":{\"outlinewidth\":0,\"ticks\":\"\"}},\"type\":\"scatterpolargl\"}],\"scatterternary\":[{\"marker\":{\"colorbar\":{\"outlinewidth\":0,\"ticks\":\"\"}},\"type\":\"scatterternary\"}],\"surface\":[{\"colorbar\":{\"outlinewidth\":0,\"ticks\":\"\"},\"colorscale\":[[0.0,\"#0d0887\"],[0.1111111111111111,\"#46039f\"],[0.2222222222222222,\"#7201a8\"],[0.3333333333333333,\"#9c179e\"],[0.4444444444444444,\"#bd3786\"],[0.5555555555555556,\"#d8576b\"],[0.6666666666666666,\"#ed7953\"],[0.7777777777777778,\"#fb9f3a\"],[0.8888888888888888,\"#fdca26\"],[1.0,\"#f0f921\"]],\"type\":\"surface\"}],\"table\":[{\"cells\":{\"fill\":{\"color\":\"#EBF0F8\"},\"line\":{\"color\":\"white\"}},\"header\":{\"fill\":{\"color\":\"#C8D4E3\"},\"line\":{\"color\":\"white\"}},\"type\":\"table\"}]},\"layout\":{\"annotationdefaults\":{\"arrowcolor\":\"#2a3f5f\",\"arrowhead\":0,\"arrowwidth\":1},\"autotypenumbers\":\"strict\",\"coloraxis\":{\"colorbar\":{\"outlinewidth\":0,\"ticks\":\"\"}},\"colorscale\":{\"diverging\":[[0,\"#8e0152\"],[0.1,\"#c51b7d\"],[0.2,\"#de77ae\"],[0.3,\"#f1b6da\"],[0.4,\"#fde0ef\"],[0.5,\"#f7f7f7\"],[0.6,\"#e6f5d0\"],[0.7,\"#b8e186\"],[0.8,\"#7fbc41\"],[0.9,\"#4d9221\"],[1,\"#276419\"]],\"sequential\":[[0.0,\"#0d0887\"],[0.1111111111111111,\"#46039f\"],[0.2222222222222222,\"#7201a8\"],[0.3333333333333333,\"#9c179e\"],[0.4444444444444444,\"#bd3786\"],[0.5555555555555556,\"#d8576b\"],[0.6666666666666666,\"#ed7953\"],[0.7777777777777778,\"#fb9f3a\"],[0.8888888888888888,\"#fdca26\"],[1.0,\"#f0f921\"]],\"sequentialminus\":[[0.0,\"#0d0887\"],[0.1111111111111111,\"#46039f\"],[0.2222222222222222,\"#7201a8\"],[0.3333333333333333,\"#9c179e\"],[0.4444444444444444,\"#bd3786\"],[0.5555555555555556,\"#d8576b\"],[0.6666666666666666,\"#ed7953\"],[0.7777777777777778,\"#fb9f3a\"],[0.8888888888888888,\"#fdca26\"],[1.0,\"#f0f921\"]]},\"colorway\":[\"#636efa\",\"#EF553B\",\"#00cc96\",\"#ab63fa\",\"#FFA15A\",\"#19d3f3\",\"#FF6692\",\"#B6E880\",\"#FF97FF\",\"#FECB52\"],\"font\":{\"color\":\"#2a3f5f\"},\"geo\":{\"bgcolor\":\"white\",\"lakecolor\":\"white\",\"landcolor\":\"#E5ECF6\",\"showlakes\":true,\"showland\":true,\"subunitcolor\":\"white\"},\"hoverlabel\":{\"align\":\"left\"},\"hovermode\":\"closest\",\"mapbox\":{\"style\":\"light\"},\"paper_bgcolor\":\"white\",\"plot_bgcolor\":\"#E5ECF6\",\"polar\":{\"angularaxis\":{\"gridcolor\":\"white\",\"linecolor\":\"white\",\"ticks\":\"\"},\"bgcolor\":\"#E5ECF6\",\"radialaxis\":{\"gridcolor\":\"white\",\"linecolor\":\"white\",\"ticks\":\"\"}},\"scene\":{\"xaxis\":{\"backgroundcolor\":\"#E5ECF6\",\"gridcolor\":\"white\",\"gridwidth\":2,\"linecolor\":\"white\",\"showbackground\":true,\"ticks\":\"\",\"zerolinecolor\":\"white\"},\"yaxis\":{\"backgroundcolor\":\"#E5ECF6\",\"gridcolor\":\"white\",\"gridwidth\":2,\"linecolor\":\"white\",\"showbackground\":true,\"ticks\":\"\",\"zerolinecolor\":\"white\"},\"zaxis\":{\"backgroundcolor\":\"#E5ECF6\",\"gridcolor\":\"white\",\"gridwidth\":2,\"linecolor\":\"white\",\"showbackground\":true,\"ticks\":\"\",\"zerolinecolor\":\"white\"}},\"shapedefaults\":{\"line\":{\"color\":\"#2a3f5f\"}},\"ternary\":{\"aaxis\":{\"gridcolor\":\"white\",\"linecolor\":\"white\",\"ticks\":\"\"},\"baxis\":{\"gridcolor\":\"white\",\"linecolor\":\"white\",\"ticks\":\"\"},\"bgcolor\":\"#E5ECF6\",\"caxis\":{\"gridcolor\":\"white\",\"linecolor\":\"white\",\"ticks\":\"\"}},\"title\":{\"x\":0.05},\"xaxis\":{\"automargin\":true,\"gridcolor\":\"white\",\"linecolor\":\"white\",\"ticks\":\"\",\"title\":{\"standoff\":15},\"zerolinecolor\":\"white\",\"zerolinewidth\":2},\"yaxis\":{\"automargin\":true,\"gridcolor\":\"white\",\"linecolor\":\"white\",\"ticks\":\"\",\"title\":{\"standoff\":15},\"zerolinecolor\":\"white\",\"zerolinewidth\":2}}},\"xaxis\":{\"anchor\":\"y\",\"domain\":[0.0,1.0],\"title\":{\"text\":\"meme_score_BT\"}},\"yaxis\":{\"anchor\":\"x\",\"domain\":[0.0,1.0],\"title\":{\"text\":\"meme_score_A\"}},\"legend\":{\"tracegroupgap\":0},\"margin\":{\"t\":60}},                        {\"responsive\": true}                    ).then(function(){\n                            \nvar gd = document.getElementById('fe09f19c-8b34-455a-956d-dffd5f18520a');\nvar x = new MutationObserver(function (mutations, observer) {{\n        var display = window.getComputedStyle(gd).display;\n        if (!display || display === 'none') {{\n            console.log([gd, 'removed!']);\n            Plotly.purge(gd);\n            observer.disconnect();\n        }}\n}});\n\n// Listen for the removal of the full notebook cells\nvar notebookContainer = gd.closest('#notebook-container');\nif (notebookContainer) {{\n    x.observe(notebookContainer, {childList: true});\n}}\n\n// Listen for the clearing of the current output cell\nvar outputEl = gd.closest('.output');\nif (outputEl) {{\n    x.observe(outputEl, {childList: true});\n}}\n\n                        })                };                });            </script>        </div>"
     },
     "metadata": {},
     "output_type": "display_data"
    }
   ],
   "source": [
    "fig = px.scatter(chosen_clusters_ai_act, x=\"meme_score_BT\", y=\"meme_score_A\", text=\"most_common\")\n",
    "fig.update_traces(textposition='top center')\n",
    "fig.show()"
   ],
   "metadata": {
    "collapsed": false,
    "pycharm": {
     "name": "#%%\n"
    }
   }
  },
  {
   "cell_type": "code",
   "execution_count": 110,
   "outputs": [
    {
     "data": {
      "application/vnd.plotly.v1+json": {
       "data": [
        {
         "hovertemplate": "meme_score_vanilla_log=%{x}<br>log_div=%{y}<br>most_common=%{text}<extra></extra>",
         "legendgroup": "",
         "marker": {
          "color": "#636efa",
          "symbol": "circle"
         },
         "mode": "markers+text",
         "name": "",
         "orientation": "v",
         "showlegend": false,
         "text": [
          "access",
          "content",
          "patent",
          "recall",
          "part",
          "execution",
          "fingerprint",
          "activity",
          "chapter",
          "recommendation",
          "authority",
          "product",
          "identification",
          "course",
          "color",
          "law",
          "accordance",
          "union",
          "view"
         ],
         "x": [
          9.582819534121194,
          9.771315377765417,
          11.093747530709342,
          10.013862941248643,
          9.087030259737038,
          10.332296593642958,
          11.484496475374714,
          10.66190391158678,
          8.50595741896113,
          11.325083686767394,
          9.55642660590835,
          8.543381871849904,
          10.82918660835277,
          9.459619021179044,
          10.898688207018902,
          10.89387511144535,
          8.76431751819788,
          10.143129022603155,
          9.654257627678883
         ],
         "xaxis": "x",
         "y": [
          -0.04205033336079103,
          -0.8620998237504092,
          0.9852599370060459,
          -0.1427998003809129,
          0.6773297181254577,
          0.1040266612737673,
          -0.5781024324010221,
          0.5333654240017938,
          -0.45235659619011886,
          0.6453451329630586,
          -0.6931479051963138,
          -0.924202341444898,
          0.7281446736186933,
          -2.507896389999938,
          0.012788456995552627,
          0.5314780543848018,
          1.4508236635571563,
          0.0714514927521276,
          0.3593058297476804
         ],
         "yaxis": "y",
         "type": "scatter"
        }
       ],
       "layout": {
        "template": {
         "data": {
          "bar": [
           {
            "error_x": {
             "color": "#2a3f5f"
            },
            "error_y": {
             "color": "#2a3f5f"
            },
            "marker": {
             "line": {
              "color": "#E5ECF6",
              "width": 0.5
             },
             "pattern": {
              "fillmode": "overlay",
              "size": 10,
              "solidity": 0.2
             }
            },
            "type": "bar"
           }
          ],
          "barpolar": [
           {
            "marker": {
             "line": {
              "color": "#E5ECF6",
              "width": 0.5
             },
             "pattern": {
              "fillmode": "overlay",
              "size": 10,
              "solidity": 0.2
             }
            },
            "type": "barpolar"
           }
          ],
          "carpet": [
           {
            "aaxis": {
             "endlinecolor": "#2a3f5f",
             "gridcolor": "white",
             "linecolor": "white",
             "minorgridcolor": "white",
             "startlinecolor": "#2a3f5f"
            },
            "baxis": {
             "endlinecolor": "#2a3f5f",
             "gridcolor": "white",
             "linecolor": "white",
             "minorgridcolor": "white",
             "startlinecolor": "#2a3f5f"
            },
            "type": "carpet"
           }
          ],
          "choropleth": [
           {
            "colorbar": {
             "outlinewidth": 0,
             "ticks": ""
            },
            "type": "choropleth"
           }
          ],
          "contour": [
           {
            "colorbar": {
             "outlinewidth": 0,
             "ticks": ""
            },
            "colorscale": [
             [
              0.0,
              "#0d0887"
             ],
             [
              0.1111111111111111,
              "#46039f"
             ],
             [
              0.2222222222222222,
              "#7201a8"
             ],
             [
              0.3333333333333333,
              "#9c179e"
             ],
             [
              0.4444444444444444,
              "#bd3786"
             ],
             [
              0.5555555555555556,
              "#d8576b"
             ],
             [
              0.6666666666666666,
              "#ed7953"
             ],
             [
              0.7777777777777778,
              "#fb9f3a"
             ],
             [
              0.8888888888888888,
              "#fdca26"
             ],
             [
              1.0,
              "#f0f921"
             ]
            ],
            "type": "contour"
           }
          ],
          "contourcarpet": [
           {
            "colorbar": {
             "outlinewidth": 0,
             "ticks": ""
            },
            "type": "contourcarpet"
           }
          ],
          "heatmap": [
           {
            "colorbar": {
             "outlinewidth": 0,
             "ticks": ""
            },
            "colorscale": [
             [
              0.0,
              "#0d0887"
             ],
             [
              0.1111111111111111,
              "#46039f"
             ],
             [
              0.2222222222222222,
              "#7201a8"
             ],
             [
              0.3333333333333333,
              "#9c179e"
             ],
             [
              0.4444444444444444,
              "#bd3786"
             ],
             [
              0.5555555555555556,
              "#d8576b"
             ],
             [
              0.6666666666666666,
              "#ed7953"
             ],
             [
              0.7777777777777778,
              "#fb9f3a"
             ],
             [
              0.8888888888888888,
              "#fdca26"
             ],
             [
              1.0,
              "#f0f921"
             ]
            ],
            "type": "heatmap"
           }
          ],
          "heatmapgl": [
           {
            "colorbar": {
             "outlinewidth": 0,
             "ticks": ""
            },
            "colorscale": [
             [
              0.0,
              "#0d0887"
             ],
             [
              0.1111111111111111,
              "#46039f"
             ],
             [
              0.2222222222222222,
              "#7201a8"
             ],
             [
              0.3333333333333333,
              "#9c179e"
             ],
             [
              0.4444444444444444,
              "#bd3786"
             ],
             [
              0.5555555555555556,
              "#d8576b"
             ],
             [
              0.6666666666666666,
              "#ed7953"
             ],
             [
              0.7777777777777778,
              "#fb9f3a"
             ],
             [
              0.8888888888888888,
              "#fdca26"
             ],
             [
              1.0,
              "#f0f921"
             ]
            ],
            "type": "heatmapgl"
           }
          ],
          "histogram": [
           {
            "marker": {
             "pattern": {
              "fillmode": "overlay",
              "size": 10,
              "solidity": 0.2
             }
            },
            "type": "histogram"
           }
          ],
          "histogram2d": [
           {
            "colorbar": {
             "outlinewidth": 0,
             "ticks": ""
            },
            "colorscale": [
             [
              0.0,
              "#0d0887"
             ],
             [
              0.1111111111111111,
              "#46039f"
             ],
             [
              0.2222222222222222,
              "#7201a8"
             ],
             [
              0.3333333333333333,
              "#9c179e"
             ],
             [
              0.4444444444444444,
              "#bd3786"
             ],
             [
              0.5555555555555556,
              "#d8576b"
             ],
             [
              0.6666666666666666,
              "#ed7953"
             ],
             [
              0.7777777777777778,
              "#fb9f3a"
             ],
             [
              0.8888888888888888,
              "#fdca26"
             ],
             [
              1.0,
              "#f0f921"
             ]
            ],
            "type": "histogram2d"
           }
          ],
          "histogram2dcontour": [
           {
            "colorbar": {
             "outlinewidth": 0,
             "ticks": ""
            },
            "colorscale": [
             [
              0.0,
              "#0d0887"
             ],
             [
              0.1111111111111111,
              "#46039f"
             ],
             [
              0.2222222222222222,
              "#7201a8"
             ],
             [
              0.3333333333333333,
              "#9c179e"
             ],
             [
              0.4444444444444444,
              "#bd3786"
             ],
             [
              0.5555555555555556,
              "#d8576b"
             ],
             [
              0.6666666666666666,
              "#ed7953"
             ],
             [
              0.7777777777777778,
              "#fb9f3a"
             ],
             [
              0.8888888888888888,
              "#fdca26"
             ],
             [
              1.0,
              "#f0f921"
             ]
            ],
            "type": "histogram2dcontour"
           }
          ],
          "mesh3d": [
           {
            "colorbar": {
             "outlinewidth": 0,
             "ticks": ""
            },
            "type": "mesh3d"
           }
          ],
          "parcoords": [
           {
            "line": {
             "colorbar": {
              "outlinewidth": 0,
              "ticks": ""
             }
            },
            "type": "parcoords"
           }
          ],
          "pie": [
           {
            "automargin": true,
            "type": "pie"
           }
          ],
          "scatter": [
           {
            "marker": {
             "colorbar": {
              "outlinewidth": 0,
              "ticks": ""
             }
            },
            "type": "scatter"
           }
          ],
          "scatter3d": [
           {
            "line": {
             "colorbar": {
              "outlinewidth": 0,
              "ticks": ""
             }
            },
            "marker": {
             "colorbar": {
              "outlinewidth": 0,
              "ticks": ""
             }
            },
            "type": "scatter3d"
           }
          ],
          "scattercarpet": [
           {
            "marker": {
             "colorbar": {
              "outlinewidth": 0,
              "ticks": ""
             }
            },
            "type": "scattercarpet"
           }
          ],
          "scattergeo": [
           {
            "marker": {
             "colorbar": {
              "outlinewidth": 0,
              "ticks": ""
             }
            },
            "type": "scattergeo"
           }
          ],
          "scattergl": [
           {
            "marker": {
             "colorbar": {
              "outlinewidth": 0,
              "ticks": ""
             }
            },
            "type": "scattergl"
           }
          ],
          "scattermapbox": [
           {
            "marker": {
             "colorbar": {
              "outlinewidth": 0,
              "ticks": ""
             }
            },
            "type": "scattermapbox"
           }
          ],
          "scatterpolar": [
           {
            "marker": {
             "colorbar": {
              "outlinewidth": 0,
              "ticks": ""
             }
            },
            "type": "scatterpolar"
           }
          ],
          "scatterpolargl": [
           {
            "marker": {
             "colorbar": {
              "outlinewidth": 0,
              "ticks": ""
             }
            },
            "type": "scatterpolargl"
           }
          ],
          "scatterternary": [
           {
            "marker": {
             "colorbar": {
              "outlinewidth": 0,
              "ticks": ""
             }
            },
            "type": "scatterternary"
           }
          ],
          "surface": [
           {
            "colorbar": {
             "outlinewidth": 0,
             "ticks": ""
            },
            "colorscale": [
             [
              0.0,
              "#0d0887"
             ],
             [
              0.1111111111111111,
              "#46039f"
             ],
             [
              0.2222222222222222,
              "#7201a8"
             ],
             [
              0.3333333333333333,
              "#9c179e"
             ],
             [
              0.4444444444444444,
              "#bd3786"
             ],
             [
              0.5555555555555556,
              "#d8576b"
             ],
             [
              0.6666666666666666,
              "#ed7953"
             ],
             [
              0.7777777777777778,
              "#fb9f3a"
             ],
             [
              0.8888888888888888,
              "#fdca26"
             ],
             [
              1.0,
              "#f0f921"
             ]
            ],
            "type": "surface"
           }
          ],
          "table": [
           {
            "cells": {
             "fill": {
              "color": "#EBF0F8"
             },
             "line": {
              "color": "white"
             }
            },
            "header": {
             "fill": {
              "color": "#C8D4E3"
             },
             "line": {
              "color": "white"
             }
            },
            "type": "table"
           }
          ]
         },
         "layout": {
          "annotationdefaults": {
           "arrowcolor": "#2a3f5f",
           "arrowhead": 0,
           "arrowwidth": 1
          },
          "autotypenumbers": "strict",
          "coloraxis": {
           "colorbar": {
            "outlinewidth": 0,
            "ticks": ""
           }
          },
          "colorscale": {
           "diverging": [
            [
             0,
             "#8e0152"
            ],
            [
             0.1,
             "#c51b7d"
            ],
            [
             0.2,
             "#de77ae"
            ],
            [
             0.3,
             "#f1b6da"
            ],
            [
             0.4,
             "#fde0ef"
            ],
            [
             0.5,
             "#f7f7f7"
            ],
            [
             0.6,
             "#e6f5d0"
            ],
            [
             0.7,
             "#b8e186"
            ],
            [
             0.8,
             "#7fbc41"
            ],
            [
             0.9,
             "#4d9221"
            ],
            [
             1,
             "#276419"
            ]
           ],
           "sequential": [
            [
             0.0,
             "#0d0887"
            ],
            [
             0.1111111111111111,
             "#46039f"
            ],
            [
             0.2222222222222222,
             "#7201a8"
            ],
            [
             0.3333333333333333,
             "#9c179e"
            ],
            [
             0.4444444444444444,
             "#bd3786"
            ],
            [
             0.5555555555555556,
             "#d8576b"
            ],
            [
             0.6666666666666666,
             "#ed7953"
            ],
            [
             0.7777777777777778,
             "#fb9f3a"
            ],
            [
             0.8888888888888888,
             "#fdca26"
            ],
            [
             1.0,
             "#f0f921"
            ]
           ],
           "sequentialminus": [
            [
             0.0,
             "#0d0887"
            ],
            [
             0.1111111111111111,
             "#46039f"
            ],
            [
             0.2222222222222222,
             "#7201a8"
            ],
            [
             0.3333333333333333,
             "#9c179e"
            ],
            [
             0.4444444444444444,
             "#bd3786"
            ],
            [
             0.5555555555555556,
             "#d8576b"
            ],
            [
             0.6666666666666666,
             "#ed7953"
            ],
            [
             0.7777777777777778,
             "#fb9f3a"
            ],
            [
             0.8888888888888888,
             "#fdca26"
            ],
            [
             1.0,
             "#f0f921"
            ]
           ]
          },
          "colorway": [
           "#636efa",
           "#EF553B",
           "#00cc96",
           "#ab63fa",
           "#FFA15A",
           "#19d3f3",
           "#FF6692",
           "#B6E880",
           "#FF97FF",
           "#FECB52"
          ],
          "font": {
           "color": "#2a3f5f"
          },
          "geo": {
           "bgcolor": "white",
           "lakecolor": "white",
           "landcolor": "#E5ECF6",
           "showlakes": true,
           "showland": true,
           "subunitcolor": "white"
          },
          "hoverlabel": {
           "align": "left"
          },
          "hovermode": "closest",
          "mapbox": {
           "style": "light"
          },
          "paper_bgcolor": "white",
          "plot_bgcolor": "#E5ECF6",
          "polar": {
           "angularaxis": {
            "gridcolor": "white",
            "linecolor": "white",
            "ticks": ""
           },
           "bgcolor": "#E5ECF6",
           "radialaxis": {
            "gridcolor": "white",
            "linecolor": "white",
            "ticks": ""
           }
          },
          "scene": {
           "xaxis": {
            "backgroundcolor": "#E5ECF6",
            "gridcolor": "white",
            "gridwidth": 2,
            "linecolor": "white",
            "showbackground": true,
            "ticks": "",
            "zerolinecolor": "white"
           },
           "yaxis": {
            "backgroundcolor": "#E5ECF6",
            "gridcolor": "white",
            "gridwidth": 2,
            "linecolor": "white",
            "showbackground": true,
            "ticks": "",
            "zerolinecolor": "white"
           },
           "zaxis": {
            "backgroundcolor": "#E5ECF6",
            "gridcolor": "white",
            "gridwidth": 2,
            "linecolor": "white",
            "showbackground": true,
            "ticks": "",
            "zerolinecolor": "white"
           }
          },
          "shapedefaults": {
           "line": {
            "color": "#2a3f5f"
           }
          },
          "ternary": {
           "aaxis": {
            "gridcolor": "white",
            "linecolor": "white",
            "ticks": ""
           },
           "baxis": {
            "gridcolor": "white",
            "linecolor": "white",
            "ticks": ""
           },
           "bgcolor": "#E5ECF6",
           "caxis": {
            "gridcolor": "white",
            "linecolor": "white",
            "ticks": ""
           }
          },
          "title": {
           "x": 0.05
          },
          "xaxis": {
           "automargin": true,
           "gridcolor": "white",
           "linecolor": "white",
           "ticks": "",
           "title": {
            "standoff": 15
           },
           "zerolinecolor": "white",
           "zerolinewidth": 2
          },
          "yaxis": {
           "automargin": true,
           "gridcolor": "white",
           "linecolor": "white",
           "ticks": "",
           "title": {
            "standoff": 15
           },
           "zerolinecolor": "white",
           "zerolinewidth": 2
          }
         }
        },
        "xaxis": {
         "anchor": "y",
         "domain": [
          0.0,
          1.0
         ],
         "title": {
          "text": "meme_score_vanilla_log"
         }
        },
        "yaxis": {
         "anchor": "x",
         "domain": [
          0.0,
          1.0
         ],
         "title": {
          "text": "log_div"
         }
        },
        "legend": {
         "tracegroupgap": 0
        },
        "margin": {
         "t": 60
        }
       },
       "config": {
        "plotlyServerURL": "https://plot.ly"
       }
      },
      "text/html": "<div>                            <div id=\"c36fcd84-a5a6-4600-b155-c653800433b8\" class=\"plotly-graph-div\" style=\"height:525px; width:100%;\"></div>            <script type=\"text/javascript\">                require([\"plotly\"], function(Plotly) {                    window.PLOTLYENV=window.PLOTLYENV || {};                                    if (document.getElementById(\"c36fcd84-a5a6-4600-b155-c653800433b8\")) {                    Plotly.newPlot(                        \"c36fcd84-a5a6-4600-b155-c653800433b8\",                        [{\"hovertemplate\":\"meme_score_vanilla_log=%{x}<br>log_div=%{y}<br>most_common=%{text}<extra></extra>\",\"legendgroup\":\"\",\"marker\":{\"color\":\"#636efa\",\"symbol\":\"circle\"},\"mode\":\"markers+text\",\"name\":\"\",\"orientation\":\"v\",\"showlegend\":false,\"text\":[\"access\",\"content\",\"patent\",\"recall\",\"part\",\"execution\",\"fingerprint\",\"activity\",\"chapter\",\"recommendation\",\"authority\",\"product\",\"identification\",\"course\",\"color\",\"law\",\"accordance\",\"union\",\"view\"],\"x\":[9.582819534121194,9.771315377765417,11.093747530709342,10.013862941248643,9.087030259737038,10.332296593642958,11.484496475374714,10.66190391158678,8.50595741896113,11.325083686767394,9.55642660590835,8.543381871849904,10.82918660835277,9.459619021179044,10.898688207018902,10.89387511144535,8.76431751819788,10.143129022603155,9.654257627678883],\"xaxis\":\"x\",\"y\":[-0.04205033336079103,-0.8620998237504092,0.9852599370060459,-0.1427998003809129,0.6773297181254577,0.1040266612737673,-0.5781024324010221,0.5333654240017938,-0.45235659619011886,0.6453451329630586,-0.6931479051963138,-0.924202341444898,0.7281446736186933,-2.507896389999938,0.012788456995552627,0.5314780543848018,1.4508236635571563,0.0714514927521276,0.3593058297476804],\"yaxis\":\"y\",\"type\":\"scatter\"}],                        {\"template\":{\"data\":{\"bar\":[{\"error_x\":{\"color\":\"#2a3f5f\"},\"error_y\":{\"color\":\"#2a3f5f\"},\"marker\":{\"line\":{\"color\":\"#E5ECF6\",\"width\":0.5},\"pattern\":{\"fillmode\":\"overlay\",\"size\":10,\"solidity\":0.2}},\"type\":\"bar\"}],\"barpolar\":[{\"marker\":{\"line\":{\"color\":\"#E5ECF6\",\"width\":0.5},\"pattern\":{\"fillmode\":\"overlay\",\"size\":10,\"solidity\":0.2}},\"type\":\"barpolar\"}],\"carpet\":[{\"aaxis\":{\"endlinecolor\":\"#2a3f5f\",\"gridcolor\":\"white\",\"linecolor\":\"white\",\"minorgridcolor\":\"white\",\"startlinecolor\":\"#2a3f5f\"},\"baxis\":{\"endlinecolor\":\"#2a3f5f\",\"gridcolor\":\"white\",\"linecolor\":\"white\",\"minorgridcolor\":\"white\",\"startlinecolor\":\"#2a3f5f\"},\"type\":\"carpet\"}],\"choropleth\":[{\"colorbar\":{\"outlinewidth\":0,\"ticks\":\"\"},\"type\":\"choropleth\"}],\"contour\":[{\"colorbar\":{\"outlinewidth\":0,\"ticks\":\"\"},\"colorscale\":[[0.0,\"#0d0887\"],[0.1111111111111111,\"#46039f\"],[0.2222222222222222,\"#7201a8\"],[0.3333333333333333,\"#9c179e\"],[0.4444444444444444,\"#bd3786\"],[0.5555555555555556,\"#d8576b\"],[0.6666666666666666,\"#ed7953\"],[0.7777777777777778,\"#fb9f3a\"],[0.8888888888888888,\"#fdca26\"],[1.0,\"#f0f921\"]],\"type\":\"contour\"}],\"contourcarpet\":[{\"colorbar\":{\"outlinewidth\":0,\"ticks\":\"\"},\"type\":\"contourcarpet\"}],\"heatmap\":[{\"colorbar\":{\"outlinewidth\":0,\"ticks\":\"\"},\"colorscale\":[[0.0,\"#0d0887\"],[0.1111111111111111,\"#46039f\"],[0.2222222222222222,\"#7201a8\"],[0.3333333333333333,\"#9c179e\"],[0.4444444444444444,\"#bd3786\"],[0.5555555555555556,\"#d8576b\"],[0.6666666666666666,\"#ed7953\"],[0.7777777777777778,\"#fb9f3a\"],[0.8888888888888888,\"#fdca26\"],[1.0,\"#f0f921\"]],\"type\":\"heatmap\"}],\"heatmapgl\":[{\"colorbar\":{\"outlinewidth\":0,\"ticks\":\"\"},\"colorscale\":[[0.0,\"#0d0887\"],[0.1111111111111111,\"#46039f\"],[0.2222222222222222,\"#7201a8\"],[0.3333333333333333,\"#9c179e\"],[0.4444444444444444,\"#bd3786\"],[0.5555555555555556,\"#d8576b\"],[0.6666666666666666,\"#ed7953\"],[0.7777777777777778,\"#fb9f3a\"],[0.8888888888888888,\"#fdca26\"],[1.0,\"#f0f921\"]],\"type\":\"heatmapgl\"}],\"histogram\":[{\"marker\":{\"pattern\":{\"fillmode\":\"overlay\",\"size\":10,\"solidity\":0.2}},\"type\":\"histogram\"}],\"histogram2d\":[{\"colorbar\":{\"outlinewidth\":0,\"ticks\":\"\"},\"colorscale\":[[0.0,\"#0d0887\"],[0.1111111111111111,\"#46039f\"],[0.2222222222222222,\"#7201a8\"],[0.3333333333333333,\"#9c179e\"],[0.4444444444444444,\"#bd3786\"],[0.5555555555555556,\"#d8576b\"],[0.6666666666666666,\"#ed7953\"],[0.7777777777777778,\"#fb9f3a\"],[0.8888888888888888,\"#fdca26\"],[1.0,\"#f0f921\"]],\"type\":\"histogram2d\"}],\"histogram2dcontour\":[{\"colorbar\":{\"outlinewidth\":0,\"ticks\":\"\"},\"colorscale\":[[0.0,\"#0d0887\"],[0.1111111111111111,\"#46039f\"],[0.2222222222222222,\"#7201a8\"],[0.3333333333333333,\"#9c179e\"],[0.4444444444444444,\"#bd3786\"],[0.5555555555555556,\"#d8576b\"],[0.6666666666666666,\"#ed7953\"],[0.7777777777777778,\"#fb9f3a\"],[0.8888888888888888,\"#fdca26\"],[1.0,\"#f0f921\"]],\"type\":\"histogram2dcontour\"}],\"mesh3d\":[{\"colorbar\":{\"outlinewidth\":0,\"ticks\":\"\"},\"type\":\"mesh3d\"}],\"parcoords\":[{\"line\":{\"colorbar\":{\"outlinewidth\":0,\"ticks\":\"\"}},\"type\":\"parcoords\"}],\"pie\":[{\"automargin\":true,\"type\":\"pie\"}],\"scatter\":[{\"marker\":{\"colorbar\":{\"outlinewidth\":0,\"ticks\":\"\"}},\"type\":\"scatter\"}],\"scatter3d\":[{\"line\":{\"colorbar\":{\"outlinewidth\":0,\"ticks\":\"\"}},\"marker\":{\"colorbar\":{\"outlinewidth\":0,\"ticks\":\"\"}},\"type\":\"scatter3d\"}],\"scattercarpet\":[{\"marker\":{\"colorbar\":{\"outlinewidth\":0,\"ticks\":\"\"}},\"type\":\"scattercarpet\"}],\"scattergeo\":[{\"marker\":{\"colorbar\":{\"outlinewidth\":0,\"ticks\":\"\"}},\"type\":\"scattergeo\"}],\"scattergl\":[{\"marker\":{\"colorbar\":{\"outlinewidth\":0,\"ticks\":\"\"}},\"type\":\"scattergl\"}],\"scattermapbox\":[{\"marker\":{\"colorbar\":{\"outlinewidth\":0,\"ticks\":\"\"}},\"type\":\"scattermapbox\"}],\"scatterpolar\":[{\"marker\":{\"colorbar\":{\"outlinewidth\":0,\"ticks\":\"\"}},\"type\":\"scatterpolar\"}],\"scatterpolargl\":[{\"marker\":{\"colorbar\":{\"outlinewidth\":0,\"ticks\":\"\"}},\"type\":\"scatterpolargl\"}],\"scatterternary\":[{\"marker\":{\"colorbar\":{\"outlinewidth\":0,\"ticks\":\"\"}},\"type\":\"scatterternary\"}],\"surface\":[{\"colorbar\":{\"outlinewidth\":0,\"ticks\":\"\"},\"colorscale\":[[0.0,\"#0d0887\"],[0.1111111111111111,\"#46039f\"],[0.2222222222222222,\"#7201a8\"],[0.3333333333333333,\"#9c179e\"],[0.4444444444444444,\"#bd3786\"],[0.5555555555555556,\"#d8576b\"],[0.6666666666666666,\"#ed7953\"],[0.7777777777777778,\"#fb9f3a\"],[0.8888888888888888,\"#fdca26\"],[1.0,\"#f0f921\"]],\"type\":\"surface\"}],\"table\":[{\"cells\":{\"fill\":{\"color\":\"#EBF0F8\"},\"line\":{\"color\":\"white\"}},\"header\":{\"fill\":{\"color\":\"#C8D4E3\"},\"line\":{\"color\":\"white\"}},\"type\":\"table\"}]},\"layout\":{\"annotationdefaults\":{\"arrowcolor\":\"#2a3f5f\",\"arrowhead\":0,\"arrowwidth\":1},\"autotypenumbers\":\"strict\",\"coloraxis\":{\"colorbar\":{\"outlinewidth\":0,\"ticks\":\"\"}},\"colorscale\":{\"diverging\":[[0,\"#8e0152\"],[0.1,\"#c51b7d\"],[0.2,\"#de77ae\"],[0.3,\"#f1b6da\"],[0.4,\"#fde0ef\"],[0.5,\"#f7f7f7\"],[0.6,\"#e6f5d0\"],[0.7,\"#b8e186\"],[0.8,\"#7fbc41\"],[0.9,\"#4d9221\"],[1,\"#276419\"]],\"sequential\":[[0.0,\"#0d0887\"],[0.1111111111111111,\"#46039f\"],[0.2222222222222222,\"#7201a8\"],[0.3333333333333333,\"#9c179e\"],[0.4444444444444444,\"#bd3786\"],[0.5555555555555556,\"#d8576b\"],[0.6666666666666666,\"#ed7953\"],[0.7777777777777778,\"#fb9f3a\"],[0.8888888888888888,\"#fdca26\"],[1.0,\"#f0f921\"]],\"sequentialminus\":[[0.0,\"#0d0887\"],[0.1111111111111111,\"#46039f\"],[0.2222222222222222,\"#7201a8\"],[0.3333333333333333,\"#9c179e\"],[0.4444444444444444,\"#bd3786\"],[0.5555555555555556,\"#d8576b\"],[0.6666666666666666,\"#ed7953\"],[0.7777777777777778,\"#fb9f3a\"],[0.8888888888888888,\"#fdca26\"],[1.0,\"#f0f921\"]]},\"colorway\":[\"#636efa\",\"#EF553B\",\"#00cc96\",\"#ab63fa\",\"#FFA15A\",\"#19d3f3\",\"#FF6692\",\"#B6E880\",\"#FF97FF\",\"#FECB52\"],\"font\":{\"color\":\"#2a3f5f\"},\"geo\":{\"bgcolor\":\"white\",\"lakecolor\":\"white\",\"landcolor\":\"#E5ECF6\",\"showlakes\":true,\"showland\":true,\"subunitcolor\":\"white\"},\"hoverlabel\":{\"align\":\"left\"},\"hovermode\":\"closest\",\"mapbox\":{\"style\":\"light\"},\"paper_bgcolor\":\"white\",\"plot_bgcolor\":\"#E5ECF6\",\"polar\":{\"angularaxis\":{\"gridcolor\":\"white\",\"linecolor\":\"white\",\"ticks\":\"\"},\"bgcolor\":\"#E5ECF6\",\"radialaxis\":{\"gridcolor\":\"white\",\"linecolor\":\"white\",\"ticks\":\"\"}},\"scene\":{\"xaxis\":{\"backgroundcolor\":\"#E5ECF6\",\"gridcolor\":\"white\",\"gridwidth\":2,\"linecolor\":\"white\",\"showbackground\":true,\"ticks\":\"\",\"zerolinecolor\":\"white\"},\"yaxis\":{\"backgroundcolor\":\"#E5ECF6\",\"gridcolor\":\"white\",\"gridwidth\":2,\"linecolor\":\"white\",\"showbackground\":true,\"ticks\":\"\",\"zerolinecolor\":\"white\"},\"zaxis\":{\"backgroundcolor\":\"#E5ECF6\",\"gridcolor\":\"white\",\"gridwidth\":2,\"linecolor\":\"white\",\"showbackground\":true,\"ticks\":\"\",\"zerolinecolor\":\"white\"}},\"shapedefaults\":{\"line\":{\"color\":\"#2a3f5f\"}},\"ternary\":{\"aaxis\":{\"gridcolor\":\"white\",\"linecolor\":\"white\",\"ticks\":\"\"},\"baxis\":{\"gridcolor\":\"white\",\"linecolor\":\"white\",\"ticks\":\"\"},\"bgcolor\":\"#E5ECF6\",\"caxis\":{\"gridcolor\":\"white\",\"linecolor\":\"white\",\"ticks\":\"\"}},\"title\":{\"x\":0.05},\"xaxis\":{\"automargin\":true,\"gridcolor\":\"white\",\"linecolor\":\"white\",\"ticks\":\"\",\"title\":{\"standoff\":15},\"zerolinecolor\":\"white\",\"zerolinewidth\":2},\"yaxis\":{\"automargin\":true,\"gridcolor\":\"white\",\"linecolor\":\"white\",\"ticks\":\"\",\"title\":{\"standoff\":15},\"zerolinecolor\":\"white\",\"zerolinewidth\":2}}},\"xaxis\":{\"anchor\":\"y\",\"domain\":[0.0,1.0],\"title\":{\"text\":\"meme_score_vanilla_log\"}},\"yaxis\":{\"anchor\":\"x\",\"domain\":[0.0,1.0],\"title\":{\"text\":\"log_div\"}},\"legend\":{\"tracegroupgap\":0},\"margin\":{\"t\":60}},                        {\"responsive\": true}                    ).then(function(){\n                            \nvar gd = document.getElementById('c36fcd84-a5a6-4600-b155-c653800433b8');\nvar x = new MutationObserver(function (mutations, observer) {{\n        var display = window.getComputedStyle(gd).display;\n        if (!display || display === 'none') {{\n            console.log([gd, 'removed!']);\n            Plotly.purge(gd);\n            observer.disconnect();\n        }}\n}});\n\n// Listen for the removal of the full notebook cells\nvar notebookContainer = gd.closest('#notebook-container');\nif (notebookContainer) {{\n    x.observe(notebookContainer, {childList: true});\n}}\n\n// Listen for the clearing of the current output cell\nvar outputEl = gd.closest('.output');\nif (outputEl) {{\n    x.observe(outputEl, {childList: true});\n}}\n\n                        })                };                });            </script>        </div>"
     },
     "metadata": {},
     "output_type": "display_data"
    }
   ],
   "source": [
    "fig = px.scatter(chosen_clusters_ai_act, y='log_div', x='meme_score_vanilla_log',text=\"most_common\")\n",
    "fig.show()"
   ],
   "metadata": {
    "collapsed": false,
    "pycharm": {
     "name": "#%%\n"
    }
   }
  },
  {
   "cell_type": "code",
   "execution_count": 135,
   "outputs": [],
   "source": [
    "chosen = []\n",
    "for index, row in df.iterrows():\n",
    "    if row['meme_id'] in set(chosen_clusters['meme_id']):\n",
    "        chosen.append(row['most_common'])\n",
    "    else:\n",
    "        chosen.append(' ')\n",
    "df['chosen'] = chosen"
   ],
   "metadata": {
    "collapsed": false,
    "pycharm": {
     "name": "#%%\n"
    }
   }
  },
  {
   "cell_type": "code",
   "execution_count": 137,
   "outputs": [],
   "source": [
    "df_to_plot = df[~df['most_common'].isin(STOP_CLUSTERS)]"
   ],
   "metadata": {
    "collapsed": false,
    "pycharm": {
     "name": "#%%\n"
    }
   }
  },
  {
   "cell_type": "code",
   "execution_count": 127,
   "outputs": [
    {
     "data": {
      "text/plain": "        meme_id  meme_score_vanilla  sticking_factor_vanilla  \\\n2             2        5.793164e+03                 0.018095   \n77           81        2.340838e+04                 0.072727   \n100         104        9.568489e+04                 0.249994   \n127         132        1.586536e+04                 0.049020   \n195         202        1.492763e+04                 0.044872   \n...         ...                 ...                      ...   \n314383   379967        1.972874e+04                 0.053333   \n315470   381353        2.126263e+05                 0.499975   \n315498   381384        3.189351e+09                 0.999900   \n317637   384070        8.504931e+04                 0.133332   \n317836   384325        1.012004e+04                 0.031250   \n\n        sparking_factor_vanilla  frequency  meme_score_BT  sticking_factor_BT  \\\n2                  8.517920e-03       2727   7.808492e+03            0.024390   \n77                 1.354602e-03        436   9.753480e+03            0.030303   \n100                1.567606e-05          6   9.568489e+04            0.249994   \n127                1.044326e-03        338   1.618228e+05            0.499988   \n195                5.050001e-04        168   1.023608e+04            0.030769   \n...                         ...        ...            ...                 ...   \n314383             7.839652e-05         29   2.551125e+04            0.068965   \n315470             9.405705e-06          4   2.126263e+05            0.499975   \n315498             3.135121e-10          1   3.189351e+09            0.999900   \n317637             6.270830e-06          4   8.504931e+04            0.133332   \n317836             2.038030e-04         66   2.491075e+04            0.076922   \n\n        sparking_factor_BT  frequency_bt  meme_score_A  ...  \\\n2             8.517920e-03          24.0  5.503059e+03  ...   \n77            1.354602e-03           4.0  2.340838e+04  ...   \n100           1.567606e-05           2.0  9.568489e+04  ...   \n127           1.044326e-03           7.0  1.321034e+04  ...   \n195           5.050001e-04           1.0  1.502394e+04  ...   \n...                    ...           ...           ...  ...   \n314383        7.839652e-05           3.0  1.608321e+04  ...   \n315470        9.405705e-06           2.0  2.126263e+05  ...   \n315498        3.135121e-10           1.0  3.189351e+09  ...   \n317637        6.270830e-06           1.0  8.504931e+04  ...   \n317836        2.038030e-04           2.0  1.199411e+04  ...   \n\n        sparking_factor_A  frequency_a                      most_common  \\\n2            8.517920e-03        471.0            not only the accuracy   \n77           1.354602e-03         46.0                           clause   \n100          1.567606e-05          3.0                 conservation uav   \n127          1.044326e-03         89.0                  standardization   \n195          5.050001e-04         42.0                           census   \n...                   ...          ...                              ...   \n314383       7.839652e-05         11.0                       disconnect   \n315470       9.405705e-06          2.0     repeat read only data access   \n315498       3.135121e-10          1.0  most frequently observe feature   \n317637       6.270830e-06          2.0        salient object subitizing   \n317836       2.038030e-04         22.0           datum sparsity problem   \n\n                    best_tfidf meme_score_vanilla_log        div   log_div  \\\n2                     not_only               8.664434   1.418937  0.349908   \n77                 clause_horn              10.060849   0.416666 -0.875470   \n100         green_conservation              11.468816   1.000000  0.000000   \n127     standardization_tiphon               9.671893  12.249706  2.505502   \n195               census_beppu               9.610969   0.681318 -0.383726   \n...                        ...                    ...        ...       ...   \n314383              disconnect               9.889832   1.586204  0.461344   \n315470             read_repeat              12.267291   1.000000  0.000000   \n315498      frequently_observe              21.883083   1.000000  0.000000   \n317637      subitizing_salient              11.350987   1.000000  0.000000   \n317836        sparsity_problem               9.222273   2.076915  0.730884   \n\n        freq_sticking_factor_BT  freq_sticking_factor_A  chosen  \n2                      0.585365                8.096056          \n77                     0.121212                3.345448          \n100                    0.499988                0.749981          \n127                    3.499913                3.632649          \n195                    0.030769                1.896773          \n...                         ...                     ...     ...  \n314383                 0.206896                0.478260          \n315470                 0.999950                0.999950          \n315498                 0.999900                0.999900          \n317637                 0.133332                0.266665          \n317836                 0.153845                0.814812          \n\n[1112 rows x 21 columns]",
      "text/html": "<div>\n<style scoped>\n    .dataframe tbody tr th:only-of-type {\n        vertical-align: middle;\n    }\n\n    .dataframe tbody tr th {\n        vertical-align: top;\n    }\n\n    .dataframe thead th {\n        text-align: right;\n    }\n</style>\n<table border=\"1\" class=\"dataframe\">\n  <thead>\n    <tr style=\"text-align: right;\">\n      <th></th>\n      <th>meme_id</th>\n      <th>meme_score_vanilla</th>\n      <th>sticking_factor_vanilla</th>\n      <th>sparking_factor_vanilla</th>\n      <th>frequency</th>\n      <th>meme_score_BT</th>\n      <th>sticking_factor_BT</th>\n      <th>sparking_factor_BT</th>\n      <th>frequency_bt</th>\n      <th>meme_score_A</th>\n      <th>...</th>\n      <th>sparking_factor_A</th>\n      <th>frequency_a</th>\n      <th>most_common</th>\n      <th>best_tfidf</th>\n      <th>meme_score_vanilla_log</th>\n      <th>div</th>\n      <th>log_div</th>\n      <th>freq_sticking_factor_BT</th>\n      <th>freq_sticking_factor_A</th>\n      <th>chosen</th>\n    </tr>\n  </thead>\n  <tbody>\n    <tr>\n      <th>2</th>\n      <td>2</td>\n      <td>5.793164e+03</td>\n      <td>0.018095</td>\n      <td>8.517920e-03</td>\n      <td>2727</td>\n      <td>7.808492e+03</td>\n      <td>0.024390</td>\n      <td>8.517920e-03</td>\n      <td>24.0</td>\n      <td>5.503059e+03</td>\n      <td>...</td>\n      <td>8.517920e-03</td>\n      <td>471.0</td>\n      <td>not only the accuracy</td>\n      <td>not_only</td>\n      <td>8.664434</td>\n      <td>1.418937</td>\n      <td>0.349908</td>\n      <td>0.585365</td>\n      <td>8.096056</td>\n      <td></td>\n    </tr>\n    <tr>\n      <th>77</th>\n      <td>81</td>\n      <td>2.340838e+04</td>\n      <td>0.072727</td>\n      <td>1.354602e-03</td>\n      <td>436</td>\n      <td>9.753480e+03</td>\n      <td>0.030303</td>\n      <td>1.354602e-03</td>\n      <td>4.0</td>\n      <td>2.340838e+04</td>\n      <td>...</td>\n      <td>1.354602e-03</td>\n      <td>46.0</td>\n      <td>clause</td>\n      <td>clause_horn</td>\n      <td>10.060849</td>\n      <td>0.416666</td>\n      <td>-0.875470</td>\n      <td>0.121212</td>\n      <td>3.345448</td>\n      <td></td>\n    </tr>\n    <tr>\n      <th>100</th>\n      <td>104</td>\n      <td>9.568489e+04</td>\n      <td>0.249994</td>\n      <td>1.567606e-05</td>\n      <td>6</td>\n      <td>9.568489e+04</td>\n      <td>0.249994</td>\n      <td>1.567606e-05</td>\n      <td>2.0</td>\n      <td>9.568489e+04</td>\n      <td>...</td>\n      <td>1.567606e-05</td>\n      <td>3.0</td>\n      <td>conservation uav</td>\n      <td>green_conservation</td>\n      <td>11.468816</td>\n      <td>1.000000</td>\n      <td>0.000000</td>\n      <td>0.499988</td>\n      <td>0.749981</td>\n      <td></td>\n    </tr>\n    <tr>\n      <th>127</th>\n      <td>132</td>\n      <td>1.586536e+04</td>\n      <td>0.049020</td>\n      <td>1.044326e-03</td>\n      <td>338</td>\n      <td>1.618228e+05</td>\n      <td>0.499988</td>\n      <td>1.044326e-03</td>\n      <td>7.0</td>\n      <td>1.321034e+04</td>\n      <td>...</td>\n      <td>1.044326e-03</td>\n      <td>89.0</td>\n      <td>standardization</td>\n      <td>standardization_tiphon</td>\n      <td>9.671893</td>\n      <td>12.249706</td>\n      <td>2.505502</td>\n      <td>3.499913</td>\n      <td>3.632649</td>\n      <td></td>\n    </tr>\n    <tr>\n      <th>195</th>\n      <td>202</td>\n      <td>1.492763e+04</td>\n      <td>0.044872</td>\n      <td>5.050001e-04</td>\n      <td>168</td>\n      <td>1.023608e+04</td>\n      <td>0.030769</td>\n      <td>5.050001e-04</td>\n      <td>1.0</td>\n      <td>1.502394e+04</td>\n      <td>...</td>\n      <td>5.050001e-04</td>\n      <td>42.0</td>\n      <td>census</td>\n      <td>census_beppu</td>\n      <td>9.610969</td>\n      <td>0.681318</td>\n      <td>-0.383726</td>\n      <td>0.030769</td>\n      <td>1.896773</td>\n      <td></td>\n    </tr>\n    <tr>\n      <th>...</th>\n      <td>...</td>\n      <td>...</td>\n      <td>...</td>\n      <td>...</td>\n      <td>...</td>\n      <td>...</td>\n      <td>...</td>\n      <td>...</td>\n      <td>...</td>\n      <td>...</td>\n      <td>...</td>\n      <td>...</td>\n      <td>...</td>\n      <td>...</td>\n      <td>...</td>\n      <td>...</td>\n      <td>...</td>\n      <td>...</td>\n      <td>...</td>\n      <td>...</td>\n      <td>...</td>\n    </tr>\n    <tr>\n      <th>314383</th>\n      <td>379967</td>\n      <td>1.972874e+04</td>\n      <td>0.053333</td>\n      <td>7.839652e-05</td>\n      <td>29</td>\n      <td>2.551125e+04</td>\n      <td>0.068965</td>\n      <td>7.839652e-05</td>\n      <td>3.0</td>\n      <td>1.608321e+04</td>\n      <td>...</td>\n      <td>7.839652e-05</td>\n      <td>11.0</td>\n      <td>disconnect</td>\n      <td>disconnect</td>\n      <td>9.889832</td>\n      <td>1.586204</td>\n      <td>0.461344</td>\n      <td>0.206896</td>\n      <td>0.478260</td>\n      <td></td>\n    </tr>\n    <tr>\n      <th>315470</th>\n      <td>381353</td>\n      <td>2.126263e+05</td>\n      <td>0.499975</td>\n      <td>9.405705e-06</td>\n      <td>4</td>\n      <td>2.126263e+05</td>\n      <td>0.499975</td>\n      <td>9.405705e-06</td>\n      <td>2.0</td>\n      <td>2.126263e+05</td>\n      <td>...</td>\n      <td>9.405705e-06</td>\n      <td>2.0</td>\n      <td>repeat read only data access</td>\n      <td>read_repeat</td>\n      <td>12.267291</td>\n      <td>1.000000</td>\n      <td>0.000000</td>\n      <td>0.999950</td>\n      <td>0.999950</td>\n      <td></td>\n    </tr>\n    <tr>\n      <th>315498</th>\n      <td>381384</td>\n      <td>3.189351e+09</td>\n      <td>0.999900</td>\n      <td>3.135121e-10</td>\n      <td>1</td>\n      <td>3.189351e+09</td>\n      <td>0.999900</td>\n      <td>3.135121e-10</td>\n      <td>1.0</td>\n      <td>3.189351e+09</td>\n      <td>...</td>\n      <td>3.135121e-10</td>\n      <td>1.0</td>\n      <td>most frequently observe feature</td>\n      <td>frequently_observe</td>\n      <td>21.883083</td>\n      <td>1.000000</td>\n      <td>0.000000</td>\n      <td>0.999900</td>\n      <td>0.999900</td>\n      <td></td>\n    </tr>\n    <tr>\n      <th>317637</th>\n      <td>384070</td>\n      <td>8.504931e+04</td>\n      <td>0.133332</td>\n      <td>6.270830e-06</td>\n      <td>4</td>\n      <td>8.504931e+04</td>\n      <td>0.133332</td>\n      <td>6.270830e-06</td>\n      <td>1.0</td>\n      <td>8.504931e+04</td>\n      <td>...</td>\n      <td>6.270830e-06</td>\n      <td>2.0</td>\n      <td>salient object subitizing</td>\n      <td>subitizing_salient</td>\n      <td>11.350987</td>\n      <td>1.000000</td>\n      <td>0.000000</td>\n      <td>0.133332</td>\n      <td>0.266665</td>\n      <td></td>\n    </tr>\n    <tr>\n      <th>317836</th>\n      <td>384325</td>\n      <td>1.012004e+04</td>\n      <td>0.031250</td>\n      <td>2.038030e-04</td>\n      <td>66</td>\n      <td>2.491075e+04</td>\n      <td>0.076922</td>\n      <td>2.038030e-04</td>\n      <td>2.0</td>\n      <td>1.199411e+04</td>\n      <td>...</td>\n      <td>2.038030e-04</td>\n      <td>22.0</td>\n      <td>datum sparsity problem</td>\n      <td>sparsity_problem</td>\n      <td>9.222273</td>\n      <td>2.076915</td>\n      <td>0.730884</td>\n      <td>0.153845</td>\n      <td>0.814812</td>\n      <td></td>\n    </tr>\n  </tbody>\n</table>\n<p>1112 rows × 21 columns</p>\n</div>"
     },
     "execution_count": 127,
     "metadata": {},
     "output_type": "execute_result"
    }
   ],
   "source": [
    "df_to_plot"
   ],
   "metadata": {
    "collapsed": false,
    "pycharm": {
     "name": "#%%\n"
    }
   }
  },
  {
   "cell_type": "code",
   "execution_count": 144,
   "outputs": [],
   "source": [
    "chosen_clusters = chosen_clusters[chosen_clusters['meme_score_BT'] < 520000]\n",
    "chosen_clusters = chosen_clusters[chosen_clusters['meme_score_A'] < 200000]"
   ],
   "metadata": {
    "collapsed": false,
    "pycharm": {
     "name": "#%%\n"
    }
   }
  },
  {
   "cell_type": "code",
   "execution_count": 146,
   "outputs": [],
   "source": [
    "df_to_plot = df_to_plot[df_to_plot['meme_score_BT'] < 520000]\n",
    "df_to_plot = df_to_plot[df_to_plot['meme_score_A'] < 200000]"
   ],
   "metadata": {
    "collapsed": false,
    "pycharm": {
     "name": "#%%\n"
    }
   }
  },
  {
   "cell_type": "code",
   "execution_count": 147,
   "outputs": [
    {
     "data": {
      "application/vnd.plotly.v1+json": {
       "data": [
        {
         "hovertemplate": "meme_score_BT=%{x}<br>meme_score_A=%{y}<br>chosen=%{text}<extra></extra>",
         "legendgroup": "",
         "marker": {
          "color": "#636efa",
          "symbol": "circle"
         },
         "mode": "markers+text",
         "name": "",
         "showlegend": false,
         "text": [
          " ",
          " ",
          " ",
          " ",
          " ",
          " ",
          " ",
          " ",
          " ",
          " ",
          " ",
          " ",
          " ",
          " ",
          " ",
          " ",
          " ",
          " ",
          " ",
          " ",
          " ",
          " ",
          " ",
          " ",
          " ",
          " ",
          " ",
          " ",
          " ",
          " ",
          " ",
          " ",
          " ",
          " ",
          " ",
          " ",
          " ",
          " ",
          " ",
          " ",
          " ",
          " ",
          " ",
          " ",
          " ",
          " ",
          " ",
          " ",
          " ",
          " ",
          " ",
          " ",
          " ",
          " ",
          " ",
          " ",
          " ",
          " ",
          " ",
          " ",
          " ",
          " ",
          " ",
          " ",
          " ",
          " ",
          " ",
          " ",
          " ",
          " ",
          " ",
          " ",
          " ",
          " ",
          " ",
          " ",
          " ",
          " ",
          " ",
          " ",
          " ",
          " ",
          " ",
          " ",
          " ",
          " ",
          " ",
          " ",
          " ",
          " ",
          " ",
          " ",
          " ",
          " ",
          " ",
          " ",
          " ",
          " ",
          " ",
          " ",
          " ",
          " ",
          " ",
          " ",
          " ",
          " ",
          " ",
          " ",
          " ",
          " ",
          " ",
          " ",
          " ",
          " ",
          " ",
          " ",
          " ",
          " ",
          " ",
          " ",
          " ",
          " ",
          " ",
          " ",
          " ",
          " ",
          " ",
          " ",
          " ",
          " ",
          " ",
          " ",
          " ",
          "large search space",
          " ",
          " ",
          " ",
          " ",
          " ",
          " ",
          " ",
          " ",
          " ",
          " ",
          " ",
          " ",
          " ",
          " ",
          " ",
          " ",
          " ",
          " ",
          " ",
          " ",
          " ",
          " ",
          " ",
          " ",
          " ",
          " ",
          " ",
          " ",
          " ",
          " ",
          " ",
          " ",
          "sensitive datum",
          " ",
          " ",
          " ",
          " ",
          " ",
          " ",
          " ",
          " ",
          " ",
          " ",
          " ",
          " ",
          " ",
          "transparency",
          " ",
          " ",
          " ",
          " ",
          " ",
          " ",
          " ",
          " ",
          " ",
          " ",
          " ",
          " ",
          " ",
          " ",
          " ",
          " ",
          " ",
          " ",
          " ",
          " ",
          " ",
          " ",
          " ",
          " ",
          " ",
          " ",
          " ",
          " ",
          " ",
          " ",
          " ",
          " ",
          " ",
          " ",
          " ",
          " ",
          " ",
          " ",
          " ",
          " ",
          " ",
          " ",
          " ",
          " ",
          " ",
          " ",
          " ",
          " ",
          " ",
          " ",
          " ",
          " ",
          " ",
          " ",
          " ",
          " ",
          " ",
          " ",
          " ",
          " ",
          " ",
          " ",
          " ",
          " ",
          " ",
          " ",
          " ",
          " ",
          " ",
          " ",
          " ",
          " ",
          " ",
          " ",
          " ",
          " ",
          " ",
          " ",
          " ",
          " ",
          " ",
          " ",
          " ",
          " ",
          " ",
          " ",
          " ",
          " ",
          " ",
          " ",
          " ",
          " ",
          " ",
          " ",
          " ",
          " ",
          "ethical issue",
          " ",
          " ",
          " ",
          " ",
          " ",
          " ",
          " ",
          " ",
          " ",
          " ",
          " ",
          " ",
          " ",
          " ",
          " ",
          " ",
          " ",
          " ",
          " ",
          " ",
          " ",
          " ",
          " ",
          " ",
          " ",
          " ",
          " ",
          " ",
          " ",
          " ",
          " ",
          " ",
          " ",
          " ",
          " ",
          " ",
          " ",
          " ",
          " ",
          " ",
          " ",
          " ",
          " ",
          " ",
          " ",
          " ",
          " ",
          " ",
          " ",
          " ",
          " ",
          " ",
          " ",
          " ",
          " ",
          " ",
          " ",
          " ",
          " ",
          " ",
          " ",
          " ",
          " ",
          " ",
          " ",
          " ",
          " ",
          " ",
          " ",
          " ",
          " ",
          " ",
          " ",
          " ",
          " ",
          " ",
          " ",
          " ",
          " ",
          " ",
          "fairness",
          " ",
          " ",
          " ",
          " ",
          " ",
          " ",
          " ",
          " ",
          " ",
          " ",
          " ",
          " ",
          " ",
          " ",
          " ",
          " ",
          " ",
          "vr application",
          " ",
          " ",
          " ",
          " ",
          " ",
          " ",
          " ",
          " ",
          " ",
          " ",
          " ",
          " ",
          " ",
          " ",
          " ",
          " ",
          " ",
          " ",
          " ",
          " ",
          " ",
          " ",
          " ",
          " ",
          " ",
          " ",
          " ",
          " ",
          " ",
          " ",
          " ",
          " ",
          " ",
          " ",
          " ",
          " ",
          " ",
          "privacy",
          " ",
          " ",
          " ",
          " ",
          " ",
          " ",
          " ",
          " ",
          " ",
          " ",
          " ",
          " ",
          " ",
          " ",
          " ",
          " ",
          " ",
          " ",
          " ",
          " ",
          " ",
          " ",
          " ",
          " ",
          " ",
          " ",
          " ",
          " ",
          " ",
          " ",
          " ",
          " ",
          " ",
          " ",
          " ",
          " ",
          " ",
          " ",
          " ",
          " ",
          " ",
          " ",
          " ",
          " ",
          " ",
          " ",
          " ",
          " ",
          " ",
          " ",
          " ",
          " ",
          " ",
          " ",
          " ",
          " ",
          " ",
          " ",
          " ",
          " ",
          " ",
          " ",
          " ",
          " ",
          " ",
          " ",
          " ",
          " ",
          " ",
          " ",
          " ",
          " ",
          " ",
          " ",
          " ",
          " ",
          " ",
          " ",
          " ",
          "several public dataset",
          " ",
          " ",
          " ",
          " ",
          " ",
          " ",
          " ",
          " ",
          " ",
          " ",
          " ",
          " ",
          " ",
          " ",
          " ",
          " ",
          " ",
          " ",
          " ",
          " ",
          " ",
          " ",
          " ",
          " ",
          " ",
          " ",
          " ",
          " ",
          " ",
          " ",
          " ",
          " ",
          " ",
          " ",
          " ",
          " ",
          " ",
          " ",
          " ",
          " ",
          " ",
          " ",
          " ",
          " ",
          " ",
          " ",
          " ",
          " ",
          " ",
          " ",
          " ",
          " ",
          " ",
          " ",
          " ",
          " ",
          " ",
          " ",
          " ",
          " ",
          " ",
          " ",
          " ",
          " ",
          " ",
          " ",
          " ",
          " ",
          " ",
          " ",
          " ",
          " ",
          " ",
          " ",
          " ",
          " ",
          " ",
          " ",
          " ",
          " ",
          " ",
          " ",
          " ",
          " ",
          " ",
          " ",
          " ",
          " ",
          " ",
          " ",
          " ",
          " ",
          " ",
          " ",
          " ",
          "package",
          " ",
          " ",
          " ",
          " ",
          " ",
          " ",
          " ",
          " ",
          " ",
          " ",
          " ",
          " ",
          " ",
          " ",
          " ",
          " ",
          " ",
          " ",
          " ",
          " ",
          " ",
          " ",
          " ",
          " ",
          " ",
          " ",
          " ",
          " ",
          " ",
          " ",
          " ",
          " ",
          " ",
          " ",
          " ",
          " ",
          " ",
          " ",
          " ",
          " ",
          " ",
          " ",
          " ",
          " ",
          " ",
          " ",
          " ",
          " ",
          " ",
          " ",
          " ",
          " ",
          " ",
          " ",
          " ",
          " ",
          " ",
          " ",
          " ",
          " ",
          " ",
          " ",
          " ",
          " ",
          " ",
          " ",
          " ",
          " ",
          " ",
          " ",
          " ",
          " ",
          " ",
          " ",
          "chatbot",
          " ",
          " ",
          " ",
          " ",
          " ",
          " ",
          " ",
          " ",
          " ",
          " ",
          " ",
          " ",
          " ",
          " ",
          " ",
          " ",
          " ",
          " ",
          " ",
          " ",
          " ",
          " ",
          " ",
          " ",
          " ",
          " ",
          " ",
          " ",
          " ",
          " ",
          " ",
          " ",
          " ",
          " ",
          " ",
          " ",
          " ",
          " ",
          " ",
          " ",
          " ",
          " ",
          " ",
          " ",
          " ",
          " ",
          " ",
          " ",
          " ",
          " ",
          " ",
          " ",
          " ",
          " ",
          " ",
          " ",
          " ",
          " ",
          " ",
          " ",
          " ",
          " ",
          " ",
          " ",
          " ",
          " ",
          " ",
          " ",
          " ",
          " ",
          " ",
          " ",
          " ",
          " ",
          " ",
          " ",
          " ",
          " ",
          " ",
          " ",
          " ",
          " ",
          " ",
          " ",
          " ",
          " ",
          " ",
          " ",
          " ",
          " ",
          " ",
          " ",
          " ",
          " ",
          " ",
          " ",
          " ",
          " ",
          " ",
          " ",
          " ",
          " ",
          " ",
          " ",
          " ",
          " ",
          " ",
          " ",
          " ",
          " ",
          " ",
          " ",
          " ",
          " ",
          " ",
          " ",
          " ",
          " ",
          " ",
          " ",
          " ",
          " ",
          " ",
          " ",
          " ",
          " ",
          " ",
          " ",
          " ",
          " ",
          " ",
          " ",
          " ",
          " ",
          " ",
          " ",
          " ",
          " ",
          " ",
          " ",
          " ",
          " ",
          " ",
          " ",
          "confidentiality",
          " ",
          " ",
          " ",
          " ",
          " ",
          " ",
          " ",
          " ",
          " ",
          " ",
          " ",
          " ",
          " ",
          " ",
          " ",
          " ",
          " ",
          " ",
          " ",
          " ",
          " ",
          " ",
          " ",
          " ",
          " ",
          " ",
          " ",
          " ",
          " ",
          " ",
          " ",
          " ",
          " ",
          " ",
          " ",
          " ",
          " ",
          " ",
          " ",
          " ",
          " ",
          " ",
          " ",
          " ",
          " ",
          "hate speech",
          " ",
          " ",
          " ",
          " ",
          " ",
          " ",
          " ",
          " ",
          " ",
          " ",
          " ",
          " ",
          " ",
          " ",
          " ",
          " ",
          " ",
          " ",
          " ",
          " ",
          " ",
          " ",
          " ",
          " ",
          " ",
          " ",
          " ",
          " ",
          " ",
          " ",
          " ",
          " ",
          " ",
          " ",
          " ",
          " ",
          " ",
          " ",
          " ",
          " ",
          " ",
          " ",
          " ",
          " ",
          " ",
          " ",
          " ",
          " ",
          "detection time",
          " ",
          " ",
          " ",
          " ",
          " ",
          " ",
          " ",
          " ",
          " ",
          " ",
          " ",
          " ",
          " ",
          " ",
          " ",
          " ",
          " ",
          " ",
          " ",
          " ",
          " ",
          " ",
          " ",
          " ",
          " ",
          " ",
          " ",
          " ",
          " ",
          " ",
          " ",
          " ",
          " ",
          " ",
          " ",
          " ",
          " ",
          " ",
          " ",
          " ",
          " ",
          " ",
          " ",
          " ",
          " ",
          " ",
          " ",
          " ",
          " ",
          " ",
          " ",
          " ",
          "recommender system",
          " ",
          " ",
          " ",
          " ",
          " ",
          " ",
          " ",
          " ",
          " ",
          " ",
          " ",
          " ",
          " ",
          " ",
          " ",
          " ",
          " ",
          " ",
          " ",
          " ",
          " ",
          " ",
          " ",
          " ",
          " ",
          " ",
          " ",
          " ",
          " ",
          " ",
          " ",
          " ",
          " ",
          " ",
          " ",
          " ",
          " ",
          " ",
          " ",
          " ",
          " ",
          " ",
          " ",
          " ",
          " ",
          " ",
          " ",
          " ",
          " ",
          " ",
          " ",
          " ",
          " ",
          " ",
          " ",
          " ",
          "image classification task",
          " ",
          " ",
          " ",
          " ",
          " ",
          " ",
          " ",
          " ",
          " ",
          " ",
          " ",
          " ",
          " ",
          " ",
          " ",
          " ",
          " ",
          " ",
          " ",
          " ",
          " ",
          " ",
          " ",
          " ",
          " ",
          " ",
          " ",
          "comparative analysis",
          " ",
          " ",
          " ",
          " ",
          " "
         ],
         "x": [
          7808.492425225777,
          9753.480254396087,
          95684.89416192027,
          161822.79477312157,
          10236.08224539311,
          82227.80754900014,
          159447.2804261215,
          121077.97302414046,
          54998.48017841268,
          53808.3818123471,
          364489.77219104994,
          75410.88554570935,
          21647.274729601275,
          9923.715787112196,
          14532.199496955789,
          53805.13724096387,
          21411.04010380073,
          109280.02219057613,
          21971.61584579773,
          25723.303315511923,
          172532.94301093195,
          48566.980178225116,
          20904.95581850013,
          63782.09695405494,
          193473.05509760676,
          46903.402522240154,
          94594.25645546592,
          35416.6882119568,
          3298.2032566167954,
          41895.90530342268,
          21649.33250998703,
          48395.12225388273,
          11216.164997895901,
          34491.335756572546,
          43854.3075606268,
          111910.41750811187,
          55752.971179812346,
          332780.5793774647,
          106703.6624247859,
          21533.719595290426,
          56165.020853507274,
          12913.426134898584,
          26966.0938070758,
          46795.54479897655,
          106314.56583634758,
          11738.803608256978,
          14955.71744632827,
          337684.74590871425,
          84336.26308453541,
          16815.4001607187,
          70109.51057376541,
          20311.810928921193,
          372080.09015268204,
          173954.266314284,
          12310.218416124497,
          82269.63622548108,
          19284.694858226558,
          43848.85243466359,
          29186.554726071452,
          46635.93227524238,
          215810.36500161528,
          160853.5566233868,
          49707.045818447485,
          76563.74128393672,
          14142.309745575933,
          16407.84497815812,
          26698.899469622866,
          56284.90731323854,
          20764.8227682325,
          37936.89856454134,
          8808.448050039404,
          20051.569644404353,
          21561.82434532891,
          3115.5986055367352,
          35827.069945536,
          38124.819375512096,
          217586.39135766664,
          46463.799435362744,
          166706.99900350976,
          327059.322296806,
          320921.66834023484,
          45768.68280349446,
          198655.50060991757,
          323339.98086397623,
          20158.983206870074,
          85053.83997422518,
          13696.64366243943,
          62440.14698249388,
          25430.91272090159,
          55733.11705567515,
          35800.54813703522,
          30997.84147941787,
          159469.21068332766,
          7964.050109475049,
          24225.996347273798,
          109976.58416536971,
          9579.315652219913,
          32602.249662959824,
          102061.83751767456,
          43493.47003604542,
          126407.55670699704,
          164776.71421066293,
          20311.058637519498,
          82339.92931885019,
          5120.713469976993,
          42617.98211955355,
          9568.721499362178,
          23246.57952086961,
          8208.206788200812,
          10386.165517248879,
          16889.750538179935,
          85431.8968434172,
          108041.8038665919,
          12034.310291058064,
          5850.184203154365,
          9906.135370615704,
          37303.01493090739,
          54595.18578358188,
          141977.92919923153,
          19566.43394533358,
          3788.301823833706,
          26435.624063084946,
          67333.6459315669,
          6026.10986096521,
          11292.59213540615,
          17541.87687646976,
          109991.71327688635,
          54557.72346215433,
          14080.902025392308,
          76657.66302809038,
          28302.812003254232,
          3767.3903258341998,
          52030.62885026647,
          405.26184238589707,
          328896.67628060334,
          2298.704581163168,
          55434.963627790356,
          8801.116297144268,
          18013.730248946995,
          39772.53555763064,
          86409.711675563,
          85073.67280366555,
          41345.21895426022,
          10123.763763946734,
          47631.455615781575,
          2454.5266944007994,
          17534.64071159799,
          179327.33806449253,
          54170.96675419659,
          118123.2685887578,
          44161.94259684903,
          176552.13426432887,
          49835.00618731954,
          10856.015635567015,
          14660.104366228072,
          11550.697431812658,
          40226.07551234759,
          7038.256997720457,
          6742.034079974643,
          110344.18519678165,
          53157.56360618573,
          10782.008660431227,
          14048.53268006095,
          7505.092812657707,
          49149.006325709895,
          2607.488932779604,
          325046.95634316513,
          1139.3875533342186,
          80828.71064771195,
          57944.42121667018,
          36325.39169254848,
          32962.58984979642,
          43025.49321365955,
          338863.1854465757,
          24446.38990130787,
          19654.998507104403,
          3376.4012507228176,
          110389.76192695834,
          21561.73713260452,
          5519.380210325521,
          9486.2975940276,
          390662.68209991907,
          127968.52200864961,
          104797.81307388526,
          64251.26480915247,
          16395.015731257576,
          37515.63525879451,
          336385.2295018881,
          46238.145048286184,
          13215.195459363853,
          9289.504449845725,
          6841.633485546753,
          71950.70661082755,
          340618.3466216919,
          5072.378373830336,
          30068.22135777158,
          179407.16199649574,
          65809.94443879275,
          73900.33134016568,
          119202.30867274824,
          170103.4274690756,
          55950.52741335054,
          56817.45310283876,
          18054.378599170326,
          106316.89910162686,
          44770.88229595001,
          100635.3639298814,
          28703.623872384454,
          12343.521175684033,
          16925.37042056854,
          26822.503931264826,
          169138.07603852247,
          54768.97173667947,
          141752.7719243686,
          162695.03600934887,
          162659.61173492382,
          65739.87121335683,
          88417.68336765433,
          169011.15261679873,
          321699.0982508113,
          56105.13335234372,
          1661.559340623704,
          121163.17649551784,
          24917.690262675147,
          3295.535667434165,
          23155.27206256203,
          43663.78795760884,
          22477.1097484314,
          35139.788750553336,
          11568.271383870731,
          59409.5998274833,
          161809.0452819767,
          163138.53713977776,
          180592.9024072528,
          329549.1072251976,
          322536.4841703358,
          47201.37551977522,
          3446.193660900234,
          106719.89185051761,
          13157.626873420106,
          323007.4005923749,
          51670.608125040955,
          11666.995418972241,
          23992.651923300782,
          32485.568699139756,
          20715.55540547994,
          40250.97900032831,
          36526.56360643427,
          5801.031329120892,
          6480.175762683354,
          324412.34813864355,
          9155.117562278454,
          2398.5234862902944,
          12528.392868915686,
          130469.08925474978,
          192317.68812171672,
          21888.583822000757,
          7676.853894199973,
          23454.4348353405,
          35487.96182698322,
          28981.5305740923,
          73668.96436469663,
          80614.37713049944,
          5044.482708346454,
          15949.56743314314,
          32602.849694820456,
          85487.11134700512,
          4736.2736442896685,
          10105.06810524768,
          54525.152017959954,
          16008.261802794095,
          49359.12420249831,
          9797.56510768975,
          11043.215398087392,
          322387.29135072354,
          6356.4354930406935,
          348826.5272647425,
          211203.03545202088,
          6680.37016388043,
          32672.15051742502,
          8814.415141129008,
          115176.64542166945,
          22591.433200129857,
          8504.424348414284,
          109162.64371817418,
          40426.07185116018,
          166447.79862317737,
          41675.2246527805,
          32861.98698687535,
          14327.171965392967,
          21681.934221467607,
          20032.72305692033,
          334116.7115282605,
          61723.25663022283,
          5508.461937583802,
          82989.58754824541,
          3493.339907465935,
          46701.2910984458,
          30713.48499540014,
          12596.051733564065,
          18202.007269584406,
          7639.13968068947,
          70876.9005822615,
          125297.93696487845,
          42616.30311358757,
          40144.1604592472,
          37777.69254962973,
          340181.31387306604,
          30123.259893905873,
          7972.95762262464,
          21459.702958916336,
          81587.07293221714,
          4363.70371069656,
          18077.676731391428,
          136761.8967626206,
          21700.660266071576,
          160356.32190574997,
          19803.8054189332,
          112905.82582420917,
          4610.576715874111,
          54922.209775184056,
          52326.98110886713,
          327537.0740036433,
          26641.330196290084,
          8186.389103759101,
          37794.82791410512,
          200811.18025112423,
          125076.66367493889,
          45012.74813762333,
          83149.84647682948,
          49758.977799666915,
          116154.41254257428,
          5893.538911466318,
          58585.651155547326,
          325621.621461871,
          39962.811108344074,
          14170.117059210927,
          69268.90017057757,
          1227.5316999236777,
          122628.59649871962,
          23499.57343683803,
          28530.116897963126,
          27205.31312148772,
          332783.70948562596,
          21567.408464039192,
          6538.753615669177,
          3347.6329644191446,
          48834.526692012514,
          48533.22783912503,
          13418.65083246448,
          241780.3846709454,
          166601.061407773,
          47578.666336374015,
          174639.29357567575,
          35786.4844993021,
          29583.986668400827,
          53287.061869598714,
          35985.05510460828,
          258549.7984519875,
          5301.695725321713,
          19847.586344973544,
          13770.01272375948,
          71330.27164135172,
          9539.70994004817,
          197280.02105144635,
          15412.970874899533,
          5480.038478916069,
          22576.824664452735,
          26987.480550939643,
          1949.3243584617535,
          326538.4171372546,
          14773.792490087191,
          27978.04065699203,
          104690.688265229,
          83722.38834413438,
          33827.79535014586,
          323710.5811163604,
          6903.836859066271,
          3907.279752610637,
          11637.17433601394,
          52073.77748960769,
          154714.2553307094,
          323218.1218527351,
          8508.367597823892,
          13592.540195621408,
          12396.836754802494,
          167862.3023549061,
          5826.7284656961,
          83281.92225576253,
          13447.990125152479,
          15374.035436815275,
          85887.20186113704,
          141753.03496758116,
          29895.12465881297,
          276418.9624897276,
          34338.03930270293,
          8783.167599942075,
          12284.361444144202,
          86510.5192409575,
          39842.06770966467,
          16259.028259849334,
          21374.80413753789,
          10980.388346730384,
          21685.743131862575,
          44855.64834332263,
          11449.867750363594,
          10440.874063859761,
          22427.504252061655,
          18804.05748197733,
          24679.322788486457,
          97729.19980429311,
          46257.15161804829,
          28313.958576899007,
          60518.11790095871,
          287572.10364220385,
          178612.13549913518,
          173150.3463558106,
          16887.153710371655,
          82184.75509479719,
          36019.298653061276,
          37939.78818267459,
          11927.709407108425,
          17701.4267219768,
          25741.024814044868,
          48449.298738789585,
          31376.68532070903,
          80745.47411315635,
          21581.8962529272,
          3717.2192528649834,
          40882.56818838565,
          10894.594777821774,
          11535.954674635535,
          22895.129492328648,
          80658.19826809176,
          140982.09965527485,
          11966.528429605281,
          49627.5264086412,
          7639.642021176994,
          2080.2198686076613,
          64792.26001750314,
          2295.8131504854273,
          17973.533077808075,
          62961.00360091903,
          17002.059391822644,
          35835.14223817818,
          7816.382403522632,
          17893.043998009172,
          49707.045818447485,
          4566.373997709576,
          38831.48039057264,
          6801.013660665104,
          32868.733755881694,
          18599.208470707763,
          7411.897362978498,
          13358.76205444348,
          81009.6459321013,
          38324.77015156638,
          166925.09313533903,
          36704.94521522085,
          17416.550799779983,
          13775.864228656937,
          14096.43556816651,
          161317.2157631638,
          9221.870618713785,
          4857.046797734015,
          11525.139577939175,
          17790.078641295655,
          5469.421041434826,
          9379.28670843244,
          4989.89563955717,
          13127.052847831226,
          337958.55053099705,
          18082.63348192104,
          9510.964479390179,
          5569.877505540895,
          150433.84248075477,
          1829.6602660559151,
          174105.01139673448,
          33886.87365532029,
          368684.248568916,
          7058.00486108885,
          13497.700852192307,
          44696.84752340221,
          112004.17479785623,
          33826.84082927761,
          20364.012865986515,
          94419.31855196155,
          3822.688727899995,
          64954.31824815074,
          82044.59410593369,
          30373.64432835524,
          47635.68739175459,
          7388.638418568514,
          110273.67135710857,
          2758.791286016127,
          43642.90528357451,
          46209.04510645065,
          107152.8885826455,
          106680.18260598896,
          23975.860261716065,
          10596.444759378795,
          58737.032117290604,
          7468.432557309296,
          51853.47306718941,
          8051.996929321644,
          1385.6600852197528,
          20128.523555706903,
          46150.648415144075,
          44049.305355339675,
          4005.169853922098,
          160989.41660956852,
          41360.871208472905,
          81084.25009317313,
          35921.77169081954,
          18757.481085752912,
          27009.236822716175,
          20947.574939296846,
          165416.55034672428,
          40283.04637027424,
          26044.040630777625,
          9141.052820800534,
          88354.39924662984,
          18935.55984165807,
          9367.188229227808,
          23832.496852784523,
          2571.642750805509,
          49018.21179172782,
          77005.77112809595,
          22169.56641924557,
          10974.116167089569,
          43891.76968434196,
          11037.453445276724,
          12926.851283711982,
          25011.508030317138,
          48015.10959983797,
          53289.2652359585,
          2086.4025997558506,
          2085.2830406194307,
          68517.91930614338,
          26857.537887271435,
          6435.148261913993,
          107835.63008890738,
          39336.68355344359,
          22167.54406511365,
          162532.59309159633,
          29955.405099279393,
          22147.393279828655,
          40582.325312896886,
          72524.66748735521,
          8784.16286709581,
          5164.071520314871,
          255971.0658132358,
          45869.51162788536,
          38287.238624888865,
          7418.944582217132,
          9508.458904015808,
          3450.426415329727,
          45564.01581960599,
          73475.07785264992,
          40369.93670890662,
          2220.3207602750103,
          196.40223502416737,
          3108.3690298342162,
          30824.164761211814,
          160841.1684225253,
          53712.997952863436,
          61452.743641734705,
          18633.89354433141,
          32361.353333624695,
          33157.61910860757,
          4366.848952121974,
          1669.6785703299859,
          8576.16038825716,
          4978.542704424915,
          112750.27783319484,
          74409.96498480906,
          100784.66557567593,
          15130.246549099955,
          8339.949660746948,
          9757.830980085278,
          11975.391195106768,
          343936.0104863943,
          4783.94592310063,
          15219.44602188077,
          9373.735585704633,
          54766.52049882507,
          6812.519959833029,
          30427.860723434867,
          64324.34796011388,
          46790.2189592512,
          322129.54115169315,
          24856.744618172852,
          37781.90161942196,
          9416.404863157062,
          3937.577690294786,
          21270.092544560728,
          110570.05873773112,
          46047.2369971345,
          20290.601094923015,
          151976.54350134596,
          69589.90284835533,
          4532.87795408758,
          283510.0844953978,
          80464.93924698513,
          26436.222865212792,
          2843.2850877654446,
          74862.2609648171,
          59275.86557871022,
          23087.247765833592,
          36588.773260815055,
          35583.61808431606,
          7538.132717644425,
          24421.235091018272,
          25257.957386719987,
          64333.04049405005,
          10015.71468203431,
          40448.06140872232,
          82228.88640671568,
          49689.404441036655,
          10777.390940905205,
          11912.163707227935,
          13623.801645981628,
          23297.72707378246,
          30416.24849913196,
          81388.28797860556,
          65562.3862999463,
          13486.113377012263,
          338.5671121458697,
          64482.212024344655,
          4342.463625199664,
          10971.560789390918,
          10771.452690125097,
          62718.707524879006,
          27807.759710993447,
          25636.00834093135,
          10795.616541512798,
          21825.04379272903,
          337132.5806582372,
          28585.592556075062,
          59124.05340321329,
          48409.297614404575,
          8111.75767056266,
          8397.962805567915,
          27626.684519185335,
          7919.8315637289015,
          3327.1377926009964,
          18878.007617678,
          3919.8720263603955,
          85532.95618455992,
          7203.532231304305,
          24482.812309855042,
          59795.65999214088,
          4783.187742039354,
          99968.95005872248,
          83303.53936954269,
          7067.617400237339,
          2778.3471772412777,
          6895.314252699589,
          43502.55563895313,
          9150.465569611575,
          23533.12983568407,
          34141.36752708133,
          14544.586184606243,
          24744.96750959414,
          1975.0093373482782,
          83346.4215216575,
          15352.596236548494,
          36180.9138029125,
          8405.92329873823,
          19344.349929163265,
          36208.362452402886,
          6153.364357884784,
          3377.019149051033,
          22325.469542444494,
          7796.204519834761,
          329926.559311131,
          236798.7743237769,
          37423.428877233804,
          225067.89482189977,
          23118.656095233353,
          13758.500159691897,
          39023.91511926818,
          329218.1452207456,
          36572.932057024045,
          124080.94576150045,
          18353.45238759932,
          81891.73030559138,
          60731.57576467387,
          111372.97903512321,
          111380.01093745952,
          143835.0064872289,
          10769.188509273974,
          21561.563493182875,
          13736.742122655987,
          75310.28566718078,
          18020.45837682103,
          18208.011772117552,
          50096.504540981085,
          24761.323621732972,
          14719.500113025202,
          97363.87587507833,
          53683.04115338595,
          41345.47820931858,
          7171.431485366383,
          102117.5155653928,
          14964.468995329164,
          32414.14041500933,
          32518.823511290448,
          50367.04618682834,
          43536.96648550764,
          148839.48218194293,
          1466.707584117599,
          23592.489458134318,
          4988.832750800829,
          160760.16376948424,
          21837.813417931262,
          10923.395714048389,
          11518.560128037987,
          163225.12501966173,
          12320.566082597521,
          53461.82748521009,
          13771.722526374602,
          123802.95308944823,
          16538.250479845938,
          92622.26666876557,
          54735.06725576952,
          478.51010032918117,
          29437.01823793322,
          67485.8430467551,
          14134.481549944747,
          47657.73599834743,
          39680.80138740365,
          14217.185845607188,
          8889.84727963586,
          60957.838624143435,
          80487.57796800212,
          9791.143796215843,
          8499.792150609568,
          92927.36610194168,
          27436.042948812432,
          94406.88232830432,
          13403.997454528466,
          3023.196338101311,
          3978.175401628874,
          30960.63368940371,
          33235.04331427994,
          7825.479904758266,
          9968.10825272488,
          6961.023762039093,
          1564.4429184602914,
          3156.667854769389,
          39414.2173735086,
          4705.2403964627065,
          46464.616720899874,
          64752.36707719126,
          129698.30154122054,
          5720.72289989787,
          124813.37618408428,
          37113.329439766116,
          32058.013874053813,
          9064.11568909342,
          26366.27213281327,
          47822.23445017444,
          150471.24692354578,
          36431.159929246845,
          2798.5666294791845,
          5320.745191021328,
          40915.8951417273,
          107622.87922839182,
          3776.0825434172684,
          322346.9886503572,
          22181.62401595003,
          5565.645298087397,
          44152.62584986877,
          14284.692590912355,
          17396.61576463596,
          4890.376870213072,
          47961.01731485242,
          10083.575918417855,
          160483.30469495754,
          87045.23473358841,
          6808.582878583412,
          37717.300437159116,
          7384.803402106725,
          35295.969058676455,
          21382.838187071167,
          12546.735350267541,
          50434.43250908114,
          20161.652441906874,
          11406.412582154118,
          29586.21982817286,
          20475.59678235354,
          76387.87203740768,
          121853.90490509337,
          147.71895672355697,
          3781.2832695313577,
          36696.95871083629,
          9553.278886378368,
          35169.72622648395,
          126554.80003627679,
          142643.15688709423,
          328596.7506412682,
          2140.07359519227,
          139619.93532160725,
          4929.439974105691,
          34373.4818377641,
          18420.361766356003,
          19236.597884172716,
          40338.775111392504,
          17100.55314939486,
          326153.85156850977,
          9805.520388268736,
          29923.28434816379,
          328008.51718664094,
          55300.13865032183,
          40333.23671996309,
          6332.819912806648,
          106827.44074394015,
          7351.5156492688575,
          10005.13753625819,
          176631.56148491064,
          21172.977292150845,
          46648.86650246316,
          85871.84650773498,
          123460.43614691454,
          63016.54968332358,
          23196.446688163487,
          160901.18776718885,
          78840.86294032735,
          245347.62677804302,
          6994.366261639868,
          32008.15833792942,
          23176.941521990666,
          21254.770679085177,
          182935.71840284305,
          48896.42653330119,
          191361.40457031864,
          81002.29083429123,
          2014.4641554792317,
          36216.89351742431,
          323339.1916186676,
          352489.89572545525,
          42633.92277074916,
          58035.08170045305,
          35063.557160358214,
          26759.77573490119,
          201978.86115707512,
          17945.143685428186,
          18159.819577746046,
          8093.496681742657,
          9840.52480598807,
          40228.808732263846,
          43028.982324803634,
          326178.7999236035,
          54552.59553008741,
          42267.676915158976,
          517000.033872648,
          1165.6624025929261,
          10663.509161925418,
          15103.138482797618,
          15949.93078727586,
          42520.66231311855,
          54840.3053499346,
          28489.464330115094,
          173394.2582044301,
          87711.48010376851,
          54019.83113600234,
          92494.84385945159,
          15985.493905317584,
          14278.681426936873,
          11067.776968023418,
          121498.21435098413,
          14298.967303913085,
          43132.14834906776,
          32114.981724500343,
          81185.4200712006,
          35538.13106803854,
          93026.60745620426,
          7806.023742509673,
          52107.09911055864,
          22555.18203970314,
          15338.167771568242,
          366399.68687742535,
          16074.488448978254,
          17940.454796544785,
          17385.32011087088,
          66065.41418837517,
          164930.60141362346,
          25527.012389769596,
          31065.469724123606,
          486.2407387563803,
          164164.4707318194,
          83060.59824994058,
          21532.460475044667,
          9987.820945109706,
          9014.398653400265,
          37245.2281279969,
          37126.91333909373,
          36243.94674550457,
          30497.95233272077,
          12026.1315765662,
          49362.961331869956,
          18076.342534049858,
          9323.797697990789,
          62284.75866361694,
          130712.9537855788,
          36347.76505516883,
          37501.34731254056,
          350816.96415335545,
          175420.77472080634,
          25515.559589675537,
          138769.94960464825,
          20168.00313582764,
          44617.63160475807,
          12203.670270313338,
          39957.00966862685,
          630.8126669654908,
          56955.083904934065,
          43855.60075725101,
          27148.562199970074,
          8860.018484337548,
          29348.386993356406,
          37406.140974665286,
          27262.774208806182,
          99227.979583029,
          16169.002768944,
          6489.397010032871,
          5173.5181293497335,
          99711.79983774624,
          3342.14533787667,
          153097.64708796784,
          25703.013229662964,
          3802.882726012577,
          122672.27499059723,
          315787.13942971634,
          80734.37762037702,
          53806.886324995125,
          20708.42334036974,
          10071.416189251444,
          36800.37689871724,
          31893.492701449086,
          10796.393229212057,
          127569.89139789247,
          147194.14825542318,
          21358.377276334504,
          5109.187921313324,
          55564.2499865201,
          179407.16199649574,
          10405.629394715044,
          178612.13549913518,
          5766.614013628063,
          27922.074170308308,
          28494.574194827517,
          16935.496705667632,
          170104.49407530087,
          32971.383280965805,
          162450.2659285976,
          12928.953746636464,
          122542.82380033082,
          52570.44954213875,
          25772.79750477188,
          13934.547084465969,
          107181.11648551915,
          39686.09273709574,
          127569.89139789247,
          317.73562915551037,
          79730.53024068476,
          56692.72162575176,
          32062.509591236376,
          127569.89139789247,
          116948.76555117652,
          49064.71608514106,
          4350.107651656994,
          34806.1082222163,
          57984.947062152365,
          36079.070799369096,
          36885.35163195393,
          4009.927073601733,
          26068.074057810347,
          27731.454105775287,
          75938.35488184089,
          79736.66183534909,
          7667.976248285464,
          79731.03018444046,
          32352.926960588564,
          26934.687095813955,
          16633.053533102506,
          70876.9005822615,
          6869.753528698299,
          6880.800612143402,
          25880.53542488196,
          11808.1420765143,
          8335.351240031667,
          8272.70194397047,
          37606.84442193399,
          11219.276192581536,
          1354.872130354564,
          9740.269722153416,
          12188.103807178975,
          132893.90901546433,
          49064.71608514106,
          30372.72285266652,
          73610.21763116015,
          3453.946308146613,
          20672.225806956867,
          317.73562915551037,
          48601.03884598599,
          12508.802728381905,
          18488.868538505958,
          20822.73006779175,
          6740.637499693156,
          42525.35723367809,
          11370.316044832041,
          358794.1280121524,
          48988.10472110464,
          161041.68733267466,
          23625.57999534634,
          63784.5836520137,
          11777.853019332984,
          42522.53091502072,
          45796.54165005879,
          39864.76435637166,
          34592.41908500803,
          28732.852816240695,
          21781.957764258048,
          182251.71231688553,
          5070.070815651337,
          11143.633969554943,
          14832.203217616754,
          9098.414355150244,
          62018.3216137189,
          9540.427643932471,
          25244.127364496755,
          173967.90187217668,
          12878.524572710856,
          39868.35461012156,
          21785.51627961719,
          10410.120348352468,
          31893.492701449086,
          23148.58094134028,
          30046.164478718976,
          159469.21068332766,
          106308.26389203216,
          322124.3393837474,
          31771.357748258306,
          9385.195252945128,
          25511.24999282059,
          85049.3138705309,
          24910.747576946498
         ],
         "xaxis": "x",
         "y": [
          5503.0589558089305,
          23408.380984259762,
          95684.89416192027,
          13210.340833773918,
          15023.940587494577,
          22091.58856441748,
          38672.15478535893,
          69704.30313758404,
          37078.20338611911,
          13294.04925047601,
          121504.6902330819,
          40807.95245231743,
          17711.433432362246,
          17267.189057345724,
          6596.87806093416,
          16141.729489327921,
          5818.255153595466,
          11051.14470345362,
          14980.678944575275,
          64607.455503513105,
          63904.04837688842,
          15418.15991759559,
          3028.297053524454,
          72702.41949956882,
          148832.48664774833,
          41966.22824186897,
          64849.419521736934,
          71957.82638131935,
          7017.45577801729,
          71821.93670429036,
          11875.175455738821,
          2754.2310558235686,
          10070.347331324498,
          18723.913031918597,
          31894.295563726573,
          83933.51255370778,
          22747.397251986,
          16640.60966872178,
          3766.1327179685695,
          20743.610612368346,
          45953.75588608175,
          7191.886381627385,
          12445.945296144644,
          23397.939525240232,
          56701.4325336074,
          46955.04673703133,
          12858.294883583136,
          92104.21206624625,
          67470.24739124074,
          13116.019524121857,
          5465.542270112367,
          12310.217585186889,
          74421.97119291562,
          10543.177992042432,
          4895.860017481122,
          29916.924866095414,
          14410.610144794886,
          24879.330884726147,
          9001.534222180871,
          12166.061618095548,
          140537.889475009,
          17873.411736736798,
          49707.045818447485,
          147088.78592553176,
          21363.882380291467,
          10985.819642287364,
          6964.985309254677,
          30701.091114641007,
          19543.36979041281,
          46559.33247025282,
          8754.123619781029,
          9101.47211150727,
          16748.969964225682,
          3961.8127885150375,
          3169.0135920538455,
          38124.819375512096,
          31999.002585883936,
          25019.230112767473,
          32528.928793536565,
          12580.438431042852,
          18879.521914992787,
          11650.35541727166,
          82774.26337749131,
          12934.840855119086,
          7011.8488265947635,
          56703.03249627475,
          6746.498270573656,
          33388.391306087884,
          19796.583170749996,
          42280.48198968522,
          6855.485696586402,
          52149.72251504032,
          159469.21068332766,
          14310.792101956737,
          26601.13687319441,
          43035.56290901245,
          6031.427536375716,
          24149.845870354653,
          127578.7852864871,
          43493.47003604542,
          156624.57339517528,
          11364.156235910787,
          38232.70746923399,
          35289.360333463614,
          25820.848128410715,
          1858.347357624819,
          8955.342702452805,
          14793.316300840752,
          84305.9012946083,
          9756.702847908551,
          3717.067474496797,
          28477.773565499712,
          28811.56385785534,
          12911.001535724614,
          3007.1066867405766,
          8835.204711442815,
          15260.424483509603,
          29779.417843480485,
          91707.62399209941,
          40996.44688408827,
          3745.736682627868,
          25240.401326360243,
          30606.536578979074,
          6530.293384849176,
          17388.64546622724,
          29236.36400672351,
          25881.21505659689,
          36372.01770483353,
          14685.634136831206,
          35380.76225543607,
          8804.942420806638,
          3526.9187308190358,
          21568.894628311555,
          13348.802433811808,
          65784.59749769632,
          2282.9600400213258,
          33261.08904604713,
          9828.232925082943,
          16731.65771653634,
          25495.2974701384,
          23720.60176106005,
          67352.24593379565,
          23625.96596852717,
          5694.624037750861,
          3566.014893930558,
          3556.89220211777,
          14684.393252770604,
          19494.959083202193,
          16177.882271585802,
          16875.234789031114,
          21235.55395044231,
          40743.662078457884,
          33223.47588763219,
          7125.267954732071,
          21958.112059531366,
          10838.458883311041,
          6071.88694743135,
          8832.322867740571,
          5886.151813724149,
          72729.21846466082,
          53157.56360618573,
          5217.109940367884,
          8772.404669659394,
          10152.97834843156,
          19680.492931705532,
          14274.580659481968,
          7473.082468613243,
          1100.3674450077415,
          13565.817815220278,
          44038.4647283616,
          36325.39169254848,
          34438.56988537066,
          30978.406200941445,
          32274.144276060404,
          58800.751878851166,
          12047.504135768504,
          115356.58712014642,
          12497.347165649413,
          13618.015693153211,
          5435.753364149144,
          24901.596032048656,
          130233.3734836535,
          75410.43812061456,
          64515.37557422412,
          6983.9576255756665,
          20052.301425168727,
          57754.93694549929,
          42052.18328567444,
          11559.680756016796,
          7970.75561334179,
          9289.522144123064,
          25106.09690854281,
          13215.555775765944,
          34642.55909291889,
          4386.922763117604,
          13781.335984334362,
          179407.16199649574,
          10614.685216770513,
          74953.4151601352,
          79468.6472669589,
          56703.03249627475,
          7807.162298060808,
          35183.26399697016,
          15699.539286354247,
          106316.89910162686,
          41039.99098333465,
          90199.47387405463,
          11256.35489573137,
          12754.949937575668,
          10049.475876689077,
          12622.447602524742,
          112760.59660832932,
          25278.2138073746,
          141752.7719243686,
          54232.582523562014,
          29575.684714777246,
          21825.540260009766,
          28294.32829334527,
          45450.63049622036,
          35747.52148983193,
          42079.463662875394,
          6512.026037514124,
          91274.18223950811,
          27477.399451660316,
          4868.406230477435,
          16208.725176527856,
          25875.064910105255,
          20433.810439207504,
          15861.76019136899,
          9388.749768059553,
          54840.33367946778,
          13484.747264574999,
          3794.1047525906315,
          7054.760215030121,
          15947.506274716883,
          13006.793454954992,
          41666.755619473566,
          4831.600915020965,
          7623.094437762285,
          22432.724829737002,
          23074.099565891254,
          2878.2757128448743,
          12595.718749472797,
          9438.860532913995,
          32485.568699139756,
          36827.475032857365,
          13417.142077602388,
          19923.741147103734,
          12494.545988677466,
          1760.9198916291025,
          30899.356610059705,
          5703.193648507748,
          2365.6670226811557,
          15150.637669730751,
          40772.278410547115,
          35935.22868792881,
          19313.471461249846,
          18179.77364293444,
          31392.943036275727,
          2172.7557591921345,
          22375.474185590203,
          118620.50403579528,
          13919.367106629887,
          10833.802871043337,
          14044.811033702363,
          13698.80181752679,
          77214.88118441924,
          7078.3948014464895,
          9798.854848159133,
          17218.72582449653,
          48754.46324685838,
          34299.27887462275,
          22006.99513589308,
          4779.9085503764045,
          21494.49204204363,
          6789.082221184694,
          130821.39345163273,
          83081.2034244371,
          26282.658674984417,
          29702.11702576824,
          12662.434447075293,
          86383.20390229009,
          27804.90770000098,
          8504.424348414284,
          32749.77557597085,
          7350.270054305935,
          62141.98214279717,
          29768.371990079995,
          2416.344959065855,
          11939.327274496052,
          12239.876594733303,
          6608.76787102345,
          83535.442413793,
          61723.25663022283,
          11029.402657272187,
          39054.67016685037,
          10493.985173714278,
          13076.49600674519,
          9131.112919461568,
          1850.2699991426696,
          27303.046829343693,
          6378.620250692337,
          70876.9005822615,
          37589.31844112155,
          26225.644250523033,
          32424.15098023021,
          10325.150234886749,
          24300.92156516406,
          29847.069474805914,
          7972.95762262464,
          11361.081587693694,
          11655.545888627603,
          7346.609722743573,
          15612.550200413192,
          70832.01059642158,
          6307.943565305224,
          6849.56100843344,
          16339.789949501735,
          126391.23704206564,
          10866.690993331633,
          5681.692805220712,
          80502.83112248778,
          36396.44532097529,
          1594.5064676467696,
          8040.991297960971,
          13892.853052098859,
          155179.85792163078,
          93808.2794658094,
          44828.46140420514,
          37357.630831977585,
          55339.767470231265,
          91129.33467706703,
          10524.188928596106,
          43273.62608511125,
          26052.230480999457,
          16914.943520897617,
          39844.72198640225,
          54016.15797887858,
          1147.7366775686667,
          91971.7178775011,
          23499.57343683803,
          5084.331177122738,
          13720.392954555682,
          22187.651272763153,
          7998.925956281606,
          1357.6247681384511,
          7589.673555381831,
          44986.57246290808,
          46511.018438367326,
          16729.794472694488,
          177186.92259888828,
          44658.14136255457,
          55509.10487233987,
          8316.552843462496,
          10980.05986844901,
          47486.86183554104,
          50319.175630756836,
          20760.71074276425,
          199608.47291870604,
          10276.546830823363,
          22894.167994795014,
          14290.410823572316,
          27030.51712740581,
          17485.22935344933,
          164482.58293308798,
          7615.848208883935,
          20177.619518906966,
          27626.49872852198,
          33413.16907160161,
          3433.8640528450906,
          32986.94354641747,
          7104.338872203742,
          23981.206254810328,
          107058.05929019205,
          20930.98953227617,
          124032.2428022864,
          16187.066673390234,
          27738.284445777696,
          3884.6943335697774,
          15238.162112125532,
          52073.77748960769,
          76167.07209330353,
          43682.374326680256,
          22598.453793362394,
          5070.810698268033,
          12692.579732528398,
          27978.2160932032,
          35988.65933353398,
          34701.59616493254,
          22601.735489487794,
          7234.872630605189,
          36087.49553095158,
          86627.16095726631,
          33276.403602795144,
          86382.11350834601,
          37842.37395603729,
          10164.31306030012,
          13812.814281204299,
          43255.346517069884,
          18445.44134081951,
          15484.79250574105,
          1776.3108627586644,
          47726.95824429806,
          15102.57698751692,
          40738.565731880844,
          8014.911718949555,
          15909.915173102861,
          30236.759972850443,
          20305.79644911055,
          9663.658762332154,
          74994.22625728406,
          69833.54310435748,
          20564.95376574649,
          20803.273573221588,
          153228.77761323878,
          178612.13549913518,
          107869.45497878901,
          18038.56343701802,
          22935.5405133443,
          11526.298514797702,
          30801.688408960046,
          11470.437753526185,
          15855.282508771978,
          16500.712357328055,
          53783.91040555607,
          21666.27584828461,
          21532.521183194563,
          13362.166212742997,
          7442.21783523137,
          68019.59495598343,
          5740.8704558104455,
          8920.671003920072,
          26574.706795317285,
          12098.8154394423,
          84348.56213253114,
          27961.41286987061,
          39476.91569031993,
          4974.6586065225665,
          25273.646446251136,
          28669.68961209038,
          1823.8962650616927,
          9130.044541008878,
          43285.54241262417,
          19138.602486962114,
          20306.64829021124,
          7816.382403522632,
          6539.600688371424,
          49707.045818447485,
          6777.969982758466,
          15608.682647973808,
          22589.125626686928,
          55586.90733693832,
          18795.48702174693,
          13515.088643452389,
          19272.34314331597,
          54634.55841496706,
          25586.81246084769,
          44941.889782529935,
          33034.487398276935,
          15538.30375427027,
          8035.931410859862,
          6295.50156430051,
          10242.858765237008,
          16728.065450278187,
          15694.764001795334,
          20603.673420058287,
          4803.345516595031,
          11459.601522690624,
          9872.738325573733,
          4644.275692259855,
          9535.70622317779,
          79527.14310764057,
          12764.257753923106,
          5301.206735500749,
          8672.575254191563,
          87104.66855330722,
          6957.228496358718,
          67710.85219014491,
          30538.893572034758,
          124248.70626075329,
          15816.746981066977,
          14724.792453776268,
          31784.75157806049,
          19311.686125133678,
          17718.89809125369,
          9178.191080211742,
          32856.379386153574,
          3822.6917617787335,
          40416.250389947876,
          65491.816944761566,
          26613.806917360507,
          33345.12407986133,
          13956.26912372809,
          47260.84814204169,
          10673.359663596846,
          26077.918231834818,
          12206.227014568269,
          6429.374761986372,
          64008.96298798574,
          68782.47962083158,
          8146.787895320202,
          18286.188903230603,
          3734.220620761551,
          40761.94841557594,
          1191.4203797480125,
          2028.7059430880383,
          4821.231935913582,
          3106.335032089873,
          29733.33232214615,
          5006.467010959578,
          30666.037986561776,
          20581.56698395705,
          21268.52300783167,
          3716.0649241877854,
          11211.376678960827,
          21923.88660987698,
          18766.759250818188,
          39100.37673175099,
          19913.95830417156,
          19226.007057213432,
          2962.3839499528312,
          58698.55201076571,
          4922.114868835994,
          6683.917293932254,
          11838.018500252181,
          4604.870013620813,
          18605.25158412101,
          75465.78069177603,
          31975.381274940286,
          20008.112739536286,
          48083.98282105852,
          4777.419913774204,
          15996.037105534722,
          74821.27216201395,
          17878.011171084167,
          94996.24272793114,
          3078.7558984282964,
          2079.030318171432,
          93279.76580867273,
          12891.712724329114,
          5579.618403724264,
          16590.607399967234,
          39828.60092026884,
          27709.499354678625,
          18875.2124373831,
          12914.117599899277,
          8858.99053293833,
          56378.98477099278,
          62140.286699277734,
          9677.860759801253,
          8437.370037709416,
          103540.03598036525,
          2631.8926652220803,
          42239.67712106438,
          6835.075649854098,
          51350.01284875232,
          2339.673467074917,
          21446.667185022434,
          43102.493440441576,
          8281.061381210553,
          3959.1264650175217,
          575.049463535353,
          9771.822261468576,
          39237.07772182185,
          10723.26878398667,
          34500.851094191545,
          53166.36013625445,
          11581.416702035709,
          12830.615163800467,
          13131.855156427606,
          7259.81411217175,
          11360.194692322159,
          21576.04708613896,
          10089.977926805666,
          49174.6460966455,
          30440.75329052447,
          77177.83106740662,
          24201.827444384286,
          15523.697753732506,
          4878.922882327636,
          12119.714476022844,
          85991.88442282386,
          10472.964688372003,
          11521.76636806764,
          7513.319834757752,
          50554.359351694846,
          3766.926384370706,
          42131.00683757407,
          5301.560365659669,
          18084.81041195612,
          7212.571201942574,
          21371.506830624472,
          23748.63404763544,
          7062.3086918668,
          4036.020372849113,
          14562.359918822274,
          82928.23509888933,
          4740.217495321936,
          15849.133006349462,
          79708.88474253773,
          69589.90284835533,
          9548.053131728966,
          189009.5580694261,
          7205.990222735622,
          35962.30529502053,
          7199.808834662196,
          23528.218096674736,
          34280.548679707055,
          20225.10018315151,
          38241.357251691916,
          75273.43304242774,
          7370.619029504967,
          46439.27757628071,
          52671.73010948705,
          10432.587953443257,
          12392.063148538033,
          10112.133852267909,
          46254.09791566861,
          14570.678368074623,
          12325.409963575068,
          18878.16280259057,
          28187.283546085302,
          7412.949261607628,
          19931.52207655369,
          18471.556045162826,
          28199.42969812798,
          6178.686346831972,
          3748.0163520154492,
          18965.624222382557,
          2941.4206221920085,
          16279.198870477547,
          41310.78898102437,
          31642.025465198538,
          13649.976486089081,
          20517.443482168845,
          16126.24340484184,
          46217.824377818775,
          26973.19562052176,
          4630.074375592302,
          18065.797035027303,
          24769.273237446436,
          14228.053700353037,
          16338.064222071389,
          17365.363614438684,
          10424.971984683054,
          33329.94389204351,
          19977.472871872513,
          54877.81638510943,
          59502.415734515605,
          10417.785688769922,
          51487.888197209024,
          55196.807624422945,
          10849.554985086283,
          141151.27763771295,
          44429.3688484887,
          14135.245043383602,
          6525.461337060233,
          18642.87355944534,
          49674.380769102696,
          16517.387747105782,
          17307.697004491914,
          14643.098210390881,
          7437.580556907315,
          44791.20134929285,
          4976.742037237134,
          114833.0287446706,
          15112.724289368154,
          36181.114806872494,
          13624.527064906957,
          21022.68389521285,
          33456.760667162125,
          2758.407638842075,
          3537.8312864169616,
          11547.693824628936,
          13075.306352511428,
          54992.342122141665,
          28345.823888771065,
          27244.35011048702,
          30415.566799272325,
          50118.66314223635,
          19106.537678082703,
          37027.317258787174,
          65848.89642912494,
          18286.648892969126,
          120517.27940513325,
          9587.655000948685,
          89337.85430915974,
          16717.602726576446,
          10063.985074536744,
          83535.70431076032,
          154112.97167960784,
          8899.118503737442,
          15450.214783858622,
          18043.071719065414,
          56840.86656729301,
          12585.470479010432,
          16621.046915509683,
          11132.632684642289,
          14467.329593953704,
          8848.293745444498,
          97295.4068783361,
          28008.73602261794,
          27563.766987139235,
          7198.104401848976,
          49302.736661264265,
          8384.020760641224,
          33831.80378983422,
          26508.33574379128,
          32492.670340052242,
          34285.58491354798,
          84568.34888066686,
          18009.80875176337,
          21866.428699051507,
          7699.888261922243,
          19486.995709427876,
          19268.674010759387,
          32086.431291073524,
          15104.650195542969,
          35744.489152032605,
          33964.27586547562,
          11559.367855422714,
          67481.55824894368,
          121967.14224430404,
          15248.05236358126,
          13794.99687251252,
          32841.14982304888,
          891.5375454807515,
          46258.49764048694,
          51912.24685748926,
          21705.039813872394,
          21545.36625714993,
          48787.98572946093,
          19256.104634099345,
          6337.331338976941,
          53361.47196148158,
          8116.489051292567,
          7427.778229898643,
          18913.219990202742,
          54616.72333084682,
          73162.57796914347,
          51542.698542436156,
          10399.347816450889,
          2870.7663987264045,
          41461.22462943043,
          18338.2628043273,
          15151.296339961405,
          19803.756225436653,
          6320.191581679077,
          12523.202158016713,
          10092.302183051845,
          11194.195316564015,
          40467.97577831313,
          13221.059011778705,
          20761.03860468198,
          85964.83445920325,
          50074.8785865897,
          3979.6379563313394,
          130115.55350522527,
          10121.834815417596,
          2817.076346224944,
          36120.04451029127,
          24310.880018433993,
          30294.676276254984,
          83596.77335737442,
          49735.54331425708,
          2684.803850852208,
          10217.628606621987,
          66442.71373252595,
          11958.227152893345,
          9630.518578893973,
          23026.922904066556,
          27965.04137748804,
          8116.008159862561,
          137960.05105431977,
          18649.395843415867,
          25772.79750477188,
          11956.321412520423,
          15987.158028090264,
          9531.051967441466,
          10030.69760511868,
          50925.6874911639,
          9169.693902393905,
          17511.639855932055,
          4237.9845972575295,
          30744.739174501414,
          10872.695928077539,
          13615.943512009673,
          47683.74356128847,
          20500.627669423742,
          12637.962241991585,
          13018.00299726338,
          20082.643260895402,
          51721.19125010564,
          78736.62889274106,
          196.41452441794138,
          10413.854184773805,
          31746.96465954358,
          13079.686690066108,
          34721.51162235834,
          53853.66657217475,
          129507.60603514433,
          109539.55212037341,
          30107.62657873092,
          43251.99274699715,
          1873.7655197913177,
          10533.855896337207,
          2210.454218567752,
          19920.238884592924,
          5892.253458942583,
          3344.3103756047217,
          14285.528271307825,
          8540.29297141746,
          30871.486704446394,
          19296.531904330477,
          28238.77922947364,
          6865.310293997064,
          17890.70769328486,
          3111.579551630483,
          5881.215192688643,
          3029.955526897459,
          83121.18301515098,
          15965.57936231897,
          50237.572080813596,
          68697.82068670439,
          69138.21237817605,
          123890.15523515924,
          23196.446688163487,
          71514.41998492337,
          52877.00622986826,
          184007.65339153213,
          7466.575208573632,
          7501.981268650446,
          9832.65781988307,
          27162.490004642827,
          82321.64495301741,
          82146.8415028168,
          38273.81178999154,
          24924.213164994755,
          2278.0408115940945,
          2954.280044140505,
          15398.57074670261,
          47003.03927507522,
          4482.566398007625,
          48624.012805971186,
          75049.64813072221,
          2032.403680734302,
          87346.34126940543,
          8075.339332953563,
          15527.873381923908,
          16056.46635897928,
          11042.180230999527,
          7484.47282811839,
          27490.851073388534,
          65240.978741144354,
          27335.106727002574,
          4696.463989802275,
          199868.5695079048,
          4393.650680606327,
          5674.6123330558685,
          22704.20792821204,
          11648.853132076787,
          31471.091953656633,
          44557.81236240304,
          29579.254610260377,
          108761.27613992093,
          58474.80734705828,
          27010.02810884712,
          98661.74230305114,
          1691.59421955725,
          13864.807202785405,
          14516.071849478385,
          20250.26488043886,
          42896.94163098254,
          36708.59211016327,
          60908.067639021276,
          74420.02477689464,
          32953.542067262104,
          82691.46620272279,
          11065.68271559382,
          29439.136343867325,
          25061.45724781744,
          16231.52054469347,
          80157.69600478721,
          6572.224633591918,
          17086.151493391713,
          6961.671465376671,
          13763.845879112785,
          59240.91111550665,
          22087.07287084646,
          18984.52083668047,
          609.2507956610165,
          109444.80447675475,
          55374.19360670443,
          4820.725049241978,
          9171.06260178009,
          8374.684996003873,
          5565.398950193302,
          37126.91333909373,
          19188.07213511777,
          19170.26096812076,
          5503.494997134667,
          53047.320252064485,
          12597.514530684832,
          5326.411178483006,
          29788.504127184344,
          4244.006437805097,
          32713.024897053525,
          45314.267093771865,
          70169.70747287944,
          175420.77472080634,
          25515.559589675537,
          106747.42886873205,
          25591.97309740374,
          19684.264675929302,
          8135.789865638426,
          3228.886365266112,
          7454.2524710238695,
          56955.083904934065,
          31895.0911008158,
          25276.436410854367,
          6191.484260454153,
          14674.260197254545,
          24937.612037443192,
          7351.812341404,
          81186.69276144938,
          11490.713486714465,
          6200.063088587091,
          3054.8427488510383,
          30613.655504297683,
          11578.153116487743,
          153097.64708796784,
          25703.013229662964,
          29827.443678071235,
          105149.6670616965,
          194772.9262650281,
          35882.44396387486,
          38841.87457192326,
          27335.12626430555,
          7765.9339875071955,
          36800.37689871724,
          31893.492701449086,
          20248.098081328957,
          127569.89139789247,
          147194.14825542318,
          7654.074400927565,
          4840.283470786604,
          41673.807625501286,
          179407.16199649574,
          12129.166330419395,
          178612.13549913518,
          14438.044889470853,
          18276.402416967805,
          41159.119097523544,
          6129.067215356865,
          85054.37329067008,
          13738.104352026508,
          14768.922026653965,
          12928.953746636464,
          85881.92519321913,
          18383.76296584715,
          25772.79750477188,
          13203.878566763451,
          11587.523527211453,
          30790.949356614597,
          127569.89139789247,
          317.73562915551037,
          63784.5836520137,
          5315.02293006844,
          16031.254795618188,
          127569.89139789247,
          116948.76555117652,
          49064.71608514106,
          3583.3952672741552,
          28947.72908639334,
          39864.76435637166,
          17133.214297660106,
          25536.099970211653,
          12818.626031898151,
          26068.074057810347,
          27731.454105775287,
          75938.35488184089,
          56955.083904934065,
          12194.866211192808,
          79731.03018444046,
          33942.88938702187,
          34630.4768859908,
          15524.18576171294,
          70876.9005822615,
          11235.882211638871,
          15891.382345803493,
          10814.49786638675,
          15815.96937173107,
          13066.801583080854,
          7427.319980158111,
          37282.10500255045,
          19167.667797075526,
          1354.872130354564,
          4740.852912234599,
          11991.521804776094,
          177191.14040009602,
          49064.71608514106,
          30372.72285266652,
          67122.39226971843,
          9733.857870640748,
          20672.225806956867,
          317.73562915551037,
          20012.36063468959,
          12948.243896025135,
          18488.868538505958,
          14537.613889741035,
          16960.342204044595,
          42525.35723367809,
          12817.465219932246,
          71764.56619366685,
          46039.8136134996,
          6804.9137747244395,
          23625.57999534634,
          63784.5836520137,
          18048.32999868356,
          42522.53091502072,
          9833.75070144385,
          39864.76435637166,
          32358.826266768465,
          12057.55133833447,
          21781.957764258048,
          182251.71231688553,
          6450.507649018463,
          14227.447003891397,
          14832.203217616754,
          8015.272367970422,
          62018.3216137189,
          9540.427643932471,
          17003.879556224205,
          43493.60639673762,
          6615.705987647714,
          132891.41459840556,
          13289.949378194597,
          12181.918060773842,
          31893.492701449086,
          17039.34351496838,
          20132.536678354947,
          159469.21068332766,
          106308.26389203216,
          8121.591468347412,
          23689.166950549894,
          17281.35295263006,
          16083.211493536888,
          85049.3138705309,
          11994.111487552349
         ],
         "yaxis": "y",
         "type": "scattergl",
         "textposition": "top center"
        }
       ],
       "layout": {
        "template": {
         "data": {
          "bar": [
           {
            "error_x": {
             "color": "#2a3f5f"
            },
            "error_y": {
             "color": "#2a3f5f"
            },
            "marker": {
             "line": {
              "color": "#E5ECF6",
              "width": 0.5
             },
             "pattern": {
              "fillmode": "overlay",
              "size": 10,
              "solidity": 0.2
             }
            },
            "type": "bar"
           }
          ],
          "barpolar": [
           {
            "marker": {
             "line": {
              "color": "#E5ECF6",
              "width": 0.5
             },
             "pattern": {
              "fillmode": "overlay",
              "size": 10,
              "solidity": 0.2
             }
            },
            "type": "barpolar"
           }
          ],
          "carpet": [
           {
            "aaxis": {
             "endlinecolor": "#2a3f5f",
             "gridcolor": "white",
             "linecolor": "white",
             "minorgridcolor": "white",
             "startlinecolor": "#2a3f5f"
            },
            "baxis": {
             "endlinecolor": "#2a3f5f",
             "gridcolor": "white",
             "linecolor": "white",
             "minorgridcolor": "white",
             "startlinecolor": "#2a3f5f"
            },
            "type": "carpet"
           }
          ],
          "choropleth": [
           {
            "colorbar": {
             "outlinewidth": 0,
             "ticks": ""
            },
            "type": "choropleth"
           }
          ],
          "contour": [
           {
            "colorbar": {
             "outlinewidth": 0,
             "ticks": ""
            },
            "colorscale": [
             [
              0.0,
              "#0d0887"
             ],
             [
              0.1111111111111111,
              "#46039f"
             ],
             [
              0.2222222222222222,
              "#7201a8"
             ],
             [
              0.3333333333333333,
              "#9c179e"
             ],
             [
              0.4444444444444444,
              "#bd3786"
             ],
             [
              0.5555555555555556,
              "#d8576b"
             ],
             [
              0.6666666666666666,
              "#ed7953"
             ],
             [
              0.7777777777777778,
              "#fb9f3a"
             ],
             [
              0.8888888888888888,
              "#fdca26"
             ],
             [
              1.0,
              "#f0f921"
             ]
            ],
            "type": "contour"
           }
          ],
          "contourcarpet": [
           {
            "colorbar": {
             "outlinewidth": 0,
             "ticks": ""
            },
            "type": "contourcarpet"
           }
          ],
          "heatmap": [
           {
            "colorbar": {
             "outlinewidth": 0,
             "ticks": ""
            },
            "colorscale": [
             [
              0.0,
              "#0d0887"
             ],
             [
              0.1111111111111111,
              "#46039f"
             ],
             [
              0.2222222222222222,
              "#7201a8"
             ],
             [
              0.3333333333333333,
              "#9c179e"
             ],
             [
              0.4444444444444444,
              "#bd3786"
             ],
             [
              0.5555555555555556,
              "#d8576b"
             ],
             [
              0.6666666666666666,
              "#ed7953"
             ],
             [
              0.7777777777777778,
              "#fb9f3a"
             ],
             [
              0.8888888888888888,
              "#fdca26"
             ],
             [
              1.0,
              "#f0f921"
             ]
            ],
            "type": "heatmap"
           }
          ],
          "heatmapgl": [
           {
            "colorbar": {
             "outlinewidth": 0,
             "ticks": ""
            },
            "colorscale": [
             [
              0.0,
              "#0d0887"
             ],
             [
              0.1111111111111111,
              "#46039f"
             ],
             [
              0.2222222222222222,
              "#7201a8"
             ],
             [
              0.3333333333333333,
              "#9c179e"
             ],
             [
              0.4444444444444444,
              "#bd3786"
             ],
             [
              0.5555555555555556,
              "#d8576b"
             ],
             [
              0.6666666666666666,
              "#ed7953"
             ],
             [
              0.7777777777777778,
              "#fb9f3a"
             ],
             [
              0.8888888888888888,
              "#fdca26"
             ],
             [
              1.0,
              "#f0f921"
             ]
            ],
            "type": "heatmapgl"
           }
          ],
          "histogram": [
           {
            "marker": {
             "pattern": {
              "fillmode": "overlay",
              "size": 10,
              "solidity": 0.2
             }
            },
            "type": "histogram"
           }
          ],
          "histogram2d": [
           {
            "colorbar": {
             "outlinewidth": 0,
             "ticks": ""
            },
            "colorscale": [
             [
              0.0,
              "#0d0887"
             ],
             [
              0.1111111111111111,
              "#46039f"
             ],
             [
              0.2222222222222222,
              "#7201a8"
             ],
             [
              0.3333333333333333,
              "#9c179e"
             ],
             [
              0.4444444444444444,
              "#bd3786"
             ],
             [
              0.5555555555555556,
              "#d8576b"
             ],
             [
              0.6666666666666666,
              "#ed7953"
             ],
             [
              0.7777777777777778,
              "#fb9f3a"
             ],
             [
              0.8888888888888888,
              "#fdca26"
             ],
             [
              1.0,
              "#f0f921"
             ]
            ],
            "type": "histogram2d"
           }
          ],
          "histogram2dcontour": [
           {
            "colorbar": {
             "outlinewidth": 0,
             "ticks": ""
            },
            "colorscale": [
             [
              0.0,
              "#0d0887"
             ],
             [
              0.1111111111111111,
              "#46039f"
             ],
             [
              0.2222222222222222,
              "#7201a8"
             ],
             [
              0.3333333333333333,
              "#9c179e"
             ],
             [
              0.4444444444444444,
              "#bd3786"
             ],
             [
              0.5555555555555556,
              "#d8576b"
             ],
             [
              0.6666666666666666,
              "#ed7953"
             ],
             [
              0.7777777777777778,
              "#fb9f3a"
             ],
             [
              0.8888888888888888,
              "#fdca26"
             ],
             [
              1.0,
              "#f0f921"
             ]
            ],
            "type": "histogram2dcontour"
           }
          ],
          "mesh3d": [
           {
            "colorbar": {
             "outlinewidth": 0,
             "ticks": ""
            },
            "type": "mesh3d"
           }
          ],
          "parcoords": [
           {
            "line": {
             "colorbar": {
              "outlinewidth": 0,
              "ticks": ""
             }
            },
            "type": "parcoords"
           }
          ],
          "pie": [
           {
            "automargin": true,
            "type": "pie"
           }
          ],
          "scatter": [
           {
            "marker": {
             "colorbar": {
              "outlinewidth": 0,
              "ticks": ""
             }
            },
            "type": "scatter"
           }
          ],
          "scatter3d": [
           {
            "line": {
             "colorbar": {
              "outlinewidth": 0,
              "ticks": ""
             }
            },
            "marker": {
             "colorbar": {
              "outlinewidth": 0,
              "ticks": ""
             }
            },
            "type": "scatter3d"
           }
          ],
          "scattercarpet": [
           {
            "marker": {
             "colorbar": {
              "outlinewidth": 0,
              "ticks": ""
             }
            },
            "type": "scattercarpet"
           }
          ],
          "scattergeo": [
           {
            "marker": {
             "colorbar": {
              "outlinewidth": 0,
              "ticks": ""
             }
            },
            "type": "scattergeo"
           }
          ],
          "scattergl": [
           {
            "marker": {
             "colorbar": {
              "outlinewidth": 0,
              "ticks": ""
             }
            },
            "type": "scattergl"
           }
          ],
          "scattermapbox": [
           {
            "marker": {
             "colorbar": {
              "outlinewidth": 0,
              "ticks": ""
             }
            },
            "type": "scattermapbox"
           }
          ],
          "scatterpolar": [
           {
            "marker": {
             "colorbar": {
              "outlinewidth": 0,
              "ticks": ""
             }
            },
            "type": "scatterpolar"
           }
          ],
          "scatterpolargl": [
           {
            "marker": {
             "colorbar": {
              "outlinewidth": 0,
              "ticks": ""
             }
            },
            "type": "scatterpolargl"
           }
          ],
          "scatterternary": [
           {
            "marker": {
             "colorbar": {
              "outlinewidth": 0,
              "ticks": ""
             }
            },
            "type": "scatterternary"
           }
          ],
          "surface": [
           {
            "colorbar": {
             "outlinewidth": 0,
             "ticks": ""
            },
            "colorscale": [
             [
              0.0,
              "#0d0887"
             ],
             [
              0.1111111111111111,
              "#46039f"
             ],
             [
              0.2222222222222222,
              "#7201a8"
             ],
             [
              0.3333333333333333,
              "#9c179e"
             ],
             [
              0.4444444444444444,
              "#bd3786"
             ],
             [
              0.5555555555555556,
              "#d8576b"
             ],
             [
              0.6666666666666666,
              "#ed7953"
             ],
             [
              0.7777777777777778,
              "#fb9f3a"
             ],
             [
              0.8888888888888888,
              "#fdca26"
             ],
             [
              1.0,
              "#f0f921"
             ]
            ],
            "type": "surface"
           }
          ],
          "table": [
           {
            "cells": {
             "fill": {
              "color": "#EBF0F8"
             },
             "line": {
              "color": "white"
             }
            },
            "header": {
             "fill": {
              "color": "#C8D4E3"
             },
             "line": {
              "color": "white"
             }
            },
            "type": "table"
           }
          ]
         },
         "layout": {
          "annotationdefaults": {
           "arrowcolor": "#2a3f5f",
           "arrowhead": 0,
           "arrowwidth": 1
          },
          "autotypenumbers": "strict",
          "coloraxis": {
           "colorbar": {
            "outlinewidth": 0,
            "ticks": ""
           }
          },
          "colorscale": {
           "diverging": [
            [
             0,
             "#8e0152"
            ],
            [
             0.1,
             "#c51b7d"
            ],
            [
             0.2,
             "#de77ae"
            ],
            [
             0.3,
             "#f1b6da"
            ],
            [
             0.4,
             "#fde0ef"
            ],
            [
             0.5,
             "#f7f7f7"
            ],
            [
             0.6,
             "#e6f5d0"
            ],
            [
             0.7,
             "#b8e186"
            ],
            [
             0.8,
             "#7fbc41"
            ],
            [
             0.9,
             "#4d9221"
            ],
            [
             1,
             "#276419"
            ]
           ],
           "sequential": [
            [
             0.0,
             "#0d0887"
            ],
            [
             0.1111111111111111,
             "#46039f"
            ],
            [
             0.2222222222222222,
             "#7201a8"
            ],
            [
             0.3333333333333333,
             "#9c179e"
            ],
            [
             0.4444444444444444,
             "#bd3786"
            ],
            [
             0.5555555555555556,
             "#d8576b"
            ],
            [
             0.6666666666666666,
             "#ed7953"
            ],
            [
             0.7777777777777778,
             "#fb9f3a"
            ],
            [
             0.8888888888888888,
             "#fdca26"
            ],
            [
             1.0,
             "#f0f921"
            ]
           ],
           "sequentialminus": [
            [
             0.0,
             "#0d0887"
            ],
            [
             0.1111111111111111,
             "#46039f"
            ],
            [
             0.2222222222222222,
             "#7201a8"
            ],
            [
             0.3333333333333333,
             "#9c179e"
            ],
            [
             0.4444444444444444,
             "#bd3786"
            ],
            [
             0.5555555555555556,
             "#d8576b"
            ],
            [
             0.6666666666666666,
             "#ed7953"
            ],
            [
             0.7777777777777778,
             "#fb9f3a"
            ],
            [
             0.8888888888888888,
             "#fdca26"
            ],
            [
             1.0,
             "#f0f921"
            ]
           ]
          },
          "colorway": [
           "#636efa",
           "#EF553B",
           "#00cc96",
           "#ab63fa",
           "#FFA15A",
           "#19d3f3",
           "#FF6692",
           "#B6E880",
           "#FF97FF",
           "#FECB52"
          ],
          "font": {
           "color": "#2a3f5f"
          },
          "geo": {
           "bgcolor": "white",
           "lakecolor": "white",
           "landcolor": "#E5ECF6",
           "showlakes": true,
           "showland": true,
           "subunitcolor": "white"
          },
          "hoverlabel": {
           "align": "left"
          },
          "hovermode": "closest",
          "mapbox": {
           "style": "light"
          },
          "paper_bgcolor": "white",
          "plot_bgcolor": "#E5ECF6",
          "polar": {
           "angularaxis": {
            "gridcolor": "white",
            "linecolor": "white",
            "ticks": ""
           },
           "bgcolor": "#E5ECF6",
           "radialaxis": {
            "gridcolor": "white",
            "linecolor": "white",
            "ticks": ""
           }
          },
          "scene": {
           "xaxis": {
            "backgroundcolor": "#E5ECF6",
            "gridcolor": "white",
            "gridwidth": 2,
            "linecolor": "white",
            "showbackground": true,
            "ticks": "",
            "zerolinecolor": "white"
           },
           "yaxis": {
            "backgroundcolor": "#E5ECF6",
            "gridcolor": "white",
            "gridwidth": 2,
            "linecolor": "white",
            "showbackground": true,
            "ticks": "",
            "zerolinecolor": "white"
           },
           "zaxis": {
            "backgroundcolor": "#E5ECF6",
            "gridcolor": "white",
            "gridwidth": 2,
            "linecolor": "white",
            "showbackground": true,
            "ticks": "",
            "zerolinecolor": "white"
           }
          },
          "shapedefaults": {
           "line": {
            "color": "#2a3f5f"
           }
          },
          "ternary": {
           "aaxis": {
            "gridcolor": "white",
            "linecolor": "white",
            "ticks": ""
           },
           "baxis": {
            "gridcolor": "white",
            "linecolor": "white",
            "ticks": ""
           },
           "bgcolor": "#E5ECF6",
           "caxis": {
            "gridcolor": "white",
            "linecolor": "white",
            "ticks": ""
           }
          },
          "title": {
           "x": 0.05
          },
          "xaxis": {
           "automargin": true,
           "gridcolor": "white",
           "linecolor": "white",
           "ticks": "",
           "title": {
            "standoff": 15
           },
           "zerolinecolor": "white",
           "zerolinewidth": 2
          },
          "yaxis": {
           "automargin": true,
           "gridcolor": "white",
           "linecolor": "white",
           "ticks": "",
           "title": {
            "standoff": 15
           },
           "zerolinecolor": "white",
           "zerolinewidth": 2
          }
         }
        },
        "xaxis": {
         "anchor": "y",
         "domain": [
          0.0,
          1.0
         ],
         "title": {
          "text": "meme_score_BT"
         }
        },
        "yaxis": {
         "anchor": "x",
         "domain": [
          0.0,
          1.0
         ],
         "title": {
          "text": "meme_score_A"
         }
        },
        "legend": {
         "tracegroupgap": 0
        },
        "margin": {
         "t": 60
        }
       },
       "config": {
        "plotlyServerURL": "https://plot.ly"
       }
      },
      "text/html": "<div>                            <div id=\"a414ad84-8160-4b5a-a516-a644beb82fea\" class=\"plotly-graph-div\" style=\"height:525px; width:100%;\"></div>            <script type=\"text/javascript\">                require([\"plotly\"], function(Plotly) {                    window.PLOTLYENV=window.PLOTLYENV || {};                                    if (document.getElementById(\"a414ad84-8160-4b5a-a516-a644beb82fea\")) {                    Plotly.newPlot(                        \"a414ad84-8160-4b5a-a516-a644beb82fea\",                        [{\"hovertemplate\":\"meme_score_BT=%{x}<br>meme_score_A=%{y}<br>chosen=%{text}<extra></extra>\",\"legendgroup\":\"\",\"marker\":{\"color\":\"#636efa\",\"symbol\":\"circle\"},\"mode\":\"markers+text\",\"name\":\"\",\"showlegend\":false,\"text\":[\" \",\" \",\" \",\" \",\" \",\" \",\" \",\" \",\" \",\" \",\" \",\" \",\" \",\" \",\" \",\" \",\" \",\" \",\" \",\" \",\" \",\" \",\" \",\" \",\" \",\" \",\" \",\" \",\" \",\" \",\" \",\" \",\" \",\" \",\" \",\" \",\" \",\" \",\" \",\" \",\" \",\" \",\" \",\" \",\" \",\" \",\" \",\" \",\" \",\" \",\" \",\" \",\" \",\" \",\" \",\" \",\" \",\" \",\" \",\" \",\" \",\" \",\" \",\" \",\" \",\" \",\" \",\" \",\" \",\" \",\" \",\" \",\" \",\" \",\" \",\" \",\" \",\" \",\" \",\" \",\" \",\" \",\" \",\" \",\" \",\" \",\" \",\" \",\" \",\" \",\" \",\" \",\" \",\" \",\" \",\" \",\" \",\" \",\" \",\" \",\" \",\" \",\" \",\" \",\" \",\" \",\" \",\" \",\" \",\" \",\" \",\" \",\" \",\" \",\" \",\" \",\" \",\" \",\" \",\" \",\" \",\" \",\" \",\" \",\" \",\" \",\" \",\" \",\" \",\" \",\" \",\" \",\" \",\"large search space\",\" \",\" \",\" \",\" \",\" \",\" \",\" \",\" \",\" \",\" \",\" \",\" \",\" \",\" \",\" \",\" \",\" \",\" \",\" \",\" \",\" \",\" \",\" \",\" \",\" \",\" \",\" \",\" \",\" \",\" \",\" \",\" \",\"sensitive datum\",\" \",\" \",\" \",\" \",\" \",\" \",\" \",\" \",\" \",\" \",\" \",\" \",\" \",\"transparency\",\" \",\" \",\" \",\" \",\" \",\" \",\" \",\" \",\" \",\" \",\" \",\" \",\" \",\" \",\" \",\" \",\" \",\" \",\" \",\" \",\" \",\" \",\" \",\" \",\" \",\" \",\" \",\" \",\" \",\" \",\" \",\" \",\" \",\" \",\" \",\" \",\" \",\" \",\" \",\" \",\" \",\" \",\" \",\" \",\" \",\" \",\" \",\" \",\" \",\" \",\" \",\" \",\" \",\" \",\" \",\" \",\" \",\" \",\" \",\" \",\" \",\" \",\" \",\" \",\" \",\" \",\" \",\" \",\" \",\" \",\" \",\" \",\" \",\" \",\" \",\" \",\" \",\" \",\" \",\" \",\" \",\" \",\" \",\" \",\" \",\" \",\" \",\" \",\" \",\" \",\" \",\" \",\" \",\" \",\" \",\" \",\"ethical issue\",\" \",\" \",\" \",\" \",\" \",\" \",\" \",\" \",\" \",\" \",\" \",\" \",\" \",\" \",\" \",\" \",\" \",\" \",\" \",\" \",\" \",\" \",\" \",\" \",\" \",\" \",\" \",\" \",\" \",\" \",\" \",\" \",\" \",\" \",\" \",\" \",\" \",\" \",\" \",\" \",\" \",\" \",\" \",\" \",\" \",\" \",\" \",\" \",\" \",\" \",\" \",\" \",\" \",\" \",\" \",\" \",\" \",\" \",\" \",\" \",\" \",\" \",\" \",\" \",\" \",\" \",\" \",\" \",\" \",\" \",\" \",\" \",\" \",\" \",\" \",\" \",\" \",\" \",\" \",\" \",\"fairness\",\" \",\" \",\" \",\" \",\" \",\" \",\" \",\" \",\" \",\" \",\" \",\" \",\" \",\" \",\" \",\" \",\" \",\"vr application\",\" \",\" \",\" \",\" \",\" \",\" \",\" \",\" \",\" \",\" \",\" \",\" \",\" \",\" \",\" \",\" \",\" \",\" \",\" \",\" \",\" \",\" \",\" \",\" \",\" \",\" \",\" \",\" \",\" \",\" \",\" \",\" \",\" \",\" \",\" \",\" \",\" \",\"privacy\",\" \",\" \",\" \",\" \",\" \",\" \",\" \",\" \",\" \",\" \",\" \",\" \",\" \",\" \",\" \",\" \",\" \",\" \",\" \",\" \",\" \",\" \",\" \",\" \",\" \",\" \",\" \",\" \",\" \",\" \",\" \",\" \",\" \",\" \",\" \",\" \",\" \",\" \",\" \",\" \",\" \",\" \",\" \",\" \",\" \",\" \",\" \",\" \",\" \",\" \",\" \",\" \",\" \",\" \",\" \",\" \",\" \",\" \",\" \",\" \",\" \",\" \",\" \",\" \",\" \",\" \",\" \",\" \",\" \",\" \",\" \",\" \",\" \",\" \",\" \",\" \",\" \",\" \",\" \",\"several public dataset\",\" \",\" \",\" \",\" \",\" \",\" \",\" \",\" \",\" \",\" \",\" \",\" \",\" \",\" \",\" \",\" \",\" \",\" \",\" \",\" \",\" \",\" \",\" \",\" \",\" \",\" \",\" \",\" \",\" \",\" \",\" \",\" \",\" \",\" \",\" \",\" \",\" \",\" \",\" \",\" \",\" \",\" \",\" \",\" \",\" \",\" \",\" \",\" \",\" \",\" \",\" \",\" \",\" \",\" \",\" \",\" \",\" \",\" \",\" \",\" \",\" \",\" \",\" \",\" \",\" \",\" \",\" \",\" \",\" \",\" \",\" \",\" \",\" \",\" \",\" \",\" \",\" \",\" \",\" \",\" \",\" \",\" \",\" \",\" \",\" \",\" \",\" \",\" \",\" \",\" \",\" \",\" \",\" \",\" \",\" \",\"package\",\" \",\" \",\" \",\" \",\" \",\" \",\" \",\" \",\" \",\" \",\" \",\" \",\" \",\" \",\" \",\" \",\" \",\" \",\" \",\" \",\" \",\" \",\" \",\" \",\" \",\" \",\" \",\" \",\" \",\" \",\" \",\" \",\" \",\" \",\" \",\" \",\" \",\" \",\" \",\" \",\" \",\" \",\" \",\" \",\" \",\" \",\" \",\" \",\" \",\" \",\" \",\" \",\" \",\" \",\" \",\" \",\" \",\" \",\" \",\" \",\" \",\" \",\" \",\" \",\" \",\" \",\" \",\" \",\" \",\" \",\" \",\" \",\" \",\" \",\"chatbot\",\" \",\" \",\" \",\" \",\" \",\" \",\" \",\" \",\" \",\" \",\" \",\" \",\" \",\" \",\" \",\" \",\" \",\" \",\" \",\" \",\" \",\" \",\" \",\" \",\" \",\" \",\" \",\" \",\" \",\" \",\" \",\" \",\" \",\" \",\" \",\" \",\" \",\" \",\" \",\" \",\" \",\" \",\" \",\" \",\" \",\" \",\" \",\" \",\" \",\" \",\" \",\" \",\" \",\" \",\" \",\" \",\" \",\" \",\" \",\" \",\" \",\" \",\" \",\" \",\" \",\" \",\" \",\" \",\" \",\" \",\" \",\" \",\" \",\" \",\" \",\" \",\" \",\" \",\" \",\" \",\" \",\" \",\" \",\" \",\" \",\" \",\" \",\" \",\" \",\" \",\" \",\" \",\" \",\" \",\" \",\" \",\" \",\" \",\" \",\" \",\" \",\" \",\" \",\" \",\" \",\" \",\" \",\" \",\" \",\" \",\" \",\" \",\" \",\" \",\" \",\" \",\" \",\" \",\" \",\" \",\" \",\" \",\" \",\" \",\" \",\" \",\" \",\" \",\" \",\" \",\" \",\" \",\" \",\" \",\" \",\" \",\" \",\" \",\" \",\" \",\" \",\" \",\" \",\" \",\"confidentiality\",\" \",\" \",\" \",\" \",\" \",\" \",\" \",\" \",\" \",\" \",\" \",\" \",\" \",\" \",\" \",\" \",\" \",\" \",\" \",\" \",\" \",\" \",\" \",\" \",\" \",\" \",\" \",\" \",\" \",\" \",\" \",\" \",\" \",\" \",\" \",\" \",\" \",\" \",\" \",\" \",\" \",\" \",\" \",\" \",\" \",\"hate speech\",\" \",\" \",\" \",\" \",\" \",\" \",\" \",\" \",\" \",\" \",\" \",\" \",\" \",\" \",\" \",\" \",\" \",\" \",\" \",\" \",\" \",\" \",\" \",\" \",\" \",\" \",\" \",\" \",\" \",\" \",\" \",\" \",\" \",\" \",\" \",\" \",\" \",\" \",\" \",\" \",\" \",\" \",\" \",\" \",\" \",\" \",\" \",\" \",\"detection time\",\" \",\" \",\" \",\" \",\" \",\" \",\" \",\" \",\" \",\" \",\" \",\" \",\" \",\" \",\" \",\" \",\" \",\" \",\" \",\" \",\" \",\" \",\" \",\" \",\" \",\" \",\" \",\" \",\" \",\" \",\" \",\" \",\" \",\" \",\" \",\" \",\" \",\" \",\" \",\" \",\" \",\" \",\" \",\" \",\" \",\" \",\" \",\" \",\" \",\" \",\" \",\" \",\"recommender system\",\" \",\" \",\" \",\" \",\" \",\" \",\" \",\" \",\" \",\" \",\" \",\" \",\" \",\" \",\" \",\" \",\" \",\" \",\" \",\" \",\" \",\" \",\" \",\" \",\" \",\" \",\" \",\" \",\" \",\" \",\" \",\" \",\" \",\" \",\" \",\" \",\" \",\" \",\" \",\" \",\" \",\" \",\" \",\" \",\" \",\" \",\" \",\" \",\" \",\" \",\" \",\" \",\" \",\" \",\" \",\" \",\"image classification task\",\" \",\" \",\" \",\" \",\" \",\" \",\" \",\" \",\" \",\" \",\" \",\" \",\" \",\" \",\" \",\" \",\" \",\" \",\" \",\" \",\" \",\" \",\" \",\" \",\" \",\" \",\" \",\"comparative analysis\",\" \",\" \",\" \",\" \",\" \"],\"x\":[7808.492425225777,9753.480254396087,95684.89416192027,161822.79477312157,10236.08224539311,82227.80754900014,159447.2804261215,121077.97302414046,54998.48017841268,53808.3818123471,364489.77219104994,75410.88554570935,21647.274729601275,9923.715787112196,14532.199496955789,53805.13724096387,21411.04010380073,109280.02219057613,21971.61584579773,25723.303315511923,172532.94301093195,48566.980178225116,20904.95581850013,63782.09695405494,193473.05509760676,46903.402522240154,94594.25645546592,35416.6882119568,3298.2032566167954,41895.90530342268,21649.33250998703,48395.12225388273,11216.164997895901,34491.335756572546,43854.3075606268,111910.41750811187,55752.971179812346,332780.5793774647,106703.6624247859,21533.719595290426,56165.020853507274,12913.426134898584,26966.0938070758,46795.54479897655,106314.56583634758,11738.803608256978,14955.71744632827,337684.74590871425,84336.26308453541,16815.4001607187,70109.51057376541,20311.810928921193,372080.09015268204,173954.266314284,12310.218416124497,82269.63622548108,19284.694858226558,43848.85243466359,29186.554726071452,46635.93227524238,215810.36500161528,160853.5566233868,49707.045818447485,76563.74128393672,14142.309745575933,16407.84497815812,26698.899469622866,56284.90731323854,20764.8227682325,37936.89856454134,8808.448050039404,20051.569644404353,21561.82434532891,3115.5986055367352,35827.069945536,38124.819375512096,217586.39135766664,46463.799435362744,166706.99900350976,327059.322296806,320921.66834023484,45768.68280349446,198655.50060991757,323339.98086397623,20158.983206870074,85053.83997422518,13696.64366243943,62440.14698249388,25430.91272090159,55733.11705567515,35800.54813703522,30997.84147941787,159469.21068332766,7964.050109475049,24225.996347273798,109976.58416536971,9579.315652219913,32602.249662959824,102061.83751767456,43493.47003604542,126407.55670699704,164776.71421066293,20311.058637519498,82339.92931885019,5120.713469976993,42617.98211955355,9568.721499362178,23246.57952086961,8208.206788200812,10386.165517248879,16889.750538179935,85431.8968434172,108041.8038665919,12034.310291058064,5850.184203154365,9906.135370615704,37303.01493090739,54595.18578358188,141977.92919923153,19566.43394533358,3788.301823833706,26435.624063084946,67333.6459315669,6026.10986096521,11292.59213540615,17541.87687646976,109991.71327688635,54557.72346215433,14080.902025392308,76657.66302809038,28302.812003254232,3767.3903258341998,52030.62885026647,405.26184238589707,328896.67628060334,2298.704581163168,55434.963627790356,8801.116297144268,18013.730248946995,39772.53555763064,86409.711675563,85073.67280366555,41345.21895426022,10123.763763946734,47631.455615781575,2454.5266944007994,17534.64071159799,179327.33806449253,54170.96675419659,118123.2685887578,44161.94259684903,176552.13426432887,49835.00618731954,10856.015635567015,14660.104366228072,11550.697431812658,40226.07551234759,7038.256997720457,6742.034079974643,110344.18519678165,53157.56360618573,10782.008660431227,14048.53268006095,7505.092812657707,49149.006325709895,2607.488932779604,325046.95634316513,1139.3875533342186,80828.71064771195,57944.42121667018,36325.39169254848,32962.58984979642,43025.49321365955,338863.1854465757,24446.38990130787,19654.998507104403,3376.4012507228176,110389.76192695834,21561.73713260452,5519.380210325521,9486.2975940276,390662.68209991907,127968.52200864961,104797.81307388526,64251.26480915247,16395.015731257576,37515.63525879451,336385.2295018881,46238.145048286184,13215.195459363853,9289.504449845725,6841.633485546753,71950.70661082755,340618.3466216919,5072.378373830336,30068.22135777158,179407.16199649574,65809.94443879275,73900.33134016568,119202.30867274824,170103.4274690756,55950.52741335054,56817.45310283876,18054.378599170326,106316.89910162686,44770.88229595001,100635.3639298814,28703.623872384454,12343.521175684033,16925.37042056854,26822.503931264826,169138.07603852247,54768.97173667947,141752.7719243686,162695.03600934887,162659.61173492382,65739.87121335683,88417.68336765433,169011.15261679873,321699.0982508113,56105.13335234372,1661.559340623704,121163.17649551784,24917.690262675147,3295.535667434165,23155.27206256203,43663.78795760884,22477.1097484314,35139.788750553336,11568.271383870731,59409.5998274833,161809.0452819767,163138.53713977776,180592.9024072528,329549.1072251976,322536.4841703358,47201.37551977522,3446.193660900234,106719.89185051761,13157.626873420106,323007.4005923749,51670.608125040955,11666.995418972241,23992.651923300782,32485.568699139756,20715.55540547994,40250.97900032831,36526.56360643427,5801.031329120892,6480.175762683354,324412.34813864355,9155.117562278454,2398.5234862902944,12528.392868915686,130469.08925474978,192317.68812171672,21888.583822000757,7676.853894199973,23454.4348353405,35487.96182698322,28981.5305740923,73668.96436469663,80614.37713049944,5044.482708346454,15949.56743314314,32602.849694820456,85487.11134700512,4736.2736442896685,10105.06810524768,54525.152017959954,16008.261802794095,49359.12420249831,9797.56510768975,11043.215398087392,322387.29135072354,6356.4354930406935,348826.5272647425,211203.03545202088,6680.37016388043,32672.15051742502,8814.415141129008,115176.64542166945,22591.433200129857,8504.424348414284,109162.64371817418,40426.07185116018,166447.79862317737,41675.2246527805,32861.98698687535,14327.171965392967,21681.934221467607,20032.72305692033,334116.7115282605,61723.25663022283,5508.461937583802,82989.58754824541,3493.339907465935,46701.2910984458,30713.48499540014,12596.051733564065,18202.007269584406,7639.13968068947,70876.9005822615,125297.93696487845,42616.30311358757,40144.1604592472,37777.69254962973,340181.31387306604,30123.259893905873,7972.95762262464,21459.702958916336,81587.07293221714,4363.70371069656,18077.676731391428,136761.8967626206,21700.660266071576,160356.32190574997,19803.8054189332,112905.82582420917,4610.576715874111,54922.209775184056,52326.98110886713,327537.0740036433,26641.330196290084,8186.389103759101,37794.82791410512,200811.18025112423,125076.66367493889,45012.74813762333,83149.84647682948,49758.977799666915,116154.41254257428,5893.538911466318,58585.651155547326,325621.621461871,39962.811108344074,14170.117059210927,69268.90017057757,1227.5316999236777,122628.59649871962,23499.57343683803,28530.116897963126,27205.31312148772,332783.70948562596,21567.408464039192,6538.753615669177,3347.6329644191446,48834.526692012514,48533.22783912503,13418.65083246448,241780.3846709454,166601.061407773,47578.666336374015,174639.29357567575,35786.4844993021,29583.986668400827,53287.061869598714,35985.05510460828,258549.7984519875,5301.695725321713,19847.586344973544,13770.01272375948,71330.27164135172,9539.70994004817,197280.02105144635,15412.970874899533,5480.038478916069,22576.824664452735,26987.480550939643,1949.3243584617535,326538.4171372546,14773.792490087191,27978.04065699203,104690.688265229,83722.38834413438,33827.79535014586,323710.5811163604,6903.836859066271,3907.279752610637,11637.17433601394,52073.77748960769,154714.2553307094,323218.1218527351,8508.367597823892,13592.540195621408,12396.836754802494,167862.3023549061,5826.7284656961,83281.92225576253,13447.990125152479,15374.035436815275,85887.20186113704,141753.03496758116,29895.12465881297,276418.9624897276,34338.03930270293,8783.167599942075,12284.361444144202,86510.5192409575,39842.06770966467,16259.028259849334,21374.80413753789,10980.388346730384,21685.743131862575,44855.64834332263,11449.867750363594,10440.874063859761,22427.504252061655,18804.05748197733,24679.322788486457,97729.19980429311,46257.15161804829,28313.958576899007,60518.11790095871,287572.10364220385,178612.13549913518,173150.3463558106,16887.153710371655,82184.75509479719,36019.298653061276,37939.78818267459,11927.709407108425,17701.4267219768,25741.024814044868,48449.298738789585,31376.68532070903,80745.47411315635,21581.8962529272,3717.2192528649834,40882.56818838565,10894.594777821774,11535.954674635535,22895.129492328648,80658.19826809176,140982.09965527485,11966.528429605281,49627.5264086412,7639.642021176994,2080.2198686076613,64792.26001750314,2295.8131504854273,17973.533077808075,62961.00360091903,17002.059391822644,35835.14223817818,7816.382403522632,17893.043998009172,49707.045818447485,4566.373997709576,38831.48039057264,6801.013660665104,32868.733755881694,18599.208470707763,7411.897362978498,13358.76205444348,81009.6459321013,38324.77015156638,166925.09313533903,36704.94521522085,17416.550799779983,13775.864228656937,14096.43556816651,161317.2157631638,9221.870618713785,4857.046797734015,11525.139577939175,17790.078641295655,5469.421041434826,9379.28670843244,4989.89563955717,13127.052847831226,337958.55053099705,18082.63348192104,9510.964479390179,5569.877505540895,150433.84248075477,1829.6602660559151,174105.01139673448,33886.87365532029,368684.248568916,7058.00486108885,13497.700852192307,44696.84752340221,112004.17479785623,33826.84082927761,20364.012865986515,94419.31855196155,3822.688727899995,64954.31824815074,82044.59410593369,30373.64432835524,47635.68739175459,7388.638418568514,110273.67135710857,2758.791286016127,43642.90528357451,46209.04510645065,107152.8885826455,106680.18260598896,23975.860261716065,10596.444759378795,58737.032117290604,7468.432557309296,51853.47306718941,8051.996929321644,1385.6600852197528,20128.523555706903,46150.648415144075,44049.305355339675,4005.169853922098,160989.41660956852,41360.871208472905,81084.25009317313,35921.77169081954,18757.481085752912,27009.236822716175,20947.574939296846,165416.55034672428,40283.04637027424,26044.040630777625,9141.052820800534,88354.39924662984,18935.55984165807,9367.188229227808,23832.496852784523,2571.642750805509,49018.21179172782,77005.77112809595,22169.56641924557,10974.116167089569,43891.76968434196,11037.453445276724,12926.851283711982,25011.508030317138,48015.10959983797,53289.2652359585,2086.4025997558506,2085.2830406194307,68517.91930614338,26857.537887271435,6435.148261913993,107835.63008890738,39336.68355344359,22167.54406511365,162532.59309159633,29955.405099279393,22147.393279828655,40582.325312896886,72524.66748735521,8784.16286709581,5164.071520314871,255971.0658132358,45869.51162788536,38287.238624888865,7418.944582217132,9508.458904015808,3450.426415329727,45564.01581960599,73475.07785264992,40369.93670890662,2220.3207602750103,196.40223502416737,3108.3690298342162,30824.164761211814,160841.1684225253,53712.997952863436,61452.743641734705,18633.89354433141,32361.353333624695,33157.61910860757,4366.848952121974,1669.6785703299859,8576.16038825716,4978.542704424915,112750.27783319484,74409.96498480906,100784.66557567593,15130.246549099955,8339.949660746948,9757.830980085278,11975.391195106768,343936.0104863943,4783.94592310063,15219.44602188077,9373.735585704633,54766.52049882507,6812.519959833029,30427.860723434867,64324.34796011388,46790.2189592512,322129.54115169315,24856.744618172852,37781.90161942196,9416.404863157062,3937.577690294786,21270.092544560728,110570.05873773112,46047.2369971345,20290.601094923015,151976.54350134596,69589.90284835533,4532.87795408758,283510.0844953978,80464.93924698513,26436.222865212792,2843.2850877654446,74862.2609648171,59275.86557871022,23087.247765833592,36588.773260815055,35583.61808431606,7538.132717644425,24421.235091018272,25257.957386719987,64333.04049405005,10015.71468203431,40448.06140872232,82228.88640671568,49689.404441036655,10777.390940905205,11912.163707227935,13623.801645981628,23297.72707378246,30416.24849913196,81388.28797860556,65562.3862999463,13486.113377012263,338.5671121458697,64482.212024344655,4342.463625199664,10971.560789390918,10771.452690125097,62718.707524879006,27807.759710993447,25636.00834093135,10795.616541512798,21825.04379272903,337132.5806582372,28585.592556075062,59124.05340321329,48409.297614404575,8111.75767056266,8397.962805567915,27626.684519185335,7919.8315637289015,3327.1377926009964,18878.007617678,3919.8720263603955,85532.95618455992,7203.532231304305,24482.812309855042,59795.65999214088,4783.187742039354,99968.95005872248,83303.53936954269,7067.617400237339,2778.3471772412777,6895.314252699589,43502.55563895313,9150.465569611575,23533.12983568407,34141.36752708133,14544.586184606243,24744.96750959414,1975.0093373482782,83346.4215216575,15352.596236548494,36180.9138029125,8405.92329873823,19344.349929163265,36208.362452402886,6153.364357884784,3377.019149051033,22325.469542444494,7796.204519834761,329926.559311131,236798.7743237769,37423.428877233804,225067.89482189977,23118.656095233353,13758.500159691897,39023.91511926818,329218.1452207456,36572.932057024045,124080.94576150045,18353.45238759932,81891.73030559138,60731.57576467387,111372.97903512321,111380.01093745952,143835.0064872289,10769.188509273974,21561.563493182875,13736.742122655987,75310.28566718078,18020.45837682103,18208.011772117552,50096.504540981085,24761.323621732972,14719.500113025202,97363.87587507833,53683.04115338595,41345.47820931858,7171.431485366383,102117.5155653928,14964.468995329164,32414.14041500933,32518.823511290448,50367.04618682834,43536.96648550764,148839.48218194293,1466.707584117599,23592.489458134318,4988.832750800829,160760.16376948424,21837.813417931262,10923.395714048389,11518.560128037987,163225.12501966173,12320.566082597521,53461.82748521009,13771.722526374602,123802.95308944823,16538.250479845938,92622.26666876557,54735.06725576952,478.51010032918117,29437.01823793322,67485.8430467551,14134.481549944747,47657.73599834743,39680.80138740365,14217.185845607188,8889.84727963586,60957.838624143435,80487.57796800212,9791.143796215843,8499.792150609568,92927.36610194168,27436.042948812432,94406.88232830432,13403.997454528466,3023.196338101311,3978.175401628874,30960.63368940371,33235.04331427994,7825.479904758266,9968.10825272488,6961.023762039093,1564.4429184602914,3156.667854769389,39414.2173735086,4705.2403964627065,46464.616720899874,64752.36707719126,129698.30154122054,5720.72289989787,124813.37618408428,37113.329439766116,32058.013874053813,9064.11568909342,26366.27213281327,47822.23445017444,150471.24692354578,36431.159929246845,2798.5666294791845,5320.745191021328,40915.8951417273,107622.87922839182,3776.0825434172684,322346.9886503572,22181.62401595003,5565.645298087397,44152.62584986877,14284.692590912355,17396.61576463596,4890.376870213072,47961.01731485242,10083.575918417855,160483.30469495754,87045.23473358841,6808.582878583412,37717.300437159116,7384.803402106725,35295.969058676455,21382.838187071167,12546.735350267541,50434.43250908114,20161.652441906874,11406.412582154118,29586.21982817286,20475.59678235354,76387.87203740768,121853.90490509337,147.71895672355697,3781.2832695313577,36696.95871083629,9553.278886378368,35169.72622648395,126554.80003627679,142643.15688709423,328596.7506412682,2140.07359519227,139619.93532160725,4929.439974105691,34373.4818377641,18420.361766356003,19236.597884172716,40338.775111392504,17100.55314939486,326153.85156850977,9805.520388268736,29923.28434816379,328008.51718664094,55300.13865032183,40333.23671996309,6332.819912806648,106827.44074394015,7351.5156492688575,10005.13753625819,176631.56148491064,21172.977292150845,46648.86650246316,85871.84650773498,123460.43614691454,63016.54968332358,23196.446688163487,160901.18776718885,78840.86294032735,245347.62677804302,6994.366261639868,32008.15833792942,23176.941521990666,21254.770679085177,182935.71840284305,48896.42653330119,191361.40457031864,81002.29083429123,2014.4641554792317,36216.89351742431,323339.1916186676,352489.89572545525,42633.92277074916,58035.08170045305,35063.557160358214,26759.77573490119,201978.86115707512,17945.143685428186,18159.819577746046,8093.496681742657,9840.52480598807,40228.808732263846,43028.982324803634,326178.7999236035,54552.59553008741,42267.676915158976,517000.033872648,1165.6624025929261,10663.509161925418,15103.138482797618,15949.93078727586,42520.66231311855,54840.3053499346,28489.464330115094,173394.2582044301,87711.48010376851,54019.83113600234,92494.84385945159,15985.493905317584,14278.681426936873,11067.776968023418,121498.21435098413,14298.967303913085,43132.14834906776,32114.981724500343,81185.4200712006,35538.13106803854,93026.60745620426,7806.023742509673,52107.09911055864,22555.18203970314,15338.167771568242,366399.68687742535,16074.488448978254,17940.454796544785,17385.32011087088,66065.41418837517,164930.60141362346,25527.012389769596,31065.469724123606,486.2407387563803,164164.4707318194,83060.59824994058,21532.460475044667,9987.820945109706,9014.398653400265,37245.2281279969,37126.91333909373,36243.94674550457,30497.95233272077,12026.1315765662,49362.961331869956,18076.342534049858,9323.797697990789,62284.75866361694,130712.9537855788,36347.76505516883,37501.34731254056,350816.96415335545,175420.77472080634,25515.559589675537,138769.94960464825,20168.00313582764,44617.63160475807,12203.670270313338,39957.00966862685,630.8126669654908,56955.083904934065,43855.60075725101,27148.562199970074,8860.018484337548,29348.386993356406,37406.140974665286,27262.774208806182,99227.979583029,16169.002768944,6489.397010032871,5173.5181293497335,99711.79983774624,3342.14533787667,153097.64708796784,25703.013229662964,3802.882726012577,122672.27499059723,315787.13942971634,80734.37762037702,53806.886324995125,20708.42334036974,10071.416189251444,36800.37689871724,31893.492701449086,10796.393229212057,127569.89139789247,147194.14825542318,21358.377276334504,5109.187921313324,55564.2499865201,179407.16199649574,10405.629394715044,178612.13549913518,5766.614013628063,27922.074170308308,28494.574194827517,16935.496705667632,170104.49407530087,32971.383280965805,162450.2659285976,12928.953746636464,122542.82380033082,52570.44954213875,25772.79750477188,13934.547084465969,107181.11648551915,39686.09273709574,127569.89139789247,317.73562915551037,79730.53024068476,56692.72162575176,32062.509591236376,127569.89139789247,116948.76555117652,49064.71608514106,4350.107651656994,34806.1082222163,57984.947062152365,36079.070799369096,36885.35163195393,4009.927073601733,26068.074057810347,27731.454105775287,75938.35488184089,79736.66183534909,7667.976248285464,79731.03018444046,32352.926960588564,26934.687095813955,16633.053533102506,70876.9005822615,6869.753528698299,6880.800612143402,25880.53542488196,11808.1420765143,8335.351240031667,8272.70194397047,37606.84442193399,11219.276192581536,1354.872130354564,9740.269722153416,12188.103807178975,132893.90901546433,49064.71608514106,30372.72285266652,73610.21763116015,3453.946308146613,20672.225806956867,317.73562915551037,48601.03884598599,12508.802728381905,18488.868538505958,20822.73006779175,6740.637499693156,42525.35723367809,11370.316044832041,358794.1280121524,48988.10472110464,161041.68733267466,23625.57999534634,63784.5836520137,11777.853019332984,42522.53091502072,45796.54165005879,39864.76435637166,34592.41908500803,28732.852816240695,21781.957764258048,182251.71231688553,5070.070815651337,11143.633969554943,14832.203217616754,9098.414355150244,62018.3216137189,9540.427643932471,25244.127364496755,173967.90187217668,12878.524572710856,39868.35461012156,21785.51627961719,10410.120348352468,31893.492701449086,23148.58094134028,30046.164478718976,159469.21068332766,106308.26389203216,322124.3393837474,31771.357748258306,9385.195252945128,25511.24999282059,85049.3138705309,24910.747576946498],\"xaxis\":\"x\",\"y\":[5503.0589558089305,23408.380984259762,95684.89416192027,13210.340833773918,15023.940587494577,22091.58856441748,38672.15478535893,69704.30313758404,37078.20338611911,13294.04925047601,121504.6902330819,40807.95245231743,17711.433432362246,17267.189057345724,6596.87806093416,16141.729489327921,5818.255153595466,11051.14470345362,14980.678944575275,64607.455503513105,63904.04837688842,15418.15991759559,3028.297053524454,72702.41949956882,148832.48664774833,41966.22824186897,64849.419521736934,71957.82638131935,7017.45577801729,71821.93670429036,11875.175455738821,2754.2310558235686,10070.347331324498,18723.913031918597,31894.295563726573,83933.51255370778,22747.397251986,16640.60966872178,3766.1327179685695,20743.610612368346,45953.75588608175,7191.886381627385,12445.945296144644,23397.939525240232,56701.4325336074,46955.04673703133,12858.294883583136,92104.21206624625,67470.24739124074,13116.019524121857,5465.542270112367,12310.217585186889,74421.97119291562,10543.177992042432,4895.860017481122,29916.924866095414,14410.610144794886,24879.330884726147,9001.534222180871,12166.061618095548,140537.889475009,17873.411736736798,49707.045818447485,147088.78592553176,21363.882380291467,10985.819642287364,6964.985309254677,30701.091114641007,19543.36979041281,46559.33247025282,8754.123619781029,9101.47211150727,16748.969964225682,3961.8127885150375,3169.0135920538455,38124.819375512096,31999.002585883936,25019.230112767473,32528.928793536565,12580.438431042852,18879.521914992787,11650.35541727166,82774.26337749131,12934.840855119086,7011.8488265947635,56703.03249627475,6746.498270573656,33388.391306087884,19796.583170749996,42280.48198968522,6855.485696586402,52149.72251504032,159469.21068332766,14310.792101956737,26601.13687319441,43035.56290901245,6031.427536375716,24149.845870354653,127578.7852864871,43493.47003604542,156624.57339517528,11364.156235910787,38232.70746923399,35289.360333463614,25820.848128410715,1858.347357624819,8955.342702452805,14793.316300840752,84305.9012946083,9756.702847908551,3717.067474496797,28477.773565499712,28811.56385785534,12911.001535724614,3007.1066867405766,8835.204711442815,15260.424483509603,29779.417843480485,91707.62399209941,40996.44688408827,3745.736682627868,25240.401326360243,30606.536578979074,6530.293384849176,17388.64546622724,29236.36400672351,25881.21505659689,36372.01770483353,14685.634136831206,35380.76225543607,8804.942420806638,3526.9187308190358,21568.894628311555,13348.802433811808,65784.59749769632,2282.9600400213258,33261.08904604713,9828.232925082943,16731.65771653634,25495.2974701384,23720.60176106005,67352.24593379565,23625.96596852717,5694.624037750861,3566.014893930558,3556.89220211777,14684.393252770604,19494.959083202193,16177.882271585802,16875.234789031114,21235.55395044231,40743.662078457884,33223.47588763219,7125.267954732071,21958.112059531366,10838.458883311041,6071.88694743135,8832.322867740571,5886.151813724149,72729.21846466082,53157.56360618573,5217.109940367884,8772.404669659394,10152.97834843156,19680.492931705532,14274.580659481968,7473.082468613243,1100.3674450077415,13565.817815220278,44038.4647283616,36325.39169254848,34438.56988537066,30978.406200941445,32274.144276060404,58800.751878851166,12047.504135768504,115356.58712014642,12497.347165649413,13618.015693153211,5435.753364149144,24901.596032048656,130233.3734836535,75410.43812061456,64515.37557422412,6983.9576255756665,20052.301425168727,57754.93694549929,42052.18328567444,11559.680756016796,7970.75561334179,9289.522144123064,25106.09690854281,13215.555775765944,34642.55909291889,4386.922763117604,13781.335984334362,179407.16199649574,10614.685216770513,74953.4151601352,79468.6472669589,56703.03249627475,7807.162298060808,35183.26399697016,15699.539286354247,106316.89910162686,41039.99098333465,90199.47387405463,11256.35489573137,12754.949937575668,10049.475876689077,12622.447602524742,112760.59660832932,25278.2138073746,141752.7719243686,54232.582523562014,29575.684714777246,21825.540260009766,28294.32829334527,45450.63049622036,35747.52148983193,42079.463662875394,6512.026037514124,91274.18223950811,27477.399451660316,4868.406230477435,16208.725176527856,25875.064910105255,20433.810439207504,15861.76019136899,9388.749768059553,54840.33367946778,13484.747264574999,3794.1047525906315,7054.760215030121,15947.506274716883,13006.793454954992,41666.755619473566,4831.600915020965,7623.094437762285,22432.724829737002,23074.099565891254,2878.2757128448743,12595.718749472797,9438.860532913995,32485.568699139756,36827.475032857365,13417.142077602388,19923.741147103734,12494.545988677466,1760.9198916291025,30899.356610059705,5703.193648507748,2365.6670226811557,15150.637669730751,40772.278410547115,35935.22868792881,19313.471461249846,18179.77364293444,31392.943036275727,2172.7557591921345,22375.474185590203,118620.50403579528,13919.367106629887,10833.802871043337,14044.811033702363,13698.80181752679,77214.88118441924,7078.3948014464895,9798.854848159133,17218.72582449653,48754.46324685838,34299.27887462275,22006.99513589308,4779.9085503764045,21494.49204204363,6789.082221184694,130821.39345163273,83081.2034244371,26282.658674984417,29702.11702576824,12662.434447075293,86383.20390229009,27804.90770000098,8504.424348414284,32749.77557597085,7350.270054305935,62141.98214279717,29768.371990079995,2416.344959065855,11939.327274496052,12239.876594733303,6608.76787102345,83535.442413793,61723.25663022283,11029.402657272187,39054.67016685037,10493.985173714278,13076.49600674519,9131.112919461568,1850.2699991426696,27303.046829343693,6378.620250692337,70876.9005822615,37589.31844112155,26225.644250523033,32424.15098023021,10325.150234886749,24300.92156516406,29847.069474805914,7972.95762262464,11361.081587693694,11655.545888627603,7346.609722743573,15612.550200413192,70832.01059642158,6307.943565305224,6849.56100843344,16339.789949501735,126391.23704206564,10866.690993331633,5681.692805220712,80502.83112248778,36396.44532097529,1594.5064676467696,8040.991297960971,13892.853052098859,155179.85792163078,93808.2794658094,44828.46140420514,37357.630831977585,55339.767470231265,91129.33467706703,10524.188928596106,43273.62608511125,26052.230480999457,16914.943520897617,39844.72198640225,54016.15797887858,1147.7366775686667,91971.7178775011,23499.57343683803,5084.331177122738,13720.392954555682,22187.651272763153,7998.925956281606,1357.6247681384511,7589.673555381831,44986.57246290808,46511.018438367326,16729.794472694488,177186.92259888828,44658.14136255457,55509.10487233987,8316.552843462496,10980.05986844901,47486.86183554104,50319.175630756836,20760.71074276425,199608.47291870604,10276.546830823363,22894.167994795014,14290.410823572316,27030.51712740581,17485.22935344933,164482.58293308798,7615.848208883935,20177.619518906966,27626.49872852198,33413.16907160161,3433.8640528450906,32986.94354641747,7104.338872203742,23981.206254810328,107058.05929019205,20930.98953227617,124032.2428022864,16187.066673390234,27738.284445777696,3884.6943335697774,15238.162112125532,52073.77748960769,76167.07209330353,43682.374326680256,22598.453793362394,5070.810698268033,12692.579732528398,27978.2160932032,35988.65933353398,34701.59616493254,22601.735489487794,7234.872630605189,36087.49553095158,86627.16095726631,33276.403602795144,86382.11350834601,37842.37395603729,10164.31306030012,13812.814281204299,43255.346517069884,18445.44134081951,15484.79250574105,1776.3108627586644,47726.95824429806,15102.57698751692,40738.565731880844,8014.911718949555,15909.915173102861,30236.759972850443,20305.79644911055,9663.658762332154,74994.22625728406,69833.54310435748,20564.95376574649,20803.273573221588,153228.77761323878,178612.13549913518,107869.45497878901,18038.56343701802,22935.5405133443,11526.298514797702,30801.688408960046,11470.437753526185,15855.282508771978,16500.712357328055,53783.91040555607,21666.27584828461,21532.521183194563,13362.166212742997,7442.21783523137,68019.59495598343,5740.8704558104455,8920.671003920072,26574.706795317285,12098.8154394423,84348.56213253114,27961.41286987061,39476.91569031993,4974.6586065225665,25273.646446251136,28669.68961209038,1823.8962650616927,9130.044541008878,43285.54241262417,19138.602486962114,20306.64829021124,7816.382403522632,6539.600688371424,49707.045818447485,6777.969982758466,15608.682647973808,22589.125626686928,55586.90733693832,18795.48702174693,13515.088643452389,19272.34314331597,54634.55841496706,25586.81246084769,44941.889782529935,33034.487398276935,15538.30375427027,8035.931410859862,6295.50156430051,10242.858765237008,16728.065450278187,15694.764001795334,20603.673420058287,4803.345516595031,11459.601522690624,9872.738325573733,4644.275692259855,9535.70622317779,79527.14310764057,12764.257753923106,5301.206735500749,8672.575254191563,87104.66855330722,6957.228496358718,67710.85219014491,30538.893572034758,124248.70626075329,15816.746981066977,14724.792453776268,31784.75157806049,19311.686125133678,17718.89809125369,9178.191080211742,32856.379386153574,3822.6917617787335,40416.250389947876,65491.816944761566,26613.806917360507,33345.12407986133,13956.26912372809,47260.84814204169,10673.359663596846,26077.918231834818,12206.227014568269,6429.374761986372,64008.96298798574,68782.47962083158,8146.787895320202,18286.188903230603,3734.220620761551,40761.94841557594,1191.4203797480125,2028.7059430880383,4821.231935913582,3106.335032089873,29733.33232214615,5006.467010959578,30666.037986561776,20581.56698395705,21268.52300783167,3716.0649241877854,11211.376678960827,21923.88660987698,18766.759250818188,39100.37673175099,19913.95830417156,19226.007057213432,2962.3839499528312,58698.55201076571,4922.114868835994,6683.917293932254,11838.018500252181,4604.870013620813,18605.25158412101,75465.78069177603,31975.381274940286,20008.112739536286,48083.98282105852,4777.419913774204,15996.037105534722,74821.27216201395,17878.011171084167,94996.24272793114,3078.7558984282964,2079.030318171432,93279.76580867273,12891.712724329114,5579.618403724264,16590.607399967234,39828.60092026884,27709.499354678625,18875.2124373831,12914.117599899277,8858.99053293833,56378.98477099278,62140.286699277734,9677.860759801253,8437.370037709416,103540.03598036525,2631.8926652220803,42239.67712106438,6835.075649854098,51350.01284875232,2339.673467074917,21446.667185022434,43102.493440441576,8281.061381210553,3959.1264650175217,575.049463535353,9771.822261468576,39237.07772182185,10723.26878398667,34500.851094191545,53166.36013625445,11581.416702035709,12830.615163800467,13131.855156427606,7259.81411217175,11360.194692322159,21576.04708613896,10089.977926805666,49174.6460966455,30440.75329052447,77177.83106740662,24201.827444384286,15523.697753732506,4878.922882327636,12119.714476022844,85991.88442282386,10472.964688372003,11521.76636806764,7513.319834757752,50554.359351694846,3766.926384370706,42131.00683757407,5301.560365659669,18084.81041195612,7212.571201942574,21371.506830624472,23748.63404763544,7062.3086918668,4036.020372849113,14562.359918822274,82928.23509888933,4740.217495321936,15849.133006349462,79708.88474253773,69589.90284835533,9548.053131728966,189009.5580694261,7205.990222735622,35962.30529502053,7199.808834662196,23528.218096674736,34280.548679707055,20225.10018315151,38241.357251691916,75273.43304242774,7370.619029504967,46439.27757628071,52671.73010948705,10432.587953443257,12392.063148538033,10112.133852267909,46254.09791566861,14570.678368074623,12325.409963575068,18878.16280259057,28187.283546085302,7412.949261607628,19931.52207655369,18471.556045162826,28199.42969812798,6178.686346831972,3748.0163520154492,18965.624222382557,2941.4206221920085,16279.198870477547,41310.78898102437,31642.025465198538,13649.976486089081,20517.443482168845,16126.24340484184,46217.824377818775,26973.19562052176,4630.074375592302,18065.797035027303,24769.273237446436,14228.053700353037,16338.064222071389,17365.363614438684,10424.971984683054,33329.94389204351,19977.472871872513,54877.81638510943,59502.415734515605,10417.785688769922,51487.888197209024,55196.807624422945,10849.554985086283,141151.27763771295,44429.3688484887,14135.245043383602,6525.461337060233,18642.87355944534,49674.380769102696,16517.387747105782,17307.697004491914,14643.098210390881,7437.580556907315,44791.20134929285,4976.742037237134,114833.0287446706,15112.724289368154,36181.114806872494,13624.527064906957,21022.68389521285,33456.760667162125,2758.407638842075,3537.8312864169616,11547.693824628936,13075.306352511428,54992.342122141665,28345.823888771065,27244.35011048702,30415.566799272325,50118.66314223635,19106.537678082703,37027.317258787174,65848.89642912494,18286.648892969126,120517.27940513325,9587.655000948685,89337.85430915974,16717.602726576446,10063.985074536744,83535.70431076032,154112.97167960784,8899.118503737442,15450.214783858622,18043.071719065414,56840.86656729301,12585.470479010432,16621.046915509683,11132.632684642289,14467.329593953704,8848.293745444498,97295.4068783361,28008.73602261794,27563.766987139235,7198.104401848976,49302.736661264265,8384.020760641224,33831.80378983422,26508.33574379128,32492.670340052242,34285.58491354798,84568.34888066686,18009.80875176337,21866.428699051507,7699.888261922243,19486.995709427876,19268.674010759387,32086.431291073524,15104.650195542969,35744.489152032605,33964.27586547562,11559.367855422714,67481.55824894368,121967.14224430404,15248.05236358126,13794.99687251252,32841.14982304888,891.5375454807515,46258.49764048694,51912.24685748926,21705.039813872394,21545.36625714993,48787.98572946093,19256.104634099345,6337.331338976941,53361.47196148158,8116.489051292567,7427.778229898643,18913.219990202742,54616.72333084682,73162.57796914347,51542.698542436156,10399.347816450889,2870.7663987264045,41461.22462943043,18338.2628043273,15151.296339961405,19803.756225436653,6320.191581679077,12523.202158016713,10092.302183051845,11194.195316564015,40467.97577831313,13221.059011778705,20761.03860468198,85964.83445920325,50074.8785865897,3979.6379563313394,130115.55350522527,10121.834815417596,2817.076346224944,36120.04451029127,24310.880018433993,30294.676276254984,83596.77335737442,49735.54331425708,2684.803850852208,10217.628606621987,66442.71373252595,11958.227152893345,9630.518578893973,23026.922904066556,27965.04137748804,8116.008159862561,137960.05105431977,18649.395843415867,25772.79750477188,11956.321412520423,15987.158028090264,9531.051967441466,10030.69760511868,50925.6874911639,9169.693902393905,17511.639855932055,4237.9845972575295,30744.739174501414,10872.695928077539,13615.943512009673,47683.74356128847,20500.627669423742,12637.962241991585,13018.00299726338,20082.643260895402,51721.19125010564,78736.62889274106,196.41452441794138,10413.854184773805,31746.96465954358,13079.686690066108,34721.51162235834,53853.66657217475,129507.60603514433,109539.55212037341,30107.62657873092,43251.99274699715,1873.7655197913177,10533.855896337207,2210.454218567752,19920.238884592924,5892.253458942583,3344.3103756047217,14285.528271307825,8540.29297141746,30871.486704446394,19296.531904330477,28238.77922947364,6865.310293997064,17890.70769328486,3111.579551630483,5881.215192688643,3029.955526897459,83121.18301515098,15965.57936231897,50237.572080813596,68697.82068670439,69138.21237817605,123890.15523515924,23196.446688163487,71514.41998492337,52877.00622986826,184007.65339153213,7466.575208573632,7501.981268650446,9832.65781988307,27162.490004642827,82321.64495301741,82146.8415028168,38273.81178999154,24924.213164994755,2278.0408115940945,2954.280044140505,15398.57074670261,47003.03927507522,4482.566398007625,48624.012805971186,75049.64813072221,2032.403680734302,87346.34126940543,8075.339332953563,15527.873381923908,16056.46635897928,11042.180230999527,7484.47282811839,27490.851073388534,65240.978741144354,27335.106727002574,4696.463989802275,199868.5695079048,4393.650680606327,5674.6123330558685,22704.20792821204,11648.853132076787,31471.091953656633,44557.81236240304,29579.254610260377,108761.27613992093,58474.80734705828,27010.02810884712,98661.74230305114,1691.59421955725,13864.807202785405,14516.071849478385,20250.26488043886,42896.94163098254,36708.59211016327,60908.067639021276,74420.02477689464,32953.542067262104,82691.46620272279,11065.68271559382,29439.136343867325,25061.45724781744,16231.52054469347,80157.69600478721,6572.224633591918,17086.151493391713,6961.671465376671,13763.845879112785,59240.91111550665,22087.07287084646,18984.52083668047,609.2507956610165,109444.80447675475,55374.19360670443,4820.725049241978,9171.06260178009,8374.684996003873,5565.398950193302,37126.91333909373,19188.07213511777,19170.26096812076,5503.494997134667,53047.320252064485,12597.514530684832,5326.411178483006,29788.504127184344,4244.006437805097,32713.024897053525,45314.267093771865,70169.70747287944,175420.77472080634,25515.559589675537,106747.42886873205,25591.97309740374,19684.264675929302,8135.789865638426,3228.886365266112,7454.2524710238695,56955.083904934065,31895.0911008158,25276.436410854367,6191.484260454153,14674.260197254545,24937.612037443192,7351.812341404,81186.69276144938,11490.713486714465,6200.063088587091,3054.8427488510383,30613.655504297683,11578.153116487743,153097.64708796784,25703.013229662964,29827.443678071235,105149.6670616965,194772.9262650281,35882.44396387486,38841.87457192326,27335.12626430555,7765.9339875071955,36800.37689871724,31893.492701449086,20248.098081328957,127569.89139789247,147194.14825542318,7654.074400927565,4840.283470786604,41673.807625501286,179407.16199649574,12129.166330419395,178612.13549913518,14438.044889470853,18276.402416967805,41159.119097523544,6129.067215356865,85054.37329067008,13738.104352026508,14768.922026653965,12928.953746636464,85881.92519321913,18383.76296584715,25772.79750477188,13203.878566763451,11587.523527211453,30790.949356614597,127569.89139789247,317.73562915551037,63784.5836520137,5315.02293006844,16031.254795618188,127569.89139789247,116948.76555117652,49064.71608514106,3583.3952672741552,28947.72908639334,39864.76435637166,17133.214297660106,25536.099970211653,12818.626031898151,26068.074057810347,27731.454105775287,75938.35488184089,56955.083904934065,12194.866211192808,79731.03018444046,33942.88938702187,34630.4768859908,15524.18576171294,70876.9005822615,11235.882211638871,15891.382345803493,10814.49786638675,15815.96937173107,13066.801583080854,7427.319980158111,37282.10500255045,19167.667797075526,1354.872130354564,4740.852912234599,11991.521804776094,177191.14040009602,49064.71608514106,30372.72285266652,67122.39226971843,9733.857870640748,20672.225806956867,317.73562915551037,20012.36063468959,12948.243896025135,18488.868538505958,14537.613889741035,16960.342204044595,42525.35723367809,12817.465219932246,71764.56619366685,46039.8136134996,6804.9137747244395,23625.57999534634,63784.5836520137,18048.32999868356,42522.53091502072,9833.75070144385,39864.76435637166,32358.826266768465,12057.55133833447,21781.957764258048,182251.71231688553,6450.507649018463,14227.447003891397,14832.203217616754,8015.272367970422,62018.3216137189,9540.427643932471,17003.879556224205,43493.60639673762,6615.705987647714,132891.41459840556,13289.949378194597,12181.918060773842,31893.492701449086,17039.34351496838,20132.536678354947,159469.21068332766,106308.26389203216,8121.591468347412,23689.166950549894,17281.35295263006,16083.211493536888,85049.3138705309,11994.111487552349],\"yaxis\":\"y\",\"type\":\"scattergl\",\"textposition\":\"top center\"}],                        {\"template\":{\"data\":{\"bar\":[{\"error_x\":{\"color\":\"#2a3f5f\"},\"error_y\":{\"color\":\"#2a3f5f\"},\"marker\":{\"line\":{\"color\":\"#E5ECF6\",\"width\":0.5},\"pattern\":{\"fillmode\":\"overlay\",\"size\":10,\"solidity\":0.2}},\"type\":\"bar\"}],\"barpolar\":[{\"marker\":{\"line\":{\"color\":\"#E5ECF6\",\"width\":0.5},\"pattern\":{\"fillmode\":\"overlay\",\"size\":10,\"solidity\":0.2}},\"type\":\"barpolar\"}],\"carpet\":[{\"aaxis\":{\"endlinecolor\":\"#2a3f5f\",\"gridcolor\":\"white\",\"linecolor\":\"white\",\"minorgridcolor\":\"white\",\"startlinecolor\":\"#2a3f5f\"},\"baxis\":{\"endlinecolor\":\"#2a3f5f\",\"gridcolor\":\"white\",\"linecolor\":\"white\",\"minorgridcolor\":\"white\",\"startlinecolor\":\"#2a3f5f\"},\"type\":\"carpet\"}],\"choropleth\":[{\"colorbar\":{\"outlinewidth\":0,\"ticks\":\"\"},\"type\":\"choropleth\"}],\"contour\":[{\"colorbar\":{\"outlinewidth\":0,\"ticks\":\"\"},\"colorscale\":[[0.0,\"#0d0887\"],[0.1111111111111111,\"#46039f\"],[0.2222222222222222,\"#7201a8\"],[0.3333333333333333,\"#9c179e\"],[0.4444444444444444,\"#bd3786\"],[0.5555555555555556,\"#d8576b\"],[0.6666666666666666,\"#ed7953\"],[0.7777777777777778,\"#fb9f3a\"],[0.8888888888888888,\"#fdca26\"],[1.0,\"#f0f921\"]],\"type\":\"contour\"}],\"contourcarpet\":[{\"colorbar\":{\"outlinewidth\":0,\"ticks\":\"\"},\"type\":\"contourcarpet\"}],\"heatmap\":[{\"colorbar\":{\"outlinewidth\":0,\"ticks\":\"\"},\"colorscale\":[[0.0,\"#0d0887\"],[0.1111111111111111,\"#46039f\"],[0.2222222222222222,\"#7201a8\"],[0.3333333333333333,\"#9c179e\"],[0.4444444444444444,\"#bd3786\"],[0.5555555555555556,\"#d8576b\"],[0.6666666666666666,\"#ed7953\"],[0.7777777777777778,\"#fb9f3a\"],[0.8888888888888888,\"#fdca26\"],[1.0,\"#f0f921\"]],\"type\":\"heatmap\"}],\"heatmapgl\":[{\"colorbar\":{\"outlinewidth\":0,\"ticks\":\"\"},\"colorscale\":[[0.0,\"#0d0887\"],[0.1111111111111111,\"#46039f\"],[0.2222222222222222,\"#7201a8\"],[0.3333333333333333,\"#9c179e\"],[0.4444444444444444,\"#bd3786\"],[0.5555555555555556,\"#d8576b\"],[0.6666666666666666,\"#ed7953\"],[0.7777777777777778,\"#fb9f3a\"],[0.8888888888888888,\"#fdca26\"],[1.0,\"#f0f921\"]],\"type\":\"heatmapgl\"}],\"histogram\":[{\"marker\":{\"pattern\":{\"fillmode\":\"overlay\",\"size\":10,\"solidity\":0.2}},\"type\":\"histogram\"}],\"histogram2d\":[{\"colorbar\":{\"outlinewidth\":0,\"ticks\":\"\"},\"colorscale\":[[0.0,\"#0d0887\"],[0.1111111111111111,\"#46039f\"],[0.2222222222222222,\"#7201a8\"],[0.3333333333333333,\"#9c179e\"],[0.4444444444444444,\"#bd3786\"],[0.5555555555555556,\"#d8576b\"],[0.6666666666666666,\"#ed7953\"],[0.7777777777777778,\"#fb9f3a\"],[0.8888888888888888,\"#fdca26\"],[1.0,\"#f0f921\"]],\"type\":\"histogram2d\"}],\"histogram2dcontour\":[{\"colorbar\":{\"outlinewidth\":0,\"ticks\":\"\"},\"colorscale\":[[0.0,\"#0d0887\"],[0.1111111111111111,\"#46039f\"],[0.2222222222222222,\"#7201a8\"],[0.3333333333333333,\"#9c179e\"],[0.4444444444444444,\"#bd3786\"],[0.5555555555555556,\"#d8576b\"],[0.6666666666666666,\"#ed7953\"],[0.7777777777777778,\"#fb9f3a\"],[0.8888888888888888,\"#fdca26\"],[1.0,\"#f0f921\"]],\"type\":\"histogram2dcontour\"}],\"mesh3d\":[{\"colorbar\":{\"outlinewidth\":0,\"ticks\":\"\"},\"type\":\"mesh3d\"}],\"parcoords\":[{\"line\":{\"colorbar\":{\"outlinewidth\":0,\"ticks\":\"\"}},\"type\":\"parcoords\"}],\"pie\":[{\"automargin\":true,\"type\":\"pie\"}],\"scatter\":[{\"marker\":{\"colorbar\":{\"outlinewidth\":0,\"ticks\":\"\"}},\"type\":\"scatter\"}],\"scatter3d\":[{\"line\":{\"colorbar\":{\"outlinewidth\":0,\"ticks\":\"\"}},\"marker\":{\"colorbar\":{\"outlinewidth\":0,\"ticks\":\"\"}},\"type\":\"scatter3d\"}],\"scattercarpet\":[{\"marker\":{\"colorbar\":{\"outlinewidth\":0,\"ticks\":\"\"}},\"type\":\"scattercarpet\"}],\"scattergeo\":[{\"marker\":{\"colorbar\":{\"outlinewidth\":0,\"ticks\":\"\"}},\"type\":\"scattergeo\"}],\"scattergl\":[{\"marker\":{\"colorbar\":{\"outlinewidth\":0,\"ticks\":\"\"}},\"type\":\"scattergl\"}],\"scattermapbox\":[{\"marker\":{\"colorbar\":{\"outlinewidth\":0,\"ticks\":\"\"}},\"type\":\"scattermapbox\"}],\"scatterpolar\":[{\"marker\":{\"colorbar\":{\"outlinewidth\":0,\"ticks\":\"\"}},\"type\":\"scatterpolar\"}],\"scatterpolargl\":[{\"marker\":{\"colorbar\":{\"outlinewidth\":0,\"ticks\":\"\"}},\"type\":\"scatterpolargl\"}],\"scatterternary\":[{\"marker\":{\"colorbar\":{\"outlinewidth\":0,\"ticks\":\"\"}},\"type\":\"scatterternary\"}],\"surface\":[{\"colorbar\":{\"outlinewidth\":0,\"ticks\":\"\"},\"colorscale\":[[0.0,\"#0d0887\"],[0.1111111111111111,\"#46039f\"],[0.2222222222222222,\"#7201a8\"],[0.3333333333333333,\"#9c179e\"],[0.4444444444444444,\"#bd3786\"],[0.5555555555555556,\"#d8576b\"],[0.6666666666666666,\"#ed7953\"],[0.7777777777777778,\"#fb9f3a\"],[0.8888888888888888,\"#fdca26\"],[1.0,\"#f0f921\"]],\"type\":\"surface\"}],\"table\":[{\"cells\":{\"fill\":{\"color\":\"#EBF0F8\"},\"line\":{\"color\":\"white\"}},\"header\":{\"fill\":{\"color\":\"#C8D4E3\"},\"line\":{\"color\":\"white\"}},\"type\":\"table\"}]},\"layout\":{\"annotationdefaults\":{\"arrowcolor\":\"#2a3f5f\",\"arrowhead\":0,\"arrowwidth\":1},\"autotypenumbers\":\"strict\",\"coloraxis\":{\"colorbar\":{\"outlinewidth\":0,\"ticks\":\"\"}},\"colorscale\":{\"diverging\":[[0,\"#8e0152\"],[0.1,\"#c51b7d\"],[0.2,\"#de77ae\"],[0.3,\"#f1b6da\"],[0.4,\"#fde0ef\"],[0.5,\"#f7f7f7\"],[0.6,\"#e6f5d0\"],[0.7,\"#b8e186\"],[0.8,\"#7fbc41\"],[0.9,\"#4d9221\"],[1,\"#276419\"]],\"sequential\":[[0.0,\"#0d0887\"],[0.1111111111111111,\"#46039f\"],[0.2222222222222222,\"#7201a8\"],[0.3333333333333333,\"#9c179e\"],[0.4444444444444444,\"#bd3786\"],[0.5555555555555556,\"#d8576b\"],[0.6666666666666666,\"#ed7953\"],[0.7777777777777778,\"#fb9f3a\"],[0.8888888888888888,\"#fdca26\"],[1.0,\"#f0f921\"]],\"sequentialminus\":[[0.0,\"#0d0887\"],[0.1111111111111111,\"#46039f\"],[0.2222222222222222,\"#7201a8\"],[0.3333333333333333,\"#9c179e\"],[0.4444444444444444,\"#bd3786\"],[0.5555555555555556,\"#d8576b\"],[0.6666666666666666,\"#ed7953\"],[0.7777777777777778,\"#fb9f3a\"],[0.8888888888888888,\"#fdca26\"],[1.0,\"#f0f921\"]]},\"colorway\":[\"#636efa\",\"#EF553B\",\"#00cc96\",\"#ab63fa\",\"#FFA15A\",\"#19d3f3\",\"#FF6692\",\"#B6E880\",\"#FF97FF\",\"#FECB52\"],\"font\":{\"color\":\"#2a3f5f\"},\"geo\":{\"bgcolor\":\"white\",\"lakecolor\":\"white\",\"landcolor\":\"#E5ECF6\",\"showlakes\":true,\"showland\":true,\"subunitcolor\":\"white\"},\"hoverlabel\":{\"align\":\"left\"},\"hovermode\":\"closest\",\"mapbox\":{\"style\":\"light\"},\"paper_bgcolor\":\"white\",\"plot_bgcolor\":\"#E5ECF6\",\"polar\":{\"angularaxis\":{\"gridcolor\":\"white\",\"linecolor\":\"white\",\"ticks\":\"\"},\"bgcolor\":\"#E5ECF6\",\"radialaxis\":{\"gridcolor\":\"white\",\"linecolor\":\"white\",\"ticks\":\"\"}},\"scene\":{\"xaxis\":{\"backgroundcolor\":\"#E5ECF6\",\"gridcolor\":\"white\",\"gridwidth\":2,\"linecolor\":\"white\",\"showbackground\":true,\"ticks\":\"\",\"zerolinecolor\":\"white\"},\"yaxis\":{\"backgroundcolor\":\"#E5ECF6\",\"gridcolor\":\"white\",\"gridwidth\":2,\"linecolor\":\"white\",\"showbackground\":true,\"ticks\":\"\",\"zerolinecolor\":\"white\"},\"zaxis\":{\"backgroundcolor\":\"#E5ECF6\",\"gridcolor\":\"white\",\"gridwidth\":2,\"linecolor\":\"white\",\"showbackground\":true,\"ticks\":\"\",\"zerolinecolor\":\"white\"}},\"shapedefaults\":{\"line\":{\"color\":\"#2a3f5f\"}},\"ternary\":{\"aaxis\":{\"gridcolor\":\"white\",\"linecolor\":\"white\",\"ticks\":\"\"},\"baxis\":{\"gridcolor\":\"white\",\"linecolor\":\"white\",\"ticks\":\"\"},\"bgcolor\":\"#E5ECF6\",\"caxis\":{\"gridcolor\":\"white\",\"linecolor\":\"white\",\"ticks\":\"\"}},\"title\":{\"x\":0.05},\"xaxis\":{\"automargin\":true,\"gridcolor\":\"white\",\"linecolor\":\"white\",\"ticks\":\"\",\"title\":{\"standoff\":15},\"zerolinecolor\":\"white\",\"zerolinewidth\":2},\"yaxis\":{\"automargin\":true,\"gridcolor\":\"white\",\"linecolor\":\"white\",\"ticks\":\"\",\"title\":{\"standoff\":15},\"zerolinecolor\":\"white\",\"zerolinewidth\":2}}},\"xaxis\":{\"anchor\":\"y\",\"domain\":[0.0,1.0],\"title\":{\"text\":\"meme_score_BT\"}},\"yaxis\":{\"anchor\":\"x\",\"domain\":[0.0,1.0],\"title\":{\"text\":\"meme_score_A\"}},\"legend\":{\"tracegroupgap\":0},\"margin\":{\"t\":60}},                        {\"responsive\": true}                    ).then(function(){\n                            \nvar gd = document.getElementById('a414ad84-8160-4b5a-a516-a644beb82fea');\nvar x = new MutationObserver(function (mutations, observer) {{\n        var display = window.getComputedStyle(gd).display;\n        if (!display || display === 'none') {{\n            console.log([gd, 'removed!']);\n            Plotly.purge(gd);\n            observer.disconnect();\n        }}\n}});\n\n// Listen for the removal of the full notebook cells\nvar notebookContainer = gd.closest('#notebook-container');\nif (notebookContainer) {{\n    x.observe(notebookContainer, {childList: true});\n}}\n\n// Listen for the clearing of the current output cell\nvar outputEl = gd.closest('.output');\nif (outputEl) {{\n    x.observe(outputEl, {childList: true});\n}}\n\n                        })                };                });            </script>        </div>"
     },
     "metadata": {},
     "output_type": "display_data"
    }
   ],
   "source": [
    "fig = px.scatter(df_to_plot, x=\"meme_score_BT\", y=\"meme_score_A\", text=\"chosen\")\n",
    "fig.update_traces(textposition='top center')\n",
    "fig.show()"
   ],
   "metadata": {
    "collapsed": false,
    "pycharm": {
     "name": "#%%\n"
    }
   }
  },
  {
   "cell_type": "code",
   "execution_count": 149,
   "outputs": [
    {
     "data": {
      "application/vnd.plotly.v1+json": {
       "data": [
        {
         "hovertemplate": "meme_score_vanilla_log=%{x}<br>log_div=%{y}<br>chosen=%{text}<extra></extra>",
         "legendgroup": "",
         "marker": {
          "color": "#636efa",
          "symbol": "circle"
         },
         "mode": "markers+text",
         "name": "",
         "showlegend": false,
         "text": [
          " ",
          " ",
          " ",
          " ",
          " ",
          " ",
          " ",
          " ",
          " ",
          " ",
          " ",
          " ",
          " ",
          " ",
          " ",
          " ",
          " ",
          " ",
          " ",
          " ",
          " ",
          " ",
          " ",
          " ",
          " ",
          " ",
          " ",
          " ",
          " ",
          " ",
          " ",
          " ",
          " ",
          " ",
          " ",
          " ",
          " ",
          " ",
          " ",
          " ",
          " ",
          " ",
          " ",
          " ",
          " ",
          " ",
          " ",
          " ",
          " ",
          " ",
          " ",
          " ",
          " ",
          " ",
          " ",
          " ",
          " ",
          " ",
          " ",
          " ",
          " ",
          " ",
          " ",
          " ",
          " ",
          " ",
          " ",
          " ",
          " ",
          " ",
          " ",
          " ",
          " ",
          " ",
          " ",
          " ",
          " ",
          " ",
          " ",
          " ",
          " ",
          " ",
          " ",
          " ",
          " ",
          " ",
          " ",
          " ",
          " ",
          " ",
          " ",
          " ",
          " ",
          " ",
          " ",
          " ",
          " ",
          " ",
          " ",
          " ",
          " ",
          " ",
          " ",
          " ",
          " ",
          " ",
          " ",
          " ",
          " ",
          " ",
          " ",
          " ",
          " ",
          " ",
          " ",
          " ",
          " ",
          " ",
          " ",
          " ",
          " ",
          " ",
          " ",
          " ",
          " ",
          " ",
          " ",
          " ",
          " ",
          " ",
          " ",
          " ",
          " ",
          "large search space",
          " ",
          " ",
          " ",
          " ",
          " ",
          " ",
          " ",
          " ",
          " ",
          " ",
          " ",
          " ",
          " ",
          " ",
          " ",
          " ",
          " ",
          " ",
          " ",
          " ",
          " ",
          " ",
          " ",
          " ",
          " ",
          " ",
          " ",
          " ",
          " ",
          " ",
          " ",
          " ",
          "sensitive datum",
          " ",
          " ",
          " ",
          " ",
          " ",
          " ",
          " ",
          " ",
          " ",
          " ",
          " ",
          " ",
          " ",
          "transparency",
          " ",
          " ",
          " ",
          " ",
          " ",
          " ",
          " ",
          " ",
          " ",
          " ",
          " ",
          " ",
          " ",
          " ",
          " ",
          " ",
          " ",
          " ",
          " ",
          " ",
          " ",
          " ",
          " ",
          " ",
          " ",
          " ",
          " ",
          " ",
          " ",
          " ",
          " ",
          " ",
          " ",
          " ",
          " ",
          " ",
          " ",
          " ",
          " ",
          " ",
          " ",
          " ",
          " ",
          " ",
          " ",
          " ",
          " ",
          " ",
          " ",
          " ",
          " ",
          " ",
          " ",
          " ",
          " ",
          " ",
          " ",
          " ",
          " ",
          " ",
          " ",
          " ",
          " ",
          " ",
          " ",
          " ",
          " ",
          " ",
          " ",
          " ",
          " ",
          " ",
          " ",
          " ",
          " ",
          " ",
          " ",
          " ",
          " ",
          " ",
          " ",
          " ",
          " ",
          " ",
          " ",
          " ",
          " ",
          " ",
          " ",
          " ",
          " ",
          " ",
          " ",
          " ",
          " ",
          " ",
          "ethical issue",
          " ",
          " ",
          " ",
          " ",
          " ",
          " ",
          " ",
          " ",
          " ",
          " ",
          " ",
          " ",
          " ",
          " ",
          " ",
          " ",
          " ",
          " ",
          " ",
          " ",
          " ",
          " ",
          " ",
          " ",
          " ",
          " ",
          " ",
          " ",
          " ",
          " ",
          " ",
          " ",
          " ",
          " ",
          " ",
          " ",
          " ",
          " ",
          " ",
          " ",
          " ",
          " ",
          " ",
          " ",
          " ",
          " ",
          " ",
          " ",
          " ",
          " ",
          " ",
          " ",
          " ",
          " ",
          " ",
          " ",
          " ",
          " ",
          " ",
          " ",
          " ",
          " ",
          " ",
          " ",
          " ",
          " ",
          " ",
          " ",
          " ",
          " ",
          " ",
          " ",
          " ",
          " ",
          " ",
          " ",
          " ",
          " ",
          " ",
          " ",
          "fairness",
          " ",
          " ",
          " ",
          " ",
          " ",
          " ",
          " ",
          " ",
          " ",
          " ",
          " ",
          " ",
          " ",
          " ",
          " ",
          " ",
          " ",
          "vr application",
          " ",
          " ",
          " ",
          " ",
          " ",
          " ",
          " ",
          " ",
          " ",
          " ",
          " ",
          " ",
          " ",
          " ",
          " ",
          " ",
          " ",
          " ",
          " ",
          " ",
          " ",
          " ",
          " ",
          " ",
          " ",
          " ",
          " ",
          " ",
          " ",
          " ",
          " ",
          " ",
          " ",
          " ",
          " ",
          " ",
          " ",
          "privacy",
          " ",
          " ",
          " ",
          " ",
          " ",
          " ",
          " ",
          " ",
          " ",
          " ",
          " ",
          " ",
          " ",
          " ",
          " ",
          " ",
          " ",
          " ",
          " ",
          " ",
          " ",
          " ",
          " ",
          " ",
          " ",
          " ",
          " ",
          " ",
          " ",
          " ",
          " ",
          " ",
          " ",
          " ",
          " ",
          " ",
          " ",
          " ",
          " ",
          " ",
          " ",
          " ",
          " ",
          " ",
          " ",
          " ",
          " ",
          " ",
          " ",
          " ",
          " ",
          " ",
          " ",
          " ",
          " ",
          " ",
          " ",
          " ",
          " ",
          " ",
          " ",
          " ",
          " ",
          " ",
          " ",
          " ",
          " ",
          " ",
          " ",
          " ",
          " ",
          " ",
          " ",
          " ",
          " ",
          " ",
          " ",
          " ",
          " ",
          "several public dataset",
          " ",
          " ",
          " ",
          " ",
          " ",
          " ",
          " ",
          " ",
          " ",
          " ",
          " ",
          " ",
          " ",
          " ",
          " ",
          " ",
          " ",
          " ",
          " ",
          " ",
          " ",
          " ",
          " ",
          " ",
          " ",
          " ",
          " ",
          " ",
          " ",
          " ",
          " ",
          " ",
          " ",
          " ",
          " ",
          " ",
          " ",
          " ",
          " ",
          " ",
          " ",
          " ",
          " ",
          " ",
          " ",
          " ",
          " ",
          " ",
          " ",
          " ",
          " ",
          " ",
          " ",
          " ",
          " ",
          " ",
          " ",
          " ",
          " ",
          " ",
          " ",
          " ",
          " ",
          " ",
          " ",
          " ",
          " ",
          " ",
          " ",
          " ",
          " ",
          " ",
          " ",
          " ",
          " ",
          " ",
          " ",
          " ",
          " ",
          " ",
          " ",
          " ",
          " ",
          " ",
          " ",
          " ",
          " ",
          " ",
          " ",
          " ",
          " ",
          " ",
          " ",
          " ",
          " ",
          "package",
          " ",
          " ",
          " ",
          " ",
          " ",
          " ",
          " ",
          " ",
          " ",
          " ",
          " ",
          " ",
          " ",
          " ",
          " ",
          " ",
          " ",
          " ",
          " ",
          " ",
          " ",
          " ",
          " ",
          " ",
          " ",
          " ",
          " ",
          " ",
          " ",
          " ",
          " ",
          " ",
          " ",
          " ",
          " ",
          " ",
          " ",
          " ",
          " ",
          " ",
          " ",
          " ",
          " ",
          " ",
          " ",
          " ",
          " ",
          " ",
          " ",
          " ",
          " ",
          " ",
          " ",
          " ",
          " ",
          " ",
          " ",
          " ",
          " ",
          " ",
          " ",
          " ",
          " ",
          " ",
          " ",
          " ",
          " ",
          " ",
          " ",
          " ",
          " ",
          " ",
          " ",
          " ",
          "chatbot",
          " ",
          " ",
          " ",
          " ",
          " ",
          " ",
          " ",
          " ",
          " ",
          " ",
          " ",
          " ",
          " ",
          " ",
          " ",
          " ",
          " ",
          " ",
          " ",
          " ",
          " ",
          " ",
          " ",
          " ",
          " ",
          " ",
          " ",
          " ",
          " ",
          " ",
          " ",
          " ",
          " ",
          " ",
          " ",
          " ",
          " ",
          " ",
          " ",
          " ",
          " ",
          " ",
          " ",
          " ",
          " ",
          " ",
          " ",
          " ",
          " ",
          " ",
          " ",
          " ",
          " ",
          " ",
          " ",
          " ",
          " ",
          " ",
          " ",
          " ",
          " ",
          " ",
          " ",
          " ",
          " ",
          " ",
          " ",
          " ",
          " ",
          " ",
          " ",
          " ",
          " ",
          " ",
          " ",
          " ",
          " ",
          " ",
          " ",
          " ",
          " ",
          " ",
          " ",
          " ",
          " ",
          " ",
          " ",
          " ",
          " ",
          " ",
          " ",
          " ",
          " ",
          " ",
          " ",
          " ",
          " ",
          " ",
          " ",
          " ",
          " ",
          " ",
          " ",
          " ",
          " ",
          " ",
          " ",
          " ",
          " ",
          " ",
          " ",
          " ",
          " ",
          " ",
          " ",
          " ",
          " ",
          " ",
          " ",
          " ",
          " ",
          " ",
          " ",
          " ",
          " ",
          " ",
          " ",
          " ",
          " ",
          " ",
          " ",
          " ",
          " ",
          " ",
          " ",
          " ",
          " ",
          " ",
          " ",
          " ",
          " ",
          " ",
          " ",
          " ",
          "confidentiality",
          " ",
          " ",
          " ",
          " ",
          " ",
          " ",
          " ",
          " ",
          " ",
          " ",
          " ",
          " ",
          " ",
          " ",
          " ",
          " ",
          " ",
          " ",
          " ",
          " ",
          " ",
          " ",
          " ",
          " ",
          " ",
          " ",
          " ",
          " ",
          " ",
          " ",
          " ",
          " ",
          " ",
          " ",
          " ",
          " ",
          " ",
          " ",
          " ",
          " ",
          " ",
          " ",
          " ",
          " ",
          " ",
          "hate speech",
          " ",
          " ",
          " ",
          " ",
          " ",
          " ",
          " ",
          " ",
          " ",
          " ",
          " ",
          " ",
          " ",
          " ",
          " ",
          " ",
          " ",
          " ",
          " ",
          " ",
          " ",
          " ",
          " ",
          " ",
          " ",
          " ",
          " ",
          " ",
          " ",
          " ",
          " ",
          " ",
          " ",
          " ",
          " ",
          " ",
          " ",
          " ",
          " ",
          " ",
          " ",
          " ",
          " ",
          " ",
          " ",
          " ",
          " ",
          " ",
          "detection time",
          " ",
          " ",
          " ",
          " ",
          " ",
          " ",
          " ",
          " ",
          " ",
          " ",
          " ",
          " ",
          " ",
          " ",
          " ",
          " ",
          " ",
          " ",
          " ",
          " ",
          " ",
          " ",
          " ",
          " ",
          " ",
          " ",
          " ",
          " ",
          " ",
          " ",
          " ",
          " ",
          " ",
          " ",
          " ",
          " ",
          " ",
          " ",
          " ",
          " ",
          " ",
          " ",
          " ",
          " ",
          " ",
          " ",
          " ",
          " ",
          " ",
          " ",
          " ",
          " ",
          "recommender system",
          " ",
          " ",
          " ",
          " ",
          " ",
          " ",
          " ",
          " ",
          " ",
          " ",
          " ",
          " ",
          " ",
          " ",
          " ",
          " ",
          " ",
          " ",
          " ",
          " ",
          " ",
          " ",
          " ",
          " ",
          " ",
          " ",
          " ",
          " ",
          " ",
          " ",
          " ",
          " ",
          " ",
          " ",
          " ",
          " ",
          " ",
          " ",
          " ",
          " ",
          " ",
          " ",
          " ",
          " ",
          " ",
          " ",
          " ",
          " ",
          " ",
          " ",
          " ",
          " ",
          " ",
          " ",
          " ",
          " ",
          "image classification task",
          " ",
          " ",
          " ",
          " ",
          " ",
          " ",
          " ",
          " ",
          " ",
          " ",
          " ",
          " ",
          " ",
          " ",
          " ",
          " ",
          " ",
          " ",
          " ",
          " ",
          " ",
          " ",
          " ",
          " ",
          " ",
          " ",
          " ",
          "comparative analysis",
          " ",
          " ",
          " ",
          " ",
          " "
         ],
         "x": [
          8.664433919852195,
          10.060849398941697,
          11.468815719234135,
          9.671893455094091,
          9.610969360739096,
          10.078898859193838,
          10.562875105452811,
          11.160915321981676,
          10.637865672025306,
          9.454720517049235,
          11.707708143759088,
          10.616632254446168,
          9.763947193617167,
          9.130629427770034,
          8.794351795034176,
          9.640373165480456,
          8.711143481676318,
          9.491488000196938,
          9.614516579447026,
          10.925262529228648,
          11.065137993239674,
          9.654351171743196,
          8.006453321467452,
          11.184130752186725,
          11.949797479053162,
          10.644620484332847,
          11.077275467183664,
          11.183835481678846,
          8.85615600654426,
          11.18194523350241,
          9.39083765187353,
          7.920893574034976,
          9.27793876835191,
          9.809385960068955,
          10.370182450328581,
          10.326195244333796,
          10.045320202194631,
          9.719601352449317,
          8.210547114573421,
          9.811059983549129,
          10.607558036929422,
          8.774695975433081,
          10.048189652953875,
          10.060403242991857,
          10.945554754539673,
          10.040273109878944,
          9.476663501938281,
          11.430675954815957,
          11.119442000299806,
          9.481589626536309,
          9.35138703920047,
          9.410637694565242,
          11.217506488957993,
          9.263234293919734,
          8.415367407757588,
          10.4182970696538,
          9.404448482227119,
          10.178278920536307,
          8.973958215557209,
          9.394059691445127,
          11.756068821262435,
          9.791069509725617,
          10.813901969007507,
          11.89879166932278,
          9.954988635417878,
          9.290571502846795,
          8.797792381313625,
          10.165000788063729,
          9.88039136673679,
          10.748482745323438,
          8.911243243535381,
          9.081344742874977,
          9.750551713238453,
          8.280350194113021,
          8.264853870011382,
          10.548620776207004,
          10.536363520749138,
          9.919761369047954,
          10.588931146930083,
          9.826315330503254,
          9.683315069930131,
          9.292887831041902,
          11.15202319319158,
          9.467679791113369,
          8.855356686566674,
          10.945582971465118,
          8.81677887452658,
          10.38856461621322,
          9.863763987667705,
          10.64065215710246,
          8.83280444238018,
          10.88999705130121,
          11.979606146104935,
          9.529989037894905,
          10.188709233450254,
          10.874082908595936,
          8.68638989573886,
          9.9538834162952,
          11.756489376559893,
          10.562584444910735,
          11.955863859260434,
          10.193210442781,
          10.522459191882653,
          10.47133679050514,
          10.149604416144358,
          8.909096954331384,
          9.100005583159856,
          9.601930756455086,
          9.149637302745036,
          9.185709799371917,
          8.201569288943277,
          10.256879187101369,
          10.548834334969031,
          9.447090420409832,
          8.59558627797414,
          9.086499554993889,
          9.633018121195319,
          10.301572757473402,
          11.424514275205537,
          10.614291897246513,
          8.21720029947458,
          10.090693023428413,
          10.328968878820442,
          8.784207150028312,
          9.824829684967442,
          9.772346265701481,
          10.308908838557693,
          10.50155501361665,
          9.582819534121194,
          10.473923512293338,
          9.099294236638924,
          8.168179887957265,
          9.958804795166735,
          6.8957386770370865,
          11.09414100933015,
          7.733228143100801,
          10.63528788027152,
          9.246371777542878,
          9.718022654543956,
          10.13858643433103,
          10.067584543244022,
          11.359809651591743,
          10.070101639082775,
          8.647277857503848,
          8.800154901665783,
          8.10206052769628,
          9.6378850035201,
          10.128692922040328,
          9.63424190778122,
          9.733602429068005,
          9.945574519649913,
          10.615055574755697,
          10.411012010072755,
          8.915502468555646,
          10.004345657264178,
          9.284227264974994,
          9.476264344687706,
          9.016744861838529,
          8.658330403336588,
          11.169559582325661,
          10.881015680441035,
          8.559698876284706,
          9.06776436779489,
          9.227171688826637,
          9.947937224037158,
          9.599924273057995,
          9.377638013168697,
          6.996573481182644,
          9.467517880700042,
          10.813104966686433,
          10.50027227138237,
          10.493784194815841,
          10.333704260495182,
          10.382021701840825,
          11.018099625172617,
          9.449834934737476,
          8.515502717121272,
          9.433271674019062,
          9.519148878425359,
          8.600753403408255,
          10.129005549562986,
          11.777083763631412,
          10.801706621352652,
          11.077084682609092,
          8.767989595117225,
          9.919758258283329,
          10.956680788536676,
          10.893526829832066,
          9.35527852558351,
          9.012294320308582,
          9.591898216914434,
          10.233319653230918,
          10.066784398659514,
          10.452838236763979,
          8.500794240109736,
          9.451028103673869,
          12.097413149752535,
          9.813609613746888,
          11.223039783365715,
          11.465443850054921,
          10.945582971465118,
          8.962796834691297,
          10.419805582036785,
          9.632813287251787,
          11.57417952725099,
          10.504519687445063,
          11.334509483817076,
          9.38331473553486,
          9.048211819751861,
          9.215275760554055,
          9.600000608937624,
          11.815357125942954,
          10.137698189410663,
          11.861839776420803,
          10.820995093725536,
          10.29470784038847,
          9.974867734591566,
          10.237171440676931,
          10.659079838879277,
          10.378876812204597,
          10.626695856990446,
          8.862182188774469,
          11.408643905193264,
          10.286097775022876,
          8.40582804143628,
          9.693304967376017,
          10.161035039167626,
          9.924946182373853,
          10.051814076036186,
          9.183488770825226,
          10.912181218257809,
          9.623977508838458,
          8.888888618342584,
          9.035997295141772,
          9.606990241532035,
          9.47322707340779,
          10.637458862481415,
          8.458117987310459,
          8.915407190716554,
          10.018276101622245,
          9.852311282601491,
          8.262952645533298,
          9.441112253412784,
          9.155173374485589,
          9.983089454873785,
          10.226324321680135,
          9.568827226821277,
          9.758589122557357,
          9.411905079535499,
          7.4735916171884105,
          10.291970841802463,
          8.64878158613113,
          7.768815300349107,
          9.665329451896412,
          10.470576091190685,
          10.497495078213598,
          9.868558134575627,
          9.771315377765417,
          10.331523742154845,
          7.64048361011517,
          10.015720735570572,
          11.685381069807438,
          9.62571482167302,
          9.359052782025742,
          9.579207448586486,
          9.634478494488759,
          11.254347478892972,
          8.780542124004974,
          9.160167931578862,
          9.719266664711798,
          10.789042373241578,
          10.445233106673767,
          9.965986005017667,
          7.958371041357397,
          9.975551997204011,
          8.817849103915954,
          11.781588263129724,
          11.312010188150905,
          9.952548515849031,
          10.298973602579366,
          9.443062435360286,
          11.366548536615108,
          10.232967820069346,
          9.048341818637397,
          10.651543745553125,
          9.529681691449875,
          11.093747530709342,
          10.313554564489152,
          8.35886087975854,
          9.366086853386651,
          9.429398347424252,
          9.11288959172279,
          11.109887729399983,
          11.03041606967069,
          9.17903969401053,
          10.46149272673997,
          9.25363928414066,
          9.401610954888874,
          9.106019851820784,
          8.308911299739679,
          10.201681515936889,
          8.867430740020703,
          11.168699856645983,
          11.26845021337797,
          10.100385301806805,
          10.386658824731741,
          9.207579345936958,
          10.098269553101872,
          10.301732063005918,
          8.983810797377952,
          9.30326338004626,
          9.363537387664111,
          8.466439806258316,
          9.655830369827427,
          11.168066304571267,
          9.119775459545332,
          8.849684292996836,
          9.844840512634464,
          11.69621737771432,
          9.293457517334334,
          9.321057272824776,
          10.865267408209835,
          10.50222639283901,
          7.369344409261869,
          9.03155205163128,
          9.58885170263741,
          11.952340096876124,
          11.631344954856566,
          10.693241506286588,
          10.517481563562047,
          10.875577056382186,
          11.393735858845831,
          9.261431594165153,
          10.86491964756054,
          10.054530409849866,
          9.749565063195778,
          10.594727408493236,
          10.724538768299166,
          7.044212359027335,
          11.467388601534351,
          10.064737548343594,
          9.140460390666505,
          9.523993272877677,
          9.88212880547668,
          8.959960633751905,
          7.209263623493871,
          8.889760290438383,
          10.688566644339133,
          11.072867240115865,
          9.738018836586692,
          12.073055618777836,
          10.70610499594998,
          10.92430233803338,
          9.672630399410993,
          9.39736225898183,
          10.667230558622641,
          10.85178393995614,
          9.86077491449386,
          12.220760837164033,
          9.22099665470398,
          10.013862941248643,
          9.561546905212362,
          10.248426215783619,
          9.750419638545473,
          12.005818524513185,
          8.892001585349577,
          9.669311672718075,
          10.279892366190376,
          10.416705384836332,
          8.509878276639464,
          10.4038671120499,
          9.359448455991048,
          10.085025729852251,
          11.386535058071862,
          9.948986092500975,
          10.34202747174553,
          10.336325103356767,
          10.075182429216214,
          8.264799581088605,
          9.56693060832387,
          10.860416789897922,
          11.255610176560484,
          10.632056371351627,
          9.256217890266793,
          8.77336057188214,
          9.448772828663422,
          10.239181489689557,
          10.457221025927119,
          10.73038870121999,
          10.025781973882312,
          8.979553525217547,
          10.493701700131947,
          11.315301753422487,
          10.454836627581654,
          11.366535913781307,
          10.490189905192437,
          9.224999471886356,
          9.496302096511927,
          10.659371961114088,
          9.804223432142312,
          9.721723862571567,
          7.855058599281326,
          10.693097992590184,
          9.622620669666974,
          10.631063994803569,
          8.726695074497565,
          9.605705076888736,
          10.315147376332288,
          9.90024140699377,
          9.27748015047638,
          11.2023024573879,
          11.189249141976408,
          9.980660303354792,
          9.92736157372422,
          11.996269168299731,
          12.09297189303967,
          11.572416517130941,
          9.800267158351467,
          10.028882164900985,
          9.292023407222194,
          10.325068296284389,
          9.293699423468825,
          9.663708106286306,
          9.719742642132482,
          10.88406446458032,
          9.972429978539235,
          9.977319684440602,
          9.57732589295083,
          8.890129526048732,
          11.110368539645359,
          8.683297514816473,
          9.103732944598349,
          10.187715170047394,
          9.639754797031886,
          11.405902956746894,
          10.209310479995533,
          10.560998561803016,
          8.303020373837919,
          10.087304520688146,
          10.385813481041593,
          8.190827647270405,
          9.087030259737038,
          11.020421068640827,
          9.859462647030963,
          10.009763604452065,
          8.963977118257963,
          8.898351126330171,
          10.813901969007507,
          8.787183012217687,
          9.691070215016627,
          10.064463276741147,
          10.868544722515818,
          9.808315773634261,
          9.490368869114201,
          9.896214401415719,
          10.85557945804055,
          10.128367515498558,
          10.753680559216253,
          10.405307367415398,
          9.648396747009699,
          9.044084045335927,
          9.082123089564215,
          9.143364395744014,
          9.837849672090796,
          9.520607885270724,
          9.9235468349847,
          8.706481129370038,
          9.328137377590364,
          9.217554818587608,
          8.3251268232829,
          9.197304475096379,
          11.28385366510856,
          9.39724587610691,
          8.563469653210229,
          9.117449752038478,
          11.361163087989633,
          8.55523555819879,
          11.123001744283593,
          10.332296593642958,
          11.753193148166357,
          9.732071841131038,
          9.597287913600507,
          10.36674194364264,
          9.8570370076022,
          9.782387037759042,
          9.488665363156334,
          10.36564862328335,
          8.225179614950196,
          10.48182414285386,
          11.089680481677629,
          10.170276719902807,
          10.414666836152941,
          9.045440778037841,
          10.64565465963381,
          8.95556343644187,
          10.1515650554014,
          9.319550577196061,
          9.279458531964291,
          10.479000623071965,
          11.136649175058011,
          9.013813733704614,
          9.813901349155023,
          8.225294406652337,
          10.612568126526392,
          7.077981412242308,
          7.615153402308606,
          8.454195316418085,
          8.041198863986118,
          10.241755116069351,
          8.45199603671758,
          10.156558441471374,
          10.02763113958452,
          9.98151278525525,
          8.572726326011164,
          9.290782803278615,
          10.02945281611237,
          9.834255853735513,
          10.577791156123887,
          10.341322940120662,
          9.879660345300081,
          7.96635066250129,
          10.971478080089879,
          8.42498570500437,
          8.850285406293564,
          9.569196557453918,
          8.433493258545003,
          9.900280161413678,
          11.158312395897756,
          10.372721550533583,
          9.755282684108534,
          10.76564977066819,
          8.427853306099085,
          9.655146975779415,
          11.20434576554815,
          9.942232203960984,
          11.484496475374714,
          8.088394502821545,
          7.639656870806723,
          11.393716765108685,
          9.194313058864084,
          8.611579004156987,
          9.716591994929416,
          10.588728676477121,
          10.229530570377989,
          9.902314922057245,
          9.418647699196915,
          9.089188101773729,
          10.878404454338778,
          11.031252957345393,
          9.133899898832698,
          9.005722300648532,
          11.536540349844167,
          7.875458510922954,
          10.63829459422628,
          8.820480313606732,
          10.84979935886747,
          7.757766654629501,
          9.97223372181883,
          10.66190391158678,
          9.140712112212382,
          8.265867774400139,
          6.43374818658603,
          9.11786629037924,
          10.590456293750908,
          9.097849940415351,
          10.418960404146802,
          10.874576203022642,
          9.360322648396322,
          9.600413208799448,
          9.477857969540555,
          8.994548808357926,
          9.286555229853171,
          9.950125677534883,
          9.210440473449545,
          10.811199064875755,
          10.354309262264504,
          11.215126771685654,
          10.128256480625524,
          9.645722952729791,
          8.770312005399411,
          9.39922089126196,
          11.569648209405065,
          9.227670576717454,
          9.590172163219682,
          8.901790228976214,
          10.756696761712206,
          8.165806492800979,
          10.638197903561542,
          8.554016490005262,
          9.889950600361313,
          9.156447780428566,
          9.957609296676655,
          10.072508745275178,
          8.862527287210545,
          8.785090651531364,
          9.583698843874817,
          11.325730875401465,
          8.994466770375556,
          9.677734136763657,
          11.325083686767394,
          11.150374761780375,
          8.877940695508329,
          12.149552864558975,
          9.050910054089128,
          10.441673391895582,
          8.952181909599483,
          10.054121306214308,
          10.383837366445826,
          10.231803342705629,
          10.543219762908654,
          11.11968364260413,
          8.905256974804725,
          10.74867823891834,
          10.858362070529033,
          9.338929152847099,
          9.380130514255837,
          9.146267988646416,
          10.838779321402628,
          9.579275791223703,
          9.4158004699131,
          9.815381305367856,
          10.123493571686872,
          8.888510844770813,
          9.807855185497461,
          9.826075456336685,
          10.263099007545424,
          8.820953168974228,
          5.904348012050158,
          9.850383368022806,
          7.986647948454082,
          9.608927419487577,
          10.66738514565686,
          10.33557322427941,
          9.51019854113126,
          9.87673121688077,
          9.794947985922075,
          10.636937498023501,
          10.16337833777582,
          9.258325938854,
          9.801775763008537,
          10.112296982582494,
          9.53253449827045,
          9.637130045466595,
          9.759894192884344,
          9.197319928453112,
          10.467621402791499,
          9.90345763324376,
          9.238895330767916,
          10.993772191289635,
          9.269880312647711,
          10.778970714168675,
          10.918660397701911,
          9.326247001832257,
          11.846364913309175,
          10.557077581990143,
          9.55642660590835,
          8.783466932689292,
          8.950830871249432,
          10.807218085444346,
          9.710176881435258,
          9.742485760814114,
          9.664712220867925,
          9.430824709839165,
          10.69538506243667,
          8.543381871849904,
          11.57898592853378,
          9.577482870058885,
          10.496294423111461,
          9.53750214810452,
          9.912800524913047,
          10.444138024891332,
          7.896875569494984,
          8.155520838736189,
          9.354241027150163,
          9.511965748499549,
          10.914949220377755,
          10.394682448115871,
          10.26547496380283,
          10.322709822098915,
          10.818059419229062,
          9.86491678318286,
          10.519086488431082,
          11.095117948171845,
          9.770441439216084,
          11.697460797638774,
          9.202088500498965,
          11.233127891409197,
          9.72421749876204,
          9.192907861364965,
          11.333029415981652,
          11.93360799763987,
          9.128013853444232,
          9.620219627098422,
          9.87495679750051,
          10.953164824376595,
          9.45357373269309,
          9.727984568122702,
          9.275788880892382,
          9.546496084159367,
          9.13929299540333,
          11.497162949006343,
          10.197712187270586,
          10.22425739892008,
          8.877862414799866,
          10.82918660835277,
          9.011792460630309,
          10.43824058292719,
          10.18925976125771,
          10.39221586672563,
          10.428072153165166,
          11.345315348885393,
          9.459619021179044,
          9.911879287400499,
          9.003889632130635,
          9.818662308524717,
          9.809077860930453,
          10.384725977413574,
          9.634169982174837,
          10.455372442803482,
          10.418105349401946,
          9.311191505982064,
          11.111310844225756,
          11.70392326452727,
          9.668049507403689,
          9.498585344752577,
          10.468431875887807,
          6.789255807614685,
          10.474938151897478,
          10.85731001159655,
          10.017042842950934,
          10.124819672588721,
          10.97428776766683,
          9.841842317092512,
          8.696504744505246,
          10.890972122429051,
          8.932660337419273,
          9.2625667782452,
          9.863302595275814,
          10.89387511144535,
          10.758612936174014,
          10.963046276332761,
          9.25754118746284,
          7.962334310989162,
          8.738348480701474,
          9.807534507916566,
          9.62584137427102,
          9.913102979977063,
          8.76675267726587,
          9.40703461256183,
          9.2554940821321,
          9.352595751945193,
          10.63472710598785,
          9.48026541283507,
          9.940833365155672,
          11.173641949603605,
          10.805383385032219,
          8.149994748878518,
          11.71422793235028,
          9.273375550643907,
          8.084462468505826,
          10.478707566401685,
          10.077752829942737,
          10.349579747133701,
          11.327490599794446,
          10.794333654213577,
          7.895362950588086,
          8.76440483686543,
          11.057395895261473,
          9.3722252316283,
          9.180778927453737,
          9.793106530395852,
          10.258016288595288,
          9.04955053022931,
          11.806610934252916,
          9.711683128680505,
          10.157074854400738,
          9.41714610825246,
          9.67954105570307,
          9.162310375387504,
          9.203042654096937,
          10.845564569023384,
          9.111616797326949,
          9.770621073432297,
          8.449984331934902,
          10.345745457977019,
          9.260673563083081,
          9.489319725407316,
          10.652544818411533,
          9.934180650967017,
          9.455421868711612,
          9.474088524372235,
          9.87917216880753,
          10.853622865298536,
          11.273863750433405,
          5.277009692592641,
          9.310420363037514,
          10.453493237434467,
          9.45888146971082,
          10.448459305347493,
          10.803979580137446,
          11.773180261283802,
          11.604040969598053,
          10.167673927216127,
          10.833978887410357,
          7.529874415215549,
          9.092198825093808,
          7.694308763853684,
          9.99930787897402,
          8.734653203058915,
          8.380157407764752,
          9.552509298021661,
          9.013019784481928,
          10.33985266728118,
          10.077837054341813,
          10.248451462254732,
          8.834236516597516,
          9.792182531515015,
          7.977134454873552,
          8.66150021192835,
          7.9700700400174815,
          11.563884382645497,
          9.593184781140172,
          10.681418655550383,
          11.137472755534128,
          11.14386285803833,
          11.62260722968118,
          10.05175438593126,
          11.072294981900177,
          10.84233328497282,
          12.410431368669324,
          8.930466325883788,
          8.76431751819788,
          9.185917355077697,
          10.181246213428125,
          11.318389352730751,
          11.316263674799515,
          10.552521176020274,
          10.123595026227232,
          7.937074096123663,
          8.26072778312579,
          10.121603971447916,
          10.75796754402861,
          8.322888617648704,
          10.791872778523832,
          11.175766411024478,
          7.616974450746427,
          11.37763642881668,
          8.947780124742614,
          9.663459065447457,
          9.683866935830343,
          9.51102332893198,
          8.853144613466409,
          10.170553403433265,
          11.085843058785882,
          10.227155833130409,
          8.454565161951171,
          12.205415277050376,
          8.387915750605067,
          8.520814168095843,
          10.0389824725677,
          9.37143590202243,
          10.348694563267108,
          10.299079754409314,
          10.294828536835062,
          11.586215354540856,
          10.976351296826316,
          9.91628245668018,
          11.49945253430189,
          7.407315558080255,
          9.537109052636604,
          9.482689044334657,
          9.810563192859432,
          10.666555811721722,
          10.51076612408459,
          10.91422772135882,
          10.9298003457002,
          10.402854032400842,
          11.322871685877466,
          9.311603951042109,
          10.290080236266688,
          10.110737255278051,
          9.687746521143232,
          11.29175117345037,
          8.697933767775485,
          9.74602356019407,
          8.779182020510753,
          9.529800569463863,
          11.000166894158973,
          10.016368708499717,
          9.563698549730104,
          6.41128882197671,
          11.603175632447918,
          10.92186894483426,
          8.480679620885855,
          9.105289397400766,
          9.211941104446849,
          8.58567180520763,
          10.522097412530343,
          9.862044122001889,
          10.120627650081252,
          8.61313862342963,
          10.877330614993543,
          9.44532742156034,
          8.452533060453305,
          10.301877830521905,
          9.353029592913963,
          10.213208702331062,
          10.684198219350764,
          11.158671979403092,
          12.074942793872353,
          10.147043725049677,
          11.727256973868961,
          9.957662611254419,
          10.87496212089212,
          9.004028109670964,
          7.983664638786703,
          6.681936687534215,
          10.950018234512351,
          10.370207392944614,
          10.143129022603155,
          8.720794900348345,
          9.593850230972706,
          10.124132466351679,
          8.848043786101313,
          11.304506630471446,
          9.304622047360418,
          8.732314746559975,
          8.005614921506083,
          10.329201446707227,
          9.199329087947282,
          11.938831213062413,
          10.15436351030089,
          10.291207993617904,
          11.563140014808159,
          12.162397287631753,
          10.488003428788213,
          10.536482550200775,
          10.15765903554594,
          8.939591087061286,
          10.513263365917544,
          10.370157277413849,
          9.904218988284848,
          11.756419661218127,
          11.899507730787143,
          8.886593716721373,
          8.484728566339959,
          10.386314064487829,
          12.097413149752535,
          9.393356637020343,
          12.09297189303967,
          9.575988807935698,
          9.786458592531416,
          10.625200787812343,
          8.68647311837021,
          11.35104601673331,
          9.66512980744174,
          9.570427470298108,
          9.467224551758516,
          11.349979417916446,
          9.816119150107234,
          10.157074854400738,
          9.506685410368057,
          9.31362428930573,
          10.334976073720723,
          11.756419661218127,
          5.7612196821561925,
          11.063266804585934,
          8.578292604984698,
          10.087761819074405,
          11.756419661218127,
          11.669491216601136,
          10.800895442119034,
          8.060322663964763,
          10.27324703731273,
          10.593248113878655,
          9.693885159988934,
          10.766888172968146,
          9.377036799774238,
          10.168466628395388,
          10.230322575236272,
          11.237677170156891,
          10.950018234512351,
          9.350274156423847,
          11.286414126326656,
          10.432434667369211,
          10.67117884725292,
          9.650154458515692,
          11.168699856645983,
          9.373100525489292,
          9.669212591169664,
          9.446430120931325,
          9.659127660127377,
          9.452749566211217,
          8.912920370107077,
          10.531651493157588,
          9.866243221436786,
          7.211462360118772,
          8.51035190116792,
          9.121560031846151,
          11.79730641231519,
          10.800895442119034,
          10.321300210019174,
          11.106334763312296,
          9.167084710880024,
          9.936546329846822,
          5.7612196821561925,
          9.904105393367647,
          9.531039430916218,
          9.82492412935065,
          9.654257627678883,
          9.850229438951303,
          10.321386438282737,
          9.458563990171221,
          11.69197508320785,
          10.722778300122307,
          8.811414011940686,
          9.944922943482963,
          11.063266804585934,
          9.733680303815618,
          10.657789353615337,
          9.00158736702318,
          10.593248113878655,
          10.380275322355729,
          9.397446409726678,
          9.988837280613371,
          12.113144045255495,
          8.776754956989805,
          9.455682799169175,
          9.604555989007402,
          8.989104046745798,
          11.03518513027147,
          9.163293589845674,
          9.724349534250967,
          10.680369226888905,
          8.820151499120882,
          10.593338170653027,
          9.607853158916301,
          9.404864373456082,
          10.370157277413849,
          9.702331902897743,
          9.98507193379674,
          11.979606146104935,
          11.574098302531603,
          9.271391086502277,
          9.959176598855517,
          9.174500679743664,
          9.88983182199354,
          11.350986530425574,
          9.222272640868585
         ],
         "xaxis": "x",
         "y": [
          0.3499078024629661,
          -0.8754699494721736,
          0.0,
          2.5055019577108735,
          -0.3837260147710313,
          1.3142966080756746,
          1.4165935108733128,
          0.5521726893688867,
          0.3942762645771342,
          1.3981127404742353,
          1.0985456264455666,
          0.6140746597621916,
          0.20066918031453876,
          -0.5538806879514163,
          0.7897703263269021,
          1.2039611377856565,
          1.302906266695799,
          2.2913795832130046,
          0.38299013105587626,
          -0.920932489548811,
          0.9932054779570866,
          1.1473978496753596,
          1.931985818380289,
          -0.13090212561856276,
          0.26231682981672616,
          0.11122501591862867,
          0.37752880058203475,
          -0.7088970752228742,
          -0.7550228750579261,
          -0.5390018578229299,
          0.6005244979940704,
          2.8662607337126578,
          0.10776084329713138,
          0.6109066763177045,
          0.318445776640874,
          0.2876737393614959,
          0.8964799712793439,
          2.9956372785411576,
          3.344006811514313,
          0.03738178285794765,
          0.20065857437858667,
          0.5853140566150072,
          0.7731854010813201,
          0.6931400377793322,
          0.6286028261449429,
          -1.3862907897104517,
          0.15110454529006465,
          1.2991920799976964,
          0.22312521827114923,
          0.2484607951972228,
          2.55159511365102,
          0.5007729204928426,
          1.6093579172337698,
          2.803313412454932,
          0.9220397294217259,
          1.01157773017114,
          0.2913470179055982,
          0.5667111744200015,
          1.1763131167066598,
          1.3437210822066685,
          0.42892295386548,
          2.197180134126301,
          0.0,
          -0.6529127770448672,
          -0.41253076148074413,
          0.40115425504731983,
          1.3437268481849975,
          0.606128227910305,
          0.0606242541716063,
          -0.20480325097070623,
          0.006186406471283967,
          0.7898712662576344,
          0.2525875978841457,
          -0.24028039290796305,
          2.425283381637317,
          0.0,
          1.9168912401866622,
          0.6190287689404272,
          1.6341079643583827,
          3.2579984660962227,
          2.8331192313915228,
          1.3682633881851318,
          0.875454987534366,
          3.2187798298598675,
          1.0560485981795256,
          0.40545677494843857,
          0.708127219132032,
          0.6260001757424725,
          0.25045611461693895,
          0.2762489705126617,
          1.6529140409817673,
          -0.5202012881674632,
          0.0,
          -0.5860762668927164,
          -0.0935276686506259,
          0.9382406536317752,
          0.4626224326261047,
          0.30010329615968306,
          -0.22315521781560105,
          0.0,
          -0.214340425478502,
          2.6741270980089404,
          -0.6325258675518338,
          0.8472746464123899,
          -1.6178884536618345,
          3.1325887043385903,
          0.0662492977295852,
          0.45198252635563935,
          -2.3293173844471258,
          0.06252016147852443,
          1.5137719168212547,
          1.098595622279216,
          1.3217413956742934,
          -0.07031801914182405,
          0.6654947656282724,
          0.11441002357835565,
          0.8938113104169282,
          0.606128227910305,
          0.43706610095023163,
          -0.7396698572549781,
          0.011299542485816893,
          0.04626655890714521,
          0.7884464514320363,
          -0.08035019934507243,
          -0.43167048629432697,
          -0.5108222904548795,
          1.4468876109409265,
          0.4054595526297681,
          -0.04205033336079103,
          0.7731813412833755,
          1.1676479612333104,
          0.06595793152489268,
          0.8805803482326217,
          -3.49464857186289,
          1.6093579172337698,
          0.006872874564099619,
          0.5108222904548794,
          -0.1103805891416332,
          0.07383166217305956,
          0.44468259049991904,
          1.2927561299845236,
          0.2335813704572181,
          0.5596104308451799,
          0.5753629296284214,
          2.5920446791669107,
          -0.37095323650960443,
          0.1773931472813974,
          2.219056916470837,
          1.2085000786813014,
          1.945881578170947,
          0.7321865408709758,
          1.4663159152523717,
          0.4054609414849,
          0.42107202967189544,
          -0.40400682560904183,
          0.0636450023832864,
          1.89084600868249,
          -0.22705749148499174,
          0.1357592298546718,
          0.4168612287294675,
          0.0,
          0.7259352829570835,
          0.4709069932794186,
          -0.3021852640021963,
          0.9152286905577918,
          -1.7000927157384742,
          3.772662092518932,
          0.034846719185996765,
          1.784778999290541,
          0.2744208458404253,
          0.0,
          -0.043803876388014695,
          0.32850241785076234,
          2.35133002030686,
          -0.8776720891571588,
          0.4894741700980003,
          -3.531217664937322,
          2.1785009983369497,
          0.45952671536502054,
          0.015267448820800666,
          -0.965083500206411,
          1.0985164603257624,
          0.5288386098230942,
          0.48512932766439676,
          2.2191856581656726,
          -0.20136656165134753,
          -0.4314510476662876,
          2.0793457133374886,
          1.386281861220336,
          0.5055880431638898,
          -1.9047582767181954E-6,
          -1.3000842045645453,
          1.6945866505392684,
          2.285679674591149,
          0.14518179869615683,
          0.7801536333397925,
          0.0,
          1.824532518052292,
          -0.014149477783346007,
          0.4054595526297681,
          1.0985789564458472,
          1.9694263055164194,
          0.4792730365576177,
          0.13975686992670608,
          0.0,
          0.08701099820340102,
          0.1094801318418192,
          0.9360905333384364,
          -0.03278810239713832,
          0.521293222988021,
          0.7537644494694452,
          0.40544844213591286,
          0.7731809139838091,
          0.0,
          1.098595622279216,
          1.7047071843561523,
          1.1026247536032687,
          1.139410616833304,
          1.31333801172974,
          2.197135693385269,
          0.2876674892551649,
          -1.3658941038162589,
          0.2832702349795009,
          -0.09778582512183706,
          -0.39019789627253665,
          0.35667280109459953,
          0.5232393475395171,
          0.0953065434583196,
          0.7954228779781173,
          0.2087539857054031,
          0.08002988729220677,
          2.484857692704083,
          3.7611512797335425,
          3.242542743360399,
          3.0284229078279363,
          3.210744464621891,
          0.12471945103571996,
          -0.3379075298526759,
          2.63902518731295,
          -0.5335192417715924,
          2.638964477446558,
          2.887697707601389,
          -0.07659302323730882,
          0.9329123469932049,
          0.0,
          -0.5753592838346476,
          1.0986011776341584,
          0.6061277228193716,
          -0.7672565110760224,
          1.3029112956609528,
          2.3512800240565683,
          0.4732867122143592,
          0.013793312619404788,
          -0.1900451234556233,
          1.1631339350007954,
          1.6774305154438036,
          0.12516235864520184,
          -0.8620998237504092,
          -0.29152352779838997,
          2.7931972385291304,
          0.2586932937504518,
          -0.4763477527310039,
          1.7563958225194427,
          -0.764376028633471,
          0.12717870256485933,
          0.8670913280691644,
          0.10177342018931539,
          -0.40179648350605673,
          0.03077156397007559,
          1.152664597795032,
          -1.1136917953896937,
          0.363998306491096,
          -0.8092264671353112,
          0.8373948336707748,
          2.7079568727463212,
          -0.06584800301990558,
          0.9807417579332685,
          0.9330014401031888,
          -1.3697359559683755,
          0.0953047252985395,
          -0.36225122712078267,
          0.2876737393614959,
          -0.2076417686122636,
          0.0,
          1.2039428048759235,
          1.7047378650412397,
          0.9852599370060459,
          0.3364603319372555,
          2.610060528085853,
          0.18232010752069272,
          0.5717801945454976,
          1.1089698566504913,
          1.3862193658070623,
          0.0,
          -0.6942792315997312,
          0.7537526850245151,
          -1.0999439802977733,
          1.2729553901926416,
          1.2130142246535325,
          1.9180518364488648,
          -0.40546642389504123,
          0.1803331772763522,
          0.0,
          1.203974470977325,
          0.4854991620062748,
          0.2135734409581243,
          1.297136094896634,
          2.638964477446558,
          0.009210967313836915,
          0.0,
          0.6359832765454484,
          1.945888720790002,
          -0.5209177729071311,
          0.1466027564920459,
          0.6579304083649725,
          1.235532964558047,
          3.1532137871688493,
          0.19227087774764245,
          -0.1128280806547563,
          -0.8573492881108336,
          2.2686685989270297,
          -0.43078022380184766,
          2.1971301378760093,
          2.81589951303654,
          0.017920538415249508,
          1.0007977266018742,
          0.25778024691504875,
          0.2876737393614959,
          0.004102504693079165,
          0.8001071625090123,
          -0.10630086690225359,
          0.24264069085979956,
          -0.5798196640826689,
          0.3029464536810652,
          2.525632649299922,
          0.8597518361307211,
          -1.0338546347202766,
          0.24871281084324906,
          0.06721350849142409,
          0.2876791312882861,
          0.0,
          1.7247967703264624,
          0.6845290266851054,
          2.7079568727463212,
          0.9918760305957702,
          1.572009889829463,
          -0.818535062343561,
          0.08207352133942253,
          0.04255943326014687,
          -0.22054563757168308,
          0.31082457755269927,
          1.3165654726591627,
          -0.15416258448995748,
          3.044474819922928,
          1.1814894056061511,
          -0.4732198558365194,
          0.057307330325352346,
          0.550041422404584,
          0.2587305068409484,
          -0.66183757463816,
          -0.1427998003809129,
          -0.03709550379345236,
          0.9703543128020957,
          -0.6058934071931201,
          0.18181946035084023,
          0.7049780527834204,
          -1.3034619229389544,
          -0.2018514881704209,
          -0.21357703068274156,
          -0.5662033434235444,
          2.2924357722407107,
          0.7321491272356822,
          0.1541494893602798,
          -0.022361120864456102,
          1.3862756114128543,
          -1.2992587422202395,
          2.9956372785411576,
          -1.3907362453274847,
          0.005797114323660986,
          -0.26959828847331957,
          0.0,
          0.7086506570205904,
          2.0013827079088413,
          -0.9768313851719983,
          0.9860204213654249,
          -0.023576210033093865,
          1.7917178037766246,
          -1.8207481825706269,
          0.8754458209975582,
          -0.519197033092726,
          0.7537673205949615,
          0.8670884079294866,
          0.4924729497701488,
          -0.10715313308117835,
          1.163137059986147,
          -0.09717572165984996,
          -0.1460457488144735,
          -0.11726970628590057,
          0.6931451716365308,
          0.7701060735542109,
          0.048789926075356156,
          2.487674187034553,
          -1.4693855965938445,
          0.3617896554117868,
          0.09627431433492309,
          0.3566744082252597,
          -0.42121420912187424,
          -0.2987703277733771,
          -0.07683371459539458,
          0.9375934285922566,
          0.2647892591598911,
          -0.4118983729866495,
          0.3197665655022972,
          1.0678324319903316,
          0.6295415409761828,
          0.0,
          0.47323852536867894,
          -0.0659586819707305,
          1.276282128773708,
          1.1394236165833274,
          0.2084308745861684,
          0.03909111941976965,
          0.11014251598476948,
          0.4446824622948812,
          -0.10445649502926486,
          0.3703081681170468,
          1.3217375069392587,
          0.4794275301815001,
          -0.6941930244689778,
          -0.5090920582487047,
          0.6406559281091553,
          0.2570974830810243,
          -0.1490356890504348,
          1.8971129015864887,
          0.5136751671158467,
          -0.848711992999649,
          0.2288295595412918,
          0.42899399976230995,
          -2.4972886162181824,
          0.8153456984395524,
          0.23011207688524948,
          0.6773297181254577,
          0.37469685849551765,
          -0.11837289063410206,
          0.5679807042793958,
          0.0,
          1.0065359270765193,
          0.0,
          -0.3949581905274668,
          0.9114039285143982,
          -1.2003969547020787,
          -0.5254258298316331,
          -0.010497764508704965,
          -0.6007202776861699,
          -0.3664985672122792,
          0.39390161263066964,
          0.4040193468819399,
          1.3121748505822923,
          0.10535940455844348,
          0.11411276405050995,
          0.5389951803111397,
          0.806086627903004,
          2.756791953821928,
          -0.5955099706849956,
          -1.1728965552312178,
          -0.5809386815667547,
          1.3093282644435138,
          -0.7396551712224483,
          -0.05127353798457634,
          0.07177956829636511,
          0.3196319009858816,
          1.4468248702716324,
          0.34830309951048377,
          0.5845108082209861,
          -0.44279271528608294,
          0.546412920352513,
          -1.3356508878408648,
          0.9444121656462109,
          0.1040266612737673,
          1.0876553302552192,
          -0.8069069002210163,
          -0.08701327092292571,
          0.3409163092684708,
          1.7578257341992103,
          0.6466228359507079,
          0.7969391327108324,
          1.05559977436761,
          -7.936501636695242E-7,
          0.47445228517004834,
          0.22533772730668053,
          0.13214513133168207,
          0.3566706582764867,
          -0.6359853353558578,
          0.8472829795721156,
          -1.3529582418616286,
          0.514951821142852,
          1.3312293278959033,
          2.813379383980246,
          0.5108122907882031,
          -1.053901554094198,
          0.26289481850805146,
          1.1669243285684912,
          0.6931460177712757,
          0.24067290604542274,
          1.9107739346410464,
          -0.3812215013963498,
          1.4291084077235028,
          2.698467426011813,
          0.3930408658897291,
          -0.22314448881347732,
          1.6581828397469147,
          0.6979394253998732,
          1.3382605520820066,
          2.2686782731345216,
          0.5146636264227091,
          0.20860215683774327,
          0.10993570507905089,
          1.4423347381113882,
          0.7045097866695283,
          0.3035250787457882,
          1.1267812344215276,
          0.4089409320122934,
          1.3473033378816475,
          0.3375087320389176,
          0.6997338042773759,
          -0.5825695447299367,
          0.9687480141775482,
          0.020201051118585844,
          -0.36624580520758676,
          -0.6005984040364426,
          -0.091222300384341,
          0.8373937142688339,
          -0.21303436773770507,
          -1.09576619157718,
          0.9879442131876178,
          -0.5781024324010221,
          -0.3890842475043895,
          0.0030030051094688446,
          -0.3085079052034841,
          0.7339618417810891,
          0.14265449308173203,
          1.871771408223078,
          -0.012427763038729547,
          -0.22314605130066806,
          2.153029004496659,
          0.8413886784879785,
          0.9162869818905613,
          -0.3287638439238967,
          0.15453222747863515,
          -0.09689045504566543,
          -0.4909453304635234,
          0.9051060549490287,
          2.8580974297374926,
          -0.09824334996245443,
          0.08196926934339648,
          -1.6864833732188087,
          0.3884864464045187,
          0.7535490209205947,
          0.5333654240017938,
          1.5841142207696408,
          -0.5783717392335074,
          -1.0742912848215491,
          -1.1454048037531515,
          -0.24132320746858482,
          2.708001313462662,
          0.4426710266355099,
          0.14484261529767167,
          0.4755803509524913,
          0.9251307877296746,
          0.9262315578267053,
          -0.5083125386963849,
          -1.9174844165076947,
          -0.9225974620312014,
          -0.7064054281537636,
          0.8297972750975598,
          0.8938075914186528,
          0.2668739633868727,
          -0.4697323214948074,
          -0.6213105632336497,
          0.6931456654118735,
          -0.011979611866511319,
          1.3862026994181686,
          -0.7835314322183521,
          0.2783359796591289,
          0.22123426857659662,
          0.08002988729220677,
          0.592502703592843,
          -0.3254253141829572,
          2.4959370356249813,
          0.9506018022997281,
          3.7991282625508465,
          0.1510705505837577,
          0.4643051797876249,
          0.2876813581668319,
          -0.0246934154352431,
          0.3788618681745152,
          0.2876737393614959,
          2.2735847410957013,
          0.24704297966759797,
          0.6453451329630586,
          0.0,
          -0.7449802254341951,
          0.4054501083706596,
          2.4129088967437844,
          -0.30773616681082316,
          -0.929094370197221,
          1.15744943372231,
          0.5476241351794789,
          0.13235600396206476,
          -0.04417612869217862,
          -0.7492418919323078,
          0.02247280534712158,
          -0.6426925562110279,
          -0.7349376309545167,
          1.8191389841565613,
          -0.21290087127991977,
          1.3862826424477097,
          0.5753565928546454,
          1.2267805416934174,
          -0.13421247369820472,
          -0.460445808459043,
          -0.7270525540660862,
          1.14512743419606,
          0.4226744532910383,
          1.4829993425008028,
          0.8437003976621916,
          0.7805548336557804,
          -2.4042596701567645,
          1.2237613141577532,
          0.38954917316084786,
          -0.3945816077913856,
          -1.344224335166218,
          0.6841736119471545,
          0.7115773090441747,
          0.22272251309995703,
          -0.40130779413232126,
          -0.7503074244628611,
          2.525632649299922,
          1.8203299023051882,
          1.1856173525638907,
          0.6700879921083214,
          -0.5619010549074913,
          -0.6655084604633117,
          0.4643045105708582,
          -0.2748341419664465,
          -2.3043437962608997,
          -0.05660765590738393,
          -2.639050186792129,
          0.36288484181849856,
          -0.36894301446207095,
          -0.7433752663894461,
          0.08002796422083108,
          -0.8190168480759183,
          -0.3449725679291208,
          0.6285903263793134,
          -0.6931479051963138,
          -0.8538554433746236,
          -0.99462187118741,
          -0.13266963602588008,
          -0.5906088689832257,
          0.3072578924713166,
          0.846540660474214,
          0.6706732388511243,
          -0.5933895862848912,
          -0.924202341444898,
          -0.3204734742192317,
          0.01574753851737185,
          -5.555509259670905E-6,
          -0.48293501715809123,
          -0.08320165671664317,
          0.0790362203532538,
          0.8023454115184572,
          -0.0465204966350038,
          0.6592424105097364,
          -0.517088424832751,
          1.791676140755501,
          2.1227310131863733,
          0.31745078463892135,
          2.001447568332829,
          -0.7737535417864794,
          -0.3283737367545584,
          0.052518721857464895,
          1.6093579172337698,
          0.693137180621056,
          0.02914100082733016,
          0.6493413642722615,
          -0.08702728580936604,
          1.2900015368483526,
          2.403921523136011,
          0.2876737393614959,
          -0.06901906143310893,
          0.19073691369224435,
          0.33328935653316233,
          -0.2726876231127742,
          0.2813611724804977,
          0.3589646769747532,
          0.09119192572949435,
          1.504070559198657,
          0.5373899285991373,
          0.5089485097039563,
          7.034753092416804E-4,
          0.6505806821168503,
          0.4054609414849,
          -0.0037124298691461333,
          0.7281446736186933,
          0.5793510537726799,
          -0.04280654045826198,
          0.20435986673642337,
          0.43832257982565903,
          0.2388853805552662,
          0.5653083545442751,
          -2.507896389999938,
          0.07597589352463645,
          -0.4340038525904403,
          2.1101662318949868,
          0.12516235864520184,
          -1.0775263547571816,
          -0.27104299781028135,
          1.5187342753426687,
          -1.0140393570820925,
          1.5314717163247602,
          -1.5892369518132212,
          0.014939531085042184,
          0.08122412786717419,
          1.9042235925743238,
          0.5108222904548794,
          -0.6222702323833762,
          -0.45199217379658174,
          0.26236311062644063,
          -0.4289271710566394,
          0.7938841968013645,
          -0.2066166100120806,
          -0.3033766306726923,
          0.3384521151006667,
          0.13309346839720013,
          2.294205183737435,
          0.276251495754346,
          -0.7998194376034695,
          0.5314780543848018,
          -0.9808264752609545,
          0.6052034144448575,
          0.2538098857468414,
          0.05173562977960929,
          -2.3439353718063116,
          0.523726775857472,
          0.7855187454768657,
          -0.9284865638363251,
          0.4556413007545589,
          -0.5872565406136095,
          -1.8642431751844775,
          -1.2658783737344905,
          -0.026384341546585328,
          -1.0331340724457745,
          0.8056130060317008,
          -0.28336805390511643,
          0.9516915390315425,
          0.3629043290944967,
          -0.04160329760486088,
          1.2992812358803463,
          2.4318476044950934,
          -1.3825246736126484,
          0.08116163511013057,
          0.4565186905827898,
          0.5877670924524525,
          -0.3112953842680438,
          0.04149969645728429,
          -0.6525011562298401,
          -0.4848215069493014,
          2.1972137511870806,
          -0.9362499666530992,
          2.638964477446558,
          -0.23169100881218946,
          -0.3772254928328178,
          -1.1393117572050968,
          -0.26662523537113625,
          -0.3930438844002623,
          -0.8939907569175619,
          1.098602764949288,
          0.05635285713889498,
          2.7725397651558636,
          0.5360604609057361,
          -0.2977199010640559,
          0.7672530922799088,
          0.5553364689812686,
          0.13804987058664697,
          0.6763339605707114,
          -0.08178092288952218,
          0.056083592553102427,
          -0.01667309748777367,
          -0.10252945623078381,
          0.8209754611940616,
          0.01937785353468496,
          0.38995635428920983,
          0.43671435492708577,
          -0.2849158190014027,
          -1.013073611484438,
          0.14489676321777423,
          -0.3141759579301883,
          0.012826235809808267,
          0.8544049263262912,
          0.09660649188310574,
          1.0985456264455666,
          -2.6439382956503583,
          1.1718806759047031,
          0.9672753329418184,
          1.1826909491858943,
          2.1202586473264122,
          -0.03492163982778362,
          1.9236746527981556,
          1.6318503043166437,
          3.1281221915264776,
          0.13815021900660757,
          -0.031196079447694508,
          2.8331141893916643,
          0.6720792324916447,
          1.7706946239375685,
          -1.038535833962071,
          3.536084337657051,
          0.22314309676968497,
          1.1945507728716904,
          0.7537664102499142,
          0.2822905975457806,
          -0.07411456548786108,
          0.22313855142670724,
          0.5798131706014747,
          -0.675997942855092,
          0.0,
          0.81089132851567,
          0.39946284815962974,
          0.28769873842403243,
          -0.06533141601784334,
          1.4508236635571563,
          0.8574486084771457,
          -0.24525560488009768,
          0.7985007518263746,
          -0.5188040790354135,
          1.6093979136340588,
          1.1786376889322476,
          -0.12296254817015546,
          2.5062707004381086,
          3.0444272046165137,
          2.014809692186376,
          2.252454506456643,
          0.1769301850568799,
          -0.7609875360343078,
          2.5776806828515473,
          0.838281894353452,
          0.7985046406745233,
          0.15657474632219376,
          -0.6850507964468168,
          -0.11521346245956554,
          1.6817527891494288,
          0.44802063512695794,
          1.6093579172337698,
          0.6909934551526558,
          2.1972127718585472,
          0.9503829419578825,
          -1.3268709602723172,
          0.6308253045623748,
          -0.4076477098284298,
          0.3142467582984317,
          0.30092072114465845,
          0.2076379224806066,
          -0.037538911551631304,
          0.4664125975538449,
          0.40545677494843857,
          0.6931430139193201,
          -0.06454435441500245,
          2.2460102706185405,
          0.029413841944405897,
          -0.27121852835568133,
          1.7917316919903883,
          -1.0986132145910348,
          0.16125777533155766,
          -0.6400429978438489,
          0.0870106194204724,
          0.07550748120696482,
          0.11776914701826142,
          -0.34895296173434853,
          0.5709762415120555,
          -0.10536625637677349,
          -0.05661071684887441,
          1.5197288837391971,
          0.8943810668563419,
          0.048789926075356156,
          0.9152065797545564,
          1.5686000847718287,
          1.02391241857743,
          0.14474470148481763,
          0.4924729497701488,
          -0.22552614998058162,
          0.40544844213591286,
          0.40545677494843857,
          1.4966372441805114,
          0.08531328764365868,
          0.07360968473040834,
          1.9009551613519855,
          0.0,
          0.6359835380062538,
          0.46429937440210467,
          0.7816985691183633,
          -0.07198397779130129,
          0.3611045059994863,
          0.5598923374956578,
          0.7375942000796455,
          3.4274959888799814,
          0.10535940455844348,
          -0.1892450691206382,
          1.6093479173837673,
          0.0,
          0.0,
          0.26235195694559504,
          -0.2381814060645827,
          0.8183095392051472,
          0.4054639176355171,
          2.5156668186333784,
          -2.4695310143258453,
          0.0,
          0.3184503220644278,
          0.0714514927521276,
          0.35837400933496827,
          0.6931426351363915,
          0.40545770075562637,
          1.3105753296804572,
          0.20066867528053686,
          0.34155681375526853,
          0.0456101481950246,
          0.5268248284008694,
          1.180837855677262,
          -1.2425070528270108,
          0.0,
          0.0,
          -2.0596695072707534,
          0.1541316326617139,
          0.4832339778734032,
          0.8109163275782068,
          0.3259025513713062,
          -0.27763200932496956,
          0.25995460024500144,
          0.0,
          0.0,
          -0.6288487491370426,
          0.0,
          0.0,
          1.0262059335119695,
          0.054067184720592895,
          0.287667191636693,
          0.0,
          -0.15326604502420904,
          0.0,
          -0.9177816466226687,
          0.4238068225682455,
          -0.36773181880886635,
          1.01636924474736,
          0.6931221814974087,
          0.8754667003198807,
          2.397846789198696,
          0.0,
          0.35548716093187077,
          1.0506863385798377,
          0.0,
          0.053860541146020124,
          2.2245911196470387,
          0.2537800226927911,
          0.0,
          0.0,
          0.22314105134233442,
          2.367108510102617,
          0.6931471805599453,
          0.0,
          0.0,
          0.0,
          0.19388984265507384,
          0.1843011366742717,
          0.37469060855411074,
          0.744694004803545,
          0.3677213613540409,
          -1.162126216931229,
          0.0,
          0.0,
          0.0,
          0.33646652243345615,
          -0.46396233314823,
          0.0,
          -0.04797489361685922,
          -0.25131919015732346,
          0.0689927127571581,
          0.0,
          -0.4919841969372882,
          -0.837041958246979,
          0.8726035292106253,
          -0.2922308493186004,
          -0.4495691276201805,
          0.10779608087099701,
          0.008672613444178632,
          -0.5355915031134454,
          0.0,
          0.720051750674045,
          0.016260494430786882,
          -0.2876779058458772,
          0.0,
          0.0,
          0.09226613940351283,
          -1.0360928752027179,
          0.0,
          0.0,
          0.8872947917242971,
          -0.03452755773213766,
          0.0,
          0.3593058297476804,
          -0.9227233023098836,
          0.0,
          -0.11980260743370394,
          1.6093579172337698,
          0.062070972360315585,
          3.1640182938482684,
          0.0,
          0.0,
          -0.42683225446064144,
          0.0,
          1.538388160453522,
          0.0,
          0.0667477360490361,
          0.8683500347844691,
          0.0,
          0.0,
          -0.24080404789512758,
          -0.2443045961608529,
          0.0,
          0.1267513838896399,
          0.0,
          0.0,
          0.39515202183652387,
          1.3862568622917244,
          0.6661146451663179,
          -1.203949471498146,
          0.49423729444319625,
          -0.15717428273685075,
          0.0,
          0.3064084856810514,
          0.4003977683214871,
          0.0,
          0.0,
          3.680411489555092,
          0.293547331222891,
          -0.6104945815696489,
          0.4613435675070164,
          0.0,
          0.7308835199615307
         ],
         "yaxis": "y",
         "type": "scattergl"
        }
       ],
       "layout": {
        "template": {
         "data": {
          "bar": [
           {
            "error_x": {
             "color": "#2a3f5f"
            },
            "error_y": {
             "color": "#2a3f5f"
            },
            "marker": {
             "line": {
              "color": "#E5ECF6",
              "width": 0.5
             },
             "pattern": {
              "fillmode": "overlay",
              "size": 10,
              "solidity": 0.2
             }
            },
            "type": "bar"
           }
          ],
          "barpolar": [
           {
            "marker": {
             "line": {
              "color": "#E5ECF6",
              "width": 0.5
             },
             "pattern": {
              "fillmode": "overlay",
              "size": 10,
              "solidity": 0.2
             }
            },
            "type": "barpolar"
           }
          ],
          "carpet": [
           {
            "aaxis": {
             "endlinecolor": "#2a3f5f",
             "gridcolor": "white",
             "linecolor": "white",
             "minorgridcolor": "white",
             "startlinecolor": "#2a3f5f"
            },
            "baxis": {
             "endlinecolor": "#2a3f5f",
             "gridcolor": "white",
             "linecolor": "white",
             "minorgridcolor": "white",
             "startlinecolor": "#2a3f5f"
            },
            "type": "carpet"
           }
          ],
          "choropleth": [
           {
            "colorbar": {
             "outlinewidth": 0,
             "ticks": ""
            },
            "type": "choropleth"
           }
          ],
          "contour": [
           {
            "colorbar": {
             "outlinewidth": 0,
             "ticks": ""
            },
            "colorscale": [
             [
              0.0,
              "#0d0887"
             ],
             [
              0.1111111111111111,
              "#46039f"
             ],
             [
              0.2222222222222222,
              "#7201a8"
             ],
             [
              0.3333333333333333,
              "#9c179e"
             ],
             [
              0.4444444444444444,
              "#bd3786"
             ],
             [
              0.5555555555555556,
              "#d8576b"
             ],
             [
              0.6666666666666666,
              "#ed7953"
             ],
             [
              0.7777777777777778,
              "#fb9f3a"
             ],
             [
              0.8888888888888888,
              "#fdca26"
             ],
             [
              1.0,
              "#f0f921"
             ]
            ],
            "type": "contour"
           }
          ],
          "contourcarpet": [
           {
            "colorbar": {
             "outlinewidth": 0,
             "ticks": ""
            },
            "type": "contourcarpet"
           }
          ],
          "heatmap": [
           {
            "colorbar": {
             "outlinewidth": 0,
             "ticks": ""
            },
            "colorscale": [
             [
              0.0,
              "#0d0887"
             ],
             [
              0.1111111111111111,
              "#46039f"
             ],
             [
              0.2222222222222222,
              "#7201a8"
             ],
             [
              0.3333333333333333,
              "#9c179e"
             ],
             [
              0.4444444444444444,
              "#bd3786"
             ],
             [
              0.5555555555555556,
              "#d8576b"
             ],
             [
              0.6666666666666666,
              "#ed7953"
             ],
             [
              0.7777777777777778,
              "#fb9f3a"
             ],
             [
              0.8888888888888888,
              "#fdca26"
             ],
             [
              1.0,
              "#f0f921"
             ]
            ],
            "type": "heatmap"
           }
          ],
          "heatmapgl": [
           {
            "colorbar": {
             "outlinewidth": 0,
             "ticks": ""
            },
            "colorscale": [
             [
              0.0,
              "#0d0887"
             ],
             [
              0.1111111111111111,
              "#46039f"
             ],
             [
              0.2222222222222222,
              "#7201a8"
             ],
             [
              0.3333333333333333,
              "#9c179e"
             ],
             [
              0.4444444444444444,
              "#bd3786"
             ],
             [
              0.5555555555555556,
              "#d8576b"
             ],
             [
              0.6666666666666666,
              "#ed7953"
             ],
             [
              0.7777777777777778,
              "#fb9f3a"
             ],
             [
              0.8888888888888888,
              "#fdca26"
             ],
             [
              1.0,
              "#f0f921"
             ]
            ],
            "type": "heatmapgl"
           }
          ],
          "histogram": [
           {
            "marker": {
             "pattern": {
              "fillmode": "overlay",
              "size": 10,
              "solidity": 0.2
             }
            },
            "type": "histogram"
           }
          ],
          "histogram2d": [
           {
            "colorbar": {
             "outlinewidth": 0,
             "ticks": ""
            },
            "colorscale": [
             [
              0.0,
              "#0d0887"
             ],
             [
              0.1111111111111111,
              "#46039f"
             ],
             [
              0.2222222222222222,
              "#7201a8"
             ],
             [
              0.3333333333333333,
              "#9c179e"
             ],
             [
              0.4444444444444444,
              "#bd3786"
             ],
             [
              0.5555555555555556,
              "#d8576b"
             ],
             [
              0.6666666666666666,
              "#ed7953"
             ],
             [
              0.7777777777777778,
              "#fb9f3a"
             ],
             [
              0.8888888888888888,
              "#fdca26"
             ],
             [
              1.0,
              "#f0f921"
             ]
            ],
            "type": "histogram2d"
           }
          ],
          "histogram2dcontour": [
           {
            "colorbar": {
             "outlinewidth": 0,
             "ticks": ""
            },
            "colorscale": [
             [
              0.0,
              "#0d0887"
             ],
             [
              0.1111111111111111,
              "#46039f"
             ],
             [
              0.2222222222222222,
              "#7201a8"
             ],
             [
              0.3333333333333333,
              "#9c179e"
             ],
             [
              0.4444444444444444,
              "#bd3786"
             ],
             [
              0.5555555555555556,
              "#d8576b"
             ],
             [
              0.6666666666666666,
              "#ed7953"
             ],
             [
              0.7777777777777778,
              "#fb9f3a"
             ],
             [
              0.8888888888888888,
              "#fdca26"
             ],
             [
              1.0,
              "#f0f921"
             ]
            ],
            "type": "histogram2dcontour"
           }
          ],
          "mesh3d": [
           {
            "colorbar": {
             "outlinewidth": 0,
             "ticks": ""
            },
            "type": "mesh3d"
           }
          ],
          "parcoords": [
           {
            "line": {
             "colorbar": {
              "outlinewidth": 0,
              "ticks": ""
             }
            },
            "type": "parcoords"
           }
          ],
          "pie": [
           {
            "automargin": true,
            "type": "pie"
           }
          ],
          "scatter": [
           {
            "marker": {
             "colorbar": {
              "outlinewidth": 0,
              "ticks": ""
             }
            },
            "type": "scatter"
           }
          ],
          "scatter3d": [
           {
            "line": {
             "colorbar": {
              "outlinewidth": 0,
              "ticks": ""
             }
            },
            "marker": {
             "colorbar": {
              "outlinewidth": 0,
              "ticks": ""
             }
            },
            "type": "scatter3d"
           }
          ],
          "scattercarpet": [
           {
            "marker": {
             "colorbar": {
              "outlinewidth": 0,
              "ticks": ""
             }
            },
            "type": "scattercarpet"
           }
          ],
          "scattergeo": [
           {
            "marker": {
             "colorbar": {
              "outlinewidth": 0,
              "ticks": ""
             }
            },
            "type": "scattergeo"
           }
          ],
          "scattergl": [
           {
            "marker": {
             "colorbar": {
              "outlinewidth": 0,
              "ticks": ""
             }
            },
            "type": "scattergl"
           }
          ],
          "scattermapbox": [
           {
            "marker": {
             "colorbar": {
              "outlinewidth": 0,
              "ticks": ""
             }
            },
            "type": "scattermapbox"
           }
          ],
          "scatterpolar": [
           {
            "marker": {
             "colorbar": {
              "outlinewidth": 0,
              "ticks": ""
             }
            },
            "type": "scatterpolar"
           }
          ],
          "scatterpolargl": [
           {
            "marker": {
             "colorbar": {
              "outlinewidth": 0,
              "ticks": ""
             }
            },
            "type": "scatterpolargl"
           }
          ],
          "scatterternary": [
           {
            "marker": {
             "colorbar": {
              "outlinewidth": 0,
              "ticks": ""
             }
            },
            "type": "scatterternary"
           }
          ],
          "surface": [
           {
            "colorbar": {
             "outlinewidth": 0,
             "ticks": ""
            },
            "colorscale": [
             [
              0.0,
              "#0d0887"
             ],
             [
              0.1111111111111111,
              "#46039f"
             ],
             [
              0.2222222222222222,
              "#7201a8"
             ],
             [
              0.3333333333333333,
              "#9c179e"
             ],
             [
              0.4444444444444444,
              "#bd3786"
             ],
             [
              0.5555555555555556,
              "#d8576b"
             ],
             [
              0.6666666666666666,
              "#ed7953"
             ],
             [
              0.7777777777777778,
              "#fb9f3a"
             ],
             [
              0.8888888888888888,
              "#fdca26"
             ],
             [
              1.0,
              "#f0f921"
             ]
            ],
            "type": "surface"
           }
          ],
          "table": [
           {
            "cells": {
             "fill": {
              "color": "#EBF0F8"
             },
             "line": {
              "color": "white"
             }
            },
            "header": {
             "fill": {
              "color": "#C8D4E3"
             },
             "line": {
              "color": "white"
             }
            },
            "type": "table"
           }
          ]
         },
         "layout": {
          "annotationdefaults": {
           "arrowcolor": "#2a3f5f",
           "arrowhead": 0,
           "arrowwidth": 1
          },
          "autotypenumbers": "strict",
          "coloraxis": {
           "colorbar": {
            "outlinewidth": 0,
            "ticks": ""
           }
          },
          "colorscale": {
           "diverging": [
            [
             0,
             "#8e0152"
            ],
            [
             0.1,
             "#c51b7d"
            ],
            [
             0.2,
             "#de77ae"
            ],
            [
             0.3,
             "#f1b6da"
            ],
            [
             0.4,
             "#fde0ef"
            ],
            [
             0.5,
             "#f7f7f7"
            ],
            [
             0.6,
             "#e6f5d0"
            ],
            [
             0.7,
             "#b8e186"
            ],
            [
             0.8,
             "#7fbc41"
            ],
            [
             0.9,
             "#4d9221"
            ],
            [
             1,
             "#276419"
            ]
           ],
           "sequential": [
            [
             0.0,
             "#0d0887"
            ],
            [
             0.1111111111111111,
             "#46039f"
            ],
            [
             0.2222222222222222,
             "#7201a8"
            ],
            [
             0.3333333333333333,
             "#9c179e"
            ],
            [
             0.4444444444444444,
             "#bd3786"
            ],
            [
             0.5555555555555556,
             "#d8576b"
            ],
            [
             0.6666666666666666,
             "#ed7953"
            ],
            [
             0.7777777777777778,
             "#fb9f3a"
            ],
            [
             0.8888888888888888,
             "#fdca26"
            ],
            [
             1.0,
             "#f0f921"
            ]
           ],
           "sequentialminus": [
            [
             0.0,
             "#0d0887"
            ],
            [
             0.1111111111111111,
             "#46039f"
            ],
            [
             0.2222222222222222,
             "#7201a8"
            ],
            [
             0.3333333333333333,
             "#9c179e"
            ],
            [
             0.4444444444444444,
             "#bd3786"
            ],
            [
             0.5555555555555556,
             "#d8576b"
            ],
            [
             0.6666666666666666,
             "#ed7953"
            ],
            [
             0.7777777777777778,
             "#fb9f3a"
            ],
            [
             0.8888888888888888,
             "#fdca26"
            ],
            [
             1.0,
             "#f0f921"
            ]
           ]
          },
          "colorway": [
           "#636efa",
           "#EF553B",
           "#00cc96",
           "#ab63fa",
           "#FFA15A",
           "#19d3f3",
           "#FF6692",
           "#B6E880",
           "#FF97FF",
           "#FECB52"
          ],
          "font": {
           "color": "#2a3f5f"
          },
          "geo": {
           "bgcolor": "white",
           "lakecolor": "white",
           "landcolor": "#E5ECF6",
           "showlakes": true,
           "showland": true,
           "subunitcolor": "white"
          },
          "hoverlabel": {
           "align": "left"
          },
          "hovermode": "closest",
          "mapbox": {
           "style": "light"
          },
          "paper_bgcolor": "white",
          "plot_bgcolor": "#E5ECF6",
          "polar": {
           "angularaxis": {
            "gridcolor": "white",
            "linecolor": "white",
            "ticks": ""
           },
           "bgcolor": "#E5ECF6",
           "radialaxis": {
            "gridcolor": "white",
            "linecolor": "white",
            "ticks": ""
           }
          },
          "scene": {
           "xaxis": {
            "backgroundcolor": "#E5ECF6",
            "gridcolor": "white",
            "gridwidth": 2,
            "linecolor": "white",
            "showbackground": true,
            "ticks": "",
            "zerolinecolor": "white"
           },
           "yaxis": {
            "backgroundcolor": "#E5ECF6",
            "gridcolor": "white",
            "gridwidth": 2,
            "linecolor": "white",
            "showbackground": true,
            "ticks": "",
            "zerolinecolor": "white"
           },
           "zaxis": {
            "backgroundcolor": "#E5ECF6",
            "gridcolor": "white",
            "gridwidth": 2,
            "linecolor": "white",
            "showbackground": true,
            "ticks": "",
            "zerolinecolor": "white"
           }
          },
          "shapedefaults": {
           "line": {
            "color": "#2a3f5f"
           }
          },
          "ternary": {
           "aaxis": {
            "gridcolor": "white",
            "linecolor": "white",
            "ticks": ""
           },
           "baxis": {
            "gridcolor": "white",
            "linecolor": "white",
            "ticks": ""
           },
           "bgcolor": "#E5ECF6",
           "caxis": {
            "gridcolor": "white",
            "linecolor": "white",
            "ticks": ""
           }
          },
          "title": {
           "x": 0.05
          },
          "xaxis": {
           "automargin": true,
           "gridcolor": "white",
           "linecolor": "white",
           "ticks": "",
           "title": {
            "standoff": 15
           },
           "zerolinecolor": "white",
           "zerolinewidth": 2
          },
          "yaxis": {
           "automargin": true,
           "gridcolor": "white",
           "linecolor": "white",
           "ticks": "",
           "title": {
            "standoff": 15
           },
           "zerolinecolor": "white",
           "zerolinewidth": 2
          }
         }
        },
        "xaxis": {
         "anchor": "y",
         "domain": [
          0.0,
          1.0
         ],
         "title": {
          "text": "meme_score_vanilla_log"
         }
        },
        "yaxis": {
         "anchor": "x",
         "domain": [
          0.0,
          1.0
         ],
         "title": {
          "text": "log_div"
         }
        },
        "legend": {
         "tracegroupgap": 0
        },
        "margin": {
         "t": 60
        }
       },
       "config": {
        "plotlyServerURL": "https://plot.ly"
       }
      },
      "text/html": "<div>                            <div id=\"83667f2c-b9e5-44b3-b55f-95be7f348a84\" class=\"plotly-graph-div\" style=\"height:525px; width:100%;\"></div>            <script type=\"text/javascript\">                require([\"plotly\"], function(Plotly) {                    window.PLOTLYENV=window.PLOTLYENV || {};                                    if (document.getElementById(\"83667f2c-b9e5-44b3-b55f-95be7f348a84\")) {                    Plotly.newPlot(                        \"83667f2c-b9e5-44b3-b55f-95be7f348a84\",                        [{\"hovertemplate\":\"meme_score_vanilla_log=%{x}<br>log_div=%{y}<br>chosen=%{text}<extra></extra>\",\"legendgroup\":\"\",\"marker\":{\"color\":\"#636efa\",\"symbol\":\"circle\"},\"mode\":\"markers+text\",\"name\":\"\",\"showlegend\":false,\"text\":[\" \",\" \",\" \",\" \",\" \",\" \",\" \",\" \",\" \",\" \",\" \",\" \",\" \",\" \",\" \",\" \",\" \",\" \",\" \",\" \",\" \",\" \",\" \",\" \",\" \",\" \",\" \",\" \",\" \",\" \",\" \",\" \",\" \",\" \",\" \",\" \",\" \",\" \",\" \",\" \",\" \",\" \",\" \",\" \",\" \",\" \",\" \",\" \",\" \",\" \",\" \",\" \",\" \",\" \",\" \",\" \",\" \",\" \",\" \",\" \",\" \",\" \",\" \",\" \",\" \",\" \",\" \",\" \",\" \",\" \",\" \",\" \",\" \",\" \",\" \",\" \",\" \",\" \",\" \",\" \",\" \",\" \",\" \",\" \",\" \",\" \",\" \",\" \",\" \",\" \",\" \",\" \",\" \",\" \",\" \",\" \",\" \",\" \",\" \",\" \",\" \",\" \",\" \",\" \",\" \",\" \",\" \",\" \",\" \",\" \",\" \",\" \",\" \",\" \",\" \",\" \",\" \",\" \",\" \",\" \",\" \",\" \",\" \",\" \",\" \",\" \",\" \",\" \",\" \",\" \",\" \",\" \",\" \",\"large search space\",\" \",\" \",\" \",\" \",\" \",\" \",\" \",\" \",\" \",\" \",\" \",\" \",\" \",\" \",\" \",\" \",\" \",\" \",\" \",\" \",\" \",\" \",\" \",\" \",\" \",\" \",\" \",\" \",\" \",\" \",\" \",\" \",\"sensitive datum\",\" \",\" \",\" \",\" \",\" \",\" \",\" \",\" \",\" \",\" \",\" \",\" \",\" \",\"transparency\",\" \",\" \",\" \",\" \",\" \",\" \",\" \",\" \",\" \",\" \",\" \",\" \",\" \",\" \",\" \",\" \",\" \",\" \",\" \",\" \",\" \",\" \",\" \",\" \",\" \",\" \",\" \",\" \",\" \",\" \",\" \",\" \",\" \",\" \",\" \",\" \",\" \",\" \",\" \",\" \",\" \",\" \",\" \",\" \",\" \",\" \",\" \",\" \",\" \",\" \",\" \",\" \",\" \",\" \",\" \",\" \",\" \",\" \",\" \",\" \",\" \",\" \",\" \",\" \",\" \",\" \",\" \",\" \",\" \",\" \",\" \",\" \",\" \",\" \",\" \",\" \",\" \",\" \",\" \",\" \",\" \",\" \",\" \",\" \",\" \",\" \",\" \",\" \",\" \",\" \",\" \",\" \",\" \",\" \",\" \",\" \",\"ethical issue\",\" \",\" \",\" \",\" \",\" \",\" \",\" \",\" \",\" \",\" \",\" \",\" \",\" \",\" \",\" \",\" \",\" \",\" \",\" \",\" \",\" \",\" \",\" \",\" \",\" \",\" \",\" \",\" \",\" \",\" \",\" \",\" \",\" \",\" \",\" \",\" \",\" \",\" \",\" \",\" \",\" \",\" \",\" \",\" \",\" \",\" \",\" \",\" \",\" \",\" \",\" \",\" \",\" \",\" \",\" \",\" \",\" \",\" \",\" \",\" \",\" \",\" \",\" \",\" \",\" \",\" \",\" \",\" \",\" \",\" \",\" \",\" \",\" \",\" \",\" \",\" \",\" \",\" \",\" \",\" \",\"fairness\",\" \",\" \",\" \",\" \",\" \",\" \",\" \",\" \",\" \",\" \",\" \",\" \",\" \",\" \",\" \",\" \",\" \",\"vr application\",\" \",\" \",\" \",\" \",\" \",\" \",\" \",\" \",\" \",\" \",\" \",\" \",\" \",\" \",\" \",\" \",\" \",\" \",\" \",\" \",\" \",\" \",\" \",\" \",\" \",\" \",\" \",\" \",\" \",\" \",\" \",\" \",\" \",\" \",\" \",\" \",\" \",\"privacy\",\" \",\" \",\" \",\" \",\" \",\" \",\" \",\" \",\" \",\" \",\" \",\" \",\" \",\" \",\" \",\" \",\" \",\" \",\" \",\" \",\" \",\" \",\" \",\" \",\" \",\" \",\" \",\" \",\" \",\" \",\" \",\" \",\" \",\" \",\" \",\" \",\" \",\" \",\" \",\" \",\" \",\" \",\" \",\" \",\" \",\" \",\" \",\" \",\" \",\" \",\" \",\" \",\" \",\" \",\" \",\" \",\" \",\" \",\" \",\" \",\" \",\" \",\" \",\" \",\" \",\" \",\" \",\" \",\" \",\" \",\" \",\" \",\" \",\" \",\" \",\" \",\" \",\" \",\" \",\"several public dataset\",\" \",\" \",\" \",\" \",\" \",\" \",\" \",\" \",\" \",\" \",\" \",\" \",\" \",\" \",\" \",\" \",\" \",\" \",\" \",\" \",\" \",\" \",\" \",\" \",\" \",\" \",\" \",\" \",\" \",\" \",\" \",\" \",\" \",\" \",\" \",\" \",\" \",\" \",\" \",\" \",\" \",\" \",\" \",\" \",\" \",\" \",\" \",\" \",\" \",\" \",\" \",\" \",\" \",\" \",\" \",\" \",\" \",\" \",\" \",\" \",\" \",\" \",\" \",\" \",\" \",\" \",\" \",\" \",\" \",\" \",\" \",\" \",\" \",\" \",\" \",\" \",\" \",\" \",\" \",\" \",\" \",\" \",\" \",\" \",\" \",\" \",\" \",\" \",\" \",\" \",\" \",\" \",\" \",\" \",\" \",\"package\",\" \",\" \",\" \",\" \",\" \",\" \",\" \",\" \",\" \",\" \",\" \",\" \",\" \",\" \",\" \",\" \",\" \",\" \",\" \",\" \",\" \",\" \",\" \",\" \",\" \",\" \",\" \",\" \",\" \",\" \",\" \",\" \",\" \",\" \",\" \",\" \",\" \",\" \",\" \",\" \",\" \",\" \",\" \",\" \",\" \",\" \",\" \",\" \",\" \",\" \",\" \",\" \",\" \",\" \",\" \",\" \",\" \",\" \",\" \",\" \",\" \",\" \",\" \",\" \",\" \",\" \",\" \",\" \",\" \",\" \",\" \",\" \",\" \",\" \",\"chatbot\",\" \",\" \",\" \",\" \",\" \",\" \",\" \",\" \",\" \",\" \",\" \",\" \",\" \",\" \",\" \",\" \",\" \",\" \",\" \",\" \",\" \",\" \",\" \",\" \",\" \",\" \",\" \",\" \",\" \",\" \",\" \",\" \",\" \",\" \",\" \",\" \",\" \",\" \",\" \",\" \",\" \",\" \",\" \",\" \",\" \",\" \",\" \",\" \",\" \",\" \",\" \",\" \",\" \",\" \",\" \",\" \",\" \",\" \",\" \",\" \",\" \",\" \",\" \",\" \",\" \",\" \",\" \",\" \",\" \",\" \",\" \",\" \",\" \",\" \",\" \",\" \",\" \",\" \",\" \",\" \",\" \",\" \",\" \",\" \",\" \",\" \",\" \",\" \",\" \",\" \",\" \",\" \",\" \",\" \",\" \",\" \",\" \",\" \",\" \",\" \",\" \",\" \",\" \",\" \",\" \",\" \",\" \",\" \",\" \",\" \",\" \",\" \",\" \",\" \",\" \",\" \",\" \",\" \",\" \",\" \",\" \",\" \",\" \",\" \",\" \",\" \",\" \",\" \",\" \",\" \",\" \",\" \",\" \",\" \",\" \",\" \",\" \",\" \",\" \",\" \",\" \",\" \",\" \",\" \",\"confidentiality\",\" \",\" \",\" \",\" \",\" \",\" \",\" \",\" \",\" \",\" \",\" \",\" \",\" \",\" \",\" \",\" \",\" \",\" \",\" \",\" \",\" \",\" \",\" \",\" \",\" \",\" \",\" \",\" \",\" \",\" \",\" \",\" \",\" \",\" \",\" \",\" \",\" \",\" \",\" \",\" \",\" \",\" \",\" \",\" \",\" \",\"hate speech\",\" \",\" \",\" \",\" \",\" \",\" \",\" \",\" \",\" \",\" \",\" \",\" \",\" \",\" \",\" \",\" \",\" \",\" \",\" \",\" \",\" \",\" \",\" \",\" \",\" \",\" \",\" \",\" \",\" \",\" \",\" \",\" \",\" \",\" \",\" \",\" \",\" \",\" \",\" \",\" \",\" \",\" \",\" \",\" \",\" \",\" \",\" \",\" \",\"detection time\",\" \",\" \",\" \",\" \",\" \",\" \",\" \",\" \",\" \",\" \",\" \",\" \",\" \",\" \",\" \",\" \",\" \",\" \",\" \",\" \",\" \",\" \",\" \",\" \",\" \",\" \",\" \",\" \",\" \",\" \",\" \",\" \",\" \",\" \",\" \",\" \",\" \",\" \",\" \",\" \",\" \",\" \",\" \",\" \",\" \",\" \",\" \",\" \",\" \",\" \",\" \",\" \",\"recommender system\",\" \",\" \",\" \",\" \",\" \",\" \",\" \",\" \",\" \",\" \",\" \",\" \",\" \",\" \",\" \",\" \",\" \",\" \",\" \",\" \",\" \",\" \",\" \",\" \",\" \",\" \",\" \",\" \",\" \",\" \",\" \",\" \",\" \",\" \",\" \",\" \",\" \",\" \",\" \",\" \",\" \",\" \",\" \",\" \",\" \",\" \",\" \",\" \",\" \",\" \",\" \",\" \",\" \",\" \",\" \",\" \",\"image classification task\",\" \",\" \",\" \",\" \",\" \",\" \",\" \",\" \",\" \",\" \",\" \",\" \",\" \",\" \",\" \",\" \",\" \",\" \",\" \",\" \",\" \",\" \",\" \",\" \",\" \",\" \",\" \",\"comparative analysis\",\" \",\" \",\" \",\" \",\" \"],\"x\":[8.664433919852195,10.060849398941697,11.468815719234135,9.671893455094091,9.610969360739096,10.078898859193838,10.562875105452811,11.160915321981676,10.637865672025306,9.454720517049235,11.707708143759088,10.616632254446168,9.763947193617167,9.130629427770034,8.794351795034176,9.640373165480456,8.711143481676318,9.491488000196938,9.614516579447026,10.925262529228648,11.065137993239674,9.654351171743196,8.006453321467452,11.184130752186725,11.949797479053162,10.644620484332847,11.077275467183664,11.183835481678846,8.85615600654426,11.18194523350241,9.39083765187353,7.920893574034976,9.27793876835191,9.809385960068955,10.370182450328581,10.326195244333796,10.045320202194631,9.719601352449317,8.210547114573421,9.811059983549129,10.607558036929422,8.774695975433081,10.048189652953875,10.060403242991857,10.945554754539673,10.040273109878944,9.476663501938281,11.430675954815957,11.119442000299806,9.481589626536309,9.35138703920047,9.410637694565242,11.217506488957993,9.263234293919734,8.415367407757588,10.4182970696538,9.404448482227119,10.178278920536307,8.973958215557209,9.394059691445127,11.756068821262435,9.791069509725617,10.813901969007507,11.89879166932278,9.954988635417878,9.290571502846795,8.797792381313625,10.165000788063729,9.88039136673679,10.748482745323438,8.911243243535381,9.081344742874977,9.750551713238453,8.280350194113021,8.264853870011382,10.548620776207004,10.536363520749138,9.919761369047954,10.588931146930083,9.826315330503254,9.683315069930131,9.292887831041902,11.15202319319158,9.467679791113369,8.855356686566674,10.945582971465118,8.81677887452658,10.38856461621322,9.863763987667705,10.64065215710246,8.83280444238018,10.88999705130121,11.979606146104935,9.529989037894905,10.188709233450254,10.874082908595936,8.68638989573886,9.9538834162952,11.756489376559893,10.562584444910735,11.955863859260434,10.193210442781,10.522459191882653,10.47133679050514,10.149604416144358,8.909096954331384,9.100005583159856,9.601930756455086,9.149637302745036,9.185709799371917,8.201569288943277,10.256879187101369,10.548834334969031,9.447090420409832,8.59558627797414,9.086499554993889,9.633018121195319,10.301572757473402,11.424514275205537,10.614291897246513,8.21720029947458,10.090693023428413,10.328968878820442,8.784207150028312,9.824829684967442,9.772346265701481,10.308908838557693,10.50155501361665,9.582819534121194,10.473923512293338,9.099294236638924,8.168179887957265,9.958804795166735,6.8957386770370865,11.09414100933015,7.733228143100801,10.63528788027152,9.246371777542878,9.718022654543956,10.13858643433103,10.067584543244022,11.359809651591743,10.070101639082775,8.647277857503848,8.800154901665783,8.10206052769628,9.6378850035201,10.128692922040328,9.63424190778122,9.733602429068005,9.945574519649913,10.615055574755697,10.411012010072755,8.915502468555646,10.004345657264178,9.284227264974994,9.476264344687706,9.016744861838529,8.658330403336588,11.169559582325661,10.881015680441035,8.559698876284706,9.06776436779489,9.227171688826637,9.947937224037158,9.599924273057995,9.377638013168697,6.996573481182644,9.467517880700042,10.813104966686433,10.50027227138237,10.493784194815841,10.333704260495182,10.382021701840825,11.018099625172617,9.449834934737476,8.515502717121272,9.433271674019062,9.519148878425359,8.600753403408255,10.129005549562986,11.777083763631412,10.801706621352652,11.077084682609092,8.767989595117225,9.919758258283329,10.956680788536676,10.893526829832066,9.35527852558351,9.012294320308582,9.591898216914434,10.233319653230918,10.066784398659514,10.452838236763979,8.500794240109736,9.451028103673869,12.097413149752535,9.813609613746888,11.223039783365715,11.465443850054921,10.945582971465118,8.962796834691297,10.419805582036785,9.632813287251787,11.57417952725099,10.504519687445063,11.334509483817076,9.38331473553486,9.048211819751861,9.215275760554055,9.600000608937624,11.815357125942954,10.137698189410663,11.861839776420803,10.820995093725536,10.29470784038847,9.974867734591566,10.237171440676931,10.659079838879277,10.378876812204597,10.626695856990446,8.862182188774469,11.408643905193264,10.286097775022876,8.40582804143628,9.693304967376017,10.161035039167626,9.924946182373853,10.051814076036186,9.183488770825226,10.912181218257809,9.623977508838458,8.888888618342584,9.035997295141772,9.606990241532035,9.47322707340779,10.637458862481415,8.458117987310459,8.915407190716554,10.018276101622245,9.852311282601491,8.262952645533298,9.441112253412784,9.155173374485589,9.983089454873785,10.226324321680135,9.568827226821277,9.758589122557357,9.411905079535499,7.4735916171884105,10.291970841802463,8.64878158613113,7.768815300349107,9.665329451896412,10.470576091190685,10.497495078213598,9.868558134575627,9.771315377765417,10.331523742154845,7.64048361011517,10.015720735570572,11.685381069807438,9.62571482167302,9.359052782025742,9.579207448586486,9.634478494488759,11.254347478892972,8.780542124004974,9.160167931578862,9.719266664711798,10.789042373241578,10.445233106673767,9.965986005017667,7.958371041357397,9.975551997204011,8.817849103915954,11.781588263129724,11.312010188150905,9.952548515849031,10.298973602579366,9.443062435360286,11.366548536615108,10.232967820069346,9.048341818637397,10.651543745553125,9.529681691449875,11.093747530709342,10.313554564489152,8.35886087975854,9.366086853386651,9.429398347424252,9.11288959172279,11.109887729399983,11.03041606967069,9.17903969401053,10.46149272673997,9.25363928414066,9.401610954888874,9.106019851820784,8.308911299739679,10.201681515936889,8.867430740020703,11.168699856645983,11.26845021337797,10.100385301806805,10.386658824731741,9.207579345936958,10.098269553101872,10.301732063005918,8.983810797377952,9.30326338004626,9.363537387664111,8.466439806258316,9.655830369827427,11.168066304571267,9.119775459545332,8.849684292996836,9.844840512634464,11.69621737771432,9.293457517334334,9.321057272824776,10.865267408209835,10.50222639283901,7.369344409261869,9.03155205163128,9.58885170263741,11.952340096876124,11.631344954856566,10.693241506286588,10.517481563562047,10.875577056382186,11.393735858845831,9.261431594165153,10.86491964756054,10.054530409849866,9.749565063195778,10.594727408493236,10.724538768299166,7.044212359027335,11.467388601534351,10.064737548343594,9.140460390666505,9.523993272877677,9.88212880547668,8.959960633751905,7.209263623493871,8.889760290438383,10.688566644339133,11.072867240115865,9.738018836586692,12.073055618777836,10.70610499594998,10.92430233803338,9.672630399410993,9.39736225898183,10.667230558622641,10.85178393995614,9.86077491449386,12.220760837164033,9.22099665470398,10.013862941248643,9.561546905212362,10.248426215783619,9.750419638545473,12.005818524513185,8.892001585349577,9.669311672718075,10.279892366190376,10.416705384836332,8.509878276639464,10.4038671120499,9.359448455991048,10.085025729852251,11.386535058071862,9.948986092500975,10.34202747174553,10.336325103356767,10.075182429216214,8.264799581088605,9.56693060832387,10.860416789897922,11.255610176560484,10.632056371351627,9.256217890266793,8.77336057188214,9.448772828663422,10.239181489689557,10.457221025927119,10.73038870121999,10.025781973882312,8.979553525217547,10.493701700131947,11.315301753422487,10.454836627581654,11.366535913781307,10.490189905192437,9.224999471886356,9.496302096511927,10.659371961114088,9.804223432142312,9.721723862571567,7.855058599281326,10.693097992590184,9.622620669666974,10.631063994803569,8.726695074497565,9.605705076888736,10.315147376332288,9.90024140699377,9.27748015047638,11.2023024573879,11.189249141976408,9.980660303354792,9.92736157372422,11.996269168299731,12.09297189303967,11.572416517130941,9.800267158351467,10.028882164900985,9.292023407222194,10.325068296284389,9.293699423468825,9.663708106286306,9.719742642132482,10.88406446458032,9.972429978539235,9.977319684440602,9.57732589295083,8.890129526048732,11.110368539645359,8.683297514816473,9.103732944598349,10.187715170047394,9.639754797031886,11.405902956746894,10.209310479995533,10.560998561803016,8.303020373837919,10.087304520688146,10.385813481041593,8.190827647270405,9.087030259737038,11.020421068640827,9.859462647030963,10.009763604452065,8.963977118257963,8.898351126330171,10.813901969007507,8.787183012217687,9.691070215016627,10.064463276741147,10.868544722515818,9.808315773634261,9.490368869114201,9.896214401415719,10.85557945804055,10.128367515498558,10.753680559216253,10.405307367415398,9.648396747009699,9.044084045335927,9.082123089564215,9.143364395744014,9.837849672090796,9.520607885270724,9.9235468349847,8.706481129370038,9.328137377590364,9.217554818587608,8.3251268232829,9.197304475096379,11.28385366510856,9.39724587610691,8.563469653210229,9.117449752038478,11.361163087989633,8.55523555819879,11.123001744283593,10.332296593642958,11.753193148166357,9.732071841131038,9.597287913600507,10.36674194364264,9.8570370076022,9.782387037759042,9.488665363156334,10.36564862328335,8.225179614950196,10.48182414285386,11.089680481677629,10.170276719902807,10.414666836152941,9.045440778037841,10.64565465963381,8.95556343644187,10.1515650554014,9.319550577196061,9.279458531964291,10.479000623071965,11.136649175058011,9.013813733704614,9.813901349155023,8.225294406652337,10.612568126526392,7.077981412242308,7.615153402308606,8.454195316418085,8.041198863986118,10.241755116069351,8.45199603671758,10.156558441471374,10.02763113958452,9.98151278525525,8.572726326011164,9.290782803278615,10.02945281611237,9.834255853735513,10.577791156123887,10.341322940120662,9.879660345300081,7.96635066250129,10.971478080089879,8.42498570500437,8.850285406293564,9.569196557453918,8.433493258545003,9.900280161413678,11.158312395897756,10.372721550533583,9.755282684108534,10.76564977066819,8.427853306099085,9.655146975779415,11.20434576554815,9.942232203960984,11.484496475374714,8.088394502821545,7.639656870806723,11.393716765108685,9.194313058864084,8.611579004156987,9.716591994929416,10.588728676477121,10.229530570377989,9.902314922057245,9.418647699196915,9.089188101773729,10.878404454338778,11.031252957345393,9.133899898832698,9.005722300648532,11.536540349844167,7.875458510922954,10.63829459422628,8.820480313606732,10.84979935886747,7.757766654629501,9.97223372181883,10.66190391158678,9.140712112212382,8.265867774400139,6.43374818658603,9.11786629037924,10.590456293750908,9.097849940415351,10.418960404146802,10.874576203022642,9.360322648396322,9.600413208799448,9.477857969540555,8.994548808357926,9.286555229853171,9.950125677534883,9.210440473449545,10.811199064875755,10.354309262264504,11.215126771685654,10.128256480625524,9.645722952729791,8.770312005399411,9.39922089126196,11.569648209405065,9.227670576717454,9.590172163219682,8.901790228976214,10.756696761712206,8.165806492800979,10.638197903561542,8.554016490005262,9.889950600361313,9.156447780428566,9.957609296676655,10.072508745275178,8.862527287210545,8.785090651531364,9.583698843874817,11.325730875401465,8.994466770375556,9.677734136763657,11.325083686767394,11.150374761780375,8.877940695508329,12.149552864558975,9.050910054089128,10.441673391895582,8.952181909599483,10.054121306214308,10.383837366445826,10.231803342705629,10.543219762908654,11.11968364260413,8.905256974804725,10.74867823891834,10.858362070529033,9.338929152847099,9.380130514255837,9.146267988646416,10.838779321402628,9.579275791223703,9.4158004699131,9.815381305367856,10.123493571686872,8.888510844770813,9.807855185497461,9.826075456336685,10.263099007545424,8.820953168974228,5.904348012050158,9.850383368022806,7.986647948454082,9.608927419487577,10.66738514565686,10.33557322427941,9.51019854113126,9.87673121688077,9.794947985922075,10.636937498023501,10.16337833777582,9.258325938854,9.801775763008537,10.112296982582494,9.53253449827045,9.637130045466595,9.759894192884344,9.197319928453112,10.467621402791499,9.90345763324376,9.238895330767916,10.993772191289635,9.269880312647711,10.778970714168675,10.918660397701911,9.326247001832257,11.846364913309175,10.557077581990143,9.55642660590835,8.783466932689292,8.950830871249432,10.807218085444346,9.710176881435258,9.742485760814114,9.664712220867925,9.430824709839165,10.69538506243667,8.543381871849904,11.57898592853378,9.577482870058885,10.496294423111461,9.53750214810452,9.912800524913047,10.444138024891332,7.896875569494984,8.155520838736189,9.354241027150163,9.511965748499549,10.914949220377755,10.394682448115871,10.26547496380283,10.322709822098915,10.818059419229062,9.86491678318286,10.519086488431082,11.095117948171845,9.770441439216084,11.697460797638774,9.202088500498965,11.233127891409197,9.72421749876204,9.192907861364965,11.333029415981652,11.93360799763987,9.128013853444232,9.620219627098422,9.87495679750051,10.953164824376595,9.45357373269309,9.727984568122702,9.275788880892382,9.546496084159367,9.13929299540333,11.497162949006343,10.197712187270586,10.22425739892008,8.877862414799866,10.82918660835277,9.011792460630309,10.43824058292719,10.18925976125771,10.39221586672563,10.428072153165166,11.345315348885393,9.459619021179044,9.911879287400499,9.003889632130635,9.818662308524717,9.809077860930453,10.384725977413574,9.634169982174837,10.455372442803482,10.418105349401946,9.311191505982064,11.111310844225756,11.70392326452727,9.668049507403689,9.498585344752577,10.468431875887807,6.789255807614685,10.474938151897478,10.85731001159655,10.017042842950934,10.124819672588721,10.97428776766683,9.841842317092512,8.696504744505246,10.890972122429051,8.932660337419273,9.2625667782452,9.863302595275814,10.89387511144535,10.758612936174014,10.963046276332761,9.25754118746284,7.962334310989162,8.738348480701474,9.807534507916566,9.62584137427102,9.913102979977063,8.76675267726587,9.40703461256183,9.2554940821321,9.352595751945193,10.63472710598785,9.48026541283507,9.940833365155672,11.173641949603605,10.805383385032219,8.149994748878518,11.71422793235028,9.273375550643907,8.084462468505826,10.478707566401685,10.077752829942737,10.349579747133701,11.327490599794446,10.794333654213577,7.895362950588086,8.76440483686543,11.057395895261473,9.3722252316283,9.180778927453737,9.793106530395852,10.258016288595288,9.04955053022931,11.806610934252916,9.711683128680505,10.157074854400738,9.41714610825246,9.67954105570307,9.162310375387504,9.203042654096937,10.845564569023384,9.111616797326949,9.770621073432297,8.449984331934902,10.345745457977019,9.260673563083081,9.489319725407316,10.652544818411533,9.934180650967017,9.455421868711612,9.474088524372235,9.87917216880753,10.853622865298536,11.273863750433405,5.277009692592641,9.310420363037514,10.453493237434467,9.45888146971082,10.448459305347493,10.803979580137446,11.773180261283802,11.604040969598053,10.167673927216127,10.833978887410357,7.529874415215549,9.092198825093808,7.694308763853684,9.99930787897402,8.734653203058915,8.380157407764752,9.552509298021661,9.013019784481928,10.33985266728118,10.077837054341813,10.248451462254732,8.834236516597516,9.792182531515015,7.977134454873552,8.66150021192835,7.9700700400174815,11.563884382645497,9.593184781140172,10.681418655550383,11.137472755534128,11.14386285803833,11.62260722968118,10.05175438593126,11.072294981900177,10.84233328497282,12.410431368669324,8.930466325883788,8.76431751819788,9.185917355077697,10.181246213428125,11.318389352730751,11.316263674799515,10.552521176020274,10.123595026227232,7.937074096123663,8.26072778312579,10.121603971447916,10.75796754402861,8.322888617648704,10.791872778523832,11.175766411024478,7.616974450746427,11.37763642881668,8.947780124742614,9.663459065447457,9.683866935830343,9.51102332893198,8.853144613466409,10.170553403433265,11.085843058785882,10.227155833130409,8.454565161951171,12.205415277050376,8.387915750605067,8.520814168095843,10.0389824725677,9.37143590202243,10.348694563267108,10.299079754409314,10.294828536835062,11.586215354540856,10.976351296826316,9.91628245668018,11.49945253430189,7.407315558080255,9.537109052636604,9.482689044334657,9.810563192859432,10.666555811721722,10.51076612408459,10.91422772135882,10.9298003457002,10.402854032400842,11.322871685877466,9.311603951042109,10.290080236266688,10.110737255278051,9.687746521143232,11.29175117345037,8.697933767775485,9.74602356019407,8.779182020510753,9.529800569463863,11.000166894158973,10.016368708499717,9.563698549730104,6.41128882197671,11.603175632447918,10.92186894483426,8.480679620885855,9.105289397400766,9.211941104446849,8.58567180520763,10.522097412530343,9.862044122001889,10.120627650081252,8.61313862342963,10.877330614993543,9.44532742156034,8.452533060453305,10.301877830521905,9.353029592913963,10.213208702331062,10.684198219350764,11.158671979403092,12.074942793872353,10.147043725049677,11.727256973868961,9.957662611254419,10.87496212089212,9.004028109670964,7.983664638786703,6.681936687534215,10.950018234512351,10.370207392944614,10.143129022603155,8.720794900348345,9.593850230972706,10.124132466351679,8.848043786101313,11.304506630471446,9.304622047360418,8.732314746559975,8.005614921506083,10.329201446707227,9.199329087947282,11.938831213062413,10.15436351030089,10.291207993617904,11.563140014808159,12.162397287631753,10.488003428788213,10.536482550200775,10.15765903554594,8.939591087061286,10.513263365917544,10.370157277413849,9.904218988284848,11.756419661218127,11.899507730787143,8.886593716721373,8.484728566339959,10.386314064487829,12.097413149752535,9.393356637020343,12.09297189303967,9.575988807935698,9.786458592531416,10.625200787812343,8.68647311837021,11.35104601673331,9.66512980744174,9.570427470298108,9.467224551758516,11.349979417916446,9.816119150107234,10.157074854400738,9.506685410368057,9.31362428930573,10.334976073720723,11.756419661218127,5.7612196821561925,11.063266804585934,8.578292604984698,10.087761819074405,11.756419661218127,11.669491216601136,10.800895442119034,8.060322663964763,10.27324703731273,10.593248113878655,9.693885159988934,10.766888172968146,9.377036799774238,10.168466628395388,10.230322575236272,11.237677170156891,10.950018234512351,9.350274156423847,11.286414126326656,10.432434667369211,10.67117884725292,9.650154458515692,11.168699856645983,9.373100525489292,9.669212591169664,9.446430120931325,9.659127660127377,9.452749566211217,8.912920370107077,10.531651493157588,9.866243221436786,7.211462360118772,8.51035190116792,9.121560031846151,11.79730641231519,10.800895442119034,10.321300210019174,11.106334763312296,9.167084710880024,9.936546329846822,5.7612196821561925,9.904105393367647,9.531039430916218,9.82492412935065,9.654257627678883,9.850229438951303,10.321386438282737,9.458563990171221,11.69197508320785,10.722778300122307,8.811414011940686,9.944922943482963,11.063266804585934,9.733680303815618,10.657789353615337,9.00158736702318,10.593248113878655,10.380275322355729,9.397446409726678,9.988837280613371,12.113144045255495,8.776754956989805,9.455682799169175,9.604555989007402,8.989104046745798,11.03518513027147,9.163293589845674,9.724349534250967,10.680369226888905,8.820151499120882,10.593338170653027,9.607853158916301,9.404864373456082,10.370157277413849,9.702331902897743,9.98507193379674,11.979606146104935,11.574098302531603,9.271391086502277,9.959176598855517,9.174500679743664,9.88983182199354,11.350986530425574,9.222272640868585],\"xaxis\":\"x\",\"y\":[0.3499078024629661,-0.8754699494721736,0.0,2.5055019577108735,-0.3837260147710313,1.3142966080756746,1.4165935108733128,0.5521726893688867,0.3942762645771342,1.3981127404742353,1.0985456264455666,0.6140746597621916,0.20066918031453876,-0.5538806879514163,0.7897703263269021,1.2039611377856565,1.302906266695799,2.2913795832130046,0.38299013105587626,-0.920932489548811,0.9932054779570866,1.1473978496753596,1.931985818380289,-0.13090212561856276,0.26231682981672616,0.11122501591862867,0.37752880058203475,-0.7088970752228742,-0.7550228750579261,-0.5390018578229299,0.6005244979940704,2.8662607337126578,0.10776084329713138,0.6109066763177045,0.318445776640874,0.2876737393614959,0.8964799712793439,2.9956372785411576,3.344006811514313,0.03738178285794765,0.20065857437858667,0.5853140566150072,0.7731854010813201,0.6931400377793322,0.6286028261449429,-1.3862907897104517,0.15110454529006465,1.2991920799976964,0.22312521827114923,0.2484607951972228,2.55159511365102,0.5007729204928426,1.6093579172337698,2.803313412454932,0.9220397294217259,1.01157773017114,0.2913470179055982,0.5667111744200015,1.1763131167066598,1.3437210822066685,0.42892295386548,2.197180134126301,0.0,-0.6529127770448672,-0.41253076148074413,0.40115425504731983,1.3437268481849975,0.606128227910305,0.0606242541716063,-0.20480325097070623,0.006186406471283967,0.7898712662576344,0.2525875978841457,-0.24028039290796305,2.425283381637317,0.0,1.9168912401866622,0.6190287689404272,1.6341079643583827,3.2579984660962227,2.8331192313915228,1.3682633881851318,0.875454987534366,3.2187798298598675,1.0560485981795256,0.40545677494843857,0.708127219132032,0.6260001757424725,0.25045611461693895,0.2762489705126617,1.6529140409817673,-0.5202012881674632,0.0,-0.5860762668927164,-0.0935276686506259,0.9382406536317752,0.4626224326261047,0.30010329615968306,-0.22315521781560105,0.0,-0.214340425478502,2.6741270980089404,-0.6325258675518338,0.8472746464123899,-1.6178884536618345,3.1325887043385903,0.0662492977295852,0.45198252635563935,-2.3293173844471258,0.06252016147852443,1.5137719168212547,1.098595622279216,1.3217413956742934,-0.07031801914182405,0.6654947656282724,0.11441002357835565,0.8938113104169282,0.606128227910305,0.43706610095023163,-0.7396698572549781,0.011299542485816893,0.04626655890714521,0.7884464514320363,-0.08035019934507243,-0.43167048629432697,-0.5108222904548795,1.4468876109409265,0.4054595526297681,-0.04205033336079103,0.7731813412833755,1.1676479612333104,0.06595793152489268,0.8805803482326217,-3.49464857186289,1.6093579172337698,0.006872874564099619,0.5108222904548794,-0.1103805891416332,0.07383166217305956,0.44468259049991904,1.2927561299845236,0.2335813704572181,0.5596104308451799,0.5753629296284214,2.5920446791669107,-0.37095323650960443,0.1773931472813974,2.219056916470837,1.2085000786813014,1.945881578170947,0.7321865408709758,1.4663159152523717,0.4054609414849,0.42107202967189544,-0.40400682560904183,0.0636450023832864,1.89084600868249,-0.22705749148499174,0.1357592298546718,0.4168612287294675,0.0,0.7259352829570835,0.4709069932794186,-0.3021852640021963,0.9152286905577918,-1.7000927157384742,3.772662092518932,0.034846719185996765,1.784778999290541,0.2744208458404253,0.0,-0.043803876388014695,0.32850241785076234,2.35133002030686,-0.8776720891571588,0.4894741700980003,-3.531217664937322,2.1785009983369497,0.45952671536502054,0.015267448820800666,-0.965083500206411,1.0985164603257624,0.5288386098230942,0.48512932766439676,2.2191856581656726,-0.20136656165134753,-0.4314510476662876,2.0793457133374886,1.386281861220336,0.5055880431638898,-1.9047582767181954e-06,-1.3000842045645453,1.6945866505392684,2.285679674591149,0.14518179869615683,0.7801536333397925,0.0,1.824532518052292,-0.014149477783346007,0.4054595526297681,1.0985789564458472,1.9694263055164194,0.4792730365576177,0.13975686992670608,0.0,0.08701099820340102,0.1094801318418192,0.9360905333384364,-0.03278810239713832,0.521293222988021,0.7537644494694452,0.40544844213591286,0.7731809139838091,0.0,1.098595622279216,1.7047071843561523,1.1026247536032687,1.139410616833304,1.31333801172974,2.197135693385269,0.2876674892551649,-1.3658941038162589,0.2832702349795009,-0.09778582512183706,-0.39019789627253665,0.35667280109459953,0.5232393475395171,0.0953065434583196,0.7954228779781173,0.2087539857054031,0.08002988729220677,2.484857692704083,3.7611512797335425,3.242542743360399,3.0284229078279363,3.210744464621891,0.12471945103571996,-0.3379075298526759,2.63902518731295,-0.5335192417715924,2.638964477446558,2.887697707601389,-0.07659302323730882,0.9329123469932049,0.0,-0.5753592838346476,1.0986011776341584,0.6061277228193716,-0.7672565110760224,1.3029112956609528,2.3512800240565683,0.4732867122143592,0.013793312619404788,-0.1900451234556233,1.1631339350007954,1.6774305154438036,0.12516235864520184,-0.8620998237504092,-0.29152352779838997,2.7931972385291304,0.2586932937504518,-0.4763477527310039,1.7563958225194427,-0.764376028633471,0.12717870256485933,0.8670913280691644,0.10177342018931539,-0.40179648350605673,0.03077156397007559,1.152664597795032,-1.1136917953896937,0.363998306491096,-0.8092264671353112,0.8373948336707748,2.7079568727463212,-0.06584800301990558,0.9807417579332685,0.9330014401031888,-1.3697359559683755,0.0953047252985395,-0.36225122712078267,0.2876737393614959,-0.2076417686122636,0.0,1.2039428048759235,1.7047378650412397,0.9852599370060459,0.3364603319372555,2.610060528085853,0.18232010752069272,0.5717801945454976,1.1089698566504913,1.3862193658070623,0.0,-0.6942792315997312,0.7537526850245151,-1.0999439802977733,1.2729553901926416,1.2130142246535325,1.9180518364488648,-0.40546642389504123,0.1803331772763522,0.0,1.203974470977325,0.4854991620062748,0.2135734409581243,1.297136094896634,2.638964477446558,0.009210967313836915,0.0,0.6359832765454484,1.945888720790002,-0.5209177729071311,0.1466027564920459,0.6579304083649725,1.235532964558047,3.1532137871688493,0.19227087774764245,-0.1128280806547563,-0.8573492881108336,2.2686685989270297,-0.43078022380184766,2.1971301378760093,2.81589951303654,0.017920538415249508,1.0007977266018742,0.25778024691504875,0.2876737393614959,0.004102504693079165,0.8001071625090123,-0.10630086690225359,0.24264069085979956,-0.5798196640826689,0.3029464536810652,2.525632649299922,0.8597518361307211,-1.0338546347202766,0.24871281084324906,0.06721350849142409,0.2876791312882861,0.0,1.7247967703264624,0.6845290266851054,2.7079568727463212,0.9918760305957702,1.572009889829463,-0.818535062343561,0.08207352133942253,0.04255943326014687,-0.22054563757168308,0.31082457755269927,1.3165654726591627,-0.15416258448995748,3.044474819922928,1.1814894056061511,-0.4732198558365194,0.057307330325352346,0.550041422404584,0.2587305068409484,-0.66183757463816,-0.1427998003809129,-0.03709550379345236,0.9703543128020957,-0.6058934071931201,0.18181946035084023,0.7049780527834204,-1.3034619229389544,-0.2018514881704209,-0.21357703068274156,-0.5662033434235444,2.2924357722407107,0.7321491272356822,0.1541494893602798,-0.022361120864456102,1.3862756114128543,-1.2992587422202395,2.9956372785411576,-1.3907362453274847,0.005797114323660986,-0.26959828847331957,0.0,0.7086506570205904,2.0013827079088413,-0.9768313851719983,0.9860204213654249,-0.023576210033093865,1.7917178037766246,-1.8207481825706269,0.8754458209975582,-0.519197033092726,0.7537673205949615,0.8670884079294866,0.4924729497701488,-0.10715313308117835,1.163137059986147,-0.09717572165984996,-0.1460457488144735,-0.11726970628590057,0.6931451716365308,0.7701060735542109,0.048789926075356156,2.487674187034553,-1.4693855965938445,0.3617896554117868,0.09627431433492309,0.3566744082252597,-0.42121420912187424,-0.2987703277733771,-0.07683371459539458,0.9375934285922566,0.2647892591598911,-0.4118983729866495,0.3197665655022972,1.0678324319903316,0.6295415409761828,0.0,0.47323852536867894,-0.0659586819707305,1.276282128773708,1.1394236165833274,0.2084308745861684,0.03909111941976965,0.11014251598476948,0.4446824622948812,-0.10445649502926486,0.3703081681170468,1.3217375069392587,0.4794275301815001,-0.6941930244689778,-0.5090920582487047,0.6406559281091553,0.2570974830810243,-0.1490356890504348,1.8971129015864887,0.5136751671158467,-0.848711992999649,0.2288295595412918,0.42899399976230995,-2.4972886162181824,0.8153456984395524,0.23011207688524948,0.6773297181254577,0.37469685849551765,-0.11837289063410206,0.5679807042793958,0.0,1.0065359270765193,0.0,-0.3949581905274668,0.9114039285143982,-1.2003969547020787,-0.5254258298316331,-0.010497764508704965,-0.6007202776861699,-0.3664985672122792,0.39390161263066964,0.4040193468819399,1.3121748505822923,0.10535940455844348,0.11411276405050995,0.5389951803111397,0.806086627903004,2.756791953821928,-0.5955099706849956,-1.1728965552312178,-0.5809386815667547,1.3093282644435138,-0.7396551712224483,-0.05127353798457634,0.07177956829636511,0.3196319009858816,1.4468248702716324,0.34830309951048377,0.5845108082209861,-0.44279271528608294,0.546412920352513,-1.3356508878408648,0.9444121656462109,0.1040266612737673,1.0876553302552192,-0.8069069002210163,-0.08701327092292571,0.3409163092684708,1.7578257341992103,0.6466228359507079,0.7969391327108324,1.05559977436761,-7.936501636695242e-07,0.47445228517004834,0.22533772730668053,0.13214513133168207,0.3566706582764867,-0.6359853353558578,0.8472829795721156,-1.3529582418616286,0.514951821142852,1.3312293278959033,2.813379383980246,0.5108122907882031,-1.053901554094198,0.26289481850805146,1.1669243285684912,0.6931460177712757,0.24067290604542274,1.9107739346410464,-0.3812215013963498,1.4291084077235028,2.698467426011813,0.3930408658897291,-0.22314448881347732,1.6581828397469147,0.6979394253998732,1.3382605520820066,2.2686782731345216,0.5146636264227091,0.20860215683774327,0.10993570507905089,1.4423347381113882,0.7045097866695283,0.3035250787457882,1.1267812344215276,0.4089409320122934,1.3473033378816475,0.3375087320389176,0.6997338042773759,-0.5825695447299367,0.9687480141775482,0.020201051118585844,-0.36624580520758676,-0.6005984040364426,-0.091222300384341,0.8373937142688339,-0.21303436773770507,-1.09576619157718,0.9879442131876178,-0.5781024324010221,-0.3890842475043895,0.0030030051094688446,-0.3085079052034841,0.7339618417810891,0.14265449308173203,1.871771408223078,-0.012427763038729547,-0.22314605130066806,2.153029004496659,0.8413886784879785,0.9162869818905613,-0.3287638439238967,0.15453222747863515,-0.09689045504566543,-0.4909453304635234,0.9051060549490287,2.8580974297374926,-0.09824334996245443,0.08196926934339648,-1.6864833732188087,0.3884864464045187,0.7535490209205947,0.5333654240017938,1.5841142207696408,-0.5783717392335074,-1.0742912848215491,-1.1454048037531515,-0.24132320746858482,2.708001313462662,0.4426710266355099,0.14484261529767167,0.4755803509524913,0.9251307877296746,0.9262315578267053,-0.5083125386963849,-1.9174844165076947,-0.9225974620312014,-0.7064054281537636,0.8297972750975598,0.8938075914186528,0.2668739633868727,-0.4697323214948074,-0.6213105632336497,0.6931456654118735,-0.011979611866511319,1.3862026994181686,-0.7835314322183521,0.2783359796591289,0.22123426857659662,0.08002988729220677,0.592502703592843,-0.3254253141829572,2.4959370356249813,0.9506018022997281,3.7991282625508465,0.1510705505837577,0.4643051797876249,0.2876813581668319,-0.0246934154352431,0.3788618681745152,0.2876737393614959,2.2735847410957013,0.24704297966759797,0.6453451329630586,0.0,-0.7449802254341951,0.4054501083706596,2.4129088967437844,-0.30773616681082316,-0.929094370197221,1.15744943372231,0.5476241351794789,0.13235600396206476,-0.04417612869217862,-0.7492418919323078,0.02247280534712158,-0.6426925562110279,-0.7349376309545167,1.8191389841565613,-0.21290087127991977,1.3862826424477097,0.5753565928546454,1.2267805416934174,-0.13421247369820472,-0.460445808459043,-0.7270525540660862,1.14512743419606,0.4226744532910383,1.4829993425008028,0.8437003976621916,0.7805548336557804,-2.4042596701567645,1.2237613141577532,0.38954917316084786,-0.3945816077913856,-1.344224335166218,0.6841736119471545,0.7115773090441747,0.22272251309995703,-0.40130779413232126,-0.7503074244628611,2.525632649299922,1.8203299023051882,1.1856173525638907,0.6700879921083214,-0.5619010549074913,-0.6655084604633117,0.4643045105708582,-0.2748341419664465,-2.3043437962608997,-0.05660765590738393,-2.639050186792129,0.36288484181849856,-0.36894301446207095,-0.7433752663894461,0.08002796422083108,-0.8190168480759183,-0.3449725679291208,0.6285903263793134,-0.6931479051963138,-0.8538554433746236,-0.99462187118741,-0.13266963602588008,-0.5906088689832257,0.3072578924713166,0.846540660474214,0.6706732388511243,-0.5933895862848912,-0.924202341444898,-0.3204734742192317,0.01574753851737185,-5.555509259670905e-06,-0.48293501715809123,-0.08320165671664317,0.0790362203532538,0.8023454115184572,-0.0465204966350038,0.6592424105097364,-0.517088424832751,1.791676140755501,2.1227310131863733,0.31745078463892135,2.001447568332829,-0.7737535417864794,-0.3283737367545584,0.052518721857464895,1.6093579172337698,0.693137180621056,0.02914100082733016,0.6493413642722615,-0.08702728580936604,1.2900015368483526,2.403921523136011,0.2876737393614959,-0.06901906143310893,0.19073691369224435,0.33328935653316233,-0.2726876231127742,0.2813611724804977,0.3589646769747532,0.09119192572949435,1.504070559198657,0.5373899285991373,0.5089485097039563,0.0007034753092416804,0.6505806821168503,0.4054609414849,-0.0037124298691461333,0.7281446736186933,0.5793510537726799,-0.04280654045826198,0.20435986673642337,0.43832257982565903,0.2388853805552662,0.5653083545442751,-2.507896389999938,0.07597589352463645,-0.4340038525904403,2.1101662318949868,0.12516235864520184,-1.0775263547571816,-0.27104299781028135,1.5187342753426687,-1.0140393570820925,1.5314717163247602,-1.5892369518132212,0.014939531085042184,0.08122412786717419,1.9042235925743238,0.5108222904548794,-0.6222702323833762,-0.45199217379658174,0.26236311062644063,-0.4289271710566394,0.7938841968013645,-0.2066166100120806,-0.3033766306726923,0.3384521151006667,0.13309346839720013,2.294205183737435,0.276251495754346,-0.7998194376034695,0.5314780543848018,-0.9808264752609545,0.6052034144448575,0.2538098857468414,0.05173562977960929,-2.3439353718063116,0.523726775857472,0.7855187454768657,-0.9284865638363251,0.4556413007545589,-0.5872565406136095,-1.8642431751844775,-1.2658783737344905,-0.026384341546585328,-1.0331340724457745,0.8056130060317008,-0.28336805390511643,0.9516915390315425,0.3629043290944967,-0.04160329760486088,1.2992812358803463,2.4318476044950934,-1.3825246736126484,0.08116163511013057,0.4565186905827898,0.5877670924524525,-0.3112953842680438,0.04149969645728429,-0.6525011562298401,-0.4848215069493014,2.1972137511870806,-0.9362499666530992,2.638964477446558,-0.23169100881218946,-0.3772254928328178,-1.1393117572050968,-0.26662523537113625,-0.3930438844002623,-0.8939907569175619,1.098602764949288,0.05635285713889498,2.7725397651558636,0.5360604609057361,-0.2977199010640559,0.7672530922799088,0.5553364689812686,0.13804987058664697,0.6763339605707114,-0.08178092288952218,0.056083592553102427,-0.01667309748777367,-0.10252945623078381,0.8209754611940616,0.01937785353468496,0.38995635428920983,0.43671435492708577,-0.2849158190014027,-1.013073611484438,0.14489676321777423,-0.3141759579301883,0.012826235809808267,0.8544049263262912,0.09660649188310574,1.0985456264455666,-2.6439382956503583,1.1718806759047031,0.9672753329418184,1.1826909491858943,2.1202586473264122,-0.03492163982778362,1.9236746527981556,1.6318503043166437,3.1281221915264776,0.13815021900660757,-0.031196079447694508,2.8331141893916643,0.6720792324916447,1.7706946239375685,-1.038535833962071,3.536084337657051,0.22314309676968497,1.1945507728716904,0.7537664102499142,0.2822905975457806,-0.07411456548786108,0.22313855142670724,0.5798131706014747,-0.675997942855092,0.0,0.81089132851567,0.39946284815962974,0.28769873842403243,-0.06533141601784334,1.4508236635571563,0.8574486084771457,-0.24525560488009768,0.7985007518263746,-0.5188040790354135,1.6093979136340588,1.1786376889322476,-0.12296254817015546,2.5062707004381086,3.0444272046165137,2.014809692186376,2.252454506456643,0.1769301850568799,-0.7609875360343078,2.5776806828515473,0.838281894353452,0.7985046406745233,0.15657474632219376,-0.6850507964468168,-0.11521346245956554,1.6817527891494288,0.44802063512695794,1.6093579172337698,0.6909934551526558,2.1972127718585472,0.9503829419578825,-1.3268709602723172,0.6308253045623748,-0.4076477098284298,0.3142467582984317,0.30092072114465845,0.2076379224806066,-0.037538911551631304,0.4664125975538449,0.40545677494843857,0.6931430139193201,-0.06454435441500245,2.2460102706185405,0.029413841944405897,-0.27121852835568133,1.7917316919903883,-1.0986132145910348,0.16125777533155766,-0.6400429978438489,0.0870106194204724,0.07550748120696482,0.11776914701826142,-0.34895296173434853,0.5709762415120555,-0.10536625637677349,-0.05661071684887441,1.5197288837391971,0.8943810668563419,0.048789926075356156,0.9152065797545564,1.5686000847718287,1.02391241857743,0.14474470148481763,0.4924729497701488,-0.22552614998058162,0.40544844213591286,0.40545677494843857,1.4966372441805114,0.08531328764365868,0.07360968473040834,1.9009551613519855,0.0,0.6359835380062538,0.46429937440210467,0.7816985691183633,-0.07198397779130129,0.3611045059994863,0.5598923374956578,0.7375942000796455,3.4274959888799814,0.10535940455844348,-0.1892450691206382,1.6093479173837673,0.0,0.0,0.26235195694559504,-0.2381814060645827,0.8183095392051472,0.4054639176355171,2.5156668186333784,-2.4695310143258453,0.0,0.3184503220644278,0.0714514927521276,0.35837400933496827,0.6931426351363915,0.40545770075562637,1.3105753296804572,0.20066867528053686,0.34155681375526853,0.0456101481950246,0.5268248284008694,1.180837855677262,-1.2425070528270108,0.0,0.0,-2.0596695072707534,0.1541316326617139,0.4832339778734032,0.8109163275782068,0.3259025513713062,-0.27763200932496956,0.25995460024500144,0.0,0.0,-0.6288487491370426,0.0,0.0,1.0262059335119695,0.054067184720592895,0.287667191636693,0.0,-0.15326604502420904,0.0,-0.9177816466226687,0.4238068225682455,-0.36773181880886635,1.01636924474736,0.6931221814974087,0.8754667003198807,2.397846789198696,0.0,0.35548716093187077,1.0506863385798377,0.0,0.053860541146020124,2.2245911196470387,0.2537800226927911,0.0,0.0,0.22314105134233442,2.367108510102617,0.6931471805599453,0.0,0.0,0.0,0.19388984265507384,0.1843011366742717,0.37469060855411074,0.744694004803545,0.3677213613540409,-1.162126216931229,0.0,0.0,0.0,0.33646652243345615,-0.46396233314823,0.0,-0.04797489361685922,-0.25131919015732346,0.0689927127571581,0.0,-0.4919841969372882,-0.837041958246979,0.8726035292106253,-0.2922308493186004,-0.4495691276201805,0.10779608087099701,0.008672613444178632,-0.5355915031134454,0.0,0.720051750674045,0.016260494430786882,-0.2876779058458772,0.0,0.0,0.09226613940351283,-1.0360928752027179,0.0,0.0,0.8872947917242971,-0.03452755773213766,0.0,0.3593058297476804,-0.9227233023098836,0.0,-0.11980260743370394,1.6093579172337698,0.062070972360315585,3.1640182938482684,0.0,0.0,-0.42683225446064144,0.0,1.538388160453522,0.0,0.0667477360490361,0.8683500347844691,0.0,0.0,-0.24080404789512758,-0.2443045961608529,0.0,0.1267513838896399,0.0,0.0,0.39515202183652387,1.3862568622917244,0.6661146451663179,-1.203949471498146,0.49423729444319625,-0.15717428273685075,0.0,0.3064084856810514,0.4003977683214871,0.0,0.0,3.680411489555092,0.293547331222891,-0.6104945815696489,0.4613435675070164,0.0,0.7308835199615307],\"yaxis\":\"y\",\"type\":\"scattergl\"}],                        {\"template\":{\"data\":{\"bar\":[{\"error_x\":{\"color\":\"#2a3f5f\"},\"error_y\":{\"color\":\"#2a3f5f\"},\"marker\":{\"line\":{\"color\":\"#E5ECF6\",\"width\":0.5},\"pattern\":{\"fillmode\":\"overlay\",\"size\":10,\"solidity\":0.2}},\"type\":\"bar\"}],\"barpolar\":[{\"marker\":{\"line\":{\"color\":\"#E5ECF6\",\"width\":0.5},\"pattern\":{\"fillmode\":\"overlay\",\"size\":10,\"solidity\":0.2}},\"type\":\"barpolar\"}],\"carpet\":[{\"aaxis\":{\"endlinecolor\":\"#2a3f5f\",\"gridcolor\":\"white\",\"linecolor\":\"white\",\"minorgridcolor\":\"white\",\"startlinecolor\":\"#2a3f5f\"},\"baxis\":{\"endlinecolor\":\"#2a3f5f\",\"gridcolor\":\"white\",\"linecolor\":\"white\",\"minorgridcolor\":\"white\",\"startlinecolor\":\"#2a3f5f\"},\"type\":\"carpet\"}],\"choropleth\":[{\"colorbar\":{\"outlinewidth\":0,\"ticks\":\"\"},\"type\":\"choropleth\"}],\"contour\":[{\"colorbar\":{\"outlinewidth\":0,\"ticks\":\"\"},\"colorscale\":[[0.0,\"#0d0887\"],[0.1111111111111111,\"#46039f\"],[0.2222222222222222,\"#7201a8\"],[0.3333333333333333,\"#9c179e\"],[0.4444444444444444,\"#bd3786\"],[0.5555555555555556,\"#d8576b\"],[0.6666666666666666,\"#ed7953\"],[0.7777777777777778,\"#fb9f3a\"],[0.8888888888888888,\"#fdca26\"],[1.0,\"#f0f921\"]],\"type\":\"contour\"}],\"contourcarpet\":[{\"colorbar\":{\"outlinewidth\":0,\"ticks\":\"\"},\"type\":\"contourcarpet\"}],\"heatmap\":[{\"colorbar\":{\"outlinewidth\":0,\"ticks\":\"\"},\"colorscale\":[[0.0,\"#0d0887\"],[0.1111111111111111,\"#46039f\"],[0.2222222222222222,\"#7201a8\"],[0.3333333333333333,\"#9c179e\"],[0.4444444444444444,\"#bd3786\"],[0.5555555555555556,\"#d8576b\"],[0.6666666666666666,\"#ed7953\"],[0.7777777777777778,\"#fb9f3a\"],[0.8888888888888888,\"#fdca26\"],[1.0,\"#f0f921\"]],\"type\":\"heatmap\"}],\"heatmapgl\":[{\"colorbar\":{\"outlinewidth\":0,\"ticks\":\"\"},\"colorscale\":[[0.0,\"#0d0887\"],[0.1111111111111111,\"#46039f\"],[0.2222222222222222,\"#7201a8\"],[0.3333333333333333,\"#9c179e\"],[0.4444444444444444,\"#bd3786\"],[0.5555555555555556,\"#d8576b\"],[0.6666666666666666,\"#ed7953\"],[0.7777777777777778,\"#fb9f3a\"],[0.8888888888888888,\"#fdca26\"],[1.0,\"#f0f921\"]],\"type\":\"heatmapgl\"}],\"histogram\":[{\"marker\":{\"pattern\":{\"fillmode\":\"overlay\",\"size\":10,\"solidity\":0.2}},\"type\":\"histogram\"}],\"histogram2d\":[{\"colorbar\":{\"outlinewidth\":0,\"ticks\":\"\"},\"colorscale\":[[0.0,\"#0d0887\"],[0.1111111111111111,\"#46039f\"],[0.2222222222222222,\"#7201a8\"],[0.3333333333333333,\"#9c179e\"],[0.4444444444444444,\"#bd3786\"],[0.5555555555555556,\"#d8576b\"],[0.6666666666666666,\"#ed7953\"],[0.7777777777777778,\"#fb9f3a\"],[0.8888888888888888,\"#fdca26\"],[1.0,\"#f0f921\"]],\"type\":\"histogram2d\"}],\"histogram2dcontour\":[{\"colorbar\":{\"outlinewidth\":0,\"ticks\":\"\"},\"colorscale\":[[0.0,\"#0d0887\"],[0.1111111111111111,\"#46039f\"],[0.2222222222222222,\"#7201a8\"],[0.3333333333333333,\"#9c179e\"],[0.4444444444444444,\"#bd3786\"],[0.5555555555555556,\"#d8576b\"],[0.6666666666666666,\"#ed7953\"],[0.7777777777777778,\"#fb9f3a\"],[0.8888888888888888,\"#fdca26\"],[1.0,\"#f0f921\"]],\"type\":\"histogram2dcontour\"}],\"mesh3d\":[{\"colorbar\":{\"outlinewidth\":0,\"ticks\":\"\"},\"type\":\"mesh3d\"}],\"parcoords\":[{\"line\":{\"colorbar\":{\"outlinewidth\":0,\"ticks\":\"\"}},\"type\":\"parcoords\"}],\"pie\":[{\"automargin\":true,\"type\":\"pie\"}],\"scatter\":[{\"marker\":{\"colorbar\":{\"outlinewidth\":0,\"ticks\":\"\"}},\"type\":\"scatter\"}],\"scatter3d\":[{\"line\":{\"colorbar\":{\"outlinewidth\":0,\"ticks\":\"\"}},\"marker\":{\"colorbar\":{\"outlinewidth\":0,\"ticks\":\"\"}},\"type\":\"scatter3d\"}],\"scattercarpet\":[{\"marker\":{\"colorbar\":{\"outlinewidth\":0,\"ticks\":\"\"}},\"type\":\"scattercarpet\"}],\"scattergeo\":[{\"marker\":{\"colorbar\":{\"outlinewidth\":0,\"ticks\":\"\"}},\"type\":\"scattergeo\"}],\"scattergl\":[{\"marker\":{\"colorbar\":{\"outlinewidth\":0,\"ticks\":\"\"}},\"type\":\"scattergl\"}],\"scattermapbox\":[{\"marker\":{\"colorbar\":{\"outlinewidth\":0,\"ticks\":\"\"}},\"type\":\"scattermapbox\"}],\"scatterpolar\":[{\"marker\":{\"colorbar\":{\"outlinewidth\":0,\"ticks\":\"\"}},\"type\":\"scatterpolar\"}],\"scatterpolargl\":[{\"marker\":{\"colorbar\":{\"outlinewidth\":0,\"ticks\":\"\"}},\"type\":\"scatterpolargl\"}],\"scatterternary\":[{\"marker\":{\"colorbar\":{\"outlinewidth\":0,\"ticks\":\"\"}},\"type\":\"scatterternary\"}],\"surface\":[{\"colorbar\":{\"outlinewidth\":0,\"ticks\":\"\"},\"colorscale\":[[0.0,\"#0d0887\"],[0.1111111111111111,\"#46039f\"],[0.2222222222222222,\"#7201a8\"],[0.3333333333333333,\"#9c179e\"],[0.4444444444444444,\"#bd3786\"],[0.5555555555555556,\"#d8576b\"],[0.6666666666666666,\"#ed7953\"],[0.7777777777777778,\"#fb9f3a\"],[0.8888888888888888,\"#fdca26\"],[1.0,\"#f0f921\"]],\"type\":\"surface\"}],\"table\":[{\"cells\":{\"fill\":{\"color\":\"#EBF0F8\"},\"line\":{\"color\":\"white\"}},\"header\":{\"fill\":{\"color\":\"#C8D4E3\"},\"line\":{\"color\":\"white\"}},\"type\":\"table\"}]},\"layout\":{\"annotationdefaults\":{\"arrowcolor\":\"#2a3f5f\",\"arrowhead\":0,\"arrowwidth\":1},\"autotypenumbers\":\"strict\",\"coloraxis\":{\"colorbar\":{\"outlinewidth\":0,\"ticks\":\"\"}},\"colorscale\":{\"diverging\":[[0,\"#8e0152\"],[0.1,\"#c51b7d\"],[0.2,\"#de77ae\"],[0.3,\"#f1b6da\"],[0.4,\"#fde0ef\"],[0.5,\"#f7f7f7\"],[0.6,\"#e6f5d0\"],[0.7,\"#b8e186\"],[0.8,\"#7fbc41\"],[0.9,\"#4d9221\"],[1,\"#276419\"]],\"sequential\":[[0.0,\"#0d0887\"],[0.1111111111111111,\"#46039f\"],[0.2222222222222222,\"#7201a8\"],[0.3333333333333333,\"#9c179e\"],[0.4444444444444444,\"#bd3786\"],[0.5555555555555556,\"#d8576b\"],[0.6666666666666666,\"#ed7953\"],[0.7777777777777778,\"#fb9f3a\"],[0.8888888888888888,\"#fdca26\"],[1.0,\"#f0f921\"]],\"sequentialminus\":[[0.0,\"#0d0887\"],[0.1111111111111111,\"#46039f\"],[0.2222222222222222,\"#7201a8\"],[0.3333333333333333,\"#9c179e\"],[0.4444444444444444,\"#bd3786\"],[0.5555555555555556,\"#d8576b\"],[0.6666666666666666,\"#ed7953\"],[0.7777777777777778,\"#fb9f3a\"],[0.8888888888888888,\"#fdca26\"],[1.0,\"#f0f921\"]]},\"colorway\":[\"#636efa\",\"#EF553B\",\"#00cc96\",\"#ab63fa\",\"#FFA15A\",\"#19d3f3\",\"#FF6692\",\"#B6E880\",\"#FF97FF\",\"#FECB52\"],\"font\":{\"color\":\"#2a3f5f\"},\"geo\":{\"bgcolor\":\"white\",\"lakecolor\":\"white\",\"landcolor\":\"#E5ECF6\",\"showlakes\":true,\"showland\":true,\"subunitcolor\":\"white\"},\"hoverlabel\":{\"align\":\"left\"},\"hovermode\":\"closest\",\"mapbox\":{\"style\":\"light\"},\"paper_bgcolor\":\"white\",\"plot_bgcolor\":\"#E5ECF6\",\"polar\":{\"angularaxis\":{\"gridcolor\":\"white\",\"linecolor\":\"white\",\"ticks\":\"\"},\"bgcolor\":\"#E5ECF6\",\"radialaxis\":{\"gridcolor\":\"white\",\"linecolor\":\"white\",\"ticks\":\"\"}},\"scene\":{\"xaxis\":{\"backgroundcolor\":\"#E5ECF6\",\"gridcolor\":\"white\",\"gridwidth\":2,\"linecolor\":\"white\",\"showbackground\":true,\"ticks\":\"\",\"zerolinecolor\":\"white\"},\"yaxis\":{\"backgroundcolor\":\"#E5ECF6\",\"gridcolor\":\"white\",\"gridwidth\":2,\"linecolor\":\"white\",\"showbackground\":true,\"ticks\":\"\",\"zerolinecolor\":\"white\"},\"zaxis\":{\"backgroundcolor\":\"#E5ECF6\",\"gridcolor\":\"white\",\"gridwidth\":2,\"linecolor\":\"white\",\"showbackground\":true,\"ticks\":\"\",\"zerolinecolor\":\"white\"}},\"shapedefaults\":{\"line\":{\"color\":\"#2a3f5f\"}},\"ternary\":{\"aaxis\":{\"gridcolor\":\"white\",\"linecolor\":\"white\",\"ticks\":\"\"},\"baxis\":{\"gridcolor\":\"white\",\"linecolor\":\"white\",\"ticks\":\"\"},\"bgcolor\":\"#E5ECF6\",\"caxis\":{\"gridcolor\":\"white\",\"linecolor\":\"white\",\"ticks\":\"\"}},\"title\":{\"x\":0.05},\"xaxis\":{\"automargin\":true,\"gridcolor\":\"white\",\"linecolor\":\"white\",\"ticks\":\"\",\"title\":{\"standoff\":15},\"zerolinecolor\":\"white\",\"zerolinewidth\":2},\"yaxis\":{\"automargin\":true,\"gridcolor\":\"white\",\"linecolor\":\"white\",\"ticks\":\"\",\"title\":{\"standoff\":15},\"zerolinecolor\":\"white\",\"zerolinewidth\":2}}},\"xaxis\":{\"anchor\":\"y\",\"domain\":[0.0,1.0],\"title\":{\"text\":\"meme_score_vanilla_log\"}},\"yaxis\":{\"anchor\":\"x\",\"domain\":[0.0,1.0],\"title\":{\"text\":\"log_div\"}},\"legend\":{\"tracegroupgap\":0},\"margin\":{\"t\":60}},                        {\"responsive\": true}                    ).then(function(){\n                            \nvar gd = document.getElementById('83667f2c-b9e5-44b3-b55f-95be7f348a84');\nvar x = new MutationObserver(function (mutations, observer) {{\n        var display = window.getComputedStyle(gd).display;\n        if (!display || display === 'none') {{\n            console.log([gd, 'removed!']);\n            Plotly.purge(gd);\n            observer.disconnect();\n        }}\n}});\n\n// Listen for the removal of the full notebook cells\nvar notebookContainer = gd.closest('#notebook-container');\nif (notebookContainer) {{\n    x.observe(notebookContainer, {childList: true});\n}}\n\n// Listen for the clearing of the current output cell\nvar outputEl = gd.closest('.output');\nif (outputEl) {{\n    x.observe(outputEl, {childList: true});\n}}\n\n                        })                };                });            </script>        </div>"
     },
     "metadata": {},
     "output_type": "display_data"
    }
   ],
   "source": [
    "fig = px.scatter(df_to_plot, y='log_div', x='meme_score_vanilla_log',text=\"chosen\")\n",
    "fig.show()"
   ],
   "metadata": {
    "collapsed": false,
    "pycharm": {
     "name": "#%%\n"
    }
   }
  }
 ],
 "metadata": {
  "kernelspec": {
   "display_name": "Python 3",
   "language": "python",
   "name": "python3"
  },
  "language_info": {
   "codemirror_mode": {
    "name": "ipython",
    "version": 2
   },
   "file_extension": ".py",
   "mimetype": "text/x-python",
   "name": "python",
   "nbconvert_exporter": "python",
   "pygments_lexer": "ipython2",
   "version": "2.7.6"
  }
 },
 "nbformat": 4,
 "nbformat_minor": 0
}