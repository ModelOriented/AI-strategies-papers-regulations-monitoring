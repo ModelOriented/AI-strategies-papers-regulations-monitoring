{
 "cells": [
  {
   "cell_type": "code",
   "execution_count": 1,
   "id": "42bb9867",
   "metadata": {},
   "outputs": [],
   "source": [
    "import os\n",
    "os.chdir('../..')"
   ]
  },
  {
   "cell_type": "code",
   "execution_count": 2,
   "id": "e7771996",
   "metadata": {},
   "outputs": [],
   "source": [
    "%load_ext autoreload\n",
    "%autoreload 2\n",
    "from mars.db import collections\n",
    "from mars.db import db\n",
    "from mars import search\n",
    "import pandas as pd\n",
    "import ast\n",
    "from tqdm import tqdm"
   ]
  },
  {
   "cell_type": "code",
   "execution_count": 3,
   "id": "2c402893",
   "metadata": {},
   "outputs": [],
   "source": [
    "search.search_for?"
   ]
  },
  {
   "cell_type": "code",
   "execution_count": 4,
   "id": "d5c48588",
   "metadata": {},
   "outputs": [
    {
     "name": "stderr",
     "output_type": "stream",
     "text": [
      "/home/sgizinski/repos/AI-strategies-papers-regulations-monitoring/.venv/lib/python3.8/site-packages/IPython/core/interactiveshell.py:3457: DtypeWarning: Columns (6) have mixed types.Specify dtype option on import or set low_memory=False.\n",
      "  exec(code_obj, self.user_global_ns, self.user_ns)\n"
     ]
    }
   ],
   "source": [
    "df_papers = pd.read_csv('data/s2orc/ai_papers_meta.csv', index_col=0)"
   ]
  },
  {
   "cell_type": "code",
   "execution_count": 5,
   "id": "9b37519f",
   "metadata": {},
   "outputs": [],
   "source": [
    "df_search_results = pd.read_csv(\"results.csv\", index_col=0)"
   ]
  },
  {
   "cell_type": "code",
   "execution_count": 6,
   "id": "ee2978e1",
   "metadata": {},
   "outputs": [],
   "source": [
    "papers_matched = set(df_search_results.index.unique())"
   ]
  },
  {
   "cell_type": "code",
   "execution_count": 7,
   "id": "86f72ce7",
   "metadata": {},
   "outputs": [],
   "source": [
    "df_papers_filtered = df_papers[df_papers['paper_id'].isin(papers_matched)].copy()"
   ]
  },
  {
   "cell_type": "code",
   "execution_count": 8,
   "id": "a33b37bb",
   "metadata": {},
   "outputs": [],
   "source": [
    "# get last name of first author\n",
    "names = df_papers_filtered['authors'].apply(ast.literal_eval).str[0].apply(pd.Series)['last']\n",
    "df_papers_filtered['author_name']=names"
   ]
  },
  {
   "cell_type": "code",
   "execution_count": 9,
   "id": "2ac36421",
   "metadata": {},
   "outputs": [
    {
     "name": "stderr",
     "output_type": "stream",
     "text": [
      "100%|█████████████████████████████████████████████████████████████████████████████████| 206/206 [00:28<00:00,  7.16it/s]\n"
     ]
    }
   ],
   "source": [
    "found_authors=dict()\n",
    "for index, row in tqdm(df_papers_filtered.iterrows(), total=len(df_papers_filtered)):\n",
    "    try:\n",
    "        i = row['paper_id']\n",
    "        author=row['author_name']\n",
    "        found_authors[i] = search.search_for(author)\n",
    "    except AttributeError:\n",
    "        found_authors[i]=[]"
   ]
  },
  {
   "cell_type": "code",
   "execution_count": 12,
   "id": "3f526767",
   "metadata": {},
   "outputs": [],
   "source": [
    "df_result = pd.DataFrame(pd.Series(found_authors)).explode(0)[0].apply(pd.Series)\n",
    "del df_result['embedding']\n",
    "del df_result['_rev']"
   ]
  },
  {
   "cell_type": "code",
   "execution_count": 16,
   "id": "b193266d",
   "metadata": {},
   "outputs": [],
   "source": [
    "df_result = df_result.reset_index()"
   ]
  },
  {
   "cell_type": "code",
   "execution_count": 26,
   "id": "6d9d32e2",
   "metadata": {},
   "outputs": [],
   "source": [
    "df_authors = df_result[['index','source_doc_id']]"
   ]
  },
  {
   "cell_type": "code",
   "execution_count": 29,
   "id": "b5ef87ed",
   "metadata": {},
   "outputs": [
    {
     "data": {
      "text/plain": [
       "0                        Bickel P, Arampatzis G, Burges...\n",
       "1                        Cameron, I., Synnott, J., Beis...\n",
       "2        [80] J. H. Metzen, M. C. Kumar, T. Brox, and V...\n",
       "3                        Litsky D., Kumar S. and Lespri...\n",
       "4        This could not have been possible without the ...\n",
       "                               ...                        \n",
       "19211    Prival, M.J., Bell, S.J., Mitchell, V.D., Reip...\n",
       "19212     ● Ronald C. Arkin (Founding Co-Chair) – Regen...\n",
       "19213    http://www.aisb.org.uk/public-engagement/what-...\n",
       "19214    Gaussian A probability density which adopts a ...\n",
       "19215    Sir John Bell, Regius Professor of Medicine at...\n",
       "Name: sentence, Length: 19216, dtype: object"
      ]
     },
     "execution_count": 29,
     "metadata": {},
     "output_type": "execute_result"
    }
   ],
   "source": [
    "df_authors['authors_match'] = df_result['sentence']\n",
    "df_"
   ]
  },
  {
   "cell_type": "code",
   "execution_count": 27,
   "id": "3c155573",
   "metadata": {},
   "outputs": [
    {
     "data": {
      "text/html": [
       "<div>\n",
       "<style scoped>\n",
       "    .dataframe tbody tr th:only-of-type {\n",
       "        vertical-align: middle;\n",
       "    }\n",
       "\n",
       "    .dataframe tbody tr th {\n",
       "        vertical-align: top;\n",
       "    }\n",
       "\n",
       "    .dataframe thead th {\n",
       "        text-align: right;\n",
       "    }\n",
       "</style>\n",
       "<table border=\"1\" class=\"dataframe\">\n",
       "  <thead>\n",
       "    <tr style=\"text-align: right;\">\n",
       "      <th></th>\n",
       "      <th>index</th>\n",
       "      <th>source_doc_id</th>\n",
       "    </tr>\n",
       "  </thead>\n",
       "  <tbody>\n",
       "    <tr>\n",
       "      <th>0</th>\n",
       "      <td>37359148</td>\n",
       "      <td>Documents/351905</td>\n",
       "    </tr>\n",
       "    <tr>\n",
       "      <th>1</th>\n",
       "      <td>37359148</td>\n",
       "      <td>Documents/273922</td>\n",
       "    </tr>\n",
       "    <tr>\n",
       "      <th>2</th>\n",
       "      <td>5737015</td>\n",
       "      <td>Documents/262636</td>\n",
       "    </tr>\n",
       "    <tr>\n",
       "      <th>3</th>\n",
       "      <td>199006245</td>\n",
       "      <td>Documents/354879</td>\n",
       "    </tr>\n",
       "    <tr>\n",
       "      <th>4</th>\n",
       "      <td>199006245</td>\n",
       "      <td>Documents/31262414</td>\n",
       "    </tr>\n",
       "    <tr>\n",
       "      <th>...</th>\n",
       "      <td>...</td>\n",
       "      <td>...</td>\n",
       "    </tr>\n",
       "    <tr>\n",
       "      <th>19211</th>\n",
       "      <td>65218685</td>\n",
       "      <td>Documents/346003</td>\n",
       "    </tr>\n",
       "    <tr>\n",
       "      <th>19212</th>\n",
       "      <td>65218685</td>\n",
       "      <td>Documents/32568525</td>\n",
       "    </tr>\n",
       "    <tr>\n",
       "      <th>19213</th>\n",
       "      <td>65218685</td>\n",
       "      <td>Documents/32568084</td>\n",
       "    </tr>\n",
       "    <tr>\n",
       "      <th>19214</th>\n",
       "      <td>65218685</td>\n",
       "      <td>Documents/32568515</td>\n",
       "    </tr>\n",
       "    <tr>\n",
       "      <th>19215</th>\n",
       "      <td>65218685</td>\n",
       "      <td>Documents/32568414</td>\n",
       "    </tr>\n",
       "  </tbody>\n",
       "</table>\n",
       "<p>19216 rows × 2 columns</p>\n",
       "</div>"
      ],
      "text/plain": [
       "           index       source_doc_id\n",
       "0       37359148    Documents/351905\n",
       "1       37359148    Documents/273922\n",
       "2        5737015    Documents/262636\n",
       "3      199006245    Documents/354879\n",
       "4      199006245  Documents/31262414\n",
       "...          ...                 ...\n",
       "19211   65218685    Documents/346003\n",
       "19212   65218685  Documents/32568525\n",
       "19213   65218685  Documents/32568084\n",
       "19214   65218685  Documents/32568515\n",
       "19215   65218685  Documents/32568414\n",
       "\n",
       "[19216 rows x 2 columns]"
      ]
     },
     "execution_count": 27,
     "metadata": {},
     "output_type": "execute_result"
    }
   ],
   "source": [
    "df_authors"
   ]
  },
  {
   "cell_type": "code",
   "execution_count": 20,
   "id": "c70d8ddb",
   "metadata": {},
   "outputs": [],
   "source": [
    "df_search_results.reset_index() = df_search_results\n",
    "df_titles = df_search_results.reset_index()[['index','source_doc_id']]"
   ]
  },
  {
   "cell_type": "code",
   "execution_count": 30,
   "id": "750d0f99",
   "metadata": {},
   "outputs": [],
   "source": [
    "both = pd.merge(df_authors,df_titles, on=['index', 'source_doc_id'])"
   ]
  },
  {
   "cell_type": "code",
   "execution_count": 32,
   "id": "7a9c2d7d",
   "metadata": {},
   "outputs": [],
   "source": [
    "a = both.drop_duplicates()"
   ]
  },
  {
   "cell_type": "code",
   "execution_count": 35,
   "id": "d49cfba8",
   "metadata": {},
   "outputs": [
    {
     "data": {
      "text/plain": [
       "0      Documents/262636\n",
       "1      Documents/259873\n",
       "7      Documents/265537\n",
       "18     Documents/265783\n",
       "57     Documents/262470\n",
       "58     Documents/258530\n",
       "60     Documents/262177\n",
       "71     Documents/257444\n",
       "127       Documents/926\n",
       "128    Documents/262754\n",
       "Name: source_doc_id, dtype: object"
      ]
     },
     "execution_count": 35,
     "metadata": {},
     "output_type": "execute_result"
    }
   ],
   "source": [
    "a.source_doc_id.drop_duplicates()"
   ]
  },
  {
   "cell_type": "code",
   "execution_count": null,
   "id": "4ea9cba3",
   "metadata": {},
   "outputs": [],
   "source": []
  }
 ],
 "metadata": {
  "kernelspec": {
   "display_name": "Python 3 (ipykernel)",
   "language": "python",
   "name": "python3"
  },
  "language_info": {
   "codemirror_mode": {
    "name": "ipython",
    "version": 3
   },
   "file_extension": ".py",
   "mimetype": "text/x-python",
   "name": "python",
   "nbconvert_exporter": "python",
   "pygments_lexer": "ipython3",
   "version": "3.8.10"
  }
 },
 "nbformat": 4,
 "nbformat_minor": 5
}
