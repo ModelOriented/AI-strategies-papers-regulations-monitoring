{
 "cells": [
  {
   "cell_type": "code",
   "execution_count": 1,
   "id": "d5f8a029",
   "metadata": {},
   "outputs": [],
   "source": [
    "import os\n",
    "os.chdir('../..')"
   ]
  },
  {
   "cell_type": "code",
   "execution_count": 158,
   "id": "6c1ff981",
   "metadata": {},
   "outputs": [
    {
     "name": "stdout",
     "output_type": "stream",
     "text": [
      "The autoreload extension is already loaded. To reload it, use:\n",
      "  %reload_ext autoreload\n"
     ]
    }
   ],
   "source": [
    "%load_ext autoreload\n",
    "%autoreload 2\n",
    "\n",
    "import sklearn.model_selection\n",
    "import pandas as pd\n",
    "from sklearn.metrics import accuracy_score\n",
    "from flair.models import TARSClassifier"
   ]
  },
  {
   "cell_type": "code",
   "execution_count": 95,
   "id": "8f5fdb51",
   "metadata": {},
   "outputs": [],
   "source": [
    "df = pd.read_json('data/papers_dbpedia_affiliations.json', orient='index', convert_dates=False, convert_axes=False)\n",
    "df = df[df['manually_annotated']]\n",
    "df['affs'] = df.affiliations.apply(lambda a: list(zip(a['names'], a['types'])))"
   ]
  },
  {
   "cell_type": "code",
   "execution_count": 96,
   "id": "7949d119",
   "metadata": {},
   "outputs": [],
   "source": [
    "df_parsed = df.explode('affs')\n",
    "df_parsed = df_parsed['affs'].apply(pd.Series)\n",
    "df_parsed = df_parsed.dropna()\n",
    "\n",
    "X, y = df_parsed[0], df_parsed[1]\n",
    "y = y.replace('nonprofit', 'academic')"
   ]
  },
  {
   "cell_type": "code",
   "execution_count": 103,
   "id": "965eea0a",
   "metadata": {},
   "outputs": [],
   "source": [
    "X_train, X_test, y_train, y_test = sklearn.model_selection.train_test_split(X, y, train_size=.3, stratify=y, random_state=123)"
   ]
  },
  {
   "cell_type": "code",
   "execution_count": 154,
   "id": "bbf0d34c",
   "metadata": {},
   "outputs": [
    {
     "name": "stdout",
     "output_type": "stream",
     "text": [
      "2022-01-08 19:28:15,095 loading file /home/sgizinski/.flair/models/tars-base-v8.pt\n"
     ]
    }
   ],
   "source": [
    "from flair.models import TARSClassifier\n",
    "from flair.data import Sentence\n",
    "\n",
    "tars_zero_shot = TARSClassifier.load('tars-base')\n",
    "tars_zero_shot.add_and_switch_to_new_task(\"ACADEMIC_COMPANY\", label_dictionary=classes,label_type='affiliation', multi_label=False)                  \n",
    "\n",
    "def predict_zero_shot(texts, classes):\n",
    "    prepared = texts.apply(Sentence)\n",
    "    for text in prepared:\n",
    "        tars_zero_shot.predict(text,label_threshold=0.0)\n",
    "    return prepared\n",
    "\n",
    "\n",
    "def get_predictions(sentences: pd.Series):\n",
    "    labels = sentences.apply(lambda s: sorted(s.labels, key=lambda l: l.score, reverse=True)[0].value)\n",
    "    scores = sentences.apply(lambda s: sorted(s.labels, key=lambda l: l.score, reverse=True)[0].score)\n",
    "    \n",
    "    return labels, scores\n",
    "\n",
    "\n",
    "classes = list(y.drop_duplicates())"
   ]
  },
  {
   "cell_type": "code",
   "execution_count": 159,
   "id": "10212c54",
   "metadata": {},
   "outputs": [],
   "source": [
    "sentences = predict_zero_shot(X_test, classes)\n",
    "pred, scores = get_predictions(sentences)\n",
    "acc = accuracy_score(y_test, pred)"
   ]
  },
  {
   "cell_type": "code",
   "execution_count": 165,
   "id": "e8c8bef9",
   "metadata": {},
   "outputs": [
    {
     "data": {
      "text/plain": [
       "0.9375"
      ]
     },
     "execution_count": 165,
     "metadata": {},
     "output_type": "execute_result"
    }
   ],
   "source": [
    "acc"
   ]
  },
  {
   "cell_type": "code",
   "execution_count": 162,
   "id": "3f60e57e",
   "metadata": {},
   "outputs": [
    {
     "data": {
      "text/plain": [
       "1909.03723    academic\n",
       "2009.07708    academic\n",
       "2009.09072     company\n",
       "1807.10478    academic\n",
       "1509.06321    academic\n",
       "                ...   \n",
       "2003.01504    academic\n",
       "1909.02827     company\n",
       "1907.05131    academic\n",
       "1706.09773    academic\n",
       "2004.08886    academic\n",
       "Name: 1, Length: 64, dtype: object"
      ]
     },
     "execution_count": 162,
     "metadata": {},
     "output_type": "execute_result"
    }
   ],
   "source": [
    "y_test"
   ]
  },
  {
   "cell_type": "code",
   "execution_count": 163,
   "id": "c19479b2",
   "metadata": {},
   "outputs": [
    {
     "data": {
      "text/plain": [
       "1909.03723    academic\n",
       "2009.07708    academic\n",
       "2009.09072     company\n",
       "1807.10478    academic\n",
       "1509.06321    academic\n",
       "                ...   \n",
       "2003.01504    academic\n",
       "1909.02827     company\n",
       "1907.05131     company\n",
       "1706.09773    academic\n",
       "2004.08886    academic\n",
       "Name: 0, Length: 64, dtype: object"
      ]
     },
     "execution_count": 163,
     "metadata": {},
     "output_type": "execute_result"
    }
   ],
   "source": [
    "pred"
   ]
  },
  {
   "cell_type": "markdown",
   "id": "430a2f4f",
   "metadata": {},
   "source": [
    "# TODO: porównać z metodami opartymi o \n",
    "* słowa kluczowe (university, etc.)\n",
    "* maile\n",
    "* co tam jeszcze było\n"
   ]
  }
 ],
 "metadata": {
  "kernelspec": {
   "display_name": "Python 3 (ipykernel)",
   "language": "python",
   "name": "python3"
  },
  "language_info": {
   "codemirror_mode": {
    "name": "ipython",
    "version": 3
   },
   "file_extension": ".py",
   "mimetype": "text/x-python",
   "name": "python",
   "nbconvert_exporter": "python",
   "pygments_lexer": "ipython3",
   "version": "3.8.10"
  }
 },
 "nbformat": 4,
 "nbformat_minor": 5
}
